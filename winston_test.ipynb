{
 "cells": [
  {
   "cell_type": "code",
   "execution_count": 2,
   "metadata": {},
   "outputs": [],
   "source": [
    "%load_ext autoreload\n",
    "%autoreload 2"
   ]
  },
  {
   "cell_type": "code",
   "execution_count": 7,
   "metadata": {},
   "outputs": [],
   "source": [
    "import os\n",
    "\n",
    "import numpy as np\n",
    "import pandas as pd\n",
    "import cvxpy as cp\n",
    "\n",
    "from utils.setup_problem import Setup"
   ]
  },
  {
   "cell_type": "code",
   "execution_count": 8,
   "metadata": {},
   "outputs": [],
   "source": [
    "data_dir_path = './inputs/winston2'\n",
    "\n",
    "file_list = os.listdir(data_dir_path)\n",
    "\n",
    "L_files = [filename.split('.csv')[0] for filename in file_list \n",
    "           if filename.startswith('L') and filename.endswith('.csv')]\n",
    "\n",
    "U_files = [filename.split('.csv')[0] for filename in file_list \n",
    "           if filename.startswith('U') and filename.endswith('.csv')]\n",
    "\n",
    "file_names_dict = {\n",
    "    'supervised': L_files,\n",
    "    'unsupervised': U_files,\n",
    "    'rule': ['rules_2']\n",
    "}\n",
    "\n"
   ]
  },
  {
   "cell_type": "code",
   "execution_count": 11,
   "metadata": {},
   "outputs": [],
   "source": [
    "problem_instance = Setup(data_dir_path, file_names_dict)"
   ]
  },
  {
   "cell_type": "code",
   "execution_count": 12,
   "metadata": {},
   "outputs": [
    {
     "name": "stdout",
     "output_type": "stream",
     "text": [
      "Loading data ...\n",
      "Done\n",
      "\n",
      "Loading rules ...\n",
      "Done\n",
      "\n",
      "Identifying predicates ...\n",
      "Done\n",
      "\n",
      "Constructing objective function ...\n",
      "Done\n",
      "\n",
      "Constructing constraints ...\n",
      "[['¬', Expression(AFFINE, UNKNOWN, ()), '⊕', Expression(AFFINE, UNKNOWN, ())], ['¬', Expression(AFFINE, UNKNOWN, ()), '⊕', Expression(AFFINE, UNKNOWN, ())], ['¬', Expression(AFFINE, UNKNOWN, ()), '⊕', Expression(AFFINE, UNKNOWN, ())], ['¬', Expression(AFFINE, UNKNOWN, ()), '⊕', Expression(AFFINE, UNKNOWN, ())], ['¬', Expression(AFFINE, UNKNOWN, ()), '¬', '⊗', '¬', Expression(AFFINE, UNKNOWN, ()), '⊕', Expression(AFFINE, UNKNOWN, ())], ['¬', Expression(AFFINE, UNKNOWN, ()), '¬', '⊗', '¬', Expression(AFFINE, UNKNOWN, ()), '¬', '⊗', '¬', Expression(AFFINE, UNKNOWN, ()), '¬', '⊗', '¬', Expression(AFFINE, UNKNOWN, ()), '⊕', Expression(AFFINE, UNKNOWN, ())], ['¬', Expression(AFFINE, UNKNOWN, ()), '¬', '⊗', '¬', Expression(AFFINE, UNKNOWN, ()), '⊕', Expression(AFFINE, UNKNOWN, ())], ['¬', Expression(AFFINE, UNKNOWN, ()), '¬', '⊗', '¬', Expression(AFFINE, UNKNOWN, ()), '⊕', Expression(AFFINE, UNKNOWN, ())], ['¬', Expression(AFFINE, UNKNOWN, ()), '¬', '⊗', '¬', Expression(AFFINE, UNKNOWN, ()), '¬', '⊗', '¬', Expression(AFFINE, UNKNOWN, ()), '⊕', Expression(AFFINE, UNKNOWN, ())], ['¬', Expression(AFFINE, UNKNOWN, ()), '¬', '⊗', '¬', Expression(AFFINE, UNKNOWN, ()), '¬', '⊗', '¬', Expression(AFFINE, UNKNOWN, ()), '⊕', Expression(AFFINE, UNKNOWN, ())], ['¬', Expression(AFFINE, UNKNOWN, ()), '¬', '⊗', '¬', Expression(AFFINE, UNKNOWN, ()), '¬', '⊗', '¬', Expression(AFFINE, UNKNOWN, ()), '¬', '⊗', '¬', Expression(AFFINE, UNKNOWN, ()), '¬', '⊗', '¬', Expression(AFFINE, UNKNOWN, ()), '⊕', Expression(AFFINE, UNKNOWN, ())], ['¬', Expression(AFFINE, UNKNOWN, ()), '¬', '⊗', '¬', Expression(AFFINE, UNKNOWN, ()), '¬', '⊗', '¬', Expression(AFFINE, UNKNOWN, ()), '⊕', Expression(AFFINE, UNKNOWN, ())], ['¬', Expression(AFFINE, UNKNOWN, ()), '¬', '⊗', '¬', Expression(AFFINE, UNKNOWN, ()), '¬', '⊗', '¬', Expression(AFFINE, UNKNOWN, ()), '¬', '⊗', '¬', Expression(AFFINE, UNKNOWN, ()), '⊕', Expression(AFFINE, UNKNOWN, ())], ['¬', Expression(AFFINE, UNKNOWN, ()), '¬', '⊗', '¬', Expression(AFFINE, UNKNOWN, ()), '¬', '⊗', '¬', Expression(AFFINE, UNKNOWN, ()), '⊕', Expression(AFFINE, UNKNOWN, ())], ['¬', Expression(AFFINE, UNKNOWN, ()), '¬', '⊗', '¬', Expression(AFFINE, UNKNOWN, ()), '⊕', Expression(AFFINE, UNKNOWN, ())], [Expression(AFFINE, UNKNOWN, ()), '⊕', Expression(AFFINE, UNKNOWN, ()), '⊕', Expression(AFFINE, UNKNOWN, ()), '⊕', Expression(AFFINE, UNKNOWN, ()), '⊕', Expression(AFFINE, UNKNOWN, ()), '⊕', Expression(AFFINE, UNKNOWN, ()), '⊕', Expression(AFFINE, UNKNOWN, ())], [Expression(AFFINE, UNKNOWN, ()), '⊕', Expression(AFFINE, UNKNOWN, ())], [Expression(AFFINE, UNKNOWN, ()), '⊕', Expression(AFFINE, UNKNOWN, ())], ['¬', Expression(AFFINE, UNKNOWN, ()), '⊕', '¬', Expression(AFFINE, UNKNOWN, ())], ['¬', Expression(AFFINE, UNKNOWN, ()), '⊕', '¬', Expression(AFFINE, UNKNOWN, ())], ['¬', Expression(AFFINE, UNKNOWN, ()), '⊕', '¬', Expression(AFFINE, UNKNOWN, ())], ['¬', Expression(AFFINE, UNKNOWN, ()), '⊕', '¬', Expression(AFFINE, UNKNOWN, ())], ['¬', Expression(AFFINE, UNKNOWN, ()), '⊕', '¬', Expression(AFFINE, UNKNOWN, ())], ['¬', Expression(AFFINE, UNKNOWN, ()), '⊕', '¬', Expression(AFFINE, UNKNOWN, ())], ['¬', Expression(AFFINE, UNKNOWN, ()), '⊕', '¬', Expression(AFFINE, UNKNOWN, ())], ['¬', Expression(AFFINE, UNKNOWN, ()), '⊕', '¬', Expression(AFFINE, UNKNOWN, ())], ['¬', Expression(AFFINE, UNKNOWN, ()), '⊕', '¬', Expression(AFFINE, UNKNOWN, ())], ['¬', Expression(AFFINE, UNKNOWN, ()), '⊕', '¬', Expression(AFFINE, UNKNOWN, ())], ['¬', Expression(AFFINE, UNKNOWN, ()), '⊕', '¬', Expression(AFFINE, UNKNOWN, ())], ['¬', Expression(AFFINE, UNKNOWN, ()), '⊕', '¬', Expression(AFFINE, UNKNOWN, ())], ['¬', Expression(AFFINE, UNKNOWN, ()), '⊕', '¬', Expression(AFFINE, UNKNOWN, ())], ['¬', Expression(AFFINE, UNKNOWN, ()), '⊕', '¬', Expression(AFFINE, UNKNOWN, ())]]\n",
      "[['¬', Expression(AFFINE, UNKNOWN, ()), '⊕', Expression(AFFINE, UNKNOWN, ())], ['¬', Expression(AFFINE, UNKNOWN, ()), '⊕', Expression(AFFINE, UNKNOWN, ())], ['¬', Expression(AFFINE, UNKNOWN, ()), '⊕', Expression(AFFINE, UNKNOWN, ())], ['¬', Expression(AFFINE, UNKNOWN, ()), '⊕', Expression(AFFINE, UNKNOWN, ())], ['¬', Expression(AFFINE, UNKNOWN, ()), '¬', '⊗', '¬', Expression(AFFINE, UNKNOWN, ()), '⊕', Expression(AFFINE, UNKNOWN, ())], ['¬', Expression(AFFINE, UNKNOWN, ()), '¬', '⊗', '¬', Expression(AFFINE, UNKNOWN, ()), '¬', '⊗', '¬', Expression(AFFINE, UNKNOWN, ()), '¬', '⊗', '¬', Expression(AFFINE, UNKNOWN, ()), '⊕', Expression(AFFINE, UNKNOWN, ())], ['¬', Expression(AFFINE, UNKNOWN, ()), '¬', '⊗', '¬', Expression(AFFINE, UNKNOWN, ()), '⊕', Expression(AFFINE, UNKNOWN, ())], ['¬', Expression(AFFINE, UNKNOWN, ()), '¬', '⊗', '¬', Expression(AFFINE, UNKNOWN, ()), '⊕', Expression(AFFINE, UNKNOWN, ())], ['¬', Expression(AFFINE, UNKNOWN, ()), '¬', '⊗', '¬', Expression(AFFINE, UNKNOWN, ()), '¬', '⊗', '¬', Expression(AFFINE, UNKNOWN, ()), '⊕', Expression(AFFINE, UNKNOWN, ())], ['¬', Expression(AFFINE, UNKNOWN, ()), '¬', '⊗', '¬', Expression(AFFINE, UNKNOWN, ()), '¬', '⊗', '¬', Expression(AFFINE, UNKNOWN, ()), '⊕', Expression(AFFINE, UNKNOWN, ())], ['¬', Expression(AFFINE, UNKNOWN, ()), '¬', '⊗', '¬', Expression(AFFINE, UNKNOWN, ()), '¬', '⊗', '¬', Expression(AFFINE, UNKNOWN, ()), '¬', '⊗', '¬', Expression(AFFINE, UNKNOWN, ()), '¬', '⊗', '¬', Expression(AFFINE, UNKNOWN, ()), '⊕', Expression(AFFINE, UNKNOWN, ())], ['¬', Expression(AFFINE, UNKNOWN, ()), '¬', '⊗', '¬', Expression(AFFINE, UNKNOWN, ()), '¬', '⊗', '¬', Expression(AFFINE, UNKNOWN, ()), '⊕', Expression(AFFINE, UNKNOWN, ())], ['¬', Expression(AFFINE, UNKNOWN, ()), '¬', '⊗', '¬', Expression(AFFINE, UNKNOWN, ()), '¬', '⊗', '¬', Expression(AFFINE, UNKNOWN, ()), '¬', '⊗', '¬', Expression(AFFINE, UNKNOWN, ()), '⊕', Expression(AFFINE, UNKNOWN, ())], ['¬', Expression(AFFINE, UNKNOWN, ()), '¬', '⊗', '¬', Expression(AFFINE, UNKNOWN, ()), '¬', '⊗', '¬', Expression(AFFINE, UNKNOWN, ()), '⊕', Expression(AFFINE, UNKNOWN, ())], ['¬', Expression(AFFINE, UNKNOWN, ()), '¬', '⊗', '¬', Expression(AFFINE, UNKNOWN, ()), '⊕', Expression(AFFINE, UNKNOWN, ())], [Expression(AFFINE, UNKNOWN, ()), '⊕', Expression(AFFINE, UNKNOWN, ()), '⊕', Expression(AFFINE, UNKNOWN, ()), '⊕', Expression(AFFINE, UNKNOWN, ()), '⊕', Expression(AFFINE, UNKNOWN, ()), '⊕', Expression(AFFINE, UNKNOWN, ()), '⊕', Expression(AFFINE, UNKNOWN, ())], [Expression(AFFINE, UNKNOWN, ()), '⊕', Expression(AFFINE, UNKNOWN, ())], [Expression(AFFINE, UNKNOWN, ()), '⊕', Expression(AFFINE, UNKNOWN, ())], ['¬', Expression(AFFINE, UNKNOWN, ()), '⊕', '¬', Expression(AFFINE, UNKNOWN, ())], ['¬', Expression(AFFINE, UNKNOWN, ()), '⊕', '¬', Expression(AFFINE, UNKNOWN, ())], ['¬', Expression(AFFINE, UNKNOWN, ()), '⊕', '¬', Expression(AFFINE, UNKNOWN, ())], ['¬', Expression(AFFINE, UNKNOWN, ()), '⊕', '¬', Expression(AFFINE, UNKNOWN, ())], ['¬', Expression(AFFINE, UNKNOWN, ()), '⊕', '¬', Expression(AFFINE, UNKNOWN, ())], ['¬', Expression(AFFINE, UNKNOWN, ()), '⊕', '¬', Expression(AFFINE, UNKNOWN, ())], ['¬', Expression(AFFINE, UNKNOWN, ()), '⊕', '¬', Expression(AFFINE, UNKNOWN, ())], ['¬', Expression(AFFINE, UNKNOWN, ()), '⊕', '¬', Expression(AFFINE, UNKNOWN, ())], ['¬', Expression(AFFINE, UNKNOWN, ()), '⊕', '¬', Expression(AFFINE, UNKNOWN, ())], ['¬', Expression(AFFINE, UNKNOWN, ()), '⊕', '¬', Expression(AFFINE, UNKNOWN, ())], ['¬', Expression(AFFINE, UNKNOWN, ()), '⊕', '¬', Expression(AFFINE, UNKNOWN, ())], ['¬', Expression(AFFINE, UNKNOWN, ()), '⊕', '¬', Expression(AFFINE, UNKNOWN, ())], ['¬', Expression(AFFINE, UNKNOWN, ()), '⊕', '¬', Expression(AFFINE, UNKNOWN, ())], ['¬', Expression(AFFINE, UNKNOWN, ()), '⊕', '¬', Expression(AFFINE, UNKNOWN, ())]]\n",
      "[['¬', Expression(AFFINE, UNKNOWN, ()), '⊕', Expression(AFFINE, UNKNOWN, ())], ['¬', Expression(AFFINE, UNKNOWN, ()), '⊕', Expression(AFFINE, UNKNOWN, ())], ['¬', Expression(AFFINE, UNKNOWN, ()), '⊕', Expression(AFFINE, UNKNOWN, ())], ['¬', Expression(AFFINE, UNKNOWN, ()), '⊕', Expression(AFFINE, UNKNOWN, ())], ['¬', Expression(AFFINE, UNKNOWN, ()), '¬', '⊗', '¬', Expression(AFFINE, UNKNOWN, ()), '⊕', Expression(AFFINE, UNKNOWN, ())], ['¬', Expression(AFFINE, UNKNOWN, ()), '¬', '⊗', '¬', Expression(AFFINE, UNKNOWN, ()), '¬', '⊗', '¬', Expression(AFFINE, UNKNOWN, ()), '¬', '⊗', '¬', Expression(AFFINE, UNKNOWN, ()), '⊕', Expression(AFFINE, UNKNOWN, ())], ['¬', Expression(AFFINE, UNKNOWN, ()), '¬', '⊗', '¬', Expression(AFFINE, UNKNOWN, ()), '⊕', Expression(AFFINE, UNKNOWN, ())], ['¬', Expression(AFFINE, UNKNOWN, ()), '¬', '⊗', '¬', Expression(AFFINE, UNKNOWN, ()), '⊕', Expression(AFFINE, UNKNOWN, ())], ['¬', Expression(AFFINE, UNKNOWN, ()), '¬', '⊗', '¬', Expression(AFFINE, UNKNOWN, ()), '¬', '⊗', '¬', Expression(AFFINE, UNKNOWN, ()), '⊕', Expression(AFFINE, UNKNOWN, ())], ['¬', Expression(AFFINE, UNKNOWN, ()), '¬', '⊗', '¬', Expression(AFFINE, UNKNOWN, ()), '¬', '⊗', '¬', Expression(AFFINE, UNKNOWN, ()), '⊕', Expression(AFFINE, UNKNOWN, ())], ['¬', Expression(AFFINE, UNKNOWN, ()), '¬', '⊗', '¬', Expression(AFFINE, UNKNOWN, ()), '¬', '⊗', '¬', Expression(AFFINE, UNKNOWN, ()), '¬', '⊗', '¬', Expression(AFFINE, UNKNOWN, ()), '¬', '⊗', '¬', Expression(AFFINE, UNKNOWN, ()), '⊕', Expression(AFFINE, UNKNOWN, ())], ['¬', Expression(AFFINE, UNKNOWN, ()), '¬', '⊗', '¬', Expression(AFFINE, UNKNOWN, ()), '¬', '⊗', '¬', Expression(AFFINE, UNKNOWN, ()), '⊕', Expression(AFFINE, UNKNOWN, ())], ['¬', Expression(AFFINE, UNKNOWN, ()), '¬', '⊗', '¬', Expression(AFFINE, UNKNOWN, ()), '¬', '⊗', '¬', Expression(AFFINE, UNKNOWN, ()), '¬', '⊗', '¬', Expression(AFFINE, UNKNOWN, ()), '⊕', Expression(AFFINE, UNKNOWN, ())], ['¬', Expression(AFFINE, UNKNOWN, ()), '¬', '⊗', '¬', Expression(AFFINE, UNKNOWN, ()), '¬', '⊗', '¬', Expression(AFFINE, UNKNOWN, ()), '⊕', Expression(AFFINE, UNKNOWN, ())], ['¬', Expression(AFFINE, UNKNOWN, ()), '¬', '⊗', '¬', Expression(AFFINE, UNKNOWN, ()), '⊕', Expression(AFFINE, UNKNOWN, ())], [Expression(AFFINE, UNKNOWN, ()), '⊕', Expression(AFFINE, UNKNOWN, ()), '⊕', Expression(AFFINE, UNKNOWN, ()), '⊕', Expression(AFFINE, UNKNOWN, ()), '⊕', Expression(AFFINE, UNKNOWN, ()), '⊕', Expression(AFFINE, UNKNOWN, ()), '⊕', Expression(AFFINE, UNKNOWN, ())], [Expression(AFFINE, UNKNOWN, ()), '⊕', Expression(AFFINE, UNKNOWN, ())], [Expression(AFFINE, UNKNOWN, ()), '⊕', Expression(AFFINE, UNKNOWN, ())], ['¬', Expression(AFFINE, UNKNOWN, ()), '⊕', '¬', Expression(AFFINE, UNKNOWN, ())], ['¬', Expression(AFFINE, UNKNOWN, ()), '⊕', '¬', Expression(AFFINE, UNKNOWN, ())], ['¬', Expression(AFFINE, UNKNOWN, ()), '⊕', '¬', Expression(AFFINE, UNKNOWN, ())], ['¬', Expression(AFFINE, UNKNOWN, ()), '⊕', '¬', Expression(AFFINE, UNKNOWN, ())], ['¬', Expression(AFFINE, UNKNOWN, ()), '⊕', '¬', Expression(AFFINE, UNKNOWN, ())], ['¬', Expression(AFFINE, UNKNOWN, ()), '⊕', '¬', Expression(AFFINE, UNKNOWN, ())], ['¬', Expression(AFFINE, UNKNOWN, ()), '⊕', '¬', Expression(AFFINE, UNKNOWN, ())], ['¬', Expression(AFFINE, UNKNOWN, ()), '⊕', '¬', Expression(AFFINE, UNKNOWN, ())], ['¬', Expression(AFFINE, UNKNOWN, ()), '⊕', '¬', Expression(AFFINE, UNKNOWN, ())], ['¬', Expression(AFFINE, UNKNOWN, ()), '⊕', '¬', Expression(AFFINE, UNKNOWN, ())], ['¬', Expression(AFFINE, UNKNOWN, ()), '⊕', '¬', Expression(AFFINE, UNKNOWN, ())], ['¬', Expression(AFFINE, UNKNOWN, ()), '⊕', '¬', Expression(AFFINE, UNKNOWN, ())], ['¬', Expression(AFFINE, UNKNOWN, ()), '⊕', '¬', Expression(AFFINE, UNKNOWN, ())], ['¬', Expression(AFFINE, UNKNOWN, ()), '⊕', '¬', Expression(AFFINE, UNKNOWN, ())]]\n",
      "[['¬', Expression(AFFINE, UNKNOWN, ()), '⊕', Expression(AFFINE, UNKNOWN, ())], ['¬', Expression(AFFINE, UNKNOWN, ()), '⊕', Expression(AFFINE, UNKNOWN, ())], ['¬', Expression(AFFINE, UNKNOWN, ()), '⊕', Expression(AFFINE, UNKNOWN, ())], ['¬', Expression(AFFINE, UNKNOWN, ()), '⊕', Expression(AFFINE, UNKNOWN, ())], ['¬', Expression(AFFINE, UNKNOWN, ()), '¬', '⊗', '¬', Expression(AFFINE, UNKNOWN, ()), '⊕', Expression(AFFINE, UNKNOWN, ())], ['¬', Expression(AFFINE, UNKNOWN, ()), '¬', '⊗', '¬', Expression(AFFINE, UNKNOWN, ()), '¬', '⊗', '¬', Expression(AFFINE, UNKNOWN, ()), '¬', '⊗', '¬', Expression(AFFINE, UNKNOWN, ()), '⊕', Expression(AFFINE, UNKNOWN, ())], ['¬', Expression(AFFINE, UNKNOWN, ()), '¬', '⊗', '¬', Expression(AFFINE, UNKNOWN, ()), '⊕', Expression(AFFINE, UNKNOWN, ())], ['¬', Expression(AFFINE, UNKNOWN, ()), '¬', '⊗', '¬', Expression(AFFINE, UNKNOWN, ()), '⊕', Expression(AFFINE, UNKNOWN, ())], ['¬', Expression(AFFINE, UNKNOWN, ()), '¬', '⊗', '¬', Expression(AFFINE, UNKNOWN, ()), '¬', '⊗', '¬', Expression(AFFINE, UNKNOWN, ()), '⊕', Expression(AFFINE, UNKNOWN, ())], ['¬', Expression(AFFINE, UNKNOWN, ()), '¬', '⊗', '¬', Expression(AFFINE, UNKNOWN, ()), '¬', '⊗', '¬', Expression(AFFINE, UNKNOWN, ()), '⊕', Expression(AFFINE, UNKNOWN, ())], ['¬', Expression(AFFINE, UNKNOWN, ()), '¬', '⊗', '¬', Expression(AFFINE, UNKNOWN, ()), '¬', '⊗', '¬', Expression(AFFINE, UNKNOWN, ()), '¬', '⊗', '¬', Expression(AFFINE, UNKNOWN, ()), '¬', '⊗', '¬', Expression(AFFINE, UNKNOWN, ()), '⊕', Expression(AFFINE, UNKNOWN, ())], ['¬', Expression(AFFINE, UNKNOWN, ()), '¬', '⊗', '¬', Expression(AFFINE, UNKNOWN, ()), '¬', '⊗', '¬', Expression(AFFINE, UNKNOWN, ()), '⊕', Expression(AFFINE, UNKNOWN, ())], ['¬', Expression(AFFINE, UNKNOWN, ()), '¬', '⊗', '¬', Expression(AFFINE, UNKNOWN, ()), '¬', '⊗', '¬', Expression(AFFINE, UNKNOWN, ()), '¬', '⊗', '¬', Expression(AFFINE, UNKNOWN, ()), '⊕', Expression(AFFINE, UNKNOWN, ())], ['¬', Expression(AFFINE, UNKNOWN, ()), '¬', '⊗', '¬', Expression(AFFINE, UNKNOWN, ()), '¬', '⊗', '¬', Expression(AFFINE, UNKNOWN, ()), '⊕', Expression(AFFINE, UNKNOWN, ())], ['¬', Expression(AFFINE, UNKNOWN, ()), '¬', '⊗', '¬', Expression(AFFINE, UNKNOWN, ()), '⊕', Expression(AFFINE, UNKNOWN, ())], [Expression(AFFINE, UNKNOWN, ()), '⊕', Expression(AFFINE, UNKNOWN, ()), '⊕', Expression(AFFINE, UNKNOWN, ()), '⊕', Expression(AFFINE, UNKNOWN, ()), '⊕', Expression(AFFINE, UNKNOWN, ()), '⊕', Expression(AFFINE, UNKNOWN, ()), '⊕', Expression(AFFINE, UNKNOWN, ())], [Expression(AFFINE, UNKNOWN, ()), '⊕', Expression(AFFINE, UNKNOWN, ())], [Expression(AFFINE, UNKNOWN, ()), '⊕', Expression(AFFINE, UNKNOWN, ())], ['¬', Expression(AFFINE, UNKNOWN, ()), '⊕', '¬', Expression(AFFINE, UNKNOWN, ())], ['¬', Expression(AFFINE, UNKNOWN, ()), '⊕', '¬', Expression(AFFINE, UNKNOWN, ())], ['¬', Expression(AFFINE, UNKNOWN, ()), '⊕', '¬', Expression(AFFINE, UNKNOWN, ())], ['¬', Expression(AFFINE, UNKNOWN, ()), '⊕', '¬', Expression(AFFINE, UNKNOWN, ())], ['¬', Expression(AFFINE, UNKNOWN, ()), '⊕', '¬', Expression(AFFINE, UNKNOWN, ())], ['¬', Expression(AFFINE, UNKNOWN, ()), '⊕', '¬', Expression(AFFINE, UNKNOWN, ())], ['¬', Expression(AFFINE, UNKNOWN, ()), '⊕', '¬', Expression(AFFINE, UNKNOWN, ())], ['¬', Expression(AFFINE, UNKNOWN, ()), '⊕', '¬', Expression(AFFINE, UNKNOWN, ())], ['¬', Expression(AFFINE, UNKNOWN, ()), '⊕', '¬', Expression(AFFINE, UNKNOWN, ())], ['¬', Expression(AFFINE, UNKNOWN, ()), '⊕', '¬', Expression(AFFINE, UNKNOWN, ())], ['¬', Expression(AFFINE, UNKNOWN, ()), '⊕', '¬', Expression(AFFINE, UNKNOWN, ())], ['¬', Expression(AFFINE, UNKNOWN, ()), '⊕', '¬', Expression(AFFINE, UNKNOWN, ())], ['¬', Expression(AFFINE, UNKNOWN, ()), '⊕', '¬', Expression(AFFINE, UNKNOWN, ())], ['¬', Expression(AFFINE, UNKNOWN, ()), '⊕', '¬', Expression(AFFINE, UNKNOWN, ())]]\n",
      "[['¬', Expression(AFFINE, UNKNOWN, ()), '⊕', Expression(AFFINE, UNKNOWN, ())], ['¬', Expression(AFFINE, UNKNOWN, ()), '⊕', Expression(AFFINE, UNKNOWN, ())], ['¬', Expression(AFFINE, UNKNOWN, ()), '⊕', Expression(AFFINE, UNKNOWN, ())], ['¬', Expression(AFFINE, UNKNOWN, ()), '⊕', Expression(AFFINE, UNKNOWN, ())], ['¬', Expression(AFFINE, UNKNOWN, ()), '¬', '⊗', '¬', Expression(AFFINE, UNKNOWN, ()), '⊕', Expression(AFFINE, UNKNOWN, ())], ['¬', Expression(AFFINE, UNKNOWN, ()), '¬', '⊗', '¬', Expression(AFFINE, UNKNOWN, ()), '¬', '⊗', '¬', Expression(AFFINE, UNKNOWN, ()), '¬', '⊗', '¬', Expression(AFFINE, UNKNOWN, ()), '⊕', Expression(AFFINE, UNKNOWN, ())], ['¬', Expression(AFFINE, UNKNOWN, ()), '¬', '⊗', '¬', Expression(AFFINE, UNKNOWN, ()), '⊕', Expression(AFFINE, UNKNOWN, ())], ['¬', Expression(AFFINE, UNKNOWN, ()), '¬', '⊗', '¬', Expression(AFFINE, UNKNOWN, ()), '⊕', Expression(AFFINE, UNKNOWN, ())], ['¬', Expression(AFFINE, UNKNOWN, ()), '¬', '⊗', '¬', Expression(AFFINE, UNKNOWN, ()), '¬', '⊗', '¬', Expression(AFFINE, UNKNOWN, ()), '⊕', Expression(AFFINE, UNKNOWN, ())], ['¬', Expression(AFFINE, UNKNOWN, ()), '¬', '⊗', '¬', Expression(AFFINE, UNKNOWN, ()), '¬', '⊗', '¬', Expression(AFFINE, UNKNOWN, ()), '⊕', Expression(AFFINE, UNKNOWN, ())], ['¬', Expression(AFFINE, UNKNOWN, ()), '¬', '⊗', '¬', Expression(AFFINE, UNKNOWN, ()), '¬', '⊗', '¬', Expression(AFFINE, UNKNOWN, ()), '¬', '⊗', '¬', Expression(AFFINE, UNKNOWN, ()), '¬', '⊗', '¬', Expression(AFFINE, UNKNOWN, ()), '⊕', Expression(AFFINE, UNKNOWN, ())], ['¬', Expression(AFFINE, UNKNOWN, ()), '¬', '⊗', '¬', Expression(AFFINE, UNKNOWN, ()), '¬', '⊗', '¬', Expression(AFFINE, UNKNOWN, ()), '⊕', Expression(AFFINE, UNKNOWN, ())], ['¬', Expression(AFFINE, UNKNOWN, ()), '¬', '⊗', '¬', Expression(AFFINE, UNKNOWN, ()), '¬', '⊗', '¬', Expression(AFFINE, UNKNOWN, ()), '¬', '⊗', '¬', Expression(AFFINE, UNKNOWN, ()), '⊕', Expression(AFFINE, UNKNOWN, ())], ['¬', Expression(AFFINE, UNKNOWN, ()), '¬', '⊗', '¬', Expression(AFFINE, UNKNOWN, ()), '¬', '⊗', '¬', Expression(AFFINE, UNKNOWN, ()), '⊕', Expression(AFFINE, UNKNOWN, ())], ['¬', Expression(AFFINE, UNKNOWN, ()), '¬', '⊗', '¬', Expression(AFFINE, UNKNOWN, ()), '⊕', Expression(AFFINE, UNKNOWN, ())], [Expression(AFFINE, UNKNOWN, ()), '⊕', Expression(AFFINE, UNKNOWN, ()), '⊕', Expression(AFFINE, UNKNOWN, ()), '⊕', Expression(AFFINE, UNKNOWN, ()), '⊕', Expression(AFFINE, UNKNOWN, ()), '⊕', Expression(AFFINE, UNKNOWN, ()), '⊕', Expression(AFFINE, UNKNOWN, ())], [Expression(AFFINE, UNKNOWN, ()), '⊕', Expression(AFFINE, UNKNOWN, ())], [Expression(AFFINE, UNKNOWN, ()), '⊕', Expression(AFFINE, UNKNOWN, ())], ['¬', Expression(AFFINE, UNKNOWN, ()), '⊕', '¬', Expression(AFFINE, UNKNOWN, ())], ['¬', Expression(AFFINE, UNKNOWN, ()), '⊕', '¬', Expression(AFFINE, UNKNOWN, ())], ['¬', Expression(AFFINE, UNKNOWN, ()), '⊕', '¬', Expression(AFFINE, UNKNOWN, ())], ['¬', Expression(AFFINE, UNKNOWN, ()), '⊕', '¬', Expression(AFFINE, UNKNOWN, ())], ['¬', Expression(AFFINE, UNKNOWN, ()), '⊕', '¬', Expression(AFFINE, UNKNOWN, ())], ['¬', Expression(AFFINE, UNKNOWN, ()), '⊕', '¬', Expression(AFFINE, UNKNOWN, ())], ['¬', Expression(AFFINE, UNKNOWN, ()), '⊕', '¬', Expression(AFFINE, UNKNOWN, ())], ['¬', Expression(AFFINE, UNKNOWN, ()), '⊕', '¬', Expression(AFFINE, UNKNOWN, ())], ['¬', Expression(AFFINE, UNKNOWN, ()), '⊕', '¬', Expression(AFFINE, UNKNOWN, ())], ['¬', Expression(AFFINE, UNKNOWN, ()), '⊕', '¬', Expression(AFFINE, UNKNOWN, ())], ['¬', Expression(AFFINE, UNKNOWN, ()), '⊕', '¬', Expression(AFFINE, UNKNOWN, ())], ['¬', Expression(AFFINE, UNKNOWN, ()), '⊕', '¬', Expression(AFFINE, UNKNOWN, ())], ['¬', Expression(AFFINE, UNKNOWN, ()), '⊕', '¬', Expression(AFFINE, UNKNOWN, ())], ['¬', Expression(AFFINE, UNKNOWN, ()), '⊕', '¬', Expression(AFFINE, UNKNOWN, ())]]\n",
      "[['¬', Expression(AFFINE, UNKNOWN, ()), '⊕', Expression(AFFINE, UNKNOWN, ())], ['¬', Expression(AFFINE, UNKNOWN, ()), '⊕', Expression(AFFINE, UNKNOWN, ())], ['¬', Expression(AFFINE, UNKNOWN, ()), '⊕', Expression(AFFINE, UNKNOWN, ())], ['¬', Expression(AFFINE, UNKNOWN, ()), '⊕', Expression(AFFINE, UNKNOWN, ())], ['¬', Expression(AFFINE, UNKNOWN, ()), '¬', '⊗', '¬', Expression(AFFINE, UNKNOWN, ()), '⊕', Expression(AFFINE, UNKNOWN, ())], ['¬', Expression(AFFINE, UNKNOWN, ()), '¬', '⊗', '¬', Expression(AFFINE, UNKNOWN, ()), '¬', '⊗', '¬', Expression(AFFINE, UNKNOWN, ()), '¬', '⊗', '¬', Expression(AFFINE, UNKNOWN, ()), '⊕', Expression(AFFINE, UNKNOWN, ())], ['¬', Expression(AFFINE, UNKNOWN, ()), '¬', '⊗', '¬', Expression(AFFINE, UNKNOWN, ()), '⊕', Expression(AFFINE, UNKNOWN, ())], ['¬', Expression(AFFINE, UNKNOWN, ()), '¬', '⊗', '¬', Expression(AFFINE, UNKNOWN, ()), '⊕', Expression(AFFINE, UNKNOWN, ())], ['¬', Expression(AFFINE, UNKNOWN, ()), '¬', '⊗', '¬', Expression(AFFINE, UNKNOWN, ()), '¬', '⊗', '¬', Expression(AFFINE, UNKNOWN, ()), '⊕', Expression(AFFINE, UNKNOWN, ())], ['¬', Expression(AFFINE, UNKNOWN, ()), '¬', '⊗', '¬', Expression(AFFINE, UNKNOWN, ()), '¬', '⊗', '¬', Expression(AFFINE, UNKNOWN, ()), '⊕', Expression(AFFINE, UNKNOWN, ())], ['¬', Expression(AFFINE, UNKNOWN, ()), '¬', '⊗', '¬', Expression(AFFINE, UNKNOWN, ()), '¬', '⊗', '¬', Expression(AFFINE, UNKNOWN, ()), '¬', '⊗', '¬', Expression(AFFINE, UNKNOWN, ()), '¬', '⊗', '¬', Expression(AFFINE, UNKNOWN, ()), '⊕', Expression(AFFINE, UNKNOWN, ())], ['¬', Expression(AFFINE, UNKNOWN, ()), '¬', '⊗', '¬', Expression(AFFINE, UNKNOWN, ()), '¬', '⊗', '¬', Expression(AFFINE, UNKNOWN, ()), '⊕', Expression(AFFINE, UNKNOWN, ())], ['¬', Expression(AFFINE, UNKNOWN, ()), '¬', '⊗', '¬', Expression(AFFINE, UNKNOWN, ()), '¬', '⊗', '¬', Expression(AFFINE, UNKNOWN, ()), '¬', '⊗', '¬', Expression(AFFINE, UNKNOWN, ()), '⊕', Expression(AFFINE, UNKNOWN, ())], ['¬', Expression(AFFINE, UNKNOWN, ()), '¬', '⊗', '¬', Expression(AFFINE, UNKNOWN, ()), '¬', '⊗', '¬', Expression(AFFINE, UNKNOWN, ()), '⊕', Expression(AFFINE, UNKNOWN, ())], ['¬', Expression(AFFINE, UNKNOWN, ()), '¬', '⊗', '¬', Expression(AFFINE, UNKNOWN, ()), '⊕', Expression(AFFINE, UNKNOWN, ())], [Expression(AFFINE, UNKNOWN, ()), '⊕', Expression(AFFINE, UNKNOWN, ()), '⊕', Expression(AFFINE, UNKNOWN, ()), '⊕', Expression(AFFINE, UNKNOWN, ()), '⊕', Expression(AFFINE, UNKNOWN, ()), '⊕', Expression(AFFINE, UNKNOWN, ()), '⊕', Expression(AFFINE, UNKNOWN, ())], [Expression(AFFINE, UNKNOWN, ()), '⊕', Expression(AFFINE, UNKNOWN, ())], [Expression(AFFINE, UNKNOWN, ()), '⊕', Expression(AFFINE, UNKNOWN, ())], ['¬', Expression(AFFINE, UNKNOWN, ()), '⊕', '¬', Expression(AFFINE, UNKNOWN, ())], ['¬', Expression(AFFINE, UNKNOWN, ()), '⊕', '¬', Expression(AFFINE, UNKNOWN, ())], ['¬', Expression(AFFINE, UNKNOWN, ()), '⊕', '¬', Expression(AFFINE, UNKNOWN, ())], ['¬', Expression(AFFINE, UNKNOWN, ()), '⊕', '¬', Expression(AFFINE, UNKNOWN, ())], ['¬', Expression(AFFINE, UNKNOWN, ()), '⊕', '¬', Expression(AFFINE, UNKNOWN, ())], ['¬', Expression(AFFINE, UNKNOWN, ()), '⊕', '¬', Expression(AFFINE, UNKNOWN, ())], ['¬', Expression(AFFINE, UNKNOWN, ()), '⊕', '¬', Expression(AFFINE, UNKNOWN, ())], ['¬', Expression(AFFINE, UNKNOWN, ()), '⊕', '¬', Expression(AFFINE, UNKNOWN, ())], ['¬', Expression(AFFINE, UNKNOWN, ()), '⊕', '¬', Expression(AFFINE, UNKNOWN, ())], ['¬', Expression(AFFINE, UNKNOWN, ()), '⊕', '¬', Expression(AFFINE, UNKNOWN, ())], ['¬', Expression(AFFINE, UNKNOWN, ()), '⊕', '¬', Expression(AFFINE, UNKNOWN, ())], ['¬', Expression(AFFINE, UNKNOWN, ()), '⊕', '¬', Expression(AFFINE, UNKNOWN, ())], ['¬', Expression(AFFINE, UNKNOWN, ()), '⊕', '¬', Expression(AFFINE, UNKNOWN, ())], ['¬', Expression(AFFINE, UNKNOWN, ()), '⊕', '¬', Expression(AFFINE, UNKNOWN, ())]]\n",
      "[['¬', Expression(AFFINE, UNKNOWN, ()), '⊕', Expression(AFFINE, UNKNOWN, ())], ['¬', Expression(AFFINE, UNKNOWN, ()), '⊕', Expression(AFFINE, UNKNOWN, ())], ['¬', Expression(AFFINE, UNKNOWN, ()), '⊕', Expression(AFFINE, UNKNOWN, ())], ['¬', Expression(AFFINE, UNKNOWN, ()), '⊕', Expression(AFFINE, UNKNOWN, ())], ['¬', Expression(AFFINE, UNKNOWN, ()), '¬', '⊗', '¬', Expression(AFFINE, UNKNOWN, ()), '⊕', Expression(AFFINE, UNKNOWN, ())], ['¬', Expression(AFFINE, UNKNOWN, ()), '¬', '⊗', '¬', Expression(AFFINE, UNKNOWN, ()), '¬', '⊗', '¬', Expression(AFFINE, UNKNOWN, ()), '¬', '⊗', '¬', Expression(AFFINE, UNKNOWN, ()), '⊕', Expression(AFFINE, UNKNOWN, ())], ['¬', Expression(AFFINE, UNKNOWN, ()), '¬', '⊗', '¬', Expression(AFFINE, UNKNOWN, ()), '⊕', Expression(AFFINE, UNKNOWN, ())], ['¬', Expression(AFFINE, UNKNOWN, ()), '¬', '⊗', '¬', Expression(AFFINE, UNKNOWN, ()), '⊕', Expression(AFFINE, UNKNOWN, ())], ['¬', Expression(AFFINE, UNKNOWN, ()), '¬', '⊗', '¬', Expression(AFFINE, UNKNOWN, ()), '¬', '⊗', '¬', Expression(AFFINE, UNKNOWN, ()), '⊕', Expression(AFFINE, UNKNOWN, ())], ['¬', Expression(AFFINE, UNKNOWN, ()), '¬', '⊗', '¬', Expression(AFFINE, UNKNOWN, ()), '¬', '⊗', '¬', Expression(AFFINE, UNKNOWN, ()), '⊕', Expression(AFFINE, UNKNOWN, ())], ['¬', Expression(AFFINE, UNKNOWN, ()), '¬', '⊗', '¬', Expression(AFFINE, UNKNOWN, ()), '¬', '⊗', '¬', Expression(AFFINE, UNKNOWN, ()), '¬', '⊗', '¬', Expression(AFFINE, UNKNOWN, ()), '¬', '⊗', '¬', Expression(AFFINE, UNKNOWN, ()), '⊕', Expression(AFFINE, UNKNOWN, ())], ['¬', Expression(AFFINE, UNKNOWN, ()), '¬', '⊗', '¬', Expression(AFFINE, UNKNOWN, ()), '¬', '⊗', '¬', Expression(AFFINE, UNKNOWN, ()), '⊕', Expression(AFFINE, UNKNOWN, ())], ['¬', Expression(AFFINE, UNKNOWN, ()), '¬', '⊗', '¬', Expression(AFFINE, UNKNOWN, ()), '¬', '⊗', '¬', Expression(AFFINE, UNKNOWN, ()), '¬', '⊗', '¬', Expression(AFFINE, UNKNOWN, ()), '⊕', Expression(AFFINE, UNKNOWN, ())], ['¬', Expression(AFFINE, UNKNOWN, ()), '¬', '⊗', '¬', Expression(AFFINE, UNKNOWN, ()), '¬', '⊗', '¬', Expression(AFFINE, UNKNOWN, ()), '⊕', Expression(AFFINE, UNKNOWN, ())], ['¬', Expression(AFFINE, UNKNOWN, ()), '¬', '⊗', '¬', Expression(AFFINE, UNKNOWN, ()), '⊕', Expression(AFFINE, UNKNOWN, ())], [Expression(AFFINE, UNKNOWN, ()), '⊕', Expression(AFFINE, UNKNOWN, ()), '⊕', Expression(AFFINE, UNKNOWN, ()), '⊕', Expression(AFFINE, UNKNOWN, ()), '⊕', Expression(AFFINE, UNKNOWN, ()), '⊕', Expression(AFFINE, UNKNOWN, ()), '⊕', Expression(AFFINE, UNKNOWN, ())], [Expression(AFFINE, UNKNOWN, ()), '⊕', Expression(AFFINE, UNKNOWN, ())], [Expression(AFFINE, UNKNOWN, ()), '⊕', Expression(AFFINE, UNKNOWN, ())], ['¬', Expression(AFFINE, UNKNOWN, ()), '⊕', '¬', Expression(AFFINE, UNKNOWN, ())], ['¬', Expression(AFFINE, UNKNOWN, ()), '⊕', '¬', Expression(AFFINE, UNKNOWN, ())], ['¬', Expression(AFFINE, UNKNOWN, ()), '⊕', '¬', Expression(AFFINE, UNKNOWN, ())], ['¬', Expression(AFFINE, UNKNOWN, ()), '⊕', '¬', Expression(AFFINE, UNKNOWN, ())], ['¬', Expression(AFFINE, UNKNOWN, ()), '⊕', '¬', Expression(AFFINE, UNKNOWN, ())], ['¬', Expression(AFFINE, UNKNOWN, ()), '⊕', '¬', Expression(AFFINE, UNKNOWN, ())], ['¬', Expression(AFFINE, UNKNOWN, ()), '⊕', '¬', Expression(AFFINE, UNKNOWN, ())], ['¬', Expression(AFFINE, UNKNOWN, ()), '⊕', '¬', Expression(AFFINE, UNKNOWN, ())], ['¬', Expression(AFFINE, UNKNOWN, ()), '⊕', '¬', Expression(AFFINE, UNKNOWN, ())], ['¬', Expression(AFFINE, UNKNOWN, ()), '⊕', '¬', Expression(AFFINE, UNKNOWN, ())], ['¬', Expression(AFFINE, UNKNOWN, ()), '⊕', '¬', Expression(AFFINE, UNKNOWN, ())], ['¬', Expression(AFFINE, UNKNOWN, ()), '⊕', '¬', Expression(AFFINE, UNKNOWN, ())], ['¬', Expression(AFFINE, UNKNOWN, ()), '⊕', '¬', Expression(AFFINE, UNKNOWN, ())], ['¬', Expression(AFFINE, UNKNOWN, ()), '⊕', '¬', Expression(AFFINE, UNKNOWN, ())]]\n",
      "[['¬', Expression(AFFINE, UNKNOWN, ()), '⊕', Expression(AFFINE, UNKNOWN, ())], ['¬', Expression(AFFINE, UNKNOWN, ()), '⊕', Expression(AFFINE, UNKNOWN, ())], ['¬', Expression(AFFINE, UNKNOWN, ()), '⊕', Expression(AFFINE, UNKNOWN, ())], ['¬', Expression(AFFINE, UNKNOWN, ()), '⊕', Expression(AFFINE, UNKNOWN, ())], ['¬', Expression(AFFINE, UNKNOWN, ()), '¬', '⊗', '¬', Expression(AFFINE, UNKNOWN, ()), '⊕', Expression(AFFINE, UNKNOWN, ())], ['¬', Expression(AFFINE, UNKNOWN, ()), '¬', '⊗', '¬', Expression(AFFINE, UNKNOWN, ()), '¬', '⊗', '¬', Expression(AFFINE, UNKNOWN, ()), '¬', '⊗', '¬', Expression(AFFINE, UNKNOWN, ()), '⊕', Expression(AFFINE, UNKNOWN, ())], ['¬', Expression(AFFINE, UNKNOWN, ()), '¬', '⊗', '¬', Expression(AFFINE, UNKNOWN, ()), '⊕', Expression(AFFINE, UNKNOWN, ())], ['¬', Expression(AFFINE, UNKNOWN, ()), '¬', '⊗', '¬', Expression(AFFINE, UNKNOWN, ()), '⊕', Expression(AFFINE, UNKNOWN, ())], ['¬', Expression(AFFINE, UNKNOWN, ()), '¬', '⊗', '¬', Expression(AFFINE, UNKNOWN, ()), '¬', '⊗', '¬', Expression(AFFINE, UNKNOWN, ()), '⊕', Expression(AFFINE, UNKNOWN, ())], ['¬', Expression(AFFINE, UNKNOWN, ()), '¬', '⊗', '¬', Expression(AFFINE, UNKNOWN, ()), '¬', '⊗', '¬', Expression(AFFINE, UNKNOWN, ()), '⊕', Expression(AFFINE, UNKNOWN, ())], ['¬', Expression(AFFINE, UNKNOWN, ()), '¬', '⊗', '¬', Expression(AFFINE, UNKNOWN, ()), '¬', '⊗', '¬', Expression(AFFINE, UNKNOWN, ()), '¬', '⊗', '¬', Expression(AFFINE, UNKNOWN, ()), '¬', '⊗', '¬', Expression(AFFINE, UNKNOWN, ()), '⊕', Expression(AFFINE, UNKNOWN, ())], ['¬', Expression(AFFINE, UNKNOWN, ()), '¬', '⊗', '¬', Expression(AFFINE, UNKNOWN, ()), '¬', '⊗', '¬', Expression(AFFINE, UNKNOWN, ()), '⊕', Expression(AFFINE, UNKNOWN, ())], ['¬', Expression(AFFINE, UNKNOWN, ()), '¬', '⊗', '¬', Expression(AFFINE, UNKNOWN, ()), '¬', '⊗', '¬', Expression(AFFINE, UNKNOWN, ()), '¬', '⊗', '¬', Expression(AFFINE, UNKNOWN, ()), '⊕', Expression(AFFINE, UNKNOWN, ())], ['¬', Expression(AFFINE, UNKNOWN, ()), '¬', '⊗', '¬', Expression(AFFINE, UNKNOWN, ()), '¬', '⊗', '¬', Expression(AFFINE, UNKNOWN, ()), '⊕', Expression(AFFINE, UNKNOWN, ())], ['¬', Expression(AFFINE, UNKNOWN, ()), '¬', '⊗', '¬', Expression(AFFINE, UNKNOWN, ()), '⊕', Expression(AFFINE, UNKNOWN, ())], [Expression(AFFINE, UNKNOWN, ()), '⊕', Expression(AFFINE, UNKNOWN, ()), '⊕', Expression(AFFINE, UNKNOWN, ()), '⊕', Expression(AFFINE, UNKNOWN, ()), '⊕', Expression(AFFINE, UNKNOWN, ()), '⊕', Expression(AFFINE, UNKNOWN, ()), '⊕', Expression(AFFINE, UNKNOWN, ())], [Expression(AFFINE, UNKNOWN, ()), '⊕', Expression(AFFINE, UNKNOWN, ())], [Expression(AFFINE, UNKNOWN, ()), '⊕', Expression(AFFINE, UNKNOWN, ())], ['¬', Expression(AFFINE, UNKNOWN, ()), '⊕', '¬', Expression(AFFINE, UNKNOWN, ())], ['¬', Expression(AFFINE, UNKNOWN, ()), '⊕', '¬', Expression(AFFINE, UNKNOWN, ())], ['¬', Expression(AFFINE, UNKNOWN, ()), '⊕', '¬', Expression(AFFINE, UNKNOWN, ())], ['¬', Expression(AFFINE, UNKNOWN, ()), '⊕', '¬', Expression(AFFINE, UNKNOWN, ())], ['¬', Expression(AFFINE, UNKNOWN, ()), '⊕', '¬', Expression(AFFINE, UNKNOWN, ())], ['¬', Expression(AFFINE, UNKNOWN, ()), '⊕', '¬', Expression(AFFINE, UNKNOWN, ())], ['¬', Expression(AFFINE, UNKNOWN, ()), '⊕', '¬', Expression(AFFINE, UNKNOWN, ())], ['¬', Expression(AFFINE, UNKNOWN, ()), '⊕', '¬', Expression(AFFINE, UNKNOWN, ())], ['¬', Expression(AFFINE, UNKNOWN, ()), '⊕', '¬', Expression(AFFINE, UNKNOWN, ())], ['¬', Expression(AFFINE, UNKNOWN, ()), '⊕', '¬', Expression(AFFINE, UNKNOWN, ())], ['¬', Expression(AFFINE, UNKNOWN, ()), '⊕', '¬', Expression(AFFINE, UNKNOWN, ())], ['¬', Expression(AFFINE, UNKNOWN, ()), '⊕', '¬', Expression(AFFINE, UNKNOWN, ())], ['¬', Expression(AFFINE, UNKNOWN, ()), '⊕', '¬', Expression(AFFINE, UNKNOWN, ())], ['¬', Expression(AFFINE, UNKNOWN, ()), '⊕', '¬', Expression(AFFINE, UNKNOWN, ())]]\n",
      "[['¬', Expression(AFFINE, UNKNOWN, ()), '⊕', Expression(AFFINE, UNKNOWN, ())], ['¬', Expression(AFFINE, UNKNOWN, ()), '⊕', Expression(AFFINE, UNKNOWN, ())], ['¬', Expression(AFFINE, UNKNOWN, ()), '⊕', Expression(AFFINE, UNKNOWN, ())], ['¬', Expression(AFFINE, UNKNOWN, ()), '⊕', Expression(AFFINE, UNKNOWN, ())], ['¬', Expression(AFFINE, UNKNOWN, ()), '¬', '⊗', '¬', Expression(AFFINE, UNKNOWN, ()), '⊕', Expression(AFFINE, UNKNOWN, ())], ['¬', Expression(AFFINE, UNKNOWN, ()), '¬', '⊗', '¬', Expression(AFFINE, UNKNOWN, ()), '¬', '⊗', '¬', Expression(AFFINE, UNKNOWN, ()), '¬', '⊗', '¬', Expression(AFFINE, UNKNOWN, ()), '⊕', Expression(AFFINE, UNKNOWN, ())], ['¬', Expression(AFFINE, UNKNOWN, ()), '¬', '⊗', '¬', Expression(AFFINE, UNKNOWN, ()), '⊕', Expression(AFFINE, UNKNOWN, ())], ['¬', Expression(AFFINE, UNKNOWN, ()), '¬', '⊗', '¬', Expression(AFFINE, UNKNOWN, ()), '⊕', Expression(AFFINE, UNKNOWN, ())], ['¬', Expression(AFFINE, UNKNOWN, ()), '¬', '⊗', '¬', Expression(AFFINE, UNKNOWN, ()), '¬', '⊗', '¬', Expression(AFFINE, UNKNOWN, ()), '⊕', Expression(AFFINE, UNKNOWN, ())], ['¬', Expression(AFFINE, UNKNOWN, ()), '¬', '⊗', '¬', Expression(AFFINE, UNKNOWN, ()), '¬', '⊗', '¬', Expression(AFFINE, UNKNOWN, ()), '⊕', Expression(AFFINE, UNKNOWN, ())], ['¬', Expression(AFFINE, UNKNOWN, ()), '¬', '⊗', '¬', Expression(AFFINE, UNKNOWN, ()), '¬', '⊗', '¬', Expression(AFFINE, UNKNOWN, ()), '¬', '⊗', '¬', Expression(AFFINE, UNKNOWN, ()), '¬', '⊗', '¬', Expression(AFFINE, UNKNOWN, ()), '⊕', Expression(AFFINE, UNKNOWN, ())], ['¬', Expression(AFFINE, UNKNOWN, ()), '¬', '⊗', '¬', Expression(AFFINE, UNKNOWN, ()), '¬', '⊗', '¬', Expression(AFFINE, UNKNOWN, ()), '⊕', Expression(AFFINE, UNKNOWN, ())], ['¬', Expression(AFFINE, UNKNOWN, ()), '¬', '⊗', '¬', Expression(AFFINE, UNKNOWN, ()), '¬', '⊗', '¬', Expression(AFFINE, UNKNOWN, ()), '¬', '⊗', '¬', Expression(AFFINE, UNKNOWN, ()), '⊕', Expression(AFFINE, UNKNOWN, ())], ['¬', Expression(AFFINE, UNKNOWN, ()), '¬', '⊗', '¬', Expression(AFFINE, UNKNOWN, ()), '¬', '⊗', '¬', Expression(AFFINE, UNKNOWN, ()), '⊕', Expression(AFFINE, UNKNOWN, ())], ['¬', Expression(AFFINE, UNKNOWN, ()), '¬', '⊗', '¬', Expression(AFFINE, UNKNOWN, ()), '⊕', Expression(AFFINE, UNKNOWN, ())], [Expression(AFFINE, UNKNOWN, ()), '⊕', Expression(AFFINE, UNKNOWN, ()), '⊕', Expression(AFFINE, UNKNOWN, ()), '⊕', Expression(AFFINE, UNKNOWN, ()), '⊕', Expression(AFFINE, UNKNOWN, ()), '⊕', Expression(AFFINE, UNKNOWN, ()), '⊕', Expression(AFFINE, UNKNOWN, ())], [Expression(AFFINE, UNKNOWN, ()), '⊕', Expression(AFFINE, UNKNOWN, ())], [Expression(AFFINE, UNKNOWN, ()), '⊕', Expression(AFFINE, UNKNOWN, ())], ['¬', Expression(AFFINE, UNKNOWN, ()), '⊕', '¬', Expression(AFFINE, UNKNOWN, ())], ['¬', Expression(AFFINE, UNKNOWN, ()), '⊕', '¬', Expression(AFFINE, UNKNOWN, ())], ['¬', Expression(AFFINE, UNKNOWN, ()), '⊕', '¬', Expression(AFFINE, UNKNOWN, ())], ['¬', Expression(AFFINE, UNKNOWN, ()), '⊕', '¬', Expression(AFFINE, UNKNOWN, ())], ['¬', Expression(AFFINE, UNKNOWN, ()), '⊕', '¬', Expression(AFFINE, UNKNOWN, ())], ['¬', Expression(AFFINE, UNKNOWN, ()), '⊕', '¬', Expression(AFFINE, UNKNOWN, ())], ['¬', Expression(AFFINE, UNKNOWN, ()), '⊕', '¬', Expression(AFFINE, UNKNOWN, ())], ['¬', Expression(AFFINE, UNKNOWN, ()), '⊕', '¬', Expression(AFFINE, UNKNOWN, ())], ['¬', Expression(AFFINE, UNKNOWN, ()), '⊕', '¬', Expression(AFFINE, UNKNOWN, ())], ['¬', Expression(AFFINE, UNKNOWN, ()), '⊕', '¬', Expression(AFFINE, UNKNOWN, ())], ['¬', Expression(AFFINE, UNKNOWN, ()), '⊕', '¬', Expression(AFFINE, UNKNOWN, ())], ['¬', Expression(AFFINE, UNKNOWN, ()), '⊕', '¬', Expression(AFFINE, UNKNOWN, ())], ['¬', Expression(AFFINE, UNKNOWN, ()), '⊕', '¬', Expression(AFFINE, UNKNOWN, ())], ['¬', Expression(AFFINE, UNKNOWN, ()), '⊕', '¬', Expression(AFFINE, UNKNOWN, ())]]\n",
      "[['¬', Expression(AFFINE, UNKNOWN, ()), '⊕', Expression(AFFINE, UNKNOWN, ())], ['¬', Expression(AFFINE, UNKNOWN, ()), '⊕', Expression(AFFINE, UNKNOWN, ())], ['¬', Expression(AFFINE, UNKNOWN, ()), '⊕', Expression(AFFINE, UNKNOWN, ())], ['¬', Expression(AFFINE, UNKNOWN, ()), '⊕', Expression(AFFINE, UNKNOWN, ())], ['¬', Expression(AFFINE, UNKNOWN, ()), '¬', '⊗', '¬', Expression(AFFINE, UNKNOWN, ()), '⊕', Expression(AFFINE, UNKNOWN, ())], ['¬', Expression(AFFINE, UNKNOWN, ()), '¬', '⊗', '¬', Expression(AFFINE, UNKNOWN, ()), '¬', '⊗', '¬', Expression(AFFINE, UNKNOWN, ()), '¬', '⊗', '¬', Expression(AFFINE, UNKNOWN, ()), '⊕', Expression(AFFINE, UNKNOWN, ())], ['¬', Expression(AFFINE, UNKNOWN, ()), '¬', '⊗', '¬', Expression(AFFINE, UNKNOWN, ()), '⊕', Expression(AFFINE, UNKNOWN, ())], ['¬', Expression(AFFINE, UNKNOWN, ()), '¬', '⊗', '¬', Expression(AFFINE, UNKNOWN, ()), '⊕', Expression(AFFINE, UNKNOWN, ())], ['¬', Expression(AFFINE, UNKNOWN, ()), '¬', '⊗', '¬', Expression(AFFINE, UNKNOWN, ()), '¬', '⊗', '¬', Expression(AFFINE, UNKNOWN, ()), '⊕', Expression(AFFINE, UNKNOWN, ())], ['¬', Expression(AFFINE, UNKNOWN, ()), '¬', '⊗', '¬', Expression(AFFINE, UNKNOWN, ()), '¬', '⊗', '¬', Expression(AFFINE, UNKNOWN, ()), '⊕', Expression(AFFINE, UNKNOWN, ())], ['¬', Expression(AFFINE, UNKNOWN, ()), '¬', '⊗', '¬', Expression(AFFINE, UNKNOWN, ()), '¬', '⊗', '¬', Expression(AFFINE, UNKNOWN, ()), '¬', '⊗', '¬', Expression(AFFINE, UNKNOWN, ()), '¬', '⊗', '¬', Expression(AFFINE, UNKNOWN, ()), '⊕', Expression(AFFINE, UNKNOWN, ())], ['¬', Expression(AFFINE, UNKNOWN, ()), '¬', '⊗', '¬', Expression(AFFINE, UNKNOWN, ()), '¬', '⊗', '¬', Expression(AFFINE, UNKNOWN, ()), '⊕', Expression(AFFINE, UNKNOWN, ())], ['¬', Expression(AFFINE, UNKNOWN, ()), '¬', '⊗', '¬', Expression(AFFINE, UNKNOWN, ()), '¬', '⊗', '¬', Expression(AFFINE, UNKNOWN, ()), '¬', '⊗', '¬', Expression(AFFINE, UNKNOWN, ()), '⊕', Expression(AFFINE, UNKNOWN, ())], ['¬', Expression(AFFINE, UNKNOWN, ()), '¬', '⊗', '¬', Expression(AFFINE, UNKNOWN, ()), '¬', '⊗', '¬', Expression(AFFINE, UNKNOWN, ()), '⊕', Expression(AFFINE, UNKNOWN, ())], ['¬', Expression(AFFINE, UNKNOWN, ()), '¬', '⊗', '¬', Expression(AFFINE, UNKNOWN, ()), '⊕', Expression(AFFINE, UNKNOWN, ())], [Expression(AFFINE, UNKNOWN, ()), '⊕', Expression(AFFINE, UNKNOWN, ()), '⊕', Expression(AFFINE, UNKNOWN, ()), '⊕', Expression(AFFINE, UNKNOWN, ()), '⊕', Expression(AFFINE, UNKNOWN, ()), '⊕', Expression(AFFINE, UNKNOWN, ()), '⊕', Expression(AFFINE, UNKNOWN, ())], [Expression(AFFINE, UNKNOWN, ()), '⊕', Expression(AFFINE, UNKNOWN, ())], [Expression(AFFINE, UNKNOWN, ()), '⊕', Expression(AFFINE, UNKNOWN, ())], ['¬', Expression(AFFINE, UNKNOWN, ()), '⊕', '¬', Expression(AFFINE, UNKNOWN, ())], ['¬', Expression(AFFINE, UNKNOWN, ()), '⊕', '¬', Expression(AFFINE, UNKNOWN, ())], ['¬', Expression(AFFINE, UNKNOWN, ()), '⊕', '¬', Expression(AFFINE, UNKNOWN, ())], ['¬', Expression(AFFINE, UNKNOWN, ()), '⊕', '¬', Expression(AFFINE, UNKNOWN, ())], ['¬', Expression(AFFINE, UNKNOWN, ()), '⊕', '¬', Expression(AFFINE, UNKNOWN, ())], ['¬', Expression(AFFINE, UNKNOWN, ()), '⊕', '¬', Expression(AFFINE, UNKNOWN, ())], ['¬', Expression(AFFINE, UNKNOWN, ()), '⊕', '¬', Expression(AFFINE, UNKNOWN, ())], ['¬', Expression(AFFINE, UNKNOWN, ()), '⊕', '¬', Expression(AFFINE, UNKNOWN, ())], ['¬', Expression(AFFINE, UNKNOWN, ()), '⊕', '¬', Expression(AFFINE, UNKNOWN, ())], ['¬', Expression(AFFINE, UNKNOWN, ()), '⊕', '¬', Expression(AFFINE, UNKNOWN, ())], ['¬', Expression(AFFINE, UNKNOWN, ()), '⊕', '¬', Expression(AFFINE, UNKNOWN, ())], ['¬', Expression(AFFINE, UNKNOWN, ()), '⊕', '¬', Expression(AFFINE, UNKNOWN, ())], ['¬', Expression(AFFINE, UNKNOWN, ()), '⊕', '¬', Expression(AFFINE, UNKNOWN, ())], ['¬', Expression(AFFINE, UNKNOWN, ()), '⊕', '¬', Expression(AFFINE, UNKNOWN, ())]]\n",
      "All done\n"
     ]
    }
   ],
   "source": [
    "objective, constraints = problem_instance.main(c1=10, c2=10)"
   ]
  },
  {
   "cell_type": "code",
   "execution_count": 13,
   "metadata": {},
   "outputs": [
    {
     "name": "stdout",
     "output_type": "stream",
     "text": [
      "===============================================================================\n",
      "                                     CVXPY                                     \n",
      "                                     v1.3.2                                    \n",
      "===============================================================================\n",
      "(CVXPY) Oct 22 04:49:56 PM: Your problem has 498 variables, 2190 constraints, and 0 parameters.\n",
      "(CVXPY) Oct 22 04:49:56 PM: It is compliant with the following grammars: DCP, DQCP\n",
      "(CVXPY) Oct 22 04:49:56 PM: (If you need to solve this problem multiple times, but with different data, consider using parameters.)\n",
      "(CVXPY) Oct 22 04:49:56 PM: CVXPY will first compile your problem; then, it will invoke a numerical solver to obtain a solution.\n",
      "-------------------------------------------------------------------------------\n",
      "                                  Compilation                                  \n",
      "-------------------------------------------------------------------------------\n",
      "(CVXPY) Oct 22 04:49:57 PM: Compiling problem (target solver=ECOS).\n",
      "(CVXPY) Oct 22 04:49:57 PM: Reduction chain: Dcp2Cone -> CvxAttr2Constr -> ConeMatrixStuffing -> ECOS\n",
      "(CVXPY) Oct 22 04:49:57 PM: Applying reduction Dcp2Cone\n",
      "(CVXPY) Oct 22 04:49:57 PM: Applying reduction CvxAttr2Constr\n",
      "(CVXPY) Oct 22 04:49:58 PM: Applying reduction ConeMatrixStuffing\n",
      "(CVXPY) Oct 22 04:50:00 PM: Applying reduction ECOS\n",
      "(CVXPY) Oct 22 04:50:01 PM: Finished problem compilation (took 4.330e+00 seconds).\n",
      "-------------------------------------------------------------------------------\n",
      "                                Numerical solver                               \n",
      "-------------------------------------------------------------------------------\n",
      "(CVXPY) Oct 22 04:50:01 PM: Invoking solver ECOS  to obtain a solution.\n",
      "\n",
      "ECOS 2.0.10 - (C) embotech GmbH, Zurich Switzerland, 2012-15. Web: www.embotech.com/ECOS\n",
      "\n",
      "It     pcost       dcost      gap   pres   dres    k/t    mu     step   sigma     IR    |   BT\n",
      " 0  +6.979e+02  -1.912e+02  +3e+04  7e-01  2e+00  1e+00  1e+01    ---    ---    1  1  - |  -  - \n",
      " 1  +5.555e+02  +4.385e+02  +7e+03  1e-01  2e-01  1e+00  3e+00  0.8839  2e-01   1  1  1 |  0  0\n",
      " 2  +6.633e+02  +5.867e+02  +5e+03  9e-02  1e-01  9e-01  2e+00  0.4784  4e-01   2  1  1 |  0  0\n",
      " 3  +7.663e+02  +7.424e+02  +2e+03  3e-02  4e-02  3e-01  7e-01  0.7034  7e-02   2  1  2 |  0  0\n",
      " 4  +7.682e+02  +7.478e+02  +2e+03  2e-02  4e-02  2e-01  6e-01  0.3159  5e-01   2  2  2 |  0  0\n",
      " 5  +7.901e+02  +7.832e+02  +5e+02  8e-03  1e-02  6e-02  2e-01  0.7338  1e-01   3  2  2 |  0  0\n",
      " 6  +7.953e+02  +7.917e+02  +3e+02  4e-03  6e-03  3e-02  1e-01  0.6754  3e-01   2  2  2 |  0  0\n",
      " 7  +8.002e+02  +7.992e+02  +8e+01  1e-03  2e-03  7e-03  3e-02  0.8096  1e-01   2  2  2 |  0  0\n",
      " 8  +8.004e+02  +7.995e+02  +7e+01  1e-03  1e-03  6e-03  3e-02  0.2716  6e-01   2  2  2 |  0  0\n",
      " 9  +8.012e+02  +8.008e+02  +3e+01  5e-04  7e-04  3e-03  1e-02  0.5421  7e-02   2  2  2 |  0  0\n",
      "10  +8.015e+02  +8.012e+02  +2e+01  3e-04  5e-04  2e-03  9e-03  0.9890  7e-01   2  2  1 |  0  0\n",
      "11  +8.019e+02  +8.018e+02  +8e+00  1e-04  2e-04  5e-04  3e-03  0.7528  1e-01   2  2  2 |  0  0\n",
      "12  +8.020e+02  +8.019e+02  +5e+00  7e-05  1e-04  3e-04  2e-03  0.7462  5e-01   2  2  2 |  0  0\n",
      "13  +8.021e+02  +8.020e+02  +2e+00  3e-05  4e-05  1e-04  7e-04  0.9890  4e-01   2  1  1 |  0  0\n",
      "14  +8.021e+02  +8.021e+02  +7e-01  1e-05  2e-05  5e-05  3e-04  0.8913  3e-01   2  2  2 |  0  0\n",
      "15  +8.021e+02  +8.021e+02  +2e-01  3e-06  5e-06  1e-05  8e-05  0.9268  2e-01   2  1  1 |  0  0\n",
      "16  +8.021e+02  +8.021e+02  +8e-02  1e-06  2e-06  5e-06  3e-05  0.9279  3e-01   2  2  2 |  0  0\n",
      "17  +8.021e+02  +8.021e+02  +2e-02  3e-07  4e-07  1e-06  8e-06  0.9414  2e-01   2  1  1 |  0  0\n",
      "18  +8.021e+02  +8.021e+02  +7e-03  9e-08  1e-07  4e-07  2e-06  0.9084  2e-01   3  1  1 |  0  0\n",
      "19  +8.021e+02  +8.021e+02  +2e-03  3e-08  4e-08  1e-07  7e-07  0.9126  2e-01   2  1  1 |  0  0\n",
      "20  +8.021e+02  +8.021e+02  +6e-04  8e-09  1e-08  4e-08  2e-07  0.9131  2e-01   3  1  1 |  0  0\n",
      "21  +8.021e+02  +8.021e+02  +2e-04  2e-09  4e-09  1e-08  6e-08  0.9138  2e-01   3  1  1 |  0  0\n",
      "22  +8.021e+02  +8.021e+02  +5e-05  7e-10  1e-09  3e-09  2e-08  0.9118  2e-01   3  1  1 |  0  0\n",
      "23  +8.021e+02  +8.021e+02  +1e-05  2e-10  3e-10  1e-09  5e-09  0.9120  2e-01   4  1  1 |  0  0\n",
      "24  +8.021e+02  +8.021e+02  +4e-06  6e-11  9e-11  3e-10  2e-09  0.9115  2e-01   3  1  1 |  0  0\n",
      "\n",
      "OPTIMAL (within feastol=9.2e-11, reltol=5.4e-09, abstol=4.3e-06).\n",
      "Runtime: 0.043420 seconds.\n",
      "\n",
      "-------------------------------------------------------------------------------\n",
      "                                    Summary                                    \n",
      "-------------------------------------------------------------------------------\n",
      "(CVXPY) Oct 22 04:50:01 PM: Problem status: optimal\n",
      "(CVXPY) Oct 22 04:50:01 PM: Optimal value: 8.021e+02\n",
      "(CVXPY) Oct 22 04:50:01 PM: Compilation took 4.330e+00 seconds\n",
      "(CVXPY) Oct 22 04:50:01 PM: Solver (including time spent in interface) took 4.385e-02 seconds\n"
     ]
    }
   ],
   "source": [
    "problem = cp.Problem(objective, constraints)\n",
    "result = problem.solve(verbose=True)"
   ]
  },
  {
   "cell_type": "code",
   "execution_count": null,
   "metadata": {},
   "outputs": [],
   "source": []
  },
  {
   "cell_type": "code",
   "execution_count": null,
   "metadata": {},
   "outputs": [],
   "source": []
  },
  {
   "cell_type": "code",
   "execution_count": null,
   "metadata": {},
   "outputs": [],
   "source": []
  },
  {
   "cell_type": "code",
   "execution_count": null,
   "metadata": {},
   "outputs": [],
   "source": []
  },
  {
   "cell_type": "code",
   "execution_count": null,
   "metadata": {},
   "outputs": [],
   "source": []
  },
  {
   "cell_type": "code",
   "execution_count": 20,
   "metadata": {},
   "outputs": [
    {
     "data": {
      "text/plain": [
       "array([[0.27679277, 0.85011247, 0.58793345],\n",
       "       [0.19755892, 0.77041254, 0.96021951]])"
      ]
     },
     "execution_count": 20,
     "metadata": {},
     "output_type": "execute_result"
    }
   ],
   "source": [
    "x = np.random.rand(2, 3)\n",
    "x"
   ]
  },
  {
   "cell_type": "code",
   "execution_count": 21,
   "metadata": {},
   "outputs": [
    {
     "data": {
      "text/plain": [
       "(array([0.27679277, 0.85011247, 0.58793345]),\n",
       " array([0.19755892, 0.77041254, 0.96021951]))"
      ]
     },
     "execution_count": 21,
     "metadata": {},
     "output_type": "execute_result"
    }
   ],
   "source": [
    "x1, x2 = x[0], x[1]\n",
    "x1, x2"
   ]
  },
  {
   "cell_type": "code",
   "execution_count": 25,
   "metadata": {},
   "outputs": [
    {
     "data": {
      "text/plain": [
       "1.274165357297333"
      ]
     },
     "execution_count": 25,
     "metadata": {},
     "output_type": "execute_result"
    }
   ],
   "source": [
    "x1 @ x2"
   ]
  },
  {
   "cell_type": "code",
   "execution_count": null,
   "metadata": {},
   "outputs": [],
   "source": []
  },
  {
   "cell_type": "code",
   "execution_count": null,
   "metadata": {},
   "outputs": [],
   "source": []
  },
  {
   "cell_type": "code",
   "execution_count": null,
   "metadata": {},
   "outputs": [],
   "source": []
  },
  {
   "cell_type": "code",
   "execution_count": null,
   "metadata": {},
   "outputs": [],
   "source": []
  },
  {
   "cell_type": "code",
   "execution_count": null,
   "metadata": {},
   "outputs": [],
   "source": []
  },
  {
   "cell_type": "code",
   "execution_count": null,
   "metadata": {},
   "outputs": [],
   "source": []
  }
 ],
 "metadata": {
  "kernelspec": {
   "display_name": "myenv",
   "language": "python",
   "name": "python3"
  },
  "language_info": {
   "codemirror_mode": {
    "name": "ipython",
    "version": 3
   },
   "file_extension": ".py",
   "mimetype": "text/x-python",
   "name": "python",
   "nbconvert_exporter": "python",
   "pygments_lexer": "ipython3",
   "version": "3.11.4"
  }
 },
 "nbformat": 4,
 "nbformat_minor": 2
}
