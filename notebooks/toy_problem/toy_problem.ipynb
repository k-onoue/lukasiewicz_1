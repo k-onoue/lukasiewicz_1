{
 "cells": [
  {
   "cell_type": "code",
   "execution_count": 1,
   "metadata": {},
   "outputs": [
    {
     "name": "stdout",
     "output_type": "stream",
     "text": [
      "['/home/onoue/ws/lukasiewicz_1/notebooks/toy_problem', '/usr/lib/python310.zip', '/usr/lib/python3.10', '/usr/lib/python3.10/lib-dynload', '', '/home/onoue/ws/lukasiewicz_1/myenv/lib/python3.10/site-packages', '/home/onoue/ws/lukasiewicz_1']\n"
     ]
    }
   ],
   "source": [
    "%load_ext autoreload\n",
    "%autoreload 2\n",
    "\n",
    "import os \n",
    "import sys\n",
    "\n",
    "project_dir_path = '/home/onoue/ws/lukasiewicz_1'\n",
    "sys.path.append(project_dir_path)\n",
    "\n",
    "print(sys.path)\n",
    "\n",
    "\n",
    "from src.setup_problem_modular import Setup\n",
    "from src.objective_function import specimen_construct_objective_function\n",
    "from src.misc import visualize_result\n",
    "\n",
    "import cvxpy as cp\n",
    "\n",
    "from src.misc import *"
   ]
  },
  {
   "cell_type": "code",
   "execution_count": 3,
   "metadata": {},
   "outputs": [
    {
     "name": "stdout",
     "output_type": "stream",
     "text": [
      "load_data took 0.08519387245178223 seconds!\n",
      "load_rules took 0.0010287761688232422 seconds!\n",
      "specimen_construct_objective_function took 0.004443645477294922 seconds!\n",
      "pointwise constraints\n",
      "logical constraints\n",
      "consistency constraints\n",
      "__call__ took 0.05170392990112305 seconds!\n",
      "===============================================================================\n",
      "                                     CVXPY                                     \n",
      "                                     v1.3.2                                    \n",
      "===============================================================================\n",
      "(CVXPY) Dec 21 04:12:13 PM: Your problem has 23 variables, 96 constraints, and 0 parameters.\n",
      "(CVXPY) Dec 21 04:12:13 PM: It is compliant with the following grammars: DCP, DQCP\n",
      "(CVXPY) Dec 21 04:12:13 PM: (If you need to solve this problem multiple times, but with different data, consider using parameters.)\n",
      "(CVXPY) Dec 21 04:12:13 PM: CVXPY will first compile your problem; then, it will invoke a numerical solver to obtain a solution.\n",
      "-------------------------------------------------------------------------------\n",
      "                                  Compilation                                  \n",
      "-------------------------------------------------------------------------------\n",
      "(CVXPY) Dec 21 04:12:13 PM: Compiling problem (target solver=ECOS).\n",
      "(CVXPY) Dec 21 04:12:13 PM: Reduction chain: Dcp2Cone -> CvxAttr2Constr -> ConeMatrixStuffing -> ECOS\n",
      "(CVXPY) Dec 21 04:12:13 PM: Applying reduction Dcp2Cone\n",
      "(CVXPY) Dec 21 04:12:13 PM: Applying reduction CvxAttr2Constr\n",
      "(CVXPY) Dec 21 04:12:13 PM: Applying reduction ConeMatrixStuffing\n",
      "(CVXPY) Dec 21 04:12:13 PM: Applying reduction ECOS\n",
      "(CVXPY) Dec 21 04:12:13 PM: Finished problem compilation (took 2.642e-01 seconds).\n",
      "-------------------------------------------------------------------------------\n",
      "                                Numerical solver                               \n",
      "-------------------------------------------------------------------------------\n",
      "(CVXPY) Dec 21 04:12:13 PM: Invoking solver ECOS  to obtain a solution.\n",
      "\n",
      "ECOS 2.0.10 - (C) embotech GmbH, Zurich Switzerland, 2012-15. Web: www.embotech.com/ECOS\n",
      "\n",
      "It     pcost       dcost      gap   pres   dres    k/t    mu     step   sigma     IR    |   BT\n",
      " 0  +2.871e+01  -4.881e+01  +6e+02  5e-01  8e-01  1e+00  5e+00    ---    ---    1  1  - |  -  - \n",
      " 1  +1.438e+01  -5.647e+00  +3e+02  1e-01  2e-01  9e-01  2e+00  0.6623  1e-01   1  1  1 |  0  0\n",
      " 2  +1.554e+01  -3.018e+00  +2e+02  1e-01  2e-01  9e-01  2e+00  0.2606  7e-01   2  2  2 |  0  0\n",
      " 3  +1.439e+01  +6.636e+00  +1e+02  5e-02  7e-02  5e-01  9e-01  0.9890  5e-01   2  1  1 |  0  0\n",
      " 4  +1.879e+01  +1.699e+01  +3e+01  1e-02  2e-02  1e-01  2e-01  0.8793  1e-01   2  2  2 |  0  0\n",
      " 5  +1.970e+01  +1.913e+01  +9e+00  3e-03  5e-03  3e-02  7e-02  0.8808  2e-01   2  2  2 |  0  0\n",
      " 6  +2.027e+01  +2.017e+01  +1e+00  5e-04  7e-04  5e-03  1e-02  0.8722  5e-02   2  1  1 |  0  0\n",
      " 7  +2.035e+01  +2.034e+01  +1e-01  5e-05  7e-05  4e-04  1e-03  0.9237  3e-02   2  1  1 |  0  0\n",
      " 8  +2.036e+01  +2.036e+01  +6e-03  2e-06  3e-06  2e-05  6e-05  0.9748  2e-02   2  1  1 |  0  0\n",
      " 9  +2.036e+01  +2.036e+01  +1e-04  4e-08  5e-08  3e-07  9e-07  0.9843  1e-04   2  1  1 |  0  0\n",
      "10  +2.036e+01  +2.036e+01  +8e-06  3e-09  4e-09  2e-08  7e-08  0.9266  5e-03   2  1  1 |  0  0\n",
      "-------------------------------------------------------------------------------\n",
      "                                    Summary                                    \n",
      "-------------------------------------------------------------------------------\n",
      "(CVXPY) Dec 21 04:12:13 PM: Problem status: optimal\n",
      "11  +2.036e+01  +2.036e+01  +1e-07  5e-11  7e-11  4e-10  1e-09  0.9890  7e-03   2  1  1 |  0  0\n",
      "\n",
      "OPTIMAL (within feastol=7.2e-11, reltol=6.8e-09, abstol=1.4e-07).\n",
      "Runtime: 0.002140 seconds.\n",
      "\n",
      "(CVXPY) Dec 21 04:12:13 PM: Optimal value: 2.036e+01\n",
      "(CVXPY) Dec 21 04:12:13 PM: Compilation took 2.642e-01 seconds\n",
      "(CVXPY) Dec 21 04:12:13 PM: Solver (including time spent in interface) took 2.992e-03 seconds\n"
     ]
    }
   ],
   "source": [
    "file_names_dict = {\n",
    "    \"supervised\": [\"L_p1.csv\", \"L_p2.csv\", \"L_p3.csv\"],\n",
    "    \"unsupervised\": [\"U.csv\"],\n",
    "    \"rule\": [\"rules.txt\"]\n",
    "}\n",
    "\n",
    "data_dir_path = './../../inputs/toy_data'\n",
    "\n",
    "problem_instance = Setup(data_dir_path, file_names_dict, specimen_construct_objective_function)\n",
    "objective, constraints = problem_instance.main(c1=10, c2=10)\n",
    "\n",
    "problem = cp.Problem(objective, constraints)\n",
    "result = problem.solve(verbose=True)"
   ]
  },
  {
   "cell_type": "code",
   "execution_count": 4,
   "metadata": {},
   "outputs": [
    {
     "data": {
      "image/png": "[encoded data removed]",
      "text/plain": [
       "<Figure size 600x400 with 1 Axes>"
      ]
     },
     "metadata": {},
     "output_type": "display_data"
    }
   ],
   "source": [
    "visualize_result(problem_instance)"
   ]
  },
  {
   "cell_type": "code",
   "execution_count": null,
   "metadata": {},
   "outputs": [],
   "source": []
  },
  {
   "cell_type": "code",
   "execution_count": 5,
   "metadata": {},
   "outputs": [
    {
     "data": {
      "text/plain": [
       "array([[ 7.50000000e-01,  2.00000000e+00, -1.07500000e+00],\n",
       "       [ 3.19767438e-01,  1.93604651e+00, -6.12790698e-01],\n",
       "       [ 1.09409846e-10,  2.00000000e+00, -4.00000000e-01]])"
      ]
     },
     "execution_count": 5,
     "metadata": {},
     "output_type": "execute_result"
    }
   ],
   "source": [
    "problem_instance.w_j.value"
   ]
  },
  {
   "cell_type": "code",
   "execution_count": null,
   "metadata": {},
   "outputs": [],
   "source": []
  },
  {
   "cell_type": "code",
   "execution_count": null,
   "metadata": {},
   "outputs": [],
   "source": []
  },
  {
   "cell_type": "code",
   "execution_count": 13,
   "metadata": {},
   "outputs": [],
   "source": [
    "def test_trained_predicate(predicates_dict, test_data_dict):\n",
    "    result_dict = {}\n",
    "    p_names = predicates_dict.keys()\n",
    "\n",
    "    for p_name in p_names:\n",
    "        pred_vals = []\n",
    "        preds = []\n",
    "\n",
    "        p = predicates_dict[p_name]\n",
    "        test_data = test_data_dict[p_name]\n",
    "\n",
    "        cnt = 0\n",
    "\n",
    "        for data in test_data:\n",
    "            x, ans = data[:-1], data[-1]\n",
    "            pred_val = p(x).value\n",
    "            pred_vals.append(pred_val)\n",
    "\n",
    "            if (pred_val >= 0.5 and ans == 1) or (pred_val < 0.5 and ans == -1):\n",
    "                cnt += 1\n",
    "\n",
    "            pred = (pred_val >= 0.5 and ans == 1) or (pred_val < 0.5 and ans == -1)\n",
    "            preds.append(pred)\n",
    "\n",
    "        p_arr = np.hstack([test_data, \n",
    "                           np.array(pred_vals).reshape(-1,1), \n",
    "                           np.array(preds).reshape(-1, 1)])\n",
    "\n",
    "        result_dict[p_name] = p_arr\n",
    "\n",
    "        print(cnt)\n",
    "        print(f'Accuracy of {p_name}: {cnt / len(test_data)}')\n",
    "\n",
    "    return result_dict"
   ]
  },
  {
   "cell_type": "code",
   "execution_count": 7,
   "metadata": {},
   "outputs": [
    {
     "data": {
      "text/plain": [
       "{'p1(x)': <src.misc.Predicate at 0x7f434f9c7250>,\n",
       " 'p2(x)': <src.misc.Predicate at 0x7f434f1cbe90>,\n",
       " 'p3(x)': <src.misc.Predicate at 0x7f434f1e8190>}"
      ]
     },
     "execution_count": 7,
     "metadata": {},
     "output_type": "execute_result"
    }
   ],
   "source": [
    "problem_instance.predicates_dict"
   ]
  },
  {
   "cell_type": "code",
   "execution_count": 8,
   "metadata": {},
   "outputs": [
    {
     "data": {
      "text/plain": [
       "{'p1(x)': array([[ 0.1,  0.5, -1. ],\n",
       "        [ 0.4,  0.4, -1. ],\n",
       "        [ 0.3,  0.8,  1. ],\n",
       "        [ 0.9,  0.7,  1. ]]),\n",
       " 'p2(x)': array([[ 0.1,  0.3, -1. ],\n",
       "        [ 0.6,  0.4, -1. ],\n",
       "        [ 0.2,  0.8,  1. ],\n",
       "        [ 0.7,  0.6,  1. ]]),\n",
       " 'p3(x)': array([[ 0.4,  0.2, -1. ],\n",
       "        [ 0.9,  0.3, -1. ],\n",
       "        [ 0.2,  0.6,  1. ],\n",
       "        [ 0.5,  0.7,  1. ]])}"
      ]
     },
     "execution_count": 8,
     "metadata": {},
     "output_type": "execute_result"
    }
   ],
   "source": [
    "problem_instance.L"
   ]
  },
  {
   "cell_type": "code",
   "execution_count": 15,
   "metadata": {},
   "outputs": [
    {
     "name": "stdout",
     "output_type": "stream",
     "text": [
      "4\n",
      "Accuracy of p1(x): 1.0\n",
      "4\n",
      "Accuracy of p2(x): 1.0\n",
      "4\n",
      "Accuracy of p3(x): 1.0\n"
     ]
    }
   ],
   "source": [
    "p_dict = problem_instance.predicates_dict\n",
    "test_data = problem_instance.L\n",
    "\n",
    "res_dict = test_trained_predicate(p_dict, test_data)"
   ]
  },
  {
   "cell_type": "code",
   "execution_count": 17,
   "metadata": {},
   "outputs": [
    {
     "data": {
      "text/html": [
       "<div>\n",
       "<style scoped>\n",
       "    .dataframe tbody tr th:only-of-type {\n",
       "        vertical-align: middle;\n",
       "    }\n",
       "\n",
       "    .dataframe tbody tr th {\n",
       "        vertical-align: top;\n",
       "    }\n",
       "\n",
       "    .dataframe thead th {\n",
       "        text-align: right;\n",
       "    }\n",
       "</style>\n",
       "<table border=\"1\" class=\"dataframe\">\n",
       "  <thead>\n",
       "    <tr style=\"text-align: right;\">\n",
       "      <th></th>\n",
       "      <th>0</th>\n",
       "      <th>1</th>\n",
       "      <th>2</th>\n",
       "      <th>3</th>\n",
       "      <th>4</th>\n",
       "    </tr>\n",
       "  </thead>\n",
       "  <tbody>\n",
       "    <tr>\n",
       "      <th>0</th>\n",
       "      <td>0.1</td>\n",
       "      <td>0.5</td>\n",
       "      <td>-1.0</td>\n",
       "      <td>1.046663e-10</td>\n",
       "      <td>1.0</td>\n",
       "    </tr>\n",
       "    <tr>\n",
       "      <th>1</th>\n",
       "      <td>0.4</td>\n",
       "      <td>0.4</td>\n",
       "      <td>-1.0</td>\n",
       "      <td>2.500000e-02</td>\n",
       "      <td>1.0</td>\n",
       "    </tr>\n",
       "    <tr>\n",
       "      <th>2</th>\n",
       "      <td>0.3</td>\n",
       "      <td>0.8</td>\n",
       "      <td>1.0</td>\n",
       "      <td>7.500000e-01</td>\n",
       "      <td>1.0</td>\n",
       "    </tr>\n",
       "    <tr>\n",
       "      <th>3</th>\n",
       "      <td>0.9</td>\n",
       "      <td>0.7</td>\n",
       "      <td>1.0</td>\n",
       "      <td>1.000000e+00</td>\n",
       "      <td>1.0</td>\n",
       "    </tr>\n",
       "  </tbody>\n",
       "</table>\n",
       "</div>"
      ],
      "text/plain": [
       "     0    1    2             3    4\n",
       "0  0.1  0.5 -1.0  1.046663e-10  1.0\n",
       "1  0.4  0.4 -1.0  2.500000e-02  1.0\n",
       "2  0.3  0.8  1.0  7.500000e-01  1.0\n",
       "3  0.9  0.7  1.0  1.000000e+00  1.0"
      ]
     },
     "execution_count": 17,
     "metadata": {},
     "output_type": "execute_result"
    }
   ],
   "source": [
    "pd.DataFrame(res_dict['p1(x)'])"
   ]
  },
  {
   "cell_type": "code",
   "execution_count": null,
   "metadata": {},
   "outputs": [],
   "source": []
  },
  {
   "cell_type": "code",
   "execution_count": null,
   "metadata": {},
   "outputs": [],
   "source": []
  },
  {
   "cell_type": "code",
   "execution_count": null,
   "metadata": {},
   "outputs": [],
   "source": []
  },
  {
   "cell_type": "code",
   "execution_count": 41,
   "metadata": {},
   "outputs": [
    {
     "name": "stdout",
     "output_type": "stream",
     "text": [
      "1.8977408533515927e-10\n",
      "0.02202231900646834\n",
      "0.496573718191177\n",
      "0.672043493676458\n",
      "1.8977408533515927e-10\n",
      "0.3651485803392841\n",
      "0.07317147122933065\n",
      "0.0951937900460248\n",
      "0.014917804416994529\n",
      "0.46034237019553503\n",
      "-0.26285027551401136\n",
      "0.12432062345219297\n",
      "0.4454245659683146\n",
      "0.43832005137884067\n",
      "1.8977408533515927e-10\n",
      "0.3651485803392841\n",
      "0.07317147122933065\n",
      "0.0951937900460248\n",
      "0.014917804416994529\n",
      "0.46034237019553503\n",
      "-0.2408279566973171\n",
      "0.14634294226888722\n",
      "0.1825742902645291\n",
      "0.46744688478500873\n",
      "1.8977408533515927e-10\n",
      "0.3651485803392841\n",
      "0.07317147122933065\n",
      "0.0951937900460248\n",
      "0.014917804416994529\n",
      "0.46034237019553503\n",
      "\n",
      " violations: 2 out of 30\n"
     ]
    }
   ],
   "source": [
    "cnt = 0\n",
    "cnt_violation = 0\n",
    "\n",
    "for data in problem_instance.S:\n",
    "    for x in data:\n",
    "        val = problem_instance.predicates_dict['p_1(x)'](x).value\n",
    "\n",
    "        if val < 0:\n",
    "            cnt_violation += 1\n",
    "        print(val)\n",
    "\n",
    "        cnt += 1\n",
    "\n",
    "print(f'\\n violations: {cnt_violation} out of {cnt}')"
   ]
  },
  {
   "cell_type": "code",
   "execution_count": null,
   "metadata": {},
   "outputs": [],
   "source": []
  },
  {
   "cell_type": "code",
   "execution_count": null,
   "metadata": {},
   "outputs": [],
   "source": []
  },
  {
   "cell_type": "code",
   "execution_count": null,
   "metadata": {},
   "outputs": [],
   "source": []
  },
  {
   "cell_type": "code",
   "execution_count": null,
   "metadata": {},
   "outputs": [],
   "source": []
  }
 ],
 "metadata": {
  "kernelspec": {
   "display_name": "myenv",
   "language": "python",
   "name": "python3"
  },
  "language_info": {
   "codemirror_mode": {
    "name": "ipython",
    "version": 3
   },
   "file_extension": ".py",
   "mimetype": "text/x-python",
   "name": "python",
   "nbconvert_exporter": "python",
   "pygments_lexer": "ipython3",
   "version": "3.10.12"
  }
 },
 "nbformat": 4,
 "nbformat_minor": 2
}
