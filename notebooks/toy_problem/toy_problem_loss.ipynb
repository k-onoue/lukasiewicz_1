{
 "cells": [
  {
   "cell_type": "code",
   "execution_count": 1,
   "metadata": {},
   "outputs": [
    {
     "name": "stdout",
     "output_type": "stream",
     "text": [
      "['/home/onoue/ws/lukasiewicz_1/notebooks/toy_problem', '/usr/lib/python310.zip', '/usr/lib/python3.10', '/usr/lib/python3.10/lib-dynload', '', '/home/onoue/ws/lukasiewicz_1/myenv/lib/python3.10/site-packages', '/home/onoue/ws/lukasiewicz_1']\n"
     ]
    }
   ],
   "source": [
    "%load_ext autoreload\n",
    "%autoreload 2\n",
    "\n",
    "import os \n",
    "import sys\n",
    "\n",
    "project_dir_path = '/home/onoue/ws/lukasiewicz_1'\n",
    "sys.path.append(project_dir_path)\n",
    "\n",
    "print(sys.path)\n",
    "\n",
    "\n",
    "from src.setup_problem_loss import Setup\n",
    "from src.misc import visualize_result\n",
    "\n",
    "import numpy as np\n",
    "import pandas as pd\n",
    "import cvxpy as cp\n",
    "\n",
    "from sklearn.metrics import log_loss\n",
    "\n",
    "from src.misc import *"
   ]
  },
  {
   "cell_type": "code",
   "execution_count": 3,
   "metadata": {},
   "outputs": [],
   "source": []
  },
  {
   "cell_type": "code",
   "execution_count": 2,
   "metadata": {},
   "outputs": [
    {
     "data": {
      "text/plain": [
       "'/home/onoue/ws/lukasiewicz_1/inputs/toy_data_loss'"
      ]
     },
     "execution_count": 2,
     "metadata": {},
     "output_type": "execute_result"
    }
   ],
   "source": [
    "data_dir_path = os.path.join(project_dir_path, \"inputs/toy_data_loss\")\n",
    "data_dir_path"
   ]
  },
  {
   "cell_type": "code",
   "execution_count": 3,
   "metadata": {},
   "outputs": [],
   "source": [
    "file_names_dict = {\n",
    "    \"supervised\": [\"L_p1\", \"L_p2\", \"L_p3\"],\n",
    "    \"unsupervised\": [\"U\"],\n",
    "    \"rule\": [\"rules\"]\n",
    "}"
   ]
  },
  {
   "cell_type": "code",
   "execution_count": 71,
   "metadata": {},
   "outputs": [],
   "source": [
    "problem_instance = Setup(data_dir_path, file_names_dict)\n",
    "problem_instance.load_data()\n",
    "problem_instance.load_rules()\n",
    "problem_instance.identify_predicates()"
   ]
  },
  {
   "cell_type": "code",
   "execution_count": 72,
   "metadata": {},
   "outputs": [
    {
     "name": "stdout",
     "output_type": "stream",
     "text": [
      "(4,)\n",
      "(4,)\n",
      "(4,)\n",
      "(4,)\n",
      "(4,)\n",
      "(4,)\n"
     ]
    }
   ],
   "source": [
    "obj_func = problem_instance.construct_objective_function(2.5, 2.5)"
   ]
  },
  {
   "cell_type": "code",
   "execution_count": 73,
   "metadata": {},
   "outputs": [
    {
     "data": {
      "text/plain": [
       "()"
      ]
     },
     "execution_count": 73,
     "metadata": {},
     "output_type": "execute_result"
    }
   ],
   "source": [
    "tmp1.shape"
   ]
  },
  {
   "cell_type": "code",
   "execution_count": 74,
   "metadata": {},
   "outputs": [
    {
     "name": "stdout",
     "output_type": "stream",
     "text": [
      "[0.33636836 0.63474631 0.58647929 0.77559923 0.0314507 ] @ var11020\n"
     ]
    },
    {
     "name": "stderr",
     "output_type": "stream",
     "text": [
      "/home/onoue/ws/lukasiewicz_1/myenv/lib/python3.10/site-packages/cvxpy/expressions/expression.py:612: UserWarning: \n",
      "This use of ``*`` has resulted in matrix multiplication.\n",
      "Using ``*`` for matrix multiplication has been deprecated since CVXPY 1.1.\n",
      "    Use ``*`` for matrix-scalar and vector-scalar multiplication.\n",
      "    Use ``@`` for matrix-matrix and matrix-vector multiplication.\n",
      "    Use ``multiply`` for elementwise multiplication.\n",
      "This code path has been hit 13 times so far.\n",
      "\n",
      "  warnings.warn(msg, UserWarning)\n"
     ]
    }
   ],
   "source": [
    "tmp1 = np.random.rand(5)\n",
    "tmp2 = cp.Variable(5)\n",
    "\n",
    "print(tmp1 * tmp2)"
   ]
  },
  {
   "cell_type": "code",
   "execution_count": 75,
   "metadata": {},
   "outputs": [
    {
     "name": "stdout",
     "output_type": "stream",
     "text": [
      "[0.33636836 0.63474631 0.58647929 0.77559923 0.0314507 ] @ var11020\n"
     ]
    }
   ],
   "source": [
    "print(tmp1 @ tmp2)"
   ]
  },
  {
   "cell_type": "code",
   "execution_count": 68,
   "metadata": {},
   "outputs": [
    {
     "data": {
      "text/plain": [
       "(5,)"
      ]
     },
     "execution_count": 68,
     "metadata": {},
     "output_type": "execute_result"
    }
   ],
   "source": [
    "tmp2.shape"
   ]
  },
  {
   "cell_type": "code",
   "execution_count": 10,
   "metadata": {},
   "outputs": [
    {
     "data": {
      "text/plain": [
       "{'p1': array([[ 0.1,  0.5, -1. ],\n",
       "        [ 0.4,  0.4, -1. ],\n",
       "        [ 0.3,  0.8,  1. ],\n",
       "        [ 0.9,  0.7,  1. ]]),\n",
       " 'p2': array([[ 0.1,  0.3, -1. ],\n",
       "        [ 0.6,  0.4, -1. ],\n",
       "        [ 0.2,  0.8,  1. ],\n",
       "        [ 0.7,  0.6,  1. ]]),\n",
       " 'p3': array([[ 0.4,  0.2, -1. ],\n",
       "        [ 0.9,  0.3, -1. ],\n",
       "        [ 0.2,  0.6,  1. ],\n",
       "        [ 0.5,  0.7,  1. ]])}"
      ]
     },
     "execution_count": 10,
     "metadata": {},
     "output_type": "execute_result"
    }
   ],
   "source": [
    "problem_instance.L"
   ]
  },
  {
   "cell_type": "code",
   "execution_count": 29,
   "metadata": {},
   "outputs": [
    {
     "name": "stdout",
     "output_type": "stream",
     "text": [
      "[[0.1 0.5]\n",
      " [0.4 0.4]\n",
      " [0.3 0.8]\n",
      " [0.9 0.7]]\n",
      "[-1. -1.  1.  1.]\n",
      "(4,)\n",
      "[4.90968845e-06 5.11760995e-06 5.86704336e-06 6.50617924e-06]\n",
      "5.997231986241477\n",
      "[[0.1 0.3]\n",
      " [0.6 0.4]\n",
      " [0.2 0.8]\n",
      " [0.7 0.6]]\n",
      "[-1. -1.  1.  1.]\n",
      "(4,)\n",
      "[8.09822149e-06 1.01109971e-05 1.00201723e-05 1.10833256e-05]\n",
      "5.730249314547032\n",
      "[[0.4 0.2]\n",
      " [0.9 0.3]\n",
      " [0.2 0.6]\n",
      " [0.5 0.7]]\n",
      "[-1. -1.  1.  1.]\n",
      "(4,)\n",
      "[1.30266346e-05 1.62101182e-05 1.36813995e-05 1.57667768e-05]\n",
      "5.564277036942052\n"
     ]
    }
   ],
   "source": [
    "from sklearn.metrics import log_loss\n",
    "\n",
    "for p_name, p in problem_instance.predicates_dict.items():\n",
    "    x = problem_instance.L[p_name][:, :-1]\n",
    "    y = problem_instance.L[p_name][:, -1]\n",
    "\n",
    "    print(x)\n",
    "    print(y)\n",
    "    print(p(x).shape)\n",
    "    print(p(x).value)\n",
    "    print(log_loss(y, p(x).value))\n",
    "\n"
   ]
  },
  {
   "cell_type": "code",
   "execution_count": 16,
   "metadata": {},
   "outputs": [
    {
     "data": {
      "text/plain": [
       "array([[1., 1., 1., 1.],\n",
       "       [1., 1., 1., 1.],\n",
       "       [1., 1., 1., 1.]])"
      ]
     },
     "execution_count": 16,
     "metadata": {},
     "output_type": "execute_result"
    }
   ],
   "source": [
    "np.zeros((3, 4)) + 1"
   ]
  },
  {
   "cell_type": "code",
   "execution_count": 35,
   "metadata": {},
   "outputs": [],
   "source": [
    "y_true = np.array([1, 0, 1, 1, 0])\n",
    "y_pred_var = cp.Variable(5, nonneg=True)"
   ]
  },
  {
   "cell_type": "code",
   "execution_count": 60,
   "metadata": {},
   "outputs": [
    {
     "data": {
      "text/plain": [
       "Variable((5, 4), nonneg=True)"
      ]
     },
     "execution_count": 60,
     "metadata": {},
     "output_type": "execute_result"
    }
   ],
   "source": [
    "tmp = cp.Variable((5,4), nonneg=True) \n",
    "tmp"
   ]
  },
  {
   "cell_type": "code",
   "execution_count": 63,
   "metadata": {},
   "outputs": [
    {
     "data": {
      "text/plain": [
       "Expression(AFFINE, NONNEGATIVE, (5, 4))"
      ]
     },
     "execution_count": 63,
     "metadata": {},
     "output_type": "execute_result"
    }
   ],
   "source": [
    "tmp * 5"
   ]
  },
  {
   "cell_type": "code",
   "execution_count": 42,
   "metadata": {},
   "outputs": [
    {
     "name": "stdout",
     "output_type": "stream",
     "text": [
      "1.0 @ var10546[0]\n",
      "0.0 @ var10546[1]\n",
      "1.0 @ var10546[2]\n",
      "1.0 @ var10546[3]\n",
      "0.0 @ var10546[4]\n"
     ]
    }
   ],
   "source": [
    "tmp = []\n",
    "\n",
    "for i in range(5):\n",
    "    yt = y_true[i]\n",
    "    yp = y_pred_var[i]\n",
    "    tmp.append(yt * yp)\n",
    "\n",
    "for i in range(5):\n",
    "    print(tmp[i])"
   ]
  },
  {
   "cell_type": "code",
   "execution_count": 39,
   "metadata": {},
   "outputs": [
    {
     "data": {
      "text/plain": [
       "Expression(AFFINE, NONNEGATIVE, ())"
      ]
     },
     "execution_count": 39,
     "metadata": {},
     "output_type": "execute_result"
    }
   ],
   "source": [
    "np.mean(tmp)"
   ]
  },
  {
   "cell_type": "code",
   "execution_count": 43,
   "metadata": {},
   "outputs": [
    {
     "name": "stdout",
     "output_type": "stream",
     "text": [
      "(1.0 @ var10546[0] + 0.0 @ var10546[1] + 1.0 @ var10546[2] + 1.0 @ var10546[3] + 0.0 @ var10546[4]) / 5.0\n"
     ]
    }
   ],
   "source": [
    "print(np.mean(tmp))"
   ]
  },
  {
   "cell_type": "code",
   "execution_count": 47,
   "metadata": {},
   "outputs": [
    {
     "data": {
      "text/plain": [
       "array([0, 1, 1, 1, 1, 0, 0])"
      ]
     },
     "execution_count": 47,
     "metadata": {},
     "output_type": "execute_result"
    }
   ],
   "source": [
    "tmp = np.array([-1, 1, 1, 1, 1, -1, -1])\n",
    "np.where(tmp == -1, 0, tmp)"
   ]
  },
  {
   "cell_type": "code",
   "execution_count": null,
   "metadata": {},
   "outputs": [],
   "source": []
  },
  {
   "cell_type": "code",
   "execution_count": null,
   "metadata": {},
   "outputs": [],
   "source": []
  },
  {
   "cell_type": "code",
   "execution_count": null,
   "metadata": {},
   "outputs": [],
   "source": []
  },
  {
   "cell_type": "code",
   "execution_count": null,
   "metadata": {},
   "outputs": [],
   "source": []
  },
  {
   "cell_type": "code",
   "execution_count": null,
   "metadata": {},
   "outputs": [],
   "source": []
  },
  {
   "cell_type": "code",
   "execution_count": null,
   "metadata": {},
   "outputs": [],
   "source": []
  },
  {
   "cell_type": "code",
   "execution_count": null,
   "metadata": {},
   "outputs": [],
   "source": []
  },
  {
   "cell_type": "code",
   "execution_count": null,
   "metadata": {},
   "outputs": [],
   "source": []
  },
  {
   "cell_type": "code",
   "execution_count": null,
   "metadata": {},
   "outputs": [],
   "source": []
  },
  {
   "cell_type": "code",
   "execution_count": 4,
   "metadata": {},
   "outputs": [
    {
     "name": "stdout",
     "output_type": "stream",
     "text": [
      "Loading data ...\n",
      "Done in 0.010417461395263672 seconds! \n",
      "\n",
      "Loading rules ...\n",
      "Done in 0.00014066696166992188 seconds! \n",
      "\n",
      "Identifying predicates ...\n",
      "Done in 0.00031638145446777344 seconds! \n",
      "\n",
      "Constructing objective function ...\n",
      "(4,)\n",
      "(4,)\n",
      "(4,)\n",
      "(4,)\n",
      "(4,)\n",
      "(4,)\n",
      "Done in 0.0022389888763427734 seconds! \n",
      "\n",
      "Constructing constraints ...\n",
      "Done in 0.01513671875 seconds! \n",
      "\n",
      "All done\n",
      "===============================================================================\n",
      "                                     CVXPY                                     \n",
      "                                     v1.3.2                                    \n",
      "===============================================================================\n",
      "(CVXPY) Nov 26 11:29:13 AM: Your problem has 11 variables, 84 constraints, and 0 parameters.\n"
     ]
    },
    {
     "name": "stdout",
     "output_type": "stream",
     "text": [
      "(CVXPY) Nov 26 11:29:13 AM: It is compliant with the following grammars: DCP, DQCP\n",
      "(CVXPY) Nov 26 11:29:13 AM: (If you need to solve this problem multiple times, but with different data, consider using parameters.)\n",
      "(CVXPY) Nov 26 11:29:13 AM: CVXPY will first compile your problem; then, it will invoke a numerical solver to obtain a solution.\n",
      "-------------------------------------------------------------------------------\n",
      "                                  Compilation                                  \n",
      "-------------------------------------------------------------------------------\n",
      "(CVXPY) Nov 26 11:29:13 AM: Compiling problem (target solver=ECOS).\n",
      "(CVXPY) Nov 26 11:29:13 AM: Reduction chain: Dcp2Cone -> CvxAttr2Constr -> ConeMatrixStuffing -> ECOS\n",
      "(CVXPY) Nov 26 11:29:13 AM: Applying reduction Dcp2Cone\n",
      "(CVXPY) Nov 26 11:29:13 AM: Applying reduction CvxAttr2Constr\n",
      "(CVXPY) Nov 26 11:29:14 AM: Applying reduction ConeMatrixStuffing\n",
      "(CVXPY) Nov 26 11:29:14 AM: Applying reduction ECOS\n",
      "(CVXPY) Nov 26 11:29:14 AM: Finished problem compilation (took 1.406e-01 seconds).\n",
      "-------------------------------------------------------------------------------\n",
      "                                Numerical solver                               \n",
      "-------------------------------------------------------------------------------\n",
      "(CVXPY) Nov 26 11:29:14 AM: Invoking solver ECOS  to obtain a solution.\n",
      "\n",
      "ECOS 2.0.10 - (C) embotech GmbH, Zurich Switzerland, 2012-15. Web: www.embotech.com/ECOS\n",
      "\n",
      "It     pcost       dcost      gap   pres   dres    k/t    mu     step   sigma     IR    |   BT\n",
      " 0  +0.000e+00  -4.571e+01  +2e+02  6e-01  7e-01  1e+00  1e+00    ---    ---    0  0  - |  -  - \n",
      " 1  -1.068e+02  -1.432e+02  +4e+01  5e-01  6e-01  3e+00  3e-01  0.7587  3e-02   1  1  1 |  1  1\n",
      " 2  -1.414e+02  -1.678e+02  +2e+01  4e-01  5e-01  3e+00  1e-01  0.6266  2e-01   1  1  1 |  4  2\n",
      " 3  -6.846e+01  -8.680e+01  +1e+01  3e-01  3e-01  1e+00  6e-02  0.9791  6e-01   1  1  1 |  8  0\n",
      " 4  -3.685e+01  -4.624e+01  +4e+00  2e-01  2e-01  8e-01  2e-02  0.6054  9e-02   1  1  1 |  1  2\n",
      " 5  -7.097e+00  -1.132e+01  +2e+00  8e-02  7e-02  4e-01  9e-03  0.7247  2e-01   2  1  2 |  2  1\n",
      " 6  +9.626e+00  +7.839e+00  +6e-01  3e-02  3e-02  2e-01  4e-03  0.9791  4e-01   2  1  2 |  4  0\n",
      " 7  +1.647e+01  +1.572e+01  +2e-01  1e-02  1e-02  8e-02  1e-03  0.6041  2e-02   2  1  1 |  0  1\n",
      " 8  +2.038e+01  +2.017e+01  +6e-02  4e-03  4e-03  2e-02  4e-04  0.8407  1e-01   2  1  1 |  0  0\n",
      " 9  +2.169e+01  +2.162e+01  +2e-02  1e-03  1e-03  7e-03  1e-04  0.7792  1e-01   2  1  1 |  0  0\n",
      "10  +2.217e+01  +2.215e+01  +5e-03  3e-04  3e-04  2e-03  3e-05  0.7656  2e-02   2  1  1 |  0  1\n",
      "11  +2.228e+01  +2.227e+01  +2e-03  1e-04  1e-04  6e-04  1e-05  0.7833  1e-01   2  1  1 |  3  1\n",
      "12  +2.232e+01  +2.232e+01  +4e-04  2e-05  2e-05  1e-04  2e-06  0.7819  1e-02   1  1  1 |  1  1\n",
      "13  +2.232e+01  +2.232e+01  +2e-04  9e-06  9e-06  6e-05  9e-07  0.6266  5e-02   1  1  1 |  2  2\n",
      "14  +2.233e+01  +2.233e+01  +4e-05  2e-06  2e-06  1e-05  2e-07  0.7833  1e-02   1  1  1 |  1  1\n",
      "15  +2.233e+01  +2.233e+01  +1e-05  8e-07  8e-07  5e-06  8e-08  0.6266  5e-02   2  1  1 |  2  2\n",
      "16  +2.233e+01  +2.233e+01  +3e-06  2e-07  2e-07  1e-06  2e-08  0.7833  9e-03   2  1  1 |  1  1\n",
      "17  +2.233e+01  +2.233e+01  +1e-06  7e-08  8e-08  5e-07  8e-09  0.6266  5e-02   1  1  1 |  2  2\n",
      "18  +2.233e+01  +2.233e+01  +3e-07  2e-08  2e-08  1e-07  2e-09  0.7833  9e-03   1  1  1 |  1  1\n",
      "19  +2.233e+01  +2.233e+01  +1e-07  6e-09  7e-09  4e-08  7e-10  0.6266  5e-02   1  1  1 |  2  2\n",
      "\n",
      "OPTIMAL (within feastol=6.9e-09, reltol=5.0e-09, abstol=1.1e-07).\n",
      "Runtime: 0.001411 seconds.\n",
      "\n",
      "-------------------------------------------------------------------------------\n",
      "                                    Summary                                    \n",
      "-------------------------------------------------------------------------------\n",
      "(CVXPY) Nov 26 11:29:14 AM: Problem status: optimal\n",
      "(CVXPY) Nov 26 11:29:14 AM: Optimal value: nan\n",
      "(CVXPY) Nov 26 11:29:14 AM: Compilation took 1.406e-01 seconds\n",
      "(CVXPY) Nov 26 11:29:14 AM: Solver (including time spent in interface) took 1.518e-03 seconds\n"
     ]
    },
    {
     "name": "stderr",
     "output_type": "stream",
     "text": [
      "/home/onoue/ws/lukasiewicz_1/myenv/lib/python3.10/site-packages/cvxpy/atoms/elementwise/log.py:35: RuntimeWarning: invalid value encountered in log\n",
      "  return np.log(values[0])\n"
     ]
    }
   ],
   "source": [
    "# file_names_dict = {\n",
    "#     \"supervised\": [\"L_p1(x)\", \"L_p2(x)\", \"L_p3(x)\"],\n",
    "#     \"unsupervised\": [\"U\"],\n",
    "#     \"rule\": [\"rules\"]\n",
    "# }\n",
    "\n",
    "# data_dir_path = './../../inputs/toy_data'\n",
    "\n",
    "\n",
    "problem_instance = Setup(data_dir_path, file_names_dict)\n",
    "objective, constraints = problem_instance.main(c1=10, c2=10)\n",
    "\n",
    "problem = cp.Problem(objective, constraints)\n",
    "result = problem.solve(verbose=True)"
   ]
  },
  {
   "cell_type": "code",
   "execution_count": 5,
   "metadata": {},
   "outputs": [
    {
     "data": {
      "image/png": "[encoded data removed]",
      "text/plain": [
       "<Figure size 600x400 with 1 Axes>"
      ]
     },
     "metadata": {},
     "output_type": "display_data"
    }
   ],
   "source": [
    "visualize_result(problem_instance)"
   ]
  },
  {
   "cell_type": "code",
   "execution_count": null,
   "metadata": {},
   "outputs": [],
   "source": []
  },
  {
   "cell_type": "code",
   "execution_count": 13,
   "metadata": {},
   "outputs": [],
   "source": [
    "def test_trained_predicate(predicates_dict, test_data_dict):\n",
    "    result_dict = {}\n",
    "    p_names = predicates_dict.keys()\n",
    "\n",
    "    for p_name in p_names:\n",
    "        pred_vals = []\n",
    "        preds = []\n",
    "\n",
    "        p = predicates_dict[p_name]\n",
    "        test_data = test_data_dict[p_name]\n",
    "\n",
    "        cnt = 0\n",
    "\n",
    "        for data in test_data:\n",
    "            x, ans = data[:-1], data[-1]\n",
    "            pred_val = p(x).value\n",
    "            pred_vals.append(pred_val)\n",
    "\n",
    "            if (pred_val >= 0.5 and ans == 1) or (pred_val < 0.5 and ans == -1):\n",
    "                cnt += 1\n",
    "\n",
    "            pred = (pred_val >= 0.5 and ans == 1) or (pred_val < 0.5 and ans == -1)\n",
    "            preds.append(pred)\n",
    "\n",
    "        p_arr = np.hstack([test_data, \n",
    "                           np.array(pred_vals).reshape(-1,1), \n",
    "                           np.array(preds).reshape(-1, 1)])\n",
    "\n",
    "        result_dict[p_name] = p_arr\n",
    "\n",
    "        print(cnt)\n",
    "        print(f'Accuracy of {p_name}: {cnt / len(test_data)}')\n",
    "\n",
    "    return result_dict"
   ]
  },
  {
   "cell_type": "code",
   "execution_count": 7,
   "metadata": {},
   "outputs": [
    {
     "data": {
      "text/plain": [
       "{'p1(x)': <src.misc.Predicate at 0x7f434f9c7250>,\n",
       " 'p2(x)': <src.misc.Predicate at 0x7f434f1cbe90>,\n",
       " 'p3(x)': <src.misc.Predicate at 0x7f434f1e8190>}"
      ]
     },
     "execution_count": 7,
     "metadata": {},
     "output_type": "execute_result"
    }
   ],
   "source": [
    "problem_instance.predicates_dict"
   ]
  },
  {
   "cell_type": "code",
   "execution_count": 8,
   "metadata": {},
   "outputs": [
    {
     "data": {
      "text/plain": [
       "{'p1(x)': array([[ 0.1,  0.5, -1. ],\n",
       "        [ 0.4,  0.4, -1. ],\n",
       "        [ 0.3,  0.8,  1. ],\n",
       "        [ 0.9,  0.7,  1. ]]),\n",
       " 'p2(x)': array([[ 0.1,  0.3, -1. ],\n",
       "        [ 0.6,  0.4, -1. ],\n",
       "        [ 0.2,  0.8,  1. ],\n",
       "        [ 0.7,  0.6,  1. ]]),\n",
       " 'p3(x)': array([[ 0.4,  0.2, -1. ],\n",
       "        [ 0.9,  0.3, -1. ],\n",
       "        [ 0.2,  0.6,  1. ],\n",
       "        [ 0.5,  0.7,  1. ]])}"
      ]
     },
     "execution_count": 8,
     "metadata": {},
     "output_type": "execute_result"
    }
   ],
   "source": [
    "problem_instance.L"
   ]
  },
  {
   "cell_type": "code",
   "execution_count": 15,
   "metadata": {},
   "outputs": [
    {
     "name": "stdout",
     "output_type": "stream",
     "text": [
      "4\n",
      "Accuracy of p1(x): 1.0\n",
      "4\n",
      "Accuracy of p2(x): 1.0\n",
      "4\n",
      "Accuracy of p3(x): 1.0\n"
     ]
    }
   ],
   "source": [
    "p_dict = problem_instance.predicates_dict\n",
    "test_data = problem_instance.L\n",
    "\n",
    "res_dict = test_trained_predicate(p_dict, test_data)"
   ]
  },
  {
   "cell_type": "code",
   "execution_count": 17,
   "metadata": {},
   "outputs": [
    {
     "data": {
      "text/html": [
       "<div>\n",
       "<style scoped>\n",
       "    .dataframe tbody tr th:only-of-type {\n",
       "        vertical-align: middle;\n",
       "    }\n",
       "\n",
       "    .dataframe tbody tr th {\n",
       "        vertical-align: top;\n",
       "    }\n",
       "\n",
       "    .dataframe thead th {\n",
       "        text-align: right;\n",
       "    }\n",
       "</style>\n",
       "<table border=\"1\" class=\"dataframe\">\n",
       "  <thead>\n",
       "    <tr style=\"text-align: right;\">\n",
       "      <th></th>\n",
       "      <th>0</th>\n",
       "      <th>1</th>\n",
       "      <th>2</th>\n",
       "      <th>3</th>\n",
       "      <th>4</th>\n",
       "    </tr>\n",
       "  </thead>\n",
       "  <tbody>\n",
       "    <tr>\n",
       "      <th>0</th>\n",
       "      <td>0.1</td>\n",
       "      <td>0.5</td>\n",
       "      <td>-1.0</td>\n",
       "      <td>1.046663e-10</td>\n",
       "      <td>1.0</td>\n",
       "    </tr>\n",
       "    <tr>\n",
       "      <th>1</th>\n",
       "      <td>0.4</td>\n",
       "      <td>0.4</td>\n",
       "      <td>-1.0</td>\n",
       "      <td>2.500000e-02</td>\n",
       "      <td>1.0</td>\n",
       "    </tr>\n",
       "    <tr>\n",
       "      <th>2</th>\n",
       "      <td>0.3</td>\n",
       "      <td>0.8</td>\n",
       "      <td>1.0</td>\n",
       "      <td>7.500000e-01</td>\n",
       "      <td>1.0</td>\n",
       "    </tr>\n",
       "    <tr>\n",
       "      <th>3</th>\n",
       "      <td>0.9</td>\n",
       "      <td>0.7</td>\n",
       "      <td>1.0</td>\n",
       "      <td>1.000000e+00</td>\n",
       "      <td>1.0</td>\n",
       "    </tr>\n",
       "  </tbody>\n",
       "</table>\n",
       "</div>"
      ],
      "text/plain": [
       "     0    1    2             3    4\n",
       "0  0.1  0.5 -1.0  1.046663e-10  1.0\n",
       "1  0.4  0.4 -1.0  2.500000e-02  1.0\n",
       "2  0.3  0.8  1.0  7.500000e-01  1.0\n",
       "3  0.9  0.7  1.0  1.000000e+00  1.0"
      ]
     },
     "execution_count": 17,
     "metadata": {},
     "output_type": "execute_result"
    }
   ],
   "source": [
    "pd.DataFrame(res_dict['p1(x)'])"
   ]
  },
  {
   "cell_type": "code",
   "execution_count": null,
   "metadata": {},
   "outputs": [],
   "source": []
  },
  {
   "cell_type": "code",
   "execution_count": null,
   "metadata": {},
   "outputs": [],
   "source": []
  },
  {
   "cell_type": "code",
   "execution_count": null,
   "metadata": {},
   "outputs": [],
   "source": []
  },
  {
   "cell_type": "code",
   "execution_count": 41,
   "metadata": {},
   "outputs": [
    {
     "name": "stdout",
     "output_type": "stream",
     "text": [
      "1.8977408533515927e-10\n",
      "0.02202231900646834\n",
      "0.496573718191177\n",
      "0.672043493676458\n",
      "1.8977408533515927e-10\n",
      "0.3651485803392841\n",
      "0.07317147122933065\n",
      "0.0951937900460248\n",
      "0.014917804416994529\n",
      "0.46034237019553503\n",
      "-0.26285027551401136\n",
      "0.12432062345219297\n",
      "0.4454245659683146\n",
      "0.43832005137884067\n",
      "1.8977408533515927e-10\n",
      "0.3651485803392841\n",
      "0.07317147122933065\n",
      "0.0951937900460248\n",
      "0.014917804416994529\n",
      "0.46034237019553503\n",
      "-0.2408279566973171\n",
      "0.14634294226888722\n",
      "0.1825742902645291\n",
      "0.46744688478500873\n",
      "1.8977408533515927e-10\n",
      "0.3651485803392841\n",
      "0.07317147122933065\n",
      "0.0951937900460248\n",
      "0.014917804416994529\n",
      "0.46034237019553503\n",
      "\n",
      " violations: 2 out of 30\n"
     ]
    }
   ],
   "source": [
    "cnt = 0\n",
    "cnt_violation = 0\n",
    "\n",
    "for data in problem_instance.S:\n",
    "    for x in data:\n",
    "        val = problem_instance.predicates_dict['p_1(x)'](x).value\n",
    "\n",
    "        if val < 0:\n",
    "            cnt_violation += 1\n",
    "        print(val)\n",
    "\n",
    "        cnt += 1\n",
    "\n",
    "print(f'\\n violations: {cnt_violation} out of {cnt}')"
   ]
  },
  {
   "cell_type": "code",
   "execution_count": null,
   "metadata": {},
   "outputs": [],
   "source": []
  },
  {
   "cell_type": "code",
   "execution_count": null,
   "metadata": {},
   "outputs": [],
   "source": []
  },
  {
   "cell_type": "code",
   "execution_count": null,
   "metadata": {},
   "outputs": [],
   "source": []
  },
  {
   "cell_type": "code",
   "execution_count": null,
   "metadata": {},
   "outputs": [],
   "source": []
  }
 ],
 "metadata": {
  "kernelspec": {
   "display_name": "myenv",
   "language": "python",
   "name": "python3"
  },
  "language_info": {
   "codemirror_mode": {
    "name": "ipython",
    "version": 3
   },
   "file_extension": ".py",
   "mimetype": "text/x-python",
   "name": "python",
   "nbconvert_exporter": "python",
   "pygments_lexer": "ipython3",
   "version": "3.10.12"
  }
 },
 "nbformat": 4,
 "nbformat_minor": 2
}
