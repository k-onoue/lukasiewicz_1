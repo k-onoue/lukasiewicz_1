{
 "cells": [
  {
   "cell_type": "code",
   "execution_count": 1,
   "metadata": {},
   "outputs": [],
   "source": [
    "%load_ext autoreload\n",
    "%autoreload 2"
   ]
  },
  {
   "cell_type": "code",
   "execution_count": 3,
   "metadata": {},
   "outputs": [],
   "source": [
    "import os \n",
    "import sys\n",
    "project_dir_path = '/home/onoue/ws/lukasiewicz_1'\n",
    "sys.path.append(project_dir_path)\n",
    "\n",
    "import cvxpy as cp\n",
    "import numpy as np \n",
    "import pandas as pd\n",
    "\n",
    "\n",
    "from src.setup_problem_modular import Setup\n",
    "from src.objective_function import specimen_construct_objective_function, specimen_construct_objective_function_loss\n",
    "from src.evaluation import EvaluateModel\n"
   ]
  },
  {
   "cell_type": "code",
   "execution_count": 4,
   "metadata": {},
   "outputs": [],
   "source": [
    "data_dir_path = os.path.join(project_dir_path, 'inputs/pima_indian_diabetes')\n",
    "train_data_dir_path = os.path.join(data_dir_path, \"train_4\")\n",
    "file_list = os.listdir(train_data_dir_path)\n",
    "\n",
    "L_files = [filename for filename in file_list \n",
    "           if filename.startswith('L') and filename.endswith('.csv')]\n",
    "\n",
    "U_files = [filename.split('.csv')[0] for filename in file_list \n",
    "           if filename.startswith('U') and filename.endswith('.csv')]\n",
    "\n",
    "file_names_dict = {\n",
    "    'supervised': L_files,\n",
    "    'unsupervised': U_files,\n",
    "    'rule': ['rules.txt']\n",
    "}\n",
    "\n",
    "\n",
    "# obj_constructor = specimen_construct_objective_function_loss\n",
    "# problem_instance = Setup(train_data_dir_path, file_names_dict, obj_constructor)\n",
    "# objective, constraints = problem_instance.main(c1=10, c2=10)\n",
    "\n",
    "# problem = cp.Problem(objective, constraints)\n",
    "# result = problem.solve(verbose=True)"
   ]
  },
  {
   "cell_type": "code",
   "execution_count": 6,
   "metadata": {},
   "outputs": [
    {
     "data": {
      "text/plain": [
       "['U.csv',\n",
       " 'L_Age_Medium.csv',\n",
       " 'L_DiabetesPedigreeFunction_Low.csv',\n",
       " 'L_BMI_Low.csv',\n",
       " 'L_BMI_Medium.csv',\n",
       " 'L_Glucose_High.csv',\n",
       " 'L_Pregnancies_Medium.csv',\n",
       " 'L_DiabetesPedigreeFunction_High.csv',\n",
       " 'rules_4.tsv',\n",
       " 'L_Pregnancies_Low.csv',\n",
       " 'L_Glucose_Medium.csv',\n",
       " 'L_BloodPressure_High.csv',\n",
       " 'L_SkinThickness_Medium.csv',\n",
       " 'L_SkinThickness_High.csv',\n",
       " 'L_BMI_High.csv',\n",
       " 'rules_tsv',\n",
       " 'L_Pregnancies_High.csv',\n",
       " 'rules.txt',\n",
       " 'rules_max_50.txt',\n",
       " 'L_BloodPressure_Low.csv',\n",
       " 'L_Age_High.csv',\n",
       " 'L_Age_Low.csv',\n",
       " 'L_Outcome.csv',\n",
       " 'L_BloodPressure_Medium.csv',\n",
       " 'L_Glucose_Low.csv',\n",
       " 'L_SkinThickness_Low.csv',\n",
       " 'L_DiabetesPedigreeFunction_Medium.csv']"
      ]
     },
     "execution_count": 6,
     "metadata": {},
     "output_type": "execute_result"
    }
   ],
   "source": [
    "file_list"
   ]
  },
  {
   "cell_type": "code",
   "execution_count": 5,
   "metadata": {},
   "outputs": [
    {
     "data": {
      "text/plain": [
       "{'supervised': ['L_Age_Medium',\n",
       "  'L_DiabetesPedigreeFunction_Low',\n",
       "  'L_BMI_Low',\n",
       "  'L_BMI_Medium',\n",
       "  'L_Glucose_High',\n",
       "  'L_Pregnancies_Medium',\n",
       "  'L_DiabetesPedigreeFunction_High',\n",
       "  'L_Pregnancies_Low',\n",
       "  'L_Glucose_Medium',\n",
       "  'L_BloodPressure_High',\n",
       "  'L_SkinThickness_Medium',\n",
       "  'L_SkinThickness_High',\n",
       "  'L_BMI_High',\n",
       "  'L_Pregnancies_High',\n",
       "  'L_BloodPressure_Low',\n",
       "  'L_Age_High',\n",
       "  'L_Age_Low',\n",
       "  'L_Outcome',\n",
       "  'L_BloodPressure_Medium',\n",
       "  'L_Glucose_Low',\n",
       "  'L_SkinThickness_Low',\n",
       "  'L_DiabetesPedigreeFunction_Medium'],\n",
       " 'unsupervised': ['U'],\n",
       " 'rule': ['rules_4']}"
      ]
     },
     "execution_count": 5,
     "metadata": {},
     "output_type": "execute_result"
    }
   ],
   "source": [
    "file_names_dict"
   ]
  },
  {
   "cell_type": "code",
   "execution_count": null,
   "metadata": {},
   "outputs": [],
   "source": []
  },
  {
   "cell_type": "code",
   "execution_count": null,
   "metadata": {},
   "outputs": [],
   "source": []
  },
  {
   "cell_type": "code",
   "execution_count": null,
   "metadata": {},
   "outputs": [],
   "source": []
  },
  {
   "cell_type": "code",
   "execution_count": null,
   "metadata": {},
   "outputs": [],
   "source": []
  },
  {
   "cell_type": "code",
   "execution_count": null,
   "metadata": {},
   "outputs": [],
   "source": []
  },
  {
   "cell_type": "code",
   "execution_count": null,
   "metadata": {},
   "outputs": [],
   "source": []
  }
 ],
 "metadata": {
  "kernelspec": {
   "display_name": "myenv",
   "language": "python",
   "name": "python3"
  },
  "language_info": {
   "codemirror_mode": {
    "name": "ipython",
    "version": 3
   },
   "file_extension": ".py",
   "mimetype": "text/x-python",
   "name": "python",
   "nbconvert_exporter": "python",
   "pygments_lexer": "ipython3",
   "version": "3.10.12"
  }
 },
 "nbformat": 4,
 "nbformat_minor": 2
}
