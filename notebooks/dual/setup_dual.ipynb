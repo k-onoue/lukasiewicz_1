{
 "cells": [
  {
   "cell_type": "code",
   "execution_count": 33,
   "metadata": {},
   "outputs": [
    {
     "name": "stdout",
     "output_type": "stream",
     "text": [
      "The autoreload extension is already loaded. To reload it, use:\n",
      "  %reload_ext autoreload\n"
     ]
    }
   ],
   "source": [
    "%load_ext autoreload\n",
    "%autoreload 2"
   ]
  },
  {
   "cell_type": "code",
   "execution_count": 34,
   "metadata": {},
   "outputs": [],
   "source": [
    "import os\n",
    "import sys \n",
    "\n",
    "project_dir_path = '/home/onoue/ws/lukasiewicz_1'\n",
    "sys.path.append(project_dir_path)\n",
    "\n",
    "import cvxpy as cp \n",
    "import numpy as np \n",
    "import pandas as pd \n",
    "\n",
    "from src.setup_problem_dual import Setup\n",
    "from src.setup_problem_dual import ObjectiveFunction\n",
    "from src.setup_problem_dual import Predicate_dual"
   ]
  },
  {
   "cell_type": "code",
   "execution_count": 35,
   "metadata": {},
   "outputs": [
    {
     "name": "stdout",
     "output_type": "stream",
     "text": [
      "load_data took 0.011217832565307617 seconds!\n",
      "load_rules took 0.003435373306274414 seconds!\n",
      "formulate_predicates_with_cvxpy took 0.0005810260772705078 seconds!\n",
      "_construct_P took 0.051149845123291016 seconds!\n",
      "construct_constraints took 0.05926227569580078 seconds!\n",
      "===============================================================================\n",
      "                                     CVXPY                                     \n",
      "                                     v1.3.2                                    \n",
      "===============================================================================\n",
      "(CVXPY) Dec 24 12:05:41 AM: Your problem has 96 variables, 135 constraints, and 0 parameters.\n",
      "(CVXPY) Dec 24 12:05:41 AM: It is compliant with the following grammars: DCP, DQCP\n",
      "(CVXPY) Dec 24 12:05:41 AM: (If you need to solve this problem multiple times, but with different data, consider using parameters.)\n",
      "(CVXPY) Dec 24 12:05:41 AM: CVXPY will first compile your problem; then, it will invoke a numerical solver to obtain a solution.\n",
      "-------------------------------------------------------------------------------\n",
      "                                  Compilation                                  \n",
      "-------------------------------------------------------------------------------\n",
      "(CVXPY) Dec 24 12:05:41 AM: Compiling problem (target solver=OSQP).\n",
      "(CVXPY) Dec 24 12:05:41 AM: Reduction chain: FlipObjective -> CvxAttr2Constr -> Qp2SymbolicQp -> QpMatrixStuffing -> OSQP\n",
      "(CVXPY) Dec 24 12:05:41 AM: Applying reduction FlipObjective\n",
      "(CVXPY) Dec 24 12:05:41 AM: Applying reduction CvxAttr2Constr\n",
      "(CVXPY) Dec 24 12:05:41 AM: Applying reduction Qp2SymbolicQp\n",
      "(CVXPY) Dec 24 12:05:41 AM: Applying reduction QpMatrixStuffing\n"
     ]
    },
    {
     "name": "stdout",
     "output_type": "stream",
     "text": [
      "(CVXPY) Dec 24 12:05:41 AM: Applying reduction OSQP\n",
      "(CVXPY) Dec 24 12:05:41 AM: Finished problem compilation (took 3.387e-01 seconds).\n",
      "-------------------------------------------------------------------------------\n",
      "                                Numerical solver                               \n",
      "-------------------------------------------------------------------------------\n",
      "(CVXPY) Dec 24 12:05:41 AM: Invoking solver OSQP  to obtain a solution.\n",
      "-----------------------------------------------------------------\n",
      "           OSQP v0.6.3  -  Operator Splitting QP Solver\n",
      "              (c) Bartolomeo Stellato,  Goran Banjac\n",
      "        University of Oxford  -  Stanford University 2021\n",
      "-----------------------------------------------------------------\n",
      "problem:  variables n = 162, constraints m = 297\n",
      "          nnz(P) + nnz(A) = 1068\n",
      "settings: linear system solver = qdldl,\n",
      "          eps_abs = 1.0e-05, eps_rel = 1.0e-05,\n",
      "          eps_prim_inf = 1.0e-04, eps_dual_inf = 1.0e-04,\n",
      "          rho = 1.00e-01 (adaptive),\n",
      "          sigma = 1.00e-06, alpha = 1.60, max_iter = 10000\n",
      "          check_termination: on (interval 25),\n",
      "          scaling: on, scaled_termination: off\n",
      "          warm start: on, polish: on, time_limit: off\n",
      "\n",
      "iter   objective    pri res    dua res    rho        time\n",
      "   1  -3.3670e+02   1.81e+00   6.00e+00   1.00e-01   3.02e-04s\n",
      " 200  -7.5703e+02   6.98e-03   1.77e-03   1.59e-02   1.69e-03s\n",
      " 275  -7.5684e+02   4.49e-04   4.35e-05   1.59e-02   2.20e-03s\n",
      "\n",
      "status:               solved\n",
      "solution polish:      unsuccessful\n",
      "number of iterations: 275\n",
      "optimal objective:    -756.8428\n",
      "run time:             2.47e-03s\n",
      "optimal rho estimate: 1.88e-02\n",
      "\n",
      "-------------------------------------------------------------------------------\n",
      "                                    Summary                                    \n",
      "-------------------------------------------------------------------------------\n",
      "(CVXPY) Dec 24 12:05:41 AM: Problem status: optimal\n",
      "(CVXPY) Dec 24 12:05:41 AM: Optimal value: 7.568e+02\n",
      "(CVXPY) Dec 24 12:05:41 AM: Compilation took 3.387e-01 seconds\n",
      "(CVXPY) Dec 24 12:05:41 AM: Solver (including time spent in interface) took 6.052e-03 seconds\n"
     ]
    }
   ],
   "source": [
    "data_dir_path = \"./../../inputs/toy_data_loss\" # たまたまファイル名が都合よいだけで，loss 関数は関係がない\n",
    "\n",
    "file_names_dict = {\n",
    "    'supervised': ['L_p1.csv', 'L_p2.csv', 'L_p3.csv'],\n",
    "    'unsupervised': ['U.csv'],\n",
    "    'rule': ['rules.txt']\n",
    "}\n",
    "\n",
    "problem_instance = Setup(data_dir_path, file_names_dict, ObjectiveFunction, c1=10, c2=10)\n",
    "objective, constraints = problem_instance.main()\n",
    "\n",
    "problem = cp.Problem(objective, constraints)\n",
    "result = problem.solve(verbose=True)"
   ]
  },
  {
   "cell_type": "markdown",
   "metadata": {},
   "source": [
    "# 切片 $b_j$ の値の調整ができていない気がする "
   ]
  },
  {
   "cell_type": "code",
   "execution_count": 36,
   "metadata": {},
   "outputs": [
    {
     "name": "stdout",
     "output_type": "stream",
     "text": [
      "[0.1 0.5] -1.0 -0.1749513617619951\n",
      "[0.4 0.4] -1.0 -0.1499873602538544\n",
      "[0.3 0.8] 1.0 0.5750137019089703\n",
      "[0.9 0.7] 1.0 0.8249387220158491\n"
     ]
    }
   ],
   "source": [
    "p1 = Predicate_dual(problem_instance, 'p1')\n",
    "X = problem_instance.L['p1'][:, :-1]\n",
    "Y = problem_instance.L['p1'][:, -1]\n",
    "for x, y in zip(X, Y):\n",
    "    print(x, y, p1(x))"
   ]
  },
  {
   "cell_type": "code",
   "execution_count": 37,
   "metadata": {},
   "outputs": [
    {
     "name": "stdout",
     "output_type": "stream",
     "text": [
      "[0.1 0.3] -1.0 -0.27228267304232723\n",
      "[0.6 0.4] -1.0 0.04464961915089438\n",
      "[0.2 0.8] 1.0 0.7276330538914335\n",
      "[0.7 0.6] 1.0 0.45923455327520224\n"
     ]
    }
   ],
   "source": [
    "p2 = Predicate_dual(problem_instance, 'p2')\n",
    "X = problem_instance.L['p2'][:, :-1]\n",
    "Y = problem_instance.L['p2'][:, -1]\n",
    "for x, y in zip(X, Y):\n",
    "    print(x, y, p2(x))"
   ]
  },
  {
   "cell_type": "code",
   "execution_count": 38,
   "metadata": {},
   "outputs": [
    {
     "name": "stdout",
     "output_type": "stream",
     "text": [
      "[0.4 0.2] -1.0 5.5232701568597165e-05\n",
      "[0.9 0.3] -1.0 0.19983622227772913\n",
      "[0.2 0.6] 1.0 0.8001209696041875\n",
      "[0.5 0.7] 1.0 0.9999875754165142\n"
     ]
    }
   ],
   "source": [
    "p3 = Predicate_dual(problem_instance, 'p3')\n",
    "X = problem_instance.L['p3'][:, :-1]\n",
    "Y = problem_instance.L['p3'][:, -1]\n",
    "for x, y in zip(X, Y):\n",
    "    print(x, y, p3(x))"
   ]
  },
  {
   "cell_type": "code",
   "execution_count": 39,
   "metadata": {},
   "outputs": [
    {
     "data": {
      "image/png": "[encoded data removed]",
      "text/plain": [
       "<Figure size 600x400 with 1 Axes>"
      ]
     },
     "metadata": {},
     "output_type": "display_data"
    }
   ],
   "source": [
    "import matplotlib.pyplot as plt \n",
    "\n",
    "\n",
    "plt.figure(figsize=(6,4))\n",
    "\n",
    "p1 = Predicate_dual(problem_instance, 'p1')\n",
    "p2 = Predicate_dual(problem_instance, 'p2')\n",
    "p3 = Predicate_dual(problem_instance, 'p3')\n",
    "\n",
    "\n",
    "\n",
    "ps = [p1, p2, p3]\n",
    "\n",
    "test_x = np.linspace(0.05, 0.95, 100).reshape(-1, 1)\n",
    "test_ys = []\n",
    "\n",
    "for p in ps:\n",
    "    w1 = p.coeff[0]\n",
    "    w2 = p.coeff[1]\n",
    "    b  = p.coeff[2]\n",
    "\n",
    "    x = np.hstack([test_x, np.ones_like(test_x)])\n",
    "    w = np.array([-w1/w2, -b/w2 + 0.5/w2]).reshape(-1,1)\n",
    "\n",
    "    test_ys.append(x @ w)\n",
    "\n",
    "\n",
    "colors = ['red', 'blue', 'green']\n",
    "\n",
    "\n",
    "for p, c in zip(ps, colors):\n",
    "    for l in range(4):\n",
    "        if p.L[l, -1] == 1:\n",
    "            plt.scatter(p.L[l, 0], p.L[l, 1], c=c, marker='o', label='1')\n",
    "        else:\n",
    "            plt.scatter(p.L[l, 0], p.L[l, 1], facecolors='none', edgecolors=c, marker='o', label='-1')\n",
    "        \n",
    "for j, test_y in enumerate(test_ys):\n",
    "    plt.plot(test_x, test_y, label=f'p{j+1}')\n",
    "\n",
    "plt.xlabel(\"x1\")\n",
    "plt.ylabel(\"x2\")\n",
    "plt.legend()\n",
    "plt.grid(True)\n",
    "plt.show()"
   ]
  },
  {
   "cell_type": "code",
   "execution_count": 19,
   "metadata": {},
   "outputs": [
    {
     "data": {
      "text/plain": [
       "array([ 0.74987006,  1.99997017, -1.24992345])"
      ]
     },
     "execution_count": 19,
     "metadata": {},
     "output_type": "execute_result"
    }
   ],
   "source": [
    "p1.coeff"
   ]
  },
  {
   "cell_type": "code",
   "execution_count": 11,
   "metadata": {},
   "outputs": [
    {
     "data": {
      "text/plain": [
       "(array([0.24364406, 1.95110264]), -0.8819778714364581)"
      ]
     },
     "execution_count": 11,
     "metadata": {},
     "output_type": "execute_result"
    }
   ],
   "source": [
    "p2.w_linear_kernel, p2.b"
   ]
  },
  {
   "cell_type": "code",
   "execution_count": 10,
   "metadata": {},
   "outputs": [
    {
     "data": {
      "text/plain": [
       "(array([-4.28081181e-04,  1.99995030e+00]), -0.3997635951592775)"
      ]
     },
     "execution_count": 10,
     "metadata": {},
     "output_type": "execute_result"
    }
   ],
   "source": [
    "p3.w_linear_kernel, p3.b"
   ]
  },
  {
   "cell_type": "code",
   "execution_count": 14,
   "metadata": {},
   "outputs": [
    {
     "data": {
      "text/plain": [
       "array([[ 0.1,  0.5, -1. ],\n",
       "       [ 0.4,  0.4, -1. ],\n",
       "       [ 0.3,  0.8,  1. ],\n",
       "       [ 0.9,  0.7,  1. ]])"
      ]
     },
     "execution_count": 14,
     "metadata": {},
     "output_type": "execute_result"
    }
   ],
   "source": [
    "p1.L"
   ]
  },
  {
   "cell_type": "code",
   "execution_count": null,
   "metadata": {},
   "outputs": [],
   "source": [
    "from src.misc import boundary_equation_2d\n",
    "\n",
    "\n",
    "def visualize_result(, colors=['red', 'blue', 'green', 'yellow', 'black']) -> None:\n",
    "    \"\"\"\n",
    "    入力データの次元が 2 のときのみ使用可能\n",
    "    \"\"\"\n",
    "    L = problem_instance.L\n",
    "    w_j = problem_instance.w_j.value\n",
    "    len_j = problem_instance.len_j\n",
    "    len_l = problem_instance.len_l\n",
    "\n",
    "    test_x = np.linspace(0.05, 0.95, 100).reshape(-1, 1)\n",
    "    test_ys = []\n",
    "    for w in w_j:\n",
    "        test_ys.append(boundary_equation_2d(test_x, w))\n",
    "\n",
    "    plt.figure(figsize=(6,4))\n",
    "    \n",
    "    for j, p_name in enumerate(problem_instance.predicates_dict.keys()):\n",
    "        for l in range(len_l):\n",
    "            if L[p_name][l, 2] == 1:\n",
    "                plt.scatter(L[p_name][l,0], L[p_name][l,1], c=colors[j], marker='o', label='1')\n",
    "            else:\n",
    "                plt.scatter(L[p_name][l,0], L[p_name][l,1], facecolors='none', edgecolors=colors[j], marker='o', label='-1')\n",
    "\n",
    "    for j, test_y in enumerate(test_ys):\n",
    "        plt.plot(test_x, test_y, label=f'p{j+1}')\n",
    "    \n",
    "    plt.xlabel(\"x1\")\n",
    "    plt.ylabel(\"x2\")\n",
    "    plt.legend()\n",
    "    plt.grid(True)\n",
    "    plt.show()\n",
    "\n"
   ]
  },
  {
   "cell_type": "code",
   "execution_count": null,
   "metadata": {},
   "outputs": [],
   "source": []
  },
  {
   "cell_type": "code",
   "execution_count": null,
   "metadata": {},
   "outputs": [],
   "source": [
    "array([[ 7.50000000e-01,  2.00000000e+00, -1.07500000e+00],\n",
    "       [ 3.19767438e-01,  1.93604651e+00, -6.12790698e-01],\n",
    "       [ 1.09409846e-10,  2.00000000e+00, -4.00000000e-01]])"
   ]
  },
  {
   "cell_type": "code",
   "execution_count": null,
   "metadata": {},
   "outputs": [],
   "source": []
  },
  {
   "cell_type": "code",
   "execution_count": null,
   "metadata": {},
   "outputs": [],
   "source": []
  },
  {
   "cell_type": "markdown",
   "metadata": {},
   "source": [
    "# $b_j$ に 0.5 を足してみる (0 を閾値にする)"
   ]
  },
  {
   "cell_type": "code",
   "execution_count": 18,
   "metadata": {},
   "outputs": [
    {
     "name": "stdout",
     "output_type": "stream",
     "text": [
      "b: -1.7499373259309368\n",
      "[0.1 0.5] -1.0 -0.1749766844491083\n",
      "[0.4 0.4] -1.0 -0.14998720532296783\n",
      "[0.3 0.8] 1.0 0.574991653687335\n",
      "[0.9 0.7] 1.0 0.8249638897720766\n"
     ]
    }
   ],
   "source": [
    "p1 = Predicate_dual(problem_instance, 'p1')\n",
    "X = problem_instance.L['p1'][:, :-1]\n",
    "Y = problem_instance.L['p1'][:, -1]\n",
    "for x, y in zip(X, Y):\n",
    "    print(x, y, p1(x))"
   ]
  },
  {
   "cell_type": "code",
   "execution_count": 19,
   "metadata": {},
   "outputs": [
    {
     "name": "stdout",
     "output_type": "stream",
     "text": [
      "b: -0.38923786217070516\n",
      "[0.1 0.3] -1.0 0.32230386117932097\n",
      "[0.6 0.4] -1.0 0.4323078205647723\n",
      "[0.2 0.8] 1.0 0.6692319641528715\n",
      "[0.7 0.6] 1.0 0.5761563541030352\n"
     ]
    }
   ],
   "source": [
    "p2 = Predicate_dual(problem_instance, 'p2')\n",
    "X = problem_instance.L['p2'][:, :-1]\n",
    "Y = problem_instance.L['p2'][:, -1]\n",
    "for x, y in zip(X, Y):\n",
    "    print(x, y, p2(x))"
   ]
  },
  {
   "cell_type": "code",
   "execution_count": 20,
   "metadata": {},
   "outputs": [
    {
     "name": "stdout",
     "output_type": "stream",
     "text": [
      "b: -0.22497168048434366\n",
      "[0.4 0.2] -1.0 0.37500491911111916\n",
      "[0.9 0.3] -1.0 0.42497497036294196\n",
      "[0.2 0.6] 1.0 0.5750189467884236\n",
      "[0.5 0.7] 1.0 0.6250011637375155\n"
     ]
    }
   ],
   "source": [
    "p3 = Predicate_dual(problem_instance, 'p3')\n",
    "X = problem_instance.L['p3'][:, :-1]\n",
    "Y = problem_instance.L['p3'][:, -1]\n",
    "for x, y in zip(X, Y):\n",
    "    print(x, y, p3(x))"
   ]
  },
  {
   "cell_type": "code",
   "execution_count": 19,
   "metadata": {},
   "outputs": [
    {
     "data": {
      "text/plain": [
       "array([1., 1.])"
      ]
     },
     "execution_count": 19,
     "metadata": {},
     "output_type": "execute_result"
    }
   ],
   "source": [
    "np.ones(2)"
   ]
  },
  {
   "cell_type": "code",
   "execution_count": 5,
   "metadata": {},
   "outputs": [],
   "source": [
    "import matplotlib.pyplot as plt"
   ]
  },
  {
   "cell_type": "code",
   "execution_count": null,
   "metadata": {},
   "outputs": [],
   "source": [
    "test_x = np.linspace(0.05, 0.95, 100).reshape(-1,1)"
   ]
  },
  {
   "cell_type": "code",
   "execution_count": 15,
   "metadata": {},
   "outputs": [
    {
     "data": {
      "text/plain": [
       "(2, 4)"
      ]
     },
     "execution_count": 15,
     "metadata": {},
     "output_type": "execute_result"
    }
   ],
   "source": [
    "np.random.rand(2,4).shape"
   ]
  },
  {
   "cell_type": "code",
   "execution_count": 18,
   "metadata": {},
   "outputs": [
    {
     "data": {
      "text/plain": [
       "(2,)"
      ]
     },
     "execution_count": 18,
     "metadata": {},
     "output_type": "execute_result"
    }
   ],
   "source": [
    "np.random.rand(2).shape"
   ]
  },
  {
   "cell_type": "markdown",
   "metadata": {},
   "source": [
    "# カーネルを非線形のものにして，pima indian に対して適用してみる"
   ]
  },
  {
   "cell_type": "code",
   "execution_count": 6,
   "metadata": {},
   "outputs": [],
   "source": [
    "data_dir_path = os.path.join(project_dir_path, 'inputs/pima_indian_diabetes')\n",
    "train_data_dir_path = os.path.join(data_dir_path, \"train\")\n",
    "file_list = os.listdir(train_data_dir_path)\n",
    "\n",
    "L_files = [filename for filename in file_list \n",
    "           if filename.startswith('L') and filename.endswith('.csv')]\n",
    "\n",
    "U_files = [filename for filename in file_list \n",
    "           if filename.startswith('U') and filename.endswith('.csv')]\n",
    "\n",
    "file_names_dict = {\n",
    "    'supervised': L_files,\n",
    "    'unsupervised': U_files,\n",
    "    'rule': ['rules.txt']\n",
    "}"
   ]
  },
  {
   "cell_type": "code",
   "execution_count": 9,
   "metadata": {},
   "outputs": [
    {
     "name": "stdout",
     "output_type": "stream",
     "text": [
      "load_data took 0.14220952987670898 seconds!\n",
      "load_rules took 0.08345651626586914 seconds!\n",
      "formulate_predicates_with_cvxpy took 0.0009579658508300781 seconds!\n"
     ]
    },
    {
     "ename": "KeyboardInterrupt",
     "evalue": "",
     "output_type": "error",
     "traceback": [
      "\u001b[0;31m---------------------------------------------------------------------------\u001b[0m",
      "\u001b[0;31mKeyboardInterrupt\u001b[0m                         Traceback (most recent call last)",
      "Cell \u001b[0;32mIn[9], line 2\u001b[0m\n\u001b[1;32m      1\u001b[0m problem_instance \u001b[38;5;241m=\u001b[39m Setup(train_data_dir_path, file_names_dict, ObjectiveFunction)\n\u001b[0;32m----> 2\u001b[0m objective, constraints \u001b[38;5;241m=\u001b[39m \u001b[43mproblem_instance\u001b[49m\u001b[38;5;241;43m.\u001b[39;49m\u001b[43mmain\u001b[49m\u001b[43m(\u001b[49m\u001b[43m)\u001b[49m\n\u001b[1;32m      4\u001b[0m problem \u001b[38;5;241m=\u001b[39m cp\u001b[38;5;241m.\u001b[39mProblem(objective, constraints)\n\u001b[1;32m      5\u001b[0m result \u001b[38;5;241m=\u001b[39m problem\u001b[38;5;241m.\u001b[39msolve(verbose\u001b[38;5;241m=\u001b[39m\u001b[38;5;28;01mTrue\u001b[39;00m)\n",
      "File \u001b[0;32m~/ws/lukasiewicz_1/src/setup_problem_dual.py:512\u001b[0m, in \u001b[0;36mSetup.main\u001b[0;34m(self)\u001b[0m\n\u001b[1;32m    510\u001b[0m \u001b[38;5;28mself\u001b[39m\u001b[38;5;241m.\u001b[39mload_rules()\n\u001b[1;32m    511\u001b[0m \u001b[38;5;28mself\u001b[39m\u001b[38;5;241m.\u001b[39mformulate_predicates_with_cvxpy()\n\u001b[0;32m--> 512\u001b[0m objective_function \u001b[38;5;241m=\u001b[39m \u001b[38;5;28;43mself\u001b[39;49m\u001b[38;5;241;43m.\u001b[39;49m\u001b[43mobj\u001b[49m\u001b[43m(\u001b[49m\u001b[38;5;28;43mself\u001b[39;49m\u001b[43m)\u001b[49m\u001b[38;5;241;43m.\u001b[39;49m\u001b[43mconstruct\u001b[49m\u001b[43m(\u001b[49m\u001b[43m)\u001b[49m\n\u001b[1;32m    513\u001b[0m constraints \u001b[38;5;241m=\u001b[39m \u001b[38;5;28mself\u001b[39m\u001b[38;5;241m.\u001b[39mconstruct_constraints()\n\u001b[1;32m    514\u001b[0m \u001b[38;5;28;01mreturn\u001b[39;00m objective_function, constraints\n",
      "File \u001b[0;32m~/ws/lukasiewicz_1/src/setup_problem_dual.py:680\u001b[0m, in \u001b[0;36mconstruct\u001b[0;34m(self)\u001b[0m\n\u001b[1;32m    653\u001b[0m     \u001b[38;5;28;01mreturn\u001b[39;00m cp\u001b[38;5;241m.\u001b[39mvstack(x), P\n\u001b[1;32m    655\u001b[0m \u001b[38;5;66;03m# def _construct_q_(self, mapping_x_i: Dict[str, dict]) -> np.ndarray:\u001b[39;00m\n\u001b[1;32m    656\u001b[0m \u001b[38;5;66;03m#     q_ = np.zeros((len(x), 1))\u001b[39;00m\n\u001b[1;32m    657\u001b[0m \u001b[38;5;66;03m#     col = 0\u001b[39;00m\n\u001b[0;32m   (...)\u001b[0m\n\u001b[1;32m    676\u001b[0m \u001b[38;5;66;03m#     for j in range(self.len_j):\u001b[39;00m\n\u001b[1;32m    677\u001b[0m \u001b[38;5;66;03m#         for s in range(self.len_s):\u001b[39;00m\n\u001b[0;32m--> 680\u001b[0m \u001b[38;5;28;01mdef\u001b[39;00m \u001b[38;5;21mconstruct\u001b[39m(\u001b[38;5;28mself\u001b[39m) \u001b[38;5;241m-\u001b[39m\u001b[38;5;241m>\u001b[39m cp\u001b[38;5;241m.\u001b[39mExpression:\n\u001b[1;32m    681\u001b[0m     x, P \u001b[38;5;241m=\u001b[39m \u001b[38;5;28mself\u001b[39m\u001b[38;5;241m.\u001b[39m_construct_P()\n\u001b[1;32m    682\u001b[0m     objective_function \u001b[38;5;241m=\u001b[39m cp\u001b[38;5;241m.\u001b[39mquad_form(x, P)\n",
      "File \u001b[0;32m~/ws/lukasiewicz_1/src/setup_problem_dual.py:602\u001b[0m, in \u001b[0;36mObjectiveFunction._construct_P\u001b[0;34m(self)\u001b[0m\n\u001b[1;32m    600\u001b[0m \u001b[38;5;28;01mfor\u001b[39;00m u_col \u001b[38;5;129;01min\u001b[39;00m \u001b[38;5;28mrange\u001b[39m(\u001b[38;5;28mself\u001b[39m\u001b[38;5;241m.\u001b[39mlen_u):\n\u001b[1;32m    601\u001b[0m     M_row \u001b[38;5;241m=\u001b[39m \u001b[38;5;28mself\u001b[39m\u001b[38;5;241m.\u001b[39mM[h_row][i_row, u_row]\n\u001b[0;32m--> 602\u001b[0m     M_col \u001b[38;5;241m=\u001b[39m \u001b[38;5;28mself\u001b[39m\u001b[38;5;241m.\u001b[39mM[h_col][i_col, u_col]\n\u001b[1;32m    603\u001b[0m     \u001b[38;5;28;01mif\u001b[39;00m M_row \u001b[38;5;241m!=\u001b[39m \u001b[38;5;241m0\u001b[39m \u001b[38;5;129;01mand\u001b[39;00m M_col \u001b[38;5;241m!=\u001b[39m \u001b[38;5;241m0\u001b[39m:\n\u001b[1;32m    604\u001b[0m         row \u001b[38;5;241m=\u001b[39m mapping_x_i[\u001b[38;5;124m'\u001b[39m\u001b[38;5;124mlambda_hi\u001b[39m\u001b[38;5;124m'\u001b[39m][(h_row, i_row)]\n",
      "\u001b[0;31mKeyboardInterrupt\u001b[0m: "
     ]
    }
   ],
   "source": [
    "problem_instance = Setup(train_data_dir_path, file_names_dict, ObjectiveFunction)\n",
    "objective, constraints = problem_instance.main()\n",
    "\n",
    "problem = cp.Problem(objective, constraints)\n",
    "result = problem.solve(verbose=True)"
   ]
  },
  {
   "cell_type": "code",
   "execution_count": null,
   "metadata": {},
   "outputs": [],
   "source": [
    "test_data_dir_path = os.path.join(data_dir_path, \"test\")\n",
    "file_path = os.path.join(test_data_dir_path, \"L_Outcome.csv\")\n",
    "test_df = pd.read_csv(file_path, index_col=0)\n",
    "\n",
    "p = Predicate_dual(problem_instance, 'Outcome')\n"
   ]
  },
  {
   "cell_type": "code",
   "execution_count": null,
   "metadata": {},
   "outputs": [],
   "source": []
  },
  {
   "cell_type": "code",
   "execution_count": null,
   "metadata": {},
   "outputs": [],
   "source": []
  },
  {
   "cell_type": "code",
   "execution_count": null,
   "metadata": {},
   "outputs": [],
   "source": []
  },
  {
   "cell_type": "code",
   "execution_count": null,
   "metadata": {},
   "outputs": [],
   "source": []
  },
  {
   "cell_type": "code",
   "execution_count": null,
   "metadata": {},
   "outputs": [],
   "source": []
  },
  {
   "cell_type": "code",
   "execution_count": null,
   "metadata": {},
   "outputs": [],
   "source": []
  },
  {
   "cell_type": "code",
   "execution_count": null,
   "metadata": {},
   "outputs": [],
   "source": []
  },
  {
   "cell_type": "code",
   "execution_count": null,
   "metadata": {},
   "outputs": [],
   "source": []
  },
  {
   "cell_type": "code",
   "execution_count": null,
   "metadata": {},
   "outputs": [],
   "source": []
  },
  {
   "cell_type": "code",
   "execution_count": null,
   "metadata": {},
   "outputs": [],
   "source": []
  }
 ],
 "metadata": {
  "kernelspec": {
   "display_name": "myenv",
   "language": "python",
   "name": "python3"
  },
  "language_info": {
   "codemirror_mode": {
    "name": "ipython",
    "version": 3
   },
   "file_extension": ".py",
   "mimetype": "text/x-python",
   "name": "python",
   "nbconvert_exporter": "python",
   "pygments_lexer": "ipython3",
   "version": "3.10.12"
  }
 },
 "nbformat": 4,
 "nbformat_minor": 2
}
