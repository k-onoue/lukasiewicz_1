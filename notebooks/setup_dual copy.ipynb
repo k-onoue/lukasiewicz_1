{
 "cells": [
  {
   "cell_type": "code",
   "execution_count": 1,
   "metadata": {},
   "outputs": [],
   "source": [
    "%load_ext autoreload\n",
    "%autoreload 2"
   ]
  },
  {
   "cell_type": "code",
   "execution_count": 2,
   "metadata": {},
   "outputs": [],
   "source": [
    "import os\n",
    "import sys \n",
    "\n",
    "# project_dir_path = '/home/onoue/ws/lukasiewicz_1'\n",
    "project_dir_path = '/Users/keisukeonoue/ws/lukasiewicz_1'\n",
    "sys.path.append(project_dir_path)\n",
    "\n",
    "import cvxpy as cp \n",
    "import numpy as np \n",
    "import pandas as pd \n",
    "\n",
    "from src.setup_problem_dual_single_task import Setup\n",
    "\n",
    "from src.objective_function_single_task import ObjectiveFunction\n",
    "from src.predicate import Predicate_dual"
   ]
  },
  {
   "cell_type": "code",
   "execution_count": 18,
   "metadata": {},
   "outputs": [],
   "source": [
    "data_dir_path = \"./../inputs/toy_data\"\n",
    "\n",
    "file_names_dict = {\n",
    "    'supervised': ['L_p1.csv', 'L_p2.csv', 'L_p3.csv'],\n",
    "\n",
    "    'unsupervised': ['U.csv'],\n",
    "    'rule': ['rules.txt']\n",
    "}\n",
    "\n",
    "# problem_instance = Setup(data_dir_path, file_names_dict, ObjectiveFunction, 'p3', c1=10, c2=10)\n",
    "\n",
    "# objective, constraints = problem_instance.main()\n",
    "\n",
    "# problem = cp.Problem(objective, constraints)\n",
    "# result = problem.solve(verbose=True)"
   ]
  },
  {
   "cell_type": "markdown",
   "metadata": {},
   "source": [
    "# 精度は悪くなさそう\n",
    "\n",
    " ~~切片 $b_j$ の値の調整ができていない気がする~~"
   ]
  },
  {
   "cell_type": "code",
   "execution_count": 19,
   "metadata": {},
   "outputs": [
    {
     "name": "stdout",
     "output_type": "stream",
     "text": [
      "load_data took 0.00888824462890625 seconds!\n",
      "load_rules took 0.0010998249053955078 seconds!\n",
      "formulate_predicates_with_cvxpy took 9.584426879882812e-05 seconds!\n",
      "(6, 6)\n",
      "_construct_P_j took 0.003971099853515625 seconds!\n",
      "construct_constraints took 0.016021013259887695 seconds!\n",
      "===============================================================================\n",
      "                                     CVXPY                                     \n",
      "                                     v1.3.2                                    \n",
      "===============================================================================\n",
      "(CVXPY) Jan 26 01:33:57 PM: Your problem has 96 variables, 39 constraints, and 0 parameters.\n",
      "(CVXPY) Jan 26 01:33:57 PM: It is compliant with the following grammars: DCP, DQCP\n",
      "(CVXPY) Jan 26 01:33:57 PM: (If you need to solve this problem multiple times, but with different data, consider using parameters.)\n",
      "(CVXPY) Jan 26 01:33:57 PM: CVXPY will first compile your problem; then, it will invoke a numerical solver to obtain a solution.\n",
      "-------------------------------------------------------------------------------\n",
      "                                  Compilation                                  \n",
      "-------------------------------------------------------------------------------\n",
      "(CVXPY) Jan 26 01:33:58 PM: Compiling problem (target solver=OSQP).\n",
      "(CVXPY) Jan 26 01:33:58 PM: Reduction chain: FlipObjective -> CvxAttr2Constr -> Qp2SymbolicQp -> QpMatrixStuffing -> OSQP\n",
      "(CVXPY) Jan 26 01:33:58 PM: Applying reduction FlipObjective\n",
      "(CVXPY) Jan 26 01:33:58 PM: Applying reduction CvxAttr2Constr\n",
      "(CVXPY) Jan 26 01:33:58 PM: Applying reduction Qp2SymbolicQp\n",
      "(CVXPY) Jan 26 01:33:58 PM: Applying reduction QpMatrixStuffing\n",
      "(CVXPY) Jan 26 01:33:58 PM: Applying reduction OSQP\n",
      "(CVXPY) Jan 26 01:33:58 PM: Finished problem compilation (took 1.333e-01 seconds).\n",
      "-------------------------------------------------------------------------------\n",
      "                                Numerical solver                               \n",
      "-------------------------------------------------------------------------------\n",
      "(CVXPY) Jan 26 01:33:58 PM: Invoking solver OSQP  to obtain a solution.\n",
      "-----------------------------------------------------------------\n",
      "           OSQP v0.6.3  -  Operator Splitting QP Solver\n",
      "              (c) Bartolomeo Stellato,  Goran Banjac\n",
      "        University of Oxford  -  Stanford University 2021\n",
      "-----------------------------------------------------------------\n",
      "problem:  variables n = 134, constraints m = 173\n",
      "          nnz(P) + nnz(A) = 542\n",
      "settings: linear system solver = qdldl,\n",
      "          eps_abs = 1.0e-05, eps_rel = 1.0e-05,\n",
      "          eps_prim_inf = 1.0e-04, eps_dual_inf = 1.0e-04,\n",
      "          rho = 1.00e-01 (adaptive),\n",
      "          sigma = 1.00e-06, alpha = 1.60, max_iter = 10000\n",
      "          check_termination: on (interval 25),\n",
      "          scaling: on, scaled_termination: off\n",
      "          warm start: on, polish: on, time_limit: off\n",
      "\n",
      "iter   objective    pri res    dua res    rho        time\n",
      "   1  -1.3133e+02   1.46e+01   7.88e-01   1.00e-01   1.43e-04s\n",
      " 150  -1.0031e+01   7.26e-05   1.18e-05   1.00e-01   5.91e-04s\n",
      "\n",
      "status:               solved\n",
      "solution polish:      unsuccessful\n",
      "number of iterations: 150\n",
      "optimal objective:    -10.0306\n",
      "run time:             6.62e-04s\n",
      "optimal rho estimate: 1.22e-01\n",
      "\n",
      "-------------------------------------------------------------------------------\n",
      "                                    Summary                                    \n",
      "-------------------------------------------------------------------------------\n",
      "(CVXPY) Jan 26 01:33:58 PM: Problem status: optimal\n",
      "(CVXPY) Jan 26 01:33:58 PM: Optimal value: 1.003e+01\n",
      "(CVXPY) Jan 26 01:33:58 PM: Compilation took 1.333e-01 seconds\n",
      "(CVXPY) Jan 26 01:33:58 PM: Solver (including time spent in interface) took 1.215e-03 seconds\n"
     ]
    },
    {
     "data": {
      "image/png": "[encoded data removed]",
      "text/plain": [
       "<Figure size 600x400 with 1 Axes>"
      ]
     },
     "metadata": {},
     "output_type": "display_data"
    },
    {
     "name": "stdout",
     "output_type": "stream",
     "text": [
      "\n",
      "p1: [ 0.75018394  2.00021639 -1.01895801]\n"
     ]
    }
   ],
   "source": [
    "problem_instance = Setup(data_dir_path, file_names_dict, ObjectiveFunction, 'p1', c1=10, c2=10)\n",
    "\n",
    "objective, constraints = problem_instance.main()\n",
    "\n",
    "problem = cp.Problem(objective, constraints)\n",
    "result = problem.solve(verbose=True)\n",
    "\n",
    "\n",
    "import matplotlib.pyplot as plt \n",
    "\n",
    "\n",
    "plt.figure(figsize=(6,4))\n",
    "\n",
    "p1 = Predicate_dual(problem_instance, 'p1')\n",
    "# p2 = Predicate_dual(problem_instance, 'p2')\n",
    "# p3 = Predicate_dual(problem_instance, 'p3')\n",
    "\n",
    "\n",
    "\n",
    "# ps = [p1, p2, p3]\n",
    "ps = [p1]\n",
    "\n",
    "test_x = np.linspace(0.05, 0.95, 100).reshape(-1, 1)\n",
    "test_ys = []\n",
    "\n",
    "for p in ps:\n",
    "    w1 = p.coeff[0]\n",
    "    w2 = p.coeff[1]\n",
    "    b  = p.coeff[2]\n",
    "\n",
    "    x = np.hstack([test_x, np.ones_like(test_x)])\n",
    "    w = np.array([-w1/w2, -b/w2 + 0.5/w2]).reshape(-1,1)\n",
    "\n",
    "    test_ys.append(x @ w)\n",
    "\n",
    "\n",
    "colors = ['red', 'blue', 'green']\n",
    "\n",
    "\n",
    "for p, c in zip(ps, colors):\n",
    "    for l in range(4):\n",
    "        if p.L[l, -1] == 1:\n",
    "            plt.scatter(p.L[l, 0], p.L[l, 1], c=c, marker='o', label='1')\n",
    "        else:\n",
    "            plt.scatter(p.L[l, 0], p.L[l, 1], facecolors='none', edgecolors=c, marker='o', label='-1')\n",
    "        \n",
    "for j, test_y in enumerate(test_ys):\n",
    "    plt.plot(test_x, test_y, label=f'p{j+1}')\n",
    "\n",
    "plt.xlabel(\"x1\")\n",
    "plt.ylabel(\"x2\")\n",
    "plt.legend()\n",
    "plt.grid(True)\n",
    "plt.show()\n",
    "\n",
    "print()\n",
    "print(f'p1: {p1.coeff}')"
   ]
  },
  {
   "cell_type": "markdown",
   "metadata": {},
   "source": [
    "```\n",
    "[ 0.75   2.    -1.075]\n",
    "[ 0.31976744  1.93604651 -0.6127907 ]\n",
    "[ 4.4890372e-11  2.0000000e+00 -4.0000000e-01]\n",
    "```"
   ]
  },
  {
   "cell_type": "code",
   "execution_count": 20,
   "metadata": {},
   "outputs": [
    {
     "name": "stdout",
     "output_type": "stream",
     "text": [
      "load_data took 0.00641322135925293 seconds!\n",
      "load_rules took 0.0009348392486572266 seconds!\n",
      "formulate_predicates_with_cvxpy took 5.125999450683594e-05 seconds!\n",
      "(6, 6)\n",
      "_construct_P_j took 0.0045278072357177734 seconds!\n",
      "construct_constraints took 0.014964103698730469 seconds!\n",
      "===============================================================================\n",
      "                                     CVXPY                                     \n",
      "                                     v1.3.2                                    \n",
      "===============================================================================\n",
      "(CVXPY) Jan 26 01:34:11 PM: Your problem has 96 variables, 39 constraints, and 0 parameters.\n",
      "(CVXPY) Jan 26 01:34:11 PM: It is compliant with the following grammars: DCP, DQCP\n",
      "(CVXPY) Jan 26 01:34:11 PM: (If you need to solve this problem multiple times, but with different data, consider using parameters.)\n",
      "(CVXPY) Jan 26 01:34:11 PM: CVXPY will first compile your problem; then, it will invoke a numerical solver to obtain a solution.\n",
      "-------------------------------------------------------------------------------\n",
      "                                  Compilation                                  \n",
      "-------------------------------------------------------------------------------\n",
      "(CVXPY) Jan 26 01:34:11 PM: Compiling problem (target solver=OSQP).\n",
      "(CVXPY) Jan 26 01:34:11 PM: Reduction chain: FlipObjective -> CvxAttr2Constr -> Qp2SymbolicQp -> QpMatrixStuffing -> OSQP\n",
      "(CVXPY) Jan 26 01:34:11 PM: Applying reduction FlipObjective\n",
      "(CVXPY) Jan 26 01:34:11 PM: Applying reduction CvxAttr2Constr\n",
      "(CVXPY) Jan 26 01:34:11 PM: Applying reduction Qp2SymbolicQp\n",
      "(CVXPY) Jan 26 01:34:11 PM: Applying reduction QpMatrixStuffing\n",
      "(CVXPY) Jan 26 01:34:11 PM: Applying reduction OSQP\n",
      "(CVXPY) Jan 26 01:34:11 PM: Finished problem compilation (took 7.792e-02 seconds).\n",
      "-------------------------------------------------------------------------------\n",
      "                                Numerical solver                               \n",
      "-------------------------------------------------------------------------------\n",
      "(CVXPY) Jan 26 01:34:11 PM: Invoking solver OSQP  to obtain a solution.\n",
      "-----------------------------------------------------------------\n",
      "           OSQP v0.6.3  -  Operator Splitting QP Solver\n",
      "              (c) Bartolomeo Stellato,  Goran Banjac\n",
      "        University of Oxford  -  Stanford University 2021\n",
      "-----------------------------------------------------------------\n",
      "problem:  variables n = 134, constraints m = 173\n",
      "          nnz(P) + nnz(A) = 677\n",
      "settings: linear system solver = qdldl,\n",
      "          eps_abs = 1.0e-05, eps_rel = 1.0e-05,\n",
      "          eps_prim_inf = 1.0e-04, eps_dual_inf = 1.0e-04,\n",
      "          rho = 1.00e-01 (adaptive),\n",
      "          sigma = 1.00e-06, alpha = 1.60, max_iter = 10000\n",
      "          check_termination: on (interval 25),\n",
      "          scaling: on, scaled_termination: off\n",
      "          warm start: on, polish: on, time_limit: off\n",
      "\n",
      "iter   objective    pri res    dua res    rho        time\n",
      "   1  -1.3207e+02   1.40e+01   9.38e-01   1.00e-01   1.41e-04s\n",
      " 200  -2.5000e+01   1.98e-03   6.62e-04   7.09e-02   7.89e-04s\n",
      " 350  -2.4997e+01   1.32e-05   2.06e-05   7.09e-02   1.23e-03s\n",
      "\n",
      "status:               solved\n",
      "solution polish:      unsuccessful\n",
      "number of iterations: 350\n",
      "optimal objective:    -24.9968\n",
      "run time:             1.31e-03s\n",
      "optimal rho estimate: 1.95e-02\n",
      "\n",
      "-------------------------------------------------------------------------------\n",
      "                                    Summary                                    \n",
      "-------------------------------------------------------------------------------\n",
      "(CVXPY) Jan 26 01:34:11 PM: Problem status: optimal\n",
      "(CVXPY) Jan 26 01:34:11 PM: Optimal value: 2.500e+01\n",
      "(CVXPY) Jan 26 01:34:11 PM: Compilation took 7.792e-02 seconds\n",
      "(CVXPY) Jan 26 01:34:11 PM: Solver (including time spent in interface) took 1.980e-03 seconds\n"
     ]
    },
    {
     "data": {
      "image/png": "[encoded data removed]",
      "text/plain": [
       "<Figure size 600x400 with 1 Axes>"
      ]
     },
     "metadata": {},
     "output_type": "display_data"
    },
    {
     "name": "stdout",
     "output_type": "stream",
     "text": [
      "\n",
      "p2: [ 0.69761212  1.86045799 -0.75578529]\n"
     ]
    }
   ],
   "source": [
    "problem_instance = Setup(data_dir_path, file_names_dict, ObjectiveFunction, 'p2', c1=10, c2=10)\n",
    "\n",
    "objective, constraints = problem_instance.main()\n",
    "\n",
    "problem = cp.Problem(objective, constraints)\n",
    "result = problem.solve(verbose=True)\n",
    "\n",
    "\n",
    "import matplotlib.pyplot as plt \n",
    "\n",
    "\n",
    "plt.figure(figsize=(6,4))\n",
    "\n",
    "# p1 = Predicate_dual(problem_instance, 'p1')\n",
    "p2 = Predicate_dual(problem_instance, 'p2')\n",
    "# p3 = Predicate_dual(problem_instance, 'p3')\n",
    "\n",
    "\n",
    "\n",
    "# ps = [p1, p2, p3]\n",
    "ps = [p2]\n",
    "\n",
    "test_x = np.linspace(0.05, 0.95, 100).reshape(-1, 1)\n",
    "test_ys = []\n",
    "\n",
    "for p in ps:\n",
    "    w1 = p.coeff[0]\n",
    "    w2 = p.coeff[1]\n",
    "    b  = p.coeff[2]\n",
    "\n",
    "    x = np.hstack([test_x, np.ones_like(test_x)])\n",
    "    w = np.array([-w1/w2, -b/w2 + 0.5/w2]).reshape(-1,1)\n",
    "\n",
    "    test_ys.append(x @ w)\n",
    "\n",
    "\n",
    "colors = ['red', 'blue', 'green']\n",
    "\n",
    "\n",
    "for p, c in zip(ps, colors):\n",
    "    for l in range(4):\n",
    "        if p.L[l, -1] == 1:\n",
    "            plt.scatter(p.L[l, 0], p.L[l, 1], c=c, marker='o', label='1')\n",
    "        else:\n",
    "            plt.scatter(p.L[l, 0], p.L[l, 1], facecolors='none', edgecolors=c, marker='o', label='-1')\n",
    "        \n",
    "for j, test_y in enumerate(test_ys):\n",
    "    plt.plot(test_x, test_y, label=f'p{j+1}')\n",
    "\n",
    "plt.xlabel(\"x1\")\n",
    "plt.ylabel(\"x2\")\n",
    "plt.legend()\n",
    "plt.grid(True)\n",
    "plt.show()\n",
    "\n",
    "print()\n",
    "print(f'p2: {p2.coeff}')"
   ]
  },
  {
   "cell_type": "markdown",
   "metadata": {},
   "source": [
    "```\n",
    "[ 0.75   2.    -1.075]\n",
    "[ 0.31976744  1.93604651 -0.6127907 ]\n",
    "[ 4.4890372e-11  2.0000000e+00 -4.0000000e-01]\n",
    "```"
   ]
  },
  {
   "cell_type": "code",
   "execution_count": 21,
   "metadata": {},
   "outputs": [
    {
     "name": "stdout",
     "output_type": "stream",
     "text": [
      "load_data took 0.006711006164550781 seconds!\n",
      "load_rules took 0.0007302761077880859 seconds!\n",
      "formulate_predicates_with_cvxpy took 5.3882598876953125e-05 seconds!\n",
      "(6, 6)\n",
      "_construct_P_j took 0.00492405891418457 seconds!\n",
      "construct_constraints took 0.015191078186035156 seconds!\n",
      "===============================================================================\n",
      "                                     CVXPY                                     \n",
      "                                     v1.3.2                                    \n",
      "===============================================================================\n",
      "(CVXPY) Jan 26 01:34:23 PM: Your problem has 96 variables, 39 constraints, and 0 parameters.\n",
      "(CVXPY) Jan 26 01:34:23 PM: It is compliant with the following grammars: DCP, DQCP\n",
      "(CVXPY) Jan 26 01:34:23 PM: (If you need to solve this problem multiple times, but with different data, consider using parameters.)\n",
      "(CVXPY) Jan 26 01:34:23 PM: CVXPY will first compile your problem; then, it will invoke a numerical solver to obtain a solution.\n",
      "-------------------------------------------------------------------------------\n",
      "                                  Compilation                                  \n",
      "-------------------------------------------------------------------------------\n",
      "(CVXPY) Jan 26 01:34:24 PM: Compiling problem (target solver=OSQP).\n",
      "(CVXPY) Jan 26 01:34:24 PM: Reduction chain: FlipObjective -> CvxAttr2Constr -> Qp2SymbolicQp -> QpMatrixStuffing -> OSQP\n",
      "(CVXPY) Jan 26 01:34:24 PM: Applying reduction FlipObjective\n",
      "(CVXPY) Jan 26 01:34:24 PM: Applying reduction CvxAttr2Constr\n",
      "(CVXPY) Jan 26 01:34:24 PM: Applying reduction Qp2SymbolicQp\n",
      "(CVXPY) Jan 26 01:34:24 PM: Applying reduction QpMatrixStuffing\n",
      "(CVXPY) Jan 26 01:34:24 PM: Applying reduction OSQP\n",
      "(CVXPY) Jan 26 01:34:24 PM: Finished problem compilation (took 6.984e-02 seconds).\n",
      "-------------------------------------------------------------------------------\n",
      "                                Numerical solver                               \n",
      "-------------------------------------------------------------------------------\n",
      "(CVXPY) Jan 26 01:34:24 PM: Invoking solver OSQP  to obtain a solution.\n",
      "-----------------------------------------------------------------\n",
      "           OSQP v0.6.3  -  Operator Splitting QP Solver\n",
      "              (c) Bartolomeo Stellato,  Goran Banjac\n",
      "        University of Oxford  -  Stanford University 2021\n",
      "-----------------------------------------------------------------\n",
      "problem:  variables n = 134, constraints m = 173\n",
      "          nnz(P) + nnz(A) = 542\n",
      "settings: linear system solver = qdldl,\n",
      "          eps_abs = 1.0e-05, eps_rel = 1.0e-05,\n",
      "          eps_prim_inf = 1.0e-04, eps_dual_inf = 1.0e-04,\n",
      "          rho = 1.00e-01 (adaptive),\n",
      "          sigma = 1.00e-06, alpha = 1.60, max_iter = 10000\n",
      "          check_termination: on (interval 25),\n",
      "          scaling: on, scaled_termination: off\n",
      "          warm start: on, polish: on, time_limit: off\n",
      "\n",
      "iter   objective    pri res    dua res    rho        time\n",
      "   1  -1.3184e+02   1.37e+01   8.09e-01   1.00e-01   1.23e-04s\n",
      " 200  -1.9000e+01   1.34e-05   2.52e-05   1.00e-01   7.18e-04s\n",
      "\n",
      "status:               solved\n",
      "solution polish:      unsuccessful\n",
      "number of iterations: 200\n",
      "optimal objective:    -18.9995\n",
      "run time:             8.34e-04s\n",
      "optimal rho estimate: 2.16e-02\n",
      "\n",
      "-------------------------------------------------------------------------------\n",
      "                                    Summary                                    \n",
      "-------------------------------------------------------------------------------\n",
      "(CVXPY) Jan 26 01:34:24 PM: Problem status: optimal\n",
      "(CVXPY) Jan 26 01:34:24 PM: Optimal value: 1.900e+01\n",
      "(CVXPY) Jan 26 01:34:24 PM: Compilation took 6.984e-02 seconds\n",
      "(CVXPY) Jan 26 01:34:24 PM: Solver (including time spent in interface) took 1.366e-03 seconds\n"
     ]
    },
    {
     "data": {
      "image/png": "[encoded data removed]",
      "text/plain": [
       "<Figure size 600x400 with 1 Axes>"
      ]
     },
     "metadata": {},
     "output_type": "display_data"
    },
    {
     "name": "stdout",
     "output_type": "stream",
     "text": [
      "\n",
      "p3: [-1.06593605e-04  2.00000181e+00 -3.99947520e-01]\n"
     ]
    }
   ],
   "source": [
    "problem_instance = Setup(data_dir_path, file_names_dict, ObjectiveFunction, 'p3', c1=10, c2=10)\n",
    "\n",
    "objective, constraints = problem_instance.main()\n",
    "\n",
    "problem = cp.Problem(objective, constraints)\n",
    "result = problem.solve(verbose=True)\n",
    "\n",
    "\n",
    "import matplotlib.pyplot as plt \n",
    "\n",
    "\n",
    "plt.figure(figsize=(6,4))\n",
    "\n",
    "# p1 = Predicate_dual(problem_instance, 'p1')\n",
    "# p2 = Predicate_dual(problem_instance, 'p2')\n",
    "p3 = Predicate_dual(problem_instance, 'p3')\n",
    "\n",
    "\n",
    "\n",
    "# ps = [p1, p2, p3]\n",
    "ps = [p3]\n",
    "\n",
    "test_x = np.linspace(0.05, 0.95, 100).reshape(-1, 1)\n",
    "test_ys = []\n",
    "\n",
    "for p in ps:\n",
    "    w1 = p.coeff[0]\n",
    "    w2 = p.coeff[1]\n",
    "    b  = p.coeff[2]\n",
    "\n",
    "    x = np.hstack([test_x, np.ones_like(test_x)])\n",
    "    w = np.array([-w1/w2, -b/w2 + 0.5/w2]).reshape(-1,1)\n",
    "\n",
    "    test_ys.append(x @ w)\n",
    "\n",
    "\n",
    "colors = ['red', 'blue', 'green']\n",
    "\n",
    "\n",
    "for p, c in zip(ps, colors):\n",
    "    for l in range(4):\n",
    "        if p.L[l, -1] == 1:\n",
    "            plt.scatter(p.L[l, 0], p.L[l, 1], c=c, marker='o', label='1')\n",
    "        else:\n",
    "            plt.scatter(p.L[l, 0], p.L[l, 1], facecolors='none', edgecolors=c, marker='o', label='-1')\n",
    "        \n",
    "for j, test_y in enumerate(test_ys):\n",
    "    plt.plot(test_x, test_y, label=f'p{j+1}')\n",
    "\n",
    "plt.xlabel(\"x1\")\n",
    "plt.ylabel(\"x2\")\n",
    "plt.legend()\n",
    "plt.grid(True)\n",
    "plt.show()\n",
    "\n",
    "print()\n",
    "print(f'p3: {p3.coeff}')"
   ]
  },
  {
   "cell_type": "markdown",
   "metadata": {},
   "source": [
    "```\n",
    "[ 0.75   2.    -1.075]\n",
    "[ 0.31976744  1.93604651 -0.6127907 ]\n",
    "[ 4.4890372e-11  2.0000000e+00 -4.0000000e-01]\n",
    "```"
   ]
  },
  {
   "cell_type": "code",
   "execution_count": null,
   "metadata": {},
   "outputs": [],
   "source": []
  },
  {
   "cell_type": "code",
   "execution_count": null,
   "metadata": {},
   "outputs": [],
   "source": []
  },
  {
   "cell_type": "code",
   "execution_count": null,
   "metadata": {},
   "outputs": [],
   "source": []
  },
  {
   "cell_type": "code",
   "execution_count": 5,
   "metadata": {},
   "outputs": [
    {
     "name": "stdout",
     "output_type": "stream",
     "text": [
      "0\n",
      "0 6\n",
      "1\n",
      "6 12\n",
      "2\n",
      "12 18\n",
      "p1: [ 0.75000668  2.00006645 -1.01879271]\n",
      "p2: [ 0.24355032  1.95084369 -0.62161307]\n",
      "p3: [-5.39910858e-05  2.00031104e+00 -4.00112971e-01]\n"
     ]
    }
   ],
   "source": [
    "p1 = Predicate_dual(problem_instance, 'p1')\n",
    "# X = problem_instance.L['p1'][:, :-1]\n",
    "# Y = problem_instance.L['p1'][:, -1]\n",
    "# for x, y in zip(X, Y):\n",
    "#     print(x, y, p1(x))\n",
    "\n",
    "p2 = Predicate_dual(problem_instance, 'p2')\n",
    "# X = problem_instance.L['p2'][:, :-1]\n",
    "# Y = problem_instance.L['p2'][:, -1]\n",
    "# for x, y in zip(X, Y):\n",
    "#     print(x, y, p2(x))\n",
    "\n",
    "p3 = Predicate_dual(problem_instance, 'p3')\n",
    "# X = problem_instance.L['p3'][:, :-1]\n",
    "# Y = problem_instance.L['p3'][:, -1]\n",
    "# for x, y in zip(X, Y):\n",
    "#     print(x, y, p3(x))\n",
    "\n",
    "print(f'p1: {p1.coeff}')\n",
    "print(f'p2: {p2.coeff}')\n",
    "print(f'p3: {p3.coeff}')\n",
    "\n",
    "# print(- p1.coeff[2] / p1.coeff[1] + 0.5 / p1.coeff[1])\n",
    "# print(- p2.coeff[2] / p2.coeff[1] + 0.5 / p2.coeff[1])\n",
    "# print(- p3.coeff[2] / p3.coeff[1] + 0.5 / p3.coeff[1])"
   ]
  },
  {
   "cell_type": "code",
   "execution_count": 115,
   "metadata": {},
   "outputs": [
    {
     "name": "stdout",
     "output_type": "stream",
     "text": [
      "p1: [ 0.74999529  1.99998975 -1.01874184]\n",
      "p2: [-35.30163754 -24.13922316  26.27943897]\n",
      "p3: [-71.999874   -51.99989429  60.49988719]\n",
      "0.7593748158231226\n",
      "1.0679481604713514\n",
      "1.1538463300762016\n"
     ]
    }
   ],
   "source": [
    "p1 = Predicate_dual(problem_instance, 'p1')\n",
    "# X = problem_instance.L['p1'][:, :-1]\n",
    "# Y = problem_instance.L['p1'][:, -1]\n",
    "# for x, y in zip(X, Y):\n",
    "#     print(x, y, p1(x))\n",
    "\n",
    "p2 = Predicate_dual(problem_instance, 'p2')\n",
    "# X = problem_instance.L['p2'][:, :-1]\n",
    "# Y = problem_instance.L['p2'][:, -1]\n",
    "# for x, y in zip(X, Y):\n",
    "#     print(x, y, p2(x))\n",
    "\n",
    "p3 = Predicate_dual(problem_instance, 'p3')\n",
    "# X = problem_instance.L['p3'][:, :-1]\n",
    "# Y = problem_instance.L['p3'][:, -1]\n",
    "# for x, y in zip(X, Y):\n",
    "#     print(x, y, p3(x))\n",
    "\n",
    "print(f'p1: {p1.coeff}')\n",
    "print(f'p2: {p2.coeff}')\n",
    "print(f'p3: {p3.coeff}')\n",
    "\n",
    "print(- p1.coeff[2] / p1.coeff[1] + 0.5 / p1.coeff[1])\n",
    "print(- p2.coeff[2] / p2.coeff[1] + 0.5 / p2.coeff[1])\n",
    "print(- p3.coeff[2] / p3.coeff[1] + 0.5 / p3.coeff[1])"
   ]
  },
  {
   "cell_type": "markdown",
   "metadata": {},
   "source": [
    "```\n",
    "[ 0.75   2.    -1.075]\n",
    "[ 0.31976744  1.93604651 -0.6127907 ]\n",
    "[ 4.4890372e-11  2.0000000e+00 -4.0000000e-01]\n",
    "```"
   ]
  },
  {
   "cell_type": "code",
   "execution_count": 7,
   "metadata": {},
   "outputs": [
    {
     "name": "stdout",
     "output_type": "stream",
     "text": [
      "p1: [ 1.64599155 14.54392469 -7.456264  ]\n",
      "p2: [-31.99999978 -12.00000719  24.30000494]\n",
      "p3: [-71.99984808 -51.99936977  66.96624952]\n",
      "0.5470506873600542\n",
      "1.9833325559449433\n",
      "1.2782125978413794\n"
     ]
    }
   ],
   "source": [
    "p1 = Predicate_dual(problem_instance, 'p1')\n",
    "# X = problem_instance.L['p1'][:, :-1]\n",
    "# Y = problem_instance.L['p1'][:, -1]\n",
    "# for x, y in zip(X, Y):\n",
    "#     print(x, y, p1(x))\n",
    "\n",
    "p2 = Predicate_dual(problem_instance, 'p2')\n",
    "# X = problem_instance.L['p2'][:, :-1]\n",
    "# Y = problem_instance.L['p2'][:, -1]\n",
    "# for x, y in zip(X, Y):\n",
    "#     print(x, y, p2(x))\n",
    "\n",
    "p3 = Predicate_dual(problem_instance, 'p3')\n",
    "# X = problem_instance.L['p3'][:, :-1]\n",
    "# Y = problem_instance.L['p3'][:, -1]\n",
    "# for x, y in zip(X, Y):\n",
    "#     print(x, y, p3(x))\n",
    "\n",
    "print(f'p1: {p1.coeff}')\n",
    "print(f'p2: {p2.coeff}')\n",
    "print(f'p3: {p3.coeff}')\n",
    "\n",
    "print(- p1.coeff[2] / p1.coeff[1] + 0.5 / p1.coeff[1])\n",
    "print(- p2.coeff[2] / p2.coeff[1] + 0.5 / p2.coeff[1])\n",
    "print(- p3.coeff[2] / p3.coeff[1] + 0.5 / p3.coeff[1])"
   ]
  },
  {
   "cell_type": "code",
   "execution_count": null,
   "metadata": {},
   "outputs": [],
   "source": []
  },
  {
   "attachments": {
    "image.png": {
     "image/png": "[encoded data removed]"
    }
   },
   "cell_type": "markdown",
   "metadata": {},
   "source": [
    "![image.png](attachment:image.png)"
   ]
  },
  {
   "cell_type": "markdown",
   "metadata": {},
   "source": [
    "# pima indian 計算コスト"
   ]
  },
  {
   "cell_type": "code",
   "execution_count": 3,
   "metadata": {},
   "outputs": [],
   "source": [
    "data_dir_path = os.path.join(project_dir_path, 'inputs/pima_indian_diabetes_cv/fold_0')\n",
    "train_data_dir_path = os.path.join(data_dir_path, \"train\")\n",
    "file_list = os.listdir(train_data_dir_path)\n",
    "\n",
    "L_files = [filename for filename in file_list \n",
    "           if filename.startswith('L') and filename.endswith('.csv')]\n",
    "\n",
    "U_files = [filename for filename in file_list \n",
    "           if filename.startswith('U') and filename.endswith('.csv')]\n",
    "\n",
    "file_names_dict = {\n",
    "    'supervised': L_files,\n",
    "    'unsupervised': U_files,\n",
    "    'rule': ['rule.txt']\n",
    "}"
   ]
  },
  {
   "cell_type": "code",
   "execution_count": 4,
   "metadata": {},
   "outputs": [
    {
     "name": "stdout",
     "output_type": "stream",
     "text": [
      "load_data took 0.04276585578918457 seconds!\n",
      "load_rules took 0.09793782234191895 seconds!\n",
      "formulate_predicates_with_cvxpy took 0.00015306472778320312 seconds!\n",
      "shape of P: (8422, 8422)\n",
      "finish l\n",
      "(150, 150)\n"
     ]
    },
    {
     "ename": "KeyboardInterrupt",
     "evalue": "",
     "output_type": "error",
     "traceback": [
      "\u001b[0;31m---------------------------------------------------------------------------\u001b[0m",
      "\u001b[0;31mKeyboardInterrupt\u001b[0m                         Traceback (most recent call last)",
      "Cell \u001b[0;32mIn[4], line 4\u001b[0m\n\u001b[1;32m      1\u001b[0m train_data_dir_path \u001b[38;5;241m=\u001b[39m os\u001b[38;5;241m.\u001b[39mpath\u001b[38;5;241m.\u001b[39mjoin(data_dir_path, \u001b[38;5;124m\"\u001b[39m\u001b[38;5;124mtrain\u001b[39m\u001b[38;5;124m\"\u001b[39m)\n\u001b[1;32m      3\u001b[0m problem_instance \u001b[38;5;241m=\u001b[39m Setup(train_data_dir_path, file_names_dict, ObjectiveFunction, \u001b[38;5;124m'\u001b[39m\u001b[38;5;124mOutcome\u001b[39m\u001b[38;5;124m'\u001b[39m, c1\u001b[38;5;241m=\u001b[39m\u001b[38;5;241m10\u001b[39m, c2\u001b[38;5;241m=\u001b[39m\u001b[38;5;241m10\u001b[39m)\n\u001b[0;32m----> 4\u001b[0m objective, constraints \u001b[38;5;241m=\u001b[39m \u001b[43mproblem_instance\u001b[49m\u001b[38;5;241;43m.\u001b[39;49m\u001b[43mmain\u001b[49m\u001b[43m(\u001b[49m\u001b[43m)\u001b[49m\n\u001b[1;32m      6\u001b[0m problem \u001b[38;5;241m=\u001b[39m cp\u001b[38;5;241m.\u001b[39mProblem(objective, constraints)\n\u001b[1;32m      7\u001b[0m result \u001b[38;5;241m=\u001b[39m problem\u001b[38;5;241m.\u001b[39msolve(verbose\u001b[38;5;241m=\u001b[39m\u001b[38;5;28;01mTrue\u001b[39;00m)\n",
      "File \u001b[0;32m~/ws/lukasiewicz_1/src/setup_problem_dual_single_task.py:248\u001b[0m, in \u001b[0;36mSetup.main\u001b[0;34m(self)\u001b[0m\n\u001b[1;32m    246\u001b[0m \u001b[38;5;28mself\u001b[39m\u001b[38;5;241m.\u001b[39mload_rules()\n\u001b[1;32m    247\u001b[0m \u001b[38;5;28mself\u001b[39m\u001b[38;5;241m.\u001b[39mformulate_predicates_with_cvxpy()\n\u001b[0;32m--> 248\u001b[0m objective_function \u001b[38;5;241m=\u001b[39m \u001b[38;5;28;43mself\u001b[39;49m\u001b[38;5;241;43m.\u001b[39;49m\u001b[43mobj\u001b[49m\u001b[43m(\u001b[49m\u001b[38;5;28;43mself\u001b[39;49m\u001b[43m,\u001b[49m\u001b[43m \u001b[49m\u001b[38;5;28;43mself\u001b[39;49m\u001b[38;5;241;43m.\u001b[39;49m\u001b[43mtarget_p_name\u001b[49m\u001b[43m)\u001b[49m\u001b[38;5;241;43m.\u001b[39;49m\u001b[43mconstruct\u001b[49m\u001b[43m(\u001b[49m\u001b[43m)\u001b[49m\n\u001b[1;32m    249\u001b[0m constraints \u001b[38;5;241m=\u001b[39m \u001b[38;5;28mself\u001b[39m\u001b[38;5;241m.\u001b[39mconstruct_constraints()\n\u001b[1;32m    250\u001b[0m \u001b[38;5;28;01mreturn\u001b[39;00m objective_function, constraints\n",
      "File \u001b[0;32m~/ws/lukasiewicz_1/src/objective_function_single_task.py:276\u001b[0m, in \u001b[0;36mObjectiveFunction.construct\u001b[0;34m(self)\u001b[0m\n\u001b[1;32m    273\u001b[0m objective_function \u001b[38;5;241m=\u001b[39m \u001b[38;5;241m0\u001b[39m\n\u001b[1;32m    275\u001b[0m mapping_x_i, x \u001b[38;5;241m=\u001b[39m \u001b[38;5;28mself\u001b[39m\u001b[38;5;241m.\u001b[39m_mapping_variables()\n\u001b[0;32m--> 276\u001b[0m x, P \u001b[38;5;241m=\u001b[39m \u001b[38;5;28;43mself\u001b[39;49m\u001b[38;5;241;43m.\u001b[39;49m\u001b[43m_construct_P_j\u001b[49m\u001b[43m(\u001b[49m\u001b[43mmapping_x_i\u001b[49m\u001b[43m,\u001b[49m\u001b[43m \u001b[49m\u001b[43mx\u001b[49m\u001b[43m)\u001b[49m\n\u001b[1;32m    278\u001b[0m \u001b[38;5;66;03m# 計算安定性のため\u001b[39;00m\n\u001b[1;32m    279\u001b[0m P \u001b[38;5;241m+\u001b[39m\u001b[38;5;241m=\u001b[39m np\u001b[38;5;241m.\u001b[39mdiag(np\u001b[38;5;241m.\u001b[39mones(P\u001b[38;5;241m.\u001b[39mshape[\u001b[38;5;241m0\u001b[39m])) \u001b[38;5;241m*\u001b[39m \u001b[38;5;241m1e-6\u001b[39m\n",
      "File \u001b[0;32m~/ws/lukasiewicz_1/src/misc.py:97\u001b[0m, in \u001b[0;36mtimer.<locals>.wrapper\u001b[0;34m(*args, **kwargs)\u001b[0m\n\u001b[1;32m     95\u001b[0m \u001b[38;5;28;01mdef\u001b[39;00m \u001b[38;5;21mwrapper\u001b[39m(\u001b[38;5;241m*\u001b[39margs, \u001b[38;5;241m*\u001b[39m\u001b[38;5;241m*\u001b[39mkwargs):\n\u001b[1;32m     96\u001b[0m     start_time \u001b[38;5;241m=\u001b[39m time\u001b[38;5;241m.\u001b[39mtime()\n\u001b[0;32m---> 97\u001b[0m     result \u001b[38;5;241m=\u001b[39m \u001b[43mfunc\u001b[49m\u001b[43m(\u001b[49m\u001b[38;5;241;43m*\u001b[39;49m\u001b[43margs\u001b[49m\u001b[43m,\u001b[49m\u001b[43m \u001b[49m\u001b[38;5;241;43m*\u001b[39;49m\u001b[38;5;241;43m*\u001b[39;49m\u001b[43mkwargs\u001b[49m\u001b[43m)\u001b[49m\n\u001b[1;32m     98\u001b[0m     end_time \u001b[38;5;241m=\u001b[39m time\u001b[38;5;241m.\u001b[39mtime()\n\u001b[1;32m     99\u001b[0m     \u001b[38;5;28mprint\u001b[39m(\u001b[38;5;124mf\u001b[39m\u001b[38;5;124m'\u001b[39m\u001b[38;5;132;01m{\u001b[39;00mfunc\u001b[38;5;241m.\u001b[39m\u001b[38;5;18m__name__\u001b[39m\u001b[38;5;132;01m}\u001b[39;00m\u001b[38;5;124m took \u001b[39m\u001b[38;5;132;01m{\u001b[39;00mend_time\u001b[38;5;250m \u001b[39m\u001b[38;5;241m-\u001b[39m\u001b[38;5;250m \u001b[39mstart_time\u001b[38;5;132;01m}\u001b[39;00m\u001b[38;5;124m seconds!\u001b[39m\u001b[38;5;124m'\u001b[39m)\n",
      "File \u001b[0;32m~/ws/lukasiewicz_1/src/objective_function_single_task.py:171\u001b[0m, in \u001b[0;36mObjectiveFunction._construct_P_j\u001b[0;34m(self, mapping_x_i, x)\u001b[0m\n\u001b[1;32m    168\u001b[0m                 m  \u001b[38;5;241m=\u001b[39m M[h][i, :]\n\u001b[1;32m    169\u001b[0m                 m_ \u001b[38;5;241m=\u001b[39m M[h_][i_, :]\n\u001b[0;32m--> 171\u001b[0m                 P[row, col] \u001b[38;5;241m+\u001b[39m\u001b[38;5;241m=\u001b[39m \u001b[43mnp\u001b[49m\u001b[38;5;241;43m.\u001b[39;49m\u001b[43meinsum\u001b[49m\u001b[43m(\u001b[49m\u001b[38;5;124;43m\"\u001b[39;49m\u001b[38;5;124;43mi,j,ij\u001b[39;49m\u001b[38;5;124;43m\"\u001b[39;49m\u001b[43m,\u001b[49m\u001b[43m \u001b[49m\u001b[43mm\u001b[49m\u001b[43m,\u001b[49m\u001b[43m \u001b[49m\u001b[43mm_\u001b[49m\u001b[43m,\u001b[49m\u001b[43m \u001b[49m\u001b[43mK\u001b[49m\u001b[43m)\u001b[49m\n\u001b[1;32m    173\u001b[0m \u001b[38;5;66;03m############################################\u001b[39;00m\n\u001b[1;32m    174\u001b[0m \u001b[38;5;66;03m############################################\u001b[39;00m\n\u001b[1;32m    175\u001b[0m \u001b[38;5;28mprint\u001b[39m(\u001b[38;5;124m'\u001b[39m\u001b[38;5;124mfinish h\u001b[39m\u001b[38;5;124m'\u001b[39m)\n",
      "File \u001b[0;32m~/ws/lukasiewicz_1/myenv/lib/python3.11/site-packages/numpy/core/einsumfunc.py:1371\u001b[0m, in \u001b[0;36meinsum\u001b[0;34m(out, optimize, *operands, **kwargs)\u001b[0m\n\u001b[1;32m   1369\u001b[0m     \u001b[38;5;28;01mif\u001b[39;00m specified_out:\n\u001b[1;32m   1370\u001b[0m         kwargs[\u001b[38;5;124m'\u001b[39m\u001b[38;5;124mout\u001b[39m\u001b[38;5;124m'\u001b[39m] \u001b[38;5;241m=\u001b[39m out\n\u001b[0;32m-> 1371\u001b[0m     \u001b[38;5;28;01mreturn\u001b[39;00m \u001b[43mc_einsum\u001b[49m\u001b[43m(\u001b[49m\u001b[38;5;241;43m*\u001b[39;49m\u001b[43moperands\u001b[49m\u001b[43m,\u001b[49m\u001b[43m \u001b[49m\u001b[38;5;241;43m*\u001b[39;49m\u001b[38;5;241;43m*\u001b[39;49m\u001b[43mkwargs\u001b[49m\u001b[43m)\u001b[49m\n\u001b[1;32m   1373\u001b[0m \u001b[38;5;66;03m# Check the kwargs to avoid a more cryptic error later, without having to\u001b[39;00m\n\u001b[1;32m   1374\u001b[0m \u001b[38;5;66;03m# repeat default values here\u001b[39;00m\n\u001b[1;32m   1375\u001b[0m valid_einsum_kwargs \u001b[38;5;241m=\u001b[39m [\u001b[38;5;124m'\u001b[39m\u001b[38;5;124mdtype\u001b[39m\u001b[38;5;124m'\u001b[39m, \u001b[38;5;124m'\u001b[39m\u001b[38;5;124morder\u001b[39m\u001b[38;5;124m'\u001b[39m, \u001b[38;5;124m'\u001b[39m\u001b[38;5;124mcasting\u001b[39m\u001b[38;5;124m'\u001b[39m]\n",
      "\u001b[0;31mKeyboardInterrupt\u001b[0m: "
     ]
    }
   ],
   "source": [
    "train_data_dir_path = os.path.join(data_dir_path, \"train\")\n",
    "\n",
    "problem_instance = Setup(train_data_dir_path, file_names_dict, ObjectiveFunction, 'Outcome', c1=10, c2=10)\n",
    "objective, constraints = problem_instance.main()\n",
    "\n",
    "problem = cp.Problem(objective, constraints)\n",
    "result = problem.solve(verbose=True)"
   ]
  },
  {
   "cell_type": "code",
   "execution_count": null,
   "metadata": {},
   "outputs": [],
   "source": []
  }
 ],
 "metadata": {
  "kernelspec": {
   "display_name": "myenv",
   "language": "python",
   "name": "python3"
  },
  "language_info": {
   "codemirror_mode": {
    "name": "ipython",
    "version": 3
   },
   "file_extension": ".py",
   "mimetype": "text/x-python",
   "name": "python",
   "nbconvert_exporter": "python",
   "pygments_lexer": "ipython3",
   "version": "3.11.6"
  }
 },
 "nbformat": 4,
 "nbformat_minor": 2
}
