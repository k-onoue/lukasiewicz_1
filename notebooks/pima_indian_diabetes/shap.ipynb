{
 "cells": [
  {
   "cell_type": "code",
   "execution_count": 1,
   "metadata": {},
   "outputs": [],
   "source": [
    "%load_ext autoreload\n",
    "%autoreload 2"
   ]
  },
  {
   "cell_type": "markdown",
   "metadata": {},
   "source": [
    "# colaboratory 上で計算"
   ]
  },
  {
   "cell_type": "code",
   "execution_count": 2,
   "metadata": {},
   "outputs": [],
   "source": [
    "# import shap\n",
    "# import pandas as pd\n",
    "# from sklearn.svm import SVC\n",
    "# from sklearn.model_selection import train_test_split\n",
    "# from sklearn.metrics import accuracy_score\n",
    "\n",
    "# # データの読み込み（前提として、必要なライブラリや変数が定義されていると仮定しています）\n",
    "# data = pd.read_csv(\"./data/diabetes_discretized.csv\", index_col=0)\n",
    "\n",
    "# feature_names = data.columns.to_list()[1:]\n",
    "\n",
    "# X = data.drop([\"Outcome\"], axis=1)\n",
    "# y = data[\"Outcome\"]\n",
    "\n",
    "# random_state = 42\n",
    "# test_size = 0.2\n",
    "\n",
    "# X_train, X_test, y_train, y_test = train_test_split(X, y, test_size=test_size, random_state=random_state)\n",
    "# X_train = X_train.values\n",
    "# X_test = X_test.values\n",
    "# y_train = y_train.values\n",
    "# y_test = y_test.values\n",
    "\n",
    "# # SVM（線形カーネル）のモデルを作成\n",
    "# svm_linear = SVC(kernel='linear')\n",
    "\n",
    "# # モデルを訓練\n",
    "# svm_linear.fit(X_train, y_train)\n",
    "\n",
    "# # SHAP値の計算\n",
    "# explainer = shap.KernelExplainer(svm_linear.predict, X_train)\n",
    "# shap_values = explainer.shap_values(X_test)\n",
    "\n",
    "# # サマリープロットの作成\n",
    "# shap.summary_plot(shap_values, X_test, feature_names=feature_names)\n"
   ]
  },
  {
   "cell_type": "code",
   "execution_count": null,
   "metadata": {},
   "outputs": [],
   "source": []
  }
 ],
 "metadata": {
  "kernelspec": {
   "display_name": "myenv",
   "language": "python",
   "name": "python3"
  },
  "language_info": {
   "codemirror_mode": {
    "name": "ipython",
    "version": 3
   },
   "file_extension": ".py",
   "mimetype": "text/x-python",
   "name": "python",
   "nbconvert_exporter": "python",
   "pygments_lexer": "ipython3",
   "version": "3.10.12"
  }
 },
 "nbformat": 4,
 "nbformat_minor": 2
}
