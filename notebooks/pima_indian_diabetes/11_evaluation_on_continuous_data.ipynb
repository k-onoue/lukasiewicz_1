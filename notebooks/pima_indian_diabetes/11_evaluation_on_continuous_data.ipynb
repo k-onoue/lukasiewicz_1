{
 "cells": [
  {
   "cell_type": "code",
   "execution_count": 1,
   "metadata": {},
   "outputs": [],
   "source": [
    "%load_ext autoreload\n",
    "%autoreload 2"
   ]
  },
  {
   "cell_type": "code",
   "execution_count": 2,
   "metadata": {},
   "outputs": [],
   "source": [
    "import os\n",
    "import sys\n",
    "# project_dir_path = '/home/onoue/ws/lukasiewicz_1'\n",
    "project_dir_path = '/Users/keisukeonoue/ws/lukasiewicz_1/'\n",
    "sys.path.append(project_dir_path)\n",
    "import shutil\n",
    "\n",
    "import pandas as pd\n",
    "import numpy as np\n",
    "import cvxpy as cp\n",
    "\n",
    "from sklearn.model_selection import train_test_split\n",
    "from sklearn.metrics import accuracy_score, precision_score, recall_score, f1_score, roc_auc_score\n",
    "\n",
    "from src.setup_problem_primal_modular import Setup\n",
    "from src.objective_function import linear_svm, linear_svm_loss, logistic_regression_loss\n",
    "from src.evaluation_conti import EvaluateModel"
   ]
  },
  {
   "cell_type": "code",
   "execution_count": 3,
   "metadata": {},
   "outputs": [],
   "source": [
    "random_state = 42\n",
    "test_size = 0.2\n",
    "data_dir_path = os.path.join(project_dir_path, 'inputs/pima_indian_diabetes_2')\n",
    "file_list = os.listdir(os.path.join(data_dir_path, \"train\"))\n",
    "L_files = [f for f in file_list if f.startswith('L') and f.endswith('.csv')]\n",
    "U_files = [f for f in file_list if f.startswith('U') and f.endswith('.csv')]\n",
    "file_name_dict = {\n",
    "    'supervised': L_files,\n",
    "    'unsupervised': U_files,\n",
    "    'rule': [\"rules_3.txt\"]\n",
    "}\n",
    "\n",
    "c1 = 0.5\n",
    "c2 = 10 \n",
    "\n",
    "# constraints_flag = {\n",
    "#     'pointwise': True,\n",
    "#     'logical': True,\n",
    "#     'consistency': True\n",
    "# }\n",
    "\n",
    "constraints_flag = {\n",
    "    'pointwise': True,\n",
    "    'logical': True,\n",
    "    'consistency': True\n",
    "}"
   ]
  },
  {
   "cell_type": "code",
   "execution_count": 4,
   "metadata": {},
   "outputs": [
    {
     "name": "stdout",
     "output_type": "stream",
     "text": [
      "load_data took 0.029419898986816406 seconds!\n",
      "load_rules took 0.00024008750915527344 seconds!\n",
      "linear_svm took 1.3395640850067139 seconds!\n",
      "pointwise constraints\n",
      "logical constraints\n",
      "consistency constraints\n",
      "__call__ took 4.9444239139556885 seconds!\n"
     ]
    }
   ],
   "source": [
    "problem_instance = Setup(data_dir_path, file_name_dict, linear_svm, name=\"linear svm\")\n",
    "# problem_instance = Setup(data_dir_path, file_name_dict, logistic_regression_loss, name=\"logistic regression\")\n",
    "objective_function, constraints =  problem_instance.main(c1=c1, c2=c2, constraints_flag_dict=constraints_flag)"
   ]
  },
  {
   "cell_type": "code",
   "execution_count": 5,
   "metadata": {},
   "outputs": [
    {
     "name": "stdout",
     "output_type": "stream",
     "text": [
      "===============================================================================\n",
      "                                     CVXPY                                     \n",
      "                                     v1.3.2                                    \n",
      "===============================================================================\n"
     ]
    },
    {
     "name": "stderr",
     "output_type": "stream",
     "text": [
      "/Users/keisukeonoue/ws/lukasiewicz_1/myenv/lib/python3.11/site-packages/cvxpy/problems/problem.py:157: UserWarning: Objective contains too many subexpressions. Consider vectorizing your CVXPY code to speed up compilation.\n",
      "  warnings.warn(\"Objective contains too many subexpressions. \"\n"
     ]
    },
    {
     "name": "stdout",
     "output_type": "stream",
     "text": [
      "(CVXPY) Jan 21 03:13:17 PM: Your problem has 11992 variables, 36756 constraints, and 0 parameters.\n",
      "(CVXPY) Jan 21 03:13:20 PM: It is compliant with the following grammars: DCP, DQCP\n",
      "(CVXPY) Jan 21 03:13:20 PM: (If you need to solve this problem multiple times, but with different data, consider using parameters.)\n",
      "(CVXPY) Jan 21 03:13:20 PM: CVXPY will first compile your problem; then, it will invoke a numerical solver to obtain a solution.\n",
      "-------------------------------------------------------------------------------\n",
      "                                  Compilation                                  \n",
      "-------------------------------------------------------------------------------\n",
      "(CVXPY) Jan 21 03:13:22 PM: Compiling problem (target solver=ECOS).\n",
      "(CVXPY) Jan 21 03:13:22 PM: Reduction chain: Dcp2Cone -> CvxAttr2Constr -> ConeMatrixStuffing -> ECOS\n",
      "(CVXPY) Jan 21 03:13:22 PM: Applying reduction Dcp2Cone\n",
      "(CVXPY) Jan 21 03:13:28 PM: Applying reduction CvxAttr2Constr\n",
      "(CVXPY) Jan 21 03:13:31 PM: Applying reduction ConeMatrixStuffing\n",
      "(CVXPY) Jan 21 03:14:17 PM: Applying reduction ECOS\n",
      "(CVXPY) Jan 21 03:14:21 PM: Finished problem compilation (took 6.117e+01 seconds).\n",
      "-------------------------------------------------------------------------------\n",
      "                                Numerical solver                               \n",
      "-------------------------------------------------------------------------------\n",
      "(CVXPY) Jan 21 03:14:21 PM: Invoking solver ECOS  to obtain a solution.\n",
      "\n",
      "ECOS 2.0.10 - (C) embotech GmbH, Zurich Switzerland, 2012-15. Web: www.embotech.com/ECOS\n",
      "\n",
      "It     pcost       dcost      gap   pres   dres    k/t    mu     step   sigma     IR    |   BT\n",
      " 0  +3.634e+01  -1.324e+03  +8e+04  9e-01  7e+00  1e+00  2e+00    ---    ---    2  1  - |  -  - \n",
      " 1  +4.294e+01  -7.775e+02  +7e+04  6e-01  4e+00  3e+00  1e+00  0.2645  5e-01   1  1  1 |  0  0\n",
      " 2  +5.994e+01  -4.608e+02  +5e+04  4e-01  3e+00  4e+00  1e+00  0.2390  3e-01   1  1  1 |  0  0\n",
      " 3  +8.704e+01  -4.430e+02  +5e+04  5e-01  3e+00  5e+00  1e+00  0.1556  9e-01   1  1  1 |  0  0\n",
      " 4  +1.712e+02  -2.610e+02  +4e+04  4e-01  2e+00  9e+00  9e-01  0.5042  7e-01   1  1  1 |  0  0\n",
      " 5  +2.853e+02  +1.060e+02  +2e+04  2e-01  8e-01  8e+00  5e-01  0.5213  9e-02   1  1  1 |  0  0\n",
      " 6  +5.129e+02  +3.772e+02  +2e+04  2e-01  6e-01  6e+00  3e-01  0.4427  2e-01   2  1  1 |  0  0\n",
      " 7  +6.472e+02  +5.400e+02  +1e+04  2e-01  4e-01  4e+00  2e-01  0.3550  3e-01   2  1  1 |  0  0\n",
      " 8  +7.919e+02  +7.137e+02  +8e+03  1e-01  3e-01  3e+00  2e-01  0.4640  3e-01   2  1  1 |  0  0\n",
      " 9  +8.837e+02  +8.208e+02  +6e+03  9e-02  2e-01  2e+00  1e-01  0.3037  3e-01   2  1  2 |  0  0\n",
      "10  +9.356e+02  +8.813e+02  +5e+03  8e-02  2e-01  2e+00  1e-01  0.2397  3e-01   2  2  2 |  0  0\n",
      "11  +1.003e+03  +9.589e+02  +4e+03  6e-02  1e-01  1e+00  8e-02  0.3275  3e-01   2  2  2 |  0  0\n",
      "12  +1.043e+03  +1.005e+03  +3e+03  5e-02  1e-01  8e-01  7e-02  0.2450  4e-01   1  2  2 |  0  0\n",
      "13  +1.089e+03  +1.057e+03  +3e+03  4e-02  8e-02  6e-01  6e-02  0.2448  3e-01   2  2  2 |  0  0\n",
      "14  +1.122e+03  +1.094e+03  +2e+03  4e-02  7e-02  5e-01  5e-02  0.2073  3e-01   2  2  2 |  0  0\n",
      "15  +1.181e+03  +1.161e+03  +2e+03  3e-02  5e-02  3e-01  4e-02  0.4036  3e-01   2  2  2 |  0  0\n",
      "16  +1.218e+03  +1.202e+03  +1e+03  2e-02  3e-02  2e-01  3e-02  0.3270  3e-01   2  2  2 |  0  0\n",
      "17  +1.247e+03  +1.234e+03  +1e+03  2e-02  3e-02  1e-01  2e-02  0.3232  4e-01   2  2  2 |  0  0\n",
      "18  +1.279e+03  +1.269e+03  +8e+02  1e-02  2e-02  9e-02  2e-02  0.3963  3e-01   2  2  2 |  0  0\n",
      "19  +1.304e+03  +1.297e+03  +6e+02  9e-03  1e-02  6e-02  1e-02  0.3301  2e-01   2  2  2 |  0  0\n",
      "20  +1.326e+03  +1.321e+03  +4e+02  7e-03  9e-03  4e-02  9e-03  0.3493  2e-01   2  2  2 |  0  0\n",
      "21  +1.332e+03  +1.327e+03  +4e+02  6e-03  8e-03  3e-02  8e-03  0.1752  5e-01   2  2  2 |  0  0\n",
      "22  +1.341e+03  +1.337e+03  +3e+02  5e-03  6e-03  2e-02  6e-03  0.3831  5e-01   2  2  1 |  0  0\n",
      "23  +1.358e+03  +1.355e+03  +2e+02  3e-03  4e-03  1e-02  4e-03  0.4519  2e-01   2  2  3 |  0  0\n",
      "24  +1.363e+03  +1.360e+03  +2e+02  3e-03  3e-03  1e-02  4e-03  0.2496  4e-01   2  3  2 |  0  0\n",
      "25  +1.371e+03  +1.370e+03  +1e+02  2e-03  2e-03  6e-03  2e-03  0.4074  2e-01   2  2  2 |  0  0\n",
      "26  +1.376e+03  +1.375e+03  +9e+01  1e-03  2e-03  4e-03  2e-03  0.4320  4e-01   2  2  2 |  0  0\n",
      "27  +1.377e+03  +1.376e+03  +8e+01  1e-03  2e-03  3e-03  2e-03  0.2120  7e-01   2  2  2 |  0  0\n",
      "28  +1.381e+03  +1.380e+03  +6e+01  9e-04  1e-03  1e-03  1e-03  0.7407  6e-01   2  2  2 |  0  0\n",
      "29  +1.386e+03  +1.386e+03  +3e+01  4e-04  5e-04  3e-04  6e-04  0.9322  4e-01   2  2  1 |  0  0\n",
      "30  +1.387e+03  +1.387e+03  +2e+01  3e-04  4e-04  3e-04  4e-04  0.2609  3e-01   2  2  2 |  0  0\n",
      "31  +1.389e+03  +1.389e+03  +9e+00  1e-04  2e-04  1e-04  2e-04  0.6541  1e-01   2  2  2 |  0  0\n",
      "32  +1.389e+03  +1.389e+03  +9e+00  1e-04  2e-04  1e-04  2e-04  0.1868  7e-01   2  2  2 |  0  0\n",
      "33  +1.390e+03  +1.390e+03  +6e+00  9e-05  1e-04  6e-05  1e-04  0.8736  6e-01   2  2  2 |  0  0\n",
      "34  +1.390e+03  +1.390e+03  +3e+00  5e-05  6e-05  4e-05  7e-05  0.6491  4e-01   2  2  2 |  0  0\n",
      "35  +1.390e+03  +1.390e+03  +3e+00  4e-05  5e-05  3e-05  6e-05  0.4210  7e-01   2  1  2 |  0  0\n",
      "36  +1.391e+03  +1.391e+03  +9e-01  1e-05  2e-05  1e-05  2e-05  0.8881  2e-01   2  1  1 |  0  0\n",
      "37  +1.391e+03  +1.391e+03  +2e-01  4e-06  4e-06  3e-06  5e-06  0.9890  2e-01   2  1  1 |  0  0\n",
      "38  +1.391e+03  +1.391e+03  +1e-01  2e-06  2e-06  1e-06  3e-06  0.7416  3e-01   2  1  1 |  0  0\n",
      "39  +1.391e+03  +1.391e+03  +1e-02  1e-07  2e-07  1e-07  2e-07  0.9225  2e-03   2  1  1 |  0  0\n",
      "40  +1.391e+03  +1.391e+03  +2e-03  3e-08  3e-08  2e-08  4e-08  0.9651  2e-01   2  1  1 |  0  0\n",
      "41  +1.391e+03  +1.391e+03  +7e-04  1e-08  1e-08  8e-09  1e-08  0.9890  4e-01   1  1  1 |  0  0\n",
      "42  +1.391e+03  +1.391e+03  +9e-05  1e-09  2e-09  1e-09  2e-09  0.8872  9e-03   2  1  1 |  0  0\n",
      "43  +1.391e+03  +1.391e+03  +2e-05  3e-10  4e-10  3e-10  5e-10  0.9890  3e-01   2  1  1 |  0  0\n",
      "44  +1.391e+03  +1.391e+03  +4e-06  6e-11  7e-11  4e-11  8e-11  0.8572  3e-02   1  1  1 |  0  0\n",
      "\n",
      "OPTIMAL (within feastol=7.2e-11, reltol=2.8e-09, abstol=3.9e-06).\n",
      "Runtime: 0.963367 seconds.\n",
      "\n",
      "-------------------------------------------------------------------------------\n",
      "                                    Summary                                    \n",
      "-------------------------------------------------------------------------------\n",
      "(CVXPY) Jan 21 03:14:22 PM: Problem status: optimal\n",
      "(CVXPY) Jan 21 03:14:22 PM: Optimal value: 1.391e+03\n",
      "(CVXPY) Jan 21 03:14:22 PM: Compilation took 6.117e+01 seconds\n",
      "(CVXPY) Jan 21 03:14:22 PM: Solver (including time spent in interface) took 9.658e-01 seconds\n"
     ]
    }
   ],
   "source": [
    "problem = cp.Problem(objective_function, constraints)\n",
    "result = problem.solve(verbose=True)"
   ]
  },
  {
   "cell_type": "code",
   "execution_count": null,
   "metadata": {},
   "outputs": [],
   "source": []
  },
  {
   "cell_type": "code",
   "execution_count": 6,
   "metadata": {},
   "outputs": [
    {
     "data": {
      "text/html": [
       "<div>\n",
       "<style scoped>\n",
       "    .dataframe tbody tr th:only-of-type {\n",
       "        vertical-align: middle;\n",
       "    }\n",
       "\n",
       "    .dataframe tbody tr th {\n",
       "        vertical-align: top;\n",
       "    }\n",
       "\n",
       "    .dataframe thead th {\n",
       "        text-align: right;\n",
       "    }\n",
       "</style>\n",
       "<table border=\"1\" class=\"dataframe\">\n",
       "  <thead>\n",
       "    <tr style=\"text-align: right;\">\n",
       "      <th></th>\n",
       "      <th>Pregnancies</th>\n",
       "      <th>Glucose</th>\n",
       "      <th>BloodPressure</th>\n",
       "      <th>SkinThickness</th>\n",
       "      <th>BMI</th>\n",
       "      <th>DiabetesPedigreeFunction</th>\n",
       "      <th>Age</th>\n",
       "    </tr>\n",
       "  </thead>\n",
       "  <tbody>\n",
       "    <tr>\n",
       "      <th>275</th>\n",
       "      <td>2</td>\n",
       "      <td>100</td>\n",
       "      <td>70</td>\n",
       "      <td>52</td>\n",
       "      <td>40.5</td>\n",
       "      <td>0.677</td>\n",
       "      <td>25</td>\n",
       "    </tr>\n",
       "    <tr>\n",
       "      <th>555</th>\n",
       "      <td>7</td>\n",
       "      <td>124</td>\n",
       "      <td>70</td>\n",
       "      <td>33</td>\n",
       "      <td>25.5</td>\n",
       "      <td>0.161</td>\n",
       "      <td>37</td>\n",
       "    </tr>\n",
       "    <tr>\n",
       "      <th>699</th>\n",
       "      <td>4</td>\n",
       "      <td>118</td>\n",
       "      <td>70</td>\n",
       "      <td>0</td>\n",
       "      <td>44.5</td>\n",
       "      <td>0.904</td>\n",
       "      <td>26</td>\n",
       "    </tr>\n",
       "    <tr>\n",
       "      <th>73</th>\n",
       "      <td>4</td>\n",
       "      <td>129</td>\n",
       "      <td>86</td>\n",
       "      <td>20</td>\n",
       "      <td>35.1</td>\n",
       "      <td>0.231</td>\n",
       "      <td>23</td>\n",
       "    </tr>\n",
       "    <tr>\n",
       "      <th>170</th>\n",
       "      <td>6</td>\n",
       "      <td>102</td>\n",
       "      <td>82</td>\n",
       "      <td>0</td>\n",
       "      <td>30.8</td>\n",
       "      <td>0.180</td>\n",
       "      <td>36</td>\n",
       "    </tr>\n",
       "    <tr>\n",
       "      <th>...</th>\n",
       "      <td>...</td>\n",
       "      <td>...</td>\n",
       "      <td>...</td>\n",
       "      <td>...</td>\n",
       "      <td>...</td>\n",
       "      <td>...</td>\n",
       "      <td>...</td>\n",
       "    </tr>\n",
       "    <tr>\n",
       "      <th>87</th>\n",
       "      <td>2</td>\n",
       "      <td>100</td>\n",
       "      <td>68</td>\n",
       "      <td>25</td>\n",
       "      <td>38.5</td>\n",
       "      <td>0.324</td>\n",
       "      <td>26</td>\n",
       "    </tr>\n",
       "    <tr>\n",
       "      <th>128</th>\n",
       "      <td>1</td>\n",
       "      <td>117</td>\n",
       "      <td>88</td>\n",
       "      <td>24</td>\n",
       "      <td>34.5</td>\n",
       "      <td>0.403</td>\n",
       "      <td>40</td>\n",
       "    </tr>\n",
       "    <tr>\n",
       "      <th>315</th>\n",
       "      <td>2</td>\n",
       "      <td>112</td>\n",
       "      <td>68</td>\n",
       "      <td>22</td>\n",
       "      <td>34.1</td>\n",
       "      <td>0.315</td>\n",
       "      <td>26</td>\n",
       "    </tr>\n",
       "    <tr>\n",
       "      <th>505</th>\n",
       "      <td>10</td>\n",
       "      <td>75</td>\n",
       "      <td>82</td>\n",
       "      <td>0</td>\n",
       "      <td>33.3</td>\n",
       "      <td>0.263</td>\n",
       "      <td>38</td>\n",
       "    </tr>\n",
       "    <tr>\n",
       "      <th>122</th>\n",
       "      <td>2</td>\n",
       "      <td>107</td>\n",
       "      <td>74</td>\n",
       "      <td>30</td>\n",
       "      <td>33.6</td>\n",
       "      <td>0.404</td>\n",
       "      <td>23</td>\n",
       "    </tr>\n",
       "  </tbody>\n",
       "</table>\n",
       "<p>536 rows × 7 columns</p>\n",
       "</div>"
      ],
      "text/plain": [
       "     Pregnancies  Glucose  BloodPressure  SkinThickness   BMI  \\\n",
       "275            2      100             70             52  40.5   \n",
       "555            7      124             70             33  25.5   \n",
       "699            4      118             70              0  44.5   \n",
       "73             4      129             86             20  35.1   \n",
       "170            6      102             82              0  30.8   \n",
       "..           ...      ...            ...            ...   ...   \n",
       "87             2      100             68             25  38.5   \n",
       "128            1      117             88             24  34.5   \n",
       "315            2      112             68             22  34.1   \n",
       "505           10       75             82              0  33.3   \n",
       "122            2      107             74             30  33.6   \n",
       "\n",
       "     DiabetesPedigreeFunction  Age  \n",
       "275                     0.677   25  \n",
       "555                     0.161   37  \n",
       "699                     0.904   26  \n",
       "73                      0.231   23  \n",
       "170                     0.180   36  \n",
       "..                        ...  ...  \n",
       "87                      0.324   26  \n",
       "128                     0.403   40  \n",
       "315                     0.315   26  \n",
       "505                     0.263   38  \n",
       "122                     0.404   23  \n",
       "\n",
       "[536 rows x 7 columns]"
      ]
     },
     "execution_count": 6,
     "metadata": {},
     "output_type": "execute_result"
    }
   ],
   "source": [
    "data = pd.read_csv('./../../data/pima_indian_diabetes/diabetes_cleaned.csv', index_col=0)\n",
    "X = data.drop(['Outcome'], axis=1)\n",
    "y = data['Outcome']\n",
    "\n",
    "X_train, X_test, y_train, y_test = train_test_split(X, y, test_size=test_size, random_state=random_state)\n",
    "X_train"
   ]
  },
  {
   "cell_type": "code",
   "execution_count": 7,
   "metadata": {},
   "outputs": [
    {
     "data": {
      "text/plain": [
       "array([-1, -1, -1, -1, -1, -1, -1, -1, -1, -1, -1, -1, -1, -1, -1, -1, -1,\n",
       "       -1, -1, -1, -1, -1, -1, -1, -1, -1, -1, -1, -1, -1, -1, -1, -1, -1,\n",
       "       -1, -1, -1, -1, -1, -1, -1, -1, -1, -1, -1, -1, -1, -1, -1, -1, -1,\n",
       "       -1, -1, -1, -1, -1, -1, -1, -1, -1, -1, -1, -1, -1, -1, -1, -1, -1,\n",
       "       -1, -1, -1, -1, -1, -1, -1, -1, -1, -1, -1, -1, -1, -1, -1, -1, -1,\n",
       "       -1, -1, -1, -1, -1, -1, -1, -1, -1, -1, -1, -1, -1, -1, -1, -1, -1,\n",
       "       -1, -1, -1, -1, -1, -1, -1, -1, -1, -1, -1, -1, -1, -1, -1, -1, -1,\n",
       "       -1, -1, -1, -1, -1, -1, -1, -1, -1, -1, -1, -1, -1, -1, -1])"
      ]
     },
     "execution_count": 7,
     "metadata": {},
     "output_type": "execute_result"
    }
   ],
   "source": [
    "p = problem_instance.predicates_dict['Outcome']\n",
    "y_pred = p(X_test).value\n",
    "y_pred_interpreted = np.where(y_pred >= 0.5, 1, -1)\n",
    "y_pred_interpreted"
   ]
  },
  {
   "cell_type": "code",
   "execution_count": 8,
   "metadata": {},
   "outputs": [
    {
     "name": "stdout",
     "output_type": "stream",
     "text": [
      "accuracy: 0.6716417910447762\n",
      "precision: 0.0\n",
      "recall: 0.0\n",
      "f1: 0.0\n",
      "auc: 0.8073232323232323\n"
     ]
    },
    {
     "name": "stderr",
     "output_type": "stream",
     "text": [
      "/Users/keisukeonoue/ws/lukasiewicz_1/myenv/lib/python3.11/site-packages/sklearn/metrics/_classification.py:1471: UndefinedMetricWarning: Precision is ill-defined and being set to 0.0 due to no predicted samples. Use `zero_division` parameter to control this behavior.\n",
      "  _warn_prf(average, modifier, msg_start, len(result))\n"
     ]
    }
   ],
   "source": [
    "y_test = y_test.replace(0, -1)\n",
    "\n",
    "accuracy = accuracy_score(y_test, y_pred_interpreted)\n",
    "precision = precision_score(y_test, y_pred_interpreted)\n",
    "recall = recall_score(y_test, y_pred_interpreted)\n",
    "f1 = f1_score(y_test, y_pred_interpreted)\n",
    "roc_auc = roc_auc_score(y_test, y_pred)\n",
    "\n",
    "print(f'accuracy: {accuracy}')\n",
    "print(f'precision: {precision}')\n",
    "print(f'recall: {recall}')\n",
    "print(f'f1: {f1}')\n",
    "print(f'auc: {roc_auc}')"
   ]
  },
  {
   "cell_type": "code",
   "execution_count": 9,
   "metadata": {},
   "outputs": [
    {
     "data": {
      "text/plain": [
       "array([-1, -1, -1, -1, -1, -1, -1, -1, -1, -1, -1, -1, -1, -1, -1, -1, -1,\n",
       "       -1, -1, -1, -1, -1, -1, -1, -1, -1, -1, -1, -1, -1, -1, -1, -1, -1,\n",
       "       -1, -1, -1, -1, -1, -1, -1, -1, -1, -1, -1, -1, -1, -1, -1, -1, -1,\n",
       "       -1, -1, -1, -1, -1, -1, -1, -1, -1, -1, -1, -1, -1, -1, -1, -1, -1,\n",
       "       -1, -1, -1, -1, -1, -1, -1, -1, -1, -1, -1, -1, -1, -1, -1, -1, -1,\n",
       "       -1, -1, -1, -1, -1, -1, -1, -1, -1, -1, -1, -1, -1, -1, -1, -1, -1,\n",
       "       -1, -1, -1, -1, -1, -1, -1, -1, -1, -1, -1, -1, -1, -1, -1, -1, -1,\n",
       "       -1, -1, -1, -1, -1, -1, -1, -1, -1, -1, -1, -1, -1, -1, -1, -1, -1,\n",
       "       -1, -1, -1, -1, -1, -1, -1, -1, -1, -1, -1, -1, -1, -1, -1, -1, -1,\n",
       "       -1, -1, -1, -1, -1, -1, -1, -1, -1, -1, -1, -1, -1, -1, -1, -1, -1,\n",
       "       -1, -1, -1, -1, -1, -1, -1, -1, -1, -1, -1, -1, -1, -1, -1, -1, -1,\n",
       "       -1, -1, -1, -1, -1, -1, -1, -1, -1, -1, -1, -1, -1, -1, -1, -1, -1,\n",
       "       -1, -1, -1, -1, -1, -1, -1, -1, -1, -1, -1, -1, -1, -1, -1, -1, -1,\n",
       "       -1, -1, -1, -1, -1, -1, -1, -1, -1, -1, -1, -1, -1, -1, -1, -1, -1,\n",
       "       -1, -1, -1, -1, -1, -1, -1, -1, -1, -1, -1, -1, -1, -1, -1, -1, -1,\n",
       "       -1, -1, -1, -1, -1, -1, -1, -1, -1, -1, -1, -1, -1, -1, -1, -1, -1,\n",
       "       -1, -1, -1, -1, -1, -1, -1, -1, -1, -1, -1, -1, -1, -1, -1, -1, -1,\n",
       "       -1, -1, -1, -1, -1, -1, -1, -1, -1, -1, -1, -1, -1, -1, -1, -1, -1,\n",
       "       -1, -1, -1, -1, -1, -1, -1, -1, -1, -1, -1, -1, -1, -1, -1, -1, -1,\n",
       "       -1, -1, -1, -1, -1, -1, -1, -1, -1, -1, -1, -1, -1, -1, -1, -1, -1,\n",
       "       -1, -1, -1, -1, -1, -1, -1, -1, -1, -1, -1, -1, -1, -1, -1, -1, -1,\n",
       "       -1, -1, -1, -1, -1, -1, -1, -1, -1, -1, -1, -1, -1, -1, -1, -1, -1,\n",
       "       -1, -1, -1, -1, -1, -1, -1, -1, -1, -1, -1, -1, -1, -1, -1, -1, -1,\n",
       "       -1, -1, -1, -1, -1, -1, -1, -1, -1, -1, -1, -1, -1, -1, -1, -1, -1,\n",
       "       -1, -1, -1, -1, -1, -1, -1, -1, -1, -1, -1, -1, -1, -1, -1, -1, -1,\n",
       "       -1, -1, -1, -1, -1, -1, -1, -1, -1, -1, -1, -1, -1, -1, -1, -1, -1,\n",
       "       -1, -1, -1, -1, -1, -1, -1, -1, -1, -1, -1, -1, -1, -1, -1, -1, -1,\n",
       "       -1, -1, -1, -1, -1, -1, -1, -1, -1, -1, -1, -1, -1, -1, -1, -1, -1,\n",
       "       -1, -1, -1, -1, -1, -1, -1, -1, -1, -1, -1, -1, -1, -1, -1, -1, -1,\n",
       "       -1, -1, -1, -1, -1, -1, -1, -1, -1, -1, -1, -1, -1, -1, -1, -1, -1,\n",
       "       -1, -1, -1, -1, -1, -1, -1, -1, -1, -1, -1, -1, -1, -1, -1, -1, -1,\n",
       "       -1, -1, -1, -1, -1, -1, -1, -1, -1])"
      ]
     },
     "execution_count": 9,
     "metadata": {},
     "output_type": "execute_result"
    }
   ],
   "source": [
    "y_pred = p(X_train).value\n",
    "y_pred_interpreted = np.where(y_pred >= 0.5, 1, -1)\n",
    "y_pred_interpreted"
   ]
  },
  {
   "cell_type": "code",
   "execution_count": 10,
   "metadata": {},
   "outputs": [
    {
     "name": "stdout",
     "output_type": "stream",
     "text": [
      "accuracy: 0.6753731343283582\n",
      "precision: 0.0\n",
      "recall: 0.0\n",
      "f1: 0.0\n",
      "auc: 0.8016923858512733\n"
     ]
    },
    {
     "name": "stderr",
     "output_type": "stream",
     "text": [
      "/Users/keisukeonoue/ws/lukasiewicz_1/myenv/lib/python3.11/site-packages/sklearn/metrics/_classification.py:1471: UndefinedMetricWarning: Precision is ill-defined and being set to 0.0 due to no predicted samples. Use `zero_division` parameter to control this behavior.\n",
      "  _warn_prf(average, modifier, msg_start, len(result))\n"
     ]
    }
   ],
   "source": [
    "y_train = y_train.replace(0, -1)\n",
    "\n",
    "accuracy = accuracy_score(y_train, y_pred_interpreted)\n",
    "precision = precision_score(y_train, y_pred_interpreted)\n",
    "recall = recall_score(y_train, y_pred_interpreted)\n",
    "f1 = f1_score(y_train, y_pred_interpreted)\n",
    "roc_auc = roc_auc_score(y_train, y_pred)\n",
    "\n",
    "print(f'accuracy: {accuracy}')\n",
    "print(f'precision: {precision}')\n",
    "print(f'recall: {recall}')\n",
    "print(f'f1: {f1}')\n",
    "print(f'auc: {roc_auc}')"
   ]
  },
  {
   "cell_type": "markdown",
   "metadata": {},
   "source": [
    "# train データに対しても上手く行っていない"
   ]
  },
  {
   "cell_type": "code",
   "execution_count": null,
   "metadata": {},
   "outputs": [],
   "source": []
  },
  {
   "cell_type": "code",
   "execution_count": null,
   "metadata": {},
   "outputs": [],
   "source": []
  },
  {
   "cell_type": "code",
   "execution_count": null,
   "metadata": {},
   "outputs": [],
   "source": []
  }
 ],
 "metadata": {
  "kernelspec": {
   "display_name": "myenv",
   "language": "python",
   "name": "python3"
  },
  "language_info": {
   "codemirror_mode": {
    "name": "ipython",
    "version": 3
   },
   "file_extension": ".py",
   "mimetype": "text/x-python",
   "name": "python",
   "nbconvert_exporter": "python",
   "pygments_lexer": "ipython3",
   "version": "3.11.6"
  }
 },
 "nbformat": 4,
 "nbformat_minor": 2
}
