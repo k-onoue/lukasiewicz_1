{
 "cells": [
  {
   "cell_type": "code",
   "execution_count": 2,
   "metadata": {},
   "outputs": [],
   "source": [
    "%load_ext autoreload\n",
    "%autoreload 2"
   ]
  },
  {
   "cell_type": "code",
   "execution_count": 3,
   "metadata": {},
   "outputs": [],
   "source": [
    "import os\n",
    "import time\n",
    "\n",
    "import numpy as np\n",
    "import pandas as pd\n",
    "import cvxpy as cp\n",
    "\n",
    "from src.format_winston_data import WinstonDataFormatter\n",
    "from src.format_winston_data import generate_and_save_unsupervised_data\n",
    "\n",
    "from src.setup_problem_v2 import Setup"
   ]
  },
  {
   "cell_type": "markdown",
   "metadata": {},
   "source": [
    "# データの準備"
   ]
  },
  {
   "cell_type": "code",
   "execution_count": 11,
   "metadata": {},
   "outputs": [
    {
     "name": "stdout",
     "output_type": "stream",
     "text": [
      "Done!\n",
      "Done!\n"
     ]
    },
    {
     "data": {
      "text/html": [
       "<div>\n",
       "<style scoped>\n",
       "    .dataframe tbody tr th:only-of-type {\n",
       "        vertical-align: middle;\n",
       "    }\n",
       "\n",
       "    .dataframe tbody tr th {\n",
       "        vertical-align: top;\n",
       "    }\n",
       "\n",
       "    .dataframe thead th {\n",
       "        text-align: right;\n",
       "    }\n",
       "</style>\n",
       "<table border=\"1\" class=\"dataframe\">\n",
       "  <thead>\n",
       "    <tr style=\"text-align: right;\">\n",
       "      <th></th>\n",
       "      <th>R</th>\n",
       "      <th>G</th>\n",
       "      <th>B</th>\n",
       "      <th>label</th>\n",
       "    </tr>\n",
       "  </thead>\n",
       "  <tbody>\n",
       "    <tr>\n",
       "      <th>0</th>\n",
       "      <td>0.486640</td>\n",
       "      <td>0.440085</td>\n",
       "      <td>0.342231</td>\n",
       "      <td>-1.0</td>\n",
       "    </tr>\n",
       "    <tr>\n",
       "      <th>1</th>\n",
       "      <td>0.427333</td>\n",
       "      <td>0.406967</td>\n",
       "      <td>0.376660</td>\n",
       "      <td>-1.0</td>\n",
       "    </tr>\n",
       "    <tr>\n",
       "      <th>2</th>\n",
       "      <td>0.509321</td>\n",
       "      <td>0.512104</td>\n",
       "      <td>0.398580</td>\n",
       "      <td>-1.0</td>\n",
       "    </tr>\n",
       "    <tr>\n",
       "      <th>3</th>\n",
       "      <td>0.581645</td>\n",
       "      <td>0.572609</td>\n",
       "      <td>0.549550</td>\n",
       "      <td>-1.0</td>\n",
       "    </tr>\n",
       "    <tr>\n",
       "      <th>4</th>\n",
       "      <td>0.505475</td>\n",
       "      <td>0.517679</td>\n",
       "      <td>0.422280</td>\n",
       "      <td>-1.0</td>\n",
       "    </tr>\n",
       "  </tbody>\n",
       "</table>\n",
       "</div>"
      ],
      "text/plain": [
       "          R         G         B  label\n",
       "0  0.486640  0.440085  0.342231   -1.0\n",
       "1  0.427333  0.406967  0.376660   -1.0\n",
       "2  0.509321  0.512104  0.398580   -1.0\n",
       "3  0.581645  0.572609  0.549550   -1.0\n",
       "4  0.505475  0.517679  0.422280   -1.0"
      ]
     },
     "metadata": {},
     "output_type": "display_data"
    },
    {
     "name": "stdout",
     "output_type": "stream",
     "text": [
      "(6500, 4)\n"
     ]
    }
   ],
   "source": [
    "source_dir_path = \"./data\"\n",
    "save_dir_path = \"./inputs/winston_full\"\n",
    "\n",
    "data_formatter = WinstonDataFormatter(source_dir_path)\n",
    "data_formatter.format_and_save_data(save_dir_path)\n",
    "\n",
    "generate_and_save_unsupervised_data(save_dir_path,\n",
    "                                    data_num=20,\n",
    "                                    data_dim=3)\n",
    "\n",
    "df_test = pd.read_csv(os.path.join(save_dir_path, \"L_albatross(x).csv\"), index_col=0)\n",
    "display(df_test.head())\n",
    "print(df_test.shape)"
   ]
  },
  {
   "cell_type": "code",
   "execution_count": 16,
   "metadata": {},
   "outputs": [
    {
     "name": "stdout",
     "output_type": "stream",
     "text": [
      "Done!\n",
      "Done!\n"
     ]
    },
    {
     "data": {
      "text/html": [
       "<div>\n",
       "<style scoped>\n",
       "    .dataframe tbody tr th:only-of-type {\n",
       "        vertical-align: middle;\n",
       "    }\n",
       "\n",
       "    .dataframe tbody tr th {\n",
       "        vertical-align: top;\n",
       "    }\n",
       "\n",
       "    .dataframe thead th {\n",
       "        text-align: right;\n",
       "    }\n",
       "</style>\n",
       "<table border=\"1\" class=\"dataframe\">\n",
       "  <thead>\n",
       "    <tr style=\"text-align: right;\">\n",
       "      <th></th>\n",
       "      <th>R</th>\n",
       "      <th>G</th>\n",
       "      <th>B</th>\n",
       "      <th>label</th>\n",
       "    </tr>\n",
       "  </thead>\n",
       "  <tbody>\n",
       "    <tr>\n",
       "      <th>6187</th>\n",
       "      <td>0.459693</td>\n",
       "      <td>0.491589</td>\n",
       "      <td>0.324279</td>\n",
       "      <td>-1.0</td>\n",
       "    </tr>\n",
       "    <tr>\n",
       "      <th>5243</th>\n",
       "      <td>0.447529</td>\n",
       "      <td>0.434663</td>\n",
       "      <td>0.307180</td>\n",
       "      <td>-1.0</td>\n",
       "    </tr>\n",
       "    <tr>\n",
       "      <th>232</th>\n",
       "      <td>0.515541</td>\n",
       "      <td>0.511313</td>\n",
       "      <td>0.492940</td>\n",
       "      <td>-1.0</td>\n",
       "    </tr>\n",
       "    <tr>\n",
       "      <th>507</th>\n",
       "      <td>0.541042</td>\n",
       "      <td>0.428629</td>\n",
       "      <td>0.278256</td>\n",
       "      <td>-1.0</td>\n",
       "    </tr>\n",
       "    <tr>\n",
       "      <th>1653</th>\n",
       "      <td>0.489753</td>\n",
       "      <td>0.476355</td>\n",
       "      <td>0.410386</td>\n",
       "      <td>-1.0</td>\n",
       "    </tr>\n",
       "  </tbody>\n",
       "</table>\n",
       "</div>"
      ],
      "text/plain": [
       "             R         G         B  label\n",
       "6187  0.459693  0.491589  0.324279   -1.0\n",
       "5243  0.447529  0.434663  0.307180   -1.0\n",
       "232   0.515541  0.511313  0.492940   -1.0\n",
       "507   0.541042  0.428629  0.278256   -1.0\n",
       "1653  0.489753  0.476355  0.410386   -1.0"
      ]
     },
     "metadata": {},
     "output_type": "display_data"
    },
    {
     "name": "stdout",
     "output_type": "stream",
     "text": [
      "(10, 4)\n"
     ]
    }
   ],
   "source": [
    "source_dir_path = \"./data\"\n",
    "save_dir_path = \"./inputs/winston_10\"\n",
    "\n",
    "data_formatter = WinstonDataFormatter(source_dir_path)\n",
    "data_formatter.format_and_save_data(save_dir_path,\n",
    "                                    sample_num_per_animal=2)\n",
    "\n",
    "generate_and_save_unsupervised_data(save_dir_path,\n",
    "                                    data_num=20,\n",
    "                                    data_dim=3)\n",
    "\n",
    "df_test = pd.read_csv(os.path.join(save_dir_path, \"L_albatross(x).csv\"), index_col=0)\n",
    "display(df_test.head())\n",
    "print(df_test.shape)"
   ]
  },
  {
   "cell_type": "code",
   "execution_count": 17,
   "metadata": {},
   "outputs": [
    {
     "name": "stdout",
     "output_type": "stream",
     "text": [
      "Done!\n",
      "Done!\n"
     ]
    },
    {
     "data": {
      "text/html": [
       "<div>\n",
       "<style scoped>\n",
       "    .dataframe tbody tr th:only-of-type {\n",
       "        vertical-align: middle;\n",
       "    }\n",
       "\n",
       "    .dataframe tbody tr th {\n",
       "        vertical-align: top;\n",
       "    }\n",
       "\n",
       "    .dataframe thead th {\n",
       "        text-align: right;\n",
       "    }\n",
       "</style>\n",
       "<table border=\"1\" class=\"dataframe\">\n",
       "  <thead>\n",
       "    <tr style=\"text-align: right;\">\n",
       "      <th></th>\n",
       "      <th>R</th>\n",
       "      <th>G</th>\n",
       "      <th>B</th>\n",
       "      <th>label</th>\n",
       "    </tr>\n",
       "  </thead>\n",
       "  <tbody>\n",
       "    <tr>\n",
       "      <th>5840</th>\n",
       "      <td>0.529877</td>\n",
       "      <td>0.468574</td>\n",
       "      <td>0.448287</td>\n",
       "      <td>-1.0</td>\n",
       "    </tr>\n",
       "    <tr>\n",
       "      <th>5283</th>\n",
       "      <td>0.491300</td>\n",
       "      <td>0.460999</td>\n",
       "      <td>0.391749</td>\n",
       "      <td>-1.0</td>\n",
       "    </tr>\n",
       "    <tr>\n",
       "      <th>5750</th>\n",
       "      <td>0.500000</td>\n",
       "      <td>0.500000</td>\n",
       "      <td>0.500000</td>\n",
       "      <td>-1.0</td>\n",
       "    </tr>\n",
       "    <tr>\n",
       "      <th>5758</th>\n",
       "      <td>0.562385</td>\n",
       "      <td>0.490812</td>\n",
       "      <td>0.424986</td>\n",
       "      <td>-1.0</td>\n",
       "    </tr>\n",
       "    <tr>\n",
       "      <th>5702</th>\n",
       "      <td>0.477890</td>\n",
       "      <td>0.477700</td>\n",
       "      <td>0.443831</td>\n",
       "      <td>-1.0</td>\n",
       "    </tr>\n",
       "  </tbody>\n",
       "</table>\n",
       "</div>"
      ],
      "text/plain": [
       "             R         G         B  label\n",
       "5840  0.529877  0.468574  0.448287   -1.0\n",
       "5283  0.491300  0.460999  0.391749   -1.0\n",
       "5750  0.500000  0.500000  0.500000   -1.0\n",
       "5758  0.562385  0.490812  0.424986   -1.0\n",
       "5702  0.477890  0.477700  0.443831   -1.0"
      ]
     },
     "metadata": {},
     "output_type": "display_data"
    },
    {
     "name": "stdout",
     "output_type": "stream",
     "text": [
      "(100, 4)\n"
     ]
    }
   ],
   "source": [
    "source_dir_path = \"./data\"\n",
    "save_dir_path = \"./inputs/winston_100\"\n",
    "\n",
    "data_formatter = WinstonDataFormatter(source_dir_path)\n",
    "data_formatter.format_and_save_data(save_dir_path,\n",
    "                                    sample_num_per_animal=20)\n",
    "\n",
    "generate_and_save_unsupervised_data(save_dir_path,\n",
    "                                    data_num=20,\n",
    "                                    data_dim=3)\n",
    "\n",
    "df_test = pd.read_csv(os.path.join(save_dir_path, \"L_albatross(x).csv\"), index_col=0)\n",
    "display(df_test.head())\n",
    "print(df_test.shape)"
   ]
  },
  {
   "cell_type": "code",
   "execution_count": null,
   "metadata": {},
   "outputs": [],
   "source": []
  },
  {
   "cell_type": "markdown",
   "metadata": {},
   "source": [
    "# 学習"
   ]
  },
  {
   "cell_type": "markdown",
   "metadata": {},
   "source": [
    "## 各 p に対して，教師データの数が 10 個"
   ]
  },
  {
   "cell_type": "code",
   "execution_count": 77,
   "metadata": {},
   "outputs": [
    {
     "name": "stdout",
     "output_type": "stream",
     "text": [
      "Loading data ...\n",
      "Done in 0.04738140106201172 seconds! \n",
      "\n",
      "Loading rules ...\n",
      "Done in 0.00019621849060058594 seconds! \n",
      "\n",
      "Identifying predicates ...\n",
      "Done in 0.0019109249114990234 seconds! \n",
      "\n",
      "Constructing objective function ...\n",
      "Done in 0.03390622138977051 seconds! \n",
      "\n",
      "Constructing constraints ...\n",
      "Done in 0.6918408870697021 seconds! \n",
      "\n",
      "All done. \n",
      "\n",
      "===============================================================================\n",
      "                                     CVXPY                                     \n",
      "                                     v1.3.2                                    \n",
      "===============================================================================\n",
      "(CVXPY) Oct 28 04:55:39 PM: Your problem has 498 variables, 3450 constraints, and 0 parameters.\n",
      "(CVXPY) Oct 28 04:55:39 PM: It is compliant with the following grammars: DCP, DQCP\n",
      "(CVXPY) Oct 28 04:55:39 PM: (If you need to solve this problem multiple times, but with different data, consider using parameters.)\n",
      "(CVXPY) Oct 28 04:55:39 PM: CVXPY will first compile your problem; then, it will invoke a numerical solver to obtain a solution.\n",
      "-------------------------------------------------------------------------------\n",
      "                                  Compilation                                  \n",
      "-------------------------------------------------------------------------------\n",
      "(CVXPY) Oct 28 04:55:40 PM: Compiling problem (target solver=ECOS).\n",
      "(CVXPY) Oct 28 04:55:40 PM: Reduction chain: Dcp2Cone -> CvxAttr2Constr -> ConeMatrixStuffing -> ECOS\n",
      "(CVXPY) Oct 28 04:55:40 PM: Applying reduction Dcp2Cone\n",
      "(CVXPY) Oct 28 04:55:41 PM: Applying reduction CvxAttr2Constr\n",
      "(CVXPY) Oct 28 04:55:41 PM: Applying reduction ConeMatrixStuffing\n",
      "(CVXPY) Oct 28 04:55:44 PM: Applying reduction ECOS\n",
      "(CVXPY) Oct 28 04:55:45 PM: Finished problem compilation (took 6.110e+00 seconds).\n",
      "-------------------------------------------------------------------------------\n",
      "                                Numerical solver                               \n",
      "-------------------------------------------------------------------------------\n",
      "(CVXPY) Oct 28 04:55:45 PM: Invoking solver ECOS  to obtain a solution.\n",
      "\n",
      "ECOS 2.0.10 - (C) embotech GmbH, Zurich Switzerland, 2012-15. Web: www.embotech.com/ECOS\n",
      "\n",
      "It     pcost       dcost      gap   pres   dres    k/t    mu     step   sigma     IR    |   BT\n",
      " 0  +8.050e+02  -4.737e+03  +5e+04  7e-01  4e+00  1e+00  1e+01    ---    ---    1  1  - |  -  - \n",
      " 1  +6.118e+02  -5.275e+02  +2e+04  2e-01  9e-01  2e+00  5e+00  0.8354  3e-01   1  1  1 |  0  0\n",
      " 2  +6.671e+02  +2.282e+02  +9e+03  6e-02  3e-01  1e+00  2e+00  0.6412  1e-01   2  1  1 |  0  0\n",
      " 3  +6.350e+02  +4.686e+02  +3e+03  2e-02  1e-01  3e-01  9e-01  0.9023  3e-01   2  2  2 |  0  0\n",
      " 4  +6.526e+02  +5.856e+02  +1e+03  9e-03  4e-02  1e-01  4e-01  0.7066  2e-01   2  2  2 |  0  0\n",
      " 5  +6.535e+02  +5.955e+02  +1e+03  8e-03  4e-02  8e-02  3e-01  0.2928  6e-01   2  2  2 |  0  0\n",
      " 6  +6.608e+02  +6.396e+02  +5e+02  3e-03  1e-02  3e-02  1e-01  0.6685  1e-01   2  2  2 |  0  0\n",
      " 7  +6.610e+02  +6.428e+02  +5e+02  3e-03  1e-02  2e-02  1e-01  0.3354  6e-01   2  2  2 |  0  0\n",
      " 8  +6.627e+02  +6.589e+02  +1e+02  5e-04  2e-03  3e-03  3e-02  0.9890  2e-01   2  2  2 |  0  0\n",
      " 9  +6.629e+02  +6.621e+02  +2e+01  1e-04  5e-04  6e-04  6e-03  0.8825  1e-01   2  1  1 |  0  0\n",
      "10  +6.629e+02  +6.628e+02  +2e+00  1e-05  5e-05  7e-05  6e-04  0.8941  7e-03   2  1  1 |  0  0\n",
      "11  +6.629e+02  +6.629e+02  +6e-01  3e-06  1e-05  2e-05  2e-04  0.9890  2e-01   2  1  1 |  0  0\n",
      "12  +6.629e+02  +6.629e+02  +1e-01  7e-07  3e-06  4e-06  4e-05  0.8225  7e-02   2  1  1 |  0  0\n",
      "13  +6.629e+02  +6.629e+02  +6e-02  3e-07  1e-06  1e-06  2e-05  0.7396  2e-01   3  1  1 |  0  0\n",
      "14  +6.629e+02  +6.629e+02  +2e-02  9e-08  4e-07  5e-07  5e-06  0.8956  3e-01   3  1  1 |  0  0\n",
      "15  +6.629e+02  +6.629e+02  +3e-03  1e-08  5e-08  6e-08  7e-07  0.9890  1e-01   3  1  1 |  0  0\n",
      "16  +6.629e+02  +6.629e+02  +6e-04  3e-09  1e-08  2e-08  2e-07  0.8102  7e-02   3  1  1 |  0  0\n",
      "17  +6.629e+02  +6.629e+02  +2e-04  1e-09  5e-09  6e-09  6e-08  0.7698  2e-01   3  1  1 |  0  0\n",
      "18  +6.629e+02  +6.629e+02  +7e-05  3e-10  1e-09  2e-09  2e-08  0.9082  2e-01   3  1  1 |  0  0\n",
      "19  +6.629e+02  +6.629e+02  +1e-05  5e-11  2e-10  2e-10  3e-09  0.9750  1e-01   2  1  1 |  0  0\n",
      "20  +6.629e+02  +6.629e+02  +2e-06  1e-11  5e-11  6e-11  6e-10  0.8191  8e-02   2  1  1 |  0  0\n",
      "\n",
      "OPTIMAL (within feastol=4.9e-11, reltol=3.6e-09, abstol=2.4e-06).\n",
      "Runtime: 0.044224 seconds.\n",
      "\n",
      "-------------------------------------------------------------------------------\n",
      "                                    Summary                                    \n",
      "-------------------------------------------------------------------------------\n",
      "(CVXPY) Oct 28 04:55:45 PM: Problem status: optimal\n",
      "(CVXPY) Oct 28 04:55:45 PM: Optimal value: 6.629e+02\n",
      "(CVXPY) Oct 28 04:55:45 PM: Compilation took 6.110e+00 seconds\n",
      "(CVXPY) Oct 28 04:55:45 PM: Solver (including time spent in interface) took 4.441e-02 seconds\n",
      "\n",
      "学習時間: 6.988401889801025 秒\n"
     ]
    }
   ],
   "source": [
    "data_dir_path = './inputs/winston_10'\n",
    "\n",
    "file_list = os.listdir(data_dir_path)\n",
    "\n",
    "L_files = [filename.split('.csv')[0] for filename in file_list \n",
    "           if filename.startswith('L') and filename.endswith('.csv')]\n",
    "\n",
    "U_files = [filename.split('.csv')[0] for filename in file_list \n",
    "           if filename.startswith('U') and filename.endswith('.csv')]\n",
    "\n",
    "file_names_dict = {\n",
    "    'supervised': L_files,\n",
    "    'unsupervised': U_files,\n",
    "    'rule': ['rules_2']\n",
    "}\n",
    "\n",
    "problem_instance = Setup(data_dir_path, file_names_dict)\n",
    "objective, constraints = problem_instance.main(c1=10, c2=0.3)\n",
    "\n",
    "start_time = time.time()\n",
    "problem = cp.Problem(objective, constraints)\n",
    "result = problem.solve(verbose=True)\n",
    "end_time = time.time()\n",
    "print()\n",
    "print(f'学習時間: {end_time - start_time} 秒')"
   ]
  },
  {
   "cell_type": "code",
   "execution_count": 37,
   "metadata": {},
   "outputs": [],
   "source": [
    "# for formula in problem_instance.KB_origin:\n",
    "#     print(formula)\n",
    "\n",
    "# print()\n",
    "\n",
    "# for new_formula in problem_instance.KB:\n",
    "#     print(new_formula)"
   ]
  },
  {
   "cell_type": "code",
   "execution_count": 78,
   "metadata": {},
   "outputs": [
    {
     "name": "stdout",
     "output_type": "stream",
     "text": [
      "5200\n",
      "Accuracy of albatross(x): 0.8\n",
      "5200\n",
      "Accuracy of cheetah(x): 0.8\n",
      "5200\n",
      "Accuracy of ostrich(x): 0.8\n",
      "5200\n",
      "Accuracy of penguin(x): 0.8\n",
      "5200\n",
      "Accuracy of zebra(x): 0.8\n"
     ]
    }
   ],
   "source": [
    "# テストデータ\n",
    "test_data_dir_path = './inputs/winston_full'\n",
    "test_animals = ['albatross', 'cheetah', 'ostrich', 'penguin', 'zebra']\n",
    "\n",
    "test_data = problem_instance.prepare_test_data(test_data_dir_path, test_animals)\n",
    "\n",
    "def test_trained_predicate(problem_instance, test_data):\n",
    "    result_dict = {}\n",
    "    p_dict = problem_instance.predicates_dict\n",
    "\n",
    "    for p_name, p_data in test_data.items():\n",
    "        pred_vals = []\n",
    "        preds = []\n",
    "\n",
    "        p = p_dict[p_name]\n",
    "        cnt = 0\n",
    "\n",
    "        for data in p_data:\n",
    "            x, ans = data[:-1], data[-1]\n",
    "            pred_val = p(x).value\n",
    "\n",
    "            pred_vals.append(pred_val)\n",
    "\n",
    "            if (pred_val >= 0.5 and ans == 1) or (pred_val < 0.5 and ans == -1):\n",
    "                cnt += 1\n",
    "\n",
    "            pred = (pred_val >= 0.5 and ans == 1) or (pred_val < 0.5 and ans == -1)\n",
    "            \n",
    "            preds.append(pred)\n",
    "\n",
    "        p_arr = np.hstack([p_data, np.array(pred_vals).reshape(-1, 1), np.array(preds).reshape(-1, 1)])\n",
    "        p_df = pd.DataFrame(p_arr, columns=['r', 'g', 'b', 'Ans', 'pred_val', 'pred'])\n",
    "\n",
    "        result_dict[p_name] = p_df\n",
    "        \n",
    "        print(cnt)\n",
    "        print(f'Accuracy of {p_name}: {cnt / len(p_data)}')\n",
    "\n",
    "    return result_dict\n",
    "\n",
    "\n",
    "res_dict = test_trained_predicate(problem_instance, test_data)"
   ]
  },
  {
   "cell_type": "code",
   "execution_count": 55,
   "metadata": {},
   "outputs": [
    {
     "data": {
      "text/plain": [
       "31"
      ]
     },
     "execution_count": 55,
     "metadata": {},
     "output_type": "execute_result"
    }
   ],
   "source": [
    "len(problem_instance.L)"
   ]
  },
  {
   "cell_type": "code",
   "execution_count": 57,
   "metadata": {},
   "outputs": [
    {
     "data": {
      "text/plain": [
       "['albatross', 'cheetah', 'ostrich', 'penguin', 'zebra']"
      ]
     },
     "execution_count": 57,
     "metadata": {},
     "output_type": "execute_result"
    }
   ],
   "source": [
    "test_animals"
   ]
  },
  {
   "cell_type": "code",
   "execution_count": null,
   "metadata": {},
   "outputs": [],
   "source": [
    "pd.read_csv()"
   ]
  },
  {
   "cell_type": "code",
   "execution_count": 56,
   "metadata": {},
   "outputs": [
    {
     "data": {
      "text/plain": [
       "array([[[ 0.51548432,  0.4533864 ,  0.38860145, -1.        ],\n",
       "        [ 0.46517115,  0.46238609,  0.45014919, -1.        ],\n",
       "        [ 0.50268406,  0.51702762,  0.50812705,  1.        ],\n",
       "        ...,\n",
       "        [ 0.53528694,  0.52298571,  0.32538035, -1.        ],\n",
       "        [ 0.46227439,  0.42251048,  0.42294233,  1.        ],\n",
       "        [ 0.5535101 ,  0.54497347,  0.4811481 ,  1.        ]],\n",
       "\n",
       "       [[ 0.54052452,  0.4937535 ,  0.4089825 ,  1.        ],\n",
       "        [ 0.42204827,  0.39576059,  0.32168631,  1.        ],\n",
       "        [ 0.44926467,  0.44488827,  0.41302272, -1.        ],\n",
       "        ...,\n",
       "        [ 0.47105572,  0.4983398 ,  0.43885245,  1.        ],\n",
       "        [ 0.46053577,  0.47561262,  0.53212055, -1.        ],\n",
       "        [ 0.34924947,  0.34241552,  0.30371739, -1.        ]],\n",
       "\n",
       "       [[ 0.59524781,  0.59223666,  0.49026362, -1.        ],\n",
       "        [ 0.4051761 ,  0.44384515,  0.35118756, -1.        ],\n",
       "        [ 0.47100261,  0.45500622,  0.33649725, -1.        ],\n",
       "        ...,\n",
       "        [ 0.52775279,  0.45113479,  0.38602574, -1.        ],\n",
       "        [ 0.40243264,  0.42049324,  0.31348389, -1.        ],\n",
       "        [ 0.45768289,  0.47894386,  0.56382894, -1.        ]],\n",
       "\n",
       "       ...,\n",
       "\n",
       "       [[ 0.52937069,  0.50516591,  0.42018387, -1.        ],\n",
       "        [ 0.49317175,  0.44506583,  0.36626433, -1.        ],\n",
       "        [ 0.58766416,  0.54589327,  0.40956938, -1.        ],\n",
       "        ...,\n",
       "        [ 0.62777628,  0.51789709,  0.34023401, -1.        ],\n",
       "        [ 0.46356852,  0.45619503,  0.43933659, -1.        ],\n",
       "        [ 0.50286382,  0.51138123,  0.16304914, -1.        ]],\n",
       "\n",
       "       [[ 0.48326103,  0.48125461,  0.47833108, -1.        ],\n",
       "        [ 0.50729245,  0.49698743,  0.32158798, -1.        ],\n",
       "        [ 0.479701  ,  0.44937157,  0.36905349, -1.        ],\n",
       "        ...,\n",
       "        [ 0.61667928,  0.53837712,  0.42684288, -1.        ],\n",
       "        [ 0.35245178,  0.35749088,  0.3064247 , -1.        ],\n",
       "        [ 0.43995337,  0.38550101,  0.32328002, -1.        ]],\n",
       "\n",
       "       [[ 0.63714032,  0.53913149,  0.43666411, -1.        ],\n",
       "        [ 0.42271577,  0.46534249,  0.33459942, -1.        ],\n",
       "        [ 0.46842752,  0.49340482,  0.44602832, -1.        ],\n",
       "        ...,\n",
       "        [ 0.54642983,  0.49654899,  0.31404715, -1.        ],\n",
       "        [ 0.41298848,  0.43181271,  0.4881415 , -1.        ],\n",
       "        [ 0.51347278,  0.51943332,  0.61375516, -1.        ]]])"
      ]
     },
     "execution_count": 56,
     "metadata": {},
     "output_type": "execute_result"
    }
   ],
   "source": [
    "problem_instance.L"
   ]
  },
  {
   "cell_type": "code",
   "execution_count": 53,
   "metadata": {},
   "outputs": [
    {
     "data": {
      "text/plain": [
       "{'albatross(x)': array([[ 0.48664018,  0.44008494,  0.3422309 , -1.        ],\n",
       "        [ 0.42733264,  0.4069667 ,  0.37666028, -1.        ],\n",
       "        [ 0.50932126,  0.512104  ,  0.39857979, -1.        ],\n",
       "        ...,\n",
       "        [ 0.51725972,  0.50938418,  0.4982856 , -1.        ],\n",
       "        [ 0.47030804,  0.43970613,  0.37393799, -1.        ],\n",
       "        [ 0.39154442,  0.40050628,  0.42496127, -1.        ]]),\n",
       " 'cheetah(x)': array([[ 0.48664018,  0.44008494,  0.3422309 , -1.        ],\n",
       "        [ 0.42733264,  0.4069667 ,  0.37666028, -1.        ],\n",
       "        [ 0.50932126,  0.512104  ,  0.39857979, -1.        ],\n",
       "        ...,\n",
       "        [ 0.51725972,  0.50938418,  0.4982856 , -1.        ],\n",
       "        [ 0.47030804,  0.43970613,  0.37393799, -1.        ],\n",
       "        [ 0.39154442,  0.40050628,  0.42496127, -1.        ]]),\n",
       " 'ostrich(x)': array([[ 0.48664018,  0.44008494,  0.3422309 , -1.        ],\n",
       "        [ 0.42733264,  0.4069667 ,  0.37666028, -1.        ],\n",
       "        [ 0.50932126,  0.512104  ,  0.39857979, -1.        ],\n",
       "        ...,\n",
       "        [ 0.51725972,  0.50938418,  0.4982856 , -1.        ],\n",
       "        [ 0.47030804,  0.43970613,  0.37393799, -1.        ],\n",
       "        [ 0.39154442,  0.40050628,  0.42496127, -1.        ]]),\n",
       " 'penguin(x)': array([[ 0.48664018,  0.44008494,  0.3422309 ,  1.        ],\n",
       "        [ 0.42733264,  0.4069667 ,  0.37666028,  1.        ],\n",
       "        [ 0.50932126,  0.512104  ,  0.39857979,  1.        ],\n",
       "        ...,\n",
       "        [ 0.51725972,  0.50938418,  0.4982856 , -1.        ],\n",
       "        [ 0.47030804,  0.43970613,  0.37393799, -1.        ],\n",
       "        [ 0.39154442,  0.40050628,  0.42496127, -1.        ]]),\n",
       " 'zebra(x)': array([[ 0.48664018,  0.44008494,  0.3422309 , -1.        ],\n",
       "        [ 0.42733264,  0.4069667 ,  0.37666028, -1.        ],\n",
       "        [ 0.50932126,  0.512104  ,  0.39857979, -1.        ],\n",
       "        ...,\n",
       "        [ 0.51725972,  0.50938418,  0.4982856 ,  1.        ],\n",
       "        [ 0.47030804,  0.43970613,  0.37393799,  1.        ],\n",
       "        [ 0.39154442,  0.40050628,  0.42496127,  1.        ]])}"
      ]
     },
     "execution_count": 53,
     "metadata": {},
     "output_type": "execute_result"
    }
   ],
   "source": [
    "test_data"
   ]
  },
  {
   "cell_type": "code",
   "execution_count": 32,
   "metadata": {},
   "outputs": [
    {
     "data": {
      "text/html": [
       "<div>\n",
       "<style scoped>\n",
       "    .dataframe tbody tr th:only-of-type {\n",
       "        vertical-align: middle;\n",
       "    }\n",
       "\n",
       "    .dataframe tbody tr th {\n",
       "        vertical-align: top;\n",
       "    }\n",
       "\n",
       "    .dataframe thead th {\n",
       "        text-align: right;\n",
       "    }\n",
       "</style>\n",
       "<table border=\"1\" class=\"dataframe\">\n",
       "  <thead>\n",
       "    <tr style=\"text-align: right;\">\n",
       "      <th></th>\n",
       "      <th>r</th>\n",
       "      <th>g</th>\n",
       "      <th>b</th>\n",
       "      <th>Ans</th>\n",
       "      <th>pred_val</th>\n",
       "      <th>pred</th>\n",
       "    </tr>\n",
       "  </thead>\n",
       "  <tbody>\n",
       "    <tr>\n",
       "      <th>0</th>\n",
       "      <td>0.486640</td>\n",
       "      <td>0.440085</td>\n",
       "      <td>0.342231</td>\n",
       "      <td>-1.0</td>\n",
       "      <td>8.279502e-12</td>\n",
       "      <td>1.0</td>\n",
       "    </tr>\n",
       "    <tr>\n",
       "      <th>1</th>\n",
       "      <td>0.427333</td>\n",
       "      <td>0.406967</td>\n",
       "      <td>0.376660</td>\n",
       "      <td>-1.0</td>\n",
       "      <td>8.752989e-12</td>\n",
       "      <td>1.0</td>\n",
       "    </tr>\n",
       "    <tr>\n",
       "      <th>2</th>\n",
       "      <td>0.509321</td>\n",
       "      <td>0.512104</td>\n",
       "      <td>0.398580</td>\n",
       "      <td>-1.0</td>\n",
       "      <td>1.092828e-11</td>\n",
       "      <td>1.0</td>\n",
       "    </tr>\n",
       "    <tr>\n",
       "      <th>3</th>\n",
       "      <td>0.581645</td>\n",
       "      <td>0.572609</td>\n",
       "      <td>0.549550</td>\n",
       "      <td>-1.0</td>\n",
       "      <td>1.354286e-11</td>\n",
       "      <td>1.0</td>\n",
       "    </tr>\n",
       "    <tr>\n",
       "      <th>4</th>\n",
       "      <td>0.505475</td>\n",
       "      <td>0.517679</td>\n",
       "      <td>0.422280</td>\n",
       "      <td>-1.0</td>\n",
       "      <td>1.149094e-11</td>\n",
       "      <td>1.0</td>\n",
       "    </tr>\n",
       "    <tr>\n",
       "      <th>...</th>\n",
       "      <td>...</td>\n",
       "      <td>...</td>\n",
       "      <td>...</td>\n",
       "      <td>...</td>\n",
       "      <td>...</td>\n",
       "      <td>...</td>\n",
       "    </tr>\n",
       "    <tr>\n",
       "      <th>6495</th>\n",
       "      <td>0.618658</td>\n",
       "      <td>0.583356</td>\n",
       "      <td>0.521907</td>\n",
       "      <td>-1.0</td>\n",
       "      <td>1.284633e-11</td>\n",
       "      <td>1.0</td>\n",
       "    </tr>\n",
       "    <tr>\n",
       "      <th>6496</th>\n",
       "      <td>0.506803</td>\n",
       "      <td>0.401962</td>\n",
       "      <td>0.288625</td>\n",
       "      <td>-1.0</td>\n",
       "      <td>5.974145e-12</td>\n",
       "      <td>1.0</td>\n",
       "    </tr>\n",
       "    <tr>\n",
       "      <th>6497</th>\n",
       "      <td>0.517260</td>\n",
       "      <td>0.509384</td>\n",
       "      <td>0.498286</td>\n",
       "      <td>-1.0</td>\n",
       "      <td>1.200926e-11</td>\n",
       "      <td>1.0</td>\n",
       "    </tr>\n",
       "    <tr>\n",
       "      <th>6498</th>\n",
       "      <td>0.470308</td>\n",
       "      <td>0.439706</td>\n",
       "      <td>0.373938</td>\n",
       "      <td>-1.0</td>\n",
       "      <td>8.984672e-12</td>\n",
       "      <td>1.0</td>\n",
       "    </tr>\n",
       "    <tr>\n",
       "      <th>6499</th>\n",
       "      <td>0.391544</td>\n",
       "      <td>0.400506</td>\n",
       "      <td>0.424961</td>\n",
       "      <td>-1.0</td>\n",
       "      <td>9.837540e-12</td>\n",
       "      <td>1.0</td>\n",
       "    </tr>\n",
       "  </tbody>\n",
       "</table>\n",
       "<p>6500 rows × 6 columns</p>\n",
       "</div>"
      ],
      "text/plain": [
       "             r         g         b  Ans      pred_val  pred\n",
       "0     0.486640  0.440085  0.342231 -1.0  8.279502e-12   1.0\n",
       "1     0.427333  0.406967  0.376660 -1.0  8.752989e-12   1.0\n",
       "2     0.509321  0.512104  0.398580 -1.0  1.092828e-11   1.0\n",
       "3     0.581645  0.572609  0.549550 -1.0  1.354286e-11   1.0\n",
       "4     0.505475  0.517679  0.422280 -1.0  1.149094e-11   1.0\n",
       "...        ...       ...       ...  ...           ...   ...\n",
       "6495  0.618658  0.583356  0.521907 -1.0  1.284633e-11   1.0\n",
       "6496  0.506803  0.401962  0.288625 -1.0  5.974145e-12   1.0\n",
       "6497  0.517260  0.509384  0.498286 -1.0  1.200926e-11   1.0\n",
       "6498  0.470308  0.439706  0.373938 -1.0  8.984672e-12   1.0\n",
       "6499  0.391544  0.400506  0.424961 -1.0  9.837540e-12   1.0\n",
       "\n",
       "[6500 rows x 6 columns]"
      ]
     },
     "execution_count": 32,
     "metadata": {},
     "output_type": "execute_result"
    }
   ],
   "source": [
    "res_dict['albatross(x)']"
   ]
  },
  {
   "cell_type": "code",
   "execution_count": 38,
   "metadata": {},
   "outputs": [],
   "source": [
    "tmp = res_dict['albatross(x)'].loc[:, 'Ans'].to_list()\n",
    "\n",
    "arr1 = (np.array(tmp) + 1) / 2"
   ]
  },
  {
   "cell_type": "code",
   "execution_count": 39,
   "metadata": {},
   "outputs": [
    {
     "data": {
      "text/plain": [
       "array([8.27950248e-12, 8.75298876e-12, 1.09282826e-11, ...,\n",
       "       1.20092640e-11, 8.98467200e-12, 9.83753997e-12])"
      ]
     },
     "execution_count": 39,
     "metadata": {},
     "output_type": "execute_result"
    }
   ],
   "source": [
    "tmp = res_dict['albatross(x)'].loc[:, 'pred_val'].to_list()\n",
    "arr2 = np.array(tmp)\n",
    "arr2"
   ]
  },
  {
   "cell_type": "code",
   "execution_count": 30,
   "metadata": {},
   "outputs": [
    {
     "ename": "ModuleNotFoundError",
     "evalue": "No module named 'sklearn'",
     "output_type": "error",
     "traceback": [
      "\u001b[0;31m---------------------------------------------------------------------------\u001b[0m",
      "\u001b[0;31mModuleNotFoundError\u001b[0m                       Traceback (most recent call last)",
      "\u001b[1;32m/home/onoue/ws/lukasiewicz_1/winston copy.ipynb セル 14\u001b[0m line \u001b[0;36m1\n\u001b[0;32m----> <a href='vscode-notebook-cell:/home/onoue/ws/lukasiewicz_1/winston%20copy.ipynb#X61sZmlsZQ%3D%3D?line=0'>1</a>\u001b[0m \u001b[39mfrom\u001b[39;00m \u001b[39msklearn\u001b[39;00m\u001b[39m.\u001b[39;00m\u001b[39mmetrics\u001b[39;00m \u001b[39mimport\u001b[39;00m roc_curve\n",
      "\u001b[0;31mModuleNotFoundError\u001b[0m: No module named 'sklearn'"
     ]
    }
   ],
   "source": [
    "from sklearn.metrics import roc_curve"
   ]
  },
  {
   "cell_type": "code",
   "execution_count": 40,
   "metadata": {},
   "outputs": [
    {
     "name": "stderr",
     "output_type": "stream",
     "text": [
      "/home/onoue/ws/lukasiewicz_1/myenv/lib/python3.11/site-packages/sklearn/metrics/_ranking.py:1133: UndefinedMetricWarning: No positive samples in y_true, true positive value should be meaningless\n",
      "  warnings.warn(\n"
     ]
    }
   ],
   "source": [
    "import numpy as np\n",
    "from sklearn import metrics\n",
    "y = arr1\n",
    "scores = arr2\n",
    "fpr, tpr, thresholds = metrics.roc_curve(y, scores, pos_label=2)"
   ]
  },
  {
   "cell_type": "code",
   "execution_count": 43,
   "metadata": {},
   "outputs": [
    {
     "data": {
      "text/plain": [
       "0.6069573224852072"
      ]
     },
     "execution_count": 43,
     "metadata": {},
     "output_type": "execute_result"
    }
   ],
   "source": [
    "metrics.roc_auc_score(y, scores)"
   ]
  },
  {
   "cell_type": "code",
   "execution_count": null,
   "metadata": {},
   "outputs": [],
   "source": [
    "tmp1 = res_dict['albatross(x)'].loc[:, 'Ans'].to_list()\n",
    "arr1 = (np.array(tmp1) + 1) / 2\n",
    "tmp2 = res_dict['albatross(x)'].loc[:, 'pred_val'].to_list()\n",
    "arr2 = np.array(tmp2)\n",
    "\n",
    "y = arr1\n",
    "scores = arr2\n",
    "\n",
    "metrics.roc_auc_score(y, scores)"
   ]
  },
  {
   "cell_type": "code",
   "execution_count": null,
   "metadata": {},
   "outputs": [],
   "source": [
    "res_dict['cheetah(x)']"
   ]
  },
  {
   "cell_type": "code",
   "execution_count": 44,
   "metadata": {},
   "outputs": [
    {
     "data": {
      "text/plain": [
       "0.4688070266272189"
      ]
     },
     "execution_count": 44,
     "metadata": {},
     "output_type": "execute_result"
    }
   ],
   "source": [
    "tmp1 = res_dict['cheetah(x)'].loc[:, 'Ans'].to_list()\n",
    "arr1 = (np.array(tmp1) + 1) / 2\n",
    "tmp2 = res_dict['cheetah(x)'].loc[:, 'pred_val'].to_list()\n",
    "arr2 = np.array(tmp2)\n",
    "\n",
    "y = arr1\n",
    "scores = arr2\n",
    "\n",
    "metrics.roc_auc_score(y, scores)"
   ]
  },
  {
   "cell_type": "code",
   "execution_count": 46,
   "metadata": {},
   "outputs": [
    {
     "data": {
      "text/plain": [
       "{'albatross(x)': 0.6069573224852072,\n",
       " 'cheetah(x)': 0.4688070266272189,\n",
       " 'ostrich(x)': 0.5000685650887574,\n",
       " 'penguin(x)': 0.5360473372781065,\n",
       " 'zebra(x)': 0.5319147189349113}"
      ]
     },
     "execution_count": 46,
     "metadata": {},
     "output_type": "execute_result"
    }
   ],
   "source": [
    "score_dict = {}\n",
    "\n",
    "for predicate in res_dict.keys():\n",
    "    tmp1 = res_dict[predicate].loc[:, 'Ans'].to_list()\n",
    "    arr1 = (np.array(tmp1) + 1) / 2\n",
    "    tmp2 = res_dict[predicate].loc[:, 'pred_val'].to_list()\n",
    "    arr2 = np.array(tmp2)\n",
    "\n",
    "    y = arr1\n",
    "    scores = arr2\n",
    "\n",
    "    roc_auc = metrics.roc_auc_score(y, scores)\n",
    "\n",
    "    score_dict[predicate] = roc_auc\n",
    "\n",
    "score_dict"
   ]
  },
  {
   "cell_type": "code",
   "execution_count": 52,
   "metadata": {},
   "outputs": [
    {
     "data": {
      "text/plain": [
       "0.5287589940828402"
      ]
     },
     "execution_count": 52,
     "metadata": {},
     "output_type": "execute_result"
    }
   ],
   "source": [
    "np.array(list(score_dict.values())).mean()"
   ]
  },
  {
   "cell_type": "code",
   "execution_count": null,
   "metadata": {},
   "outputs": [],
   "source": []
  },
  {
   "cell_type": "code",
   "execution_count": 79,
   "metadata": {},
   "outputs": [
    {
     "name": "stdout",
     "output_type": "stream",
     "text": [
      "8\n",
      "Accuracy of albatross(x): 0.8\n",
      "8\n",
      "Accuracy of cheetah(x): 0.8\n",
      "8\n",
      "Accuracy of ostrich(x): 0.8\n",
      "8\n",
      "Accuracy of penguin(x): 0.8\n",
      "8\n",
      "Accuracy of zebra(x): 0.8\n"
     ]
    }
   ],
   "source": [
    "# テストデータ\n",
    "test_data_dir_path = './inputs/winston_10'\n",
    "test_animals = ['albatross', 'cheetah', 'ostrich', 'penguin', 'zebra']\n",
    "\n",
    "test_data = problem_instance.prepare_test_data(test_data_dir_path, test_animals)\n",
    "\n",
    "def test_trained_predicate(problem_instance, test_data):\n",
    "    result_dict = {}\n",
    "    p_dict = problem_instance.predicates_dict\n",
    "\n",
    "    for p_name, p_data in test_data.items():\n",
    "        pred_vals = []\n",
    "        preds = []\n",
    "\n",
    "        p = p_dict[p_name]\n",
    "        cnt = 0\n",
    "\n",
    "        for data in p_data:\n",
    "            x, ans = data[:-1], data[-1]\n",
    "            pred_val = p(x).value\n",
    "\n",
    "            pred_vals.append(pred_val)\n",
    "\n",
    "            if (pred_val >= 0.5 and ans == 1) or (pred_val < 0.5 and ans == -1):\n",
    "                cnt += 1\n",
    "\n",
    "            pred = (pred_val >= 0.5 and ans == 1) or (pred_val < 0.5 and ans == -1)\n",
    "            \n",
    "            preds.append(pred)\n",
    "\n",
    "        p_arr = np.hstack([p_data, np.array(pred_vals).reshape(-1, 1), np.array(preds).reshape(-1, 1)])\n",
    "        p_df = pd.DataFrame(p_arr, columns=['r', 'g', 'b', 'Ans', 'pred_val', 'pred'])\n",
    "\n",
    "        result_dict[p_name] = p_df\n",
    "        \n",
    "        print(cnt)\n",
    "        print(f'Accuracy of {p_name}: {cnt / len(p_data)}')\n",
    "\n",
    "    return result_dict\n",
    "\n",
    "\n",
    "res_dict = test_trained_predicate(problem_instance, test_data)"
   ]
  },
  {
   "cell_type": "code",
   "execution_count": 80,
   "metadata": {},
   "outputs": [
    {
     "data": {
      "text/plain": [
       "{'albatross(x)': 0.6875,\n",
       " 'cheetah(x)': 0.5,\n",
       " 'ostrich(x)': 0.5625,\n",
       " 'penguin(x)': 0.25,\n",
       " 'zebra(x)': 0.5625}"
      ]
     },
     "execution_count": 80,
     "metadata": {},
     "output_type": "execute_result"
    }
   ],
   "source": [
    "score_dict = {}\n",
    "\n",
    "for predicate in res_dict.keys():\n",
    "    tmp1 = res_dict[predicate].loc[:, 'Ans'].to_list()\n",
    "    arr1 = (np.array(tmp1) + 1) / 2\n",
    "    tmp2 = res_dict[predicate].loc[:, 'pred_val'].to_list()\n",
    "    arr2 = np.array(tmp2)\n",
    "\n",
    "    y = arr1\n",
    "    scores = arr2\n",
    "\n",
    "    roc_auc = metrics.roc_auc_score(y, scores)\n",
    "\n",
    "    score_dict[predicate] = roc_auc\n",
    "\n",
    "score_dict"
   ]
  },
  {
   "cell_type": "code",
   "execution_count": 81,
   "metadata": {},
   "outputs": [
    {
     "data": {
      "text/plain": [
       "0.5125"
      ]
     },
     "execution_count": 81,
     "metadata": {},
     "output_type": "execute_result"
    }
   ],
   "source": [
    "np.array(list(score_dict.values())).mean()"
   ]
  },
  {
   "cell_type": "code",
   "execution_count": 85,
   "metadata": {},
   "outputs": [
    {
     "data": {
      "text/plain": [
       "array([[ 0.51548432,  0.4533864 ,  0.38860145, -1.        ],\n",
       "       [ 0.46517115,  0.46238609,  0.45014919, -1.        ],\n",
       "       [ 0.50268406,  0.51702762,  0.50812705,  1.        ],\n",
       "       [ 0.51562029,  0.47202459,  0.40856782,  1.        ],\n",
       "       [ 0.50500199,  0.50415852,  0.46693104,  1.        ],\n",
       "       [ 0.57393299,  0.50544942,  0.29529846,  1.        ],\n",
       "       [ 0.48814955,  0.45962042,  0.28293   , -1.        ],\n",
       "       [ 0.53528694,  0.52298571,  0.32538035, -1.        ],\n",
       "       [ 0.46227439,  0.42251048,  0.42294233,  1.        ],\n",
       "       [ 0.5535101 ,  0.54497347,  0.4811481 ,  1.        ]])"
      ]
     },
     "execution_count": 85,
     "metadata": {},
     "output_type": "execute_result"
    }
   ],
   "source": [
    "problem_instance.L[0]"
   ]
  },
  {
   "cell_type": "code",
   "execution_count": 83,
   "metadata": {},
   "outputs": [
    {
     "data": {
      "text/plain": [
       "array([[ 2.60831588e-10,  6.79940229e-11,  1.83178064e-10,\n",
       "         1.00000000e+00],\n",
       "       [-7.05782491e-11,  3.82506821e-10, -1.04369485e-10,\n",
       "         1.17633008e-11],\n",
       "       [-1.67505156e-11,  1.03618471e-10,  1.73866409e-12,\n",
       "        -3.01842257e-11],\n",
       "       [-8.63928421e-11, -4.17016010e-11, -2.87835298e-11,\n",
       "         9.18702336e-11],\n",
       "       [-1.51992243e-11,  3.41715304e-11,  6.07682149e-11,\n",
       "        -2.00296456e-11],\n",
       "       [ 4.66919037e-12,  4.99943176e-11,  1.21791600e-10,\n",
       "        -6.15018396e-11],\n",
       "       [-4.16915678e-11, -5.17379371e-12, -3.72537076e-11,\n",
       "         5.12713952e-11],\n",
       "       [ 1.23577878e-10,  4.50833147e-11, -9.70121714e-11,\n",
       "         6.04569639e-11],\n",
       "       [ 1.45145140e-11,  6.95727806e-11,  7.55450069e-11,\n",
       "        -5.60178977e-11],\n",
       "       [-2.35587002e-12,  6.59392982e-11,  3.58122202e-11,\n",
       "        -4.65169238e-11],\n",
       "       [ 7.69595260e-12,  1.09849370e-10,  4.45353838e-11,\n",
       "        -5.46680746e-11],\n",
       "       [ 1.10634693e-10,  3.02377940e-10,  1.29795302e-10,\n",
       "        -2.21677204e-10],\n",
       "       [-2.86683274e-10, -9.68740050e-10, -4.18323621e-10,\n",
       "         1.00000000e+00],\n",
       "       [ 2.44008998e-11,  1.43538640e-10,  6.31802362e-11,\n",
       "        -8.96390937e-11],\n",
       "       [ 6.06107797e-11,  1.80736636e-10,  1.09272334e-10,\n",
       "        -1.42748210e-10],\n",
       "       [ 5.14793058e-12,  4.10053245e-11,  1.79303775e-11,\n",
       "        -1.98642947e-11],\n",
       "       [ 1.30857038e-10,  3.95512384e-10,  2.12738305e-10,\n",
       "        -2.91371830e-10],\n",
       "       [-4.50335363e-11, -8.29670308e-12,  1.10114849e-10,\n",
       "         1.08436282e-12],\n",
       "       [ 5.85186964e-11,  1.62104214e-10,  8.93027887e-11,\n",
       "        -1.31284482e-10],\n",
       "       [-2.78221734e-11,  6.32546081e-11, -3.20111257e-11,\n",
       "         1.00417628e-11],\n",
       "       [ 2.87065026e-11,  1.15564378e-10,  1.31539829e-10,\n",
       "        -1.02521387e-10],\n",
       "       [ 6.21666499e-11,  1.96825203e-10,  7.47384106e-11,\n",
       "        -1.38635599e-10],\n",
       "       [-5.82273534e-12,  2.63436397e-11,  3.10735426e-11,\n",
       "        -2.60532194e-11],\n",
       "       [ 1.67186996e-11,  7.99541512e-11,  4.46661424e-11,\n",
       "        -6.21268333e-11],\n",
       "       [ 2.71023468e-10,  1.12104088e-10,  2.92197886e-10,\n",
       "         9.99999999e-01],\n",
       "       [-6.84696665e-12,  6.46827149e-11,  9.52543709e-11,\n",
       "        -4.94975491e-11],\n",
       "       [-4.03847290e-10, -2.42696561e-09, -4.95920822e-10,\n",
       "         1.00000000e+00],\n",
       "       [ 2.12861369e-11,  9.52326863e-11,  1.64522218e-11,\n",
       "        -4.92906228e-11],\n",
       "       [-1.48147474e-11,  2.63543694e-11,  6.05605495e-11,\n",
       "        -2.85611728e-11],\n",
       "       [ 1.06580546e-11,  1.25997404e-10,  6.11747127e-11,\n",
       "        -7.45940952e-11],\n",
       "       [-1.83351087e-11,  3.22401584e-11,  1.31809926e-11,\n",
       "        -1.49724798e-12]])"
      ]
     },
     "execution_count": 83,
     "metadata": {},
     "output_type": "execute_result"
    }
   ],
   "source": [
    "problem_instance.w_j.value"
   ]
  },
  {
   "cell_type": "code",
   "execution_count": null,
   "metadata": {},
   "outputs": [],
   "source": []
  },
  {
   "cell_type": "code",
   "execution_count": null,
   "metadata": {},
   "outputs": [],
   "source": []
  },
  {
   "cell_type": "code",
   "execution_count": null,
   "metadata": {},
   "outputs": [],
   "source": []
  },
  {
   "cell_type": "code",
   "execution_count": null,
   "metadata": {},
   "outputs": [],
   "source": []
  },
  {
   "cell_type": "code",
   "execution_count": null,
   "metadata": {},
   "outputs": [],
   "source": []
  },
  {
   "cell_type": "code",
   "execution_count": null,
   "metadata": {},
   "outputs": [],
   "source": []
  },
  {
   "cell_type": "code",
   "execution_count": null,
   "metadata": {},
   "outputs": [],
   "source": []
  },
  {
   "cell_type": "code",
   "execution_count": null,
   "metadata": {},
   "outputs": [],
   "source": []
  },
  {
   "cell_type": "code",
   "execution_count": null,
   "metadata": {},
   "outputs": [],
   "source": []
  },
  {
   "cell_type": "code",
   "execution_count": null,
   "metadata": {},
   "outputs": [],
   "source": []
  },
  {
   "cell_type": "code",
   "execution_count": null,
   "metadata": {},
   "outputs": [],
   "source": []
  },
  {
   "cell_type": "markdown",
   "metadata": {},
   "source": [
    "## 各 p に対して，教師データの数が 100 個"
   ]
  },
  {
   "cell_type": "code",
   "execution_count": 61,
   "metadata": {},
   "outputs": [
    {
     "name": "stdout",
     "output_type": "stream",
     "text": [
      "Loading data ...\n",
      "Done in 0.06169414520263672 seconds! \n",
      "\n",
      "Loading rules ...\n",
      "Done in 0.00022840499877929688 seconds! \n",
      "\n",
      "Identifying predicates ...\n",
      "Done in 0.0018243789672851562 seconds! \n",
      "\n",
      "Constructing objective function ...\n",
      "Done in 0.33126401901245117 seconds! \n",
      "\n",
      "Constructing constraints ...\n",
      "Done in 3.79935622215271 seconds! \n",
      "\n",
      "All done. \n",
      "\n",
      "===============================================================================\n",
      "                                     CVXPY                                     \n",
      "                                     v1.3.2                                    \n",
      "===============================================================================\n"
     ]
    },
    {
     "name": "stderr",
     "output_type": "stream",
     "text": [
      "/home/onoue/ws/lukasiewicz_1/myenv/lib/python3.11/site-packages/cvxpy/problems/problem.py:157: UserWarning: Objective contains too many subexpressions. Consider vectorizing your CVXPY code to speed up compilation.\n",
      "  warnings.warn(\"Objective contains too many subexpressions. \"\n"
     ]
    },
    {
     "name": "stdout",
     "output_type": "stream",
     "text": [
      "(CVXPY) Oct 28 04:43:16 PM: Your problem has 3288 variables, 11820 constraints, and 0 parameters.\n",
      "(CVXPY) Oct 28 04:43:18 PM: It is compliant with the following grammars: DCP, DQCP\n",
      "(CVXPY) Oct 28 04:43:18 PM: (If you need to solve this problem multiple times, but with different data, consider using parameters.)\n",
      "(CVXPY) Oct 28 04:43:18 PM: CVXPY will first compile your problem; then, it will invoke a numerical solver to obtain a solution.\n",
      "-------------------------------------------------------------------------------\n",
      "                                  Compilation                                  \n",
      "-------------------------------------------------------------------------------\n",
      "(CVXPY) Oct 28 04:43:19 PM: Compiling problem (target solver=ECOS).\n",
      "(CVXPY) Oct 28 04:43:19 PM: Reduction chain: Dcp2Cone -> CvxAttr2Constr -> ConeMatrixStuffing -> ECOS\n",
      "(CVXPY) Oct 28 04:43:19 PM: Applying reduction Dcp2Cone\n",
      "(CVXPY) Oct 28 04:43:23 PM: Applying reduction CvxAttr2Constr\n",
      "(CVXPY) Oct 28 04:43:26 PM: Applying reduction ConeMatrixStuffing\n",
      "(CVXPY) Oct 28 04:43:36 PM: Applying reduction ECOS\n",
      "(CVXPY) Oct 28 04:43:41 PM: Finished problem compilation (took 2.318e+01 seconds).\n",
      "-------------------------------------------------------------------------------\n",
      "                                Numerical solver                               \n",
      "-------------------------------------------------------------------------------\n",
      "(CVXPY) Oct 28 04:43:41 PM: Invoking solver ECOS  to obtain a solution.\n",
      "\n",
      "ECOS 2.0.10 - (C) embotech GmbH, Zurich Switzerland, 2012-15. Web: www.embotech.com/ECOS\n",
      "\n",
      "It     pcost       dcost      gap   pres   dres    k/t    mu     step   sigma     IR    |   BT\n",
      " 0  +7.652e+03  -1.279e+04  +3e+05  7e-01  3e+00  1e+00  2e+01    ---    ---    2  2  - |  -  - \n",
      " 1  +6.649e+03  -4.370e+03  +2e+05  4e-01  2e+00  5e+00  1e+01  0.5241  5e-01   2  1  1 |  0  0\n",
      " 2  +6.465e+03  +3.547e+03  +9e+04  1e-01  4e-01  3e+00  6e+00  0.6851  1e-01   1  1  1 |  0  0\n",
      " 3  +6.432e+03  +4.725e+03  +6e+04  8e-02  2e-01  2e+00  4e+00  0.5289  3e-01   2  1  1 |  0  0\n",
      " 4  +6.452e+03  +5.735e+03  +3e+04  3e-02  1e-01  6e-01  2e+00  0.7754  3e-01   2  1  1 |  0  0\n",
      " 5  +6.592e+03  +6.413e+03  +7e+03  8e-03  2e-02  2e-01  4e-01  0.7631  3e-02   2  1  1 |  0  0\n",
      " 6  +6.594e+03  +6.468e+03  +5e+03  5e-03  2e-02  9e-02  3e-01  0.5038  4e-01   2  2  2 |  0  0\n",
      " 7  +6.628e+03  +6.615e+03  +5e+02  5e-04  2e-03  9e-03  3e-02  0.9094  1e-02   2  2  2 |  0  0\n",
      " 8  +6.631e+03  +6.627e+03  +1e+02  1e-04  5e-04  2e-03  8e-03  0.8971  2e-01   2  1  1 |  0  0\n",
      " 9  +6.632e+03  +6.630e+03  +4e+01  5e-05  2e-04  5e-04  3e-03  0.7879  2e-01   2  1  1 |  0  0\n",
      "10  +6.632e+03  +6.631e+03  +1e+01  2e-05  5e-05  1e-04  9e-04  0.9142  3e-01   2  1  1 |  0  0\n",
      "11  +6.632e+03  +6.632e+03  +1e+00  2e-06  5e-06  2e-05  1e-04  0.9639  7e-02   2  1  1 |  0  0\n",
      "12  +6.632e+03  +6.632e+03  +4e-01  5e-07  2e-06  4e-06  3e-05  0.8598  2e-01   2  1  1 |  0  0\n",
      "13  +6.632e+03  +6.632e+03  +2e-01  2e-07  6e-07  2e-06  1e-05  0.7681  2e-01   2  1  1 |  0  0\n",
      "14  +6.632e+03  +6.632e+03  +5e-02  6e-08  2e-07  6e-07  4e-06  0.9028  3e-01   2  1  1 |  0  0\n",
      "15  +6.632e+03  +6.632e+03  +6e-03  7e-09  2e-08  6e-08  4e-07  0.9706  9e-02   2  1  1 |  0  0\n",
      "16  +6.632e+03  +6.632e+03  +2e-03  2e-09  7e-09  2e-08  1e-07  0.8218  2e-01   2  1  1 |  0  0\n",
      "17  +6.632e+03  +6.632e+03  +7e-04  8e-10  2e-09  7e-09  5e-08  0.7888  2e-01   3  1  2 |  0  0\n",
      "18  +6.632e+03  +6.632e+03  +2e-04  2e-10  8e-10  2e-09  1e-08  0.9251  3e-01   3  1  2 |  0  0\n",
      "19  +6.632e+03  +6.632e+03  +2e-05  3e-11  9e-11  3e-10  2e-09  0.9478  7e-02   4  1  1 |  0  0\n",
      "\n",
      "OPTIMAL (within feastol=9.0e-11, reltol=3.8e-09, abstol=2.5e-05).\n",
      "Runtime: 0.157366 seconds.\n",
      "\n",
      "-------------------------------------------------------------------------------\n",
      "                                    Summary                                    \n",
      "-------------------------------------------------------------------------------\n",
      "(CVXPY) Oct 28 04:43:41 PM: Problem status: optimal\n",
      "(CVXPY) Oct 28 04:43:41 PM: Optimal value: 6.632e+03\n",
      "(CVXPY) Oct 28 04:43:41 PM: Compilation took 2.318e+01 seconds\n",
      "(CVXPY) Oct 28 04:43:41 PM: Solver (including time spent in interface) took 1.587e-01 seconds\n",
      "\n",
      "学習時間: 25.762669324874878 秒\n"
     ]
    }
   ],
   "source": [
    "data_dir_path = './inputs/winston_100'\n",
    "\n",
    "file_list = os.listdir(data_dir_path)\n",
    "\n",
    "L_files = [filename.split('.csv')[0] for filename in file_list \n",
    "           if filename.startswith('L') and filename.endswith('.csv')]\n",
    "\n",
    "U_files = [filename.split('.csv')[0] for filename in file_list \n",
    "           if filename.startswith('U') and filename.endswith('.csv')]\n",
    "\n",
    "file_names_dict = {\n",
    "    'supervised': L_files,\n",
    "    'unsupervised': U_files,\n",
    "    'rule': ['rules_2']\n",
    "}\n",
    "\n",
    "problem_instance = Setup(data_dir_path, file_names_dict)\n",
    "objective, constraints = problem_instance.main(c1=10, c2=10)\n",
    "\n",
    "start_time = time.time()\n",
    "problem = cp.Problem(objective, constraints)\n",
    "result = problem.solve(verbose=True)\n",
    "end_time = time.time()\n",
    "print()\n",
    "print(f'学習時間: {end_time - start_time} 秒')"
   ]
  },
  {
   "cell_type": "code",
   "execution_count": null,
   "metadata": {},
   "outputs": [],
   "source": []
  },
  {
   "cell_type": "code",
   "execution_count": 62,
   "metadata": {},
   "outputs": [
    {
     "name": "stdout",
     "output_type": "stream",
     "text": [
      "80\n",
      "Accuracy of albatross(x): 0.8\n",
      "80\n",
      "Accuracy of cheetah(x): 0.8\n",
      "80\n",
      "Accuracy of ostrich(x): 0.8\n",
      "80\n",
      "Accuracy of penguin(x): 0.8\n",
      "80\n",
      "Accuracy of zebra(x): 0.8\n"
     ]
    }
   ],
   "source": [
    "# テストデータ\n",
    "test_data_dir_path = './inputs/winston_100'\n",
    "test_animals = ['albatross', 'cheetah', 'ostrich', 'penguin', 'zebra']\n",
    "\n",
    "test_data = problem_instance.prepare_test_data(test_data_dir_path, test_animals)\n",
    "\n",
    "def test_trained_predicate(problem_instance, test_data):\n",
    "    result_dict = {}\n",
    "    p_dict = problem_instance.predicates_dict\n",
    "\n",
    "    for p_name, p_data in test_data.items():\n",
    "        pred_vals = []\n",
    "        preds = []\n",
    "\n",
    "        p = p_dict[p_name]\n",
    "        cnt = 0\n",
    "\n",
    "        for data in p_data:\n",
    "            x, ans = data[:-1], data[-1]\n",
    "            pred_val = p(x).value\n",
    "\n",
    "            pred_vals.append(pred_val)\n",
    "\n",
    "            if (pred_val >= 0.5 and ans == 1) or (pred_val < 0.5 and ans == -1):\n",
    "                cnt += 1\n",
    "\n",
    "            pred = (pred_val >= 0.5 and ans == 1) or (pred_val < 0.5 and ans == -1)\n",
    "            \n",
    "            preds.append(pred)\n",
    "\n",
    "        p_arr = np.hstack([p_data, np.array(pred_vals).reshape(-1, 1), np.array(preds).reshape(-1, 1)])\n",
    "        p_df = pd.DataFrame(p_arr, columns=['r', 'g', 'b', 'Ans', 'pred_val', 'pred'])\n",
    "\n",
    "        result_dict[p_name] = p_df\n",
    "        \n",
    "        print(cnt)\n",
    "        print(f'Accuracy of {p_name}: {cnt / len(p_data)}')\n",
    "\n",
    "    return result_dict\n",
    "\n",
    "\n",
    "res_dict = test_trained_predicate(problem_instance, test_data)"
   ]
  },
  {
   "cell_type": "code",
   "execution_count": null,
   "metadata": {},
   "outputs": [],
   "source": []
  },
  {
   "cell_type": "code",
   "execution_count": null,
   "metadata": {},
   "outputs": [],
   "source": []
  },
  {
   "cell_type": "code",
   "execution_count": 64,
   "metadata": {},
   "outputs": [
    {
     "data": {
      "text/plain": [
       "{'albatross(x)': 0.2075,\n",
       " 'cheetah(x)': 0.33375,\n",
       " 'ostrich(x)': 0.47937500000000005,\n",
       " 'penguin(x)': 0.58,\n",
       " 'zebra(x)': 0.64375}"
      ]
     },
     "execution_count": 64,
     "metadata": {},
     "output_type": "execute_result"
    }
   ],
   "source": [
    "score_dict = {}\n",
    "\n",
    "for predicate in res_dict.keys():\n",
    "    tmp1 = res_dict[predicate].loc[:, 'Ans'].to_list()\n",
    "    arr1 = (np.array(tmp1) + 1) / 2\n",
    "    tmp2 = res_dict[predicate].loc[:, 'pred_val'].to_list()\n",
    "    arr2 = np.array(tmp2)\n",
    "\n",
    "    y = arr1\n",
    "    scores = arr2\n",
    "\n",
    "    roc_auc = metrics.roc_auc_score(y, scores)\n",
    "\n",
    "    score_dict[predicate] = roc_auc\n",
    "\n",
    "score_dict"
   ]
  },
  {
   "cell_type": "code",
   "execution_count": 65,
   "metadata": {},
   "outputs": [
    {
     "data": {
      "text/plain": [
       "0.44887499999999997"
      ]
     },
     "execution_count": 65,
     "metadata": {},
     "output_type": "execute_result"
    }
   ],
   "source": [
    "np.array(list(score_dict.values())).mean()"
   ]
  },
  {
   "cell_type": "code",
   "execution_count": 74,
   "metadata": {},
   "outputs": [
    {
     "data": {
      "text/plain": [
       "array([[[ 0.55059907,  0.52967695,  0.48787809, -1.        ],\n",
       "        [ 0.47657505,  0.42794515,  0.35911005, -1.        ],\n",
       "        [ 0.56701418,  0.49737742,  0.39688024, -1.        ],\n",
       "        ...,\n",
       "        [ 0.455731  ,  0.495668  ,  0.49332179,  1.        ],\n",
       "        [ 0.37638097,  0.39618622,  0.43324492,  1.        ],\n",
       "        [ 0.40472473,  0.37958853,  0.35013862,  1.        ]],\n",
       "\n",
       "       [[ 0.515991  ,  0.48633653,  0.43161938,  1.        ],\n",
       "        [ 0.58406314,  0.51277585,  0.40726625,  1.        ],\n",
       "        [ 0.53864228,  0.49065586,  0.42627378,  1.        ],\n",
       "        ...,\n",
       "        [ 0.57286635,  0.54406587,  0.50548818, -1.        ],\n",
       "        [ 0.45651196,  0.43114004,  0.34140452, -1.        ],\n",
       "        [ 0.45922861,  0.46966501,  0.43414376, -1.        ]],\n",
       "\n",
       "       [[ 0.55953692,  0.46860704,  0.35988031, -1.        ],\n",
       "        [ 0.48022717,  0.38520612,  0.28788724, -1.        ],\n",
       "        [ 0.50619979,  0.50675476,  0.38912861, -1.        ],\n",
       "        ...,\n",
       "        [ 0.30138667,  0.29142716,  0.27507125, -1.        ],\n",
       "        [ 0.43572608,  0.40123583,  0.28467171, -1.        ],\n",
       "        [ 0.36670736,  0.4262834 ,  0.47734229, -1.        ]],\n",
       "\n",
       "       ...,\n",
       "\n",
       "       [[ 0.44970998,  0.47553829,  0.31036083, -1.        ],\n",
       "        [ 0.50611627,  0.46329525,  0.39209592, -1.        ],\n",
       "        [ 0.51829359,  0.45502293,  0.34431475, -1.        ],\n",
       "        ...,\n",
       "        [ 0.45651196,  0.43114004,  0.34140452, -1.        ],\n",
       "        [ 0.50975533,  0.50967656,  0.51799188, -1.        ],\n",
       "        [ 0.49268034,  0.55729371,  0.39718155, -1.        ]],\n",
       "\n",
       "       [[ 0.51846103,  0.54428366,  0.37552887, -1.        ],\n",
       "        [ 0.59274838,  0.54266472,  0.55915769, -1.        ],\n",
       "        [ 0.46184045,  0.45876323,  0.42776839, -1.        ],\n",
       "        ...,\n",
       "        [ 0.55500308,  0.46577363,  0.42295057, -1.        ],\n",
       "        [ 0.52817306,  0.54926479,  0.55304497, -1.        ],\n",
       "        [ 0.36227308,  0.35688616,  0.35666433, -1.        ]],\n",
       "\n",
       "       [[ 0.56052928,  0.48003963,  0.37659082, -1.        ],\n",
       "        [ 0.56271159,  0.45792758,  0.33088342, -1.        ],\n",
       "        [ 0.55622919,  0.48656055,  0.38509085, -1.        ],\n",
       "        ...,\n",
       "        [ 0.42894808,  0.39528279,  0.3242905 , -1.        ],\n",
       "        [ 0.47650246,  0.48212483,  0.45992239, -1.        ],\n",
       "        [ 0.51142468,  0.50976098,  0.50970156, -1.        ]]])"
      ]
     },
     "execution_count": 74,
     "metadata": {},
     "output_type": "execute_result"
    }
   ],
   "source": [
    "problem_instance.L"
   ]
  },
  {
   "cell_type": "code",
   "execution_count": 76,
   "metadata": {},
   "outputs": [
    {
     "data": {
      "text/plain": [
       "array([[-6.22194326e-10, -1.67215930e-10,  4.83517404e-10,\n",
       "         1.00000000e+00],\n",
       "       [ 6.24614160e-10,  2.03726727e-10, -3.25341291e-10,\n",
       "         2.39991175e-11],\n",
       "       [ 1.05886824e-10,  3.73121621e-11,  6.89195289e-11,\n",
       "        -6.91145758e-11],\n",
       "       [ 7.77525917e-11,  6.21715395e-11, -6.37975124e-11,\n",
       "        -1.35195124e-11],\n",
       "       [ 1.85608191e-10, -2.89058670e-11,  6.78827251e-11,\n",
       "        -7.06985236e-11],\n",
       "       [-1.94752526e-11, -9.93869495e-11,  4.00668699e-10,\n",
       "        -6.31791870e-11],\n",
       "       [ 1.35949015e-10, -1.83556676e-11, -5.34086023e-11,\n",
       "        -8.49233437e-12],\n",
       "       [ 4.81520210e-10, -2.36733644e-11, -2.64315559e-10,\n",
       "         8.98691499e-11],\n",
       "       [ 1.19832127e-10, -3.84207516e-11, -3.68458714e-11,\n",
       "         2.01170036e-12],\n",
       "       [ 5.11561393e-11, -5.05152970e-11,  9.58008199e-11,\n",
       "        -5.10788208e-11],\n",
       "       [ 1.74441167e-10, -1.45884540e-10,  1.90239842e-10,\n",
       "        -6.72439015e-11],\n",
       "       [ 4.89699298e-11, -1.38864802e-10,  1.75209126e-11,\n",
       "         6.10062955e-11],\n",
       "       [-1.37297734e-10, -6.63780425e-11,  5.45315862e-10,\n",
       "         1.00000000e+00],\n",
       "       [ 1.57651666e-10, -3.69535536e-11,  1.80719092e-11,\n",
       "        -3.83474681e-11],\n",
       "       [ 1.11270334e-10,  1.06461318e-10,  8.78124633e-11,\n",
       "        -1.14094243e-10],\n",
       "       [ 7.93089973e-11, -4.75283094e-11,  2.43519034e-10,\n",
       "        -8.45609027e-11],\n",
       "       [ 9.42848742e-11, -6.11302176e-11,  2.59399769e-10,\n",
       "        -9.13145467e-11],\n",
       "       [-7.67068038e-11, -1.05261829e-10,  3.26938361e-10,\n",
       "        -4.02240285e-12],\n",
       "       [ 7.46723673e-11, -2.75968061e-11, -6.71626653e-11,\n",
       "         3.32053577e-11],\n",
       "       [ 1.00329295e-10, -9.03019711e-12, -1.33928327e-10,\n",
       "         4.12952117e-11],\n",
       "       [ 3.00862732e-11,  2.75832807e-12,  7.55884020e-11,\n",
       "        -2.23010951e-11],\n",
       "       [ 1.43074308e-10,  7.65870001e-13, -8.14718648e-11,\n",
       "        -4.68510316e-12],\n",
       "       [ 4.28713868e-11, -1.63059880e-11,  3.86217247e-11,\n",
       "        -4.27298327e-11],\n",
       "       [ 3.85687360e-11, -4.36232746e-11,  1.25513687e-10,\n",
       "        -5.72981222e-11],\n",
       "       [-7.11629005e-10, -2.18835210e-10,  5.23025747e-10,\n",
       "         1.00000000e+00],\n",
       "       [ 7.13802348e-11,  2.35228983e-11,  1.73757759e-10,\n",
       "        -8.54117624e-11],\n",
       "       [-4.53191971e-10, -1.11806357e-10,  7.03949760e-10,\n",
       "         1.00000000e+00],\n",
       "       [ 1.00794837e-10,  6.03868459e-11, -8.25013935e-11,\n",
       "        -1.55769285e-11],\n",
       "       [ 4.32042204e-11, -5.36935680e-11,  1.12433588e-10,\n",
       "        -5.15201296e-11],\n",
       "       [ 1.16481020e-10,  8.82597466e-11,  1.58289460e-12,\n",
       "        -7.07437079e-11],\n",
       "       [ 7.06596838e-11,  4.36309189e-11,  2.57513839e-11,\n",
       "        -3.84718647e-11]])"
      ]
     },
     "execution_count": 76,
     "metadata": {},
     "output_type": "execute_result"
    }
   ],
   "source": [
    "problem_instance.w_j.value"
   ]
  },
  {
   "cell_type": "code",
   "execution_count": null,
   "metadata": {},
   "outputs": [],
   "source": []
  },
  {
   "cell_type": "code",
   "execution_count": null,
   "metadata": {},
   "outputs": [],
   "source": []
  },
  {
   "cell_type": "code",
   "execution_count": null,
   "metadata": {},
   "outputs": [],
   "source": []
  },
  {
   "cell_type": "code",
   "execution_count": null,
   "metadata": {},
   "outputs": [],
   "source": []
  },
  {
   "cell_type": "code",
   "execution_count": null,
   "metadata": {},
   "outputs": [],
   "source": []
  },
  {
   "cell_type": "code",
   "execution_count": null,
   "metadata": {},
   "outputs": [],
   "source": []
  },
  {
   "cell_type": "code",
   "execution_count": 40,
   "metadata": {},
   "outputs": [
    {
     "name": "stdout",
     "output_type": "stream",
     "text": [
      "5200\n",
      "Accuracy of albatross(x): 0.8\n",
      "5200\n",
      "Accuracy of cheetah(x): 0.8\n",
      "5200\n",
      "Accuracy of ostrich(x): 0.8\n",
      "5200\n",
      "Accuracy of penguin(x): 0.8\n",
      "5200\n",
      "Accuracy of zebra(x): 0.8\n"
     ]
    }
   ],
   "source": [
    "# テストデータ\n",
    "test_data_dir_path = './inputs/winston_full'\n",
    "test_animals = ['albatross', 'cheetah', 'ostrich', 'penguin', 'zebra']\n",
    "\n",
    "test_data = problem_instance.prepare_test_data(test_data_dir_path, test_animals)\n",
    "\n",
    "def test_trained_predicate(problem_instance, test_data):\n",
    "    p_dict = problem_instance.predicates_dict\n",
    "    \n",
    "    for p_name, p_data in test_data.items():\n",
    "        p = p_dict[p_name]\n",
    "        cnt = 0\n",
    "\n",
    "        for data in p_data:\n",
    "            x, ans = data[:-1], data[-1]\n",
    "            pred = p(x).value\n",
    "\n",
    "            if (pred >= 0.5 and ans == 1) or (pred < 0.5 and ans == -1):\n",
    "                cnt += 1\n",
    "        \n",
    "        print(cnt)\n",
    "        print(f'Accuracy of {p_name}: {cnt / len(p_data)}')\n",
    "\n",
    "\n",
    "test_trained_predicate(problem_instance, test_data)"
   ]
  },
  {
   "cell_type": "code",
   "execution_count": null,
   "metadata": {},
   "outputs": [],
   "source": []
  },
  {
   "cell_type": "code",
   "execution_count": 86,
   "metadata": {},
   "outputs": [
    {
     "name": "stdout",
     "output_type": "stream",
     "text": [
      "Loading data ...\n",
      "Done in 0.0071048736572265625 seconds! \n",
      "\n",
      "Loading rules ...\n",
      "Done in 0.00010180473327636719 seconds! \n",
      "\n",
      "Identifying predicates ...\n",
      "Done in 0.0003237724304199219 seconds! \n",
      "\n",
      "Constructing objective function ...\n",
      "Done in 0.0020737648010253906 seconds! \n",
      "\n",
      "Constructing constraints ...\n",
      "Done in 0.02717280387878418 seconds! \n",
      "\n",
      "All done. \n",
      "\n",
      "===============================================================================\n",
      "                                     CVXPY                                     \n",
      "                                     v1.3.2                                    \n",
      "===============================================================================\n",
      "(CVXPY) Oct 28 05:16:19 PM: Your problem has 25 variables, 96 constraints, and 0 parameters.\n",
      "(CVXPY) Oct 28 05:16:19 PM: It is compliant with the following grammars: DCP, DQCP\n",
      "(CVXPY) Oct 28 05:16:19 PM: (If you need to solve this problem multiple times, but with different data, consider using parameters.)\n",
      "(CVXPY) Oct 28 05:16:19 PM: CVXPY will first compile your problem; then, it will invoke a numerical solver to obtain a solution.\n",
      "-------------------------------------------------------------------------------\n",
      "                                  Compilation                                  \n",
      "-------------------------------------------------------------------------------\n",
      "(CVXPY) Oct 28 05:16:19 PM: Compiling problem (target solver=ECOS).\n",
      "(CVXPY) Oct 28 05:16:19 PM: Reduction chain: Dcp2Cone -> CvxAttr2Constr -> ConeMatrixStuffing -> ECOS\n",
      "(CVXPY) Oct 28 05:16:19 PM: Applying reduction Dcp2Cone\n",
      "(CVXPY) Oct 28 05:16:19 PM: Applying reduction CvxAttr2Constr\n",
      "(CVXPY) Oct 28 05:16:19 PM: Applying reduction ConeMatrixStuffing\n",
      "(CVXPY) Oct 28 05:16:19 PM: Applying reduction ECOS\n",
      "(CVXPY) Oct 28 05:16:19 PM: Finished problem compilation (took 1.740e-01 seconds).\n",
      "-------------------------------------------------------------------------------\n",
      "                                Numerical solver                               \n",
      "-------------------------------------------------------------------------------\n",
      "(CVXPY) Oct 28 05:16:19 PM: Invoking solver ECOS  to obtain a solution.\n",
      "\n",
      "ECOS 2.0.10 - (C) embotech GmbH, Zurich Switzerland, 2012-15. Web: www.embotech.com/ECOS\n",
      "\n",
      "It     pcost       dcost      gap   pres   dres    k/t    mu     step   sigma     IR    |   BT\n",
      " 0  +6.337e+00  -1.788e+02  +2e+03  5e-01  3e-01  1e+00  1e+01    ---    ---    1  1  - |  -  - \n",
      " 1  -4.860e+01  -9.370e+01  +6e+02  1e-01  8e-02  7e-01  5e+00  0.6859  5e-02   1  1  1 |  0  0\n",
      " 2  +5.987e+00  -1.260e+01  +3e+02  6e-02  2e-02  9e-01  3e+00  0.7985  4e-01   1  1  2 |  0  0\n",
      " 3  +8.326e+00  +3.640e+00  +9e+01  1e-02  6e-03  2e-01  7e-01  0.7419  3e-02   1  2  2 |  0  0\n",
      " 4  +5.905e+00  +3.421e+00  +5e+01  7e-03  3e-03  1e-01  4e-01  0.9890  5e-01   1  2  1 |  0  0\n",
      " 5  +8.911e+00  +8.469e+00  +8e+00  1e-03  5e-04  2e-02  7e-02  0.8793  7e-02   1  2  2 |  0  0\n",
      " 6  +9.335e+00  +9.181e+00  +3e+00  4e-04  2e-04  6e-03  2e-02  0.9890  3e-01   1  1  1 |  0  0\n",
      " 7  +9.537e+00  +9.513e+00  +4e-01  6e-05  3e-05  1e-03  4e-03  0.8738  3e-02   1  1  1 |  0  0\n",
      " 8  +9.564e+00  +9.558e+00  +1e-01  1e-05  7e-06  2e-04  9e-04  0.8639  1e-01   1  1  1 |  0  0\n",
      " 9  +9.569e+00  +9.567e+00  +5e-02  6e-06  3e-06  1e-04  4e-04  0.7557  2e-01   1  1  1 |  0  0\n",
      "10  +9.573e+00  +9.572e+00  +5e-03  7e-07  3e-07  1e-05  4e-05  0.9036  2e-02   1  1  1 |  0  0\n",
      "11  +9.573e+00  +9.573e+00  +4e-04  6e-08  3e-08  1e-06  4e-06  0.9890  8e-02   1  1  1 |  0  0\n",
      "12  +9.573e+00  +9.573e+00  +2e-05  2e-09  1e-09  4e-08  2e-07  0.9598  3e-04   1  1  1 |  0  0\n",
      "13  +9.573e+00  +9.573e+00  +2e-06  3e-10  1e-10  4e-09  2e-08  0.8988  4e-04   1  1  1 |  0  0\n",
      "14  +9.573e+00  +9.573e+00  +2e-07  3e-11  1e-11  5e-10  2e-09  0.9890  1e-01   2  1  1 |  0  0\n",
      "15  +9.573e+00  +9.573e+00  +2e-08  3e-11  1e-12  4e-11  2e-10  0.9093  3e-03   2  1  1 |  0  0\n",
      "\n",
      "OPTIMAL (within feastol=2.6e-11, reltol=2.1e-09, abstol=2.0e-08).\n",
      "Runtime: 0.001142 seconds.\n",
      "\n",
      "-------------------------------------------------------------------------------\n",
      "                                    Summary                                    \n",
      "-------------------------------------------------------------------------------\n",
      "(CVXPY) Oct 28 05:16:19 PM: Problem status: optimal\n",
      "(CVXPY) Oct 28 05:16:19 PM: Optimal value: 9.573e+00\n",
      "(CVXPY) Oct 28 05:16:19 PM: Compilation took 1.740e-01 seconds\n",
      "(CVXPY) Oct 28 05:16:19 PM: Solver (including time spent in interface) took 1.429e-03 seconds\n"
     ]
    }
   ],
   "source": [
    "file_names_dict = {\n",
    "    'supervised': ['L_p1(x)', 'L_p2(x)', 'L_p3(x)'],\n",
    "    'unsupervised': ['U'],\n",
    "    'rule': ['rules']\n",
    "}\n",
    "\n",
    "data_dir_path = './inputs/toy_data'\n",
    "\n",
    "problem_instance = Setup(data_dir_path, file_names_dict)\n",
    "objective, constraints = problem_instance.main(c1=2.5, c2=100)\n",
    "\n",
    "problem = cp.Problem(objective, constraints)\n",
    "result = problem.solve(verbose=True)"
   ]
  },
  {
   "cell_type": "code",
   "execution_count": 95,
   "metadata": {},
   "outputs": [
    {
     "name": "stdout",
     "output_type": "stream",
     "text": [
      "3\n",
      "Accuracy of p1(x): 0.75\n",
      "4\n",
      "Accuracy of p2(x): 1.0\n",
      "4\n",
      "Accuracy of p3(x): 1.0\n"
     ]
    },
    {
     "data": {
      "text/plain": [
       "{'p1(x)': 1.0, 'p2(x)': 1.0, 'p3(x)': 1.0}"
      ]
     },
     "execution_count": 95,
     "metadata": {},
     "output_type": "execute_result"
    }
   ],
   "source": [
    "# テストデータ\n",
    "test_data_dir_path = './inputs/toy_data'\n",
    "test_p_names = ['p1', 'p2', 'p3']\n",
    "\n",
    "test_data = problem_instance.prepare_test_data(test_data_dir_path, test_p_names)\n",
    "\n",
    "\n",
    "def test_trained_predicate(problem_instance, test_data):\n",
    "    result_dict = {}\n",
    "    p_dict = problem_instance.predicates_dict\n",
    "\n",
    "    for p_name, p_data in test_data.items():\n",
    "        pred_vals = []\n",
    "        preds = []\n",
    "\n",
    "        p = p_dict[p_name]\n",
    "        cnt = 0\n",
    "\n",
    "        for data in p_data:\n",
    "            x, ans = data[:-1], data[-1]\n",
    "            pred_val = p(x).value\n",
    "\n",
    "            pred_vals.append(pred_val)\n",
    "\n",
    "            if (pred_val >= 0.5 and ans == 1) or (pred_val < 0.5 and ans == -1):\n",
    "                cnt += 1\n",
    "\n",
    "            pred = (pred_val >= 0.5 and ans == 1) or (pred_val < 0.5 and ans == -1)\n",
    "            \n",
    "            preds.append(pred)\n",
    "\n",
    "        p_arr = np.hstack([p_data, np.array(pred_vals).reshape(-1, 1), np.array(preds).reshape(-1, 1)])\n",
    "        p_df = pd.DataFrame(p_arr, columns=['r', 'g', 'Ans', 'pred_val', 'pred'])\n",
    "\n",
    "        result_dict[p_name] = p_df\n",
    "        \n",
    "        print(cnt)\n",
    "        print(f'Accuracy of {p_name}: {cnt / len(p_data)}')\n",
    "\n",
    "    return result_dict\n",
    "\n",
    "\n",
    "res_dict = test_trained_predicate(problem_instance, test_data)\n",
    "\n",
    "\n",
    "score_dict = {}\n",
    "\n",
    "for predicate in res_dict.keys():\n",
    "    tmp1 = res_dict[predicate].loc[:, 'Ans'].to_list()\n",
    "    arr1 = (np.array(tmp1) + 1) / 2\n",
    "    tmp2 = res_dict[predicate].loc[:, 'pred_val'].to_list()\n",
    "    arr2 = np.array(tmp2)\n",
    "\n",
    "    y = arr1\n",
    "    scores = arr2\n",
    "\n",
    "    roc_auc = metrics.roc_auc_score(y, scores)\n",
    "\n",
    "    score_dict[predicate] = roc_auc\n",
    "\n",
    "score_dict"
   ]
  },
  {
   "cell_type": "code",
   "execution_count": 93,
   "metadata": {},
   "outputs": [
    {
     "data": {
      "text/plain": [
       "{'p1(x)':      r    g  Ans      pred_val  pred\n",
       " 0  0.1  0.5 -1.0  1.897741e-10   1.0\n",
       " 1  0.4  0.4 -1.0  2.202232e-02   1.0\n",
       " 2  0.3  0.8  1.0  4.965737e-01   0.0\n",
       " 3  0.9  0.7  1.0  6.720435e-01   1.0,\n",
       " 'p2(x)':      r    g  Ans  pred_val  pred\n",
       " 0  0.1  0.3 -1.0  0.081905   1.0\n",
       " 1  0.6  0.4 -1.0  0.276013   1.0\n",
       " 2  0.2  0.8  1.0  0.817760   1.0\n",
       " 3  0.7  0.6  1.0  0.576222   1.0,\n",
       " 'p3(x)':      r    g  Ans  pred_val  pred\n",
       " 0  0.4  0.2 -1.0  0.173206   1.0\n",
       " 1  0.9  0.3 -1.0  0.173945   1.0\n",
       " 2  0.2  0.6  1.0  0.872630   1.0\n",
       " 3  0.5  0.7  1.0  0.936685   1.0}"
      ]
     },
     "execution_count": 93,
     "metadata": {},
     "output_type": "execute_result"
    }
   ],
   "source": [
    "res_dict"
   ]
  },
  {
   "cell_type": "code",
   "execution_count": 92,
   "metadata": {},
   "outputs": [
    {
     "data": {
      "text/plain": [
       "{'p1(x)': 1.0, 'p2(x)': 1.0, 'p3(x)': 1.0}"
      ]
     },
     "execution_count": 92,
     "metadata": {},
     "output_type": "execute_result"
    }
   ],
   "source": [
    "score_dict"
   ]
  },
  {
   "cell_type": "code",
   "execution_count": null,
   "metadata": {},
   "outputs": [],
   "source": []
  },
  {
   "cell_type": "code",
   "execution_count": null,
   "metadata": {},
   "outputs": [],
   "source": []
  },
  {
   "cell_type": "code",
   "execution_count": null,
   "metadata": {},
   "outputs": [],
   "source": []
  },
  {
   "cell_type": "code",
   "execution_count": null,
   "metadata": {},
   "outputs": [],
   "source": []
  }
 ],
 "metadata": {
  "kernelspec": {
   "display_name": "myenv",
   "language": "python",
   "name": "python3"
  },
  "language_info": {
   "codemirror_mode": {
    "name": "ipython",
    "version": 3
   },
   "file_extension": ".py",
   "mimetype": "text/x-python",
   "name": "python",
   "nbconvert_exporter": "python",
   "pygments_lexer": "ipython3",
   "version": "3.11.4"
  }
 },
 "nbformat": 4,
 "nbformat_minor": 2
}
