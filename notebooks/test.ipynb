{
 "cells": [
  {
   "cell_type": "code",
   "execution_count": null,
   "metadata": {},
   "outputs": [],
   "source": [
    "%load_ext autoreload\n",
    "%autoreload 2"
   ]
  },
  {
   "cell_type": "code",
   "execution_count": null,
   "metadata": {},
   "outputs": [],
   "source": [
    "for h_row in range(self.len_h):\n",
    "    for h_col in range(self.len_h):\n",
    "        for i_row in range(self.len_i):\n",
    "            for i_col in range(self.len_i):\n",
    "                # for u_row in range(self.len_u):\n",
    "                #     for u_col in range(self.len_u):\n",
    "                #         M_row = self.M[h_row][i_row, u_row]\n",
    "                #         M_col = self.M[h_col][i_col, u_col]\n",
    "                #         if M_row != 0 and M_col != 0:\n",
    "                #             row = mapping_x_i['lambda_hi'][(h_row, i_row)]\n",
    "                #             col = mapping_x_i['lambda_hi'][(h_col, i_col)]\n",
    "                #             x_row = U[u_row]\n",
    "                #             x_col = U[u_col]\n",
    "                #             P[row, col] += M_row * M_col * self.k(x_row, x_col)\n",
    "                M_row = self.M[h_row][i_row, :self.len_u]\n",
    "                M_col = self.M[h_col][i_col, :self.len_u]\n",
    "                row = mapping_x_i['lambda_hi'][(h_row, i_row)]\n",
    "                col = mapping_x_i['lambda_hi'][(h_col, i_col)]\n",
    "                P[row, col] += np.einsum(\"i,j,ij\", M_row, M_col, K)"
   ]
  },
  {
   "cell_type": "code",
   "execution_count": 1,
   "metadata": {},
   "outputs": [
    {
     "ename": "NameError",
     "evalue": "name 'cp' is not defined",
     "output_type": "error",
     "traceback": [
      "\u001b[0;31m---------------------------------------------------------------------------\u001b[0m",
      "\u001b[0;31mNameError\u001b[0m                                 Traceback (most recent call last)",
      "Cell \u001b[0;32mIn[1], line 4\u001b[0m\n\u001b[1;32m      1\u001b[0m \u001b[38;5;28;01mfrom\u001b[39;00m \u001b[38;5;21;01mtyping\u001b[39;00m \u001b[38;5;28;01mimport\u001b[39;00m Tuple, List\n\u001b[1;32m      2\u001b[0m \u001b[38;5;28;01mimport\u001b[39;00m \u001b[38;5;21;01mnumpy\u001b[39;00m \u001b[38;5;28;01mas\u001b[39;00m \u001b[38;5;21;01mnp\u001b[39;00m\n\u001b[0;32m----> 4\u001b[0m \u001b[38;5;28;01mdef\u001b[39;00m \u001b[38;5;21m_mapping_variables\u001b[39m() \u001b[38;5;241m-\u001b[39m\u001b[38;5;241m>\u001b[39m Tuple[\u001b[38;5;28mdict\u001b[39m, List[\u001b[43mcp\u001b[49m\u001b[38;5;241m.\u001b[39mVariable]]:\n\u001b[1;32m      6\u001b[0m     len_j \u001b[38;5;241m=\u001b[39m \u001b[38;5;241m4\u001b[39m\n\u001b[1;32m      7\u001b[0m     len_l \u001b[38;5;241m=\u001b[39m \u001b[38;5;241m3\u001b[39m\n",
      "\u001b[0;31mNameError\u001b[0m: name 'cp' is not defined"
     ]
    }
   ],
   "source": [
    "\n",
    "import numpy as np\n",
    "\n",
    "def _mapping_variables():\n",
    "\n",
    "    len_j = 4\n",
    "    len_l = 3\n",
    "    lambda_jl = np.random.rand((len_j, len_l))\n",
    "\n",
    "    len_h = 5\n",
    "    len_i = 6\n",
    "    lambda_hi = np.random.rand((len_h, len_i))\n",
    "\n",
    "    len_s = 8\n",
    "    eta_js = np.random.rand((len_j, len_s))\n",
    "    eta_hat_js = np.random.rand(len_j, len_s)\n",
    "\n",
    "\n",
    "    mapping_x_i = {}\n",
    "    x = []\n",
    "\n",
    "    mapping_x_i[\"lambda_jl\"] = {}\n",
    "    for j in range(len_j):\n",
    "        for l in range(len_l):\n",
    "            mapping_x_i['lambda_jl'][(j, l)] = len(x)\n",
    "            x.append(lambda_jl[j, l])\n",
    "\n",
    "    mapping_x_i[\"lambda_hi\"] = {}\n",
    "    for h in range(len_h):\n",
    "        for i in range(len_i):\n",
    "            mapping_x_i[\"lambda_hi\"][(h, i)] = len(x)\n",
    "            x.append(lambda_hi[h, i])\n",
    "\n",
    "    mapping_x_i['delta_eta_js'] = {}\n",
    "    for j in range(len_j):\n",
    "        for s in range(len_s):\n",
    "            mapping_x_i[\"delta_eta_js\"][(j, s)] = len(x)\n",
    "            x.append(eta_js[j, s] - eta_hat_js[j, s])  \n",
    "\n",
    "    return mapping_x_i, x\n",
    "\n",
    "\n",
    "_mapping_variables()"
   ]
  },
  {
   "cell_type": "code",
   "execution_count": null,
   "metadata": {},
   "outputs": [],
   "source": []
  },
  {
   "cell_type": "code",
   "execution_count": null,
   "metadata": {},
   "outputs": [],
   "source": []
  },
  {
   "cell_type": "code",
   "execution_count": null,
   "metadata": {},
   "outputs": [],
   "source": []
  },
  {
   "cell_type": "code",
   "execution_count": null,
   "metadata": {},
   "outputs": [],
   "source": []
  }
 ],
 "metadata": {
  "kernelspec": {
   "display_name": "myenv",
   "language": "python",
   "name": "python3"
  },
  "language_info": {
   "codemirror_mode": {
    "name": "ipython",
    "version": 3
   },
   "file_extension": ".py",
   "mimetype": "text/x-python",
   "name": "python",
   "nbconvert_exporter": "python",
   "pygments_lexer": "ipython3",
   "version": "3.11.6"
  }
 },
 "nbformat": 4,
 "nbformat_minor": 2
}
