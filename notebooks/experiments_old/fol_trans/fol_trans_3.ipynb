{
 "cells": [
  {
   "cell_type": "markdown",
   "metadata": {},
   "source": [
    "# Goal\n",
    "- winston benchmark を解く\n",
    "\n",
    "## 一時目標 \n",
    "- toy problem を手動の導出なしで解く\n",
    "- \n",
    "\n",
    "\n",
    "### TO DO\n",
    "- 演算の定義\n",
    "- 記号と処理の対応付け\n",
    "- 演算の順番の実装\n",
    "- predicate に対しても p_j を割り当て （ex. mammal(x) =: p_2(x）)\n",
    "- 上から読み込んでいったとしたら 初めてでてきた predicate を認識して\n",
    "\n",
    "\n",
    "### Notes\n",
    "\n",
    "- 解釈の順番 否定を先\n",
    "- 論理式（KB）の書き方を少し制限する\n",
    "-\n",
    "- とりあえず，分配法則を使用した書き方を禁止する\n",
    "- 2重否定もとりあえず許さない（許してもよさそう）\n",
    "-\n",
    "- p(x) ○ q(x) 以上の formula を解析しようとするともう少し抽象度をあげなければいけない\n",
    "- 受け取った formula を空白で区切って要素ごとに分解しリストを作成\n",
    "- 演算子を認識して前から順に演算\n",
    "- 演算を終えるごとに，リストを更新し，リストの要素数が 1 かつ，それが演算子でなくなるまで演算を繰り返す\n",
    "- \n",
    "- \n",
    "- 与えられた formula の構文チェッカーを作成しても良いかもしれない\n",
    "- \n",
    "- [p_1(x_test), '→', '¬', p_2(x_test), '→', '¬', p_3(x_test)] のような str と cp.Variable が混ざったリストに対して .count や .index ができない\n",
    "- ループなどを使ってカウントするしか無い\n",
    "- \n",
    "- p を cvxpy で書いたら affine ではなくなった\n",
    "- おそらく 含意 がわるい\n",
    "- min, max を取る操作を含むと affine ではなくなる\n",
    "- min(x, y) >= val  <=>  x >= val と y >= val\n",
    "- max(x, y) <= val  <=>  x >= val と y <= val\n",
    "- \n",
    "- どこまで式変形すれば affine のまま不等式が定義できるか\n",
    "- 結果として制約の数が増えても良い\n",
    "- min(x, y) >= val  <=>  x >= val と y >= val を使って min を消す\n",
    "- ~~max(x, y) <= val  <=>  x <= val と y <= val を使って max を消す~~\n",
    "- logical <= ξ なので，1 - min(・, ・) として，不等式を並べる方向式変形する\n",
    "- x '∨' y <= ξ が出てきたらどうするか（Example 3 がその例）\n",
    "- \n",
    "- 矛盾する制約（ξ <= -1 and ξ <= 1）のようながある時どうなるのか\n",
    "- とりあえず上は考えない （convex (concave) fragments の中で閉じてるはずなので）\n",
    "- \n",
    "- \n",
    "- 制約が affine でなくなるのを防止するために不等式を分割すると上手く計算できることが確認できた\n",
    "- あとは formula の変換プログラムを完成させるだけ\n",
    "- \n",
    "- 排他的論理和(ではない) ⊕ の分配法則を勘違いしていた \n",
    "- x ⊕ (y ∧ z) = (x ⊕ y) ∧ (x ⊕ z)\n",
    "- \n",
    "- 分配法則を処理できるようにしないといけないかもしれない \n",
    "- \n",
    "- ホーン節とか，誤植とか\n",
    "- 定義をしっかり覚えておかしいところは気づかないといけない\n",
    "- ホーン節チェッカーを作成しても良いかもしれない\n",
    "- \n",
    "- 否定を先に計算しなくても良いようにできると良いんだけど\n",
    "- \n",
    "- 演算子の変換の際には string のまま変換したほうが良さそう\n",
    "- 足し算はリスト同士の足し算\n",
    "-\n",
    "- negation だけは適用する要素にひっつけて書くとか\n",
    "- 分配法則の実装と合わせて\n",
    "- \n",
    "- もしかしたら，後ろから分配法則で処理していくのが一貫してて良いのではないか\n",
    "-  \n",
    "- ホーン節 チェッカー\n",
    "- とりあえず min と max が混在するようだとおかしい，\n",
    "- 特に，logical constraints の特徴上，KB 中の formula を変形して最後に max が残らないようにする\n",
    "- \n",
    "- もしあれば，'→' implication を境にして，それより前に min を生成するような演算があるとそれは formula として正しくない（なぜなら，'→' の前全体に '¬' 否定がかかって，min が裏返って max になってしまうため）\n",
    "- '→' implication の後に max があるのもいけない，なぜなら裏返って min になることなく，最後まで max が残ってしまうため\n",
    "- \n",
    "- 演算子に追加で，「+」「-」も扱えたほうが良さそう\n",
    "- \n",
    "- \n",
    "- \n",
    "- \n",
    "- \n",
    "- \n",
    "- \n",
    "- \n",
    "- \n",
    "- \n",
    "- \n",
    "- \n",
    "- \n",
    "- \n",
    "- \n",
    "\n",
    "\n",
    "\n",
    "#### 目印になりそうなもの\n",
    "\n",
    "- 半角スペース\n",
    "- ()\n",
    "- () の左に隣接する文字列\n",
    "- "
   ]
  },
  {
   "cell_type": "code",
   "execution_count": 2,
   "metadata": {},
   "outputs": [
    {
     "name": "stdout",
     "output_type": "stream",
     "text": [
      "The autoreload extension is already loaded. To reload it, use:\n",
      "  %reload_ext autoreload\n"
     ]
    }
   ],
   "source": [
    "%load_ext autoreload\n",
    "%autoreload 2\n",
    "\n",
    "import os\n",
    "\n",
    "import pandas as pd\n",
    "import numpy as np\n",
    "import matplotlib.pyplot as plt\n",
    "import cvxpy as cp\n",
    "\n",
    "from utils.misc import *\n",
    "from utils.misc import Predicate, count_neg, get_first_neg_index, convert_formula\n",
    "from utils.misc import count_\n",
    "from utils.operators import negation\n",
    "from utils.operators import weak_conjunction, strong_conjunction\n",
    "from utils.operators import weak_disjunction, strong_disjunction\n",
    "from utils.operators import implication\n",
    "\n",
    "%matplotlib inline"
   ]
  },
  {
   "cell_type": "code",
   "execution_count": 4,
   "metadata": {},
   "outputs": [],
   "source": [
    "# load and convert data, describe problem settings, etc\n",
    "data_dir_path = './inputs/toy_data/'\n",
    "path_L1 = os.path.join(data_dir_path, 'L1.csv')\n",
    "path_L2 = os.path.join(data_dir_path, 'L2.csv')\n",
    "path_L3 = os.path.join(data_dir_path, 'L3.csv')\n",
    "path_U = os.path.join(data_dir_path, 'U.csv')\n",
    "\n",
    "df_L1 = pd.read_csv(path_L1, index_col=0)\n",
    "df_L2 = pd.read_csv(path_L2, index_col=0)\n",
    "df_L3 = pd.read_csv(path_L3, index_col=0)\n",
    "df_U = pd.read_csv(path_U, index_col=0)\n",
    "\n",
    "L1 = np.array(df_L1)\n",
    "L2 = np.array(df_L2)\n",
    "L3 = np.array(df_L3)\n",
    "\n",
    "L = np.stack([L1, L2, L3]) # data for pointwise constraint\n",
    "U = np.array(df_U) # data for logical constriant"
   ]
  },
  {
   "cell_type": "code",
   "execution_count": 8,
   "metadata": {},
   "outputs": [],
   "source": [
    "symbols_1 = ['¬', '∧', '∨', '⊗', '⊕', '→']\n",
    "\n",
    "operations = [\n",
    "    negation,\n",
    "    weak_conjunction,\n",
    "    weak_disjunction,\n",
    "    strong_conjunction,\n",
    "    strong_disjunction,\n",
    "    implication\n",
    "]\n",
    "\n",
    "symbols_1_semanticized = {s: o for s, o in zip(symbols_1, operations)}"
   ]
  },
  {
   "cell_type": "code",
   "execution_count": 9,
   "metadata": {},
   "outputs": [
    {
     "data": {
      "text/plain": [
       "[['hair(x)', '→', 'mammal(x)'],\n",
       " ['milk(x)', '→', 'mammal(x)'],\n",
       " ['feather(x)', '→', 'bird(x)'],\n",
       " ['layeggs(x)', '→', 'bird(x)'],\n",
       " ['mammal(x)', '⊗', 'meat(x)', '→', 'carnivore(x)'],\n",
       " ['mammal(x)',\n",
       "  '⊗',\n",
       "  'pointedteeth(x)',\n",
       "  '⊗',\n",
       "  'claws(x)',\n",
       "  '⊗',\n",
       "  'forwardeyes(x)',\n",
       "  '→',\n",
       "  'carnivore(x)'],\n",
       " ['mammal(x)', '⊗', 'hoofs(x)', '→', 'ungulate(x)'],\n",
       " ['mammal(x)', '⊗', 'cud(x)', '→', 'ungulate(x)'],\n",
       " ['carnivore(x)', '⊗', 'tawny(x)', '⊗', 'darkspots(x)', '→', 'cheetah(x)'],\n",
       " ['carnivore(x)', '⊗', 'tawny(x)', '⊗', 'blackstripes(x)', '→', 'tiger(x)'],\n",
       " ['ungulate(x)',\n",
       "  '⊗',\n",
       "  'longlegs(x)',\n",
       "  '⊗',\n",
       "  'longneck(x)',\n",
       "  '⊗',\n",
       "  'tawny(x)',\n",
       "  '⊗',\n",
       "  'darkspots(x)',\n",
       "  '→',\n",
       "  'giraffe(x)'],\n",
       " ['ungulate(x)', '⊗', 'white(x)', '⊗', 'blackstripes(x)', '→', 'zebra(x)'],\n",
       " ['bird(x)',\n",
       "  '⊗',\n",
       "  'longlegs(x)',\n",
       "  '⊗',\n",
       "  'longneck(x)',\n",
       "  '⊗',\n",
       "  'black(x)',\n",
       "  '→',\n",
       "  'ostrich(x)'],\n",
       " ['bird(x)', '⊗', 'swim(x)', '⊗', 'blackwhite(x)', '→', 'penguin(x)'],\n",
       " ['bird(x)', '⊗', 'goodflier(x)', '→', 'albatross(x)'],\n",
       " ['cheetah(x)',\n",
       "  '⊕',\n",
       "  'tiger(x)',\n",
       "  '⊕',\n",
       "  'giraffe(x)',\n",
       "  '⊕',\n",
       "  'zebra(x)',\n",
       "  '⊕',\n",
       "  'ostrich(x)',\n",
       "  '⊕',\n",
       "  'penguin(x)',\n",
       "  '⊕',\n",
       "  'albatross(x)'],\n",
       " ['mammal(x)', '⊕', 'bird(x)'],\n",
       " ['hair(x)', '⊕', 'feather(x)'],\n",
       " ['darkspots(x)', '→', '¬', 'blackstripes(x)'],\n",
       " ['blackstripes(x)', '→', '¬', 'darkspots(x)'],\n",
       " ['tawny(x)', '→', '¬', 'black(x)'],\n",
       " ['black(x)', '→', '¬', 'tawny(x)'],\n",
       " ['white(x)', '→', '¬', 'black(x)'],\n",
       " ['tawny(x)', '→', '¬', 'white(x)'],\n",
       " ['black(x)', '→', '¬', 'white(x)'],\n",
       " ['white(x)', '→', '¬', 'tawny(x)'],\n",
       " ['black(x)', '→', '¬', 'white(x)'],\n",
       " ['black(x)', '→', '¬', 'tawny(x)'],\n",
       " ['white(x)', '→', '¬', 'black(x)'],\n",
       " ['white(x)', '→', '¬', 'tawny(x)'],\n",
       " ['tawny(x)', '→', '¬', 'white(x)'],\n",
       " ['tawny(x)', '→', '¬', 'black(x)']]"
      ]
     },
     "metadata": {},
     "output_type": "display_data"
    }
   ],
   "source": [
    "# path_rules = os.path.join(data_dir_path, 'rules.txt')\n",
    "path_rules = os.path.join(data_dir_path, 'rules_2.txt')\n",
    "knowledge_base = []\n",
    "\n",
    "with open(path_rules, 'r') as f:\n",
    "    for line in f:\n",
    "        knowledge_base.append(line.split())\n",
    "\n",
    "display(knowledge_base)\n",
    "\n",
    "len_h = len(knowledge_base)"
   ]
  },
  {
   "cell_type": "code",
   "execution_count": 10,
   "metadata": {},
   "outputs": [
    {
     "data": {
      "text/plain": [
       "['hair(x)', '→', 'mammal(x)']"
      ]
     },
     "execution_count": 10,
     "metadata": {},
     "output_type": "execute_result"
    }
   ],
   "source": [
    "knowledge_base[0]"
   ]
  },
  {
   "cell_type": "code",
   "execution_count": 11,
   "metadata": {},
   "outputs": [
    {
     "data": {
      "text/plain": [
       "['¬', 'hair(x)', '⊕', 'mammal(x)']"
      ]
     },
     "execution_count": 11,
     "metadata": {},
     "output_type": "execute_result"
    }
   ],
   "source": [
    "f = knowledge_base[0]\n",
    "\n",
    "convert_formula(f)"
   ]
  },
  {
   "cell_type": "code",
   "execution_count": 12,
   "metadata": {},
   "outputs": [
    {
     "data": {
      "text/plain": [
       "['¬', 'hair(x)', '⊗', '¬', 'mammal(x)']"
      ]
     },
     "execution_count": 12,
     "metadata": {},
     "output_type": "execute_result"
    }
   ],
   "source": [
    "# ここは挙動がおかしい 本来なら先頭の 否定 は取れているべき\n",
    "\n",
    "negation(convert_formula(f))"
   ]
  },
  {
   "cell_type": "code",
   "execution_count": 7,
   "metadata": {},
   "outputs": [
    {
     "data": {
      "text/plain": [
       "<bound method Predicate.func of <utils.misc.Predicate object at 0x7f9b04fa24a0>>"
      ]
     },
     "metadata": {},
     "output_type": "display_data"
    },
    {
     "data": {
      "text/plain": [
       "dict_keys(['hair(x)', 'mammal(x)', 'milk(x)', 'feather(x)', 'bird(x)', 'layeggs(x)', 'meat(x)', 'carnivore(x)', 'pointedteeth(x)', 'claws(x)', 'forwardeyes(x)', 'hoofs(x)', 'ungulate(x)', 'cud(x)', 'tawny(x)', 'darkspots(x)', 'cheetah(x)', 'blackstripes(x)', 'tiger(x)', 'longlegs(x)', 'longneck(x)', 'giraffe(x)', 'white(x)', 'zebra(x)', 'black(x)', 'ostrich(x)', 'swim(x)', 'blackwhite(x)', 'penguin(x)', 'goodflier(x)', 'albatross(x)'])"
      ]
     },
     "metadata": {},
     "output_type": "display_data"
    }
   ],
   "source": [
    "predicates = []\n",
    "\n",
    "for formula in knowledge_base:\n",
    "    for item in formula:\n",
    "        if item not in symbols_1 and item not in predicates:\n",
    "            predicates.append(item)\n",
    "\n",
    "len_j = len(predicates)\n",
    "\n",
    "\n",
    "w_j = cp.Variable(shape=(len_j, 3))\n",
    "xi_h = cp.Variable(shape=(len_h, 1), nonneg=True)\n",
    "\n",
    "predicates_dict = {predicate: Predicate(w_j[j, :]).func for j, predicate in enumerate(predicates)}\n",
    "\n",
    "display(predicates_dict['hair(x)'])\n",
    "display(predicates_dict.keys())\n",
    "\n",
    "# knowledge_base_trans = []\n",
    "\n",
    "# for formula in knowledge_base:\n",
    "#     formula_trans = []\n",
    "\n",
    "#     for item in formula:\n",
    "#         if item in predicates_dict.keys():\n",
    "#             formula_trans.append(predicates_dict[item])\n",
    "#         else:\n",
    "#             formula_trans.append(item)\n",
    "    \n",
    "#     knowledge_base_trans.append(formula_trans)\n",
    "\n",
    "# knowledge_base_trans   "
   ]
  },
  {
   "cell_type": "code",
   "execution_count": 6,
   "metadata": {},
   "outputs": [],
   "source": [
    "len_j = 3 \n",
    "len_h = 2\n",
    "\n",
    "w_j = cp.Variable(shape=(len_j, 3))\n",
    "\n",
    "w_1 = w_j[0, :]\n",
    "w_2 = w_j[1, :]\n",
    "w_3 = w_j[2, :]\n",
    "\n",
    "xi_h = cp.Variable(shape=(len_h, 1), nonneg=True)\n",
    "xi_1, xi_2 = xi_h[0, :], xi_h[1, :]\n",
    "xi_1, xi_2\n",
    "\n",
    "\n",
    "p_1 = Predicate(w_1).func\n",
    "p_2 = Predicate(w_2).func\n",
    "p_3 = Predicate(w_3).func\n",
    "\n",
    "x_test = np.random.rand(2)"
   ]
  },
  {
   "cell_type": "code",
   "execution_count": 7,
   "metadata": {},
   "outputs": [],
   "source": [
    "w_4 = cp.Variable(shape=(3))\n",
    "p_4 = Predicate(w_4).func"
   ]
  },
  {
   "cell_type": "code",
   "execution_count": 95,
   "metadata": {},
   "outputs": [],
   "source": [
    "def formula_transformer(formula_decomposed):\n",
    "    neg_num = count_neg(formula_decomposed)\n",
    "\n",
    "    while neg_num > 0:\n",
    "        target_index = get_first_neg_index(formula_decomposed)\n",
    "\n",
    "        # 演算に使用する値を取得\n",
    "        x = formula_decomposed[target_index + 1]\n",
    "\n",
    "        # 演算の実行\n",
    "        operation = symbols_1_semanticized['¬']\n",
    "        result = operation(x)\n",
    "\n",
    "        # 演算結果で置き換え，演算子（¬）の削除\n",
    "        formula_decomposed[target_index + 1] = result\n",
    "        formula_decomposed.pop(target_index)\n",
    "\n",
    "        neg_num -= 1\n",
    "\n",
    "    while len(formula_decomposed) > 1:\n",
    "        target_index = None\n",
    "\n",
    "        # 分割された formula （リスト）から最初の演算子のインデックスを取得\n",
    "        for index, token in enumerate(formula_decomposed):\n",
    "            if token in symbols_1_semanticized.keys():\n",
    "                target_index = index\n",
    "                break\n",
    "\n",
    "        # 対応する演算子の関数を取得\n",
    "        symbol = formula_decomposed[target_index]\n",
    "        operation = symbols_1_semanticized[symbol]\n",
    "\n",
    "        # 演算に使用する値のペアを取得\n",
    "        x = formula_decomposed[target_index - 1]\n",
    "        y = formula_decomposed[target_index + 1]\n",
    "\n",
    "        # 実際に演算を行う\n",
    "        result = operation(x, y)\n",
    "\n",
    "        # 演算結果で置き換え，演算済み要素の削除\n",
    "\n",
    "        formula_decomposed[target_index] = result\n",
    "        indices_to_remove = [target_index - 1, target_index + 1]\n",
    "        filtered = []\n",
    "\n",
    "        for i, item in enumerate(formula_decomposed):\n",
    "            if i not in indices_to_remove:\n",
    "                filtered.append(item)\n",
    "\n",
    "        formula_decomposed = filtered\n",
    "\n",
    "    return formula_decomposed[0]"
   ]
  },
  {
   "cell_type": "code",
   "execution_count": 101,
   "metadata": {},
   "outputs": [
    {
     "data": {
      "text/plain": [
       "array(1.)"
      ]
     },
     "execution_count": 101,
     "metadata": {},
     "output_type": "execute_result"
    }
   ],
   "source": [
    "f_decomp = [0.5, '→', '¬', 0.3, '→', '¬', 0.3, '→', '¬', 0.3]\n",
    "f_processed = formula_transformer(f_decomp)\n",
    "f_processed.value"
   ]
  },
  {
   "cell_type": "code",
   "execution_count": 13,
   "metadata": {},
   "outputs": [
    {
     "data": {
      "text/plain": [
       "[0.4, '⊗', 0.2, '→', 0.3]"
      ]
     },
     "execution_count": 13,
     "metadata": {},
     "output_type": "execute_result"
    }
   ],
   "source": [
    "# f = \"mammal(x) ⊗ pointedteeth(x) ⊗ claws(x) ⊗ forwardeyes(x) → carnivore(x)\".split()\n",
    "# f = [p_1(x_test), '⊗', p_2(x_test), '⊗', p_3(x_test), '→', p_4(x_test)]\n",
    "# f = [p_1(x_test), '⊗', p_2(x_test), '→', p_3(x_test)]\n",
    "f = [.4, '⊗', .2, '→', .3]\n",
    "f"
   ]
  },
  {
   "cell_type": "code",
   "execution_count": 14,
   "metadata": {},
   "outputs": [
    {
     "name": "stdout",
     "output_type": "stream",
     "text": [
      "original formula:\n"
     ]
    },
    {
     "data": {
      "text/plain": [
       "[0.4, '⊗', 0.2, '→', 0.3]"
      ]
     },
     "metadata": {},
     "output_type": "display_data"
    },
    {
     "name": "stdout",
     "output_type": "stream",
     "text": [
      "\n"
     ]
    }
   ],
   "source": [
    "f = [.4, '⊗', .2, '→', .3]\n",
    "print(f'original formula:')\n",
    "display(f)\n",
    "print()\n",
    "\n",
    "def process_neg(formula):\n",
    "    neg_num = count_neg(formula)\n",
    "\n",
    "    while neg_num > 0:\n",
    "        target_index = get_first_neg_index(formula)\n",
    "\n",
    "        # 演算に使用する値を取得\n",
    "        x = formula[target_index + 1]\n",
    "\n",
    "        # 演算の実行\n",
    "        operation = symbols_1_semanticized['¬']\n",
    "        result = operation(x)\n",
    "\n",
    "        # 演算結果で置き換え，演算子（¬）の削除\n",
    "        formula[target_index + 1] = result\n",
    "        formula.pop(target_index)\n",
    "\n",
    "        neg_num -= 1\n",
    "\n",
    "    # return formula\n",
    "\n",
    "\n",
    "def process_formula(formula):\n",
    "    process_neg(formula)\n",
    "\n",
    "    count_(formula)\n",
    "\n",
    "\n",
    "\n",
    "process_formula(f)"
   ]
  },
  {
   "cell_type": "code",
   "execution_count": 5,
   "metadata": {},
   "outputs": [
    {
     "data": {
      "text/plain": [
       "['¬', 'mammal(x)', '⊕', 'meat(x)', '⊕', '¬', 'carnivore(x)']"
      ]
     },
     "execution_count": 5,
     "metadata": {},
     "output_type": "execute_result"
    }
   ],
   "source": [
    "# formula = knowledge_base[4]\n",
    "formula = ['¬', '¬', '¬', '¬', '¬', 'mammal(x)', '⊕', '¬','¬', '¬', '¬',  'meat(x)', '⊕', '¬', 'carnivore(x)']\n",
    "\n",
    "\n",
    "convert_formula(formula)"
   ]
  },
  {
   "cell_type": "code",
   "execution_count": null,
   "metadata": {},
   "outputs": [],
   "source": []
  },
  {
   "cell_type": "code",
   "execution_count": 20,
   "metadata": {},
   "outputs": [
    {
     "name": "stdout",
     "output_type": "stream",
     "text": [
      "['¬', 'hair(x)', '⊕', 'mammal(x)']\n",
      "['¬', 'milk(x)', '⊕', 'mammal(x)']\n",
      "['¬', 'feather(x)', '⊕', 'bird(x)']\n",
      "['¬', 'layeggs(x)', '⊕', 'bird(x)']\n",
      "['¬', 'mammal(x)', '⊕', '¬', 'meat(x)', '⊕', 'carnivore(x)']\n",
      "['¬', 'mammal(x)', '⊕', '¬', 'pointedteeth(x)', '⊕', '¬', 'claws(x)', '⊕', '¬', 'forwardeyes(x)', '⊕', 'carnivore(x)']\n",
      "['¬', 'mammal(x)', '⊕', '¬', 'hoofs(x)', '⊕', 'ungulate(x)']\n",
      "['¬', 'mammal(x)', '⊕', '¬', 'cud(x)', '⊕', 'ungulate(x)']\n",
      "['¬', 'carnivore(x)', '⊕', '¬', 'tawny(x)', '⊕', '¬', 'darkspots(x)', '⊕', 'cheetah(x)']\n",
      "['¬', 'carnivore(x)', '⊕', '¬', 'tawny(x)', '⊕', '¬', 'blackstripes(x)', '⊕', 'tiger(x)']\n",
      "['¬', 'ungulate(x)', '⊕', '¬', 'longlegs(x)', '⊕', '¬', 'longneck(x)', '⊕', '¬', 'tawny(x)', '⊕', '¬', 'darkspots(x)', '⊕', 'giraffe(x)']\n",
      "['¬', 'ungulate(x)', '⊕', '¬', 'white(x)', '⊕', '¬', 'blackstripes(x)', '⊕', 'zebra(x)']\n",
      "['¬', 'bird(x)', '⊕', '¬', 'longlegs(x)', '⊕', '¬', 'longneck(x)', '⊕', '¬', 'black(x)', '⊕', 'ostrich(x)']\n",
      "['¬', 'bird(x)', '⊕', '¬', 'swim(x)', '⊕', '¬', 'blackwhite(x)', '⊕', 'penguin(x)']\n",
      "['¬', 'bird(x)', '⊕', '¬', 'goodflier(x)', '⊕', 'albatross(x)']\n",
      "['cheetah(x)', '⊕', 'tiger(x)', '⊕', 'giraffe(x)', '⊕', 'zebra(x)', '⊕', 'ostrich(x)', '⊕', 'penguin(x)', '⊕', 'albatross(x)']\n",
      "['mammal(x)', '⊕', 'bird(x)']\n",
      "['hair(x)', '⊕', 'feather(x)']\n",
      "['¬', 'darkspots(x)', '⊕', '¬', 'blackstripes(x)']\n",
      "['¬', 'blackstripes(x)', '⊕', '¬', 'darkspots(x)']\n",
      "['¬', 'tawny(x)', '⊕', '¬', 'black(x)']\n",
      "['¬', 'black(x)', '⊕', '¬', 'tawny(x)']\n",
      "['¬', 'white(x)', '⊕', '¬', 'black(x)']\n",
      "['¬', 'tawny(x)', '⊕', '¬', 'white(x)']\n",
      "['¬', 'black(x)', '⊕', '¬', 'white(x)']\n",
      "['¬', 'white(x)', '⊕', '¬', 'tawny(x)']\n",
      "['¬', 'black(x)', '⊕', '¬', 'white(x)']\n",
      "['¬', 'black(x)', '⊕', '¬', 'tawny(x)']\n",
      "['¬', 'white(x)', '⊕', '¬', 'black(x)']\n",
      "['¬', 'white(x)', '⊕', '¬', 'tawny(x)']\n",
      "['¬', 'tawny(x)', '⊕', '¬', 'white(x)']\n",
      "['¬', 'tawny(x)', '⊕', '¬', 'black(x)']\n"
     ]
    }
   ],
   "source": [
    "logical_constraints = []\n",
    "\n",
    "for formula in knowledge_base:\n",
    "    print(convert_formula(formula))"
   ]
  },
  {
   "cell_type": "code",
   "execution_count": 48,
   "metadata": {},
   "outputs": [
    {
     "data": {
      "text/plain": [
       "[[1.0],\n",
       " ['¬', 'ungulate(x)'],\n",
       " ['¬', 'longlegs(x)'],\n",
       " ['¬', 'longneck(x)'],\n",
       " ['¬', 'tawny(x)'],\n",
       " ['¬', 'darkspots(x)'],\n",
       " ['giraffe(x)']]"
      ]
     },
     "execution_count": 48,
     "metadata": {},
     "output_type": "execute_result"
    }
   ],
   "source": [
    "formula = ['¬', 'ungulate(x)', '⊕', '¬', 'longlegs(x)', '⊕', '¬', 'longneck(x)', '⊕', '¬', 'tawny(x)', '⊕', '¬', 'darkspots(x)', '⊕', 'giraffe(x)']\n",
    "# formula = ['¬', 'feather(x)', '⊕', 'bird(x)']\n",
    "\n",
    "target_indices = []\n",
    "for i, item in enumerate(formula):\n",
    "    if item == '⊕':\n",
    "        target_indices.append(i)\n",
    "\n",
    "# print(target_indices)\n",
    "\n",
    "f_decomp = []\n",
    "f_decomp.append([1.])\n",
    "f_decomp.append(formula[:target_indices[0]])\n",
    "for i in range(len(target_indices) - 1):\n",
    "    # print(target_indices[i])\n",
    "    start_idx = target_indices[i] + 1\n",
    "    end_idx = target_indices[i+1]\n",
    "    f = formula[start_idx:end_idx]\n",
    "    f_decomp.append(f)\n",
    "\n",
    "if type(formula[-1]) == list:\n",
    "    f_decomp.append(formula[-1])\n",
    "else:\n",
    "    f_decomp.append([formula[-1]])\n",
    "\n",
    "f_decomp"
   ]
  },
  {
   "cell_type": "code",
   "execution_count": 49,
   "metadata": {},
   "outputs": [],
   "source": [
    "# ¬ 否定\n",
    "def negation(x):\n",
    "    if type(x) != list:\n",
    "        return 1 - x\n",
    "    else:\n",
    "        formula = []\n",
    "        for item in x:\n",
    "            if item == '∧':\n",
    "                formula.append('∨')\n",
    "            elif item == '∨':\n",
    "                formula.append('∧')\n",
    "            elif item == '⊕':\n",
    "                formula.append('⊗')\n",
    "            elif item == '⊗':\n",
    "                formula.append('⊕')\n",
    "            elif item == '¬':\n",
    "                formula.append('¬')\n",
    "            else:\n",
    "                formula.append('¬')\n",
    "                formula.append(item)\n",
    "\n",
    "        return formula\n"
   ]
  },
  {
   "cell_type": "code",
   "execution_count": 51,
   "metadata": {},
   "outputs": [
    {
     "name": "stdout",
     "output_type": "stream",
     "text": [
      "[1.0]\n",
      "\n",
      "['¬', 1.0]\n",
      "['¬', 1.0]\n",
      "\n",
      "\n",
      "['¬', 'ungulate(x)']\n",
      "\n",
      "['¬', '¬', 'ungulate(x)']\n",
      "['ungulate(x)']\n",
      "\n",
      "\n",
      "['¬', 'longlegs(x)']\n",
      "\n",
      "['¬', '¬', 'longlegs(x)']\n",
      "['longlegs(x)']\n",
      "\n",
      "\n",
      "['¬', 'longneck(x)']\n",
      "\n",
      "['¬', '¬', 'longneck(x)']\n",
      "['longneck(x)']\n",
      "\n",
      "\n",
      "['¬', 'tawny(x)']\n",
      "\n",
      "['¬', '¬', 'tawny(x)']\n",
      "['tawny(x)']\n",
      "\n",
      "\n",
      "['¬', 'darkspots(x)']\n",
      "\n",
      "['¬', '¬', 'darkspots(x)']\n",
      "['darkspots(x)']\n",
      "\n",
      "\n",
      "['giraffe(x)']\n",
      "\n",
      "['¬', 'giraffe(x)']\n",
      "['¬', 'giraffe(x)']\n",
      "\n",
      "\n"
     ]
    }
   ],
   "source": [
    "for formula in f_decomp:\n",
    "    print(formula)\n",
    "    print()\n",
    "    print(negation(formula))\n",
    "    print(convert_formula(negation(formula)))\n",
    "    print()\n",
    "    print()"
   ]
  },
  {
   "cell_type": "code",
   "execution_count": 56,
   "metadata": {},
   "outputs": [
    {
     "data": {
      "text/plain": [
       "[['¬', 'hair(x)', '⊕', 'mammal(x)'],\n",
       " ['¬', 'milk(x)', '⊕', 'mammal(x)'],\n",
       " ['¬', 'feather(x)', '⊕', 'bird(x)'],\n",
       " ['¬', 'layeggs(x)', '⊕', 'bird(x)'],\n",
       " ['¬', 'mammal(x)', '⊕', '¬', 'meat(x)', '⊕', 'carnivore(x)'],\n",
       " ['¬',\n",
       "  'mammal(x)',\n",
       "  '⊕',\n",
       "  '¬',\n",
       "  'pointedteeth(x)',\n",
       "  '⊕',\n",
       "  '¬',\n",
       "  'claws(x)',\n",
       "  '⊕',\n",
       "  '¬',\n",
       "  'forwardeyes(x)',\n",
       "  '⊕',\n",
       "  'carnivore(x)'],\n",
       " ['¬', 'mammal(x)', '⊕', '¬', 'hoofs(x)', '⊕', 'ungulate(x)'],\n",
       " ['¬', 'mammal(x)', '⊕', '¬', 'cud(x)', '⊕', 'ungulate(x)'],\n",
       " ['¬',\n",
       "  'carnivore(x)',\n",
       "  '⊕',\n",
       "  '¬',\n",
       "  'tawny(x)',\n",
       "  '⊕',\n",
       "  '¬',\n",
       "  'darkspots(x)',\n",
       "  '⊕',\n",
       "  'cheetah(x)'],\n",
       " ['¬',\n",
       "  'carnivore(x)',\n",
       "  '⊕',\n",
       "  '¬',\n",
       "  'tawny(x)',\n",
       "  '⊕',\n",
       "  '¬',\n",
       "  'blackstripes(x)',\n",
       "  '⊕',\n",
       "  'tiger(x)'],\n",
       " ['¬',\n",
       "  'ungulate(x)',\n",
       "  '⊕',\n",
       "  '¬',\n",
       "  'longlegs(x)',\n",
       "  '⊕',\n",
       "  '¬',\n",
       "  'longneck(x)',\n",
       "  '⊕',\n",
       "  '¬',\n",
       "  'tawny(x)',\n",
       "  '⊕',\n",
       "  '¬',\n",
       "  'darkspots(x)',\n",
       "  '⊕',\n",
       "  'giraffe(x)'],\n",
       " ['¬',\n",
       "  'ungulate(x)',\n",
       "  '⊕',\n",
       "  '¬',\n",
       "  'white(x)',\n",
       "  '⊕',\n",
       "  '¬',\n",
       "  'blackstripes(x)',\n",
       "  '⊕',\n",
       "  'zebra(x)'],\n",
       " ['¬',\n",
       "  'bird(x)',\n",
       "  '⊕',\n",
       "  '¬',\n",
       "  'longlegs(x)',\n",
       "  '⊕',\n",
       "  '¬',\n",
       "  'longneck(x)',\n",
       "  '⊕',\n",
       "  '¬',\n",
       "  'black(x)',\n",
       "  '⊕',\n",
       "  'ostrich(x)'],\n",
       " ['¬',\n",
       "  'bird(x)',\n",
       "  '⊕',\n",
       "  '¬',\n",
       "  'swim(x)',\n",
       "  '⊕',\n",
       "  '¬',\n",
       "  'blackwhite(x)',\n",
       "  '⊕',\n",
       "  'penguin(x)'],\n",
       " ['¬', 'bird(x)', '⊕', '¬', 'goodflier(x)', '⊕', 'albatross(x)'],\n",
       " ['cheetah(x)',\n",
       "  '⊕',\n",
       "  'tiger(x)',\n",
       "  '⊕',\n",
       "  'giraffe(x)',\n",
       "  '⊕',\n",
       "  'zebra(x)',\n",
       "  '⊕',\n",
       "  'ostrich(x)',\n",
       "  '⊕',\n",
       "  'penguin(x)',\n",
       "  '⊕',\n",
       "  'albatross(x)'],\n",
       " ['mammal(x)', '⊕', 'bird(x)'],\n",
       " ['hair(x)', '⊕', 'feather(x)'],\n",
       " ['¬', 'darkspots(x)', '⊕', '¬', 'blackstripes(x)'],\n",
       " ['¬', 'blackstripes(x)', '⊕', '¬', 'darkspots(x)'],\n",
       " ['¬', 'tawny(x)', '⊕', '¬', 'black(x)'],\n",
       " ['¬', 'black(x)', '⊕', '¬', 'tawny(x)'],\n",
       " ['¬', 'white(x)', '⊕', '¬', 'black(x)'],\n",
       " ['¬', 'tawny(x)', '⊕', '¬', 'white(x)'],\n",
       " ['¬', 'black(x)', '⊕', '¬', 'white(x)'],\n",
       " ['¬', 'white(x)', '⊕', '¬', 'tawny(x)'],\n",
       " ['¬', 'black(x)', '⊕', '¬', 'white(x)'],\n",
       " ['¬', 'black(x)', '⊕', '¬', 'tawny(x)'],\n",
       " ['¬', 'white(x)', '⊕', '¬', 'black(x)'],\n",
       " ['¬', 'white(x)', '⊕', '¬', 'tawny(x)'],\n",
       " ['¬', 'tawny(x)', '⊕', '¬', 'white(x)'],\n",
       " ['¬', 'tawny(x)', '⊕', '¬', 'black(x)']]"
      ]
     },
     "execution_count": 56,
     "metadata": {},
     "output_type": "execute_result"
    }
   ],
   "source": [
    "tmp_knowledge_base = []\n",
    "\n",
    "for formula in knowledge_base:\n",
    "    tmp_knowledge_base.append(convert_formula(formula))\n",
    "\n",
    "tmp_knowledge_base"
   ]
  },
  {
   "cell_type": "code",
   "execution_count": 65,
   "metadata": {},
   "outputs": [
    {
     "name": "stdout",
     "output_type": "stream",
     "text": [
      "32\n"
     ]
    }
   ],
   "source": [
    "# converted_knowledge_base = []\n",
    "converted_knowledge_base = []\n",
    "\n",
    "for formula in tmp_knowledge_base:\n",
    "\n",
    "    target_indices = []\n",
    "    for i, item in enumerate(formula):\n",
    "        if item == '⊕':\n",
    "            target_indices.append(i)\n",
    "\n",
    "    # print(target_indices)\n",
    "\n",
    "    f_decomp = []\n",
    "    f_decomp.append(formula[:target_indices[0]])\n",
    "    for i in range(len(target_indices) - 1):\n",
    "        # print(target_indices[i])\n",
    "        start_idx = target_indices[i] + 1\n",
    "        end_idx = target_indices[i+1]\n",
    "        f = formula[start_idx:end_idx]\n",
    "        f_decomp.append(f)\n",
    "\n",
    "    if type(formula[-1]) == list:\n",
    "        f_decomp.append(formula[-1])\n",
    "    else:\n",
    "        f_decomp.append([formula[-1]])\n",
    "\n",
    "    converted_knowledge_base.append(f_decomp)\n",
    "\n",
    "print(len(converted_knowledge_base))\n",
    "\n",
    "    # for f in f_decomp:\n",
    "        # converted_knowledge_base.append(convert_formula(negation(f)))\n",
    "        "
   ]
  },
  {
   "cell_type": "code",
   "execution_count": 66,
   "metadata": {},
   "outputs": [
    {
     "name": "stdout",
     "output_type": "stream",
     "text": [
      "[['¬', 'hair(x)'], ['mammal(x)']]\n",
      "[['¬', 'milk(x)'], ['mammal(x)']]\n",
      "[['¬', 'feather(x)'], ['bird(x)']]\n",
      "[['¬', 'layeggs(x)'], ['bird(x)']]\n",
      "[['¬', 'mammal(x)'], ['¬', 'meat(x)'], ['carnivore(x)']]\n",
      "[['¬', 'mammal(x)'], ['¬', 'pointedteeth(x)'], ['¬', 'claws(x)'], ['¬', 'forwardeyes(x)'], ['carnivore(x)']]\n",
      "[['¬', 'mammal(x)'], ['¬', 'hoofs(x)'], ['ungulate(x)']]\n",
      "[['¬', 'mammal(x)'], ['¬', 'cud(x)'], ['ungulate(x)']]\n",
      "[['¬', 'carnivore(x)'], ['¬', 'tawny(x)'], ['¬', 'darkspots(x)'], ['cheetah(x)']]\n",
      "[['¬', 'carnivore(x)'], ['¬', 'tawny(x)'], ['¬', 'blackstripes(x)'], ['tiger(x)']]\n",
      "[['¬', 'ungulate(x)'], ['¬', 'longlegs(x)'], ['¬', 'longneck(x)'], ['¬', 'tawny(x)'], ['¬', 'darkspots(x)'], ['giraffe(x)']]\n",
      "[['¬', 'ungulate(x)'], ['¬', 'white(x)'], ['¬', 'blackstripes(x)'], ['zebra(x)']]\n",
      "[['¬', 'bird(x)'], ['¬', 'longlegs(x)'], ['¬', 'longneck(x)'], ['¬', 'black(x)'], ['ostrich(x)']]\n",
      "[['¬', 'bird(x)'], ['¬', 'swim(x)'], ['¬', 'blackwhite(x)'], ['penguin(x)']]\n",
      "[['¬', 'bird(x)'], ['¬', 'goodflier(x)'], ['albatross(x)']]\n",
      "[['cheetah(x)'], ['tiger(x)'], ['giraffe(x)'], ['zebra(x)'], ['ostrich(x)'], ['penguin(x)'], ['albatross(x)']]\n",
      "[['mammal(x)'], ['bird(x)']]\n",
      "[['hair(x)'], ['feather(x)']]\n",
      "[['¬', 'darkspots(x)'], ['blackstripes(x)']]\n",
      "[['¬', 'blackstripes(x)'], ['darkspots(x)']]\n",
      "[['¬', 'tawny(x)'], ['black(x)']]\n",
      "[['¬', 'black(x)'], ['tawny(x)']]\n",
      "[['¬', 'white(x)'], ['black(x)']]\n",
      "[['¬', 'tawny(x)'], ['white(x)']]\n",
      "[['¬', 'black(x)'], ['white(x)']]\n",
      "[['¬', 'white(x)'], ['tawny(x)']]\n",
      "[['¬', 'black(x)'], ['white(x)']]\n",
      "[['¬', 'black(x)'], ['tawny(x)']]\n",
      "[['¬', 'white(x)'], ['black(x)']]\n",
      "[['¬', 'white(x)'], ['tawny(x)']]\n",
      "[['¬', 'tawny(x)'], ['white(x)']]\n",
      "[['¬', 'tawny(x)'], ['black(x)']]\n"
     ]
    }
   ],
   "source": [
    "for formula in converted_knowledge_base:\n",
    "    print(formula)"
   ]
  },
  {
   "cell_type": "code",
   "execution_count": 72,
   "metadata": {},
   "outputs": [],
   "source": [
    "predicates = []\n",
    "\n",
    "for formula in knowledge_base:\n",
    "    for item in formula:\n",
    "        if item not in symbols_1 and item not in predicates:\n",
    "            predicates.append(item)\n",
    "\n",
    "len_j = len(predicates)\n",
    "xi_h = cp.Variable(shape=(len_h * 2, 1), nonneg=True)\n",
    "\n",
    "w_j = cp.Variable(shape=(len_j, 3))\n",
    "predicates_dict = {predicate: Predicate(w_j[j, :]).func for j, predicate in enumerate(predicates)}"
   ]
  },
  {
   "cell_type": "code",
   "execution_count": null,
   "metadata": {},
   "outputs": [],
   "source": [
    "logical_constraints = []\n",
    "\n",
    "for i, formula in enumerate(converted_knowledge_base):\n",
    "    for formula_tiny in formula:\n",
    "        \n",
    "    logical_constraints += [\n",
    "        negation(1.) <= xi_h[2*i],\n",
    "        convert_formula() \n",
    "\n",
    "    ]"
   ]
  },
  {
   "cell_type": "code",
   "execution_count": 71,
   "metadata": {},
   "outputs": [
    {
     "data": {
      "text/plain": [
       "0"
      ]
     },
     "execution_count": 71,
     "metadata": {},
     "output_type": "execute_result"
    }
   ],
   "source": [
    "tmp = [1, 2]\n",
    "\n",
    "while "
   ]
  },
  {
   "cell_type": "code",
   "execution_count": 79,
   "metadata": {},
   "outputs": [],
   "source": [
    "for i in converted_knowledge_base:\n",
    "    for j in i:\n",
    "        if len(j) > 3:\n",
    "            print('yey')"
   ]
  },
  {
   "cell_type": "code",
   "execution_count": 70,
   "metadata": {},
   "outputs": [
    {
     "data": {
      "text/plain": [
       "[[['¬', 'hair(x)'], ['mammal(x)']],\n",
       " [['¬', 'milk(x)'], ['mammal(x)']],\n",
       " [['¬', 'feather(x)'], ['bird(x)']],\n",
       " [['¬', 'layeggs(x)'], ['bird(x)']],\n",
       " [['¬', 'mammal(x)'], ['¬', 'meat(x)'], ['carnivore(x)']],\n",
       " [['¬', 'mammal(x)'],\n",
       "  ['¬', 'pointedteeth(x)'],\n",
       "  ['¬', 'claws(x)'],\n",
       "  ['¬', 'forwardeyes(x)'],\n",
       "  ['carnivore(x)']],\n",
       " [['¬', 'mammal(x)'], ['¬', 'hoofs(x)'], ['ungulate(x)']],\n",
       " [['¬', 'mammal(x)'], ['¬', 'cud(x)'], ['ungulate(x)']],\n",
       " [['¬', 'carnivore(x)'],\n",
       "  ['¬', 'tawny(x)'],\n",
       "  ['¬', 'darkspots(x)'],\n",
       "  ['cheetah(x)']],\n",
       " [['¬', 'carnivore(x)'],\n",
       "  ['¬', 'tawny(x)'],\n",
       "  ['¬', 'blackstripes(x)'],\n",
       "  ['tiger(x)']],\n",
       " [['¬', 'ungulate(x)'],\n",
       "  ['¬', 'longlegs(x)'],\n",
       "  ['¬', 'longneck(x)'],\n",
       "  ['¬', 'tawny(x)'],\n",
       "  ['¬', 'darkspots(x)'],\n",
       "  ['giraffe(x)']],\n",
       " [['¬', 'ungulate(x)'],\n",
       "  ['¬', 'white(x)'],\n",
       "  ['¬', 'blackstripes(x)'],\n",
       "  ['zebra(x)']],\n",
       " [['¬', 'bird(x)'],\n",
       "  ['¬', 'longlegs(x)'],\n",
       "  ['¬', 'longneck(x)'],\n",
       "  ['¬', 'black(x)'],\n",
       "  ['ostrich(x)']],\n",
       " [['¬', 'bird(x)'], ['¬', 'swim(x)'], ['¬', 'blackwhite(x)'], ['penguin(x)']],\n",
       " [['¬', 'bird(x)'], ['¬', 'goodflier(x)'], ['albatross(x)']],\n",
       " [['cheetah(x)'],\n",
       "  ['tiger(x)'],\n",
       "  ['giraffe(x)'],\n",
       "  ['zebra(x)'],\n",
       "  ['ostrich(x)'],\n",
       "  ['penguin(x)'],\n",
       "  ['albatross(x)']],\n",
       " [['mammal(x)'], ['bird(x)']],\n",
       " [['hair(x)'], ['feather(x)']],\n",
       " [['¬', 'darkspots(x)'], ['blackstripes(x)']],\n",
       " [['¬', 'blackstripes(x)'], ['darkspots(x)']],\n",
       " [['¬', 'tawny(x)'], ['black(x)']],\n",
       " [['¬', 'black(x)'], ['tawny(x)']],\n",
       " [['¬', 'white(x)'], ['black(x)']],\n",
       " [['¬', 'tawny(x)'], ['white(x)']],\n",
       " [['¬', 'black(x)'], ['white(x)']],\n",
       " [['¬', 'white(x)'], ['tawny(x)']],\n",
       " [['¬', 'black(x)'], ['white(x)']],\n",
       " [['¬', 'black(x)'], ['tawny(x)']],\n",
       " [['¬', 'white(x)'], ['black(x)']],\n",
       " [['¬', 'white(x)'], ['tawny(x)']],\n",
       " [['¬', 'tawny(x)'], ['white(x)']],\n",
       " [['¬', 'tawny(x)'], ['black(x)']]]"
      ]
     },
     "execution_count": 70,
     "metadata": {},
     "output_type": "execute_result"
    }
   ],
   "source": [
    "converted_knowledge_base"
   ]
  },
  {
   "cell_type": "code",
   "execution_count": null,
   "metadata": {},
   "outputs": [],
   "source": []
  },
  {
   "cell_type": "code",
   "execution_count": 67,
   "metadata": {},
   "outputs": [
    {
     "data": {
      "text/plain": [
       "<bound method Predicate.func of <utils.misc.Predicate object at 0x7fc266684310>>"
      ]
     },
     "metadata": {},
     "output_type": "display_data"
    },
    {
     "data": {
      "text/plain": [
       "dict_keys(['hair(x)', 'mammal(x)', 'milk(x)', 'feather(x)', 'bird(x)', 'layeggs(x)', 'meat(x)', 'carnivore(x)', 'pointedteeth(x)', 'claws(x)', 'forwardeyes(x)', 'hoofs(x)', 'ungulate(x)', 'cud(x)', 'tawny(x)', 'darkspots(x)', 'cheetah(x)', 'blackstripes(x)', 'tiger(x)', 'longlegs(x)', 'longneck(x)', 'giraffe(x)', 'white(x)', 'zebra(x)', 'black(x)', 'ostrich(x)', 'swim(x)', 'blackwhite(x)', 'penguin(x)', 'goodflier(x)', 'albatross(x)'])"
      ]
     },
     "metadata": {},
     "output_type": "display_data"
    },
    {
     "data": {
      "text/plain": [
       "[[<bound method Predicate.func of <utils.misc.Predicate object at 0x7fc266684310>>,\n",
       "  '→',\n",
       "  <bound method Predicate.func of <utils.misc.Predicate object at 0x7fc2666863e0>>],\n",
       " [<bound method Predicate.func of <utils.misc.Predicate object at 0x7fc266684f40>>,\n",
       "  '→',\n",
       "  <bound method Predicate.func of <utils.misc.Predicate object at 0x7fc2666863e0>>],\n",
       " [<bound method Predicate.func of <utils.misc.Predicate object at 0x7fc2666870a0>>,\n",
       "  '→',\n",
       "  <bound method Predicate.func of <utils.misc.Predicate object at 0x7fc266bd3a30>>],\n",
       " [<bound method Predicate.func of <utils.misc.Predicate object at 0x7fc266bd3610>>,\n",
       "  '→',\n",
       "  <bound method Predicate.func of <utils.misc.Predicate object at 0x7fc266bd3a30>>],\n",
       " [<bound method Predicate.func of <utils.misc.Predicate object at 0x7fc2666863e0>>,\n",
       "  '⊗',\n",
       "  <bound method Predicate.func of <utils.misc.Predicate object at 0x7fc266441de0>>,\n",
       "  '→',\n",
       "  <bound method Predicate.func of <utils.misc.Predicate object at 0x7fc266697940>>],\n",
       " [<bound method Predicate.func of <utils.misc.Predicate object at 0x7fc2666863e0>>,\n",
       "  '⊗',\n",
       "  <bound method Predicate.func of <utils.misc.Predicate object at 0x7fc266696e00>>,\n",
       "  '⊗',\n",
       "  <bound method Predicate.func of <utils.misc.Predicate object at 0x7fc266697130>>,\n",
       "  '⊗',\n",
       "  <bound method Predicate.func of <utils.misc.Predicate object at 0x7fc266695ae0>>,\n",
       "  '→',\n",
       "  <bound method Predicate.func of <utils.misc.Predicate object at 0x7fc266697940>>],\n",
       " [<bound method Predicate.func of <utils.misc.Predicate object at 0x7fc2666863e0>>,\n",
       "  '⊗',\n",
       "  <bound method Predicate.func of <utils.misc.Predicate object at 0x7fc266694b50>>,\n",
       "  '→',\n",
       "  <bound method Predicate.func of <utils.misc.Predicate object at 0x7fc266694bb0>>],\n",
       " [<bound method Predicate.func of <utils.misc.Predicate object at 0x7fc2666863e0>>,\n",
       "  '⊗',\n",
       "  <bound method Predicate.func of <utils.misc.Predicate object at 0x7fc266697460>>,\n",
       "  '→',\n",
       "  <bound method Predicate.func of <utils.misc.Predicate object at 0x7fc266694bb0>>],\n",
       " [<bound method Predicate.func of <utils.misc.Predicate object at 0x7fc266697940>>,\n",
       "  '⊗',\n",
       "  <bound method Predicate.func of <utils.misc.Predicate object at 0x7fc2666978b0>>,\n",
       "  '⊗',\n",
       "  <bound method Predicate.func of <utils.misc.Predicate object at 0x7fc266695660>>,\n",
       "  '→',\n",
       "  <bound method Predicate.func of <utils.misc.Predicate object at 0x7fc266695720>>],\n",
       " [<bound method Predicate.func of <utils.misc.Predicate object at 0x7fc266697940>>,\n",
       "  '⊗',\n",
       "  <bound method Predicate.func of <utils.misc.Predicate object at 0x7fc2666978b0>>,\n",
       "  '⊗',\n",
       "  <bound method Predicate.func of <utils.misc.Predicate object at 0x7fc2666955a0>>,\n",
       "  '→',\n",
       "  <bound method Predicate.func of <utils.misc.Predicate object at 0x7fc266695330>>],\n",
       " [<bound method Predicate.func of <utils.misc.Predicate object at 0x7fc266694bb0>>,\n",
       "  '⊗',\n",
       "  <bound method Predicate.func of <utils.misc.Predicate object at 0x7fc2666950c0>>,\n",
       "  '⊗',\n",
       "  <bound method Predicate.func of <utils.misc.Predicate object at 0x7fc266694970>>,\n",
       "  '⊗',\n",
       "  <bound method Predicate.func of <utils.misc.Predicate object at 0x7fc2666978b0>>,\n",
       "  '⊗',\n",
       "  <bound method Predicate.func of <utils.misc.Predicate object at 0x7fc266695660>>,\n",
       "  '→',\n",
       "  <bound method Predicate.func of <utils.misc.Predicate object at 0x7fc266694700>>],\n",
       " [<bound method Predicate.func of <utils.misc.Predicate object at 0x7fc266694bb0>>,\n",
       "  '⊗',\n",
       "  <bound method Predicate.func of <utils.misc.Predicate object at 0x7fc266697e50>>,\n",
       "  '⊗',\n",
       "  <bound method Predicate.func of <utils.misc.Predicate object at 0x7fc2666955a0>>,\n",
       "  '→',\n",
       "  <bound method Predicate.func of <utils.misc.Predicate object at 0x7fc266695cf0>>],\n",
       " [<bound method Predicate.func of <utils.misc.Predicate object at 0x7fc266bd3a30>>,\n",
       "  '⊗',\n",
       "  <bound method Predicate.func of <utils.misc.Predicate object at 0x7fc2666950c0>>,\n",
       "  '⊗',\n",
       "  <bound method Predicate.func of <utils.misc.Predicate object at 0x7fc266694970>>,\n",
       "  '⊗',\n",
       "  <bound method Predicate.func of <utils.misc.Predicate object at 0x7fc266695f60>>,\n",
       "  '→',\n",
       "  <bound method Predicate.func of <utils.misc.Predicate object at 0x7fc2666961d0>>],\n",
       " [<bound method Predicate.func of <utils.misc.Predicate object at 0x7fc266bd3a30>>,\n",
       "  '⊗',\n",
       "  <bound method Predicate.func of <utils.misc.Predicate object at 0x7fc266696440>>,\n",
       "  '⊗',\n",
       "  <bound method Predicate.func of <utils.misc.Predicate object at 0x7fc266696680>>,\n",
       "  '→',\n",
       "  <bound method Predicate.func of <utils.misc.Predicate object at 0x7fc2666968f0>>],\n",
       " [<bound method Predicate.func of <utils.misc.Predicate object at 0x7fc266bd3a30>>,\n",
       "  '⊗',\n",
       "  <bound method Predicate.func of <utils.misc.Predicate object at 0x7fc266697f10>>,\n",
       "  '→',\n",
       "  <bound method Predicate.func of <utils.misc.Predicate object at 0x7fc266698250>>],\n",
       " [<bound method Predicate.func of <utils.misc.Predicate object at 0x7fc266695720>>,\n",
       "  '⊕',\n",
       "  <bound method Predicate.func of <utils.misc.Predicate object at 0x7fc266695330>>,\n",
       "  '⊕',\n",
       "  <bound method Predicate.func of <utils.misc.Predicate object at 0x7fc266694700>>,\n",
       "  '⊕',\n",
       "  <bound method Predicate.func of <utils.misc.Predicate object at 0x7fc266695cf0>>,\n",
       "  '⊕',\n",
       "  <bound method Predicate.func of <utils.misc.Predicate object at 0x7fc2666961d0>>,\n",
       "  '⊕',\n",
       "  <bound method Predicate.func of <utils.misc.Predicate object at 0x7fc2666968f0>>,\n",
       "  '⊕',\n",
       "  <bound method Predicate.func of <utils.misc.Predicate object at 0x7fc266698250>>],\n",
       " [<bound method Predicate.func of <utils.misc.Predicate object at 0x7fc2666863e0>>,\n",
       "  '⊕',\n",
       "  <bound method Predicate.func of <utils.misc.Predicate object at 0x7fc266bd3a30>>],\n",
       " [<bound method Predicate.func of <utils.misc.Predicate object at 0x7fc266684310>>,\n",
       "  '⊕',\n",
       "  <bound method Predicate.func of <utils.misc.Predicate object at 0x7fc2666870a0>>],\n",
       " [<bound method Predicate.func of <utils.misc.Predicate object at 0x7fc266695660>>,\n",
       "  '→',\n",
       "  '¬',\n",
       "  <bound method Predicate.func of <utils.misc.Predicate object at 0x7fc2666955a0>>],\n",
       " [<bound method Predicate.func of <utils.misc.Predicate object at 0x7fc2666955a0>>,\n",
       "  '→',\n",
       "  '¬',\n",
       "  <bound method Predicate.func of <utils.misc.Predicate object at 0x7fc266695660>>],\n",
       " [<bound method Predicate.func of <utils.misc.Predicate object at 0x7fc2666978b0>>,\n",
       "  '→',\n",
       "  '¬',\n",
       "  <bound method Predicate.func of <utils.misc.Predicate object at 0x7fc266695f60>>],\n",
       " [<bound method Predicate.func of <utils.misc.Predicate object at 0x7fc266695f60>>,\n",
       "  '→',\n",
       "  '¬',\n",
       "  <bound method Predicate.func of <utils.misc.Predicate object at 0x7fc2666978b0>>],\n",
       " [<bound method Predicate.func of <utils.misc.Predicate object at 0x7fc266697e50>>,\n",
       "  '→',\n",
       "  '¬',\n",
       "  <bound method Predicate.func of <utils.misc.Predicate object at 0x7fc266695f60>>],\n",
       " [<bound method Predicate.func of <utils.misc.Predicate object at 0x7fc2666978b0>>,\n",
       "  '→',\n",
       "  '¬',\n",
       "  <bound method Predicate.func of <utils.misc.Predicate object at 0x7fc266697e50>>],\n",
       " [<bound method Predicate.func of <utils.misc.Predicate object at 0x7fc266695f60>>,\n",
       "  '→',\n",
       "  '¬',\n",
       "  <bound method Predicate.func of <utils.misc.Predicate object at 0x7fc266697e50>>],\n",
       " [<bound method Predicate.func of <utils.misc.Predicate object at 0x7fc266697e50>>,\n",
       "  '→',\n",
       "  '¬',\n",
       "  <bound method Predicate.func of <utils.misc.Predicate object at 0x7fc2666978b0>>],\n",
       " [<bound method Predicate.func of <utils.misc.Predicate object at 0x7fc266695f60>>,\n",
       "  '→',\n",
       "  '¬',\n",
       "  <bound method Predicate.func of <utils.misc.Predicate object at 0x7fc266697e50>>],\n",
       " [<bound method Predicate.func of <utils.misc.Predicate object at 0x7fc266695f60>>,\n",
       "  '→',\n",
       "  '¬',\n",
       "  <bound method Predicate.func of <utils.misc.Predicate object at 0x7fc2666978b0>>],\n",
       " [<bound method Predicate.func of <utils.misc.Predicate object at 0x7fc266697e50>>,\n",
       "  '→',\n",
       "  '¬',\n",
       "  <bound method Predicate.func of <utils.misc.Predicate object at 0x7fc266695f60>>],\n",
       " [<bound method Predicate.func of <utils.misc.Predicate object at 0x7fc266697e50>>,\n",
       "  '→',\n",
       "  '¬',\n",
       "  <bound method Predicate.func of <utils.misc.Predicate object at 0x7fc2666978b0>>],\n",
       " [<bound method Predicate.func of <utils.misc.Predicate object at 0x7fc2666978b0>>,\n",
       "  '→',\n",
       "  '¬',\n",
       "  <bound method Predicate.func of <utils.misc.Predicate object at 0x7fc266697e50>>],\n",
       " [<bound method Predicate.func of <utils.misc.Predicate object at 0x7fc2666978b0>>,\n",
       "  '→',\n",
       "  '¬',\n",
       "  <bound method Predicate.func of <utils.misc.Predicate object at 0x7fc266695f60>>]]"
      ]
     },
     "execution_count": 67,
     "metadata": {},
     "output_type": "execute_result"
    }
   ],
   "source": [
    "predicates = []\n",
    "\n",
    "for formula in knowledge_base:\n",
    "    for item in formula:\n",
    "        if item not in symbols_1 and item not in predicates:\n",
    "            predicates.append(item)\n",
    "\n",
    "len_j = len(predicates)\n",
    "\n",
    "\n",
    "w_j = cp.Variable(shape=(len_j, 3))\n",
    "# xi_h = cp.Variable(shape=(len_h, 1), nonneg=True)\n",
    "\n",
    "predicates_dict = {predicate: Predicate(w_j[j, :]).func for j, predicate in enumerate(predicates)}\n",
    "\n",
    "display(predicates_dict['hair(x)'])\n",
    "display(predicates_dict.keys())\n",
    "\n",
    "knowledge_base_trans = []\n",
    "\n",
    "for formula in knowledge_base:\n",
    "    formula_trans = []\n",
    "\n",
    "    for item in formula:\n",
    "        if item in predicates_dict.keys():\n",
    "            formula_trans.append(predicates_dict[item])\n",
    "        else:\n",
    "            formula_trans.append(item)\n",
    "    \n",
    "    knowledge_base_trans.append(formula_trans)\n",
    "\n",
    "knowledge_base_trans   "
   ]
  },
  {
   "cell_type": "code",
   "execution_count": null,
   "metadata": {},
   "outputs": [],
   "source": []
  },
  {
   "cell_type": "code",
   "execution_count": null,
   "metadata": {},
   "outputs": [],
   "source": []
  },
  {
   "cell_type": "code",
   "execution_count": null,
   "metadata": {},
   "outputs": [],
   "source": []
  },
  {
   "cell_type": "code",
   "execution_count": 15,
   "metadata": {},
   "outputs": [
    {
     "data": {
      "text/plain": [
       "array([[0.1, 0.5],\n",
       "       [0.3, 0.7],\n",
       "       [0.5, 0.4],\n",
       "       [0.8, 0.3],\n",
       "       [0.9, 0.2],\n",
       "       [1. , 0.5]])"
      ]
     },
     "execution_count": 15,
     "metadata": {},
     "output_type": "execute_result"
    }
   ],
   "source": [
    "logical_constraints = []\n",
    "\n",
    "\n",
    "\n"
   ]
  },
  {
   "cell_type": "code",
   "execution_count": null,
   "metadata": {},
   "outputs": [],
   "source": []
  },
  {
   "cell_type": "code",
   "execution_count": null,
   "metadata": {},
   "outputs": [],
   "source": []
  }
 ],
 "metadata": {
  "kernelspec": {
   "display_name": "myenv",
   "language": "python",
   "name": "python3"
  },
  "language_info": {
   "codemirror_mode": {
    "name": "ipython",
    "version": 3
   },
   "file_extension": ".py",
   "mimetype": "text/x-python",
   "name": "python",
   "nbconvert_exporter": "python",
   "pygments_lexer": "ipython3",
   "version": "3.10.12"
  },
  "orig_nbformat": 4
 },
 "nbformat": 4,
 "nbformat_minor": 2
}
