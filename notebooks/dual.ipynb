{
 "cells": [
  {
   "cell_type": "code",
   "execution_count": 1,
   "metadata": {},
   "outputs": [],
   "source": [
    "%load_ext autoreload\n",
    "%autoreload 2"
   ]
  },
  {
   "cell_type": "code",
   "execution_count": 2,
   "metadata": {},
   "outputs": [],
   "source": [
    "import os\n",
    "import sys\n",
    "\n",
    "project_dir_path = '/Users/keisukeonoue/ws/lukasiewicz_1'\n",
    "sys.path.append(project_dir_path)\n",
    "\n",
    "import cvxpy as cp\n",
    "import numpy as np\n",
    "import pandas as pd \n",
    "\n",
    "from src.setup_problem_dual_single_task import Setup\n",
    "\n",
    "from src.objective_function_single_task import ObjectiveFunction\n",
    "from src.predicate import Predicate_dual"
   ]
  },
  {
   "cell_type": "code",
   "execution_count": 3,
   "metadata": {},
   "outputs": [],
   "source": [
    "data_dir_path = os.path.join(project_dir_path, 'inputs/pima_indian_diabetes_3/')\n",
    "train_data_dir_path = os.path.join(data_dir_path, \"train\")\n",
    "file_list = os.listdir(train_data_dir_path)\n",
    "\n",
    "L_files = [filename for filename in file_list \n",
    "           if filename.startswith('L') and filename.endswith('.csv')]\n",
    "\n",
    "U_files = [filename for filename in file_list \n",
    "           if filename.startswith('U') and filename.endswith('.csv')]\n",
    "\n",
    "file_names_dict = {\n",
    "    'supervised': L_files,\n",
    "    'unsupervised': U_files,\n",
    "    'rule': ['rules_3.txt']\n",
    "}\n",
    "\n",
    "train_data_dir_path = os.path.join(data_dir_path, \"train\")"
   ]
  },
  {
   "cell_type": "code",
   "execution_count": 4,
   "metadata": {},
   "outputs": [
    {
     "data": {
      "text/plain": [
       "'/Users/keisukeonoue/ws/lukasiewicz_1/inputs/pima_indian_diabetes_3/test/L_Outcome.csv'"
      ]
     },
     "execution_count": 4,
     "metadata": {},
     "output_type": "execute_result"
    }
   ],
   "source": [
    "train_data_file_path = os.path.join(data_dir_path, \"test/L_Outcome.csv\")\n",
    "train_data_file_path"
   ]
  },
  {
   "cell_type": "code",
   "execution_count": 13,
   "metadata": {},
   "outputs": [
    {
     "name": "stdout",
     "output_type": "stream",
     "text": [
      "load_data took 0.04875302314758301 seconds!\n",
      "load_rules took 0.011752843856811523 seconds!\n",
      "formulate_predicates_with_cvxpy took 8.606910705566406e-05 seconds!\n",
      "shape of P: (1807, 1807)\n",
      "finish l\n",
      "finish h\n",
      "finish s\n",
      "finish l h\n",
      "finish l s\n",
      "finish h s\n",
      "_construct_P_j took 1.0839200019836426 seconds!\n",
      "construct_constraints took 0.0933678150177002 seconds!\n",
      "===============================================================================\n",
      "                                     CVXPY                                     \n",
      "                                     v1.3.2                                    \n",
      "===============================================================================\n",
      "(CVXPY) Feb 02 03:36:53 PM: Your problem has 36756 variables, 1257 constraints, and 0 parameters.\n"
     ]
    },
    {
     "name": "stderr",
     "output_type": "stream",
     "text": [
      "/Users/keisukeonoue/ws/lukasiewicz_1/myenv/lib/python3.11/site-packages/cvxpy/problems/problem.py:157: UserWarning: Objective contains too many subexpressions. Consider vectorizing your CVXPY code to speed up compilation.\n",
      "  warnings.warn(\"Objective contains too many subexpressions. \"\n",
      "/Users/keisukeonoue/ws/lukasiewicz_1/myenv/lib/python3.11/site-packages/cvxpy/problems/problem.py:163: UserWarning: Constraint #0 contains too many subexpressions. Consider vectorizing your CVXPY code to speed up compilation.\n",
      "  warnings.warn(f\"Constraint #{i} contains too many subexpressions. \"\n"
     ]
    },
    {
     "name": "stdout",
     "output_type": "stream",
     "text": [
      "(CVXPY) Feb 02 03:36:53 PM: It is compliant with the following grammars: DCP, DQCP\n",
      "(CVXPY) Feb 02 03:36:53 PM: (If you need to solve this problem multiple times, but with different data, consider using parameters.)\n",
      "(CVXPY) Feb 02 03:36:53 PM: CVXPY will first compile your problem; then, it will invoke a numerical solver to obtain a solution.\n",
      "-------------------------------------------------------------------------------\n",
      "                                  Compilation                                  \n",
      "-------------------------------------------------------------------------------\n",
      "(CVXPY) Feb 02 03:36:54 PM: Compiling problem (target solver=OSQP).\n",
      "(CVXPY) Feb 02 03:36:54 PM: Reduction chain: FlipObjective -> CvxAttr2Constr -> Qp2SymbolicQp -> QpMatrixStuffing -> OSQP\n",
      "(CVXPY) Feb 02 03:36:54 PM: Applying reduction FlipObjective\n",
      "(CVXPY) Feb 02 03:36:54 PM: Applying reduction CvxAttr2Constr\n",
      "(CVXPY) Feb 02 03:36:54 PM: Applying reduction Qp2SymbolicQp\n"
     ]
    },
    {
     "name": "stderr",
     "output_type": "stream",
     "text": [
      "/Users/keisukeonoue/ws/lukasiewicz_1/myenv/lib/python3.11/site-packages/cvxpy/problems/problem.py:163: UserWarning: Constraint #4 contains too many subexpressions. Consider vectorizing your CVXPY code to speed up compilation.\n",
      "  warnings.warn(f\"Constraint #{i} contains too many subexpressions. \"\n"
     ]
    },
    {
     "name": "stdout",
     "output_type": "stream",
     "text": [
      "(CVXPY) Feb 02 03:36:54 PM: Applying reduction QpMatrixStuffing\n"
     ]
    },
    {
     "name": "stderr",
     "output_type": "stream",
     "text": [
      "/Users/keisukeonoue/ws/lukasiewicz_1/myenv/lib/python3.11/site-packages/cvxpy/problems/problem.py:163: UserWarning: Constraint #5 contains too many subexpressions. Consider vectorizing your CVXPY code to speed up compilation.\n",
      "  warnings.warn(f\"Constraint #{i} contains too many subexpressions. \"\n"
     ]
    },
    {
     "name": "stdout",
     "output_type": "stream",
     "text": [
      "(CVXPY) Feb 02 03:36:59 PM: Applying reduction OSQP\n",
      "(CVXPY) Feb 02 03:36:59 PM: Finished problem compilation (took 5.607e+00 seconds).\n",
      "-------------------------------------------------------------------------------\n",
      "                                Numerical solver                               \n",
      "-------------------------------------------------------------------------------\n",
      "(CVXPY) Feb 02 03:36:59 PM: Invoking solver OSQP  to obtain a solution.\n",
      "-----------------------------------------------------------------\n",
      "           OSQP v0.6.3  -  Operator Splitting QP Solver\n",
      "              (c) Bartolomeo Stellato,  Goran Banjac\n",
      "        University of Oxford  -  Stanford University 2021\n",
      "-----------------------------------------------------------------\n",
      "problem:  variables n = 38563, constraints m = 39820\n",
      "          nnz(P) + nnz(A) = 1092163\n",
      "settings: linear system solver = qdldl,\n",
      "          eps_abs = 1.0e-05, eps_rel = 1.0e-05,\n",
      "          eps_prim_inf = 1.0e-04, eps_dual_inf = 1.0e-04,\n",
      "          rho = 1.00e-01 (adaptive),\n",
      "          sigma = 1.00e-06, alpha = 1.60, max_iter = 10000\n",
      "          check_termination: on (interval 25),\n",
      "          scaling: on, scaled_termination: off\n",
      "          warm start: on, polish: on, time_limit: off\n",
      "\n",
      "iter   objective    pri res    dua res    rho        time\n",
      "   1  -3.8982e+03   8.27e+00   1.65e+00   1.00e-01   4.13e-01s\n",
      " 200  -3.2980e+04   1.48e+00   4.32e-01   1.69e-02   1.21e+00s\n",
      " 400  -3.5053e+04   1.18e-01   7.26e-03   2.32e-03   2.03e+00s\n",
      " 600  -3.5085e+04   6.33e-02   8.72e-04   4.02e-04   2.81e+00s\n",
      " 800  -3.5088e+04   5.51e-02   5.33e-04   4.02e-04   3.34e+00s\n",
      "1000  -3.5090e+04   7.97e-03   3.80e-04   4.02e-04   3.86e+00s\n",
      "1200  -3.5090e+04   3.37e-03   3.01e-04   4.02e-04   4.41e+00s\n",
      "1400  -3.5087e+04   2.28e-02   1.40e-04   7.90e-05   5.26e+00s\n",
      "1600  -3.5089e+04   9.89e-03   6.45e-05   7.90e-05   5.77e+00s\n",
      "1700  -3.5089e+04   3.09e-03   5.02e-05   7.90e-05   6.04e+00s\n",
      "\n",
      "status:               solved\n",
      "solution polish:      unsuccessful\n",
      "number of iterations: 1700\n",
      "optimal objective:    -35089.0833\n",
      "run time:             6.35e+00s\n",
      "optimal rho estimate: 4.92e-05\n",
      "\n",
      "-------------------------------------------------------------------------------\n",
      "                                    Summary                                    \n",
      "-------------------------------------------------------------------------------\n",
      "(CVXPY) Feb 02 03:37:06 PM: Problem status: optimal\n",
      "(CVXPY) Feb 02 03:37:06 PM: Optimal value: 3.509e+04\n",
      "(CVXPY) Feb 02 03:37:06 PM: Compilation took 5.607e+00 seconds\n",
      "(CVXPY) Feb 02 03:37:06 PM: Solver (including time spent in interface) took 6.398e+00 seconds\n"
     ]
    }
   ],
   "source": [
    "problem_instance = Setup(\n",
    "    train_data_dir_path, \n",
    "    file_names_dict, \n",
    "    ObjectiveFunction, \n",
    "    'Outcome', \n",
    "    c1=100, \n",
    "    c2=10\n",
    ")\n",
    "\n",
    "objective, constraints = problem_instance.main()\n",
    "problem = cp.Problem(objective, constraints)\n",
    "result = problem.solve(verbose=True)"
   ]
  },
  {
   "cell_type": "code",
   "execution_count": 14,
   "metadata": {},
   "outputs": [
    {
     "name": "stderr",
     "output_type": "stream",
     "text": [
      "[I 2024-02-02 15:37:06,135] A new study created in memory with name: no-name-7cb8d2a9-3c6b-4da3-9a4a-963117df9722\n",
      "[I 2024-02-02 15:37:06,148] Trial 0 finished with value: 0.0 and parameters: {'b': -2.0599584550325094}. Best is trial 0 with value: 0.0.\n",
      "[I 2024-02-02 15:37:06,160] Trial 1 finished with value: 0.49014084507042255 and parameters: {'b': 1.0469742681321552}. Best is trial 1 with value: 0.49014084507042255.\n",
      "[I 2024-02-02 15:37:06,195] Trial 2 finished with value: 0.0 and parameters: {'b': -2.842114305492532}. Best is trial 1 with value: 0.49014084507042255.\n"
     ]
    },
    {
     "name": "stdout",
     "output_type": "stream",
     "text": [
      "\n",
      "min_bound: -3.0379200005446068\n",
      "max_bound: 1.9620799994553935\n",
      "\n"
     ]
    },
    {
     "name": "stderr",
     "output_type": "stream",
     "text": [
      "[I 2024-02-02 15:37:06,209] Trial 3 finished with value: 0.49014084507042255 and parameters: {'b': 1.531871722373995}. Best is trial 1 with value: 0.49014084507042255.\n",
      "[I 2024-02-02 15:37:06,257] Trial 4 finished with value: 0.0 and parameters: {'b': -2.5049926990289113}. Best is trial 1 with value: 0.49014084507042255.\n",
      "[I 2024-02-02 15:37:06,275] Trial 5 finished with value: 0.6 and parameters: {'b': 0.3028434421772146}. Best is trial 5 with value: 0.6.\n",
      "[I 2024-02-02 15:37:06,361] Trial 6 finished with value: 0.49014084507042255 and parameters: {'b': 0.6753844006576153}. Best is trial 5 with value: 0.6.\n",
      "[I 2024-02-02 15:37:06,387] Trial 7 finished with value: 0.0 and parameters: {'b': -1.988467873115833}. Best is trial 5 with value: 0.6.\n",
      "[I 2024-02-02 15:37:06,410] Trial 8 finished with value: 0.0 and parameters: {'b': -0.24668609906630445}. Best is trial 5 with value: 0.6.\n",
      "[I 2024-02-02 15:37:06,424] Trial 9 finished with value: 0.49014084507042255 and parameters: {'b': 0.866030199421127}. Best is trial 5 with value: 0.6.\n",
      "[I 2024-02-02 15:37:06,453] Trial 10 finished with value: 0.0 and parameters: {'b': -0.7240377751362699}. Best is trial 5 with value: 0.6.\n",
      "[I 2024-02-02 15:37:06,473] Trial 11 finished with value: 0.49014084507042255 and parameters: {'b': 1.907158686217036}. Best is trial 5 with value: 0.6.\n",
      "[I 2024-02-02 15:37:06,490] Trial 12 finished with value: 0.0 and parameters: {'b': -0.09845009510593627}. Best is trial 5 with value: 0.6.\n",
      "[I 2024-02-02 15:37:06,508] Trial 13 finished with value: 0.49014084507042255 and parameters: {'b': 0.635770697740928}. Best is trial 5 with value: 0.6.\n",
      "[I 2024-02-02 15:37:06,523] Trial 14 finished with value: 0.0 and parameters: {'b': -1.0213512172962003}. Best is trial 5 with value: 0.6.\n",
      "[I 2024-02-02 15:37:06,539] Trial 15 finished with value: 0.49014084507042255 and parameters: {'b': 1.0843775620256022}. Best is trial 5 with value: 0.6.\n",
      "[I 2024-02-02 15:37:06,555] Trial 16 finished with value: 0.0 and parameters: {'b': 0.11132358550979865}. Best is trial 5 with value: 0.6.\n",
      "[I 2024-02-02 15:37:06,567] Trial 17 finished with value: 0.0 and parameters: {'b': -1.2716946844236094}. Best is trial 5 with value: 0.6.\n",
      "[I 2024-02-02 15:37:06,594] Trial 18 finished with value: 0.5481927710843374 and parameters: {'b': 0.281925687468085}. Best is trial 5 with value: 0.6.\n",
      "[I 2024-02-02 15:37:06,633] Trial 19 finished with value: 0.4659498207885304 and parameters: {'b': 0.25711172757181217}. Best is trial 5 with value: 0.6.\n",
      "[I 2024-02-02 15:37:06,657] Trial 20 finished with value: 0.0 and parameters: {'b': -0.571525240611261}. Best is trial 5 with value: 0.6.\n",
      "[I 2024-02-02 15:37:06,689] Trial 21 finished with value: 0.49014084507042255 and parameters: {'b': 1.1274315999329585}. Best is trial 5 with value: 0.6.\n",
      "[I 2024-02-02 15:37:06,707] Trial 22 finished with value: 0.49014084507042255 and parameters: {'b': 1.6769816409990108}. Best is trial 5 with value: 0.6.\n",
      "[I 2024-02-02 15:37:06,726] Trial 23 finished with value: 0.49502133712660024 and parameters: {'b': 0.4250936648340655}. Best is trial 5 with value: 0.6.\n",
      "[I 2024-02-02 15:37:06,744] Trial 24 finished with value: 0.5562913907284768 and parameters: {'b': 0.3708766570354471}. Best is trial 5 with value: 0.6.\n",
      "[I 2024-02-02 15:37:06,760] Trial 25 finished with value: 0.0 and parameters: {'b': -0.22542490098831047}. Best is trial 5 with value: 0.6.\n",
      "[I 2024-02-02 15:37:06,780] Trial 26 finished with value: 0.6356275303643724 and parameters: {'b': 0.3332233591374254}. Best is trial 26 with value: 0.6356275303643724.\n",
      "[I 2024-02-02 15:37:06,806] Trial 27 finished with value: 0.0 and parameters: {'b': -1.3635553954721185}. Best is trial 26 with value: 0.6356275303643724.\n",
      "[I 2024-02-02 15:37:06,831] Trial 28 finished with value: 0.0 and parameters: {'b': -0.4397859872728361}. Best is trial 26 with value: 0.6356275303643724.\n",
      "[I 2024-02-02 15:37:06,856] Trial 29 finished with value: 0.49014084507042255 and parameters: {'b': 1.3241451461053741}. Best is trial 26 with value: 0.6356275303643724.\n",
      "[I 2024-02-02 15:37:06,894] Trial 30 finished with value: 0.49014084507042255 and parameters: {'b': 0.6704698594692575}. Best is trial 26 with value: 0.6356275303643724.\n",
      "[I 2024-02-02 15:37:06,918] Trial 31 finished with value: 0.16494845360824742 and parameters: {'b': 0.1956938347016432}. Best is trial 26 with value: 0.6356275303643724.\n",
      "[I 2024-02-02 15:37:06,932] Trial 32 finished with value: 0.49291784702549574 and parameters: {'b': 0.4311437691102693}. Best is trial 26 with value: 0.6356275303643724.\n",
      "[I 2024-02-02 15:37:06,972] Trial 33 finished with value: 0.0 and parameters: {'b': -0.002815642893972181}. Best is trial 26 with value: 0.6356275303643724.\n",
      "[I 2024-02-02 15:37:06,991] Trial 34 finished with value: 0.49014084507042255 and parameters: {'b': 0.8439524043840014}. Best is trial 26 with value: 0.6356275303643724.\n",
      "[I 2024-02-02 15:37:07,014] Trial 35 finished with value: 0.0 and parameters: {'b': -0.8313307767627806}. Best is trial 26 with value: 0.6356275303643724.\n",
      "[I 2024-02-02 15:37:07,135] Trial 36 finished with value: 0.49014084507042255 and parameters: {'b': 0.4666458049121121}. Best is trial 26 with value: 0.6356275303643724.\n",
      "[I 2024-02-02 15:37:07,152] Trial 37 finished with value: 0.0 and parameters: {'b': -0.29896155711928507}. Best is trial 26 with value: 0.6356275303643724.\n",
      "[I 2024-02-02 15:37:07,174] Trial 38 finished with value: 0.49014084507042255 and parameters: {'b': 1.456366358118077}. Best is trial 26 with value: 0.6356275303643724.\n",
      "[I 2024-02-02 15:37:07,200] Trial 39 finished with value: 0.49014084507042255 and parameters: {'b': 0.8658441422699695}. Best is trial 26 with value: 0.6356275303643724.\n",
      "[I 2024-02-02 15:37:07,222] Trial 40 finished with value: 0.4581818181818182 and parameters: {'b': 0.2524999163771411}. Best is trial 26 with value: 0.6356275303643724.\n",
      "[I 2024-02-02 15:37:07,282] Trial 41 finished with value: 0.4964336661911556 and parameters: {'b': 0.4230011569295521}. Best is trial 26 with value: 0.6356275303643724.\n",
      "[I 2024-02-02 15:37:07,308] Trial 42 finished with value: 0.0 and parameters: {'b': 0.0539561138221073}. Best is trial 26 with value: 0.6356275303643724.\n",
      "[I 2024-02-02 15:37:07,327] Trial 43 finished with value: 0.49014084507042255 and parameters: {'b': 0.47903079758885025}. Best is trial 26 with value: 0.6356275303643724.\n",
      "[I 2024-02-02 15:37:07,343] Trial 44 finished with value: 0.49014084507042255 and parameters: {'b': 1.2232695467259904}. Best is trial 26 with value: 0.6356275303643724.\n",
      "[I 2024-02-02 15:37:07,357] Trial 45 finished with value: 0.49014084507042255 and parameters: {'b': 0.8809844745251236}. Best is trial 26 with value: 0.6356275303643724.\n",
      "[I 2024-02-02 15:37:07,371] Trial 46 finished with value: 0.0 and parameters: {'b': -0.1216472560591389}. Best is trial 26 with value: 0.6356275303643724.\n",
      "[I 2024-02-02 15:37:07,396] Trial 47 finished with value: 0.0 and parameters: {'b': -2.636283512960338}. Best is trial 26 with value: 0.6356275303643724.\n",
      "[I 2024-02-02 15:37:07,412] Trial 48 finished with value: 0.0 and parameters: {'b': -0.5960523277035156}. Best is trial 26 with value: 0.6356275303643724.\n",
      "[I 2024-02-02 15:37:07,423] Trial 49 finished with value: 0.49014084507042255 and parameters: {'b': 0.6816843082367612}. Best is trial 26 with value: 0.6356275303643724.\n",
      "[I 2024-02-02 15:37:07,446] Trial 50 finished with value: 0.0 and parameters: {'b': -0.32572205540474475}. Best is trial 26 with value: 0.6356275303643724.\n",
      "[I 2024-02-02 15:37:07,472] Trial 51 finished with value: 0.6345381526104418 and parameters: {'b': 0.33513966044021315}. Best is trial 26 with value: 0.6356275303643724.\n",
      "[I 2024-02-02 15:37:07,497] Trial 52 finished with value: 0.5952813067150635 and parameters: {'b': 0.3500380248294204}. Best is trial 26 with value: 0.6356275303643724.\n",
      "[I 2024-02-02 15:37:07,512] Trial 53 finished with value: 0.022727272727272724 and parameters: {'b': 0.14139617100525548}. Best is trial 26 with value: 0.6356275303643724.\n",
      "[I 2024-02-02 15:37:07,527] Trial 54 finished with value: 0.0 and parameters: {'b': -0.046994608901964774}. Best is trial 26 with value: 0.6356275303643724.\n",
      "[I 2024-02-02 15:37:07,562] Trial 55 finished with value: 0.49014084507042255 and parameters: {'b': 0.9462804281712869}. Best is trial 26 with value: 0.6356275303643724.\n",
      "[I 2024-02-02 15:37:07,576] Trial 56 finished with value: 0.49014084507042255 and parameters: {'b': 0.5626512885650883}. Best is trial 26 with value: 0.6356275303643724.\n",
      "[I 2024-02-02 15:37:07,593] Trial 57 finished with value: 0.0 and parameters: {'b': -1.8404321201668306}. Best is trial 26 with value: 0.6356275303643724.\n",
      "[I 2024-02-02 15:37:07,611] Trial 58 finished with value: 0.44194756554307113 and parameters: {'b': 0.24853934923881263}. Best is trial 26 with value: 0.6356275303643724.\n",
      "[I 2024-02-02 15:37:07,641] Trial 59 finished with value: 0.6326963906581742 and parameters: {'b': 0.325993431930587}. Best is trial 26 with value: 0.6356275303643724.\n",
      "[I 2024-02-02 15:37:07,682] Trial 60 finished with value: 0.49014084507042255 and parameters: {'b': 0.7826122035536478}. Best is trial 26 with value: 0.6356275303643724.\n",
      "[I 2024-02-02 15:37:07,762] Trial 61 finished with value: 0.5276872964169381 and parameters: {'b': 0.2721958813055137}. Best is trial 26 with value: 0.6356275303643724.\n",
      "[I 2024-02-02 15:37:07,828] Trial 62 finished with value: 0.0 and parameters: {'b': -0.14883166363253802}. Best is trial 26 with value: 0.6356275303643724.\n",
      "[I 2024-02-02 15:37:07,848] Trial 63 finished with value: 0.0 and parameters: {'b': -3.030915332753339}. Best is trial 26 with value: 0.6356275303643724.\n",
      "[I 2024-02-02 15:37:07,858] Trial 64 finished with value: 0.49014084507042255 and parameters: {'b': 1.0495734341009517}. Best is trial 26 with value: 0.6356275303643724.\n",
      "[I 2024-02-02 15:37:07,873] Trial 65 finished with value: 0.5572139303482587 and parameters: {'b': 0.3697309243374128}. Best is trial 26 with value: 0.6356275303643724.\n",
      "[I 2024-02-02 15:37:07,912] Trial 66 finished with value: 0.49014084507042255 and parameters: {'b': 0.6404184333707277}. Best is trial 26 with value: 0.6356275303643724.\n",
      "[I 2024-02-02 15:37:07,922] Trial 67 finished with value: 0.5178571428571429 and parameters: {'b': 0.3957735746229569}. Best is trial 26 with value: 0.6356275303643724.\n",
      "[I 2024-02-02 15:37:07,945] Trial 68 finished with value: 0.0 and parameters: {'b': 0.004410667733013074}. Best is trial 26 with value: 0.6356275303643724.\n",
      "[I 2024-02-02 15:37:07,975] Trial 69 finished with value: 0.0 and parameters: {'b': -0.33639639221013257}. Best is trial 26 with value: 0.6356275303643724.\n",
      "[I 2024-02-02 15:37:07,989] Trial 70 finished with value: 0.011428571428571429 and parameters: {'b': 0.13479474467153235}. Best is trial 26 with value: 0.6356275303643724.\n",
      "[I 2024-02-02 15:37:08,022] Trial 71 finished with value: 0.6294820717131475 and parameters: {'b': 0.3364466682485633}. Best is trial 26 with value: 0.6356275303643724.\n",
      "[I 2024-02-02 15:37:08,059] Trial 72 finished with value: 0.49014084507042255 and parameters: {'b': 0.5728208408086871}. Best is trial 26 with value: 0.6356275303643724.\n",
      "[I 2024-02-02 15:37:08,122] Trial 73 finished with value: 0.49014084507042255 and parameters: {'b': 0.7466894133251571}. Best is trial 26 with value: 0.6356275303643724.\n",
      "[I 2024-02-02 15:37:08,176] Trial 74 finished with value: 0.636568848758465 and parameters: {'b': 0.31846954993137705}. Best is trial 74 with value: 0.636568848758465.\n",
      "[I 2024-02-02 15:37:08,192] Trial 75 finished with value: 0.6159844054580897 and parameters: {'b': 0.34097230811485224}. Best is trial 74 with value: 0.636568848758465.\n",
      "[I 2024-02-02 15:37:08,212] Trial 76 finished with value: 0.0 and parameters: {'b': -0.48912173200908093}. Best is trial 74 with value: 0.636568848758465.\n",
      "[I 2024-02-02 15:37:08,307] Trial 77 finished with value: 0.0 and parameters: {'b': 0.0340026948043744}. Best is trial 74 with value: 0.636568848758465.\n",
      "[I 2024-02-02 15:37:08,342] Trial 78 finished with value: 0.49014084507042255 and parameters: {'b': 0.5330465231379957}. Best is trial 74 with value: 0.636568848758465.\n",
      "[I 2024-02-02 15:37:08,362] Trial 79 finished with value: 0.0 and parameters: {'b': -0.18660623217868316}. Best is trial 74 with value: 0.636568848758465.\n",
      "[I 2024-02-02 15:37:08,373] Trial 80 finished with value: 0.0449438202247191 and parameters: {'b': 0.1501892517279877}. Best is trial 74 with value: 0.636568848758465.\n",
      "[I 2024-02-02 15:37:08,395] Trial 81 finished with value: 0.6419213973799127 and parameters: {'b': 0.3236976378776455}. Best is trial 81 with value: 0.6419213973799127.\n",
      "[I 2024-02-02 15:37:08,407] Trial 82 finished with value: 0.636568848758465 and parameters: {'b': 0.3183440048561608}. Best is trial 81 with value: 0.6419213973799127.\n",
      "[I 2024-02-02 15:37:08,423] Trial 83 finished with value: 0.49014084507042255 and parameters: {'b': 0.546106628507098}. Best is trial 81 with value: 0.6419213973799127.\n",
      "[I 2024-02-02 15:37:08,459] Trial 84 finished with value: 0.48965517241379314 and parameters: {'b': 0.2609123821449109}. Best is trial 81 with value: 0.6419213973799127.\n",
      "[I 2024-02-02 15:37:08,472] Trial 85 finished with value: 0.0 and parameters: {'b': 0.06852902589190654}. Best is trial 81 with value: 0.6419213973799127.\n",
      "[I 2024-02-02 15:37:08,512] Trial 86 finished with value: 0.49014084507042255 and parameters: {'b': 0.9431151423637694}. Best is trial 81 with value: 0.6419213973799127.\n",
      "[I 2024-02-02 15:37:08,540] Trial 87 finished with value: 0.49014084507042255 and parameters: {'b': 0.6960028102214032}. Best is trial 81 with value: 0.6419213973799127.\n",
      "[I 2024-02-02 15:37:08,556] Trial 88 finished with value: 0.0 and parameters: {'b': -0.11494922681843445}. Best is trial 81 with value: 0.6419213973799127.\n",
      "[I 2024-02-02 15:37:08,628] Trial 89 finished with value: 0.0 and parameters: {'b': -0.8771251099622991}. Best is trial 81 with value: 0.6419213973799127.\n",
      "[I 2024-02-02 15:37:08,651] Trial 90 finished with value: 0.49014084507042255 and parameters: {'b': 1.928822011241322}. Best is trial 81 with value: 0.6419213973799127.\n",
      "[I 2024-02-02 15:37:08,669] Trial 91 finished with value: 0.5007194244604317 and parameters: {'b': 0.4110948617471296}. Best is trial 81 with value: 0.6419213973799127.\n",
      "[I 2024-02-02 15:37:08,693] Trial 92 finished with value: 0.6265560165975104 and parameters: {'b': 0.33000550511882826}. Best is trial 81 with value: 0.6419213973799127.\n",
      "[I 2024-02-02 15:37:08,701] Trial 93 finished with value: 0.17435897435897435 and parameters: {'b': 0.19659962840009898}. Best is trial 81 with value: 0.6419213973799127.\n",
      "[I 2024-02-02 15:37:08,738] Trial 94 finished with value: 0.49014084507042255 and parameters: {'b': 0.4889238920574225}. Best is trial 81 with value: 0.6419213973799127.\n",
      "[I 2024-02-02 15:37:08,777] Trial 95 finished with value: 0.6162790697674418 and parameters: {'b': 0.34224219602914935}. Best is trial 81 with value: 0.6419213973799127.\n",
      "[I 2024-02-02 15:37:08,791] Trial 96 finished with value: 0.6116504854368933 and parameters: {'b': 0.3102213102030722}. Best is trial 81 with value: 0.6419213973799127.\n",
      "[I 2024-02-02 15:37:08,804] Trial 97 finished with value: 0.49014084507042255 and parameters: {'b': 1.221247239555898}. Best is trial 81 with value: 0.6419213973799127.\n",
      "[I 2024-02-02 15:37:08,856] Trial 98 finished with value: 0.49014084507042255 and parameters: {'b': 0.8011196279759156}. Best is trial 81 with value: 0.6419213973799127.\n",
      "[I 2024-02-02 15:37:08,874] Trial 99 finished with value: 0.0 and parameters: {'b': 0.10629711839237033}. Best is trial 81 with value: 0.6419213973799127.\n"
     ]
    }
   ],
   "source": [
    "p_trained = Predicate_dual(\n",
    "    problem_instance, \n",
    "    'Outcome', \n",
    "    opt_iter_num=100\n",
    ")"
   ]
  },
  {
   "cell_type": "code",
   "execution_count": 15,
   "metadata": {},
   "outputs": [
    {
     "data": {
      "text/plain": [
       "array([0.00996556, 0.08746423, 0.0659938 , 0.05620022, 0.06266074,\n",
       "       0.06755724, 0.16267144, 0.32369764])"
      ]
     },
     "execution_count": 15,
     "metadata": {},
     "output_type": "execute_result"
    }
   ],
   "source": [
    "p_trained.coeff"
   ]
  },
  {
   "cell_type": "code",
   "execution_count": 16,
   "metadata": {},
   "outputs": [],
   "source": [
    "data = pd.read_csv(train_data_file_path, index_col=0)\n",
    "X_test, y_test = data.drop(['target'], axis=1), data['target']"
   ]
  },
  {
   "cell_type": "code",
   "execution_count": 10,
   "metadata": {},
   "outputs": [
    {
     "data": {
      "text/plain": [
       "array([0.46785932, 0.658669  , 0.49450169, 0.44392991, 0.48052787,\n",
       "       0.54267167, 0.51886198, 0.44814415, 0.47353835, 0.47179801,\n",
       "       0.43183572, 0.52705426, 0.54992373, 0.4418774 , 0.50478772,\n",
       "       0.4889475 , 0.56520235, 0.56244081, 0.47181709, 0.40668936,\n",
       "       0.51955155, 0.43245868, 0.42172912, 0.51664866, 0.44544751,\n",
       "       0.47113425, 0.49554917, 0.56016267, 0.4150638 , 0.56614094,\n",
       "       0.56792038, 0.49132765, 0.61633114, 0.55475801, 0.55742353,\n",
       "       0.47270124, 0.4308062 , 0.52074726, 0.59310177, 0.601718  ,\n",
       "       0.5681635 , 0.66401367, 0.58121154, 0.4497453 , 0.49155976,\n",
       "       0.66369387, 0.54578115, 0.54384851, 0.61984787, 0.58326161,\n",
       "       0.49382717, 0.5190824 , 0.48588591, 0.59266427, 0.5449116 ,\n",
       "       0.52225696, 0.51288728, 0.49195482, 0.5353671 , 0.54690472,\n",
       "       0.47116794, 0.43704926, 0.51104565, 0.55642685, 0.55768255,\n",
       "       0.62318222, 0.54565819, 0.48410711, 0.57809173, 0.45653944,\n",
       "       0.51449   , 0.50328902, 0.45041228, 0.5610173 , 0.5942225 ,\n",
       "       0.57270678, 0.52645699, 0.65899054, 0.46888584, 0.58916079,\n",
       "       0.55479194, 0.67152521, 0.40766535, 0.44094501, 0.56733833,\n",
       "       0.51023231, 0.46548269, 0.55727988, 0.5043669 , 0.67113777,\n",
       "       0.57096754, 0.62127233, 0.48783675, 0.49128913, 0.52755707,\n",
       "       0.46513298, 0.60391517, 0.62619559, 0.52013195, 0.49761194,\n",
       "       0.48146172, 0.59339401, 0.5182437 , 0.5243865 , 0.46830346,\n",
       "       0.43755966, 0.3873381 , 0.43079275, 0.45306824, 0.5185849 ,\n",
       "       0.43561261, 0.41670653, 0.48091325, 0.51993588, 0.50047785,\n",
       "       0.42181552, 0.49427554, 0.46832164, 0.62034121, 0.46096791,\n",
       "       0.43534052, 0.56246535, 0.59551207, 0.55738977, 0.53014488,\n",
       "       0.60365711, 0.57138076, 0.48547355, 0.44968589, 0.41056301,\n",
       "       0.71205669, 0.54981395, 0.52243641, 0.6201712 ])"
      ]
     },
     "execution_count": 10,
     "metadata": {},
     "output_type": "execute_result"
    }
   ],
   "source": [
    "y_pred = p_trained(X_test)\n",
    "y_pred"
   ]
  },
  {
   "cell_type": "code",
   "execution_count": 17,
   "metadata": {},
   "outputs": [
    {
     "data": {
      "text/plain": [
       "array([-1,  1, -1, -1, -1,  1,  1, -1, -1, -1, -1,  1,  1, -1,  1, -1,  1,\n",
       "        1, -1, -1,  1, -1, -1,  1, -1, -1, -1,  1, -1,  1,  1, -1,  1,  1,\n",
       "        1, -1, -1,  1,  1,  1,  1,  1,  1, -1, -1,  1,  1,  1,  1,  1, -1,\n",
       "        1, -1,  1,  1,  1,  1, -1,  1,  1, -1, -1,  1,  1,  1,  1,  1, -1,\n",
       "        1, -1,  1,  1, -1,  1,  1,  1,  1,  1, -1,  1,  1,  1, -1, -1,  1,\n",
       "        1, -1,  1,  1,  1,  1,  1, -1, -1,  1, -1,  1,  1,  1, -1, -1,  1,\n",
       "        1,  1, -1, -1, -1, -1, -1,  1, -1, -1, -1,  1,  1, -1, -1, -1,  1,\n",
       "       -1, -1,  1,  1,  1,  1,  1,  1, -1, -1, -1,  1,  1,  1,  1])"
      ]
     },
     "execution_count": 17,
     "metadata": {},
     "output_type": "execute_result"
    }
   ],
   "source": [
    "y_pred_interpreted = np.where(y_pred >= 0.5, 1, -1)\n",
    "y_pred_interpreted"
   ]
  },
  {
   "cell_type": "code",
   "execution_count": 18,
   "metadata": {},
   "outputs": [
    {
     "name": "stdout",
     "output_type": "stream",
     "text": [
      "accuracy: 0.7014925373134329\n",
      "precision: 0.5256410256410257\n",
      "recall: 0.9318181818181818\n",
      "f1: 0.6721311475409836\n",
      "auc: 0.7603535353535353\n"
     ]
    }
   ],
   "source": [
    "from sklearn.metrics import accuracy_score\n",
    "from sklearn.metrics import precision_score\n",
    "from sklearn.metrics import recall_score\n",
    "from sklearn.metrics import f1_score\n",
    "from sklearn.metrics import roc_auc_score\n",
    "\n",
    "from sklearn.metrics import confusion_matrix\n",
    "\n",
    "\n",
    "acc = accuracy_score(y_test, y_pred_interpreted)\n",
    "pre = precision_score(y_test, y_pred_interpreted)\n",
    "rec = recall_score(y_test, y_pred_interpreted)\n",
    "f1  = f1_score(y_test, y_pred_interpreted)\n",
    "auc = roc_auc_score(y_test, y_pred_interpreted)\n",
    "\n",
    "print(f'accuracy: {acc}')\n",
    "print(f'precision: {pre}')\n",
    "print(f'recall: {rec}')\n",
    "print(f'f1: {f1}')\n",
    "print(f'auc: {auc}')"
   ]
  },
  {
   "cell_type": "code",
   "execution_count": null,
   "metadata": {},
   "outputs": [],
   "source": []
  },
  {
   "cell_type": "code",
   "execution_count": null,
   "metadata": {},
   "outputs": [],
   "source": []
  },
  {
   "cell_type": "code",
   "execution_count": null,
   "metadata": {},
   "outputs": [],
   "source": []
  }
 ],
 "metadata": {
  "kernelspec": {
   "display_name": "myenv",
   "language": "python",
   "name": "python3"
  },
  "language_info": {
   "codemirror_mode": {
    "name": "ipython",
    "version": 3
   },
   "file_extension": ".py",
   "mimetype": "text/x-python",
   "name": "python",
   "nbconvert_exporter": "python",
   "pygments_lexer": "ipython3",
   "version": "3.11.6"
  }
 },
 "nbformat": 4,
 "nbformat_minor": 2
}
