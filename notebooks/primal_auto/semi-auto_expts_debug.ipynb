{
 "cells": [
  {
   "cell_type": "code",
   "execution_count": 1,
   "metadata": {},
   "outputs": [],
   "source": [
    "%load_ext autoreload\n",
    "%autoreload 2\n",
    "\n",
    "from utils.setup_problem import Setup\n",
    "from utils.misc import boundary_equation_2d\n",
    "from utils.misc import visualize_result\n",
    "\n",
    "import numpy as np\n",
    "import pandas as pd\n",
    "import cvxpy as cp\n",
    "\n",
    "import matplotlib.pyplot as plt \n",
    "%matplotlib inline"
   ]
  },
  {
   "cell_type": "code",
   "execution_count": 2,
   "metadata": {},
   "outputs": [],
   "source": [
    "file_names_dict = {\n",
    "    'supervised': ['L1', 'L2', 'L3'],\n",
    "    'unsupervised': ['U'],\n",
    "    'rule': ['rules']\n",
    "}\n",
    "\n",
    "data_dir_path = './inputs/toy_data'"
   ]
  },
  {
   "cell_type": "code",
   "execution_count": 14,
   "metadata": {},
   "outputs": [],
   "source": [
    "problem_instance = Setup(data_dir_path, file_names_dict)"
   ]
  },
  {
   "cell_type": "code",
   "execution_count": 15,
   "metadata": {},
   "outputs": [],
   "source": [
    "problem_instance.load_data()\n",
    "problem_instance.load_rules()"
   ]
  },
  {
   "cell_type": "code",
   "execution_count": 16,
   "metadata": {},
   "outputs": [
    {
     "data": {
      "text/plain": [
       "[['p_1(x)', '→', 'p_2(x)'], ['p_2(x)', '→', 'p_3(x)']]"
      ]
     },
     "execution_count": 16,
     "metadata": {},
     "output_type": "execute_result"
    }
   ],
   "source": [
    "problem_instance.KB_origin"
   ]
  },
  {
   "cell_type": "code",
   "execution_count": 17,
   "metadata": {},
   "outputs": [
    {
     "data": {
      "text/plain": [
       "[['¬', 'p_1(x)', '⊕', 'p_2(x)'], ['¬', 'p_2(x)', '⊕', 'p_3(x)']]"
      ]
     },
     "execution_count": 17,
     "metadata": {},
     "output_type": "execute_result"
    }
   ],
   "source": [
    "problem_instance.KB"
   ]
  },
  {
   "cell_type": "code",
   "execution_count": 11,
   "metadata": {},
   "outputs": [
    {
     "data": {
      "text/plain": [
       "{'p_1(x)': <utils.misc.Predicate at 0x7f7f7185a6e0>,\n",
       " 'p_2(x)': <utils.misc.Predicate at 0x7f7f7185a890>,\n",
       " 'p_3(x)': <utils.misc.Predicate at 0x7f7f7185aa40>}"
      ]
     },
     "execution_count": 11,
     "metadata": {},
     "output_type": "execute_result"
    }
   ],
   "source": [
    "problem_instance.predicates_dict"
   ]
  },
  {
   "cell_type": "code",
   "execution_count": null,
   "metadata": {},
   "outputs": [],
   "source": []
  },
  {
   "cell_type": "code",
   "execution_count": null,
   "metadata": {},
   "outputs": [],
   "source": []
  },
  {
   "cell_type": "code",
   "execution_count": 18,
   "metadata": {},
   "outputs": [
    {
     "name": "stdout",
     "output_type": "stream",
     "text": [
      "KB: [['¬', 'p_1(x)', '⊕', 'p_2(x)'], ['¬', 'p_2(x)', '⊕', 'p_3(x)']]\n",
      "['¬', Expression(AFFINE, UNKNOWN, ()), '⊕', Expression(AFFINE, UNKNOWN, ())]\n",
      "['¬', Expression(AFFINE, UNKNOWN, ()), '⊕', Expression(AFFINE, UNKNOWN, ())]\n",
      "[[Expression(AFFINE, UNKNOWN, ()), '⊕', Expression(AFFINE, UNKNOWN, ())], [Expression(AFFINE, UNKNOWN, ()), '⊕', Expression(AFFINE, UNKNOWN, ())]]\n",
      "KB: [[Expression(AFFINE, UNKNOWN, ()), '⊕', Expression(AFFINE, UNKNOWN, ())], [Expression(AFFINE, UNKNOWN, ()), '⊕', Expression(AFFINE, UNKNOWN, ())]]\n",
      "[Expression(AFFINE, UNKNOWN, ()), '⊕', Expression(AFFINE, UNKNOWN, ())]\n",
      "[Expression(AFFINE, UNKNOWN, ()), '⊕', Expression(AFFINE, UNKNOWN, ())]\n",
      "[[Expression(AFFINE, UNKNOWN, ()), '⊕', Expression(AFFINE, UNKNOWN, ())], [Expression(AFFINE, UNKNOWN, ()), '⊕', Expression(AFFINE, UNKNOWN, ())]]\n",
      "KB: [[Expression(AFFINE, UNKNOWN, ()), '⊕', Expression(AFFINE, UNKNOWN, ())], [Expression(AFFINE, UNKNOWN, ()), '⊕', Expression(AFFINE, UNKNOWN, ())]]\n",
      "[Expression(AFFINE, UNKNOWN, ()), '⊕', Expression(AFFINE, UNKNOWN, ())]\n",
      "[Expression(AFFINE, UNKNOWN, ()), '⊕', Expression(AFFINE, UNKNOWN, ())]\n",
      "[[Expression(AFFINE, UNKNOWN, ()), '⊕', Expression(AFFINE, UNKNOWN, ())], [Expression(AFFINE, UNKNOWN, ()), '⊕', Expression(AFFINE, UNKNOWN, ())]]\n",
      "KB: [[Expression(AFFINE, UNKNOWN, ()), '⊕', Expression(AFFINE, UNKNOWN, ())], [Expression(AFFINE, UNKNOWN, ()), '⊕', Expression(AFFINE, UNKNOWN, ())]]\n",
      "[Expression(AFFINE, UNKNOWN, ()), '⊕', Expression(AFFINE, UNKNOWN, ())]\n",
      "[Expression(AFFINE, UNKNOWN, ()), '⊕', Expression(AFFINE, UNKNOWN, ())]\n",
      "[[Expression(AFFINE, UNKNOWN, ()), '⊕', Expression(AFFINE, UNKNOWN, ())], [Expression(AFFINE, UNKNOWN, ()), '⊕', Expression(AFFINE, UNKNOWN, ())]]\n",
      "KB: [[Expression(AFFINE, UNKNOWN, ()), '⊕', Expression(AFFINE, UNKNOWN, ())], [Expression(AFFINE, UNKNOWN, ()), '⊕', Expression(AFFINE, UNKNOWN, ())]]\n",
      "[Expression(AFFINE, UNKNOWN, ()), '⊕', Expression(AFFINE, UNKNOWN, ())]\n",
      "[Expression(AFFINE, UNKNOWN, ()), '⊕', Expression(AFFINE, UNKNOWN, ())]\n",
      "[[Expression(AFFINE, UNKNOWN, ()), '⊕', Expression(AFFINE, UNKNOWN, ())], [Expression(AFFINE, UNKNOWN, ()), '⊕', Expression(AFFINE, UNKNOWN, ())]]\n",
      "KB: [[Expression(AFFINE, UNKNOWN, ()), '⊕', Expression(AFFINE, UNKNOWN, ())], [Expression(AFFINE, UNKNOWN, ()), '⊕', Expression(AFFINE, UNKNOWN, ())]]\n",
      "[Expression(AFFINE, UNKNOWN, ()), '⊕', Expression(AFFINE, UNKNOWN, ())]\n",
      "[Expression(AFFINE, UNKNOWN, ()), '⊕', Expression(AFFINE, UNKNOWN, ())]\n",
      "[[Expression(AFFINE, UNKNOWN, ()), '⊕', Expression(AFFINE, UNKNOWN, ())], [Expression(AFFINE, UNKNOWN, ()), '⊕', Expression(AFFINE, UNKNOWN, ())]]\n"
     ]
    },
    {
     "data": {
      "text/plain": [
       "[Inequality(Constant(CONSTANT, ZERO, ())),\n",
       " Inequality(Expression(AFFINE, UNKNOWN, ())),\n",
       " Inequality(Constant(CONSTANT, ZERO, ())),\n",
       " Inequality(Expression(AFFINE, UNKNOWN, ())),\n",
       " Inequality(Constant(CONSTANT, ZERO, ())),\n",
       " Inequality(Expression(AFFINE, UNKNOWN, ())),\n",
       " Inequality(Constant(CONSTANT, ZERO, ())),\n",
       " Inequality(Expression(AFFINE, UNKNOWN, ())),\n",
       " Inequality(Constant(CONSTANT, ZERO, ())),\n",
       " Inequality(Expression(AFFINE, UNKNOWN, ())),\n",
       " Inequality(Constant(CONSTANT, ZERO, ())),\n",
       " Inequality(Expression(AFFINE, UNKNOWN, ())),\n",
       " Inequality(Constant(CONSTANT, ZERO, ())),\n",
       " Inequality(Expression(AFFINE, UNKNOWN, ())),\n",
       " Inequality(Constant(CONSTANT, ZERO, ())),\n",
       " Inequality(Expression(AFFINE, UNKNOWN, ())),\n",
       " Inequality(Constant(CONSTANT, ZERO, ())),\n",
       " Inequality(Expression(AFFINE, UNKNOWN, ())),\n",
       " Inequality(Constant(CONSTANT, ZERO, ())),\n",
       " Inequality(Expression(AFFINE, UNKNOWN, ())),\n",
       " Inequality(Constant(CONSTANT, ZERO, ())),\n",
       " Inequality(Expression(AFFINE, UNKNOWN, ())),\n",
       " Inequality(Constant(CONSTANT, ZERO, ())),\n",
       " Inequality(Expression(AFFINE, UNKNOWN, ()))]"
      ]
     },
     "execution_count": 18,
     "metadata": {},
     "output_type": "execute_result"
    }
   ],
   "source": [
    "problem_instance.identify_predicates()\n",
    "problem_instance._construct_logical_constraints()"
   ]
  },
  {
   "cell_type": "code",
   "execution_count": 5,
   "metadata": {},
   "outputs": [],
   "source": [
    "problem_instance.load_data()\n",
    "problem_instance.load_rules()\n",
    "problem_instance.identify_predicates()\n",
    "constraints = problem_instance.construct_constraints()"
   ]
  },
  {
   "cell_type": "code",
   "execution_count": 22,
   "metadata": {},
   "outputs": [
    {
     "name": "stdout",
     "output_type": "stream",
     "text": [
      "1.0 + -2.0 @ var865[0, 0] <= -1.0 @ (2.0 @ (var864[0, 0:3][0] @ 0.1 + var864[0, 0:3][1] @ 0.5 + var864[0, 0:3][2]) + -1.0)\n",
      "1.0 + -2.0 @ var865[0, 1] <= -1.0 @ (2.0 @ (var864[0, 0:3][0] @ 0.4 + var864[0, 0:3][1] @ 0.4 + var864[0, 0:3][2]) + -1.0)\n",
      "1.0 + -2.0 @ var865[0, 2] <= 1.0 @ (2.0 @ (var864[0, 0:3][0] @ 0.3 + var864[0, 0:3][1] @ 0.8 + var864[0, 0:3][2]) + -1.0)\n",
      "1.0 + -2.0 @ var865[0, 3] <= 1.0 @ (2.0 @ (var864[0, 0:3][0] @ 0.9 + var864[0, 0:3][1] @ 0.7 + var864[0, 0:3][2]) + -1.0)\n",
      "1.0 + -2.0 @ var865[1, 0] <= -1.0 @ (2.0 @ (var864[1, 0:3][0] @ 0.1 + var864[1, 0:3][1] @ 0.3 + var864[1, 0:3][2]) + -1.0)\n",
      "1.0 + -2.0 @ var865[1, 1] <= -1.0 @ (2.0 @ (var864[1, 0:3][0] @ 0.6 + var864[1, 0:3][1] @ 0.4 + var864[1, 0:3][2]) + -1.0)\n",
      "1.0 + -2.0 @ var865[1, 2] <= 1.0 @ (2.0 @ (var864[1, 0:3][0] @ 0.2 + var864[1, 0:3][1] @ 0.8 + var864[1, 0:3][2]) + -1.0)\n",
      "1.0 + -2.0 @ var865[1, 3] <= 1.0 @ (2.0 @ (var864[1, 0:3][0] @ 0.7 + var864[1, 0:3][1] @ 0.6 + var864[1, 0:3][2]) + -1.0)\n",
      "1.0 + -2.0 @ var865[2, 0] <= -1.0 @ (2.0 @ (var864[2, 0:3][0] @ 0.4 + var864[2, 0:3][1] @ 0.2 + var864[2, 0:3][2]) + -1.0)\n",
      "1.0 + -2.0 @ var865[2, 1] <= -1.0 @ (2.0 @ (var864[2, 0:3][0] @ 0.9 + var864[2, 0:3][1] @ 0.3 + var864[2, 0:3][2]) + -1.0)\n",
      "1.0 + -2.0 @ var865[2, 2] <= 1.0 @ (2.0 @ (var864[2, 0:3][0] @ 0.2 + var864[2, 0:3][1] @ 0.6 + var864[2, 0:3][2]) + -1.0)\n",
      "1.0 + -2.0 @ var865[2, 3] <= 1.0 @ (2.0 @ (var864[2, 0:3][0] @ 0.5 + var864[2, 0:3][1] @ 0.7 + var864[2, 0:3][2]) + -1.0)\n",
      "0.0 <= var866[0, 0]\n",
      "1.0 + -1.0 + -var864[0, 0:3][0] @ 0.1 + var864[0, 0:3][1] @ 0.5 + var864[0, 0:3][2] + var864[1, 0:3][0] @ 0.1 + var864[1, 0:3][1] @ 0.5 + var864[1, 0:3][2] <= var866[1, 0]\n",
      "0.0 <= var866[2, 0]\n",
      "1.0 + -1.0 + -var864[1, 0:3][0] @ 0.1 + var864[1, 0:3][1] @ 0.5 + var864[1, 0:3][2] + var864[2, 0:3][0] @ 0.1 + var864[2, 0:3][1] @ 0.5 + var864[2, 0:3][2] <= var866[3, 0]\n",
      "0.0 <= var866[0, 0]\n",
      "1.0 + -1.0 + -var864[0, 0:3][0] @ 0.1 + var864[0, 0:3][1] @ 0.5 + var864[0, 0:3][2] + var864[1, 0:3][0] @ 0.1 + var864[1, 0:3][1] @ 0.5 + var864[1, 0:3][2] <= var866[1, 0]\n",
      "0.0 <= var866[2, 0]\n",
      "1.0 + -1.0 + -var864[1, 0:3][0] @ 0.1 + var864[1, 0:3][1] @ 0.5 + var864[1, 0:3][2] + var864[2, 0:3][0] @ 0.1 + var864[2, 0:3][1] @ 0.5 + var864[2, 0:3][2] <= var866[3, 0]\n",
      "0.0 <= var866[0, 0]\n",
      "1.0 + -1.0 + -var864[0, 0:3][0] @ 0.1 + var864[0, 0:3][1] @ 0.5 + var864[0, 0:3][2] + var864[1, 0:3][0] @ 0.1 + var864[1, 0:3][1] @ 0.5 + var864[1, 0:3][2] <= var866[1, 0]\n",
      "0.0 <= var866[2, 0]\n",
      "1.0 + -1.0 + -var864[1, 0:3][0] @ 0.1 + var864[1, 0:3][1] @ 0.5 + var864[1, 0:3][2] + var864[2, 0:3][0] @ 0.1 + var864[2, 0:3][1] @ 0.5 + var864[2, 0:3][2] <= var866[3, 0]\n",
      "0.0 <= var866[0, 0]\n",
      "1.0 + -1.0 + -var864[0, 0:3][0] @ 0.1 + var864[0, 0:3][1] @ 0.5 + var864[0, 0:3][2] + var864[1, 0:3][0] @ 0.1 + var864[1, 0:3][1] @ 0.5 + var864[1, 0:3][2] <= var866[1, 0]\n",
      "0.0 <= var866[2, 0]\n",
      "1.0 + -1.0 + -var864[1, 0:3][0] @ 0.1 + var864[1, 0:3][1] @ 0.5 + var864[1, 0:3][2] + var864[2, 0:3][0] @ 0.1 + var864[2, 0:3][1] @ 0.5 + var864[2, 0:3][2] <= var866[3, 0]\n",
      "0.0 <= var866[0, 0]\n",
      "1.0 + -1.0 + -var864[0, 0:3][0] @ 0.1 + var864[0, 0:3][1] @ 0.5 + var864[0, 0:3][2] + var864[1, 0:3][0] @ 0.1 + var864[1, 0:3][1] @ 0.5 + var864[1, 0:3][2] <= var866[1, 0]\n",
      "0.0 <= var866[2, 0]\n",
      "1.0 + -1.0 + -var864[1, 0:3][0] @ 0.1 + var864[1, 0:3][1] @ 0.5 + var864[1, 0:3][2] + var864[2, 0:3][0] @ 0.1 + var864[2, 0:3][1] @ 0.5 + var864[2, 0:3][2] <= var866[3, 0]\n",
      "0.0 <= var866[0, 0]\n",
      "1.0 + -1.0 + -var864[0, 0:3][0] @ 0.1 + var864[0, 0:3][1] @ 0.5 + var864[0, 0:3][2] + var864[1, 0:3][0] @ 0.1 + var864[1, 0:3][1] @ 0.5 + var864[1, 0:3][2] <= var866[1, 0]\n",
      "0.0 <= var866[2, 0]\n",
      "1.0 + -1.0 + -var864[1, 0:3][0] @ 0.1 + var864[1, 0:3][1] @ 0.5 + var864[1, 0:3][2] + var864[2, 0:3][0] @ 0.1 + var864[2, 0:3][1] @ 0.5 + var864[2, 0:3][2] <= var866[3, 0]\n",
      "0.0 <= var864[0, 0:3][0] @ 0.1 + var864[0, 0:3][1] @ 0.5 + var864[0, 0:3][2]\n",
      "var864[0, 0:3][0] @ 0.1 + var864[0, 0:3][1] @ 0.5 + var864[0, 0:3][2] <= 1.0\n",
      "0.0 <= var864[0, 0:3][0] @ 0.4 + var864[0, 0:3][1] @ 0.4 + var864[0, 0:3][2]\n",
      "var864[0, 0:3][0] @ 0.4 + var864[0, 0:3][1] @ 0.4 + var864[0, 0:3][2] <= 1.0\n",
      "0.0 <= var864[0, 0:3][0] @ 0.3 + var864[0, 0:3][1] @ 0.8 + var864[0, 0:3][2]\n",
      "var864[0, 0:3][0] @ 0.3 + var864[0, 0:3][1] @ 0.8 + var864[0, 0:3][2] <= 1.0\n",
      "0.0 <= var864[0, 0:3][0] @ 0.9 + var864[0, 0:3][1] @ 0.7 + var864[0, 0:3][2]\n",
      "var864[0, 0:3][0] @ 0.9 + var864[0, 0:3][1] @ 0.7 + var864[0, 0:3][2] <= 1.0\n",
      "0.0 <= var864[0, 0:3][0] @ 0.1 + var864[0, 0:3][1] @ 0.5 + var864[0, 0:3][2]\n",
      "var864[0, 0:3][0] @ 0.1 + var864[0, 0:3][1] @ 0.5 + var864[0, 0:3][2] <= 1.0\n",
      "0.0 <= var864[0, 0:3][0] @ 0.3 + var864[0, 0:3][1] @ 0.7 + var864[0, 0:3][2]\n",
      "var864[0, 0:3][0] @ 0.3 + var864[0, 0:3][1] @ 0.7 + var864[0, 0:3][2] <= 1.0\n",
      "0.0 <= var864[0, 0:3][0] @ 0.5 + var864[0, 0:3][1] @ 0.4 + var864[0, 0:3][2]\n",
      "var864[0, 0:3][0] @ 0.5 + var864[0, 0:3][1] @ 0.4 + var864[0, 0:3][2] <= 1.0\n",
      "0.0 <= var864[0, 0:3][0] @ 0.8 + var864[0, 0:3][1] @ 0.3 + var864[0, 0:3][2]\n",
      "var864[0, 0:3][0] @ 0.8 + var864[0, 0:3][1] @ 0.3 + var864[0, 0:3][2] <= 1.0\n",
      "0.0 <= var864[0, 0:3][0] @ 0.9 + var864[0, 0:3][1] @ 0.2 + var864[0, 0:3][2]\n",
      "var864[0, 0:3][0] @ 0.9 + var864[0, 0:3][1] @ 0.2 + var864[0, 0:3][2] <= 1.0\n",
      "0.0 <= var864[0, 0:3][0] @ 1.0 + var864[0, 0:3][1] @ 0.5 + var864[0, 0:3][2]\n",
      "var864[0, 0:3][0] @ 1.0 + var864[0, 0:3][1] @ 0.5 + var864[0, 0:3][2] <= 1.0\n",
      "0.0 <= var864[1, 0:3][0] @ 0.1 + var864[1, 0:3][1] @ 0.3 + var864[1, 0:3][2]\n",
      "var864[1, 0:3][0] @ 0.1 + var864[1, 0:3][1] @ 0.3 + var864[1, 0:3][2] <= 1.0\n",
      "0.0 <= var864[1, 0:3][0] @ 0.6 + var864[1, 0:3][1] @ 0.4 + var864[1, 0:3][2]\n",
      "var864[1, 0:3][0] @ 0.6 + var864[1, 0:3][1] @ 0.4 + var864[1, 0:3][2] <= 1.0\n",
      "0.0 <= var864[1, 0:3][0] @ 0.2 + var864[1, 0:3][1] @ 0.8 + var864[1, 0:3][2]\n",
      "var864[1, 0:3][0] @ 0.2 + var864[1, 0:3][1] @ 0.8 + var864[1, 0:3][2] <= 1.0\n",
      "0.0 <= var864[1, 0:3][0] @ 0.7 + var864[1, 0:3][1] @ 0.6 + var864[1, 0:3][2]\n",
      "var864[1, 0:3][0] @ 0.7 + var864[1, 0:3][1] @ 0.6 + var864[1, 0:3][2] <= 1.0\n",
      "0.0 <= var864[1, 0:3][0] @ 0.1 + var864[1, 0:3][1] @ 0.5 + var864[1, 0:3][2]\n",
      "var864[1, 0:3][0] @ 0.1 + var864[1, 0:3][1] @ 0.5 + var864[1, 0:3][2] <= 1.0\n",
      "0.0 <= var864[1, 0:3][0] @ 0.3 + var864[1, 0:3][1] @ 0.7 + var864[1, 0:3][2]\n",
      "var864[1, 0:3][0] @ 0.3 + var864[1, 0:3][1] @ 0.7 + var864[1, 0:3][2] <= 1.0\n",
      "0.0 <= var864[1, 0:3][0] @ 0.5 + var864[1, 0:3][1] @ 0.4 + var864[1, 0:3][2]\n",
      "var864[1, 0:3][0] @ 0.5 + var864[1, 0:3][1] @ 0.4 + var864[1, 0:3][2] <= 1.0\n",
      "0.0 <= var864[1, 0:3][0] @ 0.8 + var864[1, 0:3][1] @ 0.3 + var864[1, 0:3][2]\n",
      "var864[1, 0:3][0] @ 0.8 + var864[1, 0:3][1] @ 0.3 + var864[1, 0:3][2] <= 1.0\n",
      "0.0 <= var864[1, 0:3][0] @ 0.9 + var864[1, 0:3][1] @ 0.2 + var864[1, 0:3][2]\n",
      "var864[1, 0:3][0] @ 0.9 + var864[1, 0:3][1] @ 0.2 + var864[1, 0:3][2] <= 1.0\n",
      "0.0 <= var864[1, 0:3][0] @ 1.0 + var864[1, 0:3][1] @ 0.5 + var864[1, 0:3][2]\n",
      "var864[1, 0:3][0] @ 1.0 + var864[1, 0:3][1] @ 0.5 + var864[1, 0:3][2] <= 1.0\n",
      "0.0 <= var864[2, 0:3][0] @ 0.4 + var864[2, 0:3][1] @ 0.2 + var864[2, 0:3][2]\n",
      "var864[2, 0:3][0] @ 0.4 + var864[2, 0:3][1] @ 0.2 + var864[2, 0:3][2] <= 1.0\n",
      "0.0 <= var864[2, 0:3][0] @ 0.9 + var864[2, 0:3][1] @ 0.3 + var864[2, 0:3][2]\n",
      "var864[2, 0:3][0] @ 0.9 + var864[2, 0:3][1] @ 0.3 + var864[2, 0:3][2] <= 1.0\n",
      "0.0 <= var864[2, 0:3][0] @ 0.2 + var864[2, 0:3][1] @ 0.6 + var864[2, 0:3][2]\n",
      "var864[2, 0:3][0] @ 0.2 + var864[2, 0:3][1] @ 0.6 + var864[2, 0:3][2] <= 1.0\n",
      "0.0 <= var864[2, 0:3][0] @ 0.5 + var864[2, 0:3][1] @ 0.7 + var864[2, 0:3][2]\n",
      "var864[2, 0:3][0] @ 0.5 + var864[2, 0:3][1] @ 0.7 + var864[2, 0:3][2] <= 1.0\n",
      "0.0 <= var864[2, 0:3][0] @ 0.1 + var864[2, 0:3][1] @ 0.5 + var864[2, 0:3][2]\n",
      "var864[2, 0:3][0] @ 0.1 + var864[2, 0:3][1] @ 0.5 + var864[2, 0:3][2] <= 1.0\n",
      "0.0 <= var864[2, 0:3][0] @ 0.3 + var864[2, 0:3][1] @ 0.7 + var864[2, 0:3][2]\n",
      "var864[2, 0:3][0] @ 0.3 + var864[2, 0:3][1] @ 0.7 + var864[2, 0:3][2] <= 1.0\n",
      "0.0 <= var864[2, 0:3][0] @ 0.5 + var864[2, 0:3][1] @ 0.4 + var864[2, 0:3][2]\n",
      "var864[2, 0:3][0] @ 0.5 + var864[2, 0:3][1] @ 0.4 + var864[2, 0:3][2] <= 1.0\n",
      "0.0 <= var864[2, 0:3][0] @ 0.8 + var864[2, 0:3][1] @ 0.3 + var864[2, 0:3][2]\n",
      "var864[2, 0:3][0] @ 0.8 + var864[2, 0:3][1] @ 0.3 + var864[2, 0:3][2] <= 1.0\n",
      "0.0 <= var864[2, 0:3][0] @ 0.9 + var864[2, 0:3][1] @ 0.2 + var864[2, 0:3][2]\n",
      "var864[2, 0:3][0] @ 0.9 + var864[2, 0:3][1] @ 0.2 + var864[2, 0:3][2] <= 1.0\n",
      "0.0 <= var864[2, 0:3][0] @ 1.0 + var864[2, 0:3][1] @ 0.5 + var864[2, 0:3][2]\n",
      "var864[2, 0:3][0] @ 1.0 + var864[2, 0:3][1] @ 0.5 + var864[2, 0:3][2] <= 1.0\n"
     ]
    }
   ],
   "source": [
    "for constraint in constraints:\n",
    "    print(constraint)"
   ]
  },
  {
   "cell_type": "code",
   "execution_count": null,
   "metadata": {},
   "outputs": [],
   "source": []
  },
  {
   "cell_type": "code",
   "execution_count": null,
   "metadata": {},
   "outputs": [],
   "source": []
  },
  {
   "cell_type": "code",
   "execution_count": null,
   "metadata": {},
   "outputs": [],
   "source": []
  },
  {
   "cell_type": "code",
   "execution_count": null,
   "metadata": {},
   "outputs": [],
   "source": []
  },
  {
   "cell_type": "code",
   "execution_count": null,
   "metadata": {},
   "outputs": [],
   "source": []
  },
  {
   "cell_type": "code",
   "execution_count": null,
   "metadata": {},
   "outputs": [],
   "source": []
  },
  {
   "cell_type": "code",
   "execution_count": null,
   "metadata": {},
   "outputs": [],
   "source": []
  },
  {
   "cell_type": "code",
   "execution_count": null,
   "metadata": {},
   "outputs": [],
   "source": []
  },
  {
   "cell_type": "code",
   "execution_count": null,
   "metadata": {},
   "outputs": [],
   "source": []
  },
  {
   "cell_type": "code",
   "execution_count": 20,
   "metadata": {},
   "outputs": [
    {
     "data": {
      "text/plain": [
       "<bound method Constraint.value of Inequality(Expression(AFFINE, UNKNOWN, ()))>"
      ]
     },
     "execution_count": 20,
     "metadata": {},
     "output_type": "execute_result"
    }
   ],
   "source": [
    "constraints[0]"
   ]
  },
  {
   "cell_type": "code",
   "execution_count": 6,
   "metadata": {},
   "outputs": [
    {
     "data": {
      "text/plain": [
       "[Inequality(Expression(AFFINE, UNKNOWN, ())),\n",
       " Inequality(Expression(AFFINE, UNKNOWN, ())),\n",
       " Inequality(Expression(AFFINE, UNKNOWN, ())),\n",
       " Inequality(Expression(AFFINE, UNKNOWN, ())),\n",
       " Inequality(Expression(AFFINE, UNKNOWN, ())),\n",
       " Inequality(Expression(AFFINE, UNKNOWN, ())),\n",
       " Inequality(Expression(AFFINE, UNKNOWN, ())),\n",
       " Inequality(Expression(AFFINE, UNKNOWN, ())),\n",
       " Inequality(Expression(AFFINE, UNKNOWN, ())),\n",
       " Inequality(Expression(AFFINE, UNKNOWN, ())),\n",
       " Inequality(Expression(AFFINE, UNKNOWN, ())),\n",
       " Inequality(Expression(AFFINE, UNKNOWN, ())),\n",
       " Inequality(Constant(CONSTANT, ZERO, ())),\n",
       " Inequality(Expression(AFFINE, UNKNOWN, ())),\n",
       " Inequality(Constant(CONSTANT, ZERO, ())),\n",
       " Inequality(Expression(AFFINE, UNKNOWN, ())),\n",
       " Inequality(Constant(CONSTANT, ZERO, ())),\n",
       " Inequality(Expression(AFFINE, UNKNOWN, ())),\n",
       " Inequality(Constant(CONSTANT, ZERO, ())),\n",
       " Inequality(Expression(AFFINE, UNKNOWN, ())),\n",
       " Inequality(Constant(CONSTANT, ZERO, ())),\n",
       " Inequality(Expression(AFFINE, UNKNOWN, ())),\n",
       " Inequality(Constant(CONSTANT, ZERO, ())),\n",
       " Inequality(Expression(AFFINE, UNKNOWN, ())),\n",
       " Inequality(Constant(CONSTANT, ZERO, ())),\n",
       " Inequality(Expression(AFFINE, UNKNOWN, ())),\n",
       " Inequality(Constant(CONSTANT, ZERO, ())),\n",
       " Inequality(Expression(AFFINE, UNKNOWN, ())),\n",
       " Inequality(Constant(CONSTANT, ZERO, ())),\n",
       " Inequality(Expression(AFFINE, UNKNOWN, ())),\n",
       " Inequality(Constant(CONSTANT, ZERO, ())),\n",
       " Inequality(Expression(AFFINE, UNKNOWN, ())),\n",
       " Inequality(Constant(CONSTANT, ZERO, ())),\n",
       " Inequality(Expression(AFFINE, UNKNOWN, ())),\n",
       " Inequality(Constant(CONSTANT, ZERO, ())),\n",
       " Inequality(Expression(AFFINE, UNKNOWN, ())),\n",
       " Inequality(Constant(CONSTANT, ZERO, ())),\n",
       " Inequality(Expression(AFFINE, UNKNOWN, ())),\n",
       " Inequality(Constant(CONSTANT, ZERO, ())),\n",
       " Inequality(Expression(AFFINE, UNKNOWN, ())),\n",
       " Inequality(Constant(CONSTANT, ZERO, ())),\n",
       " Inequality(Expression(AFFINE, UNKNOWN, ())),\n",
       " Inequality(Constant(CONSTANT, ZERO, ())),\n",
       " Inequality(Expression(AFFINE, UNKNOWN, ())),\n",
       " Inequality(Constant(CONSTANT, ZERO, ())),\n",
       " Inequality(Expression(AFFINE, UNKNOWN, ())),\n",
       " Inequality(Constant(CONSTANT, ZERO, ())),\n",
       " Inequality(Expression(AFFINE, UNKNOWN, ())),\n",
       " Inequality(Constant(CONSTANT, ZERO, ())),\n",
       " Inequality(Expression(AFFINE, UNKNOWN, ())),\n",
       " Inequality(Constant(CONSTANT, ZERO, ())),\n",
       " Inequality(Expression(AFFINE, UNKNOWN, ())),\n",
       " Inequality(Constant(CONSTANT, ZERO, ())),\n",
       " Inequality(Expression(AFFINE, UNKNOWN, ())),\n",
       " Inequality(Constant(CONSTANT, ZERO, ())),\n",
       " Inequality(Expression(AFFINE, UNKNOWN, ())),\n",
       " Inequality(Constant(CONSTANT, ZERO, ())),\n",
       " Inequality(Expression(AFFINE, UNKNOWN, ())),\n",
       " Inequality(Constant(CONSTANT, ZERO, ())),\n",
       " Inequality(Expression(AFFINE, UNKNOWN, ())),\n",
       " Inequality(Constant(CONSTANT, ZERO, ())),\n",
       " Inequality(Expression(AFFINE, UNKNOWN, ())),\n",
       " Inequality(Constant(CONSTANT, ZERO, ())),\n",
       " Inequality(Expression(AFFINE, UNKNOWN, ())),\n",
       " Inequality(Constant(CONSTANT, ZERO, ())),\n",
       " Inequality(Expression(AFFINE, UNKNOWN, ())),\n",
       " Inequality(Constant(CONSTANT, ZERO, ())),\n",
       " Inequality(Expression(AFFINE, UNKNOWN, ())),\n",
       " Inequality(Constant(CONSTANT, ZERO, ())),\n",
       " Inequality(Expression(AFFINE, UNKNOWN, ())),\n",
       " Inequality(Constant(CONSTANT, ZERO, ())),\n",
       " Inequality(Expression(AFFINE, UNKNOWN, ())),\n",
       " Inequality(Constant(CONSTANT, ZERO, ())),\n",
       " Inequality(Expression(AFFINE, UNKNOWN, ())),\n",
       " Inequality(Constant(CONSTANT, ZERO, ())),\n",
       " Inequality(Expression(AFFINE, UNKNOWN, ())),\n",
       " Inequality(Constant(CONSTANT, ZERO, ())),\n",
       " Inequality(Expression(AFFINE, UNKNOWN, ())),\n",
       " Inequality(Constant(CONSTANT, ZERO, ())),\n",
       " Inequality(Expression(AFFINE, UNKNOWN, ())),\n",
       " Inequality(Constant(CONSTANT, ZERO, ())),\n",
       " Inequality(Expression(AFFINE, UNKNOWN, ())),\n",
       " Inequality(Constant(CONSTANT, ZERO, ())),\n",
       " Inequality(Expression(AFFINE, UNKNOWN, ())),\n",
       " Inequality(Constant(CONSTANT, ZERO, ())),\n",
       " Inequality(Expression(AFFINE, UNKNOWN, ())),\n",
       " Inequality(Constant(CONSTANT, ZERO, ())),\n",
       " Inequality(Expression(AFFINE, UNKNOWN, ())),\n",
       " Inequality(Constant(CONSTANT, ZERO, ())),\n",
       " Inequality(Expression(AFFINE, UNKNOWN, ())),\n",
       " Inequality(Constant(CONSTANT, ZERO, ())),\n",
       " Inequality(Expression(AFFINE, UNKNOWN, ())),\n",
       " Inequality(Constant(CONSTANT, ZERO, ())),\n",
       " Inequality(Expression(AFFINE, UNKNOWN, ())),\n",
       " Inequality(Constant(CONSTANT, ZERO, ())),\n",
       " Inequality(Expression(AFFINE, UNKNOWN, ()))]"
      ]
     },
     "execution_count": 6,
     "metadata": {},
     "output_type": "execute_result"
    }
   ],
   "source": [
    "constraints"
   ]
  },
  {
   "cell_type": "code",
   "execution_count": null,
   "metadata": {},
   "outputs": [],
   "source": []
  },
  {
   "cell_type": "code",
   "execution_count": 55,
   "metadata": {},
   "outputs": [
    {
     "name": "stdout",
     "output_type": "stream",
     "text": [
      "===============================================================================\n",
      "                                     CVXPY                                     \n",
      "                                     v1.3.2                                    \n",
      "===============================================================================\n",
      "(CVXPY) Oct 15 08:41:48 AM: Your problem has 25 variables, 96 constraints, and 0 parameters.\n"
     ]
    },
    {
     "name": "stdout",
     "output_type": "stream",
     "text": [
      "(CVXPY) Oct 15 08:41:48 AM: It is compliant with the following grammars: DCP, DQCP\n",
      "(CVXPY) Oct 15 08:41:48 AM: (If you need to solve this problem multiple times, but with different data, consider using parameters.)\n",
      "(CVXPY) Oct 15 08:41:48 AM: CVXPY will first compile your problem; then, it will invoke a numerical solver to obtain a solution.\n",
      "-------------------------------------------------------------------------------\n",
      "                                  Compilation                                  \n",
      "-------------------------------------------------------------------------------\n",
      "(CVXPY) Oct 15 08:41:48 AM: Compiling problem (target solver=ECOS).\n",
      "(CVXPY) Oct 15 08:41:48 AM: Reduction chain: Dcp2Cone -> CvxAttr2Constr -> ConeMatrixStuffing -> ECOS\n",
      "(CVXPY) Oct 15 08:41:48 AM: Applying reduction Dcp2Cone\n",
      "(CVXPY) Oct 15 08:41:48 AM: Applying reduction CvxAttr2Constr\n",
      "(CVXPY) Oct 15 08:41:48 AM: Applying reduction ConeMatrixStuffing\n",
      "(CVXPY) Oct 15 08:41:48 AM: Applying reduction ECOS\n",
      "(CVXPY) Oct 15 08:41:49 AM: Finished problem compilation (took 4.497e-01 seconds).\n",
      "-------------------------------------------------------------------------------\n",
      "                                Numerical solver                               \n",
      "-------------------------------------------------------------------------------\n",
      "(CVXPY) Oct 15 08:41:49 AM: Invoking solver ECOS  to obtain a solution.\n",
      "\n",
      "ECOS 2.0.10 - (C) embotech GmbH, Zurich Switzerland, 2012-15. Web: www.embotech.com/ECOS\n",
      "\n",
      "It     pcost       dcost      gap   pres   dres    k/t    mu     step   sigma     IR    |   BT\n",
      " 0  +2.816e+01  -5.954e+01  +7e+02  5e-01  6e-01  1e+00  6e+00    ---    ---    1  1  - |  -  - \n",
      " 1  +1.017e+01  -1.297e+01  +3e+02  1e-01  2e-01  1e+00  3e+00  0.6565  1e-01   1  1  1 |  0  0\n",
      " 2  +1.228e+01  -7.106e+00  +3e+02  1e-01  1e-01  9e-01  2e+00  0.4037  6e-01   2  2  2 |  0  0\n",
      " 3  +1.419e+01  +7.607e+00  +1e+02  3e-02  5e-02  4e-01  8e-01  0.9880  4e-01   2  2  1 |  0  0\n",
      " 4  +1.756e+01  +1.483e+01  +4e+01  1e-02  2e-02  2e-01  4e-01  0.7950  3e-01   2  2  2 |  0  0\n",
      " 5  +1.913e+01  +1.870e+01  +7e+00  2e-03  3e-03  2e-02  6e-02  0.8804  4e-02   2  2  2 |  0  0\n",
      " 6  +1.928e+01  +1.908e+01  +3e+00  1e-03  1e-03  1e-02  3e-02  0.7132  3e-01   2  2  2 |  0  0\n",
      " 7  +1.942e+01  +1.939e+01  +4e-01  1e-04  2e-04  1e-03  4e-03  0.8787  2e-02   2  1  1 |  0  0\n",
      " 8  +1.944e+01  +1.944e+01  +2e-02  5e-06  7e-06  5e-05  1e-04  0.9811  2e-02   2  1  1 |  0  0\n",
      " 9  +1.944e+01  +1.944e+01  +6e-04  2e-07  2e-07  2e-06  5e-06  0.9673  4e-03   2  1  1 |  0  0\n",
      "10  +1.944e+01  +1.944e+01  +2e-05  7e-09  8e-09  6e-08  2e-07  0.9662  1e-04   2  1  1 |  0  0\n",
      "11  +1.944e+01  +1.944e+01  +8e-07  2e-10  3e-10  2e-09  7e-09  0.9655  3e-03   2  1  1 |  0  0\n",
      "12  +1.944e+01  +1.944e+01  +1e-08  4e-12  5e-12  4e-11  1e-10  0.9843  1e-04   2  1  1 |  0  0\n",
      "\n",
      "OPTIMAL (within feastol=4.9e-12, reltol=6.6e-10, abstol=1.3e-08).-------------------------------------------------------------------------------\n",
      "                                    Summary                                    \n",
      "-------------------------------------------------------------------------------\n",
      "(CVXPY) Oct 15 08:41:49 AM: Problem status: optimal\n",
      "\n",
      "Runtime: 0.001010 seconds.\n",
      "\n",
      "(CVXPY) Oct 15 08:41:49 AM: Optimal value: 1.944e+01\n",
      "(CVXPY) Oct 15 08:41:49 AM: Compilation took 4.497e-01 seconds\n",
      "(CVXPY) Oct 15 08:41:49 AM: Solver (including time spent in interface) took 1.653e-03 seconds\n"
     ]
    }
   ],
   "source": [
    "file_names_dict = {\n",
    "    'supervised': ['L1', 'L2', 'L3'],\n",
    "    'unsupervised': ['U'],\n",
    "    'rule': ['rules']\n",
    "}\n",
    "\n",
    "data_dir_path = './inputs/toy_data'\n",
    "\n",
    "problem_instance = Setup(data_dir_path, file_names_dict)\n",
    "objective, constraints = problem_instance.main(c1=10, c2=10)\n",
    "\n",
    "problem = cp.Problem(objective, constraints)\n",
    "result = problem.solve(verbose=True)"
   ]
  },
  {
   "cell_type": "code",
   "execution_count": 46,
   "metadata": {},
   "outputs": [],
   "source": []
  },
  {
   "cell_type": "code",
   "execution_count": 56,
   "metadata": {},
   "outputs": [
    {
     "data": {
      "image/png": "[encoded data removed]",
      "text/plain": [
       "<Figure size 600x400 with 1 Axes>"
      ]
     },
     "metadata": {},
     "output_type": "display_data"
    }
   ],
   "source": [
    "visualize_result(problem_instance)"
   ]
  },
  {
   "cell_type": "code",
   "execution_count": null,
   "metadata": {},
   "outputs": [],
   "source": []
  },
  {
   "cell_type": "code",
   "execution_count": null,
   "metadata": {},
   "outputs": [],
   "source": []
  },
  {
   "cell_type": "code",
   "execution_count": null,
   "metadata": {},
   "outputs": [],
   "source": []
  },
  {
   "cell_type": "code",
   "execution_count": 12,
   "metadata": {},
   "outputs": [
    {
     "data": {
      "image/png": "[encoded data removed]",
      "text/plain": [
       "<Figure size 600x400 with 1 Axes>"
      ]
     },
     "metadata": {},
     "output_type": "display_data"
    }
   ],
   "source": [
    "L = problem_instance.L\n",
    "w_j = problem_instance.w_j\n",
    "\n",
    "\n",
    "coeff_0 = w_j.value[0]\n",
    "coeff_1 = w_j.value[1]\n",
    "coeff_2 = w_j.value[2]\n",
    "coeffs = [coeff_0, coeff_1, coeff_2]\n",
    "\n",
    "test_x = np.linspace(0.05, 0.95, 100).reshape(-1,1)\n",
    "\n",
    "test_y_1 = boundary_equation_2d(test_x, coeff_0)\n",
    "test_y_2 = boundary_equation_2d(test_x, coeff_1)\n",
    "test_y_3 = boundary_equation_2d(test_x, coeff_2)\n",
    "\n",
    "\n",
    "\n",
    "plt.figure(figsize=(6,4))\n",
    "colors = ['blue', 'red', 'green']\n",
    "cmap = plt.get_cmap('Set2')\n",
    "\n",
    "\n",
    "for j in range(3):\n",
    "    for l in range(4):\n",
    "        if L[j][l, 2] == 1:\n",
    "            plt.scatter(L[j][l, 0], L[j][l, 1], c=colors[j], marker='o', label='1')\n",
    "        else:\n",
    "            plt.scatter(L[j][l, 0], L[j][l, 1], facecolors='none', edgecolors=colors[j], marker='o', label='-1')\n",
    "\n",
    "plt.plot(test_x, test_y_1, label=\"p_1\")\n",
    "plt.plot(test_x, test_y_2, label=\"p_2\")\n",
    "plt.plot(test_x, test_y_3, label=\"p_3\")\n",
    "\n",
    "\n",
    "plt.xlabel(\"x1\")\n",
    "plt.ylabel(\"x2\")\n",
    "plt.legend()\n",
    "plt.grid(True)\n",
    "plt.show()"
   ]
  },
  {
   "cell_type": "code",
   "execution_count": 16,
   "metadata": {},
   "outputs": [
    {
     "data": {
      "text/plain": [
       "Variable((4, 1), nonneg=True)"
      ]
     },
     "execution_count": 16,
     "metadata": {},
     "output_type": "execute_result"
    }
   ],
   "source": [
    "problem_instance.xi_h"
   ]
  },
  {
   "cell_type": "code",
   "execution_count": 17,
   "metadata": {},
   "outputs": [
    {
     "data": {
      "text/plain": [
       "Variable((3, 3), nonneg=True)"
      ]
     },
     "execution_count": 17,
     "metadata": {},
     "output_type": "execute_result"
    }
   ],
   "source": [
    "problem_instance.xi_jl"
   ]
  },
  {
   "cell_type": "code",
   "execution_count": null,
   "metadata": {},
   "outputs": [],
   "source": []
  },
  {
   "cell_type": "code",
   "execution_count": null,
   "metadata": {},
   "outputs": [],
   "source": []
  },
  {
   "cell_type": "code",
   "execution_count": null,
   "metadata": {},
   "outputs": [],
   "source": []
  },
  {
   "cell_type": "code",
   "execution_count": null,
   "metadata": {},
   "outputs": [],
   "source": []
  },
  {
   "cell_type": "code",
   "execution_count": null,
   "metadata": {},
   "outputs": [],
   "source": []
  },
  {
   "cell_type": "code",
   "execution_count": null,
   "metadata": {},
   "outputs": [],
   "source": []
  }
 ],
 "metadata": {
  "kernelspec": {
   "display_name": "myenv",
   "language": "python",
   "name": "python3"
  },
  "language_info": {
   "codemirror_mode": {
    "name": "ipython",
    "version": 3
   },
   "file_extension": ".py",
   "mimetype": "text/x-python",
   "name": "python",
   "nbconvert_exporter": "python",
   "pygments_lexer": "ipython3",
   "version": "3.11.4"
  }
 },
 "nbformat": 4,
 "nbformat_minor": 2
}
