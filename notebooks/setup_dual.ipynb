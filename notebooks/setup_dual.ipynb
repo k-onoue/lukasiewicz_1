{
 "cells": [
  {
   "cell_type": "code",
   "execution_count": 1,
   "metadata": {},
   "outputs": [],
   "source": [
    "%load_ext autoreload\n",
    "%autoreload 2"
   ]
  },
  {
   "cell_type": "code",
   "execution_count": 2,
   "metadata": {},
   "outputs": [],
   "source": [
    "import os\n",
    "import sys \n",
    "\n",
    "# project_dir_path = '/home/onoue/ws/lukasiewicz_1'\n",
    "project_dir_path = '/Users/keisukeonoue/ws/lukasiewicz_1'\n",
    "sys.path.append(project_dir_path)\n",
    "\n",
    "import cvxpy as cp \n",
    "import numpy as np \n",
    "import pandas as pd \n",
    "\n",
    "from src.setup_problem_dual import Setup\n",
    "\n",
    "from src.objective_function import ObjectiveFunction\n",
    "# from src.objective_function_2 import ObjectiveFunction\n",
    "from src.predicate import Predicate_dual"
   ]
  },
  {
   "cell_type": "code",
   "execution_count": 2,
   "metadata": {},
   "outputs": [
    {
     "ename": "NameError",
     "evalue": "name 'problem_instance' is not defined",
     "output_type": "error",
     "traceback": [
      "\u001b[0;31m---------------------------------------------------------------------------\u001b[0m",
      "\u001b[0;31mNameError\u001b[0m                                 Traceback (most recent call last)",
      "Cell \u001b[0;32mIn[2], line 1\u001b[0m\n\u001b[0;32m----> 1\u001b[0m pd\u001b[38;5;241m.\u001b[39mDataFrame(\u001b[43mproblem_instance\u001b[49m\u001b[38;5;241m.\u001b[39mM[\u001b[38;5;241m0\u001b[39m])\n",
      "\u001b[0;31mNameError\u001b[0m: name 'problem_instance' is not defined"
     ]
    }
   ],
   "source": [
    "pd.DataFrame(problem_instance.M[0])"
   ]
  },
  {
   "cell_type": "code",
   "execution_count": 22,
   "metadata": {},
   "outputs": [
    {
     "data": {
      "text/html": [
       "<div>\n",
       "<style scoped>\n",
       "    .dataframe tbody tr th:only-of-type {\n",
       "        vertical-align: middle;\n",
       "    }\n",
       "\n",
       "    .dataframe tbody tr th {\n",
       "        vertical-align: top;\n",
       "    }\n",
       "\n",
       "    .dataframe thead th {\n",
       "        text-align: right;\n",
       "    }\n",
       "</style>\n",
       "<table border=\"1\" class=\"dataframe\">\n",
       "  <thead>\n",
       "    <tr style=\"text-align: right;\">\n",
       "      <th></th>\n",
       "      <th>0</th>\n",
       "    </tr>\n",
       "  </thead>\n",
       "  <tbody>\n",
       "    <tr>\n",
       "      <th>0</th>\n",
       "      <td>0.0</td>\n",
       "    </tr>\n",
       "    <tr>\n",
       "      <th>1</th>\n",
       "      <td>0.0</td>\n",
       "    </tr>\n",
       "    <tr>\n",
       "      <th>2</th>\n",
       "      <td>0.0</td>\n",
       "    </tr>\n",
       "    <tr>\n",
       "      <th>3</th>\n",
       "      <td>0.0</td>\n",
       "    </tr>\n",
       "    <tr>\n",
       "      <th>4</th>\n",
       "      <td>0.0</td>\n",
       "    </tr>\n",
       "    <tr>\n",
       "      <th>5</th>\n",
       "      <td>0.0</td>\n",
       "    </tr>\n",
       "    <tr>\n",
       "      <th>6</th>\n",
       "      <td>0.0</td>\n",
       "    </tr>\n",
       "    <tr>\n",
       "      <th>7</th>\n",
       "      <td>0.0</td>\n",
       "    </tr>\n",
       "    <tr>\n",
       "      <th>8</th>\n",
       "      <td>0.0</td>\n",
       "    </tr>\n",
       "    <tr>\n",
       "      <th>9</th>\n",
       "      <td>0.0</td>\n",
       "    </tr>\n",
       "    <tr>\n",
       "      <th>10</th>\n",
       "      <td>0.0</td>\n",
       "    </tr>\n",
       "    <tr>\n",
       "      <th>11</th>\n",
       "      <td>0.0</td>\n",
       "    </tr>\n",
       "  </tbody>\n",
       "</table>\n",
       "</div>"
      ],
      "text/plain": [
       "      0\n",
       "0   0.0\n",
       "1   0.0\n",
       "2   0.0\n",
       "3   0.0\n",
       "4   0.0\n",
       "5   0.0\n",
       "6   0.0\n",
       "7   0.0\n",
       "8   0.0\n",
       "9   0.0\n",
       "10  0.0\n",
       "11  0.0"
      ]
     },
     "execution_count": 22,
     "metadata": {},
     "output_type": "execute_result"
    }
   ],
   "source": [
    "pd.DataFrame(problem_instance.q[0])"
   ]
  },
  {
   "cell_type": "code",
   "execution_count": 3,
   "metadata": {},
   "outputs": [
    {
     "name": "stdout",
     "output_type": "stream",
     "text": [
      "load_data took 0.0073850154876708984 seconds!\n",
      "1\n",
      "0\n",
      "0\n",
      "-p1 + p2 + 1\n",
      "1 + p1 - p2 - 1\n",
      "1\n",
      "1\n",
      "0\n",
      "0\n",
      "-p2 + p3 + 1\n",
      "1 + p2 - p3 - 1\n",
      "1\n",
      "load_rules took 0.023694276809692383 seconds!\n",
      "formulate_predicates_with_cvxpy took 0.00021076202392578125 seconds!\n",
      "_construct_P took 0.06439971923828125 seconds!\n",
      "construct_constraints took 0.012457132339477539 seconds!\n",
      "===============================================================================\n",
      "                                     CVXPY                                     \n",
      "                                     v1.3.2                                    \n",
      "===============================================================================\n",
      "(CVXPY) Jan 12 09:50:45 PM: Your problem has 96 variables, 135 constraints, and 0 parameters.\n",
      "(CVXPY) Jan 12 09:50:45 PM: It is compliant with the following grammars: DCP, DQCP\n",
      "(CVXPY) Jan 12 09:50:45 PM: (If you need to solve this problem multiple times, but with different data, consider using parameters.)\n",
      "(CVXPY) Jan 12 09:50:45 PM: CVXPY will first compile your problem; then, it will invoke a numerical solver to obtain a solution.\n",
      "-------------------------------------------------------------------------------\n",
      "                                  Compilation                                  \n",
      "-------------------------------------------------------------------------------\n",
      "(CVXPY) Jan 12 09:50:45 PM: Compiling problem (target solver=OSQP).\n",
      "(CVXPY) Jan 12 09:50:45 PM: Reduction chain: FlipObjective -> CvxAttr2Constr -> Qp2SymbolicQp -> QpMatrixStuffing -> OSQP\n",
      "(CVXPY) Jan 12 09:50:45 PM: Applying reduction FlipObjective\n",
      "(CVXPY) Jan 12 09:50:45 PM: Applying reduction CvxAttr2Constr\n",
      "(CVXPY) Jan 12 09:50:45 PM: Applying reduction Qp2SymbolicQp\n",
      "(CVXPY) Jan 12 09:50:45 PM: Applying reduction QpMatrixStuffing\n",
      "(CVXPY) Jan 12 09:50:46 PM: Applying reduction OSQP\n",
      "(CVXPY) Jan 12 09:50:46 PM: Finished problem compilation (took 1.282e-01 seconds).\n",
      "-------------------------------------------------------------------------------\n",
      "                                Numerical solver                               \n",
      "-------------------------------------------------------------------------------\n",
      "(CVXPY) Jan 12 09:50:46 PM: Invoking solver OSQP  to obtain a solution.\n",
      "-----------------------------------------------------------------\n",
      "           OSQP v0.6.3  -  Operator Splitting QP Solver\n",
      "              (c) Bartolomeo Stellato,  Goran Banjac\n",
      "        University of Oxford  -  Stanford University 2021\n",
      "-----------------------------------------------------------------\n",
      "problem:  variables n = 162, constraints m = 297\n",
      "          nnz(P) + nnz(A) = 1215\n",
      "settings: linear system solver = qdldl,\n",
      "          eps_abs = 1.0e-05, eps_rel = 1.0e-05,\n",
      "          eps_prim_inf = 1.0e-04, eps_dual_inf = 1.0e-04,\n",
      "          rho = 1.00e-01 (adaptive),\n",
      "          sigma = 1.00e-06, alpha = 1.60, max_iter = 10000\n",
      "          check_termination: on (interval 25),\n",
      "          scaling: on, scaled_termination: off\n",
      "          warm start: on, polish: on, time_limit: off\n",
      "\n",
      "iter   objective    pri res    dua res    rho        time\n",
      "   1  -2.0452e+02   7.63e+00   9.06e-01   1.00e-01   2.33e-04s\n",
      " 175  -3.2172e+01   1.90e-04   1.94e-05   1.00e-01   1.02e-03s\n",
      "\n",
      "status:               solved\n",
      "solution polish:      unsuccessful\n",
      "number of iterations: 175\n",
      "optimal objective:    -32.1718\n",
      "run time:             1.18e-03s\n",
      "optimal rho estimate: 1.05e-01\n",
      "\n",
      "-------------------------------------------------------------------------------\n",
      "                                    Summary                                    \n",
      "-------------------------------------------------------------------------------\n",
      "(CVXPY) Jan 12 09:50:46 PM: Problem status: optimal\n",
      "(CVXPY) Jan 12 09:50:46 PM: Optimal value: 3.217e+01\n",
      "(CVXPY) Jan 12 09:50:46 PM: Compilation took 1.282e-01 seconds\n",
      "(CVXPY) Jan 12 09:50:46 PM: Solver (including time spent in interface) took 1.877e-03 seconds\n"
     ]
    }
   ],
   "source": [
    "data_dir_path = \"./../inputs/toy_data\"\n",
    "\n",
    "file_names_dict = {\n",
    "    'supervised': ['L_p1.csv', 'L_p2.csv', 'L_p3.csv'],\n",
    "    'unsupervised': ['U.csv'],\n",
    "    'rule': ['rules.txt']\n",
    "}\n",
    "\n",
    "problem_instance = Setup(data_dir_path, file_names_dict, ObjectiveFunction, c1=10, c2=10)\n",
    "\n",
    "objective, constraints = problem_instance.main()\n",
    "\n",
    "problem = cp.Problem(objective, constraints)\n",
    "result = problem.solve(verbose=True)"
   ]
  },
  {
   "cell_type": "code",
   "execution_count": null,
   "metadata": {},
   "outputs": [],
   "source": []
  },
  {
   "cell_type": "markdown",
   "metadata": {},
   "source": [
    "# 切片 $b_j$ の値の調整ができていない気がする "
   ]
  },
  {
   "cell_type": "code",
   "execution_count": 4,
   "metadata": {},
   "outputs": [
    {
     "data": {
      "image/png": "[encoded data removed]",
      "text/plain": [
       "<Figure size 600x400 with 1 Axes>"
      ]
     },
     "metadata": {},
     "output_type": "display_data"
    }
   ],
   "source": [
    "import matplotlib.pyplot as plt \n",
    "\n",
    "\n",
    "plt.figure(figsize=(6,4))\n",
    "\n",
    "p1 = Predicate_dual(problem_instance, 'p1')\n",
    "p2 = Predicate_dual(problem_instance, 'p2')\n",
    "p3 = Predicate_dual(problem_instance, 'p3')\n",
    "\n",
    "\n",
    "\n",
    "ps = [p1, p2, p3]\n",
    "\n",
    "test_x = np.linspace(0.05, 0.95, 100).reshape(-1, 1)\n",
    "test_ys = []\n",
    "\n",
    "for p in ps:\n",
    "    w1 = p.coeff[0]\n",
    "    w2 = p.coeff[1]\n",
    "    b  = p.coeff[2]\n",
    "\n",
    "    x = np.hstack([test_x, np.ones_like(test_x)])\n",
    "    w = np.array([-w1/w2, -b/w2 + 0.5/w2]).reshape(-1,1)\n",
    "\n",
    "    test_ys.append(x @ w)\n",
    "\n",
    "\n",
    "colors = ['red', 'blue', 'green']\n",
    "\n",
    "\n",
    "for p, c in zip(ps, colors):\n",
    "    for l in range(4):\n",
    "        if p.L[l, -1] == 1:\n",
    "            plt.scatter(p.L[l, 0], p.L[l, 1], c=c, marker='o', label='1')\n",
    "        else:\n",
    "            plt.scatter(p.L[l, 0], p.L[l, 1], facecolors='none', edgecolors=c, marker='o', label='-1')\n",
    "        \n",
    "for j, test_y in enumerate(test_ys):\n",
    "    plt.plot(test_x, test_y, label=f'p{j+1}')\n",
    "\n",
    "plt.xlabel(\"x1\")\n",
    "plt.ylabel(\"x2\")\n",
    "plt.legend()\n",
    "plt.grid(True)\n",
    "plt.show()"
   ]
  },
  {
   "cell_type": "code",
   "execution_count": 5,
   "metadata": {},
   "outputs": [
    {
     "name": "stdout",
     "output_type": "stream",
     "text": [
      "p1: [ 0.74995574  1.99994136 -1.07494269]\n",
      "p2: [ 0.24419042  1.95145226 -0.35388642]\n",
      "p3: [ 9.17744760e-05  2.00001098e+00 -4.00046240e-01]\n"
     ]
    }
   ],
   "source": [
    "p1 = Predicate_dual(problem_instance, 'p1')\n",
    "# X = problem_instance.L['p1'][:, :-1]\n",
    "# Y = problem_instance.L['p1'][:, -1]\n",
    "# for x, y in zip(X, Y):\n",
    "#     print(x, y, p1(x))\n",
    "\n",
    "p2 = Predicate_dual(problem_instance, 'p2')\n",
    "# X = problem_instance.L['p2'][:, :-1]\n",
    "# Y = problem_instance.L['p2'][:, -1]\n",
    "# for x, y in zip(X, Y):\n",
    "#     print(x, y, p2(x))\n",
    "\n",
    "p3 = Predicate_dual(problem_instance, 'p3')\n",
    "# X = problem_instance.L['p3'][:, :-1]\n",
    "# Y = problem_instance.L['p3'][:, -1]\n",
    "# for x, y in zip(X, Y):\n",
    "#     print(x, y, p3(x))\n",
    "\n",
    "print(f'p1: {p1.coeff}')\n",
    "print(f'p2: {p2.coeff}')\n",
    "print(f'p3: {p3.coeff}')\n",
    "\n",
    "# print(- p1.coeff[2] / p1.coeff[1] + 0.5 / p1.coeff[1])\n",
    "# print(- p2.coeff[2] / p2.coeff[1] + 0.5 / p2.coeff[1])\n",
    "# print(- p3.coeff[2] / p3.coeff[1] + 0.5 / p3.coeff[1])"
   ]
  },
  {
   "cell_type": "code",
   "execution_count": 115,
   "metadata": {},
   "outputs": [
    {
     "name": "stdout",
     "output_type": "stream",
     "text": [
      "p1: [ 0.74999529  1.99998975 -1.01874184]\n",
      "p2: [-35.30163754 -24.13922316  26.27943897]\n",
      "p3: [-71.999874   -51.99989429  60.49988719]\n",
      "0.7593748158231226\n",
      "1.0679481604713514\n",
      "1.1538463300762016\n"
     ]
    }
   ],
   "source": [
    "p1 = Predicate_dual(problem_instance, 'p1')\n",
    "# X = problem_instance.L['p1'][:, :-1]\n",
    "# Y = problem_instance.L['p1'][:, -1]\n",
    "# for x, y in zip(X, Y):\n",
    "#     print(x, y, p1(x))\n",
    "\n",
    "p2 = Predicate_dual(problem_instance, 'p2')\n",
    "# X = problem_instance.L['p2'][:, :-1]\n",
    "# Y = problem_instance.L['p2'][:, -1]\n",
    "# for x, y in zip(X, Y):\n",
    "#     print(x, y, p2(x))\n",
    "\n",
    "p3 = Predicate_dual(problem_instance, 'p3')\n",
    "# X = problem_instance.L['p3'][:, :-1]\n",
    "# Y = problem_instance.L['p3'][:, -1]\n",
    "# for x, y in zip(X, Y):\n",
    "#     print(x, y, p3(x))\n",
    "\n",
    "print(f'p1: {p1.coeff}')\n",
    "print(f'p2: {p2.coeff}')\n",
    "print(f'p3: {p3.coeff}')\n",
    "\n",
    "print(- p1.coeff[2] / p1.coeff[1] + 0.5 / p1.coeff[1])\n",
    "print(- p2.coeff[2] / p2.coeff[1] + 0.5 / p2.coeff[1])\n",
    "print(- p3.coeff[2] / p3.coeff[1] + 0.5 / p3.coeff[1])"
   ]
  },
  {
   "cell_type": "markdown",
   "metadata": {},
   "source": [
    "```\n",
    "[ 0.75   2.    -1.075]\n",
    "[ 0.31976744  1.93604651 -0.6127907 ]\n",
    "[ 4.4890372e-11  2.0000000e+00 -4.0000000e-01]\n",
    "```"
   ]
  },
  {
   "cell_type": "code",
   "execution_count": 7,
   "metadata": {},
   "outputs": [
    {
     "name": "stdout",
     "output_type": "stream",
     "text": [
      "p1: [ 1.64599155 14.54392469 -7.456264  ]\n",
      "p2: [-31.99999978 -12.00000719  24.30000494]\n",
      "p3: [-71.99984808 -51.99936977  66.96624952]\n",
      "0.5470506873600542\n",
      "1.9833325559449433\n",
      "1.2782125978413794\n"
     ]
    }
   ],
   "source": [
    "p1 = Predicate_dual(problem_instance, 'p1')\n",
    "# X = problem_instance.L['p1'][:, :-1]\n",
    "# Y = problem_instance.L['p1'][:, -1]\n",
    "# for x, y in zip(X, Y):\n",
    "#     print(x, y, p1(x))\n",
    "\n",
    "p2 = Predicate_dual(problem_instance, 'p2')\n",
    "# X = problem_instance.L['p2'][:, :-1]\n",
    "# Y = problem_instance.L['p2'][:, -1]\n",
    "# for x, y in zip(X, Y):\n",
    "#     print(x, y, p2(x))\n",
    "\n",
    "p3 = Predicate_dual(problem_instance, 'p3')\n",
    "# X = problem_instance.L['p3'][:, :-1]\n",
    "# Y = problem_instance.L['p3'][:, -1]\n",
    "# for x, y in zip(X, Y):\n",
    "#     print(x, y, p3(x))\n",
    "\n",
    "print(f'p1: {p1.coeff}')\n",
    "print(f'p2: {p2.coeff}')\n",
    "print(f'p3: {p3.coeff}')\n",
    "\n",
    "print(- p1.coeff[2] / p1.coeff[1] + 0.5 / p1.coeff[1])\n",
    "print(- p2.coeff[2] / p2.coeff[1] + 0.5 / p2.coeff[1])\n",
    "print(- p3.coeff[2] / p3.coeff[1] + 0.5 / p3.coeff[1])"
   ]
  },
  {
   "cell_type": "code",
   "execution_count": null,
   "metadata": {},
   "outputs": [],
   "source": []
  },
  {
   "cell_type": "markdown",
   "metadata": {},
   "source": [
    "# pima indian "
   ]
  },
  {
   "cell_type": "code",
   "execution_count": 18,
   "metadata": {},
   "outputs": [],
   "source": [
    "data_dir_path = os.path.join(project_dir_path, 'inputs/pima_indian_diabetes')\n",
    "train_data_dir_path = os.path.join(data_dir_path, \"train\")\n",
    "file_list = os.listdir(train_data_dir_path)\n",
    "\n",
    "L_files = [filename for filename in file_list \n",
    "           if filename.startswith('L') and filename.endswith('.csv')]\n",
    "\n",
    "U_files = [filename for filename in file_list \n",
    "           if filename.startswith('U') and filename.endswith('.csv')]\n",
    "\n",
    "file_names_dict = {\n",
    "    'supervised': L_files,\n",
    "    'unsupervised': U_files,\n",
    "    'rule': ['rules.txt']\n",
    "}"
   ]
  },
  {
   "cell_type": "code",
   "execution_count": 19,
   "metadata": {},
   "outputs": [
    {
     "name": "stdout",
     "output_type": "stream",
     "text": [
      "load_data took 0.05187487602233887 seconds!\n",
      "load_rules took 0.021090030670166016 seconds!\n",
      "formulate_predicates_with_cvxpy took 0.0003490447998046875 seconds!\n",
      "_construct_P_j took 76.84089016914368 seconds!\n",
      "_construct_P_j took 77.10880208015442 seconds!\n",
      "_construct_P_j took 74.1159770488739 seconds!\n",
      "Unexpected exception formatting exception. Falling back to standard exception\n"
     ]
    },
    {
     "name": "stderr",
     "output_type": "stream",
     "text": [
      "Traceback (most recent call last):\n",
      "  File \"/Users/keisukeonoue/ws/lukasiewicz_1/myenv/lib/python3.11/site-packages/IPython/core/interactiveshell.py\", line 3526, in run_code\n",
      "    exec(code_obj, self.user_global_ns, self.user_ns)\n",
      "  File \"/var/folders/s5/29r5x3qd5h30ntfm58ck0mx00000gn/T/ipykernel_88282/2565102516.py\", line 2, in <module>\n",
      "    objective, constraints = problem_instance.main()\n",
      "                             ^^^^^^^^^^^^^^^^^^^^^^^\n",
      "  File \"/Users/keisukeonoue/ws/lukasiewicz_1/src/setup_problem_dual.py\", line 238, in main\n",
      "    objective_function = self.obj(self).construct()\n",
      "                         ^^^^^^^^^^^^^^^^^^^^^^^^^^\n",
      "  File \"/Users/keisukeonoue/ws/lukasiewicz_1/src/objective_function.py\", line 207, in construct\n",
      "    x, P = self._construct_P_j(j, mapping_x_i, x)\n",
      "           ^^^^^^^^^^^^^^^^^^^^^^^^^^^^^^^^^^^^^^\n",
      "  File \"/Users/keisukeonoue/ws/lukasiewicz_1/src/misc.py\", line 35, in wrapper\n",
      "    result = func(*args, **kwargs)\n",
      "             ^^^^^^^^^^^^^^^^^^^^^\n",
      "  File \"/Users/keisukeonoue/ws/lukasiewicz_1/src/objective_function.py\", line -1, in _construct_P_j\n",
      "KeyboardInterrupt\n",
      "\n",
      "During handling of the above exception, another exception occurred:\n",
      "\n",
      "Traceback (most recent call last):\n",
      "  File \"/Users/keisukeonoue/ws/lukasiewicz_1/myenv/lib/python3.11/site-packages/IPython/core/interactiveshell.py\", line 2120, in showtraceback\n",
      "    stb = self.InteractiveTB.structured_traceback(\n",
      "          ^^^^^^^^^^^^^^^^^^^^^^^^^^^^^^^^^^^^^^^^\n",
      "  File \"/Users/keisukeonoue/ws/lukasiewicz_1/myenv/lib/python3.11/site-packages/IPython/core/ultratb.py\", line 1435, in structured_traceback\n",
      "    return FormattedTB.structured_traceback(\n",
      "           ^^^^^^^^^^^^^^^^^^^^^^^^^^^^^^^^^\n",
      "  File \"/Users/keisukeonoue/ws/lukasiewicz_1/myenv/lib/python3.11/site-packages/IPython/core/ultratb.py\", line 1326, in structured_traceback\n",
      "    return VerboseTB.structured_traceback(\n",
      "           ^^^^^^^^^^^^^^^^^^^^^^^^^^^^^^^\n",
      "  File \"/Users/keisukeonoue/ws/lukasiewicz_1/myenv/lib/python3.11/site-packages/IPython/core/ultratb.py\", line 1173, in structured_traceback\n",
      "    formatted_exception = self.format_exception_as_a_whole(etype, evalue, etb, number_of_lines_of_context,\n",
      "                          ^^^^^^^^^^^^^^^^^^^^^^^^^^^^^^^^^^^^^^^^^^^^^^^^^^^^^^^^^^^^^^^^^^^^^^^^^^^^^^^^\n",
      "  File \"/Users/keisukeonoue/ws/lukasiewicz_1/myenv/lib/python3.11/site-packages/IPython/core/ultratb.py\", line 1088, in format_exception_as_a_whole\n",
      "    frames.append(self.format_record(record))\n",
      "                  ^^^^^^^^^^^^^^^^^^^^^^^^^^\n",
      "  File \"/Users/keisukeonoue/ws/lukasiewicz_1/myenv/lib/python3.11/site-packages/IPython/core/ultratb.py\", line 970, in format_record\n",
      "    frame_info.lines, Colors, self.has_colors, lvals\n",
      "    ^^^^^^^^^^^^^^^^\n",
      "  File \"/Users/keisukeonoue/ws/lukasiewicz_1/myenv/lib/python3.11/site-packages/IPython/core/ultratb.py\", line 792, in lines\n",
      "    return self._sd.lines\n",
      "           ^^^^^^^^^^^^^^\n",
      "  File \"/Users/keisukeonoue/ws/lukasiewicz_1/myenv/lib/python3.11/site-packages/stack_data/utils.py\", line 144, in cached_property_wrapper\n",
      "    value = obj.__dict__[self.func.__name__] = self.func(obj)\n",
      "                                               ^^^^^^^^^^^^^^\n",
      "  File \"/Users/keisukeonoue/ws/lukasiewicz_1/myenv/lib/python3.11/site-packages/stack_data/core.py\", line 734, in lines\n",
      "    pieces = self.included_pieces\n",
      "             ^^^^^^^^^^^^^^^^^^^^\n",
      "  File \"/Users/keisukeonoue/ws/lukasiewicz_1/myenv/lib/python3.11/site-packages/stack_data/utils.py\", line 144, in cached_property_wrapper\n",
      "    value = obj.__dict__[self.func.__name__] = self.func(obj)\n",
      "                                               ^^^^^^^^^^^^^^\n",
      "  File \"/Users/keisukeonoue/ws/lukasiewicz_1/myenv/lib/python3.11/site-packages/stack_data/core.py\", line 681, in included_pieces\n",
      "    pos = scope_pieces.index(self.executing_piece)\n",
      "                             ^^^^^^^^^^^^^^^^^^^^\n",
      "  File \"/Users/keisukeonoue/ws/lukasiewicz_1/myenv/lib/python3.11/site-packages/stack_data/utils.py\", line 144, in cached_property_wrapper\n",
      "    value = obj.__dict__[self.func.__name__] = self.func(obj)\n",
      "                                               ^^^^^^^^^^^^^^\n",
      "  File \"/Users/keisukeonoue/ws/lukasiewicz_1/myenv/lib/python3.11/site-packages/stack_data/core.py\", line 660, in executing_piece\n",
      "    return only(\n",
      "           ^^^^^\n",
      "  File \"/Users/keisukeonoue/ws/lukasiewicz_1/myenv/lib/python3.11/site-packages/executing/executing.py\", line 190, in only\n",
      "    raise NotOneValueFound('Expected one value, found 0')\n",
      "executing.executing.NotOneValueFound: Expected one value, found 0\n"
     ]
    }
   ],
   "source": [
    "problem_instance = Setup(train_data_dir_path, file_names_dict, ObjectiveFunction)\n",
    "objective, constraints = problem_instance.main()\n",
    "\n",
    "problem = cp.Problem(objective, constraints)\n",
    "result = problem.solve(verbose=True)"
   ]
  },
  {
   "cell_type": "code",
   "execution_count": null,
   "metadata": {},
   "outputs": [],
   "source": []
  },
  {
   "cell_type": "code",
   "execution_count": null,
   "metadata": {},
   "outputs": [],
   "source": []
  },
  {
   "cell_type": "code",
   "execution_count": null,
   "metadata": {},
   "outputs": [],
   "source": []
  },
  {
   "cell_type": "code",
   "execution_count": null,
   "metadata": {},
   "outputs": [],
   "source": []
  },
  {
   "cell_type": "code",
   "execution_count": null,
   "metadata": {},
   "outputs": [],
   "source": []
  },
  {
   "cell_type": "code",
   "execution_count": null,
   "metadata": {},
   "outputs": [],
   "source": []
  },
  {
   "cell_type": "code",
   "execution_count": null,
   "metadata": {},
   "outputs": [],
   "source": []
  },
  {
   "cell_type": "code",
   "execution_count": null,
   "metadata": {},
   "outputs": [],
   "source": []
  },
  {
   "cell_type": "code",
   "execution_count": null,
   "metadata": {},
   "outputs": [],
   "source": []
  },
  {
   "cell_type": "code",
   "execution_count": null,
   "metadata": {},
   "outputs": [],
   "source": []
  }
 ],
 "metadata": {
  "kernelspec": {
   "display_name": "myenv",
   "language": "python",
   "name": "python3"
  },
  "language_info": {
   "codemirror_mode": {
    "name": "ipython",
    "version": 3
   },
   "file_extension": ".py",
   "mimetype": "text/x-python",
   "name": "python",
   "nbconvert_exporter": "python",
   "pygments_lexer": "ipython3",
   "version": "3.11.6"
  }
 },
 "nbformat": 4,
 "nbformat_minor": 2
}
