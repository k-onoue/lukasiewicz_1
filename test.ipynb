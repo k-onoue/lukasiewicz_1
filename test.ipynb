{
 "cells": [
  {
   "cell_type": "code",
   "execution_count": 1,
   "metadata": {},
   "outputs": [],
   "source": [
    "%load_ext autoreload\n",
    "%autoreload 2"
   ]
  },
  {
   "cell_type": "code",
   "execution_count": 2,
   "metadata": {},
   "outputs": [],
   "source": [
    "import os\n",
    "\n",
    "import numpy as np\n",
    "import pandas as pd"
   ]
  },
  {
   "cell_type": "code",
   "execution_count": 3,
   "metadata": {},
   "outputs": [
    {
     "data": {
      "text/html": [
       "<div>\n",
       "<style scoped>\n",
       "    .dataframe tbody tr th:only-of-type {\n",
       "        vertical-align: middle;\n",
       "    }\n",
       "\n",
       "    .dataframe tbody tr th {\n",
       "        vertical-align: top;\n",
       "    }\n",
       "\n",
       "    .dataframe thead th {\n",
       "        text-align: right;\n",
       "    }\n",
       "</style>\n",
       "<table border=\"1\" class=\"dataframe\">\n",
       "  <thead>\n",
       "    <tr style=\"text-align: right;\">\n",
       "      <th></th>\n",
       "      <th>albatross</th>\n",
       "      <th>cheetah</th>\n",
       "      <th>ostrich</th>\n",
       "      <th>penguin</th>\n",
       "      <th>zebra</th>\n",
       "    </tr>\n",
       "  </thead>\n",
       "  <tbody>\n",
       "    <tr>\n",
       "      <th>hair(x)</th>\n",
       "      <td>-1.0</td>\n",
       "      <td>1.0</td>\n",
       "      <td>-1.0</td>\n",
       "      <td>-1.0</td>\n",
       "      <td>1.0</td>\n",
       "    </tr>\n",
       "    <tr>\n",
       "      <th>mammal(x)</th>\n",
       "      <td>-1.0</td>\n",
       "      <td>1.0</td>\n",
       "      <td>-1.0</td>\n",
       "      <td>-1.0</td>\n",
       "      <td>1.0</td>\n",
       "    </tr>\n",
       "    <tr>\n",
       "      <th>milk(x)</th>\n",
       "      <td>-1.0</td>\n",
       "      <td>1.0</td>\n",
       "      <td>-1.0</td>\n",
       "      <td>-1.0</td>\n",
       "      <td>-1.0</td>\n",
       "    </tr>\n",
       "    <tr>\n",
       "      <th>feather(x)</th>\n",
       "      <td>1.0</td>\n",
       "      <td>-1.0</td>\n",
       "      <td>1.0</td>\n",
       "      <td>1.0</td>\n",
       "      <td>-1.0</td>\n",
       "    </tr>\n",
       "    <tr>\n",
       "      <th>bird(x)</th>\n",
       "      <td>1.0</td>\n",
       "      <td>-1.0</td>\n",
       "      <td>1.0</td>\n",
       "      <td>1.0</td>\n",
       "      <td>-1.0</td>\n",
       "    </tr>\n",
       "  </tbody>\n",
       "</table>\n",
       "</div>"
      ],
      "text/plain": [
       "            albatross  cheetah  ostrich  penguin  zebra\n",
       "hair(x)          -1.0      1.0     -1.0     -1.0    1.0\n",
       "mammal(x)        -1.0      1.0     -1.0     -1.0    1.0\n",
       "milk(x)          -1.0      1.0     -1.0     -1.0   -1.0\n",
       "feather(x)        1.0     -1.0      1.0      1.0   -1.0\n",
       "bird(x)           1.0     -1.0      1.0      1.0   -1.0"
      ]
     },
     "metadata": {},
     "output_type": "display_data"
    },
    {
     "data": {
      "text/plain": [
       "Index(['n02058221', 'n02130308', 'n01518878', 'n02056570', 'n02391049'], dtype='object')"
      ]
     },
     "metadata": {},
     "output_type": "display_data"
    }
   ],
   "source": [
    "mapping_dict = {\n",
    "    'n02058221': 'albatross',\n",
    "    'n02130308': 'cheetah',\n",
    "    'n01518878': 'ostrich',\n",
    "    'n02056570': 'penguin',\n",
    "    'n02391049': 'zebra'\n",
    "}\n",
    "\n",
    "df_labels = pd.read_csv('./labels.csv', index_col=0).fillna(-1)\n",
    "\n",
    "display(df_labels.head())\n",
    "\n",
    "df_labels.columns = mapping_dict.keys()\n",
    "display(df_labels.columns)"
   ]
  },
  {
   "cell_type": "code",
   "execution_count": 4,
   "metadata": {},
   "outputs": [
    {
     "data": {
      "text/html": [
       "<div>\n",
       "<style scoped>\n",
       "    .dataframe tbody tr th:only-of-type {\n",
       "        vertical-align: middle;\n",
       "    }\n",
       "\n",
       "    .dataframe tbody tr th {\n",
       "        vertical-align: top;\n",
       "    }\n",
       "\n",
       "    .dataframe thead th {\n",
       "        text-align: right;\n",
       "    }\n",
       "</style>\n",
       "<table border=\"1\" class=\"dataframe\">\n",
       "  <thead>\n",
       "    <tr style=\"text-align: right;\">\n",
       "      <th></th>\n",
       "      <th>folder</th>\n",
       "      <th>name</th>\n",
       "      <th>width</th>\n",
       "      <th>height</th>\n",
       "      <th>depth</th>\n",
       "      <th>R</th>\n",
       "      <th>G</th>\n",
       "      <th>B</th>\n",
       "    </tr>\n",
       "  </thead>\n",
       "  <tbody>\n",
       "    <tr>\n",
       "      <th>0</th>\n",
       "      <td>n02056570</td>\n",
       "      <td>8065</td>\n",
       "      <td>1200</td>\n",
       "      <td>1600</td>\n",
       "      <td>3</td>\n",
       "      <td>0.486640</td>\n",
       "      <td>0.440085</td>\n",
       "      <td>0.342231</td>\n",
       "    </tr>\n",
       "    <tr>\n",
       "      <th>1</th>\n",
       "      <td>n02056570</td>\n",
       "      <td>8610</td>\n",
       "      <td>468</td>\n",
       "      <td>500</td>\n",
       "      <td>3</td>\n",
       "      <td>0.427333</td>\n",
       "      <td>0.406967</td>\n",
       "      <td>0.376660</td>\n",
       "    </tr>\n",
       "    <tr>\n",
       "      <th>2</th>\n",
       "      <td>n02056570</td>\n",
       "      <td>8445</td>\n",
       "      <td>500</td>\n",
       "      <td>375</td>\n",
       "      <td>3</td>\n",
       "      <td>0.509321</td>\n",
       "      <td>0.512104</td>\n",
       "      <td>0.398580</td>\n",
       "    </tr>\n",
       "    <tr>\n",
       "      <th>3</th>\n",
       "      <td>n02056570</td>\n",
       "      <td>1188</td>\n",
       "      <td>85</td>\n",
       "      <td>62</td>\n",
       "      <td>3</td>\n",
       "      <td>0.581645</td>\n",
       "      <td>0.572609</td>\n",
       "      <td>0.549550</td>\n",
       "    </tr>\n",
       "    <tr>\n",
       "      <th>4</th>\n",
       "      <td>n02056570</td>\n",
       "      <td>8237</td>\n",
       "      <td>375</td>\n",
       "      <td>500</td>\n",
       "      <td>3</td>\n",
       "      <td>0.505475</td>\n",
       "      <td>0.517679</td>\n",
       "      <td>0.422280</td>\n",
       "    </tr>\n",
       "  </tbody>\n",
       "</table>\n",
       "</div>"
      ],
      "text/plain": [
       "      folder  name  width  height  depth         R         G         B\n",
       "0  n02056570  8065   1200    1600      3  0.486640  0.440085  0.342231\n",
       "1  n02056570  8610    468     500      3  0.427333  0.406967  0.376660\n",
       "2  n02056570  8445    500     375      3  0.509321  0.512104  0.398580\n",
       "3  n02056570  1188     85      62      3  0.581645  0.572609  0.549550\n",
       "4  n02056570  8237    375     500      3  0.505475  0.517679  0.422280"
      ]
     },
     "execution_count": 4,
     "metadata": {},
     "output_type": "execute_result"
    }
   ],
   "source": [
    "df_data = pd.read_csv('./data.csv', index_col=0)\n",
    "df_additional = pd.read_csv('./data_additional.csv', index_col=0)\n",
    "\n",
    "df_data = pd.concat([df_data, df_additional], axis=0, ignore_index=True)\n",
    "df_data.head()"
   ]
  },
  {
   "cell_type": "code",
   "execution_count": 5,
   "metadata": {},
   "outputs": [],
   "source": [
    "# tmp_dict = {}\n",
    "\n",
    "# for idx, row in df_labels.iterrows():\n",
    "#     for i, r in enumerate(row):\n",
    "#         if df_labels.columns[i] not in tmp_dict:  \n",
    "#             tmp_dict[df_labels.columns[i]] = []\n",
    "#         tmp_dict[df_labels.columns[i]].append([idx, r])\n",
    "#         # tmp_list.append([idx, r, df_labels.columns[i]])\n",
    "\n",
    "# tmp_list = []\n",
    "\n",
    "# for idx, row in df_data.iterrows():\n",
    "#     r = row[0]\n",
    "#     for item in tmp_dict[r]:\n",
    "#         tmp_list.append([r, item[0], item[1], row['R'], row['G'], row['B']])\n",
    "#         # print(r, item, row['R'])\n",
    "\n",
    "# df_converted = pd.DataFrame(tmp_list)\n",
    "# df_converted"
   ]
  },
  {
   "cell_type": "code",
   "execution_count": 6,
   "metadata": {},
   "outputs": [],
   "source": [
    "# condition = (df_converted.loc[:, 1] == 'hair(x)')\n",
    "# df_converted.loc[condition]"
   ]
  },
  {
   "cell_type": "code",
   "execution_count": 166,
   "metadata": {},
   "outputs": [],
   "source": [
    "dir_path = './winston'\n",
    "\n",
    "tmp_list = []\n",
    "\n",
    "for idx, row in df_labels.iterrows():\n",
    "    file_name = \"L_\" + idx + \".csv\"\n",
    "    df_tmp = df_data.loc[:, ['folder', 'R', 'G', 'B']].copy()\n",
    "    df_tmp.loc[:, 'label'] = 'hello'\n",
    "\n",
    "    for folder_name in mapping_dict.keys():\n",
    "        condition = df_tmp.loc[:, 'folder'] == folder_name\n",
    "        df_tmp.loc[condition, 'label'] = row[folder_name]\n",
    "\n",
    "    df_tmp = df_tmp.drop(['folder'], axis=1)\n",
    "\n",
    "    tmp_list.append(df_tmp)\n",
    "\n",
    "    df_tmp.to_csv(os.path.join(dir_path, file_name))"
   ]
  },
  {
   "cell_type": "code",
   "execution_count": 7,
   "metadata": {},
   "outputs": [
    {
     "data": {
      "text/html": [
       "<div>\n",
       "<style scoped>\n",
       "    .dataframe tbody tr th:only-of-type {\n",
       "        vertical-align: middle;\n",
       "    }\n",
       "\n",
       "    .dataframe tbody tr th {\n",
       "        vertical-align: top;\n",
       "    }\n",
       "\n",
       "    .dataframe thead th {\n",
       "        text-align: right;\n",
       "    }\n",
       "</style>\n",
       "<table border=\"1\" class=\"dataframe\">\n",
       "  <thead>\n",
       "    <tr style=\"text-align: right;\">\n",
       "      <th></th>\n",
       "      <th>folder</th>\n",
       "      <th>name</th>\n",
       "      <th>width</th>\n",
       "      <th>height</th>\n",
       "      <th>depth</th>\n",
       "      <th>R</th>\n",
       "      <th>G</th>\n",
       "      <th>B</th>\n",
       "    </tr>\n",
       "  </thead>\n",
       "  <tbody>\n",
       "    <tr>\n",
       "      <th>0</th>\n",
       "      <td>n02056570</td>\n",
       "      <td>8065</td>\n",
       "      <td>1200</td>\n",
       "      <td>1600</td>\n",
       "      <td>3</td>\n",
       "      <td>0.486640</td>\n",
       "      <td>0.440085</td>\n",
       "      <td>0.342231</td>\n",
       "    </tr>\n",
       "    <tr>\n",
       "      <th>1</th>\n",
       "      <td>n02056570</td>\n",
       "      <td>8610</td>\n",
       "      <td>468</td>\n",
       "      <td>500</td>\n",
       "      <td>3</td>\n",
       "      <td>0.427333</td>\n",
       "      <td>0.406967</td>\n",
       "      <td>0.376660</td>\n",
       "    </tr>\n",
       "    <tr>\n",
       "      <th>2</th>\n",
       "      <td>n02056570</td>\n",
       "      <td>8445</td>\n",
       "      <td>500</td>\n",
       "      <td>375</td>\n",
       "      <td>3</td>\n",
       "      <td>0.509321</td>\n",
       "      <td>0.512104</td>\n",
       "      <td>0.398580</td>\n",
       "    </tr>\n",
       "    <tr>\n",
       "      <th>3</th>\n",
       "      <td>n02056570</td>\n",
       "      <td>1188</td>\n",
       "      <td>85</td>\n",
       "      <td>62</td>\n",
       "      <td>3</td>\n",
       "      <td>0.581645</td>\n",
       "      <td>0.572609</td>\n",
       "      <td>0.549550</td>\n",
       "    </tr>\n",
       "    <tr>\n",
       "      <th>4</th>\n",
       "      <td>n02056570</td>\n",
       "      <td>8237</td>\n",
       "      <td>375</td>\n",
       "      <td>500</td>\n",
       "      <td>3</td>\n",
       "      <td>0.505475</td>\n",
       "      <td>0.517679</td>\n",
       "      <td>0.422280</td>\n",
       "    </tr>\n",
       "    <tr>\n",
       "      <th>...</th>\n",
       "      <td>...</td>\n",
       "      <td>...</td>\n",
       "      <td>...</td>\n",
       "      <td>...</td>\n",
       "      <td>...</td>\n",
       "      <td>...</td>\n",
       "      <td>...</td>\n",
       "      <td>...</td>\n",
       "    </tr>\n",
       "    <tr>\n",
       "      <th>6495</th>\n",
       "      <td>n02391049</td>\n",
       "      <td>2311</td>\n",
       "      <td>333</td>\n",
       "      <td>500</td>\n",
       "      <td>3</td>\n",
       "      <td>0.618658</td>\n",
       "      <td>0.583356</td>\n",
       "      <td>0.521907</td>\n",
       "    </tr>\n",
       "    <tr>\n",
       "      <th>6496</th>\n",
       "      <td>n02391049</td>\n",
       "      <td>6650</td>\n",
       "      <td>379</td>\n",
       "      <td>500</td>\n",
       "      <td>3</td>\n",
       "      <td>0.506803</td>\n",
       "      <td>0.401962</td>\n",
       "      <td>0.288625</td>\n",
       "    </tr>\n",
       "    <tr>\n",
       "      <th>6497</th>\n",
       "      <td>n02391049</td>\n",
       "      <td>2627</td>\n",
       "      <td>500</td>\n",
       "      <td>375</td>\n",
       "      <td>3</td>\n",
       "      <td>0.517260</td>\n",
       "      <td>0.509384</td>\n",
       "      <td>0.498286</td>\n",
       "    </tr>\n",
       "    <tr>\n",
       "      <th>6498</th>\n",
       "      <td>n02391049</td>\n",
       "      <td>7258</td>\n",
       "      <td>375</td>\n",
       "      <td>500</td>\n",
       "      <td>3</td>\n",
       "      <td>0.470308</td>\n",
       "      <td>0.439706</td>\n",
       "      <td>0.373938</td>\n",
       "    </tr>\n",
       "    <tr>\n",
       "      <th>6499</th>\n",
       "      <td>n02391049</td>\n",
       "      <td>2102</td>\n",
       "      <td>333</td>\n",
       "      <td>500</td>\n",
       "      <td>3</td>\n",
       "      <td>0.391544</td>\n",
       "      <td>0.400506</td>\n",
       "      <td>0.424961</td>\n",
       "    </tr>\n",
       "  </tbody>\n",
       "</table>\n",
       "<p>6500 rows × 8 columns</p>\n",
       "</div>"
      ],
      "text/plain": [
       "         folder  name  width  height  depth         R         G         B\n",
       "0     n02056570  8065   1200    1600      3  0.486640  0.440085  0.342231\n",
       "1     n02056570  8610    468     500      3  0.427333  0.406967  0.376660\n",
       "2     n02056570  8445    500     375      3  0.509321  0.512104  0.398580\n",
       "3     n02056570  1188     85      62      3  0.581645  0.572609  0.549550\n",
       "4     n02056570  8237    375     500      3  0.505475  0.517679  0.422280\n",
       "...         ...   ...    ...     ...    ...       ...       ...       ...\n",
       "6495  n02391049  2311    333     500      3  0.618658  0.583356  0.521907\n",
       "6496  n02391049  6650    379     500      3  0.506803  0.401962  0.288625\n",
       "6497  n02391049  2627    500     375      3  0.517260  0.509384  0.498286\n",
       "6498  n02391049  7258    375     500      3  0.470308  0.439706  0.373938\n",
       "6499  n02391049  2102    333     500      3  0.391544  0.400506  0.424961\n",
       "\n",
       "[6500 rows x 8 columns]"
      ]
     },
     "execution_count": 7,
     "metadata": {},
     "output_type": "execute_result"
    }
   ],
   "source": [
    "df_data"
   ]
  },
  {
   "cell_type": "code",
   "execution_count": 8,
   "metadata": {},
   "outputs": [],
   "source": [
    "dir_path = './winston2'\n",
    "\n",
    "tmp_list = []\n",
    "\n",
    "for idx, row in df_labels.iterrows():\n",
    "    file_name = \"L_\" + idx + \".csv\"\n",
    "    df_tmp = df_data.loc[:, ['folder', 'R', 'G', 'B']].copy()\n",
    "    df_tmp.loc[:, 'label'] = 'hello'\n",
    "\n",
    "    for folder_name in mapping_dict.keys():\n",
    "        condition = df_tmp.loc[:, 'folder'] == folder_name\n",
    "        df_tmp.loc[condition, 'label'] = row[folder_name]\n",
    "\n",
    "        selected_rows = df_tmp[condition].sample(n=2)\n",
    "        df_tmp = pd.concat([selected_rows, df_tmp[~condition]])\n",
    "\n",
    "    df_tmp = df_tmp.drop(['folder'], axis=1)\n",
    "\n",
    "    tmp_list.append(df_tmp)\n",
    "\n",
    "    df_tmp.to_csv(os.path.join(dir_path, file_name))"
   ]
  },
  {
   "cell_type": "code",
   "execution_count": 176,
   "metadata": {},
   "outputs": [],
   "source": [
    "file_name = 'U.csv'\n",
    "arr_U = np.random.rand(10,3)\n",
    "df_U = pd.DataFrame(arr_U)\n",
    "df_U.to_csv(os.path.join('./inputs/winston', file_name))"
   ]
  },
  {
   "cell_type": "code",
   "execution_count": null,
   "metadata": {},
   "outputs": [],
   "source": []
  },
  {
   "cell_type": "code",
   "execution_count": 11,
   "metadata": {},
   "outputs": [
    {
     "data": {
      "text/plain": [
       "31"
      ]
     },
     "execution_count": 11,
     "metadata": {},
     "output_type": "execute_result"
    }
   ],
   "source": [
    "len(tmp_list)"
   ]
  },
  {
   "cell_type": "code",
   "execution_count": null,
   "metadata": {},
   "outputs": [],
   "source": []
  },
  {
   "cell_type": "code",
   "execution_count": null,
   "metadata": {},
   "outputs": [],
   "source": [
    "# あとで\n",
    "\n",
    "# import shutil\n",
    "# import os\n",
    "\n",
    "# os.listdir('/media/onoue/BuffaloSSD/imagenet_kaggle/ILSVRC/Data/CLS-LOC/train')\n",
    "\n",
    "\n",
    "# usb_directory = '/media/onoue/BuffaloSSD/imagenet_kaggle/ILSVRC/Data/CLS-LOC/train'\n",
    "# local_directory = '/home/onoue/ws/lukasiewicz/imagenet/ILSVRC/Data/CLS-LOC/train'\n",
    "# filter_directory_name = '特定のディレクトリ名'\n",
    "\n",
    "# for root, dirs, files in os.walk(usb_directory):\n",
    "#     for dir in dirs:\n",
    "#         if dir == filter_directory_name:\n",
    "#             source_dir = os.path.join(root, dir)\n",
    "#             dest_dir = source_dir.replace(usb_directory, local_directory)\n",
    "#             shutil.copytree(source_dir, dest_dir)\n",
    "\n"
   ]
  },
  {
   "cell_type": "code",
   "execution_count": 18,
   "metadata": {},
   "outputs": [
    {
     "data": {
      "text/plain": [
       "['n02056570', 'n01518878', 'n02058221', 'n02130308']"
      ]
     },
     "execution_count": 18,
     "metadata": {},
     "output_type": "execute_result"
    }
   ],
   "source": [
    "work_dir_path = './imagenet/ILSVRC/Annotations/CLS-LOC/train/'\n",
    "os.listdir(work_dir_path)"
   ]
  },
  {
   "cell_type": "code",
   "execution_count": 22,
   "metadata": {},
   "outputs": [
    {
     "name": "stdout",
     "output_type": "stream",
     "text": [
      "['n02056570_9962.xml', 'n02056570_9955.xml', 'n02056570_9521.xml', 'n02056570_3228.xml', 'n02056570_281.xml', 'n02056570_3502.xml', 'n02056570_8443.xml', 'n02056570_9449.xml', 'n02056570_8367.xml', 'n02056570_10004.xml', 'n02056570_11917.xml', 'n02056570_821.xml', 'n02056570_1337.xml', 'n02056570_9421.xml', 'n02056570_9515.xml', 'n02056570_8368.xml', 'n02056570_8565.xml', 'n02056570_362.xml', 'n02056570_1864.xml', 'n02056570_4309.xml', 'n02056570_1366.xml', 'n02056570_4481.xml', 'n02056570_9123.xml', 'n02056570_8376.xml', 'n02056570_8789.xml', 'n02056570_3418.xml', 'n02056570_9982.xml', 'n02056570_9148.xml', 'n02056570_19496.xml', 'n02056570_9638.xml', 'n02056570_998.xml', 'n02056570_8224.xml', 'n02056570_3967.xml', 'n02056570_2199.xml', 'n02056570_9788.xml', 'n02056570_14151.xml', 'n02056570_9492.xml', 'n02056570_9676.xml', 'n02056570_9296.xml', 'n02056570_251.xml', 'n02056570_9450.xml', 'n02056570_8762.xml', 'n02056570_8246.xml', 'n02056570_18153.xml', 'n02056570_9666.xml', 'n02056570_9957.xml', 'n02056570_8543.xml', 'n02056570_9898.xml', 'n02056570_8839.xml', 'n02056570_321.xml', 'n02056570_863.xml', 'n02056570_11921.xml', 'n02056570_9900.xml', 'n02056570_8843.xml', 'n02056570_3288.xml', 'n02056570_1067.xml', 'n02056570_9765.xml', 'n02056570_9128.xml', 'n02056570_10293.xml', 'n02056570_13692.xml', 'n02056570_3318.xml', 'n02056570_8600.xml', 'n02056570_8775.xml', 'n02056570_2043.xml', 'n02056570_2843.xml', 'n02056570_3303.xml', 'n02056570_184.xml', 'n02056570_8831.xml', 'n02056570_1202.xml', 'n02056570_1971.xml', 'n02056570_8181.xml', 'n02056570_8201.xml', 'n02056570_8184.xml', 'n02056570_8804.xml', 'n02056570_574.xml', 'n02056570_9134.xml', 'n02056570_8210.xml', 'n02056570_3068.xml', 'n02056570_1835.xml', 'n02056570_9953.xml', 'n02056570_583.xml', 'n02056570_2875.xml', 'n02056570_2126.xml', 'n02056570_9791.xml', 'n02056570_3145.xml', 'n02056570_9814.xml', 'n02056570_3121.xml', 'n02056570_1447.xml', 'n02056570_11073.xml', 'n02056570_2923.xml', 'n02056570_11355.xml', 'n02056570_9556.xml', 'n02056570_1031.xml', 'n02056570_1161.xml', 'n02056570_68.xml', 'n02056570_8397.xml', 'n02056570_9339.xml', 'n02056570_18502.xml', 'n02056570_63.xml', 'n02056570_8463.xml', 'n02056570_2867.xml', 'n02056570_2946.xml', 'n02056570_1195.xml', 'n02056570_5592.xml', 'n02056570_48.xml', 'n02056570_8341.xml', 'n02056570_8263.xml', 'n02056570_1446.xml', 'n02056570_9487.xml', 'n02056570_9358.xml', 'n02056570_2375.xml', 'n02056570_808.xml', 'n02056570_8917.xml', 'n02056570_182.xml', 'n02056570_3932.xml', 'n02056570_8299.xml', 'n02056570_9416.xml', 'n02056570_3535.xml', 'n02056570_9894.xml', 'n02056570_2576.xml', 'n02056570_21917.xml', 'n02056570_8333.xml', 'n02056570_8983.xml', 'n02056570_2881.xml', 'n02056570_9280.xml', 'n02056570_9504.xml', 'n02056570_9615.xml', 'n02056570_9813.xml', 'n02056570_22170.xml', 'n02056570_8055.xml', 'n02056570_26297.xml', 'n02056570_9919.xml', 'n02056570_836.xml', 'n02056570_8606.xml', 'n02056570_10087.xml', 'n02056570_6329.xml', 'n02056570_9901.xml', 'n02056570_9945.xml', 'n02056570_9328.xml', 'n02056570_25917.xml', 'n02056570_8799.xml', 'n02056570_588.xml', 'n02056570_7972.xml', 'n02056570_10101.xml', 'n02056570_9314.xml', 'n02056570_13929.xml', 'n02056570_8361.xml', 'n02056570_1274.xml', 'n02056570_8866.xml', 'n02056570_7131.xml', 'n02056570_8752.xml', 'n02056570_9935.xml', 'n02056570_9608.xml', 'n02056570_9768.xml', 'n02056570_106.xml', 'n02056570_9773.xml', 'n02056570_9986.xml', 'n02056570_142.xml', 'n02056570_8174.xml', 'n02056570_13168.xml', 'n02056570_9800.xml', 'n02056570_870.xml', 'n02056570_9373.xml', 'n02056570_8864.xml', 'n02056570_8467.xml', 'n02056570_9636.xml', 'n02056570_2379.xml', 'n02056570_500.xml', 'n02056570_503.xml', 'n02056570_11875.xml', 'n02056570_1090.xml', 'n02056570_9033.xml', 'n02056570_10109.xml', 'n02056570_9519.xml', 'n02056570_914.xml', 'n02056570_9384.xml', 'n02056570_893.xml', 'n02056570_1690.xml', 'n02056570_9288.xml', 'n02056570_9078.xml', 'n02056570_342.xml', 'n02056570_10080.xml', 'n02056570_3244.xml', 'n02056570_5018.xml', 'n02056570_9614.xml', 'n02056570_8456.xml', 'n02056570_10005.xml', 'n02056570_13479.xml', 'n02056570_10469.xml', 'n02056570_11341.xml', 'n02056570_26614.xml', 'n02056570_2897.xml', 'n02056570_8567.xml', 'n02056570_379.xml', 'n02056570_8394.xml', 'n02056570_8490.xml', 'n02056570_70.xml', 'n02056570_391.xml', 'n02056570_20387.xml', 'n02056570_9333.xml', 'n02056570_19677.xml', 'n02056570_9673.xml', 'n02056570_8925.xml', 'n02056570_9652.xml', 'n02056570_8553.xml', 'n02056570_10149.xml', 'n02056570_12718.xml', 'n02056570_930.xml', 'n02056570_2149.xml', 'n02056570_8275.xml', 'n02056570_3361.xml', 'n02056570_19893.xml', 'n02056570_1196.xml', 'n02056570_9177.xml', 'n02056570_8432.xml', 'n02056570_8993.xml', 'n02056570_9302.xml', 'n02056570_9381.xml', 'n02056570_2839.xml', 'n02056570_9525.xml', 'n02056570_9718.xml', 'n02056570_9268.xml', 'n02056570_3036.xml', 'n02056570_8445.xml', 'n02056570_8287.xml', 'n02056570_849.xml', 'n02056570_9848.xml', 'n02056570_9490.xml', 'n02056570_8710.xml', 'n02056570_8413.xml', 'n02056570_9250.xml', 'n02056570_10288.xml', 'n02056570_2048.xml', 'n02056570_8458.xml', 'n02056570_8408.xml', 'n02056570_8756.xml', 'n02056570_8313.xml', 'n02056570_9720.xml', 'n02056570_9811.xml', 'n02056570_235.xml', 'n02056570_3809.xml', 'n02056570_9306.xml', 'n02056570_8259.xml', 'n02056570_9761.xml', 'n02056570_3631.xml', 'n02056570_4696.xml', 'n02056570_109.xml', 'n02056570_2143.xml', 'n02056570_1422.xml', 'n02056570_3382.xml', 'n02056570_9164.xml', 'n02056570_2735.xml', 'n02056570_7993.xml', 'n02056570_576.xml', 'n02056570_10044.xml', 'n02056570_13570.xml', 'n02056570_8547.xml', 'n02056570_23738.xml', 'n02056570_9820.xml', 'n02056570_9338.xml', 'n02056570_9690.xml', 'n02056570_9976.xml', 'n02056570_416.xml', 'n02056570_8485.xml', 'n02056570_1686.xml', 'n02056570_9220.xml', 'n02056570_969.xml', 'n02056570_8576.xml', 'n02056570_9657.xml', 'n02056570_8369.xml', 'n02056570_2568.xml', 'n02056570_4820.xml', 'n02056570_1303.xml', 'n02056570_23976.xml', 'n02056570_10083.xml', 'n02056570_6936.xml', 'n02056570_551.xml', 'n02056570_10517.xml', 'n02056570_1038.xml', 'n02056570_8364.xml', 'n02056570_8876.xml', 'n02056570_8692.xml', 'n02056570_9348.xml', 'n02056570_1817.xml', 'n02056570_9937.xml', 'n02056570_9390.xml', 'n02056570_3311.xml', 'n02056570_8322.xml', 'n02056570_3192.xml', 'n02056570_2070.xml', 'n02056570_7086.xml', 'n02056570_2145.xml', 'n02056570_15798.xml', 'n02056570_3971.xml', 'n02056570_1348.xml', 'n02056570_9266.xml', 'n02056570_10116.xml', 'n02056570_8253.xml', 'n02056570_11206.xml', 'n02056570_444.xml', 'n02056570_8582.xml', 'n02056570_8286.xml', 'n02056570_741.xml', 'n02056570_8200.xml', 'n02056570_8411.xml', 'n02056570_1151.xml', 'n02056570_9370.xml', 'n02056570_2755.xml', 'n02056570_8821.xml', 'n02056570_9140.xml', 'n02056570_902.xml', 'n02056570_8242.xml', 'n02056570_9694.xml', 'n02056570_85.xml', 'n02056570_1416.xml', 'n02056570_2217.xml', 'n02056570_9405.xml', 'n02056570_3572.xml', 'n02056570_9055.xml', 'n02056570_4534.xml', 'n02056570_9834.xml', 'n02056570_8478.xml', 'n02056570_8795.xml', 'n02056570_824.xml', 'n02056570_8227.xml', 'n02056570_8797.xml', 'n02056570_9057.xml', 'n02056570_8518.xml', 'n02056570_9371.xml', 'n02056570_8556.xml', 'n02056570_11324.xml', 'n02056570_9605.xml', 'n02056570_8321.xml', 'n02056570_8742.xml', 'n02056570_8510.xml', 'n02056570_8915.xml', 'n02056570_8230.xml', 'n02056570_1401.xml', 'n02056570_4116.xml', 'n02056570_9369.xml', 'n02056570_8334.xml', 'n02056570_9572.xml', 'n02056570_6478.xml', 'n02056570_8627.xml', 'n02056570_9068.xml', 'n02056570_9241.xml', 'n02056570_8879.xml', 'n02056570_3308.xml', 'n02056570_1240.xml', 'n02056570_8312.xml', 'n02056570_1607.xml', 'n02056570_42.xml', 'n02056570_8217.xml', 'n02056570_2175.xml', 'n02056570_8303.xml', 'n02056570_1405.xml', 'n02056570_8709.xml', 'n02056570_3156.xml', 'n02056570_10062.xml', 'n02056570_9859.xml', 'n02056570_10002.xml', 'n02056570_10027.xml', 'n02056570_8646.xml', 'n02056570_2868.xml', 'n02056570_716.xml', 'n02056570_9176.xml', 'n02056570_8203.xml', 'n02056570_4402.xml', 'n02056570_2704.xml', 'n02056570_2208.xml', 'n02056570_15074.xml', 'n02056570_8338.xml', 'n02056570_9517.xml', 'n02056570_9310.xml', 'n02056570_10089.xml', 'n02056570_10076.xml', 'n02056570_10082.xml', 'n02056570_617.xml', 'n02056570_10079.xml', 'n02056570_1169.xml', 'n02056570_8653.xml', 'n02056570_9776.xml', 'n02056570_8754.xml', 'n02056570_9353.xml', 'n02056570_9872.xml', 'n02056570_3445.xml', 'n02056570_8336.xml', 'n02056570_12563.xml', 'n02056570_8374.xml', 'n02056570_696.xml', 'n02056570_3258.xml', 'n02056570_8272.xml', 'n02056570_8236.xml', 'n02056570_7750.xml', 'n02056570_10028.xml', 'n02056570_407.xml', 'n02056570_13897.xml', 'n02056570_1798.xml', 'n02056570_1322.xml', 'n02056570_8802.xml', 'n02056570_9710.xml', 'n02056570_8889.xml', 'n02056570_8206.xml', 'n02056570_1536.xml', 'n02056570_9587.xml', 'n02056570_15771.xml', 'n02056570_10003.xml', 'n02056570_2920.xml', 'n02056570_11331.xml', 'n02056570_8736.xml', 'n02056570_10862.xml', 'n02056570_3194.xml', 'n02056570_11626.xml', 'n02056570_1603.xml', 'n02056570_8841.xml', 'n02056570_12378.xml', 'n02056570_12774.xml', 'n02056570_9207.xml', 'n02056570_3585.xml', 'n02056570_8292.xml', 'n02056570_7632.xml', 'n02056570_2533.xml', 'n02056570_10119.xml', 'n02056570_599.xml', 'n02056570_8720.xml', 'n02056570_16623.xml', 'n02056570_9887.xml', 'n02056570_10248.xml', 'n02056570_8265.xml', 'n02056570_12660.xml', 'n02056570_8641.xml', 'n02056570_9200.xml', 'n02056570_11311.xml', 'n02056570_915.xml', 'n02056570_13255.xml', 'n02056570_9336.xml', 'n02056570_8343.xml', 'n02056570_1005.xml', 'n02056570_8535.xml', 'n02056570_1452.xml', 'n02056570_9503.xml', 'n02056570_8384.xml', 'n02056570_9802.xml', 'n02056570_25703.xml', 'n02056570_9581.xml', 'n02056570_25491.xml', 'n02056570_3562.xml', 'n02056570_9810.xml', 'n02056570_1863.xml', 'n02056570_2236.xml', 'n02056570_9897.xml', 'n02056570_8716.xml', 'n02056570_1698.xml', 'n02056570_9352.xml', 'n02056570_1084.xml', 'n02056570_3365.xml', 'n02056570_8493.xml', 'n02056570_10108.xml', 'n02056570_9916.xml', 'n02056570_10019.xml', 'n02056570_11918.xml', 'n02056570_9203.xml', 'n02056570_1605.xml', 'n02056570_1675.xml', 'n02056570_8514.xml', 'n02056570_9541.xml', 'n02056570_9187.xml', 'n02056570_2188.xml', 'n02056570_1141.xml', 'n02056570_8256.xml', 'n02056570_2486.xml', 'n02056570_3283.xml', 'n02056570_1302.xml', 'n02056570_8842.xml', 'n02056570_2833.xml', 'n02056570_10131.xml', 'n02056570_13073.xml', 'n02056570_8323.xml', 'n02056570_11523.xml', 'n02056570_9367.xml', 'n02056570_348.xml', 'n02056570_10068.xml', 'n02056570_9553.xml', 'n02056570_3334.xml', 'n02056570_9975.xml', 'n02056570_8003.xml', 'n02056570_3164.xml', 'n02056570_9227.xml', 'n02056570_8604.xml', 'n02056570_963.xml', 'n02056570_6409.xml', 'n02056570_9366.xml', 'n02056570_901.xml', 'n02056570_1206.xml', 'n02056570_23998.xml', 'n02056570_8615.xml', 'n02056570_8587.xml', 'n02056570_3239.xml', 'n02056570_8929.xml', 'n02056570_9183.xml', 'n02056570_9677.xml', 'n02056570_3294.xml', 'n02056570_3320.xml', 'n02056570_9108.xml', 'n02056570_2608.xml', 'n02056570_9701.xml', 'n02056570_9630.xml', 'n02056570_9279.xml', 'n02056570_9828.xml', 'n02056570_10140.xml', 'n02056570_8243.xml', 'n02056570_252.xml', 'n02056570_2561.xml', 'n02056570_9236.xml', 'n02056570_8731.xml', 'n02056570_8440.xml', 'n02056570_9321.xml', 'n02056570_2974.xml', 'n02056570_1039.xml', 'n02056570_7987.xml', 'n02056570_5255.xml', 'n02056570_9785.xml', 'n02056570_9984.xml', 'n02056570_9422.xml', 'n02056570_9819.xml', 'n02056570_10509.xml', 'n02056570_240.xml', 'n02056570_790.xml', 'n02056570_12599.xml', 'n02056570_9942.xml', 'n02056570_5193.xml', 'n02056570_13048.xml', 'n02056570_8424.xml', 'n02056570_9307.xml', 'n02056570_9294.xml', 'n02056570_9195.xml', 'n02056570_477.xml', 'n02056570_2827.xml', 'n02056570_172.xml', 'n02056570_1323.xml', 'n02056570_8453.xml', 'n02056570_458.xml', 'n02056570_8561.xml', 'n02056570_2264.xml', 'n02056570_9091.xml', 'n02056570_1696.xml', 'n02056570_10879.xml', 'n02056570_1104.xml', 'n02056570_8271.xml', 'n02056570_1018.xml', 'n02056570_2824.xml', 'n02056570_9355.xml', 'n02056570_1188.xml', 'n02056570_9455.xml', 'n02056570_8354.xml', 'n02056570_936.xml', 'n02056570_2029.xml', 'n02056570_12035.xml', 'n02056570_9774.xml', 'n02056570_429.xml', 'n02056570_10486.xml', 'n02056570_9528.xml', 'n02056570_10103.xml', 'n02056570_10090.xml', 'n02056570_9675.xml', 'n02056570_5698.xml', 'n02056570_11070.xml', 'n02056570_12611.xml', 'n02056570_8370.xml', 'n02056570_8851.xml', 'n02056570_5496.xml', 'n02056570_7339.xml', 'n02056570_8192.xml', 'n02056570_9832.xml', 'n02056570_3193.xml', 'n02056570_13122.xml', 'n02056570_271.xml', 'n02056570_9198.xml', 'n02056570_10146.xml', 'n02056570_10286.xml', 'n02056570_9860.xml', 'n02056570_23735.xml', 'n02056570_2937.xml', 'n02056570_333.xml', 'n02056570_8616.xml', 'n02056570_9233.xml', 'n02056570_227.xml', 'n02056570_5500.xml', 'n02056570_8928.xml', 'n02056570_10069.xml', 'n02056570_1166.xml', 'n02056570_9863.xml', 'n02056570_5891.xml', 'n02056570_9270.xml', 'n02056570_8337.xml', 'n02056570_2170.xml']\n"
     ]
    }
   ],
   "source": [
    "file_names = os.listdir(os.path.join(work_dir_path, 'n02056570'))\n",
    "print(file_names)"
   ]
  },
  {
   "cell_type": "code",
   "execution_count": 24,
   "metadata": {},
   "outputs": [
    {
     "data": {
      "text/plain": [
       "'n02056570_9962.xml'"
      ]
     },
     "execution_count": 24,
     "metadata": {},
     "output_type": "execute_result"
    }
   ],
   "source": [
    "file_names[0]"
   ]
  },
  {
   "cell_type": "code",
   "execution_count": 21,
   "metadata": {},
   "outputs": [],
   "source": [
    "import xml.etree.ElementTree as ET\n"
   ]
  },
  {
   "cell_type": "code",
   "execution_count": 33,
   "metadata": {},
   "outputs": [],
   "source": [
    "#xmlデータを読み込みます\n",
    "tree = ET.parse(os.path.join(work_dir_path, 'n02056570/n02056570_9962.xml'))\n",
    "\n",
    "#一番上の階層の要素を取り出します\n",
    "root = tree.getroot()"
   ]
  },
  {
   "cell_type": "code",
   "execution_count": 37,
   "metadata": {},
   "outputs": [
    {
     "name": "stdout",
     "output_type": "stream",
     "text": [
      "folder\n",
      "{}\n",
      "filename\n",
      "{}\n",
      "source\n",
      "{}\n",
      "size\n",
      "{}\n",
      "segmented\n",
      "{}\n",
      "object\n",
      "{}\n"
     ]
    }
   ],
   "source": [
    "for child in root:\n",
    "    print(child.tag)\n",
    "    print(child.attrib)"
   ]
  },
  {
   "cell_type": "code",
   "execution_count": 41,
   "metadata": {},
   "outputs": [
    {
     "data": {
      "text/plain": [
       "{'filename': 'n02056570_9962', 'width': 334, 'height': 500, 'depth': 3}"
      ]
     },
     "execution_count": 41,
     "metadata": {},
     "output_type": "execute_result"
    }
   ],
   "source": [
    "data = {\n",
    "    'filename': root.find('filename').text,\n",
    "    'width': int(root.find('.//width').text),\n",
    "    'height': int(root.find('.//height').text),\n",
    "    'depth': int(root.find('.//depth').text)\n",
    "}\n",
    "\n",
    "data\n",
    "\n",
    "# # 辞書をPandas DataFrameに変換\n",
    "# df = pd.DataFrame(data)\n",
    "\n",
    "# # DataFrameを表示\n",
    "# print(df)"
   ]
  },
  {
   "cell_type": "code",
   "execution_count": 42,
   "metadata": {},
   "outputs": [
    {
     "data": {
      "text/plain": [
       "filename    n02056570_9962\n",
       "width                  334\n",
       "height                 500\n",
       "depth                    3\n",
       "dtype: object"
      ]
     },
     "execution_count": 42,
     "metadata": {},
     "output_type": "execute_result"
    }
   ],
   "source": [
    "pd.Series(data)"
   ]
  },
  {
   "cell_type": "code",
   "execution_count": null,
   "metadata": {},
   "outputs": [],
   "source": []
  },
  {
   "cell_type": "code",
   "execution_count": 12,
   "metadata": {},
   "outputs": [],
   "source": [
    "from utils.setup_problem import Setup\n",
    "\n",
    "file_names_dict = {\n",
    "    'supervised': ['L1', 'L2', 'L3'],\n",
    "    'unsupervised': ['U'],\n",
    "    'rule': ['rules_test']\n",
    "}\n",
    "\n",
    "data_dir_path = './inputs/toy_data'\n",
    "\n",
    "problem_instance = Setup(data_dir_path, file_names_dict)\n",
    "problem_instance.load_data()\n",
    "problem_instance.load_rules()\n",
    "problem_instance.identify_predicates()"
   ]
  },
  {
   "cell_type": "code",
   "execution_count": 15,
   "metadata": {},
   "outputs": [
    {
     "data": {
      "text/plain": [
       "['hair(x)',\n",
       " 'mammal(x)',\n",
       " 'milk(x)',\n",
       " 'feather(x)',\n",
       " 'bird(x)',\n",
       " 'layeggs(x)',\n",
       " 'meat(x)',\n",
       " 'carnivore(x)',\n",
       " 'pointedteeth(x)',\n",
       " 'claws(x)',\n",
       " 'forwardeyes(x)',\n",
       " 'hoofs(x)',\n",
       " 'ungulate(x)',\n",
       " 'cud(x)',\n",
       " 'tawny(x)',\n",
       " 'darkspots(x)',\n",
       " 'cheetah(x)',\n",
       " 'blackstripes(x)',\n",
       " 'tiger(x)',\n",
       " 'longlegs(x)',\n",
       " 'longneck(x)',\n",
       " 'giraffe(x)',\n",
       " 'white(x)',\n",
       " 'zebra(x)',\n",
       " 'black(x)',\n",
       " 'ostrich(x)',\n",
       " 'swim(x)',\n",
       " 'blackwhite(x)',\n",
       " 'penguin(x)',\n",
       " 'goodflier(x)',\n",
       " 'albatross(x)']"
      ]
     },
     "execution_count": 15,
     "metadata": {},
     "output_type": "execute_result"
    }
   ],
   "source": [
    "list(problem_instance.predicates_dict.keys())"
   ]
  },
  {
   "cell_type": "code",
   "execution_count": null,
   "metadata": {},
   "outputs": [],
   "source": []
  }
 ],
 "metadata": {
  "kernelspec": {
   "display_name": "myenv",
   "language": "python",
   "name": "python3"
  },
  "language_info": {
   "codemirror_mode": {
    "name": "ipython",
    "version": 3
   },
   "file_extension": ".py",
   "mimetype": "text/x-python",
   "name": "python",
   "nbconvert_exporter": "python",
   "pygments_lexer": "ipython3",
   "version": "3.11.4"
  }
 },
 "nbformat": 4,
 "nbformat_minor": 2
}
