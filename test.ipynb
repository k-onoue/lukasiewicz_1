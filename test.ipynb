{
 "cells": [
  {
   "cell_type": "code",
   "execution_count": 223,
   "metadata": {},
   "outputs": [],
   "source": [
    "import os\n",
    "\n",
    "import pandas as pd\n",
    "import numpy as np\n",
    "import cvxpy as cp"
   ]
  },
  {
   "cell_type": "markdown",
   "metadata": {},
   "source": [
    "hair(x) → mammal(x)\n",
    "milk(x) → mammal(x)\n",
    "feather(x) → bird(x)\n",
    "layeggs(x) → bird(x)\n",
    "mammal(x) ∧ meat(x) → carnivore(x)\n",
    "mammal(x) ∧ pointedteeth(x) ∧ claws(x) ∧ forwardeyes(x) → carnivore(x)\n",
    "mammal(x) ∧ hoofs(x) → ungulate(x)\n",
    "mammal(x) ∧ cud(x) → ungulate(x)\n",
    "carnivore(x) ∧ tawny(x) ∧ darkspots(x) → cheetah(x)\n",
    "carnivore(x) ∧ tawny(x) ∧ blackstripes(x) → tiger(x)\n",
    "ungulate(x) ∧ longlegs(x) ∧ longneck(x) ∧ tawny(x) ∧ darkspots(x) → giraffe(x)\n",
    "ungulate(x) ∧ white(x) ∧ blackstripes(x) → zebra(x)\n",
    "bird(x) ∧ longlegs(x) ∧ longneck(x) ∧ black(x) → ostrich(x)\n",
    "bird(x) ∧ swim(x) ∧ blackwhite(x) → penguin(x)\n",
    "bird(x) ∧ goodflier(x) → albatross(x)\n",
    "cheetah(x) ⊕ tiger(x) ⊕ giraffe(x) ⊕ zebra(x) ⊕ ostrich(x) ⊕ penguin(x) ⊕ albatross(x)\n",
    "mammal(x) ⊕ bird(x)\n",
    "hair(x) ⊕ feather(x)\n",
    "(darkspots(x)) → ¬ blackstripes(x)\n",
    "(blackstripes(x)) → ¬ darkspots(x)\n",
    "tawny(x) → ¬ black(x) ∧¬ white(x)\n",
    "black(x) → ¬ tawny(x) ∧¬ white(x)\n",
    "white(x) → ¬ black(x) ∧¬ tawny(x)\n",
    "black(x) → ¬ white(x)\n",
    "black(x) → ¬ tawny(x)\n",
    "white(x) → ¬ black(x)\n",
    "white(x) → ¬ tawny(x)\n",
    "tawny(x) → ¬ white(x)\n",
    "tawny(x) → ¬ black(x)"
   ]
  },
  {
   "cell_type": "markdown",
   "metadata": {},
   "source": [
    "# Goal\n",
    "- winston benchmark を解く\n",
    "\n",
    "## 一時目標 \n",
    "- toy problem を手動の導出なしで解く\n",
    "- \n",
    "\n",
    "\n",
    "### TO DO\n",
    "- 演算の定義\n",
    "- 記号と処理の対応付け\n",
    "- 演算の順番の実装\n",
    "- predicate に対しても p_j を割り当て （ex. mammal(x) =: p_2(x）)\n",
    "- 上から読み込んでいったとしたら 初めてでてきた predicate を認識して\n",
    "\n",
    "\n",
    "### Notes\n",
    "\n",
    "- 解釈の順番 否定を先\n",
    "- 論理式（KB）の書き方を少し制限する\n",
    "-\n",
    "- とりあえず，分配法則を使用した書き方を禁止する\n",
    "- 2重否定もとりあえず許さない\n",
    "-\n",
    "- p(x) ○ q(x) 以上の formula を解析しようとするともう少し抽象度をあげなければいけない\n",
    "- 受け取った formula を空白で区切って要素ごとに分解しリストを作成\n",
    "- 演算子を認識して前から順に演算\n",
    "- 演算を終えるごとに，リストを更新し，リストの要素数が 1 かつ，それが演算子でなくなるまで演算を繰り返す\n",
    "- \n",
    "- \n",
    "- 与えられた formula の構文チェッカーを作成しても良いかもしれない\n",
    "- \n",
    "- [p_1(x_test), '→', '¬', p_2(x_test), '→', '¬', p_3(x_test)] のような str と cp.Variable が混ざったリストに対して .count や .index ができない\n",
    "- ループなどを使ってカウントするしか無い\n",
    "- \n",
    "- p を cvxpy で書いたら affine ではなくなった\n",
    "- おそらく 含意 がわるい\n",
    "\n",
    "\n",
    "#### 目印になりそうなもの\n",
    "\n",
    "- 半角スペース\n",
    "- ()\n",
    "- () の左に隣接する文字列\n",
    "- "
   ]
  },
  {
   "cell_type": "markdown",
   "metadata": {},
   "source": [
    "# formula の認識，演算の定義，演算子の意味付け"
   ]
  },
  {
   "cell_type": "code",
   "execution_count": 39,
   "metadata": {},
   "outputs": [
    {
     "name": "stdout",
     "output_type": "stream",
     "text": [
      "Symbols: \n"
     ]
    },
    {
     "data": {
      "text/plain": [
       "['¬', '∧', '∨', '⊗', '⊕', '→']"
      ]
     },
     "metadata": {},
     "output_type": "display_data"
    },
    {
     "data": {
      "text/plain": [
       "['∀', '∃']"
      ]
     },
     "metadata": {},
     "output_type": "display_data"
    },
    {
     "name": "stdout",
     "output_type": "stream",
     "text": [
      "\n",
      "Example of phi: \n"
     ]
    },
    {
     "data": {
      "text/plain": [
       "'hair(x) → mammal(x)'"
      ]
     },
     "metadata": {},
     "output_type": "display_data"
    },
    {
     "name": "stdout",
     "output_type": "stream",
     "text": [
      "\n"
     ]
    },
    {
     "data": {
      "text/plain": [
       "['hair(x)', '→', 'mammal(x)']"
      ]
     },
     "metadata": {},
     "output_type": "display_data"
    },
    {
     "name": "stdout",
     "output_type": "stream",
     "text": [
      "\n"
     ]
    },
    {
     "data": {
      "text/plain": [
       "'hair(x) ∧ mammal(x)'"
      ]
     },
     "metadata": {},
     "output_type": "display_data"
    }
   ],
   "source": [
    "symbols_1 = ['¬', '∧', '∨', '⊗', '⊕', '→']\n",
    "symbols_2 = ['∀', '∃']\n",
    "\n",
    "print(f'Symbols: ')\n",
    "display(symbols_1)\n",
    "display(symbols_2)\n",
    "print()\n",
    "\n",
    "phi_1 = 'hair(x) → mammal(x)'\n",
    "print(f'Example of phi: ')\n",
    "display(phi_1)\n",
    "print()\n",
    "\n",
    "display(phi_1.split())\n",
    "print()\n",
    "\n",
    "phi_2 = 'hair(x) ∧ mammal(x)'\n",
    "display(phi_2)"
   ]
  },
  {
   "cell_type": "code",
   "execution_count": 40,
   "metadata": {},
   "outputs": [
    {
     "data": {
      "text/plain": [
       "(<function __main__.negation(x)>,\n",
       " <function __main__.weak_conjunction(x, y)>,\n",
       " <function __main__.weak_disjunction(x, y)>,\n",
       " <function __main__.strong_conjunction(x, y)>,\n",
       " <function __main__.strong_disjunction(x, y)>,\n",
       " <function __main__.implication(x, y)>)"
      ]
     },
     "execution_count": 40,
     "metadata": {},
     "output_type": "execute_result"
    }
   ],
   "source": [
    "import cvxpy as cp\n",
    "\n",
    "# ¬ 否定\n",
    "def negation(x):\n",
    "    return 1 - x\n",
    "\n",
    "# ∧ 論理積 and\n",
    "def weak_conjunction(x, y):\n",
    "    return cp.minimum(x, y)\n",
    "\n",
    "# ∨ 論理和 or\n",
    "def weak_disjunction(x, y):\n",
    "    return cp.maximum(x, y)\n",
    "\n",
    "# ⊗ 排他的論理積\n",
    "def strong_conjunction(x, y):\n",
    "    return cp.maximum(0, x + y - 1)\n",
    "\n",
    "# ⊕ 排他的論理和\n",
    "def strong_disjunction(x, y):\n",
    "    return cp.minimum(1, x + y)\n",
    "\n",
    "# → 含意\n",
    "def implication(x, y):\n",
    "    return strong_disjunction(negation(x), y)\n",
    "\n",
    "\n",
    "negation, weak_conjunction, weak_disjunction, strong_conjunction, strong_disjunction, implication"
   ]
  },
  {
   "cell_type": "code",
   "execution_count": 42,
   "metadata": {},
   "outputs": [
    {
     "data": {
      "text/plain": [
       "['hair(x)', '∧', 'mammal(x)']"
      ]
     },
     "execution_count": 42,
     "metadata": {},
     "output_type": "execute_result"
    }
   ],
   "source": [
    "tmp = phi_2.split()"
   ]
  },
  {
   "cell_type": "code",
   "execution_count": 48,
   "metadata": {},
   "outputs": [
    {
     "data": {
      "text/plain": [
       "{'¬': <function __main__.negation(x)>,\n",
       " '∧': <function __main__.weak_conjunction(x, y)>,\n",
       " '∨': <function __main__.weak_disjunction(x, y)>,\n",
       " '⊗': <function __main__.strong_conjunction(x, y)>,\n",
       " '⊕': <function __main__.strong_disjunction(x, y)>,\n",
       " '→': <function __main__.implication(x, y)>}"
      ]
     },
     "metadata": {},
     "output_type": "display_data"
    }
   ],
   "source": [
    "symbols_1 = ['¬', '∧', '∨', '⊗', '⊕', '→']\n",
    "\n",
    "operations = [\n",
    "    negation,\n",
    "    weak_conjunction,\n",
    "    weak_disjunction,\n",
    "    strong_conjunction,\n",
    "    strong_disjunction,\n",
    "    implication\n",
    "]\n",
    "\n",
    "symbols_1_semanticized = {s: o for s, o in zip(symbols_1, operations)}\n",
    "display(symbols_1_semanticized)\n",
    "\n",
    "formula = 'hair(x) ∧ mammal(x)'\n",
    "formula_decomposed = ['hair(x)', '∧', 'mammal(x)']\n",
    "\n",
    "formula_decomposed_temp = [0.2, '∧', 0.4]"
   ]
  },
  {
   "cell_type": "markdown",
   "metadata": {},
   "source": [
    "# 演算子が２つ以上でも計算できるようにする"
   ]
  },
  {
   "cell_type": "code",
   "execution_count": 105,
   "metadata": {},
   "outputs": [
    {
     "data": {
      "text/plain": [
       "'mammal(x) ∧ meat(x) → carnivore(x)'"
      ]
     },
     "metadata": {},
     "output_type": "display_data"
    },
    {
     "data": {
      "text/plain": [
       "['mammal(x)', '∧', 'meat(x)', '→', 'carnivore(x)']"
      ]
     },
     "metadata": {},
     "output_type": "display_data"
    },
    {
     "data": {
      "text/plain": [
       "[0.5, '∧', 0.2, '→', 0.3]"
      ]
     },
     "metadata": {},
     "output_type": "display_data"
    }
   ],
   "source": [
    "formula_2 = \"mammal(x) ∧ meat(x) → carnivore(x)\"\n",
    "formula_2_decomposed = formula_2.split()\n",
    "\n",
    "\n",
    "display(formula_2)\n",
    "display(formula_2_decomposed)\n",
    "\n",
    "formula_2_decomposed_temp = [0.5, '∧', 0.2, '→', 0.3]\n",
    "display(formula_2_decomposed_temp)"
   ]
  },
  {
   "cell_type": "code",
   "execution_count": 106,
   "metadata": {},
   "outputs": [
    {
     "data": {
      "text/plain": [
       "1"
      ]
     },
     "metadata": {},
     "output_type": "display_data"
    },
    {
     "data": {
      "text/plain": [
       "'∧'"
      ]
     },
     "metadata": {},
     "output_type": "display_data"
    },
    {
     "data": {
      "text/plain": [
       "<function __main__.weak_conjunction(x, y)>"
      ]
     },
     "metadata": {},
     "output_type": "display_data"
    },
    {
     "data": {
      "text/plain": [
       "array(0.2)"
      ]
     },
     "metadata": {},
     "output_type": "display_data"
    },
    {
     "data": {
      "text/plain": [
       "[0.5, Expression(CONSTANT, NONNEGATIVE, ()), 0.2, '→', 0.3]"
      ]
     },
     "metadata": {},
     "output_type": "display_data"
    },
    {
     "data": {
      "text/plain": [
       "[Expression(CONSTANT, NONNEGATIVE, ()), '→', 0.3]"
      ]
     },
     "metadata": {},
     "output_type": "display_data"
    },
    {
     "data": {
      "text/plain": [
       "1"
      ]
     },
     "metadata": {},
     "output_type": "display_data"
    },
    {
     "data": {
      "text/plain": [
       "'→'"
      ]
     },
     "metadata": {},
     "output_type": "display_data"
    },
    {
     "data": {
      "text/plain": [
       "<function __main__.implication(x, y)>"
      ]
     },
     "metadata": {},
     "output_type": "display_data"
    },
    {
     "data": {
      "text/plain": [
       "array(1.)"
      ]
     },
     "metadata": {},
     "output_type": "display_data"
    },
    {
     "data": {
      "text/plain": [
       "[Expression(CONSTANT, NONNEGATIVE, ()), Expression(CONSTANT, UNKNOWN, ()), 0.3]"
      ]
     },
     "metadata": {},
     "output_type": "display_data"
    },
    {
     "data": {
      "text/plain": [
       "[Expression(CONSTANT, UNKNOWN, ())]"
      ]
     },
     "metadata": {},
     "output_type": "display_data"
    }
   ],
   "source": [
    "formula_2 = \"mammal(x) ∧ meat(x) → carnivore(x)\"\n",
    "formula_2_decomposed = formula_2.split()\n",
    "\n",
    "\n",
    "display(formula_2)\n",
    "display(formula_2_decomposed)\n",
    "\n",
    "formula_2_decomposed_temp = [0.5, '∧', 0.2, '→', 0.3]\n",
    "display(formula_2_decomposed_temp)\n",
    "\n",
    "\n",
    "while len(formula_2_decomposed_temp) > 1:\n",
    "    target_index = None\n",
    "\n",
    "\n",
    "    # 分割された formula （リスト）から最初の演算子のインデックスを取得\n",
    "    for index, token in enumerate(formula_2_decomposed_temp):\n",
    "        if token in symbols_1_semanticized.keys():\n",
    "            target_index = index\n",
    "            break\n",
    "\n",
    "    display(target_index)\n",
    "\n",
    "\n",
    "    # 対応する演算子の関数を取得\n",
    "    symbol = formula_2_decomposed_temp[target_index]\n",
    "    operation = symbols_1_semanticized[symbol]\n",
    "\n",
    "    display(symbol, operation)\n",
    "\n",
    "    # 演算に使用する値のペアを取得\n",
    "    x = formula_2_decomposed_temp[target_index - 1]\n",
    "    y = formula_2_decomposed_temp[target_index + 1]\n",
    "\n",
    "    # 実際に演算を行う\n",
    "    result = operation(x, y)\n",
    "    display(result.value)\n",
    "\n",
    "    # 演算結果で置き換え\n",
    "    formula_2_decomposed_temp[target_index] = result\n",
    "\n",
    "\n",
    "    indices_to_remove = [target_index - 1, target_index + 1]\n",
    "\n",
    "    filtered = []\n",
    "\n",
    "    display(formula_2_decomposed_temp)\n",
    "\n",
    "    for i, item in enumerate(formula_2_decomposed_temp):\n",
    "        if i not in indices_to_remove:\n",
    "            filtered.append(item)\n",
    "\n",
    "\n",
    "    formula_2_decomposed_temp = filtered\n",
    "\n",
    "    display(formula_2_decomposed_temp)"
   ]
  },
  {
   "cell_type": "markdown",
   "metadata": {},
   "source": [
    "# negation（否定)を先に計算できるようにする"
   ]
  },
  {
   "cell_type": "code",
   "execution_count": 146,
   "metadata": {},
   "outputs": [
    {
     "data": {
      "text/plain": [
       "[0.5, '→', 0.7, '→', '¬', 0.3, '→', '¬', 0.3]"
      ]
     },
     "metadata": {},
     "output_type": "display_data"
    },
    {
     "data": {
      "text/plain": [
       "[0.5, '→', 0.7, '→', 0.7, '→', '¬', 0.3]"
      ]
     },
     "metadata": {},
     "output_type": "display_data"
    },
    {
     "data": {
      "text/plain": [
       "[0.5, '→', 0.7, '→', 0.7, '→', 0.7]"
      ]
     },
     "metadata": {},
     "output_type": "display_data"
    },
    {
     "data": {
      "text/plain": [
       "[0.5, '→', 0.7, '→', 0.7, '→', 0.7]"
      ]
     },
     "metadata": {},
     "output_type": "display_data"
    },
    {
     "data": {
      "text/plain": [
       "1"
      ]
     },
     "metadata": {},
     "output_type": "display_data"
    },
    {
     "data": {
      "text/plain": [
       "[Expression(CONSTANT, NONNEGATIVE, ()), '→', 0.7, '→', 0.7]"
      ]
     },
     "metadata": {},
     "output_type": "display_data"
    },
    {
     "data": {
      "text/plain": [
       "1"
      ]
     },
     "metadata": {},
     "output_type": "display_data"
    },
    {
     "data": {
      "text/plain": [
       "[Expression(CONSTANT, UNKNOWN, ()), '→', 0.7]"
      ]
     },
     "metadata": {},
     "output_type": "display_data"
    },
    {
     "data": {
      "text/plain": [
       "1"
      ]
     },
     "metadata": {},
     "output_type": "display_data"
    }
   ],
   "source": [
    "formula_3 = 'darkspots(x) → ¬ blackstripes(x)'\n",
    "formula_3_decomposed = formula_3.split()\n",
    "formula_3_decomposed_temp = [0.5, '→', '¬', 0.3, '→', '¬', 0.3, '→', '¬', 0.3]\n",
    "\n",
    "# display(formula_3_decomposed_temp)\n",
    "\n",
    "\n",
    "\n",
    "\n",
    "formula_decomposed_tmp = formula_3_decomposed_temp\n",
    "\n",
    "neg_num = formula_decomposed_tmp.count('¬')\n",
    "\n",
    "while neg_num > 0:\n",
    "    target_index = formula_decomposed_tmp.index('¬')\n",
    "\n",
    "    # 演算に使用する値を取得\n",
    "    x = formula_decomposed_tmp[target_index + 1]\n",
    "\n",
    "    # 演算の実行\n",
    "    operation = symbols_1_semanticized['¬']\n",
    "    result = operation(x)\n",
    "\n",
    "    # 演算結果で置き換え，演算子（¬）の削除\n",
    "    formula_decomposed_tmp[target_index + 1] = result\n",
    "    formula_decomposed_tmp.pop(target_index)\n",
    "\n",
    "    neg_num -= 1\n",
    "\n",
    "    display(formula_decomposed_tmp)\n",
    "\n",
    "\n",
    "while len(formula_decomposed_tmp) > 1:\n",
    "    target_index = None\n",
    "\n",
    "    display(formula_decomposed_tmp)\n",
    "\n",
    "    # 分割された formula （リスト）から最初の演算子のインデックスを取得\n",
    "    for index, token in enumerate(formula_decomposed_tmp):\n",
    "        if token in symbols_1_semanticized.keys():\n",
    "            target_index = index\n",
    "            break\n",
    "\n",
    "    # display(target_index)\n",
    "\n",
    "    # 対応する演算子の関数を取得\n",
    "    symbol = formula_decomposed_tmp[target_index]\n",
    "    operation = symbols_1_semanticized[symbol]\n",
    "\n",
    "    # display(symbol, operation)\n",
    "\n",
    "    # 演算に使用する値のペアを取得\n",
    "    x = formula_decomposed_tmp[target_index - 1]\n",
    "    y = formula_decomposed_tmp[target_index + 1]\n",
    "\n",
    "    # 実際に演算を行う\n",
    "    result = operation(x, y)\n",
    "    # display(result.value)\n",
    "\n",
    "    # 演算結果で置き換え，演算済み要素の削除\n",
    "\n",
    "    formula_decomposed_tmp[target_index] = result\n",
    "    indices_to_remove = [target_index - 1, target_index + 1]\n",
    "    filtered = []\n",
    "\n",
    "    for i, item in enumerate(formula_decomposed_tmp):\n",
    "        if i not in indices_to_remove:\n",
    "            filtered.append(item)\n",
    "\n",
    "    formula_decomposed_tmp = filtered\n",
    "\n",
    "    # display(formula_decomposed_tmp)\n"
   ]
  },
  {
   "cell_type": "code",
   "execution_count": null,
   "metadata": {},
   "outputs": [],
   "source": []
  },
  {
   "cell_type": "markdown",
   "metadata": {},
   "source": [
    "# p を cvxpy で書いてみる"
   ]
  },
  {
   "cell_type": "code",
   "execution_count": 162,
   "metadata": {},
   "outputs": [
    {
     "data": {
      "text/plain": [
       "array([0.47049387, 0.88148112])"
      ]
     },
     "execution_count": 162,
     "metadata": {},
     "output_type": "execute_result"
    }
   ],
   "source": [
    "len_j = 3 \n",
    "\n",
    "w_j = cp.Variable(shape=(len_j, 3))\n",
    "\n",
    "w_1 = w_j[0, :]\n",
    "w_2 = w_j[1, :]\n",
    "w_3 = w_j[2, :]\n",
    "\n",
    "\n",
    "def p_1(x):\n",
    "    w = w_1\n",
    "    w1, w2, b = w[0], w[1], w[2]\n",
    "    x1, x2 = x[0], x[1]\n",
    "    return w1 * x1 + w2 * x2 + b\n",
    "\n",
    "def p_2(x):\n",
    "    w = w_2\n",
    "    w1, w2, b = w[0], w[1], w[2]\n",
    "    x1, x2 = x[0], x[1]\n",
    "    return w1 * x1 + w2 * x2 + b\n",
    "\n",
    "def p_3(x):\n",
    "    w = w_3\n",
    "    w1, w2, b = w[0], w[1], w[2]\n",
    "    x1, x2 = x[0], x[1]\n",
    "    return w1 * x1 + w2 * x2 + b\n",
    "\n",
    "x_test = np.random.rand(2)\n",
    "x_test"
   ]
  },
  {
   "cell_type": "code",
   "execution_count": 211,
   "metadata": {},
   "outputs": [],
   "source": [
    "def count_neg(formula_decomposed):\n",
    "    neg_num = 0\n",
    "    \n",
    "    for item in formula_decomposed:\n",
    "        if type(item) == str:\n",
    "            if item == '¬':\n",
    "                neg_num += 1\n",
    "\n",
    "    return neg_num\n",
    "\n",
    "def get_first_neg_index(formula_decomposed):\n",
    "    target_index = None\n",
    "\n",
    "    for i, item in enumerate(formula_decomposed):\n",
    "        if type(item) == str:\n",
    "            if item == '¬':\n",
    "                target_index = i\n",
    "                break\n",
    "    \n",
    "    return target_index\n"
   ]
  },
  {
   "cell_type": "code",
   "execution_count": 215,
   "metadata": {},
   "outputs": [
    {
     "data": {
      "text/plain": [
       "[Expression(AFFINE, UNKNOWN, ()),\n",
       " '→',\n",
       " '¬',\n",
       " Expression(AFFINE, UNKNOWN, ()),\n",
       " '→',\n",
       " '¬',\n",
       " Expression(AFFINE, UNKNOWN, ())]"
      ]
     },
     "metadata": {},
     "output_type": "display_data"
    },
    {
     "name": "stdout",
     "output_type": "stream",
     "text": [
      "2\n"
     ]
    },
    {
     "data": {
      "text/plain": [
       "[Expression(AFFINE, UNKNOWN, ()),\n",
       " '→',\n",
       " Expression(AFFINE, UNKNOWN, ()),\n",
       " '→',\n",
       " '¬',\n",
       " Expression(AFFINE, UNKNOWN, ())]"
      ]
     },
     "metadata": {},
     "output_type": "display_data"
    },
    {
     "data": {
      "text/plain": [
       "[Expression(AFFINE, UNKNOWN, ()),\n",
       " '→',\n",
       " Expression(AFFINE, UNKNOWN, ()),\n",
       " '→',\n",
       " Expression(AFFINE, UNKNOWN, ())]"
      ]
     },
     "metadata": {},
     "output_type": "display_data"
    },
    {
     "data": {
      "text/plain": [
       "[Expression(AFFINE, UNKNOWN, ()),\n",
       " '→',\n",
       " Expression(AFFINE, UNKNOWN, ()),\n",
       " '→',\n",
       " Expression(AFFINE, UNKNOWN, ())]"
      ]
     },
     "metadata": {},
     "output_type": "display_data"
    },
    {
     "data": {
      "text/plain": [
       "[Expression(CONCAVE, UNKNOWN, ()), '→', Expression(AFFINE, UNKNOWN, ())]"
      ]
     },
     "metadata": {},
     "output_type": "display_data"
    }
   ],
   "source": [
    "formula_3 = 'darkspots(x) → ¬ blackstripes(x)'\n",
    "formula_3_decomposed = formula_3.split()\n",
    "formula_3_decomposed_tmp = [0.5, '→', '¬', 0.3, '→', '¬', 0.3, '→', '¬', 0.3]\n",
    "\n",
    "# display(formula_3_decomposed_temp)\n",
    "\n",
    "formula_4 = 'p_1(x) → ¬ p_2(x) → ¬ p_3(x)'\n",
    "formula_4_decomposed = formula_4.split()\n",
    "formula_4_decomposed_tmp = [p_1(x_test), '→', '¬', p_2(x_test), '→', '¬', p_3(x_test)]\n",
    "\n",
    "formula_decomposed_tmp = formula_4_decomposed_tmp\n",
    "\n",
    "display(formula_decomposed_tmp)\n",
    "\n",
    "neg_num = count_neg(formula_decomposed_tmp)\n",
    "\n",
    "print(neg_num)\n",
    "\n",
    "while neg_num > 0:\n",
    "    target_index = get_first_neg_index(formula_decomposed_tmp)\n",
    "\n",
    "    # 演算に使用する値を取得\n",
    "    x = formula_decomposed_tmp[target_index + 1]\n",
    "\n",
    "\n",
    "    # 演算の実行\n",
    "    operation = symbols_1_semanticized['¬']\n",
    "    result = operation(x)\n",
    "\n",
    "    # 演算結果で置き換え，演算子（¬）の削除\n",
    "    formula_decomposed_tmp[target_index + 1] = result\n",
    "    formula_decomposed_tmp.pop(target_index)\n",
    "\n",
    "    neg_num -= 1\n",
    "\n",
    "    display(formula_decomposed_tmp)\n",
    "\n",
    "\n",
    "while len(formula_decomposed_tmp) > 1:\n",
    "    target_index = None\n",
    "\n",
    "    display(formula_decomposed_tmp)\n",
    "\n",
    "    # 分割された formula （リスト）から最初の演算子のインデックスを取得\n",
    "    for index, token in enumerate(formula_decomposed_tmp):\n",
    "        if token in symbols_1_semanticized.keys():\n",
    "            target_index = index\n",
    "            break\n",
    "\n",
    "    # display(target_index)\n",
    "\n",
    "    # 対応する演算子の関数を取得\n",
    "    symbol = formula_decomposed_tmp[target_index]\n",
    "    operation = symbols_1_semanticized[symbol]\n",
    "\n",
    "    # display(symbol, operation)\n",
    "\n",
    "    # 演算に使用する値のペアを取得\n",
    "    x = formula_decomposed_tmp[target_index - 1]\n",
    "    y = formula_decomposed_tmp[target_index + 1]\n",
    "\n",
    "    # 実際に演算を行う\n",
    "    result = operation(x, y)\n",
    "    # display(result.value)\n",
    "\n",
    "    # 演算結果で置き換え，演算済み要素の削除\n",
    "\n",
    "    formula_decomposed_tmp[target_index] = result\n",
    "    indices_to_remove = [target_index - 1, target_index + 1]\n",
    "    filtered = []\n",
    "\n",
    "    for i, item in enumerate(formula_decomposed_tmp):\n",
    "        if i not in indices_to_remove:\n",
    "            filtered.append(item)\n",
    "\n",
    "    formula_decomposed_tmp = filtered\n",
    "\n",
    "    # display(formula_decomposed_tmp)\n"
   ]
  },
  {
   "cell_type": "code",
   "execution_count": 216,
   "metadata": {},
   "outputs": [
    {
     "data": {
      "text/plain": [
       "[Expression(QUASICONVEX, UNKNOWN, ())]"
      ]
     },
     "execution_count": 216,
     "metadata": {},
     "output_type": "execute_result"
    }
   ],
   "source": [
    "formula_decomposed_tmp"
   ]
  },
  {
   "cell_type": "code",
   "execution_count": null,
   "metadata": {},
   "outputs": [],
   "source": []
  },
  {
   "cell_type": "code",
   "execution_count": 220,
   "metadata": {},
   "outputs": [
    {
     "data": {
      "text/plain": [
       "Expression(AFFINE, UNKNOWN, ())"
      ]
     },
     "execution_count": 220,
     "metadata": {},
     "output_type": "execute_result"
    }
   ],
   "source": [
    "1 - p_3(x_test)"
   ]
  },
  {
   "cell_type": "code",
   "execution_count": 221,
   "metadata": {},
   "outputs": [
    {
     "data": {
      "text/plain": [
       "Expression(CONCAVE, NONPOSITIVE, ())"
      ]
     },
     "execution_count": 221,
     "metadata": {},
     "output_type": "execute_result"
    }
   ],
   "source": [
    "cp.minimum(1 - p_3(x_test), 0)"
   ]
  },
  {
   "cell_type": "code",
   "execution_count": null,
   "metadata": {},
   "outputs": [],
   "source": []
  },
  {
   "cell_type": "markdown",
   "metadata": {},
   "source": [
    "# toy モデルの制約を計算してみる"
   ]
  },
  {
   "cell_type": "code",
   "execution_count": 231,
   "metadata": {},
   "outputs": [],
   "source": [
    "# load and convert data, describe problem settings, etc\n",
    "data_dir_path = './inputs/toy_data/'\n",
    "path_L1 = os.path.join(data_dir_path, 'L1.csv')\n",
    "path_L2 = os.path.join(data_dir_path, 'L2.csv')\n",
    "path_L3 = os.path.join(data_dir_path, 'L3.csv')\n",
    "path_U = os.path.join(data_dir_path, 'U.csv')\n",
    "\n",
    "df_L1 = pd.read_csv(path_L1, index_col=0)\n",
    "df_L2 = pd.read_csv(path_L2, index_col=0)\n",
    "df_L3 = pd.read_csv(path_L3, index_col=0)\n",
    "df_U = pd.read_csv(path_U, index_col=0)\n",
    "\n",
    "L1 = np.array(df_L1)\n",
    "L2 = np.array(df_L2)\n",
    "L3 = np.array(df_L3)\n",
    "\n",
    "L = np.stack([L1, L2, L3]) # data for pointwise constraint\n",
    "U = np.array(df_U) # data for logical constriant"
   ]
  },
  {
   "cell_type": "code",
   "execution_count": 229,
   "metadata": {},
   "outputs": [
    {
     "data": {
      "text/plain": [
       "array([0.78173954, 0.96375837])"
      ]
     },
     "execution_count": 229,
     "metadata": {},
     "output_type": "execute_result"
    }
   ],
   "source": [
    "len_j = 3 \n",
    "len_h = 2\n",
    "\n",
    "w_j = cp.Variable(shape=(len_j, 3))\n",
    "\n",
    "w_1 = w_j[0, :]\n",
    "w_2 = w_j[1, :]\n",
    "w_3 = w_j[2, :]\n",
    "\n",
    "xi_h = cp.Variable(shape=(len_h, 1), nonneg=True)\n",
    "xi_1, xi_2 = xi_h[0, :], xi_h[1, :]\n",
    "xi_1, xi_2\n",
    "\n",
    "\n",
    "def p_1(x):\n",
    "    w = w_1\n",
    "    w1, w2, b = w[0], w[1], w[2]\n",
    "    x1, x2 = x[0], x[1]\n",
    "    return w1 * x1 + w2 * x2 + b\n",
    "\n",
    "def p_2(x):\n",
    "    w = w_2\n",
    "    w1, w2, b = w[0], w[1], w[2]\n",
    "    x1, x2 = x[0], x[1]\n",
    "    return w1 * x1 + w2 * x2 + b\n",
    "\n",
    "def p_3(x):\n",
    "    w = w_3\n",
    "    w1, w2, b = w[0], w[1], w[2]\n",
    "    x1, x2 = x[0], x[1]\n",
    "    return w1 * x1 + w2 * x2 + b"
   ]
  },
  {
   "cell_type": "code",
   "execution_count": 241,
   "metadata": {},
   "outputs": [
    {
     "data": {
      "text/plain": [
       "[Inequality(Expression(AFFINE, UNKNOWN, ())),\n",
       " Inequality(Expression(AFFINE, UNKNOWN, ())),\n",
       " Inequality(Expression(AFFINE, UNKNOWN, ())),\n",
       " Inequality(Expression(AFFINE, UNKNOWN, ())),\n",
       " Inequality(Expression(AFFINE, UNKNOWN, ())),\n",
       " Inequality(Expression(AFFINE, UNKNOWN, ())),\n",
       " Inequality(Expression(AFFINE, UNKNOWN, ())),\n",
       " Inequality(Expression(AFFINE, UNKNOWN, ())),\n",
       " Inequality(Expression(AFFINE, UNKNOWN, ())),\n",
       " Inequality(Expression(AFFINE, UNKNOWN, ())),\n",
       " Inequality(Expression(AFFINE, UNKNOWN, ())),\n",
       " Inequality(Expression(AFFINE, UNKNOWN, ()))]"
      ]
     },
     "execution_count": 241,
     "metadata": {},
     "output_type": "execute_result"
    }
   ],
   "source": [
    "logical_constraints = []\n",
    "\n",
    "for u in U:\n",
    "    logical_constraints += [\n",
    "        p_1(u) - p_2(u) <= xi_1\n",
    "    ]\n",
    "\n",
    "for u in U:\n",
    "    logical_constraints += [\n",
    "        p_2(u) - p_3(u) <= xi_2\n",
    "    ]\n",
    "\n",
    "logical_constraints"
   ]
  },
  {
   "cell_type": "code",
   "execution_count": 243,
   "metadata": {},
   "outputs": [
    {
     "data": {
      "text/plain": [
       "array([0.1, 0.5])"
      ]
     },
     "execution_count": 243,
     "metadata": {},
     "output_type": "execute_result"
    }
   ],
   "source": [
    "u = U[0]\n",
    "u"
   ]
  },
  {
   "cell_type": "code",
   "execution_count": 244,
   "metadata": {},
   "outputs": [
    {
     "data": {
      "text/plain": [
       "[Expression(AFFINE, UNKNOWN, ()), '→', Expression(AFFINE, UNKNOWN, ())]"
      ]
     },
     "execution_count": 244,
     "metadata": {},
     "output_type": "execute_result"
    }
   ],
   "source": [
    "formula_decomposed"
   ]
  },
  {
   "cell_type": "code",
   "execution_count": 252,
   "metadata": {},
   "outputs": [
    {
     "data": {
      "text/plain": [
       "[Expression(AFFINE, UNKNOWN, ()), '→', Expression(AFFINE, UNKNOWN, ())]"
      ]
     },
     "metadata": {},
     "output_type": "display_data"
    },
    {
     "data": {
      "text/plain": [
       "[Expression(CONCAVE, UNKNOWN, ())]"
      ]
     },
     "metadata": {},
     "output_type": "display_data"
    }
   ],
   "source": [
    "formula_decomposed = [p_1(u), '→', p_2(u)]\n",
    "\n",
    "display(formula_decomposed)\n",
    "\n",
    "neg_num = count_neg(formula_decomposed)\n",
    "\n",
    "\n",
    "while neg_num > 0:\n",
    "    target_index = get_first_neg_index(formula_decomposed)\n",
    "\n",
    "    # 演算に使用する値を取得\n",
    "    x = formula_decomposed[target_index + 1]\n",
    "\n",
    "\n",
    "    # 演算の実行\n",
    "    operation = symbols_1_semanticized['¬']\n",
    "    result = operation(x)\n",
    "\n",
    "    # 演算結果で置き換え，演算子（¬）の削除\n",
    "    formula_decomposed[target_index + 1] = result\n",
    "    formula_decomposed.pop(target_index)\n",
    "\n",
    "    neg_num -= 1\n",
    "\n",
    "    display(formula_decomposed)\n",
    "\n",
    "\n",
    "while len(formula_decomposed) > 1:\n",
    "    target_index = None\n",
    "\n",
    "    # 分割された formula （リスト）から最初の演算子のインデックスを取得\n",
    "    for index, token in enumerate(formula_decomposed):\n",
    "        if token in symbols_1_semanticized.keys():\n",
    "            target_index = index\n",
    "            break\n",
    "\n",
    "    # display(target_index)\n",
    "\n",
    "    # 対応する演算子の関数を取得\n",
    "    symbol = formula_decomposed[target_index]\n",
    "    operation = symbols_1_semanticized[symbol]\n",
    "\n",
    "    # display(symbol, operation)\n",
    "\n",
    "    # 演算に使用する値のペアを取得\n",
    "    x = formula_decomposed[target_index - 1]\n",
    "    y = formula_decomposed[target_index + 1]\n",
    "\n",
    "    # 実際に演算を行う\n",
    "    result = operation(x, y)\n",
    "    # display(result.value)\n",
    "\n",
    "    # 演算結果で置き換え，演算済み要素の削除\n",
    "\n",
    "    formula_decomposed[target_index] = result\n",
    "    indices_to_remove = [target_index - 1, target_index + 1]\n",
    "    filtered = []\n",
    "\n",
    "    for i, item in enumerate(formula_decomposed):\n",
    "        if i not in indices_to_remove:\n",
    "            filtered.append(item)\n",
    "\n",
    "    formula_decomposed = filtered\n",
    "\n",
    "    display(formula_decomposed)\n"
   ]
  },
  {
   "cell_type": "code",
   "execution_count": 263,
   "metadata": {},
   "outputs": [],
   "source": [
    "def test(formula_decomposed):\n",
    "    neg_num = count_neg(formula_decomposed)\n",
    "\n",
    "\n",
    "    while neg_num > 0:\n",
    "        target_index = get_first_neg_index(formula_decomposed)\n",
    "\n",
    "        # 演算に使用する値を取得\n",
    "        x = formula_decomposed[target_index + 1]\n",
    "\n",
    "\n",
    "        # 演算の実行\n",
    "        operation = symbols_1_semanticized['¬']\n",
    "        result = operation(x)\n",
    "\n",
    "        # 演算結果で置き換え，演算子（¬）の削除\n",
    "        formula_decomposed[target_index + 1] = result\n",
    "        formula_decomposed.pop(target_index)\n",
    "\n",
    "        neg_num -= 1\n",
    "\n",
    "        display(formula_decomposed)\n",
    "\n",
    "\n",
    "    while len(formula_decomposed) > 1:\n",
    "        target_index = None\n",
    "\n",
    "        # 分割された formula （リスト）から最初の演算子のインデックスを取得\n",
    "        for index, token in enumerate(formula_decomposed):\n",
    "            if token in symbols_1_semanticized.keys():\n",
    "                target_index = index\n",
    "                break\n",
    "\n",
    "        # display(target_index)\n",
    "\n",
    "        # 対応する演算子の関数を取得\n",
    "        symbol = formula_decomposed[target_index]\n",
    "        operation = symbols_1_semanticized[symbol]\n",
    "\n",
    "        # display(symbol, operation)\n",
    "\n",
    "        # 演算に使用する値のペアを取得\n",
    "        x = formula_decomposed[target_index - 1]\n",
    "        y = formula_decomposed[target_index + 1]\n",
    "\n",
    "        # 実際に演算を行う\n",
    "        result = operation(x, y)\n",
    "        # display(result.value)\n",
    "\n",
    "        # 演算結果で置き換え，演算済み要素の削除\n",
    "\n",
    "        formula_decomposed[target_index] = result\n",
    "        indices_to_remove = [target_index - 1, target_index + 1]\n",
    "        filtered = []\n",
    "\n",
    "        for i, item in enumerate(formula_decomposed):\n",
    "            if i not in indices_to_remove:\n",
    "                filtered.append(item)\n",
    "\n",
    "        formula_decomposed = filtered\n",
    "\n",
    "        display(formula_decomposed)\n",
    "\n",
    "    return formula_decomposed[0]"
   ]
  },
  {
   "cell_type": "code",
   "execution_count": 265,
   "metadata": {},
   "outputs": [
    {
     "data": {
      "text/plain": [
       "[Expression(CONCAVE, UNKNOWN, ())]"
      ]
     },
     "metadata": {},
     "output_type": "display_data"
    },
    {
     "data": {
      "text/plain": [
       "[Expression(CONCAVE, UNKNOWN, ())]"
      ]
     },
     "metadata": {},
     "output_type": "display_data"
    },
    {
     "data": {
      "text/plain": [
       "[Expression(CONCAVE, UNKNOWN, ())]"
      ]
     },
     "metadata": {},
     "output_type": "display_data"
    },
    {
     "data": {
      "text/plain": [
       "[Expression(CONCAVE, UNKNOWN, ())]"
      ]
     },
     "metadata": {},
     "output_type": "display_data"
    },
    {
     "data": {
      "text/plain": [
       "[Expression(CONCAVE, UNKNOWN, ())]"
      ]
     },
     "metadata": {},
     "output_type": "display_data"
    },
    {
     "data": {
      "text/plain": [
       "[Expression(CONCAVE, UNKNOWN, ())]"
      ]
     },
     "metadata": {},
     "output_type": "display_data"
    },
    {
     "data": {
      "text/plain": [
       "[Expression(CONCAVE, UNKNOWN, ())]"
      ]
     },
     "metadata": {},
     "output_type": "display_data"
    },
    {
     "data": {
      "text/plain": [
       "[Expression(CONCAVE, UNKNOWN, ())]"
      ]
     },
     "metadata": {},
     "output_type": "display_data"
    },
    {
     "data": {
      "text/plain": [
       "[Expression(CONCAVE, UNKNOWN, ())]"
      ]
     },
     "metadata": {},
     "output_type": "display_data"
    },
    {
     "data": {
      "text/plain": [
       "[Expression(CONCAVE, UNKNOWN, ())]"
      ]
     },
     "metadata": {},
     "output_type": "display_data"
    },
    {
     "data": {
      "text/plain": [
       "[Expression(CONCAVE, UNKNOWN, ())]"
      ]
     },
     "metadata": {},
     "output_type": "display_data"
    },
    {
     "data": {
      "text/plain": [
       "[Expression(CONCAVE, UNKNOWN, ())]"
      ]
     },
     "metadata": {},
     "output_type": "display_data"
    }
   ],
   "source": [
    "logical_constraints = []\n",
    "\n",
    "for u in U:\n",
    "    formula_decomposed = [p_1(u), '→', p_2(u)]\n",
    "    formula_calculated = test(formula_decomposed)\n",
    "    logical_constraints += [\n",
    "        formula_calculated <= xi_1\n",
    "    ]\n",
    "\n",
    "for u in U:\n",
    "    formula_decomposed = [p_2(u), '→', p_3(u)]\n",
    "    formula_calculated = test(formula_decomposed)\n",
    "    logical_constraints += [\n",
    "        formula_calculated <= xi_2\n",
    "    ]\n"
   ]
  },
  {
   "cell_type": "code",
   "execution_count": 266,
   "metadata": {},
   "outputs": [
    {
     "data": {
      "text/plain": [
       "[Inequality(Expression(CONCAVE, UNKNOWN, ())),\n",
       " Inequality(Expression(CONCAVE, UNKNOWN, ())),\n",
       " Inequality(Expression(CONCAVE, UNKNOWN, ())),\n",
       " Inequality(Expression(CONCAVE, UNKNOWN, ())),\n",
       " Inequality(Expression(CONCAVE, UNKNOWN, ())),\n",
       " Inequality(Expression(CONCAVE, UNKNOWN, ())),\n",
       " Inequality(Expression(CONCAVE, UNKNOWN, ())),\n",
       " Inequality(Expression(CONCAVE, UNKNOWN, ())),\n",
       " Inequality(Expression(CONCAVE, UNKNOWN, ())),\n",
       " Inequality(Expression(CONCAVE, UNKNOWN, ())),\n",
       " Inequality(Expression(CONCAVE, UNKNOWN, ())),\n",
       " Inequality(Expression(CONCAVE, UNKNOWN, ()))]"
      ]
     },
     "execution_count": 266,
     "metadata": {},
     "output_type": "execute_result"
    }
   ],
   "source": [
    "logical_constraints"
   ]
  },
  {
   "cell_type": "code",
   "execution_count": null,
   "metadata": {},
   "outputs": [],
   "source": []
  },
  {
   "cell_type": "code",
   "execution_count": null,
   "metadata": {},
   "outputs": [],
   "source": []
  },
  {
   "cell_type": "code",
   "execution_count": 268,
   "metadata": {},
   "outputs": [
    {
     "data": {
      "text/plain": [
       "[Expression(CONCAVE, UNKNOWN, ())]"
      ]
     },
     "metadata": {},
     "output_type": "display_data"
    },
    {
     "data": {
      "text/plain": [
       "[Expression(CONCAVE, UNKNOWN, ())]"
      ]
     },
     "metadata": {},
     "output_type": "display_data"
    },
    {
     "data": {
      "text/plain": [
       "[Expression(CONCAVE, UNKNOWN, ())]"
      ]
     },
     "metadata": {},
     "output_type": "display_data"
    },
    {
     "data": {
      "text/plain": [
       "[Expression(CONCAVE, UNKNOWN, ())]"
      ]
     },
     "metadata": {},
     "output_type": "display_data"
    },
    {
     "data": {
      "text/plain": [
       "[Expression(CONCAVE, UNKNOWN, ())]"
      ]
     },
     "metadata": {},
     "output_type": "display_data"
    },
    {
     "data": {
      "text/plain": [
       "[Expression(CONCAVE, UNKNOWN, ())]"
      ]
     },
     "metadata": {},
     "output_type": "display_data"
    },
    {
     "data": {
      "text/plain": [
       "[Expression(CONCAVE, UNKNOWN, ())]"
      ]
     },
     "metadata": {},
     "output_type": "display_data"
    },
    {
     "data": {
      "text/plain": [
       "[Expression(CONCAVE, UNKNOWN, ())]"
      ]
     },
     "metadata": {},
     "output_type": "display_data"
    },
    {
     "data": {
      "text/plain": [
       "[Expression(CONCAVE, UNKNOWN, ())]"
      ]
     },
     "metadata": {},
     "output_type": "display_data"
    },
    {
     "data": {
      "text/plain": [
       "[Expression(CONCAVE, UNKNOWN, ())]"
      ]
     },
     "metadata": {},
     "output_type": "display_data"
    },
    {
     "data": {
      "text/plain": [
       "[Expression(CONCAVE, UNKNOWN, ())]"
      ]
     },
     "metadata": {},
     "output_type": "display_data"
    },
    {
     "data": {
      "text/plain": [
       "[Expression(CONCAVE, UNKNOWN, ())]"
      ]
     },
     "metadata": {},
     "output_type": "display_data"
    },
    {
     "name": "stdout",
     "output_type": "stream",
     "text": [
      "===============================================================================\n",
      "                                     CVXPY                                     \n",
      "                                     v1.3.2                                    \n",
      "===============================================================================\n",
      "(CVXPY) Oct 01 04:48:58 PM: Your problem has 34 variables, 84 constraints, and 0 parameters.\n",
      "(CVXPY) Oct 01 04:48:58 PM: It is compliant with the following grammars: \n",
      "(CVXPY) Oct 01 04:48:58 PM: (If you need to solve this problem multiple times, but with different data, consider using parameters.)\n",
      "(CVXPY) Oct 01 04:48:58 PM: CVXPY will first compile your problem; then, it will invoke a numerical solver to obtain a solution.\n"
     ]
    },
    {
     "ename": "DCPError",
     "evalue": "Problem does not follow DCP rules. Specifically:\nThe following constraints are not DCP:\nminimum(1.0, 1.0 + -var2791[6, 0] @ 0.1 + var2791[7, 0] @ 0.5 + var2791[8, 0] + var563[1, 0:3][0] @ 0.1 + var563[1, 0:3][1] @ 0.5 + var563[1, 0:3][2]) <= var567[0, 0] , because the following subexpressions are not:\n|--  minimum(1.0, 1.0 + -var2791[6, 0] @ 0.1 + var2791[7, 0] @ 0.5 + var2791[8, 0] + var563[1, 0:3][0] @ 0.1 + var563[1, 0:3][1] @ 0.5 + var563[1, 0:3][2]) <= var567[0, 0]\nminimum(1.0, 1.0 + -var2791[6, 0] @ 0.3 + var2791[7, 0] @ 0.7 + var2791[8, 0] + var563[1, 0:3][0] @ 0.3 + var563[1, 0:3][1] @ 0.7 + var563[1, 0:3][2]) <= var567[0, 0] , because the following subexpressions are not:\n|--  minimum(1.0, 1.0 + -var2791[6, 0] @ 0.3 + var2791[7, 0] @ 0.7 + var2791[8, 0] + var563[1, 0:3][0] @ 0.3 + var563[1, 0:3][1] @ 0.7 + var563[1, 0:3][2]) <= var567[0, 0]\nminimum(1.0, 1.0 + -var2791[6, 0] @ 0.5 + var2791[7, 0] @ 0.4 + var2791[8, 0] + var563[1, 0:3][0] @ 0.5 + var563[1, 0:3][1] @ 0.4 + var563[1, 0:3][2]) <= var567[0, 0] , because the following subexpressions are not:\n|--  minimum(1.0, 1.0 + -var2791[6, 0] @ 0.5 + var2791[7, 0] @ 0.4 + var2791[8, 0] + var563[1, 0:3][0] @ 0.5 + var563[1, 0:3][1] @ 0.4 + var563[1, 0:3][2]) <= var567[0, 0]\nminimum(1.0, 1.0 + -var2791[6, 0] @ 0.8 + var2791[7, 0] @ 0.3 + var2791[8, 0] + var563[1, 0:3][0] @ 0.8 + var563[1, 0:3][1] @ 0.3 + var563[1, 0:3][2]) <= var567[0, 0] , because the following subexpressions are not:\n|--  minimum(1.0, 1.0 + -var2791[6, 0] @ 0.8 + var2791[7, 0] @ 0.3 + var2791[8, 0] + var563[1, 0:3][0] @ 0.8 + var563[1, 0:3][1] @ 0.3 + var563[1, 0:3][2]) <= var567[0, 0]\nminimum(1.0, 1.0 + -var2791[6, 0] @ 0.9 + var2791[7, 0] @ 0.2 + var2791[8, 0] + var563[1, 0:3][0] @ 0.9 + var563[1, 0:3][1] @ 0.2 + var563[1, 0:3][2]) <= var567[0, 0] , because the following subexpressions are not:\n|--  minimum(1.0, 1.0 + -var2791[6, 0] @ 0.9 + var2791[7, 0] @ 0.2 + var2791[8, 0] + var563[1, 0:3][0] @ 0.9 + var563[1, 0:3][1] @ 0.2 + var563[1, 0:3][2]) <= var567[0, 0]\nminimum(1.0, 1.0 + -var2791[6, 0] @ 1.0 + var2791[7, 0] @ 0.5 + var2791[8, 0] + var563[1, 0:3][0] @ 1.0 + var563[1, 0:3][1] @ 0.5 + var563[1, 0:3][2]) <= var567[0, 0] , because the following subexpressions are not:\n|--  minimum(1.0, 1.0 + -var2791[6, 0] @ 1.0 + var2791[7, 0] @ 0.5 + var2791[8, 0] + var563[1, 0:3][0] @ 1.0 + var563[1, 0:3][1] @ 0.5 + var563[1, 0:3][2]) <= var567[0, 0]\nminimum(1.0, 1.0 + -var563[1, 0:3][0] @ 0.1 + var563[1, 0:3][1] @ 0.5 + var563[1, 0:3][2] + var563[2, 0:3][0] @ 0.1 + var563[2, 0:3][1] @ 0.5 + var563[2, 0:3][2]) <= var567[1, 0] , because the following subexpressions are not:\n|--  minimum(1.0, 1.0 + -var563[1, 0:3][0] @ 0.1 + var563[1, 0:3][1] @ 0.5 + var563[1, 0:3][2] + var563[2, 0:3][0] @ 0.1 + var563[2, 0:3][1] @ 0.5 + var563[2, 0:3][2]) <= var567[1, 0]\nminimum(1.0, 1.0 + -var563[1, 0:3][0] @ 0.3 + var563[1, 0:3][1] @ 0.7 + var563[1, 0:3][2] + var563[2, 0:3][0] @ 0.3 + var563[2, 0:3][1] @ 0.7 + var563[2, 0:3][2]) <= var567[1, 0] , because the following subexpressions are not:\n|--  minimum(1.0, 1.0 + -var563[1, 0:3][0] @ 0.3 + var563[1, 0:3][1] @ 0.7 + var563[1, 0:3][2] + var563[2, 0:3][0] @ 0.3 + var563[2, 0:3][1] @ 0.7 + var563[2, 0:3][2]) <= var567[1, 0]\nminimum(1.0, 1.0 + -var563[1, 0:3][0] @ 0.5 + var563[1, 0:3][1] @ 0.4 + var563[1, 0:3][2] + var563[2, 0:3][0] @ 0.5 + var563[2, 0:3][1] @ 0.4 + var563[2, 0:3][2]) <= var567[1, 0] , because the following subexpressions are not:\n|--  minimum(1.0, 1.0 + -var563[1, 0:3][0] @ 0.5 + var563[1, 0:3][1] @ 0.4 + var563[1, 0:3][2] + var563[2, 0:3][0] @ 0.5 + var563[2, 0:3][1] @ 0.4 + var563[2, 0:3][2]) <= var567[1, 0]\nminimum(1.0, 1.0 + -var563[1, 0:3][0] @ 0.8 + var563[1, 0:3][1] @ 0.3 + var563[1, 0:3][2] + var563[2, 0:3][0] @ 0.8 + var563[2, 0:3][1] @ 0.3 + var563[2, 0:3][2]) <= var567[1, 0] , because the following subexpressions are not:\n|--  minimum(1.0, 1.0 + -var563[1, 0:3][0] @ 0.8 + var563[1, 0:3][1] @ 0.3 + var563[1, 0:3][2] + var563[2, 0:3][0] @ 0.8 + var563[2, 0:3][1] @ 0.3 + var563[2, 0:3][2]) <= var567[1, 0]\nminimum(1.0, 1.0 + -var563[1, 0:3][0] @ 0.9 + var563[1, 0:3][1] @ 0.2 + var563[1, 0:3][2] + var563[2, 0:3][0] @ 0.9 + var563[2, 0:3][1] @ 0.2 + var563[2, 0:3][2]) <= var567[1, 0] , because the following subexpressions are not:\n|--  minimum(1.0, 1.0 + -var563[1, 0:3][0] @ 0.9 + var563[1, 0:3][1] @ 0.2 + var563[1, 0:3][2] + var563[2, 0:3][0] @ 0.9 + var563[2, 0:3][1] @ 0.2 + var563[2, 0:3][2]) <= var567[1, 0]\nminimum(1.0, 1.0 + -var563[1, 0:3][0] @ 1.0 + var563[1, 0:3][1] @ 0.5 + var563[1, 0:3][2] + var563[2, 0:3][0] @ 1.0 + var563[2, 0:3][1] @ 0.5 + var563[2, 0:3][2]) <= var567[1, 0] , because the following subexpressions are not:\n|--  minimum(1.0, 1.0 + -var563[1, 0:3][0] @ 1.0 + var563[1, 0:3][1] @ 0.5 + var563[1, 0:3][2] + var563[2, 0:3][0] @ 1.0 + var563[2, 0:3][1] @ 0.5 + var563[2, 0:3][2]) <= var567[1, 0]",
     "output_type": "error",
     "traceback": [
      "\u001b[0;31m---------------------------------------------------------------------------\u001b[0m",
      "\u001b[0;31mDCPError\u001b[0m                                  Traceback (most recent call last)",
      "\u001b[1;32m/home/onoue/ws/lukasiewicz/test.ipynb セル 36\u001b[0m line \u001b[0;36m1\n\u001b[1;32m    <a href='vscode-notebook-cell:/home/onoue/ws/lukasiewicz/test.ipynb#Y103sZmlsZQ%3D%3D?line=149'>150</a>\u001b[0m         constraints_2 \u001b[39m+\u001b[39m\u001b[39m=\u001b[39m [\n\u001b[1;32m    <a href='vscode-notebook-cell:/home/onoue/ws/lukasiewicz/test.ipynb#Y103sZmlsZQ%3D%3D?line=150'>151</a>\u001b[0m             w1 \u001b[39m*\u001b[39m x1 \u001b[39m+\u001b[39m w2 \u001b[39m*\u001b[39m x2 \u001b[39m+\u001b[39m b \u001b[39m>\u001b[39m\u001b[39m=\u001b[39m \u001b[39m0\u001b[39m,\n\u001b[1;32m    <a href='vscode-notebook-cell:/home/onoue/ws/lukasiewicz/test.ipynb#Y103sZmlsZQ%3D%3D?line=151'>152</a>\u001b[0m             w1 \u001b[39m*\u001b[39m x1 \u001b[39m+\u001b[39m w2 \u001b[39m*\u001b[39m x2 \u001b[39m+\u001b[39m b \u001b[39m<\u001b[39m\u001b[39m=\u001b[39m \u001b[39m1\u001b[39m\n\u001b[1;32m    <a href='vscode-notebook-cell:/home/onoue/ws/lukasiewicz/test.ipynb#Y103sZmlsZQ%3D%3D?line=152'>153</a>\u001b[0m         ]\n\u001b[1;32m    <a href='vscode-notebook-cell:/home/onoue/ws/lukasiewicz/test.ipynb#Y103sZmlsZQ%3D%3D?line=155'>156</a>\u001b[0m problem \u001b[39m=\u001b[39m cp\u001b[39m.\u001b[39mProblem(objective_function, constraints_2)\n\u001b[0;32m--> <a href='vscode-notebook-cell:/home/onoue/ws/lukasiewicz/test.ipynb#Y103sZmlsZQ%3D%3D?line=156'>157</a>\u001b[0m result \u001b[39m=\u001b[39m problem\u001b[39m.\u001b[39;49msolve(verbose\u001b[39m=\u001b[39;49m\u001b[39mTrue\u001b[39;49;00m)\n",
      "File \u001b[0;32m~/ws/lukasiewicz/myenv/lib/python3.10/site-packages/cvxpy/problems/problem.py:495\u001b[0m, in \u001b[0;36mProblem.solve\u001b[0;34m(self, *args, **kwargs)\u001b[0m\n\u001b[1;32m    493\u001b[0m \u001b[39melse\u001b[39;00m:\n\u001b[1;32m    494\u001b[0m     solve_func \u001b[39m=\u001b[39m Problem\u001b[39m.\u001b[39m_solve\n\u001b[0;32m--> 495\u001b[0m \u001b[39mreturn\u001b[39;00m solve_func(\u001b[39mself\u001b[39;49m, \u001b[39m*\u001b[39;49margs, \u001b[39m*\u001b[39;49m\u001b[39m*\u001b[39;49mkwargs)\n",
      "File \u001b[0;32m~/ws/lukasiewicz/myenv/lib/python3.10/site-packages/cvxpy/problems/problem.py:1056\u001b[0m, in \u001b[0;36mProblem._solve\u001b[0;34m(self, solver, warm_start, verbose, gp, qcp, requires_grad, enforce_dpp, ignore_dpp, canon_backend, **kwargs)\u001b[0m\n\u001b[1;32m   1053\u001b[0m         \u001b[39mself\u001b[39m\u001b[39m.\u001b[39munpack(chain\u001b[39m.\u001b[39mretrieve(soln))\n\u001b[1;32m   1054\u001b[0m         \u001b[39mreturn\u001b[39;00m \u001b[39mself\u001b[39m\u001b[39m.\u001b[39mvalue\n\u001b[0;32m-> 1056\u001b[0m data, solving_chain, inverse_data \u001b[39m=\u001b[39m \u001b[39mself\u001b[39;49m\u001b[39m.\u001b[39;49mget_problem_data(\n\u001b[1;32m   1057\u001b[0m     solver, gp, enforce_dpp, ignore_dpp, verbose, canon_backend, kwargs\n\u001b[1;32m   1058\u001b[0m )\n\u001b[1;32m   1060\u001b[0m \u001b[39mif\u001b[39;00m verbose:\n\u001b[1;32m   1061\u001b[0m     \u001b[39mprint\u001b[39m(_NUM_SOLVER_STR)\n",
      "File \u001b[0;32m~/ws/lukasiewicz/myenv/lib/python3.10/site-packages/cvxpy/problems/problem.py:633\u001b[0m, in \u001b[0;36mProblem.get_problem_data\u001b[0;34m(self, solver, gp, enforce_dpp, ignore_dpp, verbose, canon_backend, solver_opts)\u001b[0m\n\u001b[1;32m    631\u001b[0m \u001b[39mif\u001b[39;00m key \u001b[39m!=\u001b[39m \u001b[39mself\u001b[39m\u001b[39m.\u001b[39m_cache\u001b[39m.\u001b[39mkey:\n\u001b[1;32m    632\u001b[0m     \u001b[39mself\u001b[39m\u001b[39m.\u001b[39m_cache\u001b[39m.\u001b[39minvalidate()\n\u001b[0;32m--> 633\u001b[0m     solving_chain \u001b[39m=\u001b[39m \u001b[39mself\u001b[39;49m\u001b[39m.\u001b[39;49m_construct_chain(\n\u001b[1;32m    634\u001b[0m         solver\u001b[39m=\u001b[39;49msolver, gp\u001b[39m=\u001b[39;49mgp,\n\u001b[1;32m    635\u001b[0m         enforce_dpp\u001b[39m=\u001b[39;49menforce_dpp,\n\u001b[1;32m    636\u001b[0m         ignore_dpp\u001b[39m=\u001b[39;49mignore_dpp,\n\u001b[1;32m    637\u001b[0m         canon_backend\u001b[39m=\u001b[39;49mcanon_backend,\n\u001b[1;32m    638\u001b[0m         solver_opts\u001b[39m=\u001b[39;49msolver_opts)\n\u001b[1;32m    639\u001b[0m     \u001b[39mself\u001b[39m\u001b[39m.\u001b[39m_cache\u001b[39m.\u001b[39mkey \u001b[39m=\u001b[39m key\n\u001b[1;32m    640\u001b[0m     \u001b[39mself\u001b[39m\u001b[39m.\u001b[39m_cache\u001b[39m.\u001b[39msolving_chain \u001b[39m=\u001b[39m solving_chain\n",
      "File \u001b[0;32m~/ws/lukasiewicz/myenv/lib/python3.10/site-packages/cvxpy/problems/problem.py:885\u001b[0m, in \u001b[0;36mProblem._construct_chain\u001b[0;34m(self, solver, gp, enforce_dpp, ignore_dpp, canon_backend, solver_opts)\u001b[0m\n\u001b[1;32m    883\u001b[0m candidate_solvers \u001b[39m=\u001b[39m \u001b[39mself\u001b[39m\u001b[39m.\u001b[39m_find_candidate_solvers(solver\u001b[39m=\u001b[39msolver, gp\u001b[39m=\u001b[39mgp)\n\u001b[1;32m    884\u001b[0m \u001b[39mself\u001b[39m\u001b[39m.\u001b[39m_sort_candidate_solvers(candidate_solvers)\n\u001b[0;32m--> 885\u001b[0m \u001b[39mreturn\u001b[39;00m construct_solving_chain(\u001b[39mself\u001b[39;49m, candidate_solvers, gp\u001b[39m=\u001b[39;49mgp,\n\u001b[1;32m    886\u001b[0m                                enforce_dpp\u001b[39m=\u001b[39;49menforce_dpp,\n\u001b[1;32m    887\u001b[0m                                ignore_dpp\u001b[39m=\u001b[39;49mignore_dpp,\n\u001b[1;32m    888\u001b[0m                                canon_backend\u001b[39m=\u001b[39;49mcanon_backend,\n\u001b[1;32m    889\u001b[0m                                solver_opts\u001b[39m=\u001b[39;49msolver_opts)\n",
      "File \u001b[0;32m~/ws/lukasiewicz/myenv/lib/python3.10/site-packages/cvxpy/reductions/solvers/solving_chain.py:197\u001b[0m, in \u001b[0;36mconstruct_solving_chain\u001b[0;34m(problem, candidates, gp, enforce_dpp, ignore_dpp, canon_backend, solver_opts)\u001b[0m\n\u001b[1;32m    195\u001b[0m \u001b[39mif\u001b[39;00m \u001b[39mlen\u001b[39m(problem\u001b[39m.\u001b[39mvariables()) \u001b[39m==\u001b[39m \u001b[39m0\u001b[39m:\n\u001b[1;32m    196\u001b[0m     \u001b[39mreturn\u001b[39;00m SolvingChain(reductions\u001b[39m=\u001b[39m[ConstantSolver()])\n\u001b[0;32m--> 197\u001b[0m reductions \u001b[39m=\u001b[39m _reductions_for_problem_class(problem, candidates, gp, solver_opts)\n\u001b[1;32m    199\u001b[0m \u001b[39m# Process DPP status of the problem.\u001b[39;00m\n\u001b[1;32m    200\u001b[0m dpp_context \u001b[39m=\u001b[39m \u001b[39m'\u001b[39m\u001b[39mdcp\u001b[39m\u001b[39m'\u001b[39m \u001b[39mif\u001b[39;00m \u001b[39mnot\u001b[39;00m gp \u001b[39melse\u001b[39;00m \u001b[39m'\u001b[39m\u001b[39mdgp\u001b[39m\u001b[39m'\u001b[39m\n",
      "File \u001b[0;32m~/ws/lukasiewicz/myenv/lib/python3.10/site-packages/cvxpy/reductions/solvers/solving_chain.py:115\u001b[0m, in \u001b[0;36m_reductions_for_problem_class\u001b[0;34m(problem, candidates, gp, solver_opts)\u001b[0m\n\u001b[1;32m    112\u001b[0m     \u001b[39melif\u001b[39;00m problem\u001b[39m.\u001b[39mis_dqcp():\n\u001b[1;32m    113\u001b[0m         append \u001b[39m+\u001b[39m\u001b[39m=\u001b[39m (\u001b[39m\"\u001b[39m\u001b[39m\\n\u001b[39;00m\u001b[39mHowever, the problem does follow DQCP rules. \u001b[39m\u001b[39m\"\u001b[39m\n\u001b[1;32m    114\u001b[0m                    \u001b[39m\"\u001b[39m\u001b[39mConsider calling solve() with `qcp=True`.\u001b[39m\u001b[39m\"\u001b[39m)\n\u001b[0;32m--> 115\u001b[0m     \u001b[39mraise\u001b[39;00m DCPError(\n\u001b[1;32m    116\u001b[0m         \u001b[39m\"\u001b[39m\u001b[39mProblem does not follow DCP rules. Specifically:\u001b[39m\u001b[39m\\n\u001b[39;00m\u001b[39m\"\u001b[39m \u001b[39m+\u001b[39m append)\n\u001b[1;32m    117\u001b[0m \u001b[39melif\u001b[39;00m gp \u001b[39mand\u001b[39;00m \u001b[39mnot\u001b[39;00m problem\u001b[39m.\u001b[39mis_dgp():\n\u001b[1;32m    118\u001b[0m     append \u001b[39m=\u001b[39m build_non_disciplined_error_msg(problem, \u001b[39m'\u001b[39m\u001b[39mDGP\u001b[39m\u001b[39m'\u001b[39m)\n",
      "\u001b[0;31mDCPError\u001b[0m: Problem does not follow DCP rules. Specifically:\nThe following constraints are not DCP:\nminimum(1.0, 1.0 + -var2791[6, 0] @ 0.1 + var2791[7, 0] @ 0.5 + var2791[8, 0] + var563[1, 0:3][0] @ 0.1 + var563[1, 0:3][1] @ 0.5 + var563[1, 0:3][2]) <= var567[0, 0] , because the following subexpressions are not:\n|--  minimum(1.0, 1.0 + -var2791[6, 0] @ 0.1 + var2791[7, 0] @ 0.5 + var2791[8, 0] + var563[1, 0:3][0] @ 0.1 + var563[1, 0:3][1] @ 0.5 + var563[1, 0:3][2]) <= var567[0, 0]\nminimum(1.0, 1.0 + -var2791[6, 0] @ 0.3 + var2791[7, 0] @ 0.7 + var2791[8, 0] + var563[1, 0:3][0] @ 0.3 + var563[1, 0:3][1] @ 0.7 + var563[1, 0:3][2]) <= var567[0, 0] , because the following subexpressions are not:\n|--  minimum(1.0, 1.0 + -var2791[6, 0] @ 0.3 + var2791[7, 0] @ 0.7 + var2791[8, 0] + var563[1, 0:3][0] @ 0.3 + var563[1, 0:3][1] @ 0.7 + var563[1, 0:3][2]) <= var567[0, 0]\nminimum(1.0, 1.0 + -var2791[6, 0] @ 0.5 + var2791[7, 0] @ 0.4 + var2791[8, 0] + var563[1, 0:3][0] @ 0.5 + var563[1, 0:3][1] @ 0.4 + var563[1, 0:3][2]) <= var567[0, 0] , because the following subexpressions are not:\n|--  minimum(1.0, 1.0 + -var2791[6, 0] @ 0.5 + var2791[7, 0] @ 0.4 + var2791[8, 0] + var563[1, 0:3][0] @ 0.5 + var563[1, 0:3][1] @ 0.4 + var563[1, 0:3][2]) <= var567[0, 0]\nminimum(1.0, 1.0 + -var2791[6, 0] @ 0.8 + var2791[7, 0] @ 0.3 + var2791[8, 0] + var563[1, 0:3][0] @ 0.8 + var563[1, 0:3][1] @ 0.3 + var563[1, 0:3][2]) <= var567[0, 0] , because the following subexpressions are not:\n|--  minimum(1.0, 1.0 + -var2791[6, 0] @ 0.8 + var2791[7, 0] @ 0.3 + var2791[8, 0] + var563[1, 0:3][0] @ 0.8 + var563[1, 0:3][1] @ 0.3 + var563[1, 0:3][2]) <= var567[0, 0]\nminimum(1.0, 1.0 + -var2791[6, 0] @ 0.9 + var2791[7, 0] @ 0.2 + var2791[8, 0] + var563[1, 0:3][0] @ 0.9 + var563[1, 0:3][1] @ 0.2 + var563[1, 0:3][2]) <= var567[0, 0] , because the following subexpressions are not:\n|--  minimum(1.0, 1.0 + -var2791[6, 0] @ 0.9 + var2791[7, 0] @ 0.2 + var2791[8, 0] + var563[1, 0:3][0] @ 0.9 + var563[1, 0:3][1] @ 0.2 + var563[1, 0:3][2]) <= var567[0, 0]\nminimum(1.0, 1.0 + -var2791[6, 0] @ 1.0 + var2791[7, 0] @ 0.5 + var2791[8, 0] + var563[1, 0:3][0] @ 1.0 + var563[1, 0:3][1] @ 0.5 + var563[1, 0:3][2]) <= var567[0, 0] , because the following subexpressions are not:\n|--  minimum(1.0, 1.0 + -var2791[6, 0] @ 1.0 + var2791[7, 0] @ 0.5 + var2791[8, 0] + var563[1, 0:3][0] @ 1.0 + var563[1, 0:3][1] @ 0.5 + var563[1, 0:3][2]) <= var567[0, 0]\nminimum(1.0, 1.0 + -var563[1, 0:3][0] @ 0.1 + var563[1, 0:3][1] @ 0.5 + var563[1, 0:3][2] + var563[2, 0:3][0] @ 0.1 + var563[2, 0:3][1] @ 0.5 + var563[2, 0:3][2]) <= var567[1, 0] , because the following subexpressions are not:\n|--  minimum(1.0, 1.0 + -var563[1, 0:3][0] @ 0.1 + var563[1, 0:3][1] @ 0.5 + var563[1, 0:3][2] + var563[2, 0:3][0] @ 0.1 + var563[2, 0:3][1] @ 0.5 + var563[2, 0:3][2]) <= var567[1, 0]\nminimum(1.0, 1.0 + -var563[1, 0:3][0] @ 0.3 + var563[1, 0:3][1] @ 0.7 + var563[1, 0:3][2] + var563[2, 0:3][0] @ 0.3 + var563[2, 0:3][1] @ 0.7 + var563[2, 0:3][2]) <= var567[1, 0] , because the following subexpressions are not:\n|--  minimum(1.0, 1.0 + -var563[1, 0:3][0] @ 0.3 + var563[1, 0:3][1] @ 0.7 + var563[1, 0:3][2] + var563[2, 0:3][0] @ 0.3 + var563[2, 0:3][1] @ 0.7 + var563[2, 0:3][2]) <= var567[1, 0]\nminimum(1.0, 1.0 + -var563[1, 0:3][0] @ 0.5 + var563[1, 0:3][1] @ 0.4 + var563[1, 0:3][2] + var563[2, 0:3][0] @ 0.5 + var563[2, 0:3][1] @ 0.4 + var563[2, 0:3][2]) <= var567[1, 0] , because the following subexpressions are not:\n|--  minimum(1.0, 1.0 + -var563[1, 0:3][0] @ 0.5 + var563[1, 0:3][1] @ 0.4 + var563[1, 0:3][2] + var563[2, 0:3][0] @ 0.5 + var563[2, 0:3][1] @ 0.4 + var563[2, 0:3][2]) <= var567[1, 0]\nminimum(1.0, 1.0 + -var563[1, 0:3][0] @ 0.8 + var563[1, 0:3][1] @ 0.3 + var563[1, 0:3][2] + var563[2, 0:3][0] @ 0.8 + var563[2, 0:3][1] @ 0.3 + var563[2, 0:3][2]) <= var567[1, 0] , because the following subexpressions are not:\n|--  minimum(1.0, 1.0 + -var563[1, 0:3][0] @ 0.8 + var563[1, 0:3][1] @ 0.3 + var563[1, 0:3][2] + var563[2, 0:3][0] @ 0.8 + var563[2, 0:3][1] @ 0.3 + var563[2, 0:3][2]) <= var567[1, 0]\nminimum(1.0, 1.0 + -var563[1, 0:3][0] @ 0.9 + var563[1, 0:3][1] @ 0.2 + var563[1, 0:3][2] + var563[2, 0:3][0] @ 0.9 + var563[2, 0:3][1] @ 0.2 + var563[2, 0:3][2]) <= var567[1, 0] , because the following subexpressions are not:\n|--  minimum(1.0, 1.0 + -var563[1, 0:3][0] @ 0.9 + var563[1, 0:3][1] @ 0.2 + var563[1, 0:3][2] + var563[2, 0:3][0] @ 0.9 + var563[2, 0:3][1] @ 0.2 + var563[2, 0:3][2]) <= var567[1, 0]\nminimum(1.0, 1.0 + -var563[1, 0:3][0] @ 1.0 + var563[1, 0:3][1] @ 0.5 + var563[1, 0:3][2] + var563[2, 0:3][0] @ 1.0 + var563[2, 0:3][1] @ 0.5 + var563[2, 0:3][2]) <= var567[1, 0] , because the following subexpressions are not:\n|--  minimum(1.0, 1.0 + -var563[1, 0:3][0] @ 1.0 + var563[1, 0:3][1] @ 0.5 + var563[1, 0:3][2] + var563[2, 0:3][0] @ 1.0 + var563[2, 0:3][1] @ 0.5 + var563[2, 0:3][2]) <= var567[1, 0]"
     ]
    }
   ],
   "source": [
    "# load and convert data, describe problem settings, etc\n",
    "data_dir_path = './inputs/toy_data/'\n",
    "path_L1 = os.path.join(data_dir_path, 'L1.csv')\n",
    "path_L2 = os.path.join(data_dir_path, 'L2.csv')\n",
    "path_L3 = os.path.join(data_dir_path, 'L3.csv')\n",
    "path_U = os.path.join(data_dir_path, 'U.csv')\n",
    "\n",
    "df_L1 = pd.read_csv(path_L1, index_col=0)\n",
    "df_L2 = pd.read_csv(path_L2, index_col=0)\n",
    "df_L3 = pd.read_csv(path_L3, index_col=0)\n",
    "df_U = pd.read_csv(path_U, index_col=0)\n",
    "\n",
    "L1 = np.array(df_L1)\n",
    "L2 = np.array(df_L2)\n",
    "L3 = np.array(df_L3)\n",
    "\n",
    "L = np.stack([L1, L2, L3]) # data for pointwise constraint\n",
    "U = np.array(df_U) # data for logical constriant\n",
    "\n",
    "len_j = 3 # number of tasks (p の数)\n",
    "len_h = 2 # number of logical constraints considered (cardinality of KB)\n",
    "len_jl = 0 # number of pointwise constraints to be counted later\n",
    "\n",
    "\n",
    "len_l_list = [] # L_j の要素数のリスト\n",
    "len_s_list = [] # S_j の要素数のリスト\n",
    "S = [] # data for consistency constraints \n",
    "\n",
    "for i in range(len_j):\n",
    "    if len_h != 0:\n",
    "        u = len(U)\n",
    "        S_i = np.concatenate((L[i][:, :2], U), axis=0)\n",
    "        S.append(S_i)\n",
    "    else:\n",
    "        u = 0\n",
    "        S_i = L[i][:, :2]\n",
    "        S.append(S_i)\n",
    "    len_l_list.append(len(L[i]))\n",
    "    len_jl += len(L[i])\n",
    "    len_s_list.append(len(S_i))\n",
    "\n",
    "S = np.stack(S)\n",
    "\n",
    "\n",
    "c1 = 2.5 # degree of satisfaction for pointwise slacks\n",
    "c2 = 2.5 # degree of satisfaction for logical slacks\n",
    "\n",
    "c1 = 100\n",
    "c2 = 100\n",
    "\n",
    "w_j = cp.Variable(shape=(3 * len_j, 1))  # [w1, w2, b] * 3\n",
    "xi_j = cp.Variable(shape=(len_jl, 1), nonneg=True) # non-negative とか入れたほうが良さそう\n",
    "xi_h = cp.Variable(shape=(len_h, 1), nonneg=True)\n",
    "\n",
    "vars = cp.vstack([w_j, xi_j, xi_h])\n",
    "\n",
    "# objective_function = cp.Minimize(1/2 * cp.quad_form(vars, H) + f.T @ vars)\n",
    "func = 0\n",
    "\n",
    "for j in range(len_j):\n",
    "    func += 1/2 * cp.norm2(w_j[3*j:3*(j+1)]) ** 2\n",
    "\n",
    "for jl in range(len_jl):\n",
    "    func += c1 * xi_j[jl, 0]\n",
    "\n",
    "for h in range(len_h):\n",
    "    func += c2 * xi_h[h, 0]\n",
    "\n",
    "objective_function = cp.Minimize(func)\n",
    "\n",
    "\n",
    "\n",
    "\n",
    "constraints_2 = []\n",
    "\n",
    "# pointwise\n",
    "for j in range(len_j):\n",
    "    len_l = len_l_list[j]\n",
    "\n",
    "    w1 = w_j[3 * j + 0, 0]\n",
    "    w2 = w_j[3 * j + 1, 0]\n",
    "    b =  w_j[3 * j + 2, 0]\n",
    "\n",
    "    for l in range(len_l):\n",
    "        x1 = L[j][l, 0]\n",
    "        x2 = L[j][l, 1]\n",
    "        y =  L[j][l, 2]\n",
    "\n",
    "        xi = xi_j[len_l * j + l, 0]\n",
    "\n",
    "        constraints_2 += [\n",
    "            y * (2 * (w1 * x1 + w2 * x2 + b) - 1) >= 1 - 2 * xi\n",
    "        ]\n",
    "\n",
    "\n",
    "\n",
    "\n",
    "w1_1 = w_j[3 * 0 + 0, 0]\n",
    "w2_1 = w_j[3 * 0 + 1, 0]\n",
    "b_1 =  w_j[3 * 0 + 2, 0]\n",
    "w1_2 = w_j[3 * 1 + 0, 0]\n",
    "w2_2 = w_j[3 * 1 + 1, 0]\n",
    "b_2 =  w_j[3 * 1 + 2, 0]\n",
    "w1_3 = w_j[3 * 2 + 0, 0]\n",
    "w2_3 = w_j[3 * 2 + 1, 0]\n",
    "b_3 =  w_j[3 * 2 + 2, 0]\n",
    "\n",
    "def p_1(x):\n",
    "    x1, x2 = x[0], x[1]\n",
    "    return w1_1 * x1 + w2_1 * x2 + b_1\n",
    "\n",
    "def p_1(x):\n",
    "    x1, x2 = x[0], x[1]\n",
    "    return w1_2 * x1 + w2_2 * x2 + b_2\n",
    "\n",
    "def p_1(x):\n",
    "    x1, x2 = x[0], x[1]\n",
    "    return w1_3 * x1 + w2_3 * x2 + b_3\n",
    "\n",
    "\n",
    "for u in U:\n",
    "    formula_decomposed = [p_1(u), '→', p_2(u)]\n",
    "    formula_calculated = test(formula_decomposed)\n",
    "    constraints_2 += [\n",
    "        formula_calculated <= xi_1\n",
    "    ]\n",
    "\n",
    "for u in U:\n",
    "    formula_decomposed = [p_2(u), '→', p_3(u)]\n",
    "    formula_calculated = test(formula_decomposed)\n",
    "    constraints_2 += [\n",
    "        formula_calculated <= xi_2\n",
    "    ]\n",
    "\n",
    "\n",
    "\n",
    "\n",
    "# consistency\n",
    "for j in range(len_j):\n",
    "    len_s = len_s_list[j]\n",
    "\n",
    "    w1 = w_j[3 * j + 0, 0]\n",
    "    w2 = w_j[3 * j + 1, 0]\n",
    "    b =  w_j[3 * j + 2, 0]\n",
    "\n",
    "    for s in range(len_s):\n",
    "        x1 = S[j][s, 0]\n",
    "        x2 = S[j][s, 1]\n",
    "\n",
    "        constraints_2 += [\n",
    "            w1 * x1 + w2 * x2 + b >= 0,\n",
    "            w1 * x1 + w2 * x2 + b <= 1\n",
    "        ]\n",
    "\n",
    "\n",
    "problem = cp.Problem(objective_function, constraints_2)\n",
    "result = problem.solve(verbose=True)\n"
   ]
  },
  {
   "cell_type": "code",
   "execution_count": null,
   "metadata": {},
   "outputs": [],
   "source": []
  },
  {
   "cell_type": "code",
   "execution_count": null,
   "metadata": {},
   "outputs": [],
   "source": []
  },
  {
   "cell_type": "code",
   "execution_count": null,
   "metadata": {},
   "outputs": [],
   "source": []
  },
  {
   "cell_type": "code",
   "execution_count": null,
   "metadata": {},
   "outputs": [],
   "source": []
  },
  {
   "cell_type": "code",
   "execution_count": null,
   "metadata": {},
   "outputs": [],
   "source": []
  },
  {
   "cell_type": "code",
   "execution_count": null,
   "metadata": {},
   "outputs": [],
   "source": []
  },
  {
   "cell_type": "code",
   "execution_count": null,
   "metadata": {},
   "outputs": [],
   "source": []
  },
  {
   "cell_type": "code",
   "execution_count": null,
   "metadata": {},
   "outputs": [],
   "source": []
  },
  {
   "cell_type": "code",
   "execution_count": null,
   "metadata": {},
   "outputs": [],
   "source": []
  },
  {
   "cell_type": "code",
   "execution_count": null,
   "metadata": {},
   "outputs": [],
   "source": []
  },
  {
   "cell_type": "code",
   "execution_count": null,
   "metadata": {},
   "outputs": [],
   "source": []
  },
  {
   "cell_type": "code",
   "execution_count": null,
   "metadata": {},
   "outputs": [],
   "source": []
  }
 ],
 "metadata": {
  "kernelspec": {
   "display_name": "myenv",
   "language": "python",
   "name": "python3"
  },
  "language_info": {
   "codemirror_mode": {
    "name": "ipython",
    "version": 3
   },
   "file_extension": ".py",
   "mimetype": "text/x-python",
   "name": "python",
   "nbconvert_exporter": "python",
   "pygments_lexer": "ipython3",
   "version": "3.10.12"
  },
  "orig_nbformat": 4
 },
 "nbformat": 4,
 "nbformat_minor": 2
}
