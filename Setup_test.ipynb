{
 "cells": [
  {
   "cell_type": "code",
   "execution_count": 5,
   "metadata": {},
   "outputs": [
    {
     "name": "stdout",
     "output_type": "stream",
     "text": [
      "The autoreload extension is already loaded. To reload it, use:\n",
      "  %reload_ext autoreload\n"
     ]
    }
   ],
   "source": [
    "%load_ext autoreload\n",
    "%autoreload 2\n",
    "\n",
    "import os\n",
    "\n",
    "from utils.setup_problem import Setup\n",
    "from utils.misc import visualize_result\n",
    "\n",
    "import pandas as pd\n",
    "import numpy as np\n",
    "import matplotlib.pyplot as plt\n",
    "import cvxpy as cp\n",
    "\n",
    "from utils.misc import *\n",
    "\n",
    "\n",
    "%matplotlib inline"
   ]
  },
  {
   "cell_type": "code",
   "execution_count": 6,
   "metadata": {},
   "outputs": [],
   "source": [
    "file_names_dict = {\n",
    "    'supervised': ['L1', 'L2', 'L3'],\n",
    "    'unsupervised': ['U'],\n",
    "    'rule': ['rules']\n",
    "}\n",
    "\n",
    "data_dir_path = './inputs/toy_data'"
   ]
  },
  {
   "cell_type": "code",
   "execution_count": 7,
   "metadata": {},
   "outputs": [
    {
     "name": "stdout",
     "output_type": "stream",
     "text": [
      "[[Expression(AFFINE, UNKNOWN, ()), '⊕', Expression(AFFINE, UNKNOWN, ())], [Expression(AFFINE, UNKNOWN, ()), '⊕', Expression(AFFINE, UNKNOWN, ())]]\n",
      "[[Expression(AFFINE, UNKNOWN, ()), '⊕', Expression(AFFINE, UNKNOWN, ())], [Expression(AFFINE, UNKNOWN, ()), '⊕', Expression(AFFINE, UNKNOWN, ())]]\n",
      "[[Expression(AFFINE, UNKNOWN, ()), '⊕', Expression(AFFINE, UNKNOWN, ())], [Expression(AFFINE, UNKNOWN, ()), '⊕', Expression(AFFINE, UNKNOWN, ())]]\n",
      "[[Expression(AFFINE, UNKNOWN, ()), '⊕', Expression(AFFINE, UNKNOWN, ())], [Expression(AFFINE, UNKNOWN, ()), '⊕', Expression(AFFINE, UNKNOWN, ())]]\n",
      "[[Expression(AFFINE, UNKNOWN, ()), '⊕', Expression(AFFINE, UNKNOWN, ())], [Expression(AFFINE, UNKNOWN, ()), '⊕', Expression(AFFINE, UNKNOWN, ())]]\n",
      "[[Expression(AFFINE, UNKNOWN, ()), '⊕', Expression(AFFINE, UNKNOWN, ())], [Expression(AFFINE, UNKNOWN, ()), '⊕', Expression(AFFINE, UNKNOWN, ())]]\n"
     ]
    },
    {
     "data": {
      "text/plain": [
       "[Inequality(Constant(CONSTANT, ZERO, ())),\n",
       " Inequality(Expression(AFFINE, UNKNOWN, ())),\n",
       " Inequality(Constant(CONSTANT, ZERO, ())),\n",
       " Inequality(Expression(AFFINE, UNKNOWN, ())),\n",
       " Inequality(Constant(CONSTANT, ZERO, ())),\n",
       " Inequality(Expression(AFFINE, UNKNOWN, ())),\n",
       " Inequality(Constant(CONSTANT, ZERO, ())),\n",
       " Inequality(Expression(AFFINE, UNKNOWN, ())),\n",
       " Inequality(Constant(CONSTANT, ZERO, ())),\n",
       " Inequality(Expression(AFFINE, UNKNOWN, ())),\n",
       " Inequality(Constant(CONSTANT, ZERO, ())),\n",
       " Inequality(Expression(AFFINE, UNKNOWN, ())),\n",
       " Inequality(Constant(CONSTANT, ZERO, ())),\n",
       " Inequality(Expression(AFFINE, UNKNOWN, ())),\n",
       " Inequality(Constant(CONSTANT, ZERO, ())),\n",
       " Inequality(Expression(AFFINE, UNKNOWN, ())),\n",
       " Inequality(Constant(CONSTANT, ZERO, ())),\n",
       " Inequality(Expression(AFFINE, UNKNOWN, ())),\n",
       " Inequality(Constant(CONSTANT, ZERO, ())),\n",
       " Inequality(Expression(AFFINE, UNKNOWN, ())),\n",
       " Inequality(Constant(CONSTANT, ZERO, ())),\n",
       " Inequality(Expression(AFFINE, UNKNOWN, ())),\n",
       " Inequality(Constant(CONSTANT, ZERO, ())),\n",
       " Inequality(Expression(AFFINE, UNKNOWN, ()))]"
      ]
     },
     "execution_count": 7,
     "metadata": {},
     "output_type": "execute_result"
    }
   ],
   "source": [
    "problem_instance = Setup(data_dir_path, file_names_dict)\n",
    "problem_instance.load_data()\n",
    "problem_instance.load_rules()\n",
    "problem_instance.identify_predicates()\n",
    "\n",
    "problem_instance._construct_logical_constraints()\n"
   ]
  },
  {
   "cell_type": "code",
   "execution_count": 4,
   "metadata": {},
   "outputs": [
    {
     "name": "stdout",
     "output_type": "stream",
     "text": [
      "0.0 <= var3[0, 0]\n",
      "1.0 + -1.0 + -var1[0, 0:3][0:2] @ [0.1 0.5] + var1[0, 0:3][2] + var1[1, 0:3][0:2] @ [0.1 0.5] + var1[1, 0:3][2] <= var3[1, 0]\n",
      "0.0 <= var3[2, 0]\n",
      "1.0 + -1.0 + -var1[1, 0:3][0:2] @ [0.1 0.5] + var1[1, 0:3][2] + var1[2, 0:3][0:2] @ [0.1 0.5] + var1[2, 0:3][2] <= var3[3, 0]\n",
      "0.0 <= var3[0, 0]\n",
      "1.0 + -1.0 + -var1[0, 0:3][0:2] @ [0.3 0.7] + var1[0, 0:3][2] + var1[1, 0:3][0:2] @ [0.3 0.7] + var1[1, 0:3][2] <= var3[1, 0]\n",
      "0.0 <= var3[2, 0]\n",
      "1.0 + -1.0 + -var1[1, 0:3][0:2] @ [0.3 0.7] + var1[1, 0:3][2] + var1[2, 0:3][0:2] @ [0.3 0.7] + var1[2, 0:3][2] <= var3[3, 0]\n",
      "0.0 <= var3[0, 0]\n",
      "1.0 + -1.0 + -var1[0, 0:3][0:2] @ [0.5 0.4] + var1[0, 0:3][2] + var1[1, 0:3][0:2] @ [0.5 0.4] + var1[1, 0:3][2] <= var3[1, 0]\n",
      "0.0 <= var3[2, 0]\n",
      "1.0 + -1.0 + -var1[1, 0:3][0:2] @ [0.5 0.4] + var1[1, 0:3][2] + var1[2, 0:3][0:2] @ [0.5 0.4] + var1[2, 0:3][2] <= var3[3, 0]\n",
      "0.0 <= var3[0, 0]\n",
      "1.0 + -1.0 + -var1[0, 0:3][0:2] @ [0.8 0.3] + var1[0, 0:3][2] + var1[1, 0:3][0:2] @ [0.8 0.3] + var1[1, 0:3][2] <= var3[1, 0]\n",
      "0.0 <= var3[2, 0]\n",
      "1.0 + -1.0 + -var1[1, 0:3][0:2] @ [0.8 0.3] + var1[1, 0:3][2] + var1[2, 0:3][0:2] @ [0.8 0.3] + var1[2, 0:3][2] <= var3[3, 0]\n",
      "0.0 <= var3[0, 0]\n",
      "1.0 + -1.0 + -var1[0, 0:3][0:2] @ [0.9 0.2] + var1[0, 0:3][2] + var1[1, 0:3][0:2] @ [0.9 0.2] + var1[1, 0:3][2] <= var3[1, 0]\n",
      "0.0 <= var3[2, 0]\n",
      "1.0 + -1.0 + -var1[1, 0:3][0:2] @ [0.9 0.2] + var1[1, 0:3][2] + var1[2, 0:3][0:2] @ [0.9 0.2] + var1[2, 0:3][2] <= var3[3, 0]\n",
      "0.0 <= var3[0, 0]\n",
      "1.0 + -1.0 + -var1[0, 0:3][0:2] @ [1.  0.5] + var1[0, 0:3][2] + var1[1, 0:3][0:2] @ [1.  0.5] + var1[1, 0:3][2] <= var3[1, 0]\n",
      "0.0 <= var3[2, 0]\n",
      "1.0 + -1.0 + -var1[1, 0:3][0:2] @ [1.  0.5] + var1[1, 0:3][2] + var1[2, 0:3][0:2] @ [1.  0.5] + var1[2, 0:3][2] <= var3[3, 0]\n"
     ]
    }
   ],
   "source": [
    "for constraint in problem_instance.logical_constraints_1:\n",
    "    print(constraint)"
   ]
  },
  {
   "cell_type": "code",
   "execution_count": 4,
   "metadata": {},
   "outputs": [
    {
     "name": "stdout",
     "output_type": "stream",
     "text": [
      "0.0 <= var3[0, 0]\n",
      "1.0 + -var1[0, 0:3][0:2] @ [0.1 0.5] + var1[0, 0:3][2] + var1[1, 0:3][0:2] @ [0.1 0.5] + var1[1, 0:3][2] <= var3[1, 0]\n",
      "0.0 <= var3[2, 0]\n",
      "1.0 + -var1[1, 0:3][0:2] @ [0.1 0.5] + var1[1, 0:3][2] + var1[2, 0:3][0:2] @ [0.1 0.5] + var1[2, 0:3][2] <= var3[3, 0]\n",
      "0.0 <= var3[0, 0]\n",
      "1.0 + -var1[0, 0:3][0:2] @ [0.3 0.7] + var1[0, 0:3][2] + var1[1, 0:3][0:2] @ [0.3 0.7] + var1[1, 0:3][2] <= var3[1, 0]\n",
      "0.0 <= var3[2, 0]\n",
      "1.0 + -var1[1, 0:3][0:2] @ [0.3 0.7] + var1[1, 0:3][2] + var1[2, 0:3][0:2] @ [0.3 0.7] + var1[2, 0:3][2] <= var3[3, 0]\n",
      "0.0 <= var3[0, 0]\n",
      "1.0 + -var1[0, 0:3][0:2] @ [0.5 0.4] + var1[0, 0:3][2] + var1[1, 0:3][0:2] @ [0.5 0.4] + var1[1, 0:3][2] <= var3[1, 0]\n",
      "0.0 <= var3[2, 0]\n",
      "1.0 + -var1[1, 0:3][0:2] @ [0.5 0.4] + var1[1, 0:3][2] + var1[2, 0:3][0:2] @ [0.5 0.4] + var1[2, 0:3][2] <= var3[3, 0]\n",
      "0.0 <= var3[0, 0]\n",
      "1.0 + -var1[0, 0:3][0:2] @ [0.8 0.3] + var1[0, 0:3][2] + var1[1, 0:3][0:2] @ [0.8 0.3] + var1[1, 0:3][2] <= var3[1, 0]\n",
      "0.0 <= var3[2, 0]\n",
      "1.0 + -var1[1, 0:3][0:2] @ [0.8 0.3] + var1[1, 0:3][2] + var1[2, 0:3][0:2] @ [0.8 0.3] + var1[2, 0:3][2] <= var3[3, 0]\n",
      "0.0 <= var3[0, 0]\n",
      "1.0 + -var1[0, 0:3][0:2] @ [0.9 0.2] + var1[0, 0:3][2] + var1[1, 0:3][0:2] @ [0.9 0.2] + var1[1, 0:3][2] <= var3[1, 0]\n",
      "0.0 <= var3[2, 0]\n",
      "1.0 + -var1[1, 0:3][0:2] @ [0.9 0.2] + var1[1, 0:3][2] + var1[2, 0:3][0:2] @ [0.9 0.2] + var1[2, 0:3][2] <= var3[3, 0]\n",
      "0.0 <= var3[0, 0]\n",
      "1.0 + -var1[0, 0:3][0:2] @ [1.  0.5] + var1[0, 0:3][2] + var1[1, 0:3][0:2] @ [1.  0.5] + var1[1, 0:3][2] <= var3[1, 0]\n",
      "0.0 <= var3[2, 0]\n",
      "1.0 + -var1[1, 0:3][0:2] @ [1.  0.5] + var1[1, 0:3][2] + var1[2, 0:3][0:2] @ [1.  0.5] + var1[2, 0:3][2] <= var3[3, 0]\n"
     ]
    }
   ],
   "source": [
    "for constraint in problem_instance.logical_constraints_1:\n",
    "    print(constraint)"
   ]
  },
  {
   "cell_type": "code",
   "execution_count": 8,
   "metadata": {},
   "outputs": [
    {
     "name": "stdout",
     "output_type": "stream",
     "text": [
      "0.0 <= var261[0, 0]\n",
      "1.0 + -1.0 + -var259[0, 0:3][0:2] @ [0.1 0.5] + var259[0, 0:3][2] + var259[1, 0:3][0:2] @ [0.1 0.5] + var259[1, 0:3][2] <= var261[1, 0]\n",
      "0.0 <= var261[2, 0]\n",
      "1.0 + -1.0 + -var259[1, 0:3][0:2] @ [0.1 0.5] + var259[1, 0:3][2] + var259[2, 0:3][0:2] @ [0.1 0.5] + var259[2, 0:3][2] <= var261[3, 0]\n",
      "0.0 <= var261[0, 0]\n",
      "1.0 + -1.0 + -var259[0, 0:3][0:2] @ [0.3 0.7] + var259[0, 0:3][2] + var259[1, 0:3][0:2] @ [0.3 0.7] + var259[1, 0:3][2] <= var261[1, 0]\n",
      "0.0 <= var261[2, 0]\n",
      "1.0 + -1.0 + -var259[1, 0:3][0:2] @ [0.3 0.7] + var259[1, 0:3][2] + var259[2, 0:3][0:2] @ [0.3 0.7] + var259[2, 0:3][2] <= var261[3, 0]\n",
      "0.0 <= var261[0, 0]\n",
      "1.0 + -1.0 + -var259[0, 0:3][0:2] @ [0.5 0.4] + var259[0, 0:3][2] + var259[1, 0:3][0:2] @ [0.5 0.4] + var259[1, 0:3][2] <= var261[1, 0]\n",
      "0.0 <= var261[2, 0]\n",
      "1.0 + -1.0 + -var259[1, 0:3][0:2] @ [0.5 0.4] + var259[1, 0:3][2] + var259[2, 0:3][0:2] @ [0.5 0.4] + var259[2, 0:3][2] <= var261[3, 0]\n",
      "0.0 <= var261[0, 0]\n",
      "1.0 + -1.0 + -var259[0, 0:3][0:2] @ [0.8 0.3] + var259[0, 0:3][2] + var259[1, 0:3][0:2] @ [0.8 0.3] + var259[1, 0:3][2] <= var261[1, 0]\n",
      "0.0 <= var261[2, 0]\n",
      "1.0 + -1.0 + -var259[1, 0:3][0:2] @ [0.8 0.3] + var259[1, 0:3][2] + var259[2, 0:3][0:2] @ [0.8 0.3] + var259[2, 0:3][2] <= var261[3, 0]\n",
      "0.0 <= var261[0, 0]\n",
      "1.0 + -1.0 + -var259[0, 0:3][0:2] @ [0.9 0.2] + var259[0, 0:3][2] + var259[1, 0:3][0:2] @ [0.9 0.2] + var259[1, 0:3][2] <= var261[1, 0]\n",
      "0.0 <= var261[2, 0]\n",
      "1.0 + -1.0 + -var259[1, 0:3][0:2] @ [0.9 0.2] + var259[1, 0:3][2] + var259[2, 0:3][0:2] @ [0.9 0.2] + var259[2, 0:3][2] <= var261[3, 0]\n",
      "0.0 <= var261[0, 0]\n",
      "1.0 + -1.0 + -var259[0, 0:3][0:2] @ [1.  0.5] + var259[0, 0:3][2] + var259[1, 0:3][0:2] @ [1.  0.5] + var259[1, 0:3][2] <= var261[1, 0]\n",
      "0.0 <= var261[2, 0]\n",
      "1.0 + -1.0 + -var259[1, 0:3][0:2] @ [1.  0.5] + var259[1, 0:3][2] + var259[2, 0:3][0:2] @ [1.  0.5] + var259[2, 0:3][2] <= var261[3, 0]\n"
     ]
    }
   ],
   "source": [
    "for constraint in problem_instance.logical_constraints_1:\n",
    "    print(constraint)"
   ]
  },
  {
   "cell_type": "markdown",
   "metadata": {},
   "source": [
    "1.0 + -1.0 + -var1[0, 0:3][0:2] @ [0.1 0.5] + var1[0, 0:3][2] + var1[1, 0:3][0:2] @ [0.1 0.5] + var1[1, 0:3][2]\n",
    "\n",
    "1.0 + -var1[0, 0:3][0:2] @ [0.1 0.5] + var1[0, 0:3][2] + var1[1, 0:3][0:2] @ [0.1 0.5] + var1[1, 0:3][2] <= var3[1, 0]"
   ]
  },
  {
   "cell_type": "code",
   "execution_count": 5,
   "metadata": {},
   "outputs": [
    {
     "data": {
      "text/plain": [
       "Variable(())"
      ]
     },
     "execution_count": 5,
     "metadata": {},
     "output_type": "execute_result"
    }
   ],
   "source": [
    "val = cp.Variable()\n",
    "val"
   ]
  },
  {
   "cell_type": "code",
   "execution_count": 6,
   "metadata": {},
   "outputs": [
    {
     "name": "stdout",
     "output_type": "stream",
     "text": [
      "var259\n"
     ]
    }
   ],
   "source": [
    "print(val)"
   ]
  },
  {
   "cell_type": "code",
   "execution_count": 7,
   "metadata": {},
   "outputs": [
    {
     "data": {
      "text/plain": [
       "Expression(AFFINE, UNKNOWN, ())"
      ]
     },
     "execution_count": 7,
     "metadata": {},
     "output_type": "execute_result"
    }
   ],
   "source": [
    "1 - val"
   ]
  },
  {
   "cell_type": "code",
   "execution_count": 8,
   "metadata": {},
   "outputs": [
    {
     "name": "stdout",
     "output_type": "stream",
     "text": [
      "1.0 + -var259\n"
     ]
    }
   ],
   "source": [
    "print(1 - val)"
   ]
  },
  {
   "cell_type": "code",
   "execution_count": 9,
   "metadata": {},
   "outputs": [
    {
     "data": {
      "text/plain": [
       "[['¬', 'p_1(x)', '⊕', 'p_2(x)'], ['¬', 'p_2(x)', '⊕', 'p_3(x)']]"
      ]
     },
     "execution_count": 9,
     "metadata": {},
     "output_type": "execute_result"
    }
   ],
   "source": [
    "problem_instance.KB"
   ]
  },
  {
   "cell_type": "code",
   "execution_count": null,
   "metadata": {},
   "outputs": [],
   "source": []
  },
  {
   "cell_type": "code",
   "execution_count": null,
   "metadata": {},
   "outputs": [],
   "source": []
  },
  {
   "cell_type": "code",
   "execution_count": null,
   "metadata": {},
   "outputs": [],
   "source": []
  },
  {
   "cell_type": "code",
   "execution_count": 6,
   "metadata": {},
   "outputs": [
    {
     "data": {
      "text/plain": [
       "[['¬', 'p_1(x)', '⊕', 'p_2(x)'], ['¬', 'p_2(x)', '⊕', 'p_3(x)']]"
      ]
     },
     "execution_count": 6,
     "metadata": {},
     "output_type": "execute_result"
    }
   ],
   "source": [
    "problem_instance.KB"
   ]
  },
  {
   "cell_type": "code",
   "execution_count": null,
   "metadata": {},
   "outputs": [],
   "source": []
  },
  {
   "cell_type": "code",
   "execution_count": null,
   "metadata": {},
   "outputs": [],
   "source": []
  },
  {
   "cell_type": "code",
   "execution_count": null,
   "metadata": {},
   "outputs": [],
   "source": []
  },
  {
   "cell_type": "code",
   "execution_count": 9,
   "metadata": {},
   "outputs": [
    {
     "name": "stdout",
     "output_type": "stream",
     "text": [
      "Loading data ...\n",
      "Done\n",
      "\n",
      "Loading rules ...\n",
      "Done\n",
      "\n",
      "Identifying predicates ...\n",
      "Done\n",
      "\n",
      "Constructing objective function ...\n",
      "Done\n",
      "\n",
      "Constructing constraints ...\n",
      "[[Expression(AFFINE, UNKNOWN, ()), '⊕', Expression(AFFINE, UNKNOWN, ())], [Expression(AFFINE, UNKNOWN, ()), '⊕', Expression(AFFINE, UNKNOWN, ())]]\n",
      "[[Expression(AFFINE, UNKNOWN, ()), '⊕', Expression(AFFINE, UNKNOWN, ())], [Expression(AFFINE, UNKNOWN, ()), '⊕', Expression(AFFINE, UNKNOWN, ())]]\n",
      "[[Expression(AFFINE, UNKNOWN, ()), '⊕', Expression(AFFINE, UNKNOWN, ())], [Expression(AFFINE, UNKNOWN, ()), '⊕', Expression(AFFINE, UNKNOWN, ())]]\n",
      "[[Expression(AFFINE, UNKNOWN, ()), '⊕', Expression(AFFINE, UNKNOWN, ())], [Expression(AFFINE, UNKNOWN, ()), '⊕', Expression(AFFINE, UNKNOWN, ())]]\n",
      "[[Expression(AFFINE, UNKNOWN, ()), '⊕', Expression(AFFINE, UNKNOWN, ())], [Expression(AFFINE, UNKNOWN, ()), '⊕', Expression(AFFINE, UNKNOWN, ())]]\n",
      "[[Expression(AFFINE, UNKNOWN, ()), '⊕', Expression(AFFINE, UNKNOWN, ())], [Expression(AFFINE, UNKNOWN, ()), '⊕', Expression(AFFINE, UNKNOWN, ())]]\n",
      "All done\n",
      "===============================================================================\n",
      "                                     CVXPY                                     \n",
      "                                     v1.3.2                                    \n",
      "===============================================================================\n",
      "(CVXPY) Oct 26 11:19:21 AM: Your problem has 25 variables, 96 constraints, and 0 parameters.\n",
      "(CVXPY) Oct 26 11:19:21 AM: It is compliant with the following grammars: DCP, DQCP\n",
      "(CVXPY) Oct 26 11:19:21 AM: (If you need to solve this problem multiple times, but with different data, consider using parameters.)\n",
      "(CVXPY) Oct 26 11:19:21 AM: CVXPY will first compile your problem; then, it will invoke a numerical solver to obtain a solution.\n",
      "-------------------------------------------------------------------------------\n",
      "                                  Compilation                                  \n",
      "-------------------------------------------------------------------------------\n",
      "(CVXPY) Oct 26 11:19:21 AM: Compiling problem (target solver=ECOS).\n",
      "(CVXPY) Oct 26 11:19:21 AM: Reduction chain: Dcp2Cone -> CvxAttr2Constr -> ConeMatrixStuffing -> ECOS\n",
      "(CVXPY) Oct 26 11:19:21 AM: Applying reduction Dcp2Cone\n",
      "(CVXPY) Oct 26 11:19:21 AM: Applying reduction CvxAttr2Constr\n",
      "(CVXPY) Oct 26 11:19:21 AM: Applying reduction ConeMatrixStuffing\n",
      "(CVXPY) Oct 26 11:19:21 AM: Applying reduction ECOS\n",
      "(CVXPY) Oct 26 11:19:21 AM: Finished problem compilation (took 2.049e-01 seconds).\n",
      "-------------------------------------------------------------------------------\n",
      "                                Numerical solver                               \n",
      "-------------------------------------------------------------------------------\n",
      "(CVXPY) Oct 26 11:19:21 AM: Invoking solver ECOS  to obtain a solution.\n",
      "\n",
      "ECOS 2.0.10 - (C) embotech GmbH, Zurich Switzerland, 2012-15. Web: www.embotech.com/ECOS\n",
      "\n",
      "It     pcost       dcost      gap   pres   dres    k/t    mu     step   sigma     IR    |   BT\n",
      " 0  +2.866e+01  -5.148e+01  +7e+02  5e-01  6e-01  1e+00  6e+00    ---    ---    1  1  - |  -  - \n",
      " 1  +1.366e+01  -8.429e+00  +3e+02  1e-01  2e-01  9e-01  2e+00  0.6412  1e-01   1  1  1 |  0  0\n",
      " 2  +1.478e+01  -5.326e+00  +3e+02  1e-01  2e-01  1e+00  2e+00  0.2833  7e-01   2  2  2 |  0  0\n",
      " 3  +1.418e+01  +6.034e+00  +1e+02  5e-02  6e-02  6e-01  1e+00  0.9890  4e-01   2  2  1 |  0  0\n",
      " 4  +1.880e+01  +1.694e+01  +3e+01  1e-02  1e-02  1e-01  2e-01  0.8637  1e-01   2  2  2 |  0  0\n",
      " 5  +2.007e+01  +1.980e+01  +4e+00  1e-03  2e-03  2e-02  4e-02  0.9172  7e-02   2  1  2 |  0  0\n",
      " 6  +2.032e+01  +2.029e+01  +6e-01  2e-04  2e-04  2e-03  5e-03  0.8804  2e-02   2  1  1 |  0  0\n",
      " 7  +2.036e+01  +2.036e+01  +1e-02  4e-06  5e-06  4e-05  1e-04  0.9799  3e-04   2  1  1 |  0  0\n",
      " 8  +2.036e+01  +2.036e+01  +4e-04  1e-07  2e-07  1e-06  3e-06  0.9686  1e-04   2  1  1 |  0  0\n",
      " 9  +2.036e+01  +2.036e+01  +1e-05  5e-09  6e-09  5e-08  1e-07  0.9625  9e-04   1  1  1 |  0  0\n",
      "10  +2.036e+01  +2.036e+01  +3e-07  9e-11  1e-10  9e-10  2e-09  0.9827  2e-04   2  1  1 |  0  0\n",
      "11  +2.036e+01  +2.036e+01  +5e-09  3e-12  2e-12  2e-11  4e-11  0.9818  1e-04   2  1  1 |  0  0\n",
      "\n",
      "OPTIMAL (within feastol=2.6e-12, reltol=2.3e-10, abstol=4.7e-09).\n",
      "Runtime: 0.000622 seconds.\n",
      "-------------------------------------------------------------------------------\n",
      "                                    Summary                                    \n",
      "-------------------------------------------------------------------------------\n",
      "(CVXPY) Oct 26 11:19:21 AM: Problem status: optimal\n",
      "\n",
      "(CVXPY) Oct 26 11:19:21 AM: Optimal value: 2.036e+01\n",
      "(CVXPY) Oct 26 11:19:21 AM: Compilation took 2.049e-01 seconds\n",
      "(CVXPY) Oct 26 11:19:21 AM: Solver (including time spent in interface) took 7.386e-04 seconds\n"
     ]
    }
   ],
   "source": [
    "problem_instance = Setup(data_dir_path, file_names_dict)\n",
    "objective, constraints = problem_instance.main(c1=10, c2=10)\n",
    "\n",
    "problem = cp.Problem(objective, constraints)\n",
    "result = problem.solve(verbose=True)"
   ]
  },
  {
   "cell_type": "code",
   "execution_count": null,
   "metadata": {},
   "outputs": [],
   "source": []
  },
  {
   "cell_type": "code",
   "execution_count": 10,
   "metadata": {},
   "outputs": [
    {
     "data": {
      "image/png": "[encoded data removed]",
      "text/plain": [
       "<Figure size 600x400 with 1 Axes>"
      ]
     },
     "metadata": {},
     "output_type": "display_data"
    }
   ],
   "source": [
    "visualize_result(problem_instance)"
   ]
  },
  {
   "cell_type": "code",
   "execution_count": null,
   "metadata": {},
   "outputs": [],
   "source": []
  },
  {
   "cell_type": "code",
   "execution_count": null,
   "metadata": {},
   "outputs": [],
   "source": []
  },
  {
   "cell_type": "code",
   "execution_count": null,
   "metadata": {},
   "outputs": [],
   "source": []
  },
  {
   "cell_type": "code",
   "execution_count": null,
   "metadata": {},
   "outputs": [],
   "source": []
  },
  {
   "cell_type": "code",
   "execution_count": null,
   "metadata": {},
   "outputs": [],
   "source": []
  },
  {
   "cell_type": "code",
   "execution_count": null,
   "metadata": {},
   "outputs": [],
   "source": []
  }
 ],
 "metadata": {
  "kernelspec": {
   "display_name": "myenv",
   "language": "python",
   "name": "python3"
  },
  "language_info": {
   "codemirror_mode": {
    "name": "ipython",
    "version": 3
   },
   "file_extension": ".py",
   "mimetype": "text/x-python",
   "name": "python",
   "nbconvert_exporter": "python",
   "pygments_lexer": "ipython3",
   "version": "3.11.4"
  }
 },
 "nbformat": 4,
 "nbformat_minor": 2
}
