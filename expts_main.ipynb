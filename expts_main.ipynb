{
  "cells": [
    {
      "cell_type": "markdown",
      "metadata": {
        "id": "9dZJQOWkZY2H"
      },
      "source": [
        "とけたら dual も頑張って式変形して解きたい\n",
        "\n",
        "# __まず cvxpy をつかってみる__\n",
        "\n",
        "# 0 <= p_j(x_s) <= 1 は確認できた．任意の x に対して，p_j(x) \\in [0, 1] とは限らないので，はみ出る場合は [0, 1] に clamp すればよいのか\n",
        "\n",
        "# 各 p_j の実装\n",
        "\n",
        "# 決定領域の可視化\n",
        "\n",
        "$\\displaystyle <w, x> + b = 0 \\iff x_2 = -\\frac{w_1}{w_2} x_1 - \\frac{b}{w_2}$\n",
        "\n",
        "# 係数を文字で代入した dataframe を作成し，最終的な行列の確認に使用する"
      ]
    },
    {
      "cell_type": "code",
      "execution_count": 1,
      "metadata": {
        "id": "5AzEPN-gysV-"
      },
      "outputs": [],
      "source": [
        "import os \n",
        "\n",
        "import numpy as np\n",
        "import pandas as pd\n",
        "import matplotlib.pyplot as plt\n",
        "\n",
        "import cvxpy as cp\n",
        "\n",
        "%matplotlib inline\n",
        "pd.set_option(\"display.max_rows\",100)\n",
        "pd.set_option(\"display.max_columns\",100)"
      ]
    },
    {
      "cell_type": "code",
      "execution_count": 84,
      "metadata": {},
      "outputs": [],
      "source": [
        "# load and convert data, describe problem settings, etc\n",
        "data_dir_path = './inputs/toy_data/'\n",
        "path_L1 = os.path.join(data_dir_path, 'L1.csv')\n",
        "path_L2 = os.path.join(data_dir_path, 'L2.csv')\n",
        "path_L3 = os.path.join(data_dir_path, 'L3.csv')\n",
        "path_U = os.path.join(data_dir_path, 'U.csv')\n",
        "\n",
        "df_L1 = pd.read_csv(path_L1, index_col=0)\n",
        "df_L2 = pd.read_csv(path_L2, index_col=0)\n",
        "df_L3 = pd.read_csv(path_L3, index_col=0)\n",
        "df_U = pd.read_csv(path_U, index_col=0)\n",
        "\n",
        "L1 = np.array(df_L1)\n",
        "L2 = np.array(df_L2)\n",
        "L3 = np.array(df_L3)\n",
        "\n",
        "L = np.stack([L1, L2, L3]) # data for pointwise constraint\n",
        "U = np.array(df_U) # data for logical constriant\n",
        "\n",
        "len_j = 3 # number of tasks (p の数)\n",
        "len_h = 2 # number of logical constraints considered (cardinality of KB)\n",
        "len_jl = 0 # number of pointwise constraints to be counted later\n",
        "\n",
        "\n",
        "len_l_list = [] # L_j の要素数のリスト\n",
        "len_s_list = [] # S_j の要素数のリスト\n",
        "S = [] # data for consistency constraints \n",
        "\n",
        "for i in range(len_j):\n",
        "    if len_h != 0:\n",
        "        u = len(U)\n",
        "        S_i = np.concatenate((L[i][:, :2], U), axis=0)\n",
        "        S.append(S_i)\n",
        "    else:\n",
        "        u = 0\n",
        "        S_i = L[i][:, :2]\n",
        "        S.append(S_i)\n",
        "    len_l_list.append(len(L[i]))\n",
        "    len_jl += len(L[i])\n",
        "    len_s_list.append(len(S_i))\n",
        "\n",
        "S = np.stack(S)\n",
        "\n",
        "\n",
        "c1 = 2.5 # degree of satisfaction for pointwise slacks\n",
        "c2 = 2.5 # degree of satisfaction for logical slacks\n",
        "\n",
        "c1 = 100\n",
        "c2 = 100\n",
        "\n",
        "# c1 = 1000\n",
        "# c2 = 1000\n",
        "\n",
        "\n",
        "\n",
        "\n",
        "# 目的関数の定義\n",
        "# 1/2 x.T @ P @ x + q.T @ x\n",
        "# の P と q を定義\n",
        "# x = [w_{j1}, w_{j2}, b_j, ξ_{jl}, ξ_h] \n",
        "# len(x) = 23\n",
        "\n",
        "H = np.zeros((3 * len_j + len_jl + len_h, 3 * len_j + len_jl + len_h))\n",
        "\n",
        "for i in range(3 * len_j):  # 3 * len_j は len([w1, w2, b]) * (p の数) \n",
        "    if (i + 1) % 3 != 0:\n",
        "        H[i, i] = 1\n",
        "\n",
        "\n",
        "f = np.zeros((3 * len_j + len_jl + len_h, 1))\n",
        "\n",
        "for i in range(3 * len_j + len_jl):\n",
        "    f[i, 0] = c1\n",
        "\n",
        "for i in range(3 * len_j + len_jl, 3 * len_j + len_jl + len_h, 1):\n",
        "    f[i, 0] = c2"
      ]
    },
    {
      "cell_type": "code",
      "execution_count": 85,
      "metadata": {},
      "outputs": [
        {
          "name": "stdout",
          "output_type": "stream",
          "text": [
            "===============================================================================\n",
            "                                     CVXPY                                     \n",
            "                                     v1.3.2                                    \n",
            "===============================================================================\n",
            "(CVXPY) Sep 30 04:52:16 PM: Your problem has 23 variables, 4 constraints, and 0 parameters.\n",
            "(CVXPY) Sep 30 04:52:16 PM: It is compliant with the following grammars: DCP, DQCP\n",
            "(CVXPY) Sep 30 04:52:16 PM: (If you need to solve this problem multiple times, but with different data, consider using parameters.)\n",
            "(CVXPY) Sep 30 04:52:16 PM: CVXPY will first compile your problem; then, it will invoke a numerical solver to obtain a solution.\n",
            "-------------------------------------------------------------------------------\n",
            "                                  Compilation                                  \n",
            "-------------------------------------------------------------------------------\n",
            "(CVXPY) Sep 30 04:52:16 PM: Compiling problem (target solver=OSQP).\n",
            "(CVXPY) Sep 30 04:52:16 PM: Reduction chain: CvxAttr2Constr -> Qp2SymbolicQp -> QpMatrixStuffing -> OSQP\n"
          ]
        },
        {
          "name": "stdout",
          "output_type": "stream",
          "text": [
            "(CVXPY) Sep 30 04:52:16 PM: Applying reduction CvxAttr2Constr\n",
            "(CVXPY) Sep 30 04:52:16 PM: Applying reduction Qp2SymbolicQp\n",
            "(CVXPY) Sep 30 04:52:16 PM: Applying reduction QpMatrixStuffing\n",
            "(CVXPY) Sep 30 04:52:16 PM: Applying reduction OSQP\n",
            "(CVXPY) Sep 30 04:52:16 PM: Finished problem compilation (took 1.106e-01 seconds).\n",
            "-------------------------------------------------------------------------------\n",
            "                                Numerical solver                               \n",
            "-------------------------------------------------------------------------------\n",
            "(CVXPY) Sep 30 04:52:16 PM: Invoking solver OSQP  to obtain a solution.\n",
            "-----------------------------------------------------------------\n",
            "           OSQP v0.6.3  -  Operator Splitting QP Solver\n",
            "              (c) Bartolomeo Stellato,  Goran Banjac\n",
            "        University of Oxford  -  Stanford University 2021\n",
            "-----------------------------------------------------------------\n",
            "problem:  variables n = 46, constraints m = 41\n",
            "          nnz(P) + nnz(A) = 111\n",
            "settings: linear system solver = qdldl,\n",
            "          eps_abs = 1.0e-05, eps_rel = 1.0e-05,\n",
            "          eps_prim_inf = 1.0e-04, eps_dual_inf = 1.0e-04,\n",
            "          rho = 1.00e-01 (adaptive),\n",
            "          sigma = 1.00e-06, alpha = 1.60, max_iter = 10000\n",
            "          check_termination: on (interval 25),\n",
            "          scaling: on, scaled_termination: off\n",
            "          warm start: on, polish: on, time_limit: off\n",
            "\n",
            "iter   objective    pri res    dua res    rho        time\n",
            "   1  -5.6701e+03   2.64e+01   1.46e+02   1.00e-01   1.10e-04s\n",
            "  75  -3.6747e+03   1.76e-06   1.39e-05   1.00e-01   2.50e-04s\n",
            "\n",
            "status:               solved\n",
            "solution polish:      unsuccessful\n",
            "number of iterations: 75\n",
            "optimal objective:    -3674.7311\n",
            "run time:             3.63e-04s\n",
            "optimal rho estimate: 1.08e-01\n",
            "\n",
            "-------------------------------------------------------------------------------\n",
            "                                    Summary                                    \n",
            "-------------------------------------------------------------------------------\n",
            "(CVXPY) Sep 30 04:52:16 PM: Problem status: optimal\n",
            "(CVXPY) Sep 30 04:52:16 PM: Optimal value: -3.675e+03\n",
            "(CVXPY) Sep 30 04:52:16 PM: Compilation took 1.106e-01 seconds\n",
            "(CVXPY) Sep 30 04:52:16 PM: Solver (including time spent in interface) took 2.052e-03 seconds\n"
          ]
        },
        {
          "data": {
            "image/png": "[encoded data removed]",
            "text/plain": [
              "<Figure size 600x400 with 1 Axes>"
            ]
          },
          "metadata": {},
          "output_type": "display_data"
        }
      ],
      "source": [
        "w_j = cp.Variable(shape=(3 * len_j, 1))  # [w1, w2, b] * 3\n",
        "xi_j = cp.Variable(shape=(len_jl, 1), nonneg=True)\n",
        "xi_h = cp.Variable(shape=(len_h, 1), nonneg=True)\n",
        "\n",
        "vars = cp.vstack([w_j, xi_j, xi_h])\n",
        "\n",
        "objective_function = cp.Minimize(1/2 * cp.quad_form(vars, H) + f.T @ vars)\n",
        "\n",
        "\n",
        "# pointwise\n",
        "constraint_1 = 0\n",
        "\n",
        "for j in range(len_j):\n",
        "    len_l = len_l_list[j]\n",
        "\n",
        "    w1 = w_j[3 * j + 0, 0]\n",
        "    w2 = w_j[3 * j + 1, 0]\n",
        "    b =  w_j[3 * j + 2, 0]\n",
        "\n",
        "    for l in range(len_l):\n",
        "        x1 = L[j][l, 0]\n",
        "        x2 = L[j][l, 1]\n",
        "        y =  L[j][l, 2]\n",
        "\n",
        "        xi = xi_j[len_l * j + l, 0]\n",
        "\n",
        "        constraint_1 += y * (2 * (w1 * x1 + w2 * x2 + b) - 1) - 1 + 2 * xi\n",
        "\n",
        "\n",
        "# logical\n",
        "constraint_2 = 0\n",
        "\n",
        "for h in range(len_h):\n",
        "    tmp_constraint = 0\n",
        "    tmp_j1, tmp_j2 = h, h+1\n",
        "\n",
        "    w1_1 = w_j[3 * tmp_j1 + 0, 0]\n",
        "    w2_1 = w_j[3 * tmp_j1 + 1, 0]\n",
        "    b_1 =  w_j[3 * tmp_j1 + 2, 0]\n",
        "\n",
        "    w1_2 = w_j[3 * tmp_j2 + 0, 0]\n",
        "    w2_2 = w_j[3 * tmp_j2 + 1, 0]\n",
        "    b_2 =  w_j[3 * tmp_j2 + 2, 0]\n",
        "\n",
        "    xi = xi_h[h, 0]\n",
        "\n",
        "    for u in range(len(U)):\n",
        "        x1 = U[u, 0]\n",
        "        x2 = U[u, 1]\n",
        "\n",
        "        p_tmp_j1 = w1_1 * x1 + w2_1 * x2 + b_1\n",
        "        p_tmp_j2 = w1_2 * x1 + w2_2 * x2 + b_2\n",
        "\n",
        "        constraint_2 += p_tmp_j1 - p_tmp_j2 - xi\n",
        "\n",
        "\n",
        "\n",
        "# consistency\n",
        "constraint_3 = 0\n",
        "\n",
        "for j in range(len_j):\n",
        "    len_s = len_s_list[j]\n",
        "\n",
        "    w1 = w_j[3 * j + 0, 0]\n",
        "    w2 = w_j[3 * j + 1, 0]\n",
        "    b =  w_j[3 * j + 2, 0]\n",
        "\n",
        "    for s in range(len_s):\n",
        "        x1 = S[j][s, 0]\n",
        "        x2 = S[j][s, 1]\n",
        "\n",
        "        constraint_3 += w1 * x1 + w2 * x2 + b\n",
        "\n",
        "\n",
        "\n",
        "constraints = [\n",
        "    constraint_1 >= 0,\n",
        "    constraint_2 <= 0,\n",
        "    constraint_3 >= 0,\n",
        "    constraint_3 <= 1\n",
        "]\n",
        "\n",
        "problem = cp.Problem(objective_function, constraints)\n",
        "result = problem.solve(verbose=True)\n",
        "\n",
        "\n",
        "\n",
        "coeff_0 = w_j.value[:3,  0]\n",
        "coeff_1 = w_j.value[3:6, 0]\n",
        "coeff_2 = w_j.value[6:,  0]\n",
        "coeffs = [coeff_0, coeff_1, coeff_2]\n",
        "\n",
        "\n",
        "def boundary_equation_2d(x1, coeff):\n",
        "    w1 = coeff[0]\n",
        "    w2 = coeff[1]\n",
        "    b = coeff[2]\n",
        "\n",
        "    x = np.hstack([x1, np.ones_like(x1)])\n",
        "    # w = np.array([-w1/w2, -b/w2]).reshape(-1,1)\n",
        "    w = np.array([-w1/w2, -b/w2 + 0.5/w2]).reshape(-1,1)\n",
        "\n",
        "    return x @ w\n",
        "\n",
        "test_x = np.linspace(0.05, 0.95, 100).reshape(-1,1)\n",
        "\n",
        "test_y_1 = boundary_equation_2d(test_x, coeff_0)\n",
        "test_y_2 = boundary_equation_2d(test_x, coeff_1)\n",
        "test_y_3 = boundary_equation_2d(test_x, coeff_2)\n",
        "\n",
        "\n",
        "\n",
        "plt.figure(figsize=(6,4))\n",
        "colors = ['blue', 'red', 'green']\n",
        "\n",
        "for j in range(len_j):\n",
        "    for l in range(4):\n",
        "        if L[j][l, 2] == 1:\n",
        "            plt.scatter(L[j][l, 0], L[j][l, 1], c=colors[j], marker='o', label='1')\n",
        "        else:\n",
        "            plt.scatter(L[j][l, 0], L[j][l, 1], facecolors='none', edgecolors=colors[j], marker='o', label='-1')\n",
        "\n",
        "plt.plot(test_x, test_y_1, label=\"p_1\")\n",
        "plt.plot(test_x, test_y_2, label=\"p_2\")\n",
        "plt.plot(test_x, test_y_3, label=\"p_3\")\n",
        "\n",
        "\n",
        "plt.xlabel(\"x1\")\n",
        "plt.ylabel(\"x2\")\n",
        "plt.legend()\n",
        "plt.grid(True)\n",
        "plt.show()"
      ]
    },
    {
      "cell_type": "code",
      "execution_count": 86,
      "metadata": {},
      "outputs": [
        {
          "name": "stdout",
          "output_type": "stream",
          "text": [
            "number of violation of consistency constraints: 30\n"
          ]
        }
      ],
      "source": [
        "# 0 <= p_j(x_s) <= 1 の確認\n",
        "\n",
        "def p(x, coeff):\n",
        "    w_1 = coeff[0]\n",
        "    w_2 = coeff[1]\n",
        "    b = coeff[2]\n",
        "    return w_1 * x[0] + w_2 * x[1] + b\n",
        "\n",
        "coeff_0 = w_j.value[:3,  0]\n",
        "coeff_1 = w_j.value[3:6, 0]\n",
        "coeff_2 = w_j.value[6:,  0]\n",
        "coeffs = [coeff_0, coeff_1, coeff_2]\n",
        "\n",
        "\n",
        "cnt = 0\n",
        "\n",
        "for j in range(3):\n",
        "    for x_s in S[j]:\n",
        "        tmp_val = p(x_s, coeffs[j])\n",
        "        if tmp_val < 0:\n",
        "            # print(f'p_{j}({x_s}) is less than 0')\n",
        "            # print(tmp_val)\n",
        "            # print()\n",
        "            cnt += 1\n",
        "\n",
        "        if tmp_val > 1:\n",
        "            # print(f'p_{j}({x_s}) is more than 1')\n",
        "            # print(tmp_val)\n",
        "            # print()\n",
        "\n",
        "            cnt +=1\n",
        "        else:\n",
        "            pass\n",
        "\n",
        "print(f'number of violation of consistency constraints: {cnt}')"
      ]
    },
    {
      "cell_type": "code",
      "execution_count": null,
      "metadata": {},
      "outputs": [],
      "source": []
    },
    {
      "cell_type": "code",
      "execution_count": null,
      "metadata": {},
      "outputs": [],
      "source": []
    },
    {
      "cell_type": "code",
      "execution_count": 90,
      "metadata": {},
      "outputs": [
        {
          "data": {
            "text/plain": [
              "array([[-6.94675366e-08],\n",
              "       [-1.04819383e-07],\n",
              "       [ 8.46112853e-08],\n",
              "       [-4.08771844e-07],\n",
              "       [-7.45573634e-07],\n",
              "       [ 5.42108115e-07],\n",
              "       [-1.11111055e+00],\n",
              "       [ 3.70358254e-01],\n",
              "       [ 9.25929332e-01]])"
            ]
          },
          "execution_count": 90,
          "metadata": {},
          "output_type": "execute_result"
        }
      ],
      "source": [
        "w_j.value"
      ]
    },
    {
      "cell_type": "code",
      "execution_count": 98,
      "metadata": {},
      "outputs": [
        {
          "data": {
            "text/plain": [
              "Expression(CONVEX, NONNEGATIVE, ())"
            ]
          },
          "execution_count": 98,
          "metadata": {},
          "output_type": "execute_result"
        }
      ],
      "source": [
        "func = 0\n",
        "\n",
        "for j in range(len_j):\n",
        "    func += 1/2 * cp.norm2(w_j[3*j:3*(j+1)]) ** 2\n",
        "\n",
        "for jl in range(len_jl):\n",
        "    func += c1 * xi_j[jl, 0]\n",
        "\n",
        "for h in range(len_h):\n",
        "    func += c2 * xi_h[h, 0]\n",
        "\n",
        "func"
      ]
    },
    {
      "cell_type": "code",
      "execution_count": 96,
      "metadata": {},
      "outputs": [
        {
          "data": {
            "text/plain": [
              "12"
            ]
          },
          "execution_count": 96,
          "metadata": {},
          "output_type": "execute_result"
        }
      ],
      "source": [
        "len_jl"
      ]
    },
    {
      "cell_type": "code",
      "execution_count": 99,
      "metadata": {},
      "outputs": [
        {
          "name": "stdout",
          "output_type": "stream",
          "text": [
            "===============================================================================\n",
            "                                     CVXPY                                     \n",
            "                                     v1.3.2                                    \n",
            "===============================================================================\n",
            "(CVXPY) Sep 30 05:18:14 PM: Your problem has 23 variables, 84 constraints, and 0 parameters.\n",
            "(CVXPY) Sep 30 05:18:14 PM: It is compliant with the following grammars: DCP, DQCP\n",
            "(CVXPY) Sep 30 05:18:14 PM: (If you need to solve this problem multiple times, but with different data, consider using parameters.)\n",
            "(CVXPY) Sep 30 05:18:14 PM: CVXPY will first compile your problem; then, it will invoke a numerical solver to obtain a solution.\n",
            "-------------------------------------------------------------------------------\n",
            "                                  Compilation                                  \n",
            "-------------------------------------------------------------------------------\n",
            "(CVXPY) Sep 30 05:18:14 PM: Compiling problem (target solver=ECOS).\n",
            "(CVXPY) Sep 30 05:18:14 PM: Reduction chain: Dcp2Cone -> CvxAttr2Constr -> ConeMatrixStuffing -> ECOS\n",
            "(CVXPY) Sep 30 05:18:14 PM: Applying reduction Dcp2Cone\n",
            "(CVXPY) Sep 30 05:18:14 PM: Applying reduction CvxAttr2Constr\n",
            "(CVXPY) Sep 30 05:18:14 PM: Applying reduction ConeMatrixStuffing\n",
            "(CVXPY) Sep 30 05:18:14 PM: Applying reduction ECOS\n",
            "(CVXPY) Sep 30 05:18:14 PM: Finished problem compilation (took 2.663e-01 seconds).\n",
            "-------------------------------------------------------------------------------\n",
            "                                Numerical solver                               \n",
            "-------------------------------------------------------------------------------\n",
            "(CVXPY) Sep 30 05:18:14 PM: Invoking solver ECOS  to obtain a solution.\n",
            "\n",
            "ECOS 2.0.10 - (C) embotech GmbH, Zurich Switzerland, 2012-15. Web: www.embotech.com/ECOS\n",
            "\n",
            "It     pcost       dcost      gap   pres   dres    k/t    mu     step   sigma     IR    |   BT\n",
            " 0  +2.866e+02  -2.376e+02  +4e+03  5e-01  4e-01  1e+00  4e+01    ---    ---    1  1  - |  -  - \n",
            " 1  +1.088e+02  -6.993e+01  +2e+03  2e-01  1e-01  3e+00  2e+01  0.6245  1e-01   2  1  1 |  0  0\n",
            " 2  +3.393e+01  -4.172e+01  +9e+02  6e-02  6e-02  5e+00  9e+00  0.9890  5e-01   2  2  2 |  0  0\n",
            " 3  +1.024e+02  +7.745e+01  +3e+02  2e-02  2e-02  2e+00  3e+00  0.6895  8e-02   1  2  2 |  0  0\n",
            " 4  +1.205e+02  +1.084e+02  +2e+02  1e-02  9e-03  9e-01  2e+00  0.6273  2e-01   2  2  2 |  0  0\n",
            " 5  +1.376e+02  +1.363e+02  +2e+01  1e-03  9e-04  9e-02  2e-01  0.9109  2e-02   2  2  2 |  0  0\n",
            " 6  +1.400e+02  +1.399e+02  +1e+00  7e-05  6e-05  6e-03  1e-02  0.9455  1e-02   2  2  2 |  0  0\n",
            " 7  +1.401e+02  +1.401e+02  +2e-02  1e-06  9e-07  9e-05  2e-04  0.9842  1e-04   2  1  1 |  0  0\n",
            " 8  +1.401e+02  +1.401e+02  +3e-04  2e-08  1e-08  2e-06  3e-06  0.9831  1e-04   2  1  1 |  0  0\n",
            " 9  +1.401e+02  +1.401e+02  +5e-06  3e-10  2e-10  2e-08  5e-08  0.9841  1e-04   2  1  1 |  0  0\n",
            "10  +1.401e+02  +1.401e+02  +8e-08  5e-12  3e-12  4e-10  7e-10  0.9854  1e-04   2  1  1 |  0  0\n",
            "\n",
            "OPTIMAL (within feastol=4.8e-12, reltol=5.4e-10, abstol=7.5e-08).-------------------------------------------------------------------------------\n",
            "                                    Summary                                    \n",
            "-------------------------------------------------------------------------------\n",
            "(CVXPY) Sep 30 05:18:14 PM: Problem status: optimal\n",
            "\n",
            "Runtime: 0.000598 seconds.\n",
            "\n",
            "(CVXPY) Sep 30 05:18:14 PM: Optimal value: 1.401e+02\n",
            "(CVXPY) Sep 30 05:18:14 PM: Compilation took 2.663e-01 seconds\n",
            "(CVXPY) Sep 30 05:18:14 PM: Solver (including time spent in interface) took 9.549e-04 seconds\n"
          ]
        },
        {
          "data": {
            "image/png": "[encoded data removed]",
            "text/plain": [
              "<Figure size 600x400 with 1 Axes>"
            ]
          },
          "metadata": {},
          "output_type": "display_data"
        }
      ],
      "source": [
        "w_j = cp.Variable(shape=(3 * len_j, 1))  # [w1, w2, b] * 3\n",
        "xi_j = cp.Variable(shape=(len_jl, 1), nonneg=True) # non-negative とか入れたほうが良さそう\n",
        "xi_h = cp.Variable(shape=(len_h, 1), nonneg=True)\n",
        "\n",
        "vars = cp.vstack([w_j, xi_j, xi_h])\n",
        "\n",
        "# objective_function = cp.Minimize(1/2 * cp.quad_form(vars, H) + f.T @ vars)\n",
        "func = 0\n",
        "\n",
        "for j in range(len_j):\n",
        "    func += 1/2 * cp.norm2(w_j[3*j:3*(j+1)]) ** 2\n",
        "\n",
        "for jl in range(len_jl):\n",
        "    func += c1 * xi_j[jl, 0]\n",
        "\n",
        "for h in range(len_h):\n",
        "    func += c2 * xi_h[h, 0]\n",
        "\n",
        "objective_function = cp.Minimize(func)\n",
        "\n",
        "\n",
        "\n",
        "\n",
        "constraints_2 = []\n",
        "\n",
        "# pointwise\n",
        "for j in range(len_j):\n",
        "    len_l = len_l_list[j]\n",
        "\n",
        "    w1 = w_j[3 * j + 0, 0]\n",
        "    w2 = w_j[3 * j + 1, 0]\n",
        "    b =  w_j[3 * j + 2, 0]\n",
        "\n",
        "    for l in range(len_l):\n",
        "        x1 = L[j][l, 0]\n",
        "        x2 = L[j][l, 1]\n",
        "        y =  L[j][l, 2]\n",
        "\n",
        "        xi = xi_j[len_l * j + l, 0]\n",
        "\n",
        "        constraints_2 += [\n",
        "            y * (2 * (w1 * x1 + w2 * x2 + b) - 1) >= 1 - 2 * xi\n",
        "        ]\n",
        "\n",
        "\n",
        "# logical\n",
        "for h in range(len_h):\n",
        "    tmp_constraint = 0\n",
        "    tmp_j1, tmp_j2 = h, h+1\n",
        "\n",
        "    w1_1 = w_j[3 * tmp_j1 + 0, 0]\n",
        "    w2_1 = w_j[3 * tmp_j1 + 1, 0]\n",
        "    b_1 =  w_j[3 * tmp_j1 + 2, 0]\n",
        "\n",
        "    w1_2 = w_j[3 * tmp_j2 + 0, 0]\n",
        "    w2_2 = w_j[3 * tmp_j2 + 1, 0]\n",
        "    b_2 =  w_j[3 * tmp_j2 + 2, 0]\n",
        "\n",
        "    xi = xi_h[h, 0]\n",
        "\n",
        "    for u in range(len(U)):\n",
        "        x1 = U[u, 0]\n",
        "        x2 = U[u, 1]\n",
        "\n",
        "        p_tmp_j1 = w1_1 * x1 + w2_1 * x2 + b_1\n",
        "        p_tmp_j2 = w1_2 * x1 + w2_2 * x2 + b_2\n",
        "\n",
        "        constraints_2 += [\n",
        "            p_tmp_j1 - p_tmp_j2 - xi <= 0,\n",
        "        ]\n",
        "\n",
        "\n",
        "\n",
        "# consistency\n",
        "for j in range(len_j):\n",
        "    len_s = len_s_list[j]\n",
        "\n",
        "    w1 = w_j[3 * j + 0, 0]\n",
        "    w2 = w_j[3 * j + 1, 0]\n",
        "    b =  w_j[3 * j + 2, 0]\n",
        "\n",
        "    for s in range(len_s):\n",
        "        x1 = S[j][s, 0]\n",
        "        x2 = S[j][s, 1]\n",
        "\n",
        "        constraints_2 += [\n",
        "            w1 * x1 + w2 * x2 + b >= 0,\n",
        "            w1 * x1 + w2 * x2 + b <= 1\n",
        "        ]\n",
        "\n",
        "\n",
        "problem = cp.Problem(objective_function, constraints_2)\n",
        "result = problem.solve(verbose=True)\n",
        "\n",
        "\n",
        "\n",
        "coeff_0 = w_j.value[:3,  0]\n",
        "coeff_1 = w_j.value[3:6, 0]\n",
        "coeff_2 = w_j.value[6:,  0]\n",
        "coeffs = [coeff_0, coeff_1, coeff_2]\n",
        "\n",
        "\n",
        "def boundary_equation_2d(x1, coeff):\n",
        "    w1 = coeff[0]\n",
        "    w2 = coeff[1]\n",
        "    b = coeff[2]\n",
        "\n",
        "    x = np.hstack([x1, np.ones_like(x1)])\n",
        "    # w = np.array([-w1/w2, -b/w2]).reshape(-1,1)\n",
        "    w = np.array([-w1/w2, -b/w2 + 0.5/w2]).reshape(-1,1)\n",
        "\n",
        "    return x @ w\n",
        "\n",
        "test_x = np.linspace(0.05, 0.95, 100).reshape(-1,1)\n",
        "\n",
        "test_y_1 = boundary_equation_2d(test_x, coeff_0)\n",
        "test_y_2 = boundary_equation_2d(test_x, coeff_1)\n",
        "test_y_3 = boundary_equation_2d(test_x, coeff_2)\n",
        "\n",
        "\n",
        "\n",
        "plt.figure(figsize=(6,4))\n",
        "colors = ['blue', 'red', 'green']\n",
        "\n",
        "for j in range(len_j):\n",
        "    for l in range(4):\n",
        "        if L[j][l, 2] == 1:\n",
        "            plt.scatter(L[j][l, 0], L[j][l, 1], c=colors[j], marker='o', label='1')\n",
        "        else:\n",
        "            plt.scatter(L[j][l, 0], L[j][l, 1], facecolors='none', edgecolors=colors[j], marker='o', label='-1')\n",
        "\n",
        "plt.plot(test_x, test_y_1, label=\"p_1\")\n",
        "plt.plot(test_x, test_y_2, label=\"p_2\")\n",
        "plt.plot(test_x, test_y_3, label=\"p_3\")\n",
        "\n",
        "\n",
        "plt.xlabel(\"x1\")\n",
        "plt.ylabel(\"x2\")\n",
        "plt.legend()\n",
        "plt.grid(True)\n",
        "plt.show()"
      ]
    },
    {
      "cell_type": "code",
      "execution_count": null,
      "metadata": {},
      "outputs": [],
      "source": []
    },
    {
      "cell_type": "code",
      "execution_count": 87,
      "metadata": {},
      "outputs": [
        {
          "name": "stdout",
          "output_type": "stream",
          "text": [
            "number of violation of consistency constraints: 30\n"
          ]
        }
      ],
      "source": [
        "# 0 <= p_j(x_s) <= 1 の確認\n",
        "\n",
        "def p(x, coeff):\n",
        "    w_1 = coeff[0]\n",
        "    w_2 = coeff[1]\n",
        "    b = coeff[2]\n",
        "    return w_1 * x[0] + w_2 * x[1] + b\n",
        "\n",
        "coeff_0 = w_j.value[:3,  0]\n",
        "coeff_1 = w_j.value[3:6, 0]\n",
        "coeff_2 = w_j.value[6:,  0]\n",
        "coeffs = [coeff_0, coeff_1, coeff_2]\n",
        "\n",
        "\n",
        "\n",
        "cnt = 0\n",
        "\n",
        "for j in range(3):\n",
        "    for x_s in S[j]:\n",
        "        tmp_val = p(x_s, coeffs[j])\n",
        "        if tmp_val < 0:\n",
        "            # print(f'p_{j}({x_s}) is less than 0')\n",
        "            # print(tmp_val)\n",
        "            # print()\n",
        "            cnt += 1\n",
        "\n",
        "        if tmp_val > 1:\n",
        "            # print(f'p_{j}({x_s}) is more than 1')\n",
        "            # print(tmp_val)\n",
        "            # print()\n",
        "\n",
        "            cnt +=1\n",
        "        else:\n",
        "            pass\n",
        "\n",
        "print(f'number of violation of consistency constraints: {cnt}')"
      ]
    },
    {
      "cell_type": "code",
      "execution_count": null,
      "metadata": {},
      "outputs": [],
      "source": []
    },
    {
      "cell_type": "code",
      "execution_count": null,
      "metadata": {},
      "outputs": [],
      "source": []
    },
    {
      "cell_type": "code",
      "execution_count": null,
      "metadata": {},
      "outputs": [],
      "source": []
    },
    {
      "cell_type": "code",
      "execution_count": null,
      "metadata": {},
      "outputs": [],
      "source": []
    },
    {
      "cell_type": "code",
      "execution_count": null,
      "metadata": {},
      "outputs": [],
      "source": []
    },
    {
      "cell_type": "code",
      "execution_count": null,
      "metadata": {},
      "outputs": [],
      "source": []
    },
    {
      "cell_type": "code",
      "execution_count": null,
      "metadata": {},
      "outputs": [],
      "source": []
    },
    {
      "cell_type": "code",
      "execution_count": null,
      "metadata": {},
      "outputs": [],
      "source": []
    },
    {
      "cell_type": "code",
      "execution_count": null,
      "metadata": {},
      "outputs": [],
      "source": []
    },
    {
      "cell_type": "code",
      "execution_count": null,
      "metadata": {},
      "outputs": [],
      "source": []
    },
    {
      "cell_type": "code",
      "execution_count": null,
      "metadata": {},
      "outputs": [],
      "source": []
    },
    {
      "cell_type": "code",
      "execution_count": null,
      "metadata": {},
      "outputs": [],
      "source": []
    },
    {
      "cell_type": "code",
      "execution_count": null,
      "metadata": {},
      "outputs": [],
      "source": []
    },
    {
      "cell_type": "code",
      "execution_count": null,
      "metadata": {},
      "outputs": [],
      "source": []
    },
    {
      "cell_type": "code",
      "execution_count": null,
      "metadata": {},
      "outputs": [],
      "source": []
    },
    {
      "cell_type": "code",
      "execution_count": 19,
      "metadata": {},
      "outputs": [
        {
          "data": {
            "text/plain": [
              "array([[ 0.575     ],\n",
              "       [ 0.25      ],\n",
              "       [-0.56789852],\n",
              "       [-0.7       ],\n",
              "       [ 0.425     ],\n",
              "       [ 0.30883339],\n",
              "       [-2.6       ],\n",
              "       [ 0.6       ],\n",
              "       [ 1.1855653 ]])"
            ]
          },
          "execution_count": 19,
          "metadata": {},
          "output_type": "execute_result"
        }
      ],
      "source": [
        "w_j.value"
      ]
    },
    {
      "cell_type": "code",
      "execution_count": 20,
      "metadata": {},
      "outputs": [
        {
          "data": {
            "text/plain": [
              "array([[0.27083333],\n",
              "       [0.27083333],\n",
              "       [0.27083333],\n",
              "       [0.27083333],\n",
              "       [0.27083333],\n",
              "       [0.27083333],\n",
              "       [0.27083333],\n",
              "       [0.27083333],\n",
              "       [0.27083333],\n",
              "       [0.27083333],\n",
              "       [0.27083333],\n",
              "       [0.27083333]])"
            ]
          },
          "execution_count": 20,
          "metadata": {},
          "output_type": "execute_result"
        }
      ],
      "source": [
        "xi_j.value"
      ]
    },
    {
      "cell_type": "code",
      "execution_count": 21,
      "metadata": {},
      "outputs": [
        {
          "data": {
            "text/plain": [
              "array([[0.],\n",
              "       [0.]])"
            ]
          },
          "execution_count": 21,
          "metadata": {},
          "output_type": "execute_result"
        }
      ],
      "source": [
        "xi_h.value"
      ]
    },
    {
      "cell_type": "code",
      "execution_count": 22,
      "metadata": {},
      "outputs": [
        {
          "data": {
            "text/plain": [
              "array([ 0.575     ,  0.25      , -0.56789852])"
            ]
          },
          "execution_count": 22,
          "metadata": {},
          "output_type": "execute_result"
        }
      ],
      "source": [
        "w_j.value[:3, 0]"
      ]
    },
    {
      "cell_type": "code",
      "execution_count": 77,
      "metadata": {},
      "outputs": [
        {
          "name": "stdout",
          "output_type": "stream",
          "text": [
            "p_0([0.3 0.8]) is less than 0\n",
            "-2.008448227011588e-08\n",
            "\n",
            "p_0([0.9 0.7]) is less than 0\n",
            "-5.128306589810167e-08\n",
            "\n",
            "p_0([0.3 0.7]) is less than 0\n",
            "-9.602543948244391e-09\n",
            "\n",
            "p_0([0.8 0.3]) is less than 0\n",
            "-2.4085589523062683e-09\n",
            "\n",
            "p_0([1.  0.5]) is less than 0\n",
            "-3.72659429126683e-08\n",
            "\n",
            "p_1([0.6 0.4]) is less than 0\n",
            "-1.384445396796403e-09\n",
            "\n",
            "p_1([0.2 0.8]) is less than 0\n",
            "-1.361051616256894e-07\n",
            "\n",
            "p_1([0.7 0.6]) is less than 0\n",
            "-1.913763566894993e-07\n",
            "\n",
            "p_1([0.3 0.7]) is less than 0\n",
            "-1.024249825684661e-07\n",
            "\n",
            "p_1([0.8 0.3]) is less than 0\n",
            "-8.58145073232537e-09\n",
            "\n",
            "p_1([1.  0.5]) is less than 0\n",
            "-2.3945054641778043e-07\n",
            "\n",
            "p_2([1.  0.5]) is less than 0\n",
            "-2.095016321090881e-06\n",
            "\n"
          ]
        }
      ],
      "source": [
        "# 0 <= p_j(x_s) <= 1 の確認\n",
        "\n",
        "def p(x, coeff):\n",
        "    w_1 = coeff[0]\n",
        "    w_2 = coeff[1]\n",
        "    b = coeff[2]\n",
        "    return w_1 * x[0] + w_2 * x[1] + b\n",
        "\n",
        "coeff_0 = w_j.value[:3,  0]\n",
        "coeff_1 = w_j.value[3:6, 0]\n",
        "coeff_2 = w_j.value[6:,  0]\n",
        "coeffs = [coeff_0, coeff_1, coeff_2]\n",
        "\n",
        "for j in range(3):\n",
        "    for x_s in S[j]:\n",
        "        tmp_val = p(x_s, coeffs[j])\n",
        "        if tmp_val < 0:\n",
        "            print(f'p_{j}({x_s}) is less than 0')\n",
        "            print(tmp_val)\n",
        "            print()\n",
        "        if tmp_val > 1:\n",
        "            print(f'p_{j}({x_s}) is more than 1')\n",
        "            print(tmp_val)\n",
        "            print()\n",
        "        else:\n",
        "            pass"
      ]
    },
    {
      "cell_type": "code",
      "execution_count": 24,
      "metadata": {},
      "outputs": [],
      "source": [
        "def boundary_equation_2d(x1, coeff):\n",
        "    w1 = coeff[0]\n",
        "    w2 = coeff[1]\n",
        "    b = coeff[2]\n",
        "\n",
        "    x = np.hstack([x1, np.ones_like(x1)])\n",
        "    # w = np.array([-w1/w2, -b/w2]).reshape(-1,1)\n",
        "    w = np.array([-w1/w2, -b/w2 + 0.5/w2]).reshape(-1,1)\n",
        "\n",
        "    return x @ w\n",
        "\n",
        "test_x = np.linspace(0.05, 0.95, 100).reshape(-1,1)\n",
        "\n",
        "test_y_1 = boundary_equation_2d(test_x, coeff_0)\n",
        "test_y_2 = boundary_equation_2d(test_x, coeff_1)\n",
        "test_y_3 = boundary_equation_2d(test_x, coeff_2)"
      ]
    },
    {
      "cell_type": "code",
      "execution_count": 25,
      "metadata": {},
      "outputs": [
        {
          "data": {
            "image/png": "[encoded data removed]",
            "text/plain": [
              "<Figure size 600x400 with 1 Axes>"
            ]
          },
          "metadata": {},
          "output_type": "display_data"
        }
      ],
      "source": [
        "plt.figure(figsize=(6,4))\n",
        "colors = ['blue', 'red', 'green']\n",
        "\n",
        "for j in range(len_j):\n",
        "    for l in range(4):\n",
        "        if L[j][l, 2] == 1:\n",
        "            plt.scatter(L[j][l, 0], L[j][l, 1], c=colors[j], marker='o', label='1')\n",
        "        else:\n",
        "            plt.scatter(L[j][l, 0], L[j][l, 1], facecolors='none', edgecolors=colors[j], marker='o', label='-1')\n",
        "\n",
        "plt.plot(test_x, test_y_1, label=\"p_1\")\n",
        "plt.plot(test_x, test_y_2, label=\"p_2\")\n",
        "plt.plot(test_x, test_y_3, label=\"p_3\")\n",
        "\n",
        "\n",
        "plt.xlabel(\"x1\")\n",
        "plt.ylabel(\"x2\")\n",
        "plt.legend()\n",
        "plt.grid(True)\n",
        "plt.show()"
      ]
    },
    {
      "cell_type": "code",
      "execution_count": 15,
      "metadata": {},
      "outputs": [
        {
          "data": {
            "image/png": "[encoded data removed]",
            "text/plain": [
              "<Figure size 600x400 with 1 Axes>"
            ]
          },
          "metadata": {},
          "output_type": "display_data"
        }
      ],
      "source": [
        "plt.figure(figsize=(6,4))\n",
        "colors = ['blue', 'red', 'green']\n",
        "\n",
        "for j in range(len_j):\n",
        "    for l in range(4):\n",
        "        if L[j][l, 2] == 1:\n",
        "            plt.scatter(L[j][l, 0], L[j][l, 1], c=colors[j], marker='o', label='1')\n",
        "        else:\n",
        "            plt.scatter(L[j][l, 0], L[j][l, 1], facecolors='none', edgecolors=colors[j], marker='o', label='-1')\n",
        "\n",
        "plt.plot(test_x, test_y_1, label=\"p_1\")\n",
        "plt.plot(test_x, test_y_2, label=\"p_2\")\n",
        "plt.plot(test_x, test_y_3, label=\"p_3\")\n",
        "\n",
        "\n",
        "plt.xlabel(\"x1\")\n",
        "plt.ylabel(\"x2\")\n",
        "plt.legend()\n",
        "plt.grid(True)\n",
        "plt.show()"
      ]
    },
    {
      "cell_type": "code",
      "execution_count": null,
      "metadata": {},
      "outputs": [],
      "source": []
    },
    {
      "cell_type": "code",
      "execution_count": null,
      "metadata": {},
      "outputs": [],
      "source": []
    },
    {
      "cell_type": "code",
      "execution_count": null,
      "metadata": {},
      "outputs": [],
      "source": []
    },
    {
      "cell_type": "code",
      "execution_count": null,
      "metadata": {},
      "outputs": [],
      "source": []
    },
    {
      "cell_type": "code",
      "execution_count": null,
      "metadata": {},
      "outputs": [],
      "source": []
    },
    {
      "cell_type": "code",
      "execution_count": null,
      "metadata": {},
      "outputs": [],
      "source": []
    },
    {
      "cell_type": "code",
      "execution_count": null,
      "metadata": {},
      "outputs": [],
      "source": []
    },
    {
      "cell_type": "code",
      "execution_count": null,
      "metadata": {},
      "outputs": [],
      "source": []
    }
  ],
  "metadata": {
    "colab": {
      "provenance": []
    },
    "kernelspec": {
      "display_name": "Python 3",
      "name": "python3"
    },
    "language_info": {
      "codemirror_mode": {
        "name": "ipython",
        "version": 3
      },
      "file_extension": ".py",
      "mimetype": "text/x-python",
      "name": "python",
      "nbconvert_exporter": "python",
      "pygments_lexer": "ipython3",
      "version": "3.10.12"
    }
  },
  "nbformat": 4,
  "nbformat_minor": 0
}
