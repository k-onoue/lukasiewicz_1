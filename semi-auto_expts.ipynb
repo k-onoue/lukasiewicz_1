{
 "cells": [
  {
   "cell_type": "code",
   "execution_count": 13,
   "metadata": {},
   "outputs": [
    {
     "name": "stdout",
     "output_type": "stream",
     "text": [
      "The autoreload extension is already loaded. To reload it, use:\n",
      "  %reload_ext autoreload\n"
     ]
    }
   ],
   "source": [
    "%load_ext autoreload\n",
    "%autoreload 2\n",
    "\n",
    "from utils.generate_constraints import Setup_problem\n",
    "from utils.misc import boundary_equation_2d\n",
    "\n",
    "import numpy as np\n",
    "import pandas as pd\n",
    "import cvxpy as cp\n",
    "\n",
    "import matplotlib.pyplot as plt \n",
    "%matplotlib inline"
   ]
  },
  {
   "cell_type": "code",
   "execution_count": 10,
   "metadata": {},
   "outputs": [],
   "source": [
    "file_names_dict = {\n",
    "    'supervised': ['L1', 'L2', 'L3'],\n",
    "    'unsupervised': ['U'],\n",
    "    'rule': ['rules']\n",
    "}\n",
    "\n",
    "data_dir_path = './inputs/toy_data'"
   ]
  },
  {
   "cell_type": "code",
   "execution_count": 14,
   "metadata": {},
   "outputs": [],
   "source": [
    "problem_instance = Setup_problem(data_dir_path, file_names_dict)\n",
    "objective, constraints = problem_instance.main()"
   ]
  },
  {
   "cell_type": "code",
   "execution_count": 15,
   "metadata": {},
   "outputs": [
    {
     "name": "stdout",
     "output_type": "stream",
     "text": [
      "===============================================================================\n",
      "                                     CVXPY                                     \n",
      "                                     v1.3.2                                    \n",
      "===============================================================================\n",
      "(CVXPY) Oct 14 03:00:08 PM: Your problem has 22 variables, 93 constraints, and 0 parameters.\n",
      "(CVXPY) Oct 14 03:00:08 PM: It is compliant with the following grammars: DCP, DQCP\n",
      "(CVXPY) Oct 14 03:00:08 PM: (If you need to solve this problem multiple times, but with different data, consider using parameters.)\n",
      "(CVXPY) Oct 14 03:00:08 PM: CVXPY will first compile your problem; then, it will invoke a numerical solver to obtain a solution.\n",
      "-------------------------------------------------------------------------------\n",
      "                                  Compilation                                  \n",
      "-------------------------------------------------------------------------------\n",
      "(CVXPY) Oct 14 03:00:08 PM: Compiling problem (target solver=ECOS).\n",
      "(CVXPY) Oct 14 03:00:08 PM: Reduction chain: Dcp2Cone -> CvxAttr2Constr -> ConeMatrixStuffing -> ECOS\n"
     ]
    },
    {
     "name": "stdout",
     "output_type": "stream",
     "text": [
      "(CVXPY) Oct 14 03:00:08 PM: Applying reduction Dcp2Cone\n",
      "(CVXPY) Oct 14 03:00:08 PM: Applying reduction CvxAttr2Constr\n",
      "(CVXPY) Oct 14 03:00:08 PM: Applying reduction ConeMatrixStuffing\n",
      "(CVXPY) Oct 14 03:00:08 PM: Applying reduction ECOS\n",
      "(CVXPY) Oct 14 03:00:08 PM: Finished problem compilation (took 3.417e-01 seconds).\n",
      "-------------------------------------------------------------------------------\n",
      "                                Numerical solver                               \n",
      "-------------------------------------------------------------------------------\n",
      "(CVXPY) Oct 14 03:00:08 PM: Invoking solver ECOS  to obtain a solution.\n",
      "\n",
      "ECOS 2.0.10 - (C) embotech GmbH, Zurich Switzerland, 2012-15. Web: www.embotech.com/ECOS\n",
      "\n",
      "It     pcost       dcost      gap   pres   dres    k/t    mu     step   sigma     IR    |   BT\n",
      " 0  +2.176e+02  -3.307e+02  +4e+03  5e-01  5e-01  1e+00  4e+01    ---    ---    1  1  - |  -  - \n",
      " 1  +5.191e+01  -1.267e+02  +2e+03  2e-01  1e-01  2e+00  2e+01  0.6292  1e-01   2  1  1 |  0  0\n",
      " 2  +9.148e+00  -6.963e+01  +9e+02  6e-02  7e-02  5e+00  8e+00  0.9890  5e-01   2  2  2 |  0  0\n",
      " 3  +6.337e+01  +2.499e+01  +5e+02  3e-02  3e-02  2e+00  4e+00  0.5864  2e-01   1  2  2 |  0  0\n",
      " 4  +9.054e+01  +7.738e+01  +2e+02  1e-02  1e-02  8e-01  2e+00  0.7243  1e-01   1  2  2 |  0  0\n",
      " 5  +9.594e+01  +8.792e+01  +1e+02  7e-03  6e-03  5e-01  9e-01  0.5466  3e-01   2  2  2 |  0  0\n",
      " 6  +1.045e+02  +1.035e+02  +1e+01  9e-04  7e-04  5e-02  1e-01  0.9890  1e-01   2  2  2 |  0  0\n",
      " 7  +1.062e+02  +1.062e+02  +3e-01  2e-05  1e-05  1e-03  2e-03  0.9797  1e-04   2  2  2 |  0  0\n",
      " 8  +1.063e+02  +1.063e+02  +3e-03  2e-07  2e-07  1e-05  3e-05  0.9882  1e-04   2  1  1 |  0  0\n",
      " 9  +1.063e+02  +1.063e+02  +5e-05  4e-09  3e-09  2e-07  5e-07  0.9836  1e-04   2  1  1 |  0  0\n",
      "10  +1.063e+02  +1.063e+02  +1e-06  8e-11  6e-11  5e-09  1e-08  0.9775  1e-04   2  1  1 |  0  0\n",
      "11  +1.063e+02  +1.063e+02  +2e-08  2e-12  1e-12  9e-11  2e-10  0.9805  1e-04   2  1  1 |  0  0\n",
      "\n",
      "OPTIMAL (within feastol=2.1e-12, reltol=2.3e-10, abstol=2.4e-08).\n",
      "Runtime: 0.001490 seconds.\n",
      "-------------------------------------------------------------------------------\n",
      "                                    Summary                                    \n",
      "-------------------------------------------------------------------------------\n",
      "(CVXPY) Oct 14 03:00:08 PM: Problem status: optimal\n",
      "\n",
      "(CVXPY) Oct 14 03:00:08 PM: Optimal value: 1.063e+02\n",
      "(CVXPY) Oct 14 03:00:08 PM: Compilation took 3.417e-01 seconds\n",
      "(CVXPY) Oct 14 03:00:08 PM: Solver (including time spent in interface) took 2.594e-03 seconds\n"
     ]
    }
   ],
   "source": [
    "problem = cp.Problem(objective, constraints)\n",
    "result = problem.solve(verbose=True)"
   ]
  },
  {
   "cell_type": "code",
   "execution_count": null,
   "metadata": {},
   "outputs": [],
   "source": []
  },
  {
   "cell_type": "code",
   "execution_count": 16,
   "metadata": {},
   "outputs": [
    {
     "data": {
      "image/png": "[encoded data removed]",
      "text/plain": [
       "<Figure size 600x400 with 1 Axes>"
      ]
     },
     "metadata": {},
     "output_type": "display_data"
    }
   ],
   "source": [
    "L = problem_instance.L\n",
    "w_j = problem_instance.w_j\n",
    "\n",
    "\n",
    "coeff_0 = w_j.value[0]\n",
    "coeff_1 = w_j.value[1]\n",
    "coeff_2 = w_j.value[2]\n",
    "coeffs = [coeff_0, coeff_1, coeff_2]\n",
    "\n",
    "test_x = np.linspace(0.05, 0.95, 100).reshape(-1,1)\n",
    "\n",
    "test_y_1 = boundary_equation_2d(test_x, coeff_0)\n",
    "test_y_2 = boundary_equation_2d(test_x, coeff_1)\n",
    "test_y_3 = boundary_equation_2d(test_x, coeff_2)\n",
    "\n",
    "\n",
    "\n",
    "plt.figure(figsize=(6,4))\n",
    "colors = ['blue', 'red', 'green']\n",
    "\n",
    "for j in range(3):\n",
    "    for l in range(4):\n",
    "        if L[j][l, 2] == 1:\n",
    "            plt.scatter(L[j][l, 0], L[j][l, 1], c=colors[j], marker='o', label='1')\n",
    "        else:\n",
    "            plt.scatter(L[j][l, 0], L[j][l, 1], facecolors='none', edgecolors=colors[j], marker='o', label='-1')\n",
    "\n",
    "plt.plot(test_x, test_y_1, label=\"p_1\")\n",
    "plt.plot(test_x, test_y_2, label=\"p_2\")\n",
    "plt.plot(test_x, test_y_3, label=\"p_3\")\n",
    "\n",
    "\n",
    "plt.xlabel(\"x1\")\n",
    "plt.ylabel(\"x2\")\n",
    "plt.legend()\n",
    "plt.grid(True)\n",
    "plt.show()"
   ]
  },
  {
   "cell_type": "code",
   "execution_count": null,
   "metadata": {},
   "outputs": [],
   "source": []
  },
  {
   "cell_type": "code",
   "execution_count": null,
   "metadata": {},
   "outputs": [],
   "source": []
  },
  {
   "cell_type": "code",
   "execution_count": null,
   "metadata": {},
   "outputs": [],
   "source": []
  },
  {
   "cell_type": "code",
   "execution_count": null,
   "metadata": {},
   "outputs": [],
   "source": []
  },
  {
   "cell_type": "code",
   "execution_count": null,
   "metadata": {},
   "outputs": [],
   "source": []
  },
  {
   "cell_type": "code",
   "execution_count": null,
   "metadata": {},
   "outputs": [],
   "source": []
  },
  {
   "cell_type": "code",
   "execution_count": null,
   "metadata": {},
   "outputs": [],
   "source": []
  },
  {
   "cell_type": "code",
   "execution_count": null,
   "metadata": {},
   "outputs": [],
   "source": []
  },
  {
   "cell_type": "code",
   "execution_count": null,
   "metadata": {},
   "outputs": [],
   "source": []
  },
  {
   "cell_type": "code",
   "execution_count": null,
   "metadata": {},
   "outputs": [],
   "source": []
  }
 ],
 "metadata": {
  "kernelspec": {
   "display_name": "myenv",
   "language": "python",
   "name": "python3"
  },
  "language_info": {
   "codemirror_mode": {
    "name": "ipython",
    "version": 3
   },
   "file_extension": ".py",
   "mimetype": "text/x-python",
   "name": "python",
   "nbconvert_exporter": "python",
   "pygments_lexer": "ipython3",
   "version": "3.10.12"
  }
 },
 "nbformat": 4,
 "nbformat_minor": 2
}
