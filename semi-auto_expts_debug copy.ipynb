{
 "cells": [
  {
   "cell_type": "code",
   "execution_count": 1,
   "metadata": {},
   "outputs": [],
   "source": [
    "%load_ext autoreload\n",
    "%autoreload 2\n",
    "\n",
    "from utils.setup_problem import Setup\n",
    "from utils.misc import boundary_equation_2d\n",
    "from utils.misc import visualize_result\n",
    "\n",
    "import numpy as np\n",
    "import pandas as pd\n",
    "import cvxpy as cp\n",
    "\n",
    "import matplotlib.pyplot as plt \n",
    "%matplotlib inline"
   ]
  },
  {
   "cell_type": "code",
   "execution_count": 2,
   "metadata": {},
   "outputs": [
    {
     "name": "stdout",
     "output_type": "stream",
     "text": [
      "KB: [['¬', 'p_1(x)', '⊕', 'p_2(x)'], ['¬', 'p_2(x)', '⊕', 'p_3(x)']]\n",
      "['¬', Expression(AFFINE, UNKNOWN, ()), '⊕', Expression(AFFINE, UNKNOWN, ())]\n",
      "['¬', Expression(AFFINE, UNKNOWN, ()), '⊕', Expression(AFFINE, UNKNOWN, ())]\n",
      "[[Expression(AFFINE, UNKNOWN, ()), '⊕', Expression(AFFINE, UNKNOWN, ())], [Expression(AFFINE, UNKNOWN, ()), '⊕', Expression(AFFINE, UNKNOWN, ())]]\n",
      "KB: [[Expression(AFFINE, UNKNOWN, ()), '⊕', Expression(AFFINE, UNKNOWN, ())], [Expression(AFFINE, UNKNOWN, ()), '⊕', Expression(AFFINE, UNKNOWN, ())]]\n",
      "[Expression(AFFINE, UNKNOWN, ()), '⊕', Expression(AFFINE, UNKNOWN, ())]\n",
      "[Expression(AFFINE, UNKNOWN, ()), '⊕', Expression(AFFINE, UNKNOWN, ())]\n",
      "[[Expression(AFFINE, UNKNOWN, ()), '⊕', Expression(AFFINE, UNKNOWN, ())], [Expression(AFFINE, UNKNOWN, ()), '⊕', Expression(AFFINE, UNKNOWN, ())]]\n",
      "KB: [[Expression(AFFINE, UNKNOWN, ()), '⊕', Expression(AFFINE, UNKNOWN, ())], [Expression(AFFINE, UNKNOWN, ()), '⊕', Expression(AFFINE, UNKNOWN, ())]]\n",
      "[Expression(AFFINE, UNKNOWN, ()), '⊕', Expression(AFFINE, UNKNOWN, ())]\n",
      "[Expression(AFFINE, UNKNOWN, ()), '⊕', Expression(AFFINE, UNKNOWN, ())]\n",
      "[[Expression(AFFINE, UNKNOWN, ()), '⊕', Expression(AFFINE, UNKNOWN, ())], [Expression(AFFINE, UNKNOWN, ()), '⊕', Expression(AFFINE, UNKNOWN, ())]]\n",
      "KB: [[Expression(AFFINE, UNKNOWN, ()), '⊕', Expression(AFFINE, UNKNOWN, ())], [Expression(AFFINE, UNKNOWN, ()), '⊕', Expression(AFFINE, UNKNOWN, ())]]\n",
      "[Expression(AFFINE, UNKNOWN, ()), '⊕', Expression(AFFINE, UNKNOWN, ())]\n",
      "[Expression(AFFINE, UNKNOWN, ()), '⊕', Expression(AFFINE, UNKNOWN, ())]\n",
      "[[Expression(AFFINE, UNKNOWN, ()), '⊕', Expression(AFFINE, UNKNOWN, ())], [Expression(AFFINE, UNKNOWN, ()), '⊕', Expression(AFFINE, UNKNOWN, ())]]\n",
      "KB: [[Expression(AFFINE, UNKNOWN, ()), '⊕', Expression(AFFINE, UNKNOWN, ())], [Expression(AFFINE, UNKNOWN, ()), '⊕', Expression(AFFINE, UNKNOWN, ())]]\n",
      "[Expression(AFFINE, UNKNOWN, ()), '⊕', Expression(AFFINE, UNKNOWN, ())]\n",
      "[Expression(AFFINE, UNKNOWN, ()), '⊕', Expression(AFFINE, UNKNOWN, ())]\n",
      "[[Expression(AFFINE, UNKNOWN, ()), '⊕', Expression(AFFINE, UNKNOWN, ())], [Expression(AFFINE, UNKNOWN, ()), '⊕', Expression(AFFINE, UNKNOWN, ())]]\n",
      "KB: [[Expression(AFFINE, UNKNOWN, ()), '⊕', Expression(AFFINE, UNKNOWN, ())], [Expression(AFFINE, UNKNOWN, ()), '⊕', Expression(AFFINE, UNKNOWN, ())]]\n",
      "[Expression(AFFINE, UNKNOWN, ()), '⊕', Expression(AFFINE, UNKNOWN, ())]\n",
      "[Expression(AFFINE, UNKNOWN, ()), '⊕', Expression(AFFINE, UNKNOWN, ())]\n",
      "[[Expression(AFFINE, UNKNOWN, ()), '⊕', Expression(AFFINE, UNKNOWN, ())], [Expression(AFFINE, UNKNOWN, ()), '⊕', Expression(AFFINE, UNKNOWN, ())]]\n",
      "===============================================================================\n",
      "                                     CVXPY                                     \n",
      "                                     v1.3.2                                    \n",
      "===============================================================================\n",
      "(CVXPY) Oct 15 10:51:24 AM: Your problem has 23 variables, 84 constraints, and 0 parameters.\n",
      "(CVXPY) Oct 15 10:51:24 AM: It is compliant with the following grammars: DCP, DQCP\n",
      "(CVXPY) Oct 15 10:51:24 AM: (If you need to solve this problem multiple times, but with different data, consider using parameters.)\n",
      "(CVXPY) Oct 15 10:51:24 AM: CVXPY will first compile your problem; then, it will invoke a numerical solver to obtain a solution.\n",
      "-------------------------------------------------------------------------------\n",
      "                                  Compilation                                  \n",
      "-------------------------------------------------------------------------------\n",
      "(CVXPY) Oct 15 10:51:24 AM: Compiling problem (target solver=ECOS).\n",
      "(CVXPY) Oct 15 10:51:24 AM: Reduction chain: Dcp2Cone -> CvxAttr2Constr -> ConeMatrixStuffing -> ECOS\n",
      "(CVXPY) Oct 15 10:51:24 AM: Applying reduction Dcp2Cone\n",
      "(CVXPY) Oct 15 10:51:24 AM: Applying reduction CvxAttr2Constr\n",
      "(CVXPY) Oct 15 10:51:24 AM: Applying reduction ConeMatrixStuffing\n",
      "(CVXPY) Oct 15 10:51:24 AM: Applying reduction ECOS\n",
      "(CVXPY) Oct 15 10:51:24 AM: Finished problem compilation (took 2.005e-01 seconds).\n",
      "-------------------------------------------------------------------------------\n",
      "                                Numerical solver                               \n",
      "-------------------------------------------------------------------------------\n",
      "(CVXPY) Oct 15 10:51:24 AM: Invoking solver ECOS  to obtain a solution.\n",
      "\n",
      "ECOS 2.0.10 - (C) embotech GmbH, Zurich Switzerland, 2012-15. Web: www.embotech.com/ECOS\n",
      "\n",
      "It     pcost       dcost      gap   pres   dres    k/t    mu     step   sigma     IR    |   BT\n",
      " 0  +2.816e+01  -5.954e+01  +6e+02  5e-01  6e-01  1e+00  6e+00    ---    ---    1  1  - |  -  - \n",
      " 1  +9.449e+00  -1.257e+01  +3e+02  1e-01  1e-01  9e-01  2e+00  0.6765  1e-01   1  1  1 |  0  0\n",
      " 2  +1.149e+01  -7.078e+00  +2e+02  1e-01  1e-01  9e-01  2e+00  0.3942  6e-01   2  2  2 |  0  0\n",
      " 3  +1.377e+01  +7.483e+00  +8e+01  3e-02  4e-02  4e-01  8e-01  0.9890  4e-01   2  2  1 |  0  0\n",
      " 4  +1.724e+01  +1.451e+01  +4e+01  1e-02  2e-02  2e-01  3e-01  0.7874  3e-01   2  2  2 |  0  0\n",
      " 5  +1.908e+01  +1.865e+01  +6e+00  2e-03  2e-03  2e-02  5e-02  0.8824  5e-02   2  2  2 |  0  0\n",
      " 6  +1.925e+01  +1.905e+01  +3e+00  9e-04  1e-03  1e-02  3e-02  0.7125  3e-01   2  2  2 |  0  0\n",
      " 7  +1.941e+01  +1.938e+01  +4e-01  1e-04  1e-04  1e-03  3e-03  0.8845  2e-02   2  1  1 |  0  0\n",
      " 8  +1.944e+01  +1.944e+01  +2e-02  5e-06  6e-06  5e-05  1e-04  0.9814  3e-02   2  1  1 |  0  0\n",
      " 9  +1.944e+01  +1.944e+01  +5e-04  2e-07  2e-07  2e-06  5e-06  0.9720  3e-03   2  1  1 |  0  0\n",
      "10  +1.944e+01  +1.944e+01  +1e-05  4e-09  5e-09  4e-08  1e-07  0.9749  1e-04   2  1  1 |  0  0\n",
      "11  +1.944e+01  +1.944e+01  +6e-07  2e-10  2e-10  2e-09  5e-09  0.9562  2e-03   2  1  1 |  0  0\n",
      "12  +1.944e+01  +1.944e+01  +9e-09  3e-12  4e-12  3e-11  9e-11  0.9841  3e-04   2  1  1 |  0  0\n",
      "\n",
      "OPTIMAL (within feastol=3.6e-12, reltol=4.6e-10, abstol=9.0e-09).\n",
      "Runtime: 0.000598 seconds.\n",
      "\n",
      "-------------------------------------------------------------------------------\n",
      "                                    Summary                                    \n",
      "-------------------------------------------------------------------------------\n",
      "(CVXPY) Oct 15 10:51:24 AM: Problem status: optimal\n",
      "(CVXPY) Oct 15 10:51:24 AM: Optimal value: 1.944e+01\n",
      "(CVXPY) Oct 15 10:51:24 AM: Compilation took 2.005e-01 seconds\n",
      "(CVXPY) Oct 15 10:51:24 AM: Solver (including time spent in interface) took 7.870e-04 seconds\n"
     ]
    }
   ],
   "source": [
    "file_names_dict = {\n",
    "    'supervised': ['L1', 'L2', 'L3'],\n",
    "    'unsupervised': ['U'],\n",
    "    'rule': ['rules']\n",
    "}\n",
    "\n",
    "data_dir_path = './inputs/toy_data'\n",
    "\n",
    "problem_instance = Setup(data_dir_path, file_names_dict)\n",
    "objective, constraints = problem_instance.main(c1=10, c2=10)\n",
    "\n",
    "problem = cp.Problem(objective, constraints)\n",
    "result = problem.solve(verbose=True)"
   ]
  },
  {
   "cell_type": "code",
   "execution_count": 3,
   "metadata": {},
   "outputs": [
    {
     "name": "stdout",
     "output_type": "stream",
     "text": [
      "1.0 + -2.0 @ var2[0, 0] <= -1.0 @ (2.0 @ (var1[0, 0:3][0] @ 0.1 + var1[0, 0:3][1] @ 0.5 + var1[0, 0:3][2]) + -1.0)\n",
      "1.0 + -2.0 @ var2[0, 1] <= -1.0 @ (2.0 @ (var1[0, 0:3][0] @ 0.4 + var1[0, 0:3][1] @ 0.4 + var1[0, 0:3][2]) + -1.0)\n",
      "1.0 + -2.0 @ var2[0, 2] <= 1.0 @ (2.0 @ (var1[0, 0:3][0] @ 0.3 + var1[0, 0:3][1] @ 0.8 + var1[0, 0:3][2]) + -1.0)\n",
      "1.0 + -2.0 @ var2[0, 3] <= 1.0 @ (2.0 @ (var1[0, 0:3][0] @ 0.9 + var1[0, 0:3][1] @ 0.7 + var1[0, 0:3][2]) + -1.0)\n",
      "1.0 + -2.0 @ var2[1, 0] <= -1.0 @ (2.0 @ (var1[1, 0:3][0] @ 0.1 + var1[1, 0:3][1] @ 0.3 + var1[1, 0:3][2]) + -1.0)\n",
      "1.0 + -2.0 @ var2[1, 1] <= -1.0 @ (2.0 @ (var1[1, 0:3][0] @ 0.6 + var1[1, 0:3][1] @ 0.4 + var1[1, 0:3][2]) + -1.0)\n",
      "1.0 + -2.0 @ var2[1, 2] <= 1.0 @ (2.0 @ (var1[1, 0:3][0] @ 0.2 + var1[1, 0:3][1] @ 0.8 + var1[1, 0:3][2]) + -1.0)\n",
      "1.0 + -2.0 @ var2[1, 3] <= 1.0 @ (2.0 @ (var1[1, 0:3][0] @ 0.7 + var1[1, 0:3][1] @ 0.6 + var1[1, 0:3][2]) + -1.0)\n",
      "1.0 + -2.0 @ var2[2, 0] <= -1.0 @ (2.0 @ (var1[2, 0:3][0] @ 0.4 + var1[2, 0:3][1] @ 0.2 + var1[2, 0:3][2]) + -1.0)\n",
      "1.0 + -2.0 @ var2[2, 1] <= -1.0 @ (2.0 @ (var1[2, 0:3][0] @ 0.9 + var1[2, 0:3][1] @ 0.3 + var1[2, 0:3][2]) + -1.0)\n",
      "1.0 + -2.0 @ var2[2, 2] <= 1.0 @ (2.0 @ (var1[2, 0:3][0] @ 0.2 + var1[2, 0:3][1] @ 0.6 + var1[2, 0:3][2]) + -1.0)\n",
      "1.0 + -2.0 @ var2[2, 3] <= 1.0 @ (2.0 @ (var1[2, 0:3][0] @ 0.5 + var1[2, 0:3][1] @ 0.7 + var1[2, 0:3][2]) + -1.0)\n",
      "1.0 + -1.0 + -var1[0, 0:3][0] @ 0.1 + var1[0, 0:3][1] @ 0.5 + var1[0, 0:3][2] + var1[1, 0:3][0] @ 0.1 + var1[1, 0:3][1] @ 0.5 + var1[1, 0:3][2] <= var3[0, 0]\n",
      "1.0 + -1.0 + -var1[1, 0:3][0] @ 0.1 + var1[1, 0:3][1] @ 0.5 + var1[1, 0:3][2] + var1[2, 0:3][0] @ 0.1 + var1[2, 0:3][1] @ 0.5 + var1[2, 0:3][2] <= var3[1, 0]\n",
      "1.0 + -1.0 + -var1[0, 0:3][0] @ 0.1 + var1[0, 0:3][1] @ 0.5 + var1[0, 0:3][2] + var1[1, 0:3][0] @ 0.1 + var1[1, 0:3][1] @ 0.5 + var1[1, 0:3][2] <= var3[0, 0]\n",
      "1.0 + -1.0 + -var1[1, 0:3][0] @ 0.1 + var1[1, 0:3][1] @ 0.5 + var1[1, 0:3][2] + var1[2, 0:3][0] @ 0.1 + var1[2, 0:3][1] @ 0.5 + var1[2, 0:3][2] <= var3[1, 0]\n",
      "1.0 + -1.0 + -var1[0, 0:3][0] @ 0.1 + var1[0, 0:3][1] @ 0.5 + var1[0, 0:3][2] + var1[1, 0:3][0] @ 0.1 + var1[1, 0:3][1] @ 0.5 + var1[1, 0:3][2] <= var3[0, 0]\n",
      "1.0 + -1.0 + -var1[1, 0:3][0] @ 0.1 + var1[1, 0:3][1] @ 0.5 + var1[1, 0:3][2] + var1[2, 0:3][0] @ 0.1 + var1[2, 0:3][1] @ 0.5 + var1[2, 0:3][2] <= var3[1, 0]\n",
      "1.0 + -1.0 + -var1[0, 0:3][0] @ 0.1 + var1[0, 0:3][1] @ 0.5 + var1[0, 0:3][2] + var1[1, 0:3][0] @ 0.1 + var1[1, 0:3][1] @ 0.5 + var1[1, 0:3][2] <= var3[0, 0]\n",
      "1.0 + -1.0 + -var1[1, 0:3][0] @ 0.1 + var1[1, 0:3][1] @ 0.5 + var1[1, 0:3][2] + var1[2, 0:3][0] @ 0.1 + var1[2, 0:3][1] @ 0.5 + var1[2, 0:3][2] <= var3[1, 0]\n",
      "1.0 + -1.0 + -var1[0, 0:3][0] @ 0.1 + var1[0, 0:3][1] @ 0.5 + var1[0, 0:3][2] + var1[1, 0:3][0] @ 0.1 + var1[1, 0:3][1] @ 0.5 + var1[1, 0:3][2] <= var3[0, 0]\n",
      "1.0 + -1.0 + -var1[1, 0:3][0] @ 0.1 + var1[1, 0:3][1] @ 0.5 + var1[1, 0:3][2] + var1[2, 0:3][0] @ 0.1 + var1[2, 0:3][1] @ 0.5 + var1[2, 0:3][2] <= var3[1, 0]\n",
      "1.0 + -1.0 + -var1[0, 0:3][0] @ 0.1 + var1[0, 0:3][1] @ 0.5 + var1[0, 0:3][2] + var1[1, 0:3][0] @ 0.1 + var1[1, 0:3][1] @ 0.5 + var1[1, 0:3][2] <= var3[0, 0]\n",
      "1.0 + -1.0 + -var1[1, 0:3][0] @ 0.1 + var1[1, 0:3][1] @ 0.5 + var1[1, 0:3][2] + var1[2, 0:3][0] @ 0.1 + var1[2, 0:3][1] @ 0.5 + var1[2, 0:3][2] <= var3[1, 0]\n",
      "0.0 <= var1[0, 0:3][0] @ 0.1 + var1[0, 0:3][1] @ 0.5 + var1[0, 0:3][2]\n",
      "var1[0, 0:3][0] @ 0.1 + var1[0, 0:3][1] @ 0.5 + var1[0, 0:3][2] <= 1.0\n",
      "0.0 <= var1[0, 0:3][0] @ 0.4 + var1[0, 0:3][1] @ 0.4 + var1[0, 0:3][2]\n",
      "var1[0, 0:3][0] @ 0.4 + var1[0, 0:3][1] @ 0.4 + var1[0, 0:3][2] <= 1.0\n",
      "0.0 <= var1[0, 0:3][0] @ 0.3 + var1[0, 0:3][1] @ 0.8 + var1[0, 0:3][2]\n",
      "var1[0, 0:3][0] @ 0.3 + var1[0, 0:3][1] @ 0.8 + var1[0, 0:3][2] <= 1.0\n",
      "0.0 <= var1[0, 0:3][0] @ 0.9 + var1[0, 0:3][1] @ 0.7 + var1[0, 0:3][2]\n",
      "var1[0, 0:3][0] @ 0.9 + var1[0, 0:3][1] @ 0.7 + var1[0, 0:3][2] <= 1.0\n",
      "0.0 <= var1[0, 0:3][0] @ 0.1 + var1[0, 0:3][1] @ 0.5 + var1[0, 0:3][2]\n",
      "var1[0, 0:3][0] @ 0.1 + var1[0, 0:3][1] @ 0.5 + var1[0, 0:3][2] <= 1.0\n",
      "0.0 <= var1[0, 0:3][0] @ 0.3 + var1[0, 0:3][1] @ 0.7 + var1[0, 0:3][2]\n",
      "var1[0, 0:3][0] @ 0.3 + var1[0, 0:3][1] @ 0.7 + var1[0, 0:3][2] <= 1.0\n",
      "0.0 <= var1[0, 0:3][0] @ 0.5 + var1[0, 0:3][1] @ 0.4 + var1[0, 0:3][2]\n",
      "var1[0, 0:3][0] @ 0.5 + var1[0, 0:3][1] @ 0.4 + var1[0, 0:3][2] <= 1.0\n",
      "0.0 <= var1[0, 0:3][0] @ 0.8 + var1[0, 0:3][1] @ 0.3 + var1[0, 0:3][2]\n",
      "var1[0, 0:3][0] @ 0.8 + var1[0, 0:3][1] @ 0.3 + var1[0, 0:3][2] <= 1.0\n",
      "0.0 <= var1[0, 0:3][0] @ 0.9 + var1[0, 0:3][1] @ 0.2 + var1[0, 0:3][2]\n",
      "var1[0, 0:3][0] @ 0.9 + var1[0, 0:3][1] @ 0.2 + var1[0, 0:3][2] <= 1.0\n",
      "0.0 <= var1[0, 0:3][0] @ 1.0 + var1[0, 0:3][1] @ 0.5 + var1[0, 0:3][2]\n",
      "var1[0, 0:3][0] @ 1.0 + var1[0, 0:3][1] @ 0.5 + var1[0, 0:3][2] <= 1.0\n",
      "0.0 <= var1[1, 0:3][0] @ 0.1 + var1[1, 0:3][1] @ 0.3 + var1[1, 0:3][2]\n",
      "var1[1, 0:3][0] @ 0.1 + var1[1, 0:3][1] @ 0.3 + var1[1, 0:3][2] <= 1.0\n",
      "0.0 <= var1[1, 0:3][0] @ 0.6 + var1[1, 0:3][1] @ 0.4 + var1[1, 0:3][2]\n",
      "var1[1, 0:3][0] @ 0.6 + var1[1, 0:3][1] @ 0.4 + var1[1, 0:3][2] <= 1.0\n",
      "0.0 <= var1[1, 0:3][0] @ 0.2 + var1[1, 0:3][1] @ 0.8 + var1[1, 0:3][2]\n",
      "var1[1, 0:3][0] @ 0.2 + var1[1, 0:3][1] @ 0.8 + var1[1, 0:3][2] <= 1.0\n",
      "0.0 <= var1[1, 0:3][0] @ 0.7 + var1[1, 0:3][1] @ 0.6 + var1[1, 0:3][2]\n",
      "var1[1, 0:3][0] @ 0.7 + var1[1, 0:3][1] @ 0.6 + var1[1, 0:3][2] <= 1.0\n",
      "0.0 <= var1[1, 0:3][0] @ 0.1 + var1[1, 0:3][1] @ 0.5 + var1[1, 0:3][2]\n",
      "var1[1, 0:3][0] @ 0.1 + var1[1, 0:3][1] @ 0.5 + var1[1, 0:3][2] <= 1.0\n",
      "0.0 <= var1[1, 0:3][0] @ 0.3 + var1[1, 0:3][1] @ 0.7 + var1[1, 0:3][2]\n",
      "var1[1, 0:3][0] @ 0.3 + var1[1, 0:3][1] @ 0.7 + var1[1, 0:3][2] <= 1.0\n",
      "0.0 <= var1[1, 0:3][0] @ 0.5 + var1[1, 0:3][1] @ 0.4 + var1[1, 0:3][2]\n",
      "var1[1, 0:3][0] @ 0.5 + var1[1, 0:3][1] @ 0.4 + var1[1, 0:3][2] <= 1.0\n",
      "0.0 <= var1[1, 0:3][0] @ 0.8 + var1[1, 0:3][1] @ 0.3 + var1[1, 0:3][2]\n",
      "var1[1, 0:3][0] @ 0.8 + var1[1, 0:3][1] @ 0.3 + var1[1, 0:3][2] <= 1.0\n",
      "0.0 <= var1[1, 0:3][0] @ 0.9 + var1[1, 0:3][1] @ 0.2 + var1[1, 0:3][2]\n",
      "var1[1, 0:3][0] @ 0.9 + var1[1, 0:3][1] @ 0.2 + var1[1, 0:3][2] <= 1.0\n",
      "0.0 <= var1[1, 0:3][0] @ 1.0 + var1[1, 0:3][1] @ 0.5 + var1[1, 0:3][2]\n",
      "var1[1, 0:3][0] @ 1.0 + var1[1, 0:3][1] @ 0.5 + var1[1, 0:3][2] <= 1.0\n",
      "0.0 <= var1[2, 0:3][0] @ 0.4 + var1[2, 0:3][1] @ 0.2 + var1[2, 0:3][2]\n",
      "var1[2, 0:3][0] @ 0.4 + var1[2, 0:3][1] @ 0.2 + var1[2, 0:3][2] <= 1.0\n",
      "0.0 <= var1[2, 0:3][0] @ 0.9 + var1[2, 0:3][1] @ 0.3 + var1[2, 0:3][2]\n",
      "var1[2, 0:3][0] @ 0.9 + var1[2, 0:3][1] @ 0.3 + var1[2, 0:3][2] <= 1.0\n",
      "0.0 <= var1[2, 0:3][0] @ 0.2 + var1[2, 0:3][1] @ 0.6 + var1[2, 0:3][2]\n",
      "var1[2, 0:3][0] @ 0.2 + var1[2, 0:3][1] @ 0.6 + var1[2, 0:3][2] <= 1.0\n",
      "0.0 <= var1[2, 0:3][0] @ 0.5 + var1[2, 0:3][1] @ 0.7 + var1[2, 0:3][2]\n",
      "var1[2, 0:3][0] @ 0.5 + var1[2, 0:3][1] @ 0.7 + var1[2, 0:3][2] <= 1.0\n",
      "0.0 <= var1[2, 0:3][0] @ 0.1 + var1[2, 0:3][1] @ 0.5 + var1[2, 0:3][2]\n",
      "var1[2, 0:3][0] @ 0.1 + var1[2, 0:3][1] @ 0.5 + var1[2, 0:3][2] <= 1.0\n",
      "0.0 <= var1[2, 0:3][0] @ 0.3 + var1[2, 0:3][1] @ 0.7 + var1[2, 0:3][2]\n",
      "var1[2, 0:3][0] @ 0.3 + var1[2, 0:3][1] @ 0.7 + var1[2, 0:3][2] <= 1.0\n",
      "0.0 <= var1[2, 0:3][0] @ 0.5 + var1[2, 0:3][1] @ 0.4 + var1[2, 0:3][2]\n",
      "var1[2, 0:3][0] @ 0.5 + var1[2, 0:3][1] @ 0.4 + var1[2, 0:3][2] <= 1.0\n",
      "0.0 <= var1[2, 0:3][0] @ 0.8 + var1[2, 0:3][1] @ 0.3 + var1[2, 0:3][2]\n",
      "var1[2, 0:3][0] @ 0.8 + var1[2, 0:3][1] @ 0.3 + var1[2, 0:3][2] <= 1.0\n",
      "0.0 <= var1[2, 0:3][0] @ 0.9 + var1[2, 0:3][1] @ 0.2 + var1[2, 0:3][2]\n",
      "var1[2, 0:3][0] @ 0.9 + var1[2, 0:3][1] @ 0.2 + var1[2, 0:3][2] <= 1.0\n",
      "0.0 <= var1[2, 0:3][0] @ 1.0 + var1[2, 0:3][1] @ 0.5 + var1[2, 0:3][2]\n",
      "var1[2, 0:3][0] @ 1.0 + var1[2, 0:3][1] @ 0.5 + var1[2, 0:3][2] <= 1.0\n"
     ]
    }
   ],
   "source": [
    "for constraint in constraints:\n",
    "    print(constraint)"
   ]
  },
  {
   "cell_type": "code",
   "execution_count": 14,
   "metadata": {},
   "outputs": [
    {
     "name": "stdout",
     "output_type": "stream",
     "text": [
      "minimize 0.5 @ power(Pnorm(var1[0, 0:3], 2), 2.0) + 0.5 @ power(Pnorm(var1[1, 0:3], 2), 2.0) + 0.5 @ power(Pnorm(var1[2, 0:3], 2), 2.0) + 10.0 @ var2[0, 0] + 10.0 @ var2[0, 1] + 10.0 @ var2[0, 2] + 10.0 @ var2[0, 3] + 10.0 @ var2[1, 0] + 10.0 @ var2[1, 1] + 10.0 @ var2[1, 2] + 10.0 @ var2[1, 3] + 10.0 @ var2[2, 0] + 10.0 @ var2[2, 1] + 10.0 @ var2[2, 2] + 10.0 @ var2[2, 3] + 10.0 @ var3[0, 0] + 10.0 @ var3[1, 0]\n"
     ]
    }
   ],
   "source": [
    "print(objective)"
   ]
  },
  {
   "cell_type": "code",
   "execution_count": null,
   "metadata": {},
   "outputs": [],
   "source": []
  },
  {
   "cell_type": "code",
   "execution_count": 4,
   "metadata": {},
   "outputs": [
    {
     "data": {
      "image/png": "[encoded data removed]",
      "text/plain": [
       "<Figure size 600x400 with 1 Axes>"
      ]
     },
     "metadata": {},
     "output_type": "display_data"
    }
   ],
   "source": [
    "visualize_result(problem_instance)"
   ]
  },
  {
   "cell_type": "code",
   "execution_count": null,
   "metadata": {},
   "outputs": [],
   "source": []
  },
  {
   "cell_type": "code",
   "execution_count": 12,
   "metadata": {},
   "outputs": [
    {
     "data": {
      "text/plain": [
       "array([[ 7.50000000e-01,  2.00000000e+00, -1.07500000e+00],\n",
       "       [ 6.97674418e-01,  1.86046512e+00, -6.27906977e-01],\n",
       "       [-1.39351615e-10,  2.00000000e+00, -4.00000000e-01]])"
      ]
     },
     "execution_count": 12,
     "metadata": {},
     "output_type": "execute_result"
    }
   ],
   "source": [
    "problem_instance.w_j.value"
   ]
  },
  {
   "cell_type": "code",
   "execution_count": 6,
   "metadata": {},
   "outputs": [
    {
     "data": {
      "text/plain": [
       "array([[0.],\n",
       "       [0.]])"
      ]
     },
     "execution_count": 6,
     "metadata": {},
     "output_type": "execute_result"
    }
   ],
   "source": [
    "problem_instance.xi_h.value"
   ]
  },
  {
   "cell_type": "code",
   "execution_count": 9,
   "metadata": {},
   "outputs": [
    {
     "data": {
      "text/plain": [
       "array([[2.05416202e-12, 2.50000000e-02, 2.50000000e-01, 0.00000000e+00],\n",
       "       [0.00000000e+00, 5.34883721e-01, 0.00000000e+00, 2.32558140e-02],\n",
       "       [6.18647558e-11, 2.00000000e-01, 2.00000000e-01, 1.93230835e-11]])"
      ]
     },
     "execution_count": 9,
     "metadata": {},
     "output_type": "execute_result"
    }
   ],
   "source": [
    "problem_instance.xi_jl.value"
   ]
  },
  {
   "cell_type": "code",
   "execution_count": null,
   "metadata": {},
   "outputs": [],
   "source": []
  }
 ],
 "metadata": {
  "kernelspec": {
   "display_name": "myenv",
   "language": "python",
   "name": "python3"
  },
  "language_info": {
   "codemirror_mode": {
    "name": "ipython",
    "version": 3
   },
   "file_extension": ".py",
   "mimetype": "text/x-python",
   "name": "python",
   "nbconvert_exporter": "python",
   "pygments_lexer": "ipython3",
   "version": "3.10.12"
  }
 },
 "nbformat": 4,
 "nbformat_minor": 2
}
