{
 "cells": [
  {
   "cell_type": "code",
   "execution_count": 27,
   "metadata": {},
   "outputs": [
    {
     "name": "stdout",
     "output_type": "stream",
     "text": [
      "The autoreload extension is already loaded. To reload it, use:\n",
      "  %reload_ext autoreload\n"
     ]
    }
   ],
   "source": [
    "%load_ext autoreload\n",
    "%autoreload 2\n",
    "\n",
    "import os\n",
    "\n",
    "import pandas as pd\n",
    "import numpy as np\n",
    "import matplotlib.pyplot as plt\n",
    "import cvxpy as cp\n",
    "\n",
    "from utils.misc import *\n",
    "\n",
    "\n",
    "%matplotlib inline"
   ]
  },
  {
   "cell_type": "code",
   "execution_count": 28,
   "metadata": {},
   "outputs": [
    {
     "name": "stdout",
     "output_type": "stream",
     "text": [
      "===============================================================================\n",
      "                                     CVXPY                                     \n",
      "                                     v1.3.2                                    \n",
      "===============================================================================\n",
      "(CVXPY) Oct 15 12:27:04 PM: Your problem has 23 variables, 84 constraints, and 0 parameters.\n",
      "(CVXPY) Oct 15 12:27:04 PM: It is compliant with the following grammars: DCP, DQCP\n",
      "(CVXPY) Oct 15 12:27:04 PM: (If you need to solve this problem multiple times, but with different data, consider using parameters.)\n",
      "(CVXPY) Oct 15 12:27:04 PM: CVXPY will first compile your problem; then, it will invoke a numerical solver to obtain a solution.\n",
      "-------------------------------------------------------------------------------\n",
      "                                  Compilation                                  \n",
      "-------------------------------------------------------------------------------\n",
      "(CVXPY) Oct 15 12:27:04 PM: Compiling problem (target solver=ECOS).\n",
      "(CVXPY) Oct 15 12:27:04 PM: Reduction chain: Dcp2Cone -> CvxAttr2Constr -> ConeMatrixStuffing -> ECOS\n",
      "(CVXPY) Oct 15 12:27:04 PM: Applying reduction Dcp2Cone\n"
     ]
    },
    {
     "name": "stdout",
     "output_type": "stream",
     "text": [
      "(CVXPY) Oct 15 12:27:04 PM: Applying reduction CvxAttr2Constr\n",
      "(CVXPY) Oct 15 12:27:04 PM: Applying reduction ConeMatrixStuffing\n",
      "(CVXPY) Oct 15 12:27:04 PM: Applying reduction ECOS\n",
      "(CVXPY) Oct 15 12:27:04 PM: Finished problem compilation (took 1.846e-01 seconds).\n",
      "-------------------------------------------------------------------------------\n",
      "                                Numerical solver                               \n",
      "-------------------------------------------------------------------------------\n",
      "(CVXPY) Oct 15 12:27:04 PM: Invoking solver ECOS  to obtain a solution.\n",
      "\n",
      "ECOS 2.0.10 - (C) embotech GmbH, Zurich Switzerland, 2012-15. Web: www.embotech.com/ECOS\n",
      "\n",
      "It     pcost       dcost      gap   pres   dres    k/t    mu     step   sigma     IR    |   BT\n",
      " 0  +7.166e+00  -3.598e+01  +3e+02  5e-01  8e-01  1e+00  3e+00    ---    ---    1  1  - |  -  - \n",
      " 1  +4.915e+00  -8.971e+00  +2e+02  2e-01  3e-01  1e+00  2e+00  0.5600  2e-01   1  1  1 |  0  0\n",
      " 2  +7.270e+00  +2.527e+00  +7e+01  5e-02  9e-02  7e-01  7e-01  0.7576  2e-01   2  1  2 |  0  0\n",
      " 3  +8.338e+00  +5.193e+00  +4e+01  4e-02  5e-02  3e-01  4e-01  0.6529  5e-01   2  2  2 |  0  0\n",
      " 4  +9.097e+00  +8.294e+00  +1e+01  8e-03  1e-02  4e-02  1e-01  0.9735  2e-01   2  2  1 |  0  0\n",
      " 5  +9.462e+00  +9.281e+00  +3e+00  2e-03  2e-03  9e-03  3e-02  0.8210  6e-02   2  1  1 |  0  0\n",
      " 6  +9.552e+00  +9.521e+00  +5e-01  3e-04  4e-04  1e-03  4e-03  0.8564  4e-02   2  1  1 |  0  0\n",
      " 7  +9.568e+00  +9.562e+00  +9e-02  6e-05  8e-05  3e-04  9e-04  0.8838  1e-01   2  1  1 |  0  0\n",
      " 8  +9.572e+00  +9.569e+00  +3e-02  2e-05  3e-05  8e-05  3e-04  0.7790  1e-01   3  1  1 |  0  0\n",
      " 9  +9.573e+00  +9.572e+00  +1e-02  8e-06  1e-05  3e-05  1e-04  0.8607  3e-01   3  1  1 |  0  0\n",
      "10  +9.573e+00  +9.573e+00  +1e-03  7e-07  9e-07  2e-06  1e-05  0.9225  1e-02   2  1  1 |  0  0\n",
      "11  +9.573e+00  +9.573e+00  +2e-04  1e-07  2e-07  4e-07  2e-06  0.8215  2e-02   1  1  1 |  0  0\n",
      "12  +9.573e+00  +9.573e+00  +4e-05  3e-08  4e-08  9e-08  4e-07  0.8534  8e-02   2  1  1 |  0  0\n",
      "13  +9.573e+00  +9.573e+00  +1e-06  8e-10  1e-09  3e-09  1e-08  0.9740  9e-04   1  1  1 |  0  0\n",
      "14  +9.573e+00  +9.573e+00  +1e-07  1e-10  1e-10  3e-10  1e-09  0.8923  2e-02   1  1  2 |  0  0\n",
      "15  +9.573e+00  +9.573e+00  +1e-08  8e-12  1e-11  3e-11  1e-10  0.9575  4e-02   1  1  2 |  0  0\n",
      "\n",
      "OPTIMAL (within feastol=1.0e-11, reltol=1.2e-09, abstol=1.2e-08).\n",
      "Runtime: 0.000761 seconds.\n",
      "\n",
      "-------------------------------------------------------------------------------\n",
      "                                    Summary                                    \n",
      "-------------------------------------------------------------------------------\n",
      "(CVXPY) Oct 15 12:27:04 PM: Problem status: optimal\n",
      "(CVXPY) Oct 15 12:27:04 PM: Optimal value: 9.573e+00\n",
      "(CVXPY) Oct 15 12:27:04 PM: Compilation took 1.846e-01 seconds\n",
      "(CVXPY) Oct 15 12:27:04 PM: Solver (including time spent in interface) took 1.139e-03 seconds\n"
     ]
    }
   ],
   "source": [
    "# load and convert data, describe problem settings, etc\n",
    "data_dir_path = './inputs/toy_data/'\n",
    "path_L1 = os.path.join(data_dir_path, 'L1.csv')\n",
    "path_L2 = os.path.join(data_dir_path, 'L2.csv')\n",
    "path_L3 = os.path.join(data_dir_path, 'L3.csv')\n",
    "path_U = os.path.join(data_dir_path, 'U.csv')\n",
    "\n",
    "df_L1 = pd.read_csv(path_L1, index_col=0)\n",
    "df_L2 = pd.read_csv(path_L2, index_col=0)\n",
    "df_L3 = pd.read_csv(path_L3, index_col=0)\n",
    "df_U = pd.read_csv(path_U, index_col=0)\n",
    "\n",
    "L1 = np.array(df_L1)\n",
    "L2 = np.array(df_L2)\n",
    "L3 = np.array(df_L3)\n",
    "\n",
    "L = np.stack([L1, L2, L3]) # data for pointwise constraint\n",
    "U = np.array(df_U) # data for logical constriant\n",
    "\n",
    "len_j = 3 # number of tasks (p の数)\n",
    "len_h = 2 # number of logical constraints considered (cardinality of KB)\n",
    "\n",
    "len_l = 4\n",
    "len_u = 6\n",
    "len_s = 10\n",
    "\n",
    "len_jl = 0 # number of pointwise constraints to be counted later\n",
    "\n",
    "\n",
    "len_l_list = [] # L_j の要素数のリスト\n",
    "len_s_list = [] # S_j の要素数のリスト\n",
    "S = [] # data for consistency constraints \n",
    "\n",
    "for i in range(len_j):\n",
    "    if len_h != 0:\n",
    "        u = len(U)\n",
    "        S_i = np.concatenate((L[i][:, :2], U), axis=0)\n",
    "        S.append(S_i)\n",
    "    else:\n",
    "        u = 0\n",
    "        S_i = L[i][:, :2]\n",
    "        S.append(S_i)\n",
    "    len_l_list.append(len(L[i]))\n",
    "    len_jl += len(L[i])\n",
    "    len_s_list.append(len(S_i))\n",
    "\n",
    "S = np.stack(S)\n",
    "\n",
    "\n",
    "c1 = 2.5 # degree of satisfaction for pointwise slacks\n",
    "c2 = 2.5 # degree of satisfaction for logical slacks\n",
    "\n",
    "\n",
    "w_j = cp.Variable(shape=(len_j, 3))\n",
    "xi_j_l = cp.Variable(shape=(len_j, len_l), nonneg=True)\n",
    "xi_h = cp.Variable(shape=(len_h, 1), nonneg=True)\n",
    "\n",
    "\n",
    "\n",
    "# 目的関数\n",
    "function = 0\n",
    "\n",
    "for j in range(len_j):\n",
    "    w = w_j[j]\n",
    "    function += 1/2 * (cp.norm2(w) ** 2)\n",
    "\n",
    "for j in range(len_j):\n",
    "    for l in range(len_l):\n",
    "        xi = xi_j_l[j, l]\n",
    "        function += c1 * xi\n",
    "\n",
    "for h in range(len_h):\n",
    "    xi = xi_h[h, 0]\n",
    "    function += c2 * xi\n",
    "\n",
    "objective_function = cp.Minimize(function)\n",
    "\n",
    "\n",
    "\n",
    "# 制約\n",
    "constraints = []\n",
    "\n",
    "class Predicate:\n",
    "    def __init__(self, w):\n",
    "        self.w1 = w[0]\n",
    "        self.w2 = w[1]\n",
    "        self.b = w[2]\n",
    "\n",
    "    def func(self, x):\n",
    "        x1, x2 = x[0], x[1]\n",
    "        return self.w1 * x1 + self.w2 * x2 + self.b\n",
    "    \n",
    "    def __call__(self, x):\n",
    "        x1, x2 = x[0], x[1]\n",
    "        return self.w1 * x1 + self.w2 * x2 + self.b\n",
    "\n",
    "# def predicate(x, w):\n",
    "#     x1, x2 = x[0], x[1]\n",
    "#     w1, w2, b = w[0], w[1], w[2]\n",
    "\n",
    "#     return w1 * x1 + w2 * x2 + b\n",
    "\n",
    "\n",
    "# pointwise\n",
    "for j in range(len_j):\n",
    "    w = w_j[j]\n",
    "    p = Predicate(w).func \n",
    "    # p = predicate\n",
    "\n",
    "    for l in range(len_l):\n",
    "        x = L[j][l, :2]\n",
    "        y = L[j][l, 2]\n",
    "\n",
    "        xi = xi_j_l[j, l]\n",
    "\n",
    "        constraints += [\n",
    "            y * (2 * p(x) - 1) >= 1 - 2 * xi\n",
    "            # y * (2 * p(x, w) - 1) >= 1 - 2 * xi\n",
    "        ]\n",
    "\n",
    "\n",
    "# # logical\n",
    "# for h in range(len_h):\n",
    "#     w_1 = w_j[h]\n",
    "#     w_2 = w_j[h + 1]\n",
    "\n",
    "#     p_j = Predicate(w_1).func\n",
    "#     p_k = Predicate(w_2).func\n",
    "#     # p = predicate\n",
    "\n",
    "#     xi = xi_h[h, 0]\n",
    "\n",
    "#     for u in range(len_u):\n",
    "#         x = U[u]\n",
    "\n",
    "#         constraints += [\n",
    "#             p_j(x) - p_k(x) <= xi,\n",
    "#             # p(x, w_1) - p(x, w_2) <= xi,\n",
    "#         ]\n",
    "\n",
    "# logical\n",
    "for u in range(len_u):\n",
    "    x = U[u]\n",
    "\n",
    "    for h in range(len_h):\n",
    "        w_1 = w_j[h]\n",
    "        w_2 = w_j[h + 1]\n",
    "\n",
    "        p_j = Predicate(w_1).func\n",
    "        p_k = Predicate(w_2).func\n",
    "\n",
    "        xi = xi_h[h, 0]\n",
    "\n",
    "        constraints += [\n",
    "            p_j(x) - p_k(x) <= xi\n",
    "        ]\n",
    "\n",
    "\n",
    "# consistency\n",
    "for j in range(len_j):\n",
    "    w = w_j[j]\n",
    "    p = Predicate(w).func\n",
    "    # p = predicate\n",
    "\n",
    "    for s in range(len_s):\n",
    "        x = S[j][s]\n",
    "\n",
    "        constraints += [\n",
    "            p(x) >= 0,\n",
    "            p(x) <= 1,\n",
    "            # p(x, w) >= 0,\n",
    "            # p(x, w) <= 1,\n",
    "        ]\n",
    "\n",
    "\n",
    "problem = cp.Problem(objective_function, constraints)\n",
    "result = problem.solve(verbose=True)"
   ]
  },
  {
   "cell_type": "code",
   "execution_count": 19,
   "metadata": {},
   "outputs": [
    {
     "data": {
      "image/png": "[encoded data removed]",
      "text/plain": [
       "<Figure size 600x400 with 1 Axes>"
      ]
     },
     "metadata": {},
     "output_type": "display_data"
    }
   ],
   "source": [
    "coeff_0 = w_j.value[0]\n",
    "coeff_1 = w_j.value[1]\n",
    "coeff_2 = w_j.value[2]\n",
    "coeffs = [coeff_0, coeff_1, coeff_2]\n",
    "\n",
    "\n",
    "def boundary_equation_2d(x1, coeff):\n",
    "    w1 = coeff[0]\n",
    "    w2 = coeff[1]\n",
    "    b = coeff[2]\n",
    "\n",
    "    x = np.hstack([x1, np.ones_like(x1)])\n",
    "    # w = np.array([-w1/w2, -b/w2]).reshape(-1,1)\n",
    "    w = np.array([-w1/w2, -b/w2 + 0.5/w2]).reshape(-1,1)\n",
    "\n",
    "    return x @ w\n",
    "\n",
    "test_x = np.linspace(0.05, 0.95, 100).reshape(-1,1)\n",
    "\n",
    "test_y_1 = boundary_equation_2d(test_x, coeff_0)\n",
    "test_y_2 = boundary_equation_2d(test_x, coeff_1)\n",
    "test_y_3 = boundary_equation_2d(test_x, coeff_2)\n",
    "\n",
    "\n",
    "\n",
    "plt.figure(figsize=(6,4))\n",
    "colors = ['blue', 'red', 'green']\n",
    "\n",
    "for j in range(len_j):\n",
    "    for l in range(4):\n",
    "        if L[j][l, 2] == 1:\n",
    "            plt.scatter(L[j][l, 0], L[j][l, 1], c=colors[j], marker='o', label='1')\n",
    "        else:\n",
    "            plt.scatter(L[j][l, 0], L[j][l, 1], facecolors='none', edgecolors=colors[j], marker='o', label='-1')\n",
    "\n",
    "plt.plot(test_x, test_y_1, label=\"p_1\")\n",
    "plt.plot(test_x, test_y_2, label=\"p_2\")\n",
    "plt.plot(test_x, test_y_3, label=\"p_3\")\n",
    "\n",
    "\n",
    "plt.xlabel(\"x1\")\n",
    "plt.ylabel(\"x2\")\n",
    "plt.legend()\n",
    "plt.grid(True)\n",
    "plt.show()"
   ]
  },
  {
   "cell_type": "code",
   "execution_count": null,
   "metadata": {},
   "outputs": [],
   "source": []
  },
  {
   "cell_type": "code",
   "execution_count": 20,
   "metadata": {},
   "outputs": [],
   "source": [
    "import copy"
   ]
  },
  {
   "cell_type": "code",
   "execution_count": 22,
   "metadata": {},
   "outputs": [
    {
     "name": "stdout",
     "output_type": "stream",
     "text": [
      "var11875\n",
      "var11876\n"
     ]
    }
   ],
   "source": [
    "var1 = cp.Variable()\n",
    "var2 = cp.Variable()\n",
    "\n",
    "print(var1)\n",
    "print(var2)"
   ]
  },
  {
   "cell_type": "code",
   "execution_count": 25,
   "metadata": {},
   "outputs": [
    {
     "name": "stdout",
     "output_type": "stream",
     "text": [
      "var11875\n",
      "var11875\n"
     ]
    }
   ],
   "source": [
    "tmp = [var1, var1]\n",
    "\n",
    "for item in tmp:\n",
    "    print(item)"
   ]
  },
  {
   "cell_type": "code",
   "execution_count": 26,
   "metadata": {},
   "outputs": [
    {
     "data": {
      "text/plain": [
       "[Variable(()), Variable(())]"
      ]
     },
     "execution_count": 26,
     "metadata": {},
     "output_type": "execute_result"
    }
   ],
   "source": [
    "copy.copy(tmp)"
   ]
  },
  {
   "cell_type": "code",
   "execution_count": null,
   "metadata": {},
   "outputs": [],
   "source": []
  },
  {
   "cell_type": "code",
   "execution_count": null,
   "metadata": {},
   "outputs": [],
   "source": []
  },
  {
   "cell_type": "code",
   "execution_count": null,
   "metadata": {},
   "outputs": [],
   "source": []
  },
  {
   "cell_type": "code",
   "execution_count": null,
   "metadata": {},
   "outputs": [],
   "source": []
  },
  {
   "cell_type": "code",
   "execution_count": 4,
   "metadata": {},
   "outputs": [
    {
     "name": "stdout",
     "output_type": "stream",
     "text": [
      "1.0 + -2.0 @ var2[0, 0] <= -1.0 @ (2.0 @ (var1[0, 0:3][0] @ 0.1 + var1[0, 0:3][1] @ 0.5 + var1[0, 0:3][2]) + -1.0)\n",
      "1.0 + -2.0 @ var2[0, 1] <= -1.0 @ (2.0 @ (var1[0, 0:3][0] @ 0.4 + var1[0, 0:3][1] @ 0.4 + var1[0, 0:3][2]) + -1.0)\n",
      "1.0 + -2.0 @ var2[0, 2] <= 1.0 @ (2.0 @ (var1[0, 0:3][0] @ 0.3 + var1[0, 0:3][1] @ 0.8 + var1[0, 0:3][2]) + -1.0)\n",
      "1.0 + -2.0 @ var2[0, 3] <= 1.0 @ (2.0 @ (var1[0, 0:3][0] @ 0.9 + var1[0, 0:3][1] @ 0.7 + var1[0, 0:3][2]) + -1.0)\n",
      "1.0 + -2.0 @ var2[1, 0] <= -1.0 @ (2.0 @ (var1[1, 0:3][0] @ 0.1 + var1[1, 0:3][1] @ 0.3 + var1[1, 0:3][2]) + -1.0)\n",
      "1.0 + -2.0 @ var2[1, 1] <= -1.0 @ (2.0 @ (var1[1, 0:3][0] @ 0.6 + var1[1, 0:3][1] @ 0.4 + var1[1, 0:3][2]) + -1.0)\n",
      "1.0 + -2.0 @ var2[1, 2] <= 1.0 @ (2.0 @ (var1[1, 0:3][0] @ 0.2 + var1[1, 0:3][1] @ 0.8 + var1[1, 0:3][2]) + -1.0)\n",
      "1.0 + -2.0 @ var2[1, 3] <= 1.0 @ (2.0 @ (var1[1, 0:3][0] @ 0.7 + var1[1, 0:3][1] @ 0.6 + var1[1, 0:3][2]) + -1.0)\n",
      "1.0 + -2.0 @ var2[2, 0] <= -1.0 @ (2.0 @ (var1[2, 0:3][0] @ 0.4 + var1[2, 0:3][1] @ 0.2 + var1[2, 0:3][2]) + -1.0)\n",
      "1.0 + -2.0 @ var2[2, 1] <= -1.0 @ (2.0 @ (var1[2, 0:3][0] @ 0.9 + var1[2, 0:3][1] @ 0.3 + var1[2, 0:3][2]) + -1.0)\n",
      "1.0 + -2.0 @ var2[2, 2] <= 1.0 @ (2.0 @ (var1[2, 0:3][0] @ 0.2 + var1[2, 0:3][1] @ 0.6 + var1[2, 0:3][2]) + -1.0)\n",
      "1.0 + -2.0 @ var2[2, 3] <= 1.0 @ (2.0 @ (var1[2, 0:3][0] @ 0.5 + var1[2, 0:3][1] @ 0.7 + var1[2, 0:3][2]) + -1.0)\n",
      "var1[0, 0:3][0] @ 0.1 + var1[0, 0:3][1] @ 0.5 + var1[0, 0:3][2] + -var1[1, 0:3][0] @ 0.1 + var1[1, 0:3][1] @ 0.5 + var1[1, 0:3][2] <= var3[0, 0]\n",
      "var1[1, 0:3][0] @ 0.1 + var1[1, 0:3][1] @ 0.5 + var1[1, 0:3][2] + -var1[2, 0:3][0] @ 0.1 + var1[2, 0:3][1] @ 0.5 + var1[2, 0:3][2] <= var3[1, 0]\n",
      "var1[0, 0:3][0] @ 0.3 + var1[0, 0:3][1] @ 0.7 + var1[0, 0:3][2] + -var1[1, 0:3][0] @ 0.3 + var1[1, 0:3][1] @ 0.7 + var1[1, 0:3][2] <= var3[0, 0]\n",
      "var1[1, 0:3][0] @ 0.3 + var1[1, 0:3][1] @ 0.7 + var1[1, 0:3][2] + -var1[2, 0:3][0] @ 0.3 + var1[2, 0:3][1] @ 0.7 + var1[2, 0:3][2] <= var3[1, 0]\n",
      "var1[0, 0:3][0] @ 0.5 + var1[0, 0:3][1] @ 0.4 + var1[0, 0:3][2] + -var1[1, 0:3][0] @ 0.5 + var1[1, 0:3][1] @ 0.4 + var1[1, 0:3][2] <= var3[0, 0]\n",
      "var1[1, 0:3][0] @ 0.5 + var1[1, 0:3][1] @ 0.4 + var1[1, 0:3][2] + -var1[2, 0:3][0] @ 0.5 + var1[2, 0:3][1] @ 0.4 + var1[2, 0:3][2] <= var3[1, 0]\n",
      "var1[0, 0:3][0] @ 0.8 + var1[0, 0:3][1] @ 0.3 + var1[0, 0:3][2] + -var1[1, 0:3][0] @ 0.8 + var1[1, 0:3][1] @ 0.3 + var1[1, 0:3][2] <= var3[0, 0]\n",
      "var1[1, 0:3][0] @ 0.8 + var1[1, 0:3][1] @ 0.3 + var1[1, 0:3][2] + -var1[2, 0:3][0] @ 0.8 + var1[2, 0:3][1] @ 0.3 + var1[2, 0:3][2] <= var3[1, 0]\n",
      "var1[0, 0:3][0] @ 0.9 + var1[0, 0:3][1] @ 0.2 + var1[0, 0:3][2] + -var1[1, 0:3][0] @ 0.9 + var1[1, 0:3][1] @ 0.2 + var1[1, 0:3][2] <= var3[0, 0]\n",
      "var1[1, 0:3][0] @ 0.9 + var1[1, 0:3][1] @ 0.2 + var1[1, 0:3][2] + -var1[2, 0:3][0] @ 0.9 + var1[2, 0:3][1] @ 0.2 + var1[2, 0:3][2] <= var3[1, 0]\n",
      "var1[0, 0:3][0] @ 1.0 + var1[0, 0:3][1] @ 0.5 + var1[0, 0:3][2] + -var1[1, 0:3][0] @ 1.0 + var1[1, 0:3][1] @ 0.5 + var1[1, 0:3][2] <= var3[0, 0]\n",
      "var1[1, 0:3][0] @ 1.0 + var1[1, 0:3][1] @ 0.5 + var1[1, 0:3][2] + -var1[2, 0:3][0] @ 1.0 + var1[2, 0:3][1] @ 0.5 + var1[2, 0:3][2] <= var3[1, 0]\n",
      "0.0 <= var1[0, 0:3][0] @ 0.1 + var1[0, 0:3][1] @ 0.5 + var1[0, 0:3][2]\n",
      "var1[0, 0:3][0] @ 0.1 + var1[0, 0:3][1] @ 0.5 + var1[0, 0:3][2] <= 1.0\n",
      "0.0 <= var1[0, 0:3][0] @ 0.4 + var1[0, 0:3][1] @ 0.4 + var1[0, 0:3][2]\n",
      "var1[0, 0:3][0] @ 0.4 + var1[0, 0:3][1] @ 0.4 + var1[0, 0:3][2] <= 1.0\n",
      "0.0 <= var1[0, 0:3][0] @ 0.3 + var1[0, 0:3][1] @ 0.8 + var1[0, 0:3][2]\n",
      "var1[0, 0:3][0] @ 0.3 + var1[0, 0:3][1] @ 0.8 + var1[0, 0:3][2] <= 1.0\n",
      "0.0 <= var1[0, 0:3][0] @ 0.9 + var1[0, 0:3][1] @ 0.7 + var1[0, 0:3][2]\n",
      "var1[0, 0:3][0] @ 0.9 + var1[0, 0:3][1] @ 0.7 + var1[0, 0:3][2] <= 1.0\n",
      "0.0 <= var1[0, 0:3][0] @ 0.1 + var1[0, 0:3][1] @ 0.5 + var1[0, 0:3][2]\n",
      "var1[0, 0:3][0] @ 0.1 + var1[0, 0:3][1] @ 0.5 + var1[0, 0:3][2] <= 1.0\n",
      "0.0 <= var1[0, 0:3][0] @ 0.3 + var1[0, 0:3][1] @ 0.7 + var1[0, 0:3][2]\n",
      "var1[0, 0:3][0] @ 0.3 + var1[0, 0:3][1] @ 0.7 + var1[0, 0:3][2] <= 1.0\n",
      "0.0 <= var1[0, 0:3][0] @ 0.5 + var1[0, 0:3][1] @ 0.4 + var1[0, 0:3][2]\n",
      "var1[0, 0:3][0] @ 0.5 + var1[0, 0:3][1] @ 0.4 + var1[0, 0:3][2] <= 1.0\n",
      "0.0 <= var1[0, 0:3][0] @ 0.8 + var1[0, 0:3][1] @ 0.3 + var1[0, 0:3][2]\n",
      "var1[0, 0:3][0] @ 0.8 + var1[0, 0:3][1] @ 0.3 + var1[0, 0:3][2] <= 1.0\n",
      "0.0 <= var1[0, 0:3][0] @ 0.9 + var1[0, 0:3][1] @ 0.2 + var1[0, 0:3][2]\n",
      "var1[0, 0:3][0] @ 0.9 + var1[0, 0:3][1] @ 0.2 + var1[0, 0:3][2] <= 1.0\n",
      "0.0 <= var1[0, 0:3][0] @ 1.0 + var1[0, 0:3][1] @ 0.5 + var1[0, 0:3][2]\n",
      "var1[0, 0:3][0] @ 1.0 + var1[0, 0:3][1] @ 0.5 + var1[0, 0:3][2] <= 1.0\n",
      "0.0 <= var1[1, 0:3][0] @ 0.1 + var1[1, 0:3][1] @ 0.3 + var1[1, 0:3][2]\n",
      "var1[1, 0:3][0] @ 0.1 + var1[1, 0:3][1] @ 0.3 + var1[1, 0:3][2] <= 1.0\n",
      "0.0 <= var1[1, 0:3][0] @ 0.6 + var1[1, 0:3][1] @ 0.4 + var1[1, 0:3][2]\n",
      "var1[1, 0:3][0] @ 0.6 + var1[1, 0:3][1] @ 0.4 + var1[1, 0:3][2] <= 1.0\n",
      "0.0 <= var1[1, 0:3][0] @ 0.2 + var1[1, 0:3][1] @ 0.8 + var1[1, 0:3][2]\n",
      "var1[1, 0:3][0] @ 0.2 + var1[1, 0:3][1] @ 0.8 + var1[1, 0:3][2] <= 1.0\n",
      "0.0 <= var1[1, 0:3][0] @ 0.7 + var1[1, 0:3][1] @ 0.6 + var1[1, 0:3][2]\n",
      "var1[1, 0:3][0] @ 0.7 + var1[1, 0:3][1] @ 0.6 + var1[1, 0:3][2] <= 1.0\n",
      "0.0 <= var1[1, 0:3][0] @ 0.1 + var1[1, 0:3][1] @ 0.5 + var1[1, 0:3][2]\n",
      "var1[1, 0:3][0] @ 0.1 + var1[1, 0:3][1] @ 0.5 + var1[1, 0:3][2] <= 1.0\n",
      "0.0 <= var1[1, 0:3][0] @ 0.3 + var1[1, 0:3][1] @ 0.7 + var1[1, 0:3][2]\n",
      "var1[1, 0:3][0] @ 0.3 + var1[1, 0:3][1] @ 0.7 + var1[1, 0:3][2] <= 1.0\n",
      "0.0 <= var1[1, 0:3][0] @ 0.5 + var1[1, 0:3][1] @ 0.4 + var1[1, 0:3][2]\n",
      "var1[1, 0:3][0] @ 0.5 + var1[1, 0:3][1] @ 0.4 + var1[1, 0:3][2] <= 1.0\n",
      "0.0 <= var1[1, 0:3][0] @ 0.8 + var1[1, 0:3][1] @ 0.3 + var1[1, 0:3][2]\n",
      "var1[1, 0:3][0] @ 0.8 + var1[1, 0:3][1] @ 0.3 + var1[1, 0:3][2] <= 1.0\n",
      "0.0 <= var1[1, 0:3][0] @ 0.9 + var1[1, 0:3][1] @ 0.2 + var1[1, 0:3][2]\n",
      "var1[1, 0:3][0] @ 0.9 + var1[1, 0:3][1] @ 0.2 + var1[1, 0:3][2] <= 1.0\n",
      "0.0 <= var1[1, 0:3][0] @ 1.0 + var1[1, 0:3][1] @ 0.5 + var1[1, 0:3][2]\n",
      "var1[1, 0:3][0] @ 1.0 + var1[1, 0:3][1] @ 0.5 + var1[1, 0:3][2] <= 1.0\n",
      "0.0 <= var1[2, 0:3][0] @ 0.4 + var1[2, 0:3][1] @ 0.2 + var1[2, 0:3][2]\n",
      "var1[2, 0:3][0] @ 0.4 + var1[2, 0:3][1] @ 0.2 + var1[2, 0:3][2] <= 1.0\n",
      "0.0 <= var1[2, 0:3][0] @ 0.9 + var1[2, 0:3][1] @ 0.3 + var1[2, 0:3][2]\n",
      "var1[2, 0:3][0] @ 0.9 + var1[2, 0:3][1] @ 0.3 + var1[2, 0:3][2] <= 1.0\n",
      "0.0 <= var1[2, 0:3][0] @ 0.2 + var1[2, 0:3][1] @ 0.6 + var1[2, 0:3][2]\n",
      "var1[2, 0:3][0] @ 0.2 + var1[2, 0:3][1] @ 0.6 + var1[2, 0:3][2] <= 1.0\n",
      "0.0 <= var1[2, 0:3][0] @ 0.5 + var1[2, 0:3][1] @ 0.7 + var1[2, 0:3][2]\n",
      "var1[2, 0:3][0] @ 0.5 + var1[2, 0:3][1] @ 0.7 + var1[2, 0:3][2] <= 1.0\n",
      "0.0 <= var1[2, 0:3][0] @ 0.1 + var1[2, 0:3][1] @ 0.5 + var1[2, 0:3][2]\n",
      "var1[2, 0:3][0] @ 0.1 + var1[2, 0:3][1] @ 0.5 + var1[2, 0:3][2] <= 1.0\n",
      "0.0 <= var1[2, 0:3][0] @ 0.3 + var1[2, 0:3][1] @ 0.7 + var1[2, 0:3][2]\n",
      "var1[2, 0:3][0] @ 0.3 + var1[2, 0:3][1] @ 0.7 + var1[2, 0:3][2] <= 1.0\n",
      "0.0 <= var1[2, 0:3][0] @ 0.5 + var1[2, 0:3][1] @ 0.4 + var1[2, 0:3][2]\n",
      "var1[2, 0:3][0] @ 0.5 + var1[2, 0:3][1] @ 0.4 + var1[2, 0:3][2] <= 1.0\n",
      "0.0 <= var1[2, 0:3][0] @ 0.8 + var1[2, 0:3][1] @ 0.3 + var1[2, 0:3][2]\n",
      "var1[2, 0:3][0] @ 0.8 + var1[2, 0:3][1] @ 0.3 + var1[2, 0:3][2] <= 1.0\n",
      "0.0 <= var1[2, 0:3][0] @ 0.9 + var1[2, 0:3][1] @ 0.2 + var1[2, 0:3][2]\n",
      "var1[2, 0:3][0] @ 0.9 + var1[2, 0:3][1] @ 0.2 + var1[2, 0:3][2] <= 1.0\n",
      "0.0 <= var1[2, 0:3][0] @ 1.0 + var1[2, 0:3][1] @ 0.5 + var1[2, 0:3][2]\n",
      "var1[2, 0:3][0] @ 1.0 + var1[2, 0:3][1] @ 0.5 + var1[2, 0:3][2] <= 1.0\n"
     ]
    }
   ],
   "source": [
    "for constraint in constraints:\n",
    "    print(constraint)"
   ]
  },
  {
   "cell_type": "code",
   "execution_count": 12,
   "metadata": {},
   "outputs": [
    {
     "name": "stdout",
     "output_type": "stream",
     "text": [
      "minimize 0.5 @ power(Pnorm(var1[0, 0:3], 2), 2.0) + 0.5 @ power(Pnorm(var1[1, 0:3], 2), 2.0) + 0.5 @ power(Pnorm(var1[2, 0:3], 2), 2.0) + 100.0 @ var2[0, 0] + 100.0 @ var2[0, 1] + 100.0 @ var2[0, 2] + 100.0 @ var2[0, 3] + 100.0 @ var2[1, 0] + 100.0 @ var2[1, 1] + 100.0 @ var2[1, 2] + 100.0 @ var2[1, 3] + 100.0 @ var2[2, 0] + 100.0 @ var2[2, 1] + 100.0 @ var2[2, 2] + 100.0 @ var2[2, 3] + 100.0 @ var3[0, 0] + 100.0 @ var3[1, 0]\n"
     ]
    }
   ],
   "source": [
    "print(objective_function)"
   ]
  },
  {
   "cell_type": "code",
   "execution_count": 11,
   "metadata": {},
   "outputs": [
    {
     "data": {
      "text/plain": [
       "array([[ 7.50000000e-01,  2.00000000e+00, -1.07500000e+00],\n",
       "       [ 3.19767442e-01,  1.93604651e+00, -6.12790698e-01],\n",
       "       [ 1.73122236e-11,  2.00000000e+00, -4.00000000e-01]])"
      ]
     },
     "execution_count": 11,
     "metadata": {},
     "output_type": "execute_result"
    }
   ],
   "source": [
    "w_j.value"
   ]
  },
  {
   "cell_type": "code",
   "execution_count": 9,
   "metadata": {},
   "outputs": [
    {
     "name": "stdout",
     "output_type": "stream",
     "text": [
      "var2\n"
     ]
    }
   ],
   "source": [
    "print(xi_j_l)"
   ]
  },
  {
   "cell_type": "code",
   "execution_count": 8,
   "metadata": {},
   "outputs": [
    {
     "name": "stdout",
     "output_type": "stream",
     "text": [
      "var3\n"
     ]
    }
   ],
   "source": [
    "print(xi_h)"
   ]
  },
  {
   "cell_type": "code",
   "execution_count": 6,
   "metadata": {},
   "outputs": [
    {
     "data": {
      "text/plain": [
       "array([[9.47138399e-11],\n",
       "       [7.49999999e-02]])"
      ]
     },
     "execution_count": 6,
     "metadata": {},
     "output_type": "execute_result"
    }
   ],
   "source": [
    "xi_h.value"
   ]
  },
  {
   "cell_type": "code",
   "execution_count": 7,
   "metadata": {},
   "outputs": [
    {
     "data": {
      "text/plain": [
       "array([[0.        , 0.025     , 0.25      , 0.        ],\n",
       "       [0.        , 0.35348837, 0.        , 0.22732558],\n",
       "       [0.        , 0.2       , 0.2       , 0.        ]])"
      ]
     },
     "execution_count": 7,
     "metadata": {},
     "output_type": "execute_result"
    }
   ],
   "source": [
    "xi_j_l.value"
   ]
  },
  {
   "cell_type": "code",
   "execution_count": null,
   "metadata": {},
   "outputs": [],
   "source": [
    "-var1[1, 0:3][0] @ 0.1 + \n",
    "var1[0, 0:3][0] @ 0.1 + \n",
    "var1[0, 0:3][1] @ 0.5 + \n",
    "var1[0, 0:3][2] + \n",
    "var1[1, 0:3][1] @ 0.5 + \n",
    "var1[1, 0:3][2] <= \n",
    "var3[0, 0]"
   ]
  },
  {
   "cell_type": "code",
   "execution_count": null,
   "metadata": {},
   "outputs": [],
   "source": [
    "var1[0, 0:3][0] @ 0.1 + var1[0, 0:3][1] @ 0.5 + var1[0, 0:3][2] + -var1[1, 0:3][0] @ 0.1 + var1[1, 0:3][1] @ 0.5 + var1[1, 0:3][2] <= var3[0, 0]\n",
    "var1[0, 0:3][0] @ 0.3 + var1[0, 0:3][1] @ 0.7 + var1[0, 0:3][2] + -var1[1, 0:3][0] @ 0.3 + var1[1, 0:3][1] @ 0.7 + var1[1, 0:3][2] <= var3[0, 0]\n",
    "var1[0, 0:3][0] @ 0.5 + var1[0, 0:3][1] @ 0.4 + var1[0, 0:3][2] + -var1[1, 0:3][0] @ 0.5 + var1[1, 0:3][1] @ 0.4 + var1[1, 0:3][2] <= var3[0, 0]\n",
    "var1[0, 0:3][0] @ 0.8 + var1[0, 0:3][1] @ 0.3 + var1[0, 0:3][2] + -var1[1, 0:3][0] @ 0.8 + var1[1, 0:3][1] @ 0.3 + var1[1, 0:3][2] <= var3[0, 0]\n",
    "var1[0, 0:3][0] @ 0.9 + var1[0, 0:3][1] @ 0.2 + var1[0, 0:3][2] + -var1[1, 0:3][0] @ 0.9 + var1[1, 0:3][1] @ 0.2 + var1[1, 0:3][2] <= var3[0, 0]\n",
    "var1[0, 0:3][0] @ 1.0 + var1[0, 0:3][1] @ 0.5 + var1[0, 0:3][2] + -var1[1, 0:3][0] @ 1.0 + var1[1, 0:3][1] @ 0.5 + var1[1, 0:3][2] <= var3[0, 0]\n",
    "var1[1, 0:3][0] @ 0.1 + var1[1, 0:3][1] @ 0.5 + var1[1, 0:3][2] + -var1[2, 0:3][0] @ 0.1 + var1[2, 0:3][1] @ 0.5 + var1[2, 0:3][2] <= var3[1, 0]\n",
    "var1[1, 0:3][0] @ 0.3 + var1[1, 0:3][1] @ 0.7 + var1[1, 0:3][2] + -var1[2, 0:3][0] @ 0.3 + var1[2, 0:3][1] @ 0.7 + var1[2, 0:3][2] <= var3[1, 0]\n",
    "var1[1, 0:3][0] @ 0.5 + var1[1, 0:3][1] @ 0.4 + var1[1, 0:3][2] + -var1[2, 0:3][0] @ 0.5 + var1[2, 0:3][1] @ 0.4 + var1[2, 0:3][2] <= var3[1, 0]\n",
    "var1[1, 0:3][0] @ 0.8 + var1[1, 0:3][1] @ 0.3 + var1[1, 0:3][2] + -var1[2, 0:3][0] @ 0.8 + var1[2, 0:3][1] @ 0.3 + var1[2, 0:3][2] <= var3[1, 0]\n",
    "var1[1, 0:3][0] @ 0.9 + var1[1, 0:3][1] @ 0.2 + var1[1, 0:3][2] + -var1[2, 0:3][0] @ 0.9 + var1[2, 0:3][1] @ 0.2 + var1[2, 0:3][2] <= var3[1, 0]\n",
    "var1[1, 0:3][0] @ 1.0 + var1[1, 0:3][1] @ 0.5 + var1[1, 0:3][2] + -var1[2, 0:3][0] @ 1.0 + var1[2, 0:3][1] @ 0.5 + var1[2, 0:3][2] <= var3[1, 0]"
   ]
  },
  {
   "cell_type": "code",
   "execution_count": null,
   "metadata": {},
   "outputs": [],
   "source": []
  },
  {
   "cell_type": "code",
   "execution_count": null,
   "metadata": {},
   "outputs": [],
   "source": []
  },
  {
   "cell_type": "code",
   "execution_count": null,
   "metadata": {},
   "outputs": [],
   "source": []
  },
  {
   "cell_type": "code",
   "execution_count": null,
   "metadata": {},
   "outputs": [],
   "source": []
  }
 ],
 "metadata": {
  "kernelspec": {
   "display_name": "myenv",
   "language": "python",
   "name": "python3"
  },
  "language_info": {
   "codemirror_mode": {
    "name": "ipython",
    "version": 3
   },
   "file_extension": ".py",
   "mimetype": "text/x-python",
   "name": "python",
   "nbconvert_exporter": "python",
   "pygments_lexer": "ipython3",
   "version": "3.10.12"
  },
  "orig_nbformat": 4
 },
 "nbformat": 4,
 "nbformat_minor": 2
}
