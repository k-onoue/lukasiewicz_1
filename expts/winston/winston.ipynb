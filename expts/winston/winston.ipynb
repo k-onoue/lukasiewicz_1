{
 "cells": [
  {
   "cell_type": "code",
   "execution_count": 1,
   "metadata": {},
   "outputs": [],
   "source": [
    "%load_ext autoreload\n",
    "%autoreload 2"
   ]
  },
  {
   "cell_type": "code",
   "execution_count": 64,
   "metadata": {},
   "outputs": [],
   "source": [
    "import os\n",
    "import time\n",
    "\n",
    "import numpy as np\n",
    "import pandas as pd\n",
    "import cvxpy as cp\n",
    "\n",
    "from utils.format_winston_data import WinstonDataFormatter\n",
    "from utils.format_winston_data import generate_and_save_unsupervised_data\n",
    "\n",
    "from utils.setup_problem import Setup"
   ]
  },
  {
   "cell_type": "markdown",
   "metadata": {},
   "source": [
    "# データの準備"
   ]
  },
  {
   "cell_type": "code",
   "execution_count": 11,
   "metadata": {},
   "outputs": [
    {
     "name": "stdout",
     "output_type": "stream",
     "text": [
      "Done!\n",
      "Done!\n"
     ]
    },
    {
     "data": {
      "text/html": [
       "<div>\n",
       "<style scoped>\n",
       "    .dataframe tbody tr th:only-of-type {\n",
       "        vertical-align: middle;\n",
       "    }\n",
       "\n",
       "    .dataframe tbody tr th {\n",
       "        vertical-align: top;\n",
       "    }\n",
       "\n",
       "    .dataframe thead th {\n",
       "        text-align: right;\n",
       "    }\n",
       "</style>\n",
       "<table border=\"1\" class=\"dataframe\">\n",
       "  <thead>\n",
       "    <tr style=\"text-align: right;\">\n",
       "      <th></th>\n",
       "      <th>R</th>\n",
       "      <th>G</th>\n",
       "      <th>B</th>\n",
       "      <th>label</th>\n",
       "    </tr>\n",
       "  </thead>\n",
       "  <tbody>\n",
       "    <tr>\n",
       "      <th>0</th>\n",
       "      <td>0.486640</td>\n",
       "      <td>0.440085</td>\n",
       "      <td>0.342231</td>\n",
       "      <td>-1.0</td>\n",
       "    </tr>\n",
       "    <tr>\n",
       "      <th>1</th>\n",
       "      <td>0.427333</td>\n",
       "      <td>0.406967</td>\n",
       "      <td>0.376660</td>\n",
       "      <td>-1.0</td>\n",
       "    </tr>\n",
       "    <tr>\n",
       "      <th>2</th>\n",
       "      <td>0.509321</td>\n",
       "      <td>0.512104</td>\n",
       "      <td>0.398580</td>\n",
       "      <td>-1.0</td>\n",
       "    </tr>\n",
       "    <tr>\n",
       "      <th>3</th>\n",
       "      <td>0.581645</td>\n",
       "      <td>0.572609</td>\n",
       "      <td>0.549550</td>\n",
       "      <td>-1.0</td>\n",
       "    </tr>\n",
       "    <tr>\n",
       "      <th>4</th>\n",
       "      <td>0.505475</td>\n",
       "      <td>0.517679</td>\n",
       "      <td>0.422280</td>\n",
       "      <td>-1.0</td>\n",
       "    </tr>\n",
       "  </tbody>\n",
       "</table>\n",
       "</div>"
      ],
      "text/plain": [
       "          R         G         B  label\n",
       "0  0.486640  0.440085  0.342231   -1.0\n",
       "1  0.427333  0.406967  0.376660   -1.0\n",
       "2  0.509321  0.512104  0.398580   -1.0\n",
       "3  0.581645  0.572609  0.549550   -1.0\n",
       "4  0.505475  0.517679  0.422280   -1.0"
      ]
     },
     "metadata": {},
     "output_type": "display_data"
    },
    {
     "name": "stdout",
     "output_type": "stream",
     "text": [
      "(6500, 4)\n"
     ]
    }
   ],
   "source": [
    "source_dir_path = \"./data\"\n",
    "save_dir_path = \"./inputs/winston_full\"\n",
    "\n",
    "data_formatter = WinstonDataFormatter(source_dir_path)\n",
    "data_formatter.format_and_save_data(save_dir_path)\n",
    "\n",
    "generate_and_save_unsupervised_data(save_dir_path,\n",
    "                                    data_num=20,\n",
    "                                    data_dim=3)\n",
    "\n",
    "df_test = pd.read_csv(os.path.join(save_dir_path, \"L_albatross(x).csv\"), index_col=0)\n",
    "display(df_test.head())\n",
    "print(df_test.shape)"
   ]
  },
  {
   "cell_type": "code",
   "execution_count": 16,
   "metadata": {},
   "outputs": [
    {
     "name": "stdout",
     "output_type": "stream",
     "text": [
      "Done!\n",
      "Done!\n"
     ]
    },
    {
     "data": {
      "text/html": [
       "<div>\n",
       "<style scoped>\n",
       "    .dataframe tbody tr th:only-of-type {\n",
       "        vertical-align: middle;\n",
       "    }\n",
       "\n",
       "    .dataframe tbody tr th {\n",
       "        vertical-align: top;\n",
       "    }\n",
       "\n",
       "    .dataframe thead th {\n",
       "        text-align: right;\n",
       "    }\n",
       "</style>\n",
       "<table border=\"1\" class=\"dataframe\">\n",
       "  <thead>\n",
       "    <tr style=\"text-align: right;\">\n",
       "      <th></th>\n",
       "      <th>R</th>\n",
       "      <th>G</th>\n",
       "      <th>B</th>\n",
       "      <th>label</th>\n",
       "    </tr>\n",
       "  </thead>\n",
       "  <tbody>\n",
       "    <tr>\n",
       "      <th>6187</th>\n",
       "      <td>0.459693</td>\n",
       "      <td>0.491589</td>\n",
       "      <td>0.324279</td>\n",
       "      <td>-1.0</td>\n",
       "    </tr>\n",
       "    <tr>\n",
       "      <th>5243</th>\n",
       "      <td>0.447529</td>\n",
       "      <td>0.434663</td>\n",
       "      <td>0.307180</td>\n",
       "      <td>-1.0</td>\n",
       "    </tr>\n",
       "    <tr>\n",
       "      <th>232</th>\n",
       "      <td>0.515541</td>\n",
       "      <td>0.511313</td>\n",
       "      <td>0.492940</td>\n",
       "      <td>-1.0</td>\n",
       "    </tr>\n",
       "    <tr>\n",
       "      <th>507</th>\n",
       "      <td>0.541042</td>\n",
       "      <td>0.428629</td>\n",
       "      <td>0.278256</td>\n",
       "      <td>-1.0</td>\n",
       "    </tr>\n",
       "    <tr>\n",
       "      <th>1653</th>\n",
       "      <td>0.489753</td>\n",
       "      <td>0.476355</td>\n",
       "      <td>0.410386</td>\n",
       "      <td>-1.0</td>\n",
       "    </tr>\n",
       "  </tbody>\n",
       "</table>\n",
       "</div>"
      ],
      "text/plain": [
       "             R         G         B  label\n",
       "6187  0.459693  0.491589  0.324279   -1.0\n",
       "5243  0.447529  0.434663  0.307180   -1.0\n",
       "232   0.515541  0.511313  0.492940   -1.0\n",
       "507   0.541042  0.428629  0.278256   -1.0\n",
       "1653  0.489753  0.476355  0.410386   -1.0"
      ]
     },
     "metadata": {},
     "output_type": "display_data"
    },
    {
     "name": "stdout",
     "output_type": "stream",
     "text": [
      "(10, 4)\n"
     ]
    }
   ],
   "source": [
    "source_dir_path = \"./data\"\n",
    "save_dir_path = \"./inputs/winston_10\"\n",
    "\n",
    "data_formatter = WinstonDataFormatter(source_dir_path)\n",
    "data_formatter.format_and_save_data(save_dir_path,\n",
    "                                    sample_num_per_animal=2)\n",
    "\n",
    "generate_and_save_unsupervised_data(save_dir_path,\n",
    "                                    data_num=20,\n",
    "                                    data_dim=3)\n",
    "\n",
    "df_test = pd.read_csv(os.path.join(save_dir_path, \"L_albatross(x).csv\"), index_col=0)\n",
    "display(df_test.head())\n",
    "print(df_test.shape)"
   ]
  },
  {
   "cell_type": "code",
   "execution_count": 17,
   "metadata": {},
   "outputs": [
    {
     "name": "stdout",
     "output_type": "stream",
     "text": [
      "Done!\n",
      "Done!\n"
     ]
    },
    {
     "data": {
      "text/html": [
       "<div>\n",
       "<style scoped>\n",
       "    .dataframe tbody tr th:only-of-type {\n",
       "        vertical-align: middle;\n",
       "    }\n",
       "\n",
       "    .dataframe tbody tr th {\n",
       "        vertical-align: top;\n",
       "    }\n",
       "\n",
       "    .dataframe thead th {\n",
       "        text-align: right;\n",
       "    }\n",
       "</style>\n",
       "<table border=\"1\" class=\"dataframe\">\n",
       "  <thead>\n",
       "    <tr style=\"text-align: right;\">\n",
       "      <th></th>\n",
       "      <th>R</th>\n",
       "      <th>G</th>\n",
       "      <th>B</th>\n",
       "      <th>label</th>\n",
       "    </tr>\n",
       "  </thead>\n",
       "  <tbody>\n",
       "    <tr>\n",
       "      <th>5840</th>\n",
       "      <td>0.529877</td>\n",
       "      <td>0.468574</td>\n",
       "      <td>0.448287</td>\n",
       "      <td>-1.0</td>\n",
       "    </tr>\n",
       "    <tr>\n",
       "      <th>5283</th>\n",
       "      <td>0.491300</td>\n",
       "      <td>0.460999</td>\n",
       "      <td>0.391749</td>\n",
       "      <td>-1.0</td>\n",
       "    </tr>\n",
       "    <tr>\n",
       "      <th>5750</th>\n",
       "      <td>0.500000</td>\n",
       "      <td>0.500000</td>\n",
       "      <td>0.500000</td>\n",
       "      <td>-1.0</td>\n",
       "    </tr>\n",
       "    <tr>\n",
       "      <th>5758</th>\n",
       "      <td>0.562385</td>\n",
       "      <td>0.490812</td>\n",
       "      <td>0.424986</td>\n",
       "      <td>-1.0</td>\n",
       "    </tr>\n",
       "    <tr>\n",
       "      <th>5702</th>\n",
       "      <td>0.477890</td>\n",
       "      <td>0.477700</td>\n",
       "      <td>0.443831</td>\n",
       "      <td>-1.0</td>\n",
       "    </tr>\n",
       "  </tbody>\n",
       "</table>\n",
       "</div>"
      ],
      "text/plain": [
       "             R         G         B  label\n",
       "5840  0.529877  0.468574  0.448287   -1.0\n",
       "5283  0.491300  0.460999  0.391749   -1.0\n",
       "5750  0.500000  0.500000  0.500000   -1.0\n",
       "5758  0.562385  0.490812  0.424986   -1.0\n",
       "5702  0.477890  0.477700  0.443831   -1.0"
      ]
     },
     "metadata": {},
     "output_type": "display_data"
    },
    {
     "name": "stdout",
     "output_type": "stream",
     "text": [
      "(100, 4)\n"
     ]
    }
   ],
   "source": [
    "source_dir_path = \"./data\"\n",
    "save_dir_path = \"./inputs/winston_100\"\n",
    "\n",
    "data_formatter = WinstonDataFormatter(source_dir_path)\n",
    "data_formatter.format_and_save_data(save_dir_path,\n",
    "                                    sample_num_per_animal=20)\n",
    "\n",
    "generate_and_save_unsupervised_data(save_dir_path,\n",
    "                                    data_num=20,\n",
    "                                    data_dim=3)\n",
    "\n",
    "df_test = pd.read_csv(os.path.join(save_dir_path, \"L_albatross(x).csv\"), index_col=0)\n",
    "display(df_test.head())\n",
    "print(df_test.shape)"
   ]
  },
  {
   "cell_type": "code",
   "execution_count": null,
   "metadata": {},
   "outputs": [],
   "source": []
  },
  {
   "cell_type": "markdown",
   "metadata": {},
   "source": [
    "# 学習"
   ]
  },
  {
   "cell_type": "markdown",
   "metadata": {},
   "source": [
    "## 各 p に対して，教師データの数が 10 個"
   ]
  },
  {
   "cell_type": "code",
   "execution_count": 55,
   "metadata": {},
   "outputs": [
    {
     "name": "stdout",
     "output_type": "stream",
     "text": [
      "Loading data ...\n",
      "Done in 0.05084419250488281 seconds! \n",
      "\n",
      "Loading rules ...\n",
      "Done in 0.00023293495178222656 seconds! \n",
      "\n",
      "Identifying predicates ...\n",
      "Done in 0.0014324188232421875 seconds! \n",
      "\n",
      "Constructing objective function ...\n",
      "Done in 0.032105445861816406 seconds! \n",
      "\n",
      "Constructing constraints ...\n",
      "Done in 0.9058740139007568 seconds! \n",
      "\n",
      "All done\n",
      "===============================================================================\n",
      "                                     CVXPY                                     \n",
      "                                     v1.3.2                                    \n",
      "===============================================================================\n",
      "(CVXPY) Oct 28 01:52:32 PM: Your problem has 498 variables, 3450 constraints, and 0 parameters.\n",
      "(CVXPY) Oct 28 01:52:32 PM: It is compliant with the following grammars: DCP, DQCP\n",
      "(CVXPY) Oct 28 01:52:32 PM: (If you need to solve this problem multiple times, but with different data, consider using parameters.)\n",
      "(CVXPY) Oct 28 01:52:32 PM: CVXPY will first compile your problem; then, it will invoke a numerical solver to obtain a solution.\n",
      "-------------------------------------------------------------------------------\n",
      "                                  Compilation                                  \n",
      "-------------------------------------------------------------------------------\n",
      "(CVXPY) Oct 28 01:52:33 PM: Compiling problem (target solver=ECOS).\n",
      "(CVXPY) Oct 28 01:52:33 PM: Reduction chain: Dcp2Cone -> CvxAttr2Constr -> ConeMatrixStuffing -> ECOS\n",
      "(CVXPY) Oct 28 01:52:33 PM: Applying reduction Dcp2Cone\n",
      "(CVXPY) Oct 28 01:52:34 PM: Applying reduction CvxAttr2Constr\n",
      "(CVXPY) Oct 28 01:52:35 PM: Applying reduction ConeMatrixStuffing\n",
      "(CVXPY) Oct 28 01:52:37 PM: Applying reduction ECOS\n",
      "(CVXPY) Oct 28 01:52:38 PM: Finished problem compilation (took 6.059e+00 seconds).\n",
      "-------------------------------------------------------------------------------\n",
      "                                Numerical solver                               \n",
      "-------------------------------------------------------------------------------\n",
      "(CVXPY) Oct 28 01:52:38 PM: Invoking solver ECOS  to obtain a solution.\n",
      "\n",
      "ECOS 2.0.10 - (C) embotech GmbH, Zurich Switzerland, 2012-15. Web: www.embotech.com/ECOS\n",
      "\n",
      "It     pcost       dcost      gap   pres   dres    k/t    mu     step   sigma     IR    |   BT\n",
      " 0  +6.868e+02  -3.774e+03  +4e+04  7e-01  3e+00  1e+00  1e+01    ---    ---    1  1  - |  -  - \n",
      " 1  +6.119e+02  -1.540e+03  +3e+04  4e-01  2e+00  3e+00  8e+00  0.5674  5e-01   1  1  1 |  0  0\n",
      " 2  +6.288e+02  -1.282e+02  +1e+04  2e-01  5e-01  2e+00  4e+00  0.5917  2e-01   2  1  1 |  0  0\n",
      " 3  +6.576e+02  +2.757e+02  +8e+03  8e-02  2e-01  9e-01  2e+00  0.6157  3e-01   2  1  1 |  0  0\n",
      " 4  +6.526e+02  +4.618e+02  +4e+03  4e-02  1e-01  4e-01  1e+00  0.7327  4e-01   2  1  2 |  0  0\n",
      " 5  +6.812e+02  +6.215e+02  +1e+03  1e-02  4e-02  1e-01  4e-01  0.7198  8e-02   2  1  2 |  0  0\n",
      " 6  +6.803e+02  +6.255e+02  +1e+03  1e-02  3e-02  1e-01  3e-01  0.2335  6e-01   2  2  2 |  0  0\n",
      " 7  +6.854e+02  +6.617e+02  +6e+02  5e-03  1e-02  3e-02  2e-01  0.7521  3e-01   2  2  2 |  0  0\n",
      " 8  +6.864e+02  +6.677e+02  +5e+02  4e-03  1e-02  2e-02  1e-01  0.5589  6e-01   2  2  2 |  0  0\n",
      " 9  +6.904e+02  +6.853e+02  +1e+02  1e-03  3e-03  6e-03  3e-02  0.8437  1e-01   2  2  2 |  0  0\n",
      "10  +6.911e+02  +6.882e+02  +7e+01  6e-04  2e-03  3e-03  2e-02  0.7128  4e-01   2  2  2 |  0  0\n",
      "11  +6.915e+02  +6.896e+02  +5e+01  4e-04  1e-03  2e-03  1e-02  0.9890  6e-01   2  2  2 |  0  0\n",
      "12  +6.918e+02  +6.911e+02  +2e+01  1e-04  4e-04  6e-04  5e-03  0.7296  1e-01   2  2  2 |  0  0\n",
      "13  +6.919e+02  +6.913e+02  +1e+01  1e-04  3e-04  5e-04  3e-03  0.6600  6e-01   2  2  2 |  0  0\n",
      "14  +6.919e+02  +6.917e+02  +5e+00  4e-05  1e-04  2e-04  1e-03  0.9890  4e-01   2  1  1 |  0  0\n",
      "15  +6.920e+02  +6.919e+02  +1e+00  9e-06  3e-05  4e-05  3e-04  0.8334  9e-02   2  1  2 |  0  0\n",
      "16  +6.920e+02  +6.920e+02  +5e-01  4e-06  1e-05  2e-05  1e-04  0.9890  4e-01   2  1  1 |  0  0\n",
      "17  +6.920e+02  +6.920e+02  +2e-01  1e-06  4e-06  6e-06  4e-05  0.8112  2e-01   2  1  1 |  0  0\n",
      "18  +6.920e+02  +6.920e+02  +6e-02  4e-07  1e-06  2e-06  1e-05  0.8773  3e-01   2  1  1 |  0  0\n",
      "19  +6.920e+02  +6.920e+02  +2e-02  1e-07  4e-07  7e-07  5e-06  0.9380  3e-01   2  1  1 |  0  0\n",
      "20  +6.920e+02  +6.920e+02  +6e-03  4e-08  1e-07  2e-07  1e-06  0.9317  2e-01   2  1  1 |  0  0\n",
      "21  +6.920e+02  +6.920e+02  +2e-03  1e-08  4e-08  6e-08  4e-07  0.9157  2e-01   3  1  1 |  0  0\n",
      "22  +6.920e+02  +6.920e+02  +5e-04  4e-09  1e-08  2e-08  1e-07  0.9114  2e-01   3  1  1 |  0  0\n",
      "23  +6.920e+02  +6.920e+02  +1e-04  1e-09  3e-09  5e-09  4e-08  0.9110  2e-01   3  1  1 |  0  0\n",
      "24  +6.920e+02  +6.920e+02  +4e-05  3e-10  9e-10  1e-09  1e-08  0.9117  2e-01   3  1  1 |  0  0\n",
      "25  +6.920e+02  +6.920e+02  +1e-05  9e-11  3e-10  4e-10  3e-09  0.9119  2e-01   3  1  1 |  0  0\n",
      "26  +6.920e+02  +6.920e+02  +3e-06  3e-11  8e-11  1e-10  9e-10  0.9119  2e-01   3  1  1 |  0  0\n",
      "\n",
      "OPTIMAL (within feastol=7.8e-11, reltol=4.9e-09, abstol=3.4e-06).\n",
      "Runtime: 0.052266 seconds.\n",
      "\n",
      "-------------------------------------------------------------------------------\n",
      "                                    Summary                                    \n",
      "-------------------------------------------------------------------------------\n",
      "(CVXPY) Oct 28 01:52:38 PM: Problem status: optimal\n",
      "(CVXPY) Oct 28 01:52:38 PM: Optimal value: 6.920e+02\n",
      "(CVXPY) Oct 28 01:52:38 PM: Compilation took 6.059e+00 seconds\n",
      "(CVXPY) Oct 28 01:52:38 PM: Solver (including time spent in interface) took 5.242e-02 seconds\n"
     ]
    }
   ],
   "source": [
    "data_dir_path = './inputs/winston_10'\n",
    "\n",
    "file_list = os.listdir(data_dir_path)\n",
    "\n",
    "L_files = [filename.split('.csv')[0] for filename in file_list \n",
    "           if filename.startswith('L') and filename.endswith('.csv')]\n",
    "\n",
    "U_files = [filename.split('.csv')[0] for filename in file_list \n",
    "           if filename.startswith('U') and filename.endswith('.csv')]\n",
    "\n",
    "file_names_dict = {\n",
    "    'supervised': L_files,\n",
    "    'unsupervised': U_files,\n",
    "    'rule': ['rules_2']\n",
    "}\n",
    "\n",
    "problem_instance = Setup(data_dir_path, file_names_dict)\n",
    "objective, constraints = problem_instance.main(c1=10, c2=10)\n",
    "\n",
    "problem = cp.Problem(objective, constraints)\n",
    "result = problem.solve(verbose=True)"
   ]
  },
  {
   "cell_type": "code",
   "execution_count": 37,
   "metadata": {},
   "outputs": [],
   "source": [
    "# for formula in problem_instance.KB_origin:\n",
    "#     print(formula)\n",
    "\n",
    "# print()\n",
    "\n",
    "# for new_formula in problem_instance.KB:\n",
    "#     print(new_formula)"
   ]
  },
  {
   "cell_type": "code",
   "execution_count": null,
   "metadata": {},
   "outputs": [],
   "source": []
  },
  {
   "cell_type": "code",
   "execution_count": null,
   "metadata": {},
   "outputs": [],
   "source": []
  },
  {
   "cell_type": "markdown",
   "metadata": {},
   "source": [
    "## 各 p に対して，教師データの数が 100 個"
   ]
  },
  {
   "cell_type": "code",
   "execution_count": 63,
   "metadata": {},
   "outputs": [
    {
     "name": "stdout",
     "output_type": "stream",
     "text": [
      "Loading data ...\n",
      "Done in 0.05521368980407715 seconds! \n",
      "\n",
      "Loading rules ...\n",
      "Done in 0.000209808349609375 seconds! \n",
      "\n",
      "Identifying predicates ...\n",
      "Done in 0.0014812946319580078 seconds! \n",
      "\n",
      "Constructing objective function ...\n",
      "Done in 0.322023868560791 seconds! \n",
      "\n",
      "Constructing constraints ...\n",
      "Done in 3.7787957191467285 seconds! \n",
      "\n",
      "All done\n",
      "===============================================================================\n",
      "                                     CVXPY                                     \n",
      "                                     v1.3.2                                    \n",
      "===============================================================================\n"
     ]
    },
    {
     "name": "stderr",
     "output_type": "stream",
     "text": [
      "/home/onoue/ws/lukasiewicz_1/myenv/lib/python3.11/site-packages/cvxpy/problems/problem.py:157: UserWarning: Objective contains too many subexpressions. Consider vectorizing your CVXPY code to speed up compilation.\n",
      "  warnings.warn(\"Objective contains too many subexpressions. \"\n"
     ]
    },
    {
     "name": "stdout",
     "output_type": "stream",
     "text": [
      "(CVXPY) Oct 28 02:30:30 PM: Your problem has 3288 variables, 11820 constraints, and 0 parameters.\n",
      "(CVXPY) Oct 28 02:30:31 PM: It is compliant with the following grammars: DCP, DQCP\n",
      "(CVXPY) Oct 28 02:30:31 PM: (If you need to solve this problem multiple times, but with different data, consider using parameters.)\n",
      "(CVXPY) Oct 28 02:30:31 PM: CVXPY will first compile your problem; then, it will invoke a numerical solver to obtain a solution.\n",
      "-------------------------------------------------------------------------------\n",
      "                                  Compilation                                  \n",
      "-------------------------------------------------------------------------------\n",
      "(CVXPY) Oct 28 02:30:33 PM: Compiling problem (target solver=ECOS).\n",
      "(CVXPY) Oct 28 02:30:33 PM: Reduction chain: Dcp2Cone -> CvxAttr2Constr -> ConeMatrixStuffing -> ECOS\n",
      "(CVXPY) Oct 28 02:30:33 PM: Applying reduction Dcp2Cone\n",
      "(CVXPY) Oct 28 02:30:36 PM: Applying reduction CvxAttr2Constr\n",
      "(CVXPY) Oct 28 02:30:39 PM: Applying reduction ConeMatrixStuffing\n",
      "(CVXPY) Oct 28 02:30:49 PM: Applying reduction ECOS\n",
      "(CVXPY) Oct 28 02:30:54 PM: Finished problem compilation (took 2.278e+01 seconds).\n",
      "-------------------------------------------------------------------------------\n",
      "                                Numerical solver                               \n",
      "-------------------------------------------------------------------------------\n",
      "(CVXPY) Oct 28 02:30:54 PM: Invoking solver ECOS  to obtain a solution.\n",
      "\n",
      "ECOS 2.0.10 - (C) embotech GmbH, Zurich Switzerland, 2012-15. Web: www.embotech.com/ECOS\n",
      "\n",
      "It     pcost       dcost      gap   pres   dres    k/t    mu     step   sigma     IR    |   BT\n",
      " 0  +7.652e+03  -1.279e+04  +3e+05  7e-01  3e+00  1e+00  2e+01    ---    ---    2  2  - |  -  - \n",
      " 1  +6.649e+03  -4.370e+03  +2e+05  4e-01  2e+00  5e+00  1e+01  0.5241  5e-01   2  1  1 |  0  0\n",
      " 2  +6.465e+03  +3.547e+03  +9e+04  1e-01  4e-01  3e+00  6e+00  0.6851  1e-01   1  1  1 |  0  0\n",
      " 3  +6.432e+03  +4.725e+03  +6e+04  8e-02  2e-01  2e+00  4e+00  0.5289  3e-01   2  1  1 |  0  0\n",
      " 4  +6.452e+03  +5.735e+03  +3e+04  3e-02  1e-01  6e-01  2e+00  0.7754  3e-01   2  1  1 |  0  0\n",
      " 5  +6.592e+03  +6.413e+03  +7e+03  8e-03  2e-02  2e-01  4e-01  0.7631  3e-02   2  1  1 |  0  0\n",
      " 6  +6.594e+03  +6.468e+03  +5e+03  5e-03  2e-02  9e-02  3e-01  0.5038  4e-01   2  2  2 |  0  0\n",
      " 7  +6.628e+03  +6.615e+03  +5e+02  5e-04  2e-03  9e-03  3e-02  0.9094  1e-02   2  2  2 |  0  0\n",
      " 8  +6.631e+03  +6.627e+03  +1e+02  1e-04  5e-04  2e-03  8e-03  0.8971  2e-01   2  1  1 |  0  0\n",
      " 9  +6.632e+03  +6.630e+03  +4e+01  5e-05  2e-04  5e-04  3e-03  0.7879  2e-01   2  1  1 |  0  0\n",
      "10  +6.632e+03  +6.631e+03  +1e+01  2e-05  5e-05  1e-04  9e-04  0.9142  3e-01   2  1  1 |  0  0\n",
      "11  +6.632e+03  +6.632e+03  +1e+00  2e-06  5e-06  2e-05  1e-04  0.9639  7e-02   2  1  1 |  0  0\n",
      "12  +6.632e+03  +6.632e+03  +4e-01  5e-07  2e-06  4e-06  3e-05  0.8598  2e-01   2  1  1 |  0  0\n",
      "13  +6.632e+03  +6.632e+03  +2e-01  2e-07  6e-07  2e-06  1e-05  0.7681  2e-01   2  1  1 |  0  0\n",
      "14  +6.632e+03  +6.632e+03  +5e-02  6e-08  2e-07  6e-07  4e-06  0.9028  3e-01   2  1  1 |  0  0\n",
      "15  +6.632e+03  +6.632e+03  +6e-03  7e-09  2e-08  6e-08  4e-07  0.9706  9e-02   2  1  1 |  0  0\n",
      "16  +6.632e+03  +6.632e+03  +2e-03  2e-09  7e-09  2e-08  1e-07  0.8218  2e-01   2  1  1 |  0  0\n",
      "17  +6.632e+03  +6.632e+03  +7e-04  8e-10  2e-09  7e-09  5e-08  0.7888  2e-01   3  1  2 |  0  0\n",
      "18  +6.632e+03  +6.632e+03  +2e-04  2e-10  8e-10  2e-09  1e-08  0.9251  3e-01   3  1  2 |  0  0\n",
      "19  +6.632e+03  +6.632e+03  +2e-05  3e-11  9e-11  3e-10  2e-09  0.9478  7e-02   4  1  1 |  0  0\n",
      "\n",
      "OPTIMAL (within feastol=9.0e-11, reltol=3.8e-09, abstol=2.5e-05).\n",
      "Runtime: 0.158581 seconds.\n",
      "\n",
      "-------------------------------------------------------------------------------\n",
      "                                    Summary                                    \n",
      "-------------------------------------------------------------------------------\n",
      "(CVXPY) Oct 28 02:30:54 PM: Problem status: optimal\n",
      "(CVXPY) Oct 28 02:30:54 PM: Optimal value: 6.632e+03\n",
      "(CVXPY) Oct 28 02:30:54 PM: Compilation took 2.278e+01 seconds\n",
      "(CVXPY) Oct 28 02:30:54 PM: Solver (including time spent in interface) took 1.600e-01 seconds\n"
     ]
    }
   ],
   "source": [
    "data_dir_path = './inputs/winston_100'\n",
    "\n",
    "file_list = os.listdir(data_dir_path)\n",
    "\n",
    "L_files = [filename.split('.csv')[0] for filename in file_list \n",
    "           if filename.startswith('L') and filename.endswith('.csv')]\n",
    "\n",
    "U_files = [filename.split('.csv')[0] for filename in file_list \n",
    "           if filename.startswith('U') and filename.endswith('.csv')]\n",
    "\n",
    "file_names_dict = {\n",
    "    'supervised': L_files,\n",
    "    'unsupervised': U_files,\n",
    "    'rule': ['rules_2']\n",
    "}\n",
    "\n",
    "problem_instance = Setup(data_dir_path, file_names_dict)\n",
    "objective, constraints = problem_instance.main(c1=10, c2=10)\n",
    "\n",
    "\n",
    "problem = cp.Problem(objective, constraints)\n",
    "result = problem.solve(verbose=True)"
   ]
  },
  {
   "cell_type": "code",
   "execution_count": null,
   "metadata": {},
   "outputs": [],
   "source": []
  },
  {
   "cell_type": "code",
   "execution_count": null,
   "metadata": {},
   "outputs": [],
   "source": []
  },
  {
   "cell_type": "code",
   "execution_count": null,
   "metadata": {},
   "outputs": [],
   "source": []
  },
  {
   "cell_type": "code",
   "execution_count": null,
   "metadata": {},
   "outputs": [],
   "source": []
  },
  {
   "cell_type": "code",
   "execution_count": null,
   "metadata": {},
   "outputs": [],
   "source": []
  },
  {
   "cell_type": "code",
   "execution_count": null,
   "metadata": {},
   "outputs": [],
   "source": []
  },
  {
   "cell_type": "code",
   "execution_count": null,
   "metadata": {},
   "outputs": [],
   "source": []
  },
  {
   "cell_type": "code",
   "execution_count": null,
   "metadata": {},
   "outputs": [],
   "source": []
  },
  {
   "cell_type": "code",
   "execution_count": null,
   "metadata": {},
   "outputs": [],
   "source": []
  },
  {
   "cell_type": "code",
   "execution_count": null,
   "metadata": {},
   "outputs": [],
   "source": []
  }
 ],
 "metadata": {
  "kernelspec": {
   "display_name": "myenv",
   "language": "python",
   "name": "python3"
  },
  "language_info": {
   "codemirror_mode": {
    "name": "ipython",
    "version": 3
   },
   "file_extension": ".py",
   "mimetype": "text/x-python",
   "name": "python",
   "nbconvert_exporter": "python",
   "pygments_lexer": "ipython3",
   "version": "3.11.4"
  }
 },
 "nbformat": 4,
 "nbformat_minor": 2
}
