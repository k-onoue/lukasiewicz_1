{
  "cells": [
    {
      "cell_type": "code",
      "execution_count": 5,
      "metadata": {
        "id": "f-MTrILpHdZX"
      },
      "outputs": [],
      "source": [
        "import numpy as np\n",
        "import matplotlib.pyplot as plt\n",
        "%matplotlib inline\n",
        "\n",
        "import cvxpy as cp"
      ]
    },
    {
      "cell_type": "code",
      "execution_count": 6,
      "metadata": {
        "colab": {
          "base_uri": "https://localhost:8080/",
          "height": 107
        },
        "id": "epVMx6ZDHe9a",
        "outputId": "b346fc6c-08dd-47dc-83a6-2882648d8e4f"
      },
      "outputs": [
        {
          "data": {
            "text/plain": [
              "[(0.1, 0.5, -1), (0.4, 0.4, -1), (0.3, 0.8, 1), (0.9, 0.7, 1)]"
            ]
          },
          "metadata": {},
          "output_type": "display_data"
        },
        {
          "data": {
            "text/plain": [
              "[(0.1, 0.3, -1), (0.6, 0.4, -1), (0.2, 0.8, 1), (0.7, 0.6, 1)]"
            ]
          },
          "metadata": {},
          "output_type": "display_data"
        },
        {
          "data": {
            "text/plain": [
              "[(0.4, 0.2, -1), (0.9, 0.3, -1), (0.2, 0.6, 1), (0.5, 0.7, 1)]"
            ]
          },
          "metadata": {},
          "output_type": "display_data"
        },
        {
          "name": "stdout",
          "output_type": "stream",
          "text": [
            "\n"
          ]
        },
        {
          "data": {
            "text/plain": [
              "[(0.1, 0.5), (0.3, 0.7), (0.5, 0.4), (0.8, 0.3), (0.9, 0.2), (1, 0.5)]"
            ]
          },
          "metadata": {},
          "output_type": "display_data"
        }
      ],
      "source": [
        "L_1 = [(.1, .5, -1), (.4, .4, -1), (.3, .8, 1), (.9, .7, 1)]\n",
        "L_2 = [(.1, .3, -1), (.6, .4, -1), (.2, .8, 1), (.7, .6, 1)]\n",
        "L_3 = [(.4, .2, -1), (.9, .3, -1), (.2, .6, 1), (.5, .7, 1)]\n",
        "\n",
        "U = [(.1, .5), (.3, .7), (.5, .4), (.8, .3), (.9, .2), (1, .5)] # U_1 = U_2 = U_3 = U ということでいいのか\n",
        "\n",
        "\n",
        "display(L_1)\n",
        "display(L_2)\n",
        "display(L_3)\n",
        "print()\n",
        "display(U)"
      ]
    },
    {
      "cell_type": "code",
      "execution_count": 7,
      "metadata": {
        "colab": {
          "base_uri": "https://localhost:8080/",
          "height": 53
        },
        "id": "vrxJ3Q2mHgem",
        "outputId": "dd407e2d-12f3-4a6e-f4eb-acfe8320c4c3"
      },
      "outputs": [
        {
          "data": {
            "text/plain": [
              "array([[0.1, 0.3, 0.5, 0.8, 0.9, 1. ],\n",
              "       [0.5, 0.7, 0.4, 0.3, 0.2, 0.5]])"
            ]
          },
          "metadata": {},
          "output_type": "display_data"
        }
      ],
      "source": [
        "U = np.array(U).T\n",
        "\n",
        "display(U)"
      ]
    },
    {
      "cell_type": "code",
      "execution_count": 8,
      "metadata": {
        "colab": {
          "base_uri": "https://localhost:8080/",
          "height": 215
        },
        "id": "0h4YfKhOHjVI",
        "outputId": "a6097e15-587f-4993-fe14-134349118318"
      },
      "outputs": [
        {
          "data": {
            "text/plain": [
              "array([[0.1, 0.4, 0.3, 0.9],\n",
              "       [0.5, 0.4, 0.8, 0.7]])"
            ]
          },
          "metadata": {},
          "output_type": "display_data"
        },
        {
          "data": {
            "text/plain": [
              "array([[-1, -1,  1,  1]])"
            ]
          },
          "metadata": {},
          "output_type": "display_data"
        },
        {
          "name": "stdout",
          "output_type": "stream",
          "text": [
            "\n"
          ]
        },
        {
          "data": {
            "text/plain": [
              "array([[0.1, 0.6, 0.2, 0.7],\n",
              "       [0.3, 0.4, 0.8, 0.6]])"
            ]
          },
          "metadata": {},
          "output_type": "display_data"
        },
        {
          "data": {
            "text/plain": [
              "array([[-1, -1,  1,  1]])"
            ]
          },
          "metadata": {},
          "output_type": "display_data"
        },
        {
          "name": "stdout",
          "output_type": "stream",
          "text": [
            "\n"
          ]
        },
        {
          "data": {
            "text/plain": [
              "array([[0.4, 0.9, 0.2, 0.5],\n",
              "       [0.2, 0.3, 0.6, 0.7]])"
            ]
          },
          "metadata": {},
          "output_type": "display_data"
        },
        {
          "data": {
            "text/plain": [
              "array([[-1, -1,  1,  1]])"
            ]
          },
          "metadata": {},
          "output_type": "display_data"
        }
      ],
      "source": [
        "x_L_1, y_L_1 = np.array([[x_l[0], x_l[1]] for x_l in L_1]).T, np.array([[y_l[2]] for y_l in L_1]).T\n",
        "x_L_2, y_L_2 = np.array([[x_l[0], x_l[1]] for x_l in L_2]).T, np.array([[y_l[2]] for y_l in L_2]).T\n",
        "x_L_3, y_L_3 = np.array([[x_l[0], x_l[1]] for x_l in L_3]).T, np.array([[y_l[2]] for y_l in L_3]).T\n",
        "\n",
        "display(x_L_1)\n",
        "display(y_L_1)\n",
        "print()\n",
        "display(x_L_2)\n",
        "display(y_L_2)\n",
        "print()\n",
        "display(x_L_3)\n",
        "display(y_L_3)"
      ]
    },
    {
      "cell_type": "code",
      "execution_count": 9,
      "metadata": {
        "colab": {
          "base_uri": "https://localhost:8080/"
        },
        "id": "qHUO1SUxJF96",
        "outputId": "9ea96820-8bfe-45e2-932a-dd0a2a1376ec"
      },
      "outputs": [
        {
          "data": {
            "text/plain": [
              "[array([[0.1, 0.4, 0.3, 0.9],\n",
              "        [0.5, 0.4, 0.8, 0.7]]),\n",
              " array([[0.1, 0.6, 0.2, 0.7],\n",
              "        [0.3, 0.4, 0.8, 0.6]]),\n",
              " array([[0.4, 0.9, 0.2, 0.5],\n",
              "        [0.2, 0.3, 0.6, 0.7]])]"
            ]
          },
          "execution_count": 9,
          "metadata": {},
          "output_type": "execute_result"
        }
      ],
      "source": [
        "x_L = [x_L_1, x_L_2, x_L_3]\n",
        "x_L"
      ]
    },
    {
      "cell_type": "code",
      "execution_count": 10,
      "metadata": {
        "colab": {
          "base_uri": "https://localhost:8080/"
        },
        "id": "KcqONL1vJHAq",
        "outputId": "57499f7f-9685-4509-9b9d-754e57c6536a"
      },
      "outputs": [
        {
          "data": {
            "text/plain": [
              "[array([[-1, -1,  1,  1]]),\n",
              " array([[-1, -1,  1,  1]]),\n",
              " array([[-1, -1,  1,  1]])]"
            ]
          },
          "execution_count": 10,
          "metadata": {},
          "output_type": "execute_result"
        }
      ],
      "source": [
        "y_L = [y_L_1, y_L_2, y_L_3]\n",
        "y_L"
      ]
    },
    {
      "cell_type": "code",
      "execution_count": 11,
      "metadata": {
        "colab": {
          "base_uri": "https://localhost:8080/",
          "height": 125
        },
        "id": "Ml8OOmtrJIjC",
        "outputId": "b84d3fcc-bbc3-437c-cdd0-39c1eb34f0ca"
      },
      "outputs": [
        {
          "data": {
            "text/plain": [
              "[array([[0.1, 0.3, 0.5, 0.8, 0.9, 1. ],\n",
              "        [0.5, 0.7, 0.4, 0.3, 0.2, 0.5]]),\n",
              " array([[0.1, 0.3, 0.5, 0.8, 0.9, 1. ],\n",
              "        [0.5, 0.7, 0.4, 0.3, 0.2, 0.5]]),\n",
              " array([[0.1, 0.3, 0.5, 0.8, 0.9, 1. ],\n",
              "        [0.5, 0.7, 0.4, 0.3, 0.2, 0.5]])]"
            ]
          },
          "metadata": {},
          "output_type": "display_data"
        }
      ],
      "source": [
        "x_U_1 = U\n",
        "x_U_2 = U\n",
        "x_U_3 = U\n",
        "\n",
        "x_U = [x_U_1, x_U_2, x_U_3]\n",
        "\n",
        "display(x_U)\n"
      ]
    },
    {
      "cell_type": "code",
      "execution_count": 12,
      "metadata": {
        "colab": {
          "base_uri": "https://localhost:8080/"
        },
        "id": "xgNCkjb5Jt0c",
        "outputId": "1fafb0a1-8d2b-4964-c9a9-37fcb6a1ee31"
      },
      "outputs": [
        {
          "data": {
            "text/plain": [
              "[array([[0.1, 0.3, 0.5, 0.8, 0.9, 1. , 0.1, 0.4, 0.3, 0.9],\n",
              "        [0.5, 0.7, 0.4, 0.3, 0.2, 0.5, 0.5, 0.4, 0.8, 0.7]]),\n",
              " array([[0.1, 0.3, 0.5, 0.8, 0.9, 1. , 0.1, 0.6, 0.2, 0.7],\n",
              "        [0.5, 0.7, 0.4, 0.3, 0.2, 0.5, 0.3, 0.4, 0.8, 0.6]]),\n",
              " array([[0.1, 0.3, 0.5, 0.8, 0.9, 1. , 0.4, 0.9, 0.2, 0.5],\n",
              "        [0.5, 0.7, 0.4, 0.3, 0.2, 0.5, 0.2, 0.3, 0.6, 0.7]])]"
            ]
          },
          "execution_count": 12,
          "metadata": {},
          "output_type": "execute_result"
        }
      ],
      "source": [
        "x_S_1 = np.hstack([x_U_1, x_L_1])\n",
        "x_S_2 = np.hstack([x_U_2, x_L_2])\n",
        "x_S_3 = np.hstack([x_U_3, x_L_3])\n",
        "\n",
        "x_S = [x_S_1, x_S_2, x_S_3]\n",
        "\n",
        "x_S"
      ]
    },
    {
      "cell_type": "code",
      "execution_count": 13,
      "metadata": {
        "colab": {
          "base_uri": "https://localhost:8080/"
        },
        "id": "jMuZ8wauJvps",
        "outputId": "6a9b5feb-5fa2-4637-9e40-4b04dea180e1"
      },
      "outputs": [
        {
          "name": "stdout",
          "output_type": "stream",
          "text": [
            "[array([[-1,  0,  0,  0,  0,  0,  1,  0,  0,  0,  0,  0],\n",
            "       [ 0, -1,  0,  0,  0,  0,  0,  1,  0,  0,  0,  0],\n",
            "       [ 0,  0, -1,  0,  0,  0,  0,  0,  1,  0,  0,  0],\n",
            "       [ 0,  0,  0, -1,  0,  0,  0,  0,  0,  1,  0,  0],\n",
            "       [ 0,  0,  0,  0, -1,  0,  0,  0,  0,  0,  1,  0],\n",
            "       [ 0,  0,  0,  0,  0, -1,  0,  0,  0,  0,  0,  1]]), array([[-1,  0,  0,  0,  0,  0,  1,  0,  0,  0,  0,  0],\n",
            "       [ 0, -1,  0,  0,  0,  0,  0,  1,  0,  0,  0,  0],\n",
            "       [ 0,  0, -1,  0,  0,  0,  0,  0,  1,  0,  0,  0],\n",
            "       [ 0,  0,  0, -1,  0,  0,  0,  0,  0,  1,  0,  0],\n",
            "       [ 0,  0,  0,  0, -1,  0,  0,  0,  0,  0,  1,  0],\n",
            "       [ 0,  0,  0,  0,  0, -1,  0,  0,  0,  0,  0,  1]])]\n"
          ]
        }
      ],
      "source": [
        "# 6 x 12 の行列\n",
        "M_1 = np.array([[-1, 0, 0, 0, 0, 0, 1, 0, 0, 0, 0, 0],\n",
        "                [0, -1, 0, 0, 0, 0, 0, 1, 0, 0, 0, 0],\n",
        "                [0, 0, -1, 0, 0, 0, 0, 0, 1, 0, 0, 0],\n",
        "                [0, 0, 0, -1, 0, 0, 0, 0, 0, 1, 0, 0],\n",
        "                [0, 0, 0, 0, -1, 0, 0, 0, 0, 0, 1, 0],\n",
        "                [0, 0, 0, 0, 0, -1, 0, 0, 0, 0, 0, 1]])\n",
        "\n",
        "M_2 = np.array([[-1, 0, 0, 0, 0, 0, 1, 0, 0, 0, 0, 0],\n",
        "                [0, -1, 0, 0, 0, 0, 0, 1, 0, 0, 0, 0],\n",
        "                [0, 0, -1, 0, 0, 0, 0, 0, 1, 0, 0, 0],\n",
        "                [0, 0, 0, -1, 0, 0, 0, 0, 0, 1, 0, 0],\n",
        "                [0, 0, 0, 0, -1, 0, 0, 0, 0, 0, 1, 0],\n",
        "                [0, 0, 0, 0, 0, -1, 0, 0, 0, 0, 0, 1]])\n",
        "\n",
        "M = [M_1, M_2]\n",
        "print(M)"
      ]
    },
    {
      "cell_type": "code",
      "execution_count": 14,
      "metadata": {
        "colab": {
          "base_uri": "https://localhost:8080/"
        },
        "id": "nvc9sYsqJ4i7",
        "outputId": "22956fd4-bdfa-4468-806f-93e85693bd88"
      },
      "outputs": [
        {
          "name": "stdout",
          "output_type": "stream",
          "text": [
            "[array([[1],\n",
            "       [1],\n",
            "       [1],\n",
            "       [1],\n",
            "       [1],\n",
            "       [1]]), array([[1],\n",
            "       [1],\n",
            "       [1],\n",
            "       [1],\n",
            "       [1],\n",
            "       [1]])]\n"
          ]
        }
      ],
      "source": [
        "# 6 x 1 の行列（列ベクトル）\n",
        "q_1 = np.array([[1, 1, 1, 1, 1, 1]]).T\n",
        "q_2 = np.array([[1, 1, 1, 1, 1, 1]]).T\n",
        "\n",
        "q = [q_1, q_2]\n",
        "print(q)"
      ]
    },
    {
      "cell_type": "code",
      "execution_count": 69,
      "metadata": {
        "colab": {
          "base_uri": "https://localhost:8080/"
        },
        "id": "fRjDzjy9J9Qb",
        "outputId": "8c249923-96ee-47a0-e23a-9487a1dcf465"
      },
      "outputs": [
        {
          "data": {
            "text/plain": [
              "(Variable((3, 4), nonneg=True),\n",
              " Variable((2, 6), nonneg=True),\n",
              " Variable((3, 10), nonneg=True),\n",
              " Variable((3, 10), nonneg=True))"
            ]
          },
          "execution_count": 69,
          "metadata": {},
          "output_type": "execute_result"
        }
      ],
      "source": [
        "# 通常の内積\n",
        "\n",
        "def kernel_function(x1, x2):\n",
        "    return x1.T @ x2\n",
        "\n",
        "k = kernel_function\n",
        "\n",
        "\n",
        "# 変数\n",
        "lambda_j_l = cp.Variable(shape=(3, 4), nonneg=True) # j \\in {1, 2, 3}, l \\in {1, 2, 3, 4}\n",
        "lambda_h_i = cp.Variable(shape=(2, 6), nonneg=True) # h \\in {1, 2}, i \\in {1, 2, 3, 4, 5, 6}\n",
        "eta_j_s = cp.Variable(shape=(3, 10), nonneg=True) # j \\in {1, 2, 3}, s \\in {1, 2, 3, 4, 5, 6, 7, 8, 9, 10}\n",
        "eta_hat_j_s = cp.Variable(shape=(3, 10), nonneg=True) # j \\in {1, 2, 3}, s \\in {1, 2, 3, 4, 5, 6, 7, 8, 9, 10}\n",
        "\n",
        "lambda_j_l, lambda_h_i, eta_j_s, eta_hat_j_s"
      ]
    },
    {
      "cell_type": "code",
      "execution_count": 71,
      "metadata": {},
      "outputs": [
        {
          "data": {
            "text/plain": [
              "None"
            ]
          },
          "metadata": {},
          "output_type": "display_data"
        }
      ],
      "source": [
        "display(lambda_j_l.value)"
      ]
    },
    {
      "cell_type": "code",
      "execution_count": 72,
      "metadata": {
        "colab": {
          "base_uri": "https://localhost:8080/"
        },
        "id": "S7HsXnqeJ_6r",
        "outputId": "13118257-178b-4ff3-f485-3f1546cc52a2"
      },
      "outputs": [
        {
          "data": {
            "text/plain": [
              "array([[0.1, 0.3, 0.5, 0.8, 0.9, 1. , 0.1, 0.3, 0.5, 0.8, 0.9, 1. ],\n",
              "       [0.5, 0.7, 0.4, 0.3, 0.2, 0.5, 0.5, 0.7, 0.4, 0.3, 0.2, 0.5]])"
            ]
          },
          "execution_count": 72,
          "metadata": {},
          "output_type": "execute_result"
        }
      ],
      "source": [
        "len_j = 3\n",
        "len_l = 4\n",
        "\n",
        "len_h = 2\n",
        "len_I_h = 6\n",
        "\n",
        "len_u = 12\n",
        "\n",
        "len_s = 10\n",
        "\n",
        "# とりあえずこれで\n",
        "x_U_tmp = np.hstack([x_U[:2][1], x_U[1:][0]])\n",
        "x_U_tmp"
      ]
    },
    {
      "cell_type": "code",
      "execution_count": 73,
      "metadata": {
        "id": "myzpTInkOufc"
      },
      "outputs": [],
      "source": [
        "mapping_x_i={}\n",
        "count=0\n",
        "x=[]\n",
        "mapping_x_i[\"lambda_j_l\"]={}\n",
        "for j in range(len_j):\n",
        "  for l in range(len_l):\n",
        "    mapping_x_i[\"lambda_j_l\"][(j,l)]=len(x)\n",
        "    x.append(lambda_j_l[j,l])\n",
        "\n",
        "mapping_x_i[\"lambda_h_i\"]={}\n",
        "for h in range(len_h):\n",
        "  for i in range(len_I_h):\n",
        "    mapping_x_i[\"lambda_h_i\"][(h,i)]=len(x)\n",
        "    x.append(lambda_h_i[h,i])\n",
        "\n",
        "mapping_x_i[\"delta_eta_j_s\"]={}\n",
        "for j in range(len_j):\n",
        "  for s in range(len_s):\n",
        "    mapping_x_i[\"delta_eta_j_s\"][(j,s)]=len(x)\n",
        "    x.append(eta_j_s[j,s]-eta_hat_j_s[j,s])\n"
      ]
    },
    {
      "cell_type": "code",
      "execution_count": 74,
      "metadata": {},
      "outputs": [
        {
          "data": {
            "text/plain": [
              "{'lambda_j_l': {(0, 0): 0,\n",
              "  (0, 1): 1,\n",
              "  (0, 2): 2,\n",
              "  (0, 3): 3,\n",
              "  (1, 0): 4,\n",
              "  (1, 1): 5,\n",
              "  (1, 2): 6,\n",
              "  (1, 3): 7,\n",
              "  (2, 0): 8,\n",
              "  (2, 1): 9,\n",
              "  (2, 2): 10,\n",
              "  (2, 3): 11},\n",
              " 'lambda_h_i': {(0, 0): 12,\n",
              "  (0, 1): 13,\n",
              "  (0, 2): 14,\n",
              "  (0, 3): 15,\n",
              "  (0, 4): 16,\n",
              "  (0, 5): 17,\n",
              "  (1, 0): 18,\n",
              "  (1, 1): 19,\n",
              "  (1, 2): 20,\n",
              "  (1, 3): 21,\n",
              "  (1, 4): 22,\n",
              "  (1, 5): 23},\n",
              " 'delta_eta_j_s': {(0, 0): 24,\n",
              "  (0, 1): 25,\n",
              "  (0, 2): 26,\n",
              "  (0, 3): 27,\n",
              "  (0, 4): 28,\n",
              "  (0, 5): 29,\n",
              "  (0, 6): 30,\n",
              "  (0, 7): 31,\n",
              "  (0, 8): 32,\n",
              "  (0, 9): 33,\n",
              "  (1, 0): 34,\n",
              "  (1, 1): 35,\n",
              "  (1, 2): 36,\n",
              "  (1, 3): 37,\n",
              "  (1, 4): 38,\n",
              "  (1, 5): 39,\n",
              "  (1, 6): 40,\n",
              "  (1, 7): 41,\n",
              "  (1, 8): 42,\n",
              "  (1, 9): 43,\n",
              "  (2, 0): 44,\n",
              "  (2, 1): 45,\n",
              "  (2, 2): 46,\n",
              "  (2, 3): 47,\n",
              "  (2, 4): 48,\n",
              "  (2, 5): 49,\n",
              "  (2, 6): 50,\n",
              "  (2, 7): 51,\n",
              "  (2, 8): 52,\n",
              "  (2, 9): 53}}"
            ]
          },
          "execution_count": 74,
          "metadata": {},
          "output_type": "execute_result"
        }
      ],
      "source": [
        "mapping_x_i"
      ]
    },
    {
      "cell_type": "code",
      "execution_count": 18,
      "metadata": {
        "colab": {
          "base_uri": "https://localhost:8080/"
        },
        "id": "uNcfBRtmQwEE",
        "outputId": "73a18fd1-68a8-4b5c-8c3b-6c1ad859fea1"
      },
      "outputs": [
        {
          "name": "stdout",
          "output_type": "stream",
          "text": [
            "#variable: 54\n"
          ]
        }
      ],
      "source": [
        "print(\"#variable:\",len(x))"
      ]
    },
    {
      "cell_type": "code",
      "execution_count": 95,
      "metadata": {
        "id": "-r30gCUwKCer"
      },
      "outputs": [],
      "source": [
        "len_j = 3\n",
        "len_l = 4\n",
        "\n",
        "len_h = 2\n",
        "len_I_h = 6\n",
        "\n",
        "len_u = 12\n",
        "\n",
        "len_s = 10\n",
        "\n",
        "# とりあえずこれで\n",
        "x_U_tmp = np.hstack([x_U[:2][1], x_U[1:][0]])\n",
        "x_U_tmp\n",
        "\n",
        "P=np.zeros((len(x),len(x)))\n",
        "\n",
        "for j in range(len_j):\n",
        "    for l in range(len_l):\n",
        "        for l_prime in range(len_l):\n",
        "            xi=mapping_x_i[\"lambda_j_l\"][(j, l)]\n",
        "            xj=mapping_x_i[\"lambda_j_l\"][(j, l_prime)]\n",
        "            P[xi,xj]+=  4 * y_L[j][0, l] * y_L[j][0, l_prime] * k(x_L[j][:, l], x_L[j][:, l_prime])\n",
        "\n",
        "\n",
        "    # M が 0 のところを条件分岐してみる\n",
        "    for h in range(len_h):\n",
        "        for h_prime in range(len_h):\n",
        "            for i in range(len_I_h):\n",
        "                for i_prime in range(len_I_h):\n",
        "                    for u in range(len_u):\n",
        "                        for u_prime in range(len_u):\n",
        "                            if M[h][i, u] != 0 and M[h_prime][i_prime, u_prime]!=0:\n",
        "                                xi=mapping_x_i[\"lambda_h_i\"][(h, i)]\n",
        "                                xj=mapping_x_i[\"lambda_h_i\"][(h_prime, i_prime)]\n",
        "                                P[xi,xj] += M[h][i, u] * M[h_prime][i_prime, u_prime] * k(x_U_tmp[:, u], x_U_tmp[:, u_prime])\n",
        "\n",
        "    for s in range(len_s):\n",
        "        for s_prime in range(len_s):\n",
        "            xi=mapping_x_i[\"delta_eta_j_s\"][(j, s)]\n",
        "            xj=mapping_x_i[\"delta_eta_j_s\"][(j, s_prime)]\n",
        "            P[xi,xj] +=  k(x_S[j][:, s], x_S[j][:, s_prime])\n",
        "\n",
        "    for l in range(len_l):\n",
        "        for h in range(len_h):\n",
        "            for i in range(len_I_h):\n",
        "                for u in range(len_u):\n",
        "                  if M[h][i, u] != 0 :\n",
        "                      xi=mapping_x_i[\"lambda_j_l\"][(j, l)]\n",
        "                      xj=mapping_x_i[\"lambda_h_i\"][(h, i)]\n",
        "                      P[xi,xj] += (-4) * y_L[j][0, l] * M[h][i, u] * k(x_L[j][:, l], x_U_tmp[:, u])\n",
        "                    #   P[xi,xj] += (4) * y_L[j][0, l] * M[h][i, u] * k(x_L[j][:, l], x_U_tmp[:, u])\n",
        "\n",
        "    for l in range(len_l):\n",
        "        for s in range(len_s):\n",
        "            xi=mapping_x_i[\"lambda_j_l\"][(j, l)]\n",
        "            xj=mapping_x_i[\"delta_eta_j_s\"][(j, s)]\n",
        "            P[xi,xj] += 4 * y_L[j][0, l] * k(x_L[j][:, l], x_S[j][:, s])\n",
        "\n",
        "    for h in range(len_h):\n",
        "        for i in range(len_I_h):\n",
        "            for s in range(len_s):\n",
        "                for u in range(len_u):\n",
        "                    xi=mapping_x_i[\"lambda_h_i\"][(h, i)]\n",
        "                    xj=mapping_x_i[\"delta_eta_j_s\"][(j, s)]\n",
        "\n",
        "                    P[xi,xj] += (-2) * M[h][i, u] * k(x_U_tmp[:, u], x_S[j][:, s])\n",
        "                    # P[xi,xj] += (2) * M[h][i, u] * k(x_U_tmp[:, u], x_S[j][:, s])\n",
        "P= (-1/2)*(P+P.T)/2"
      ]
    },
    {
      "cell_type": "code",
      "execution_count": 96,
      "metadata": {
        "colab": {
          "base_uri": "https://localhost:8080/",
          "height": 450
        },
        "id": "S4gnBGxXT09U",
        "outputId": "877acddf-33e7-4c46-a4e5-039c5255b8f9"
      },
      "outputs": [
        {
          "data": {
            "text/plain": [
              "<matplotlib.image.AxesImage at 0x7fe6a81ddd20>"
            ]
          },
          "execution_count": 96,
          "metadata": {},
          "output_type": "execute_result"
        },
        {
          "data": {
            "image/png": "[encoded data removed]",
            "text/plain": [
              "<Figure size 640x480 with 1 Axes>"
            ]
          },
          "metadata": {},
          "output_type": "display_data"
        }
      ],
      "source": [
        "plt.imshow(P)"
      ]
    },
    {
      "cell_type": "code",
      "execution_count": 97,
      "metadata": {
        "id": "t3OC1iy3UQ3k"
      },
      "outputs": [],
      "source": [
        "eig,_=np.linalg.eig(P)"
      ]
    },
    {
      "cell_type": "code",
      "execution_count": 98,
      "metadata": {
        "colab": {
          "base_uri": "https://localhost:8080/",
          "height": 484
        },
        "id": "DA-pHA5FU-9U",
        "outputId": "bc2e8bd0-1d17-4e71-9432-2063bd903689"
      },
      "outputs": [
        {
          "data": {
            "text/plain": [
              "[<matplotlib.lines.Line2D at 0x7fe6a7ab97e0>]"
            ]
          },
          "execution_count": 98,
          "metadata": {},
          "output_type": "execute_result"
        },
        {
          "data": {
            "image/png": "[encoded data removed]",
            "text/plain": [
              "<Figure size 640x480 with 1 Axes>"
            ]
          },
          "metadata": {},
          "output_type": "display_data"
        }
      ],
      "source": [
        "plt.plot(eig)"
      ]
    },
    {
      "cell_type": "code",
      "execution_count": 99,
      "metadata": {
        "colab": {
          "base_uri": "https://localhost:8080/"
        },
        "id": "MXY1XHLAVYEG",
        "outputId": "fa726a4c-edd7-4d28-b863-fedd2aaf93d4"
      },
      "outputs": [
        {
          "data": {
            "text/plain": [
              "Expression(CONCAVE, NONPOSITIVE, (1, 1))"
            ]
          },
          "execution_count": 99,
          "metadata": {},
          "output_type": "execute_result"
        }
      ],
      "source": [
        "obj_func=cp.quad_form(cp.vstack(x),P)\n",
        "obj_func"
      ]
    },
    {
      "cell_type": "code",
      "execution_count": 100,
      "metadata": {
        "colab": {
          "base_uri": "https://localhost:8080/"
        },
        "id": "derg37yiT0J1",
        "outputId": "7523f63a-f598-44f9-cfd6-d939818b3240"
      },
      "outputs": [
        {
          "data": {
            "text/plain": [
              "Expression(CONCAVE, UNKNOWN, (1, 1))"
            ]
          },
          "execution_count": 100,
          "metadata": {},
          "output_type": "execute_result"
        }
      ],
      "source": [
        "\n",
        "for j in range(len_j):\n",
        "    for l in range(len_l):\n",
        "        obj_func += lambda_j_l[j, l]\n",
        "\n",
        "for h in range(len_h):\n",
        "    for i in range(len_I_h):\n",
        "        for u in range(len_u):\n",
        "            obj_func += lambda_h_i[h, i] * (1/2 * M[h][i, u] + q[h][i, 0])\n",
        "\n",
        "for j in range(len_j):\n",
        "    for s in range(len_s):\n",
        "        obj_func += (-1/2) * (eta_j_s[j, s] - eta_hat_j_s[j, s])\n",
        "\n",
        "obj_func"
      ]
    },
    {
      "cell_type": "code",
      "execution_count": 101,
      "metadata": {
        "id": "p3Hrcb_lWFoF"
      },
      "outputs": [],
      "source": [
        "constraint_1 = 0\n",
        "\n",
        "for j in range(len_j):\n",
        "    for h in range(len_h):\n",
        "        for i in range(len_I_h):\n",
        "            for u in range(len_u):\n",
        "                constraint_1 += lambda_h_i[h, i] * M[h][i, u]\n",
        "\n",
        "    for l in range(len_l):\n",
        "        constraint_1 += (-2) * lambda_j_l[j, l] * y_L[j][0, l]\n",
        "\n",
        "    for s in range(len_s):\n",
        "        constraint_1 += (-1) * (eta_j_s[j, s] - eta_hat_j_s[j, s])"
      ]
    },
    {
      "cell_type": "code",
      "execution_count": 106,
      "metadata": {
        "id": "Hc4-Auo-WHv9"
      },
      "outputs": [
        {
          "name": "stdout",
          "output_type": "stream",
          "text": [
            "===============================================================================\n",
            "                                     CVXPY                                     \n",
            "                                     v1.3.2                                    \n",
            "===============================================================================\n",
            "(CVXPY) Sep 24 10:30:55 AM: Your problem has 84 variables, 7 constraints, and 0 parameters.\n",
            "(CVXPY) Sep 24 10:30:55 AM: It is compliant with the following grammars: DCP, DQCP\n",
            "(CVXPY) Sep 24 10:30:55 AM: (If you need to solve this problem multiple times, but with different data, consider using parameters.)\n",
            "(CVXPY) Sep 24 10:30:55 AM: CVXPY will first compile your problem; then, it will invoke a numerical solver to obtain a solution.\n",
            "-------------------------------------------------------------------------------\n",
            "                                  Compilation                                  \n",
            "-------------------------------------------------------------------------------\n",
            "(CVXPY) Sep 24 10:30:55 AM: Compiling problem (target solver=OSQP).\n",
            "(CVXPY) Sep 24 10:30:55 AM: Reduction chain: FlipObjective -> CvxAttr2Constr -> Qp2SymbolicQp -> QpMatrixStuffing -> OSQP\n",
            "(CVXPY) Sep 24 10:30:55 AM: Applying reduction FlipObjective\n",
            "(CVXPY) Sep 24 10:30:55 AM: Applying reduction CvxAttr2Constr\n",
            "(CVXPY) Sep 24 10:30:56 AM: Applying reduction Qp2SymbolicQp\n",
            "(CVXPY) Sep 24 10:30:56 AM: Applying reduction QpMatrixStuffing\n",
            "(CVXPY) Sep 24 10:30:56 AM: Applying reduction OSQP\n",
            "(CVXPY) Sep 24 10:30:56 AM: Finished problem compilation (took 3.031e-01 seconds).\n",
            "-------------------------------------------------------------------------------\n",
            "                                Numerical solver                               \n",
            "-------------------------------------------------------------------------------\n",
            "(CVXPY) Sep 24 10:30:56 AM: Invoking solver OSQP  to obtain a solution.\n",
            "-----------------------------------------------------------------\n",
            "           OSQP v0.6.3  -  Operator Splitting QP Solver\n",
            "              (c) Bartolomeo Stellato,  Goran Banjac\n",
            "        University of Oxford  -  Stanford University 2021\n",
            "-----------------------------------------------------------------\n",
            "problem:  variables n = 138, constraints m = 247\n",
            "          nnz(P) + nnz(A) = 717\n",
            "settings: linear system solver = qdldl,\n",
            "          eps_abs = 1.0e-05, eps_rel = 1.0e-05,\n",
            "          eps_prim_inf = 1.0e-04, eps_dual_inf = 1.0e-04,\n",
            "          rho = 1.00e-01 (adaptive),\n",
            "          sigma = 1.00e-06, alpha = 1.60, max_iter = 10000\n",
            "          check_termination: on (interval 25),\n",
            "          scaling: on, scaled_termination: off\n",
            "          warm start: on, polish: on, time_limit: off\n",
            "\n",
            "iter   objective    pri res    dua res    rho        time\n",
            "   1  -7.7243e+02   2.83e+00   8.60e+00   1.00e-01   1.93e-04s\n",
            " 100  -3.9000e+02   6.03e-06   3.50e-05   1.00e-01   5.82e-04s\n",
            "\n",
            "status:               solved\n",
            "solution polish:      unsuccessful\n",
            "number of iterations: 100\n",
            "optimal objective:    -390.0009\n",
            "run time:             6.96e-04s\n",
            "optimal rho estimate: 7.65e-02\n",
            "\n",
            "-------------------------------------------------------------------------------\n",
            "                                    Summary                                    \n",
            "-------------------------------------------------------------------------------\n",
            "(CVXPY) Sep 24 10:30:56 AM: Problem status: optimal\n",
            "(CVXPY) Sep 24 10:30:56 AM: Optimal value: 3.900e+02\n",
            "(CVXPY) Sep 24 10:30:56 AM: Compilation took 3.031e-01 seconds\n",
            "(CVXPY) Sep 24 10:30:56 AM: Solver (including time spent in interface) took 2.209e-03 seconds\n"
          ]
        }
      ],
      "source": [
        "C_1, C_2 = 2.5, 2.5\n",
        "\n",
        "objective = cp.Maximize(obj_func)\n",
        "\n",
        "constraints = [\n",
        "    constraint_1 == 0,\n",
        "    lambda_j_l >=0,\n",
        "    lambda_j_l <= C_1,\n",
        "    lambda_h_i >= 0,\n",
        "    lambda_h_i <= C_2,\n",
        "    eta_j_s >=0,\n",
        "    eta_hat_j_s >= 0\n",
        "]\n",
        "\n",
        "\n",
        "problem = cp.Problem(objective, constraints)\n",
        "result = problem.solve(verbose=True)"
      ]
    },
    {
      "cell_type": "code",
      "execution_count": 103,
      "metadata": {
        "colab": {
          "base_uri": "https://localhost:8080/"
        },
        "id": "9ci4Ry3MVzs2",
        "outputId": "4b610caf-6161-450f-880e-7531246e3e30"
      },
      "outputs": [
        {
          "data": {
            "text/plain": [
              "390.0008743354754"
            ]
          },
          "execution_count": 103,
          "metadata": {},
          "output_type": "execute_result"
        }
      ],
      "source": [
        "result"
      ]
    },
    {
      "cell_type": "code",
      "execution_count": 104,
      "metadata": {
        "colab": {
          "base_uri": "https://localhost:8080/"
        },
        "id": "dK5G_JDZX4E1",
        "outputId": "9d06abe7-26ad-42c9-a447-f4a61a10b24e"
      },
      "outputs": [
        {
          "data": {
            "text/plain": [
              "array([[3.28307247e-01, 2.00439411e-01, 2.50000090e+00, 2.50000084e+00],\n",
              "       [4.02589365e-05, 3.87174153e-01, 2.50000052e+00, 2.50000014e+00],\n",
              "       [2.49425874e-05, 2.92620709e-02, 2.49999974e+00, 2.50000114e+00]])"
            ]
          },
          "execution_count": 104,
          "metadata": {},
          "output_type": "execute_result"
        }
      ],
      "source": [
        "lambda_j_l.value"
      ]
    },
    {
      "cell_type": "code",
      "execution_count": null,
      "metadata": {},
      "outputs": [],
      "source": []
    },
    {
      "cell_type": "code",
      "execution_count": null,
      "metadata": {},
      "outputs": [],
      "source": []
    },
    {
      "cell_type": "markdown",
      "metadata": {},
      "source": [
        "## formulation of $p_j(\\bold x)$ \n",
        "\n",
        "$$\n",
        "\\begin{align*}\n",
        "p_j(\\bold x)\n",
        "&= \\omega^*_j \\cdot \\phi_j(\\bold x) + b^*_j \\\\\n",
        "&= 2 \\sum^{l_j}_{l=1} \\lambda^*_{j_l} y_l k_j(\\bold x_l, \\bold x) \n",
        "- \\sum^H_{h=1} \\sum^{I_h}_{i=1} \\lambda^*_{h_i} \\sum^{u_j}_{u=1} M^h_{i,u} k_j(\\bold x_u, \\bold x) \n",
        "+ \\sum^{s_j}_{s=1}(\\eta^*_{j_s} - \\bar\\eta^*_{j_s}) k_j(\\bold x_s, \\bold x)\n",
        "+ b^*_j\n",
        "\\end{align*}\n",
        "$$"
      ]
    },
    {
      "cell_type": "code",
      "execution_count": 126,
      "metadata": {},
      "outputs": [],
      "source": [
        "k = lambda x1, x2: x1.T @ x2 + 1\n",
        "\n",
        "def p_j(x, j=0):\n",
        "    term1 = 0\n",
        "    for l in range(len_l):\n",
        "        term1 += lambda_j_l.value[j][l] * y_L[j][0, l] * k(x_L[j][:, l], x)\n",
        "\n",
        "    term2 = 0\n",
        "    for h in range(len_h):\n",
        "        for i in range(len_I_h):\n",
        "            for u in range(len_u):\n",
        "                term2 += lambda_h_i.value[h][i] * M[h][i,u] * k(x_U_tmp[:, u], x)\n",
        "    term2 *= -1\n",
        "\n",
        "    term3 = 0\n",
        "    for s in range(len_s):\n",
        "        term3 += (eta_j_s.value[j,s] - eta_hat_j_s.value[j,s]) * k(x_S[j][:, s], x) # + b[j]\n",
        "    return term1 + term2 + term3"
      ]
    },
    {
      "cell_type": "code",
      "execution_count": 125,
      "metadata": {},
      "outputs": [
        {
          "data": {
            "text/plain": [
              "array([0.5874837 , 0.95806076])"
            ]
          },
          "execution_count": 125,
          "metadata": {},
          "output_type": "execute_result"
        }
      ],
      "source": [
        "x_test = np.random.rand(2)\n",
        "x_test"
      ]
    },
    {
      "cell_type": "code",
      "execution_count": 127,
      "metadata": {},
      "outputs": [
        {
          "data": {
            "text/plain": [
              "-5.054707993662028"
            ]
          },
          "execution_count": 127,
          "metadata": {},
          "output_type": "execute_result"
        }
      ],
      "source": [
        "p_j(x_test)"
      ]
    },
    {
      "cell_type": "code",
      "execution_count": null,
      "metadata": {},
      "outputs": [],
      "source": [
        "for i in range(10):\n",
        "    "
      ]
    },
    {
      "cell_type": "code",
      "execution_count": null,
      "metadata": {},
      "outputs": [],
      "source": []
    },
    {
      "cell_type": "code",
      "execution_count": null,
      "metadata": {},
      "outputs": [],
      "source": []
    },
    {
      "cell_type": "code",
      "execution_count": null,
      "metadata": {},
      "outputs": [],
      "source": []
    },
    {
      "cell_type": "code",
      "execution_count": 42,
      "metadata": {},
      "outputs": [
        {
          "data": {
            "text/plain": [
              "1"
            ]
          },
          "execution_count": 42,
          "metadata": {},
          "output_type": "execute_result"
        }
      ],
      "source": [
        "M[h][i,u]"
      ]
    },
    {
      "cell_type": "code",
      "execution_count": 41,
      "metadata": {},
      "outputs": [
        {
          "data": {
            "text/plain": [
              "Variable((2, 6), nonneg=True)"
            ]
          },
          "execution_count": 41,
          "metadata": {},
          "output_type": "execute_result"
        }
      ],
      "source": [
        "lambda_h_i"
      ]
    },
    {
      "cell_type": "code",
      "execution_count": 30,
      "metadata": {},
      "outputs": [
        {
          "data": {
            "text/plain": [
              "array([[3.28307247e-01, 2.00439411e-01, 2.50000090e+00, 2.50000084e+00],\n",
              "       [4.02589365e-05, 3.87174153e-01, 2.50000052e+00, 2.50000014e+00],\n",
              "       [2.49425874e-05, 2.92620709e-02, 2.49999974e+00, 2.50000114e+00]])"
            ]
          },
          "execution_count": 30,
          "metadata": {},
          "output_type": "execute_result"
        }
      ],
      "source": [
        "lambda_j_l.value"
      ]
    },
    {
      "cell_type": "code",
      "execution_count": 35,
      "metadata": {},
      "outputs": [
        {
          "data": {
            "text/plain": [
              "Variable((3, 4), nonneg=True)"
            ]
          },
          "execution_count": 35,
          "metadata": {},
          "output_type": "execute_result"
        }
      ],
      "source": [
        "lambda_j_l"
      ]
    },
    {
      "cell_type": "code",
      "execution_count": 34,
      "metadata": {},
      "outputs": [
        {
          "data": {
            "text/plain": [
              "array([[-1, -1,  1,  1]])"
            ]
          },
          "execution_count": 34,
          "metadata": {},
          "output_type": "execute_result"
        }
      ],
      "source": [
        "y_L[0]"
      ]
    },
    {
      "cell_type": "code",
      "execution_count": 32,
      "metadata": {},
      "outputs": [
        {
          "data": {
            "text/plain": [
              "[array([[-1, -1,  1,  1]]),\n",
              " array([[-1, -1,  1,  1]]),\n",
              " array([[-1, -1,  1,  1]])]"
            ]
          },
          "execution_count": 32,
          "metadata": {},
          "output_type": "execute_result"
        }
      ],
      "source": [
        "y_L"
      ]
    },
    {
      "cell_type": "code",
      "execution_count": 37,
      "metadata": {},
      "outputs": [
        {
          "data": {
            "text/plain": [
              "array([0.1, 0.5])"
            ]
          },
          "execution_count": 37,
          "metadata": {},
          "output_type": "execute_result"
        }
      ],
      "source": [
        "x_L[0][:, 0]"
      ]
    },
    {
      "cell_type": "code",
      "execution_count": 38,
      "metadata": {},
      "outputs": [
        {
          "data": {
            "text/plain": [
              "-1"
            ]
          },
          "execution_count": 38,
          "metadata": {},
          "output_type": "execute_result"
        }
      ],
      "source": [
        "a = 1\n",
        "a *= -1\n",
        "a"
      ]
    }
  ],
  "metadata": {
    "colab": {
      "provenance": []
    },
    "kernelspec": {
      "display_name": "Python 3",
      "name": "python3"
    },
    "language_info": {
      "codemirror_mode": {
        "name": "ipython",
        "version": 3
      },
      "file_extension": ".py",
      "mimetype": "text/x-python",
      "name": "python",
      "nbconvert_exporter": "python",
      "pygments_lexer": "ipython3",
      "version": "3.10.12"
    }
  },
  "nbformat": 4,
  "nbformat_minor": 0
}
