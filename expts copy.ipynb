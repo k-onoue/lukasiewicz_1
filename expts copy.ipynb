{
 "cells": [
  {
   "cell_type": "markdown",
   "metadata": {},
   "source": [
    "[Learning Lukasiewicz Logic Fragments by Quadratic Programming](http://ecmlpkdd2017.ijs.si/papers/paperID223.pdf)"
   ]
  },
  {
   "cell_type": "code",
   "execution_count": 1,
   "metadata": {},
   "outputs": [],
   "source": [
    "import pandas as pd\n",
    "import numpy as np\n",
    "import matplotlib.pyplot as plt\n",
    "%matplotlib inline\n",
    "\n",
    "import cvxpy as cp"
   ]
  },
  {
   "cell_type": "markdown",
   "metadata": {},
   "source": [
    "# 1. Toy problem\n",
    "\n",
    "---\n",
    "メモ\n",
    "\n",
    "* 各 p に対してデータの数が揃っている等の理由により，実装がシンプルになっているので，他の問題に直ちに適用することはできない"
   ]
  },
  {
   "cell_type": "markdown",
   "metadata": {},
   "source": [
    "## 1.1 データの準備"
   ]
  },
  {
   "cell_type": "code",
   "execution_count": 2,
   "metadata": {},
   "outputs": [
    {
     "data": {
      "text/plain": [
       "[(0.1, 0.5, -1), (0.4, 0.4, -1), (0.3, 0.8, 1), (0.9, 0.7, 1)]"
      ]
     },
     "metadata": {},
     "output_type": "display_data"
    },
    {
     "data": {
      "text/plain": [
       "[(0.1, 0.3, -1), (0.6, 0.4, -1), (0.2, 0.8, 1), (0.7, 0.6, 1)]"
      ]
     },
     "metadata": {},
     "output_type": "display_data"
    },
    {
     "data": {
      "text/plain": [
       "[(0.4, 0.2, -1), (0.9, 0.3, -1), (0.2, 0.6, 1), (0.5, 0.7, 1)]"
      ]
     },
     "metadata": {},
     "output_type": "display_data"
    },
    {
     "name": "stdout",
     "output_type": "stream",
     "text": [
      "\n"
     ]
    },
    {
     "data": {
      "text/plain": [
       "[(0.1, 0.5), (0.3, 0.7), (0.5, 0.4), (0.8, 0.3), (0.9, 0.2), (1, 0.5)]"
      ]
     },
     "metadata": {},
     "output_type": "display_data"
    }
   ],
   "source": [
    "L_1 = [(.1, .5, -1), (.4, .4, -1), (.3, .8, 1), (.9, .7, 1)]\n",
    "L_2 = [(.1, .3, -1), (.6, .4, -1), (.2, .8, 1), (.7, .6, 1)]\n",
    "L_3 = [(.4, .2, -1), (.9, .3, -1), (.2, .6, 1), (.5, .7, 1)]\n",
    "\n",
    "U = [(.1, .5), (.3, .7), (.5, .4), (.8, .3), (.9, .2), (1, .5)] # U_1 = U_2 = U_3 = U ということでいいのか\n",
    "\n",
    "\n",
    "display(L_1)\n",
    "display(L_2)\n",
    "display(L_3)\n",
    "print()\n",
    "display(U)"
   ]
  },
  {
   "cell_type": "code",
   "execution_count": 3,
   "metadata": {},
   "outputs": [
    {
     "data": {
      "text/plain": [
       "array([[0.1, 0.3, 0.5, 0.8, 0.9, 1. ],\n",
       "       [0.5, 0.7, 0.4, 0.3, 0.2, 0.5]])"
      ]
     },
     "metadata": {},
     "output_type": "display_data"
    }
   ],
   "source": [
    "U = np.array(U).T\n",
    "\n",
    "display(U)"
   ]
  },
  {
   "cell_type": "code",
   "execution_count": 4,
   "metadata": {},
   "outputs": [
    {
     "data": {
      "text/plain": [
       "array([[0.1, 0.4, 0.3, 0.9],\n",
       "       [0.5, 0.4, 0.8, 0.7]])"
      ]
     },
     "metadata": {},
     "output_type": "display_data"
    },
    {
     "data": {
      "text/plain": [
       "array([[-1, -1,  1,  1]])"
      ]
     },
     "metadata": {},
     "output_type": "display_data"
    },
    {
     "name": "stdout",
     "output_type": "stream",
     "text": [
      "\n"
     ]
    },
    {
     "data": {
      "text/plain": [
       "array([[0.1, 0.6, 0.2, 0.7],\n",
       "       [0.3, 0.4, 0.8, 0.6]])"
      ]
     },
     "metadata": {},
     "output_type": "display_data"
    },
    {
     "data": {
      "text/plain": [
       "array([[-1, -1,  1,  1]])"
      ]
     },
     "metadata": {},
     "output_type": "display_data"
    },
    {
     "name": "stdout",
     "output_type": "stream",
     "text": [
      "\n"
     ]
    },
    {
     "data": {
      "text/plain": [
       "array([[0.4, 0.9, 0.2, 0.5],\n",
       "       [0.2, 0.3, 0.6, 0.7]])"
      ]
     },
     "metadata": {},
     "output_type": "display_data"
    },
    {
     "data": {
      "text/plain": [
       "array([[-1, -1,  1,  1]])"
      ]
     },
     "metadata": {},
     "output_type": "display_data"
    }
   ],
   "source": [
    "x_L_1, y_L_1 = np.array([[x_l[0], x_l[1]] for x_l in L_1]).T, np.array([[y_l[2]] for y_l in L_1]).T\n",
    "x_L_2, y_L_2 = np.array([[x_l[0], x_l[1]] for x_l in L_2]).T, np.array([[y_l[2]] for y_l in L_2]).T\n",
    "x_L_3, y_L_3 = np.array([[x_l[0], x_l[1]] for x_l in L_3]).T, np.array([[y_l[2]] for y_l in L_3]).T\n",
    "\n",
    "display(x_L_1)\n",
    "display(y_L_1)\n",
    "print()\n",
    "display(x_L_2)\n",
    "display(y_L_2)\n",
    "print()\n",
    "display(x_L_3)\n",
    "display(y_L_3)"
   ]
  },
  {
   "cell_type": "code",
   "execution_count": 5,
   "metadata": {},
   "outputs": [
    {
     "data": {
      "text/plain": [
       "[array([[0.1, 0.4, 0.3, 0.9],\n",
       "        [0.5, 0.4, 0.8, 0.7]]),\n",
       " array([[0.1, 0.6, 0.2, 0.7],\n",
       "        [0.3, 0.4, 0.8, 0.6]]),\n",
       " array([[0.4, 0.9, 0.2, 0.5],\n",
       "        [0.2, 0.3, 0.6, 0.7]])]"
      ]
     },
     "execution_count": 5,
     "metadata": {},
     "output_type": "execute_result"
    }
   ],
   "source": [
    "x_L = [x_L_1, x_L_2, x_L_3]\n",
    "x_L"
   ]
  },
  {
   "cell_type": "code",
   "execution_count": 6,
   "metadata": {},
   "outputs": [
    {
     "data": {
      "text/plain": [
       "[array([[-1, -1,  1,  1]]),\n",
       " array([[-1, -1,  1,  1]]),\n",
       " array([[-1, -1,  1,  1]])]"
      ]
     },
     "execution_count": 6,
     "metadata": {},
     "output_type": "execute_result"
    }
   ],
   "source": [
    "y_L = [y_L_1, y_L_2, y_L_3]\n",
    "y_L"
   ]
  },
  {
   "cell_type": "code",
   "execution_count": 7,
   "metadata": {},
   "outputs": [
    {
     "data": {
      "text/plain": [
       "[array([[0.1, 0.3, 0.5, 0.8, 0.9, 1. ],\n",
       "        [0.5, 0.7, 0.4, 0.3, 0.2, 0.5]]),\n",
       " array([[0.1, 0.3, 0.5, 0.8, 0.9, 1. ],\n",
       "        [0.5, 0.7, 0.4, 0.3, 0.2, 0.5]]),\n",
       " array([[0.1, 0.3, 0.5, 0.8, 0.9, 1. ],\n",
       "        [0.5, 0.7, 0.4, 0.3, 0.2, 0.5]])]"
      ]
     },
     "metadata": {},
     "output_type": "display_data"
    }
   ],
   "source": [
    "x_U_1 = U\n",
    "x_U_2 = U\n",
    "x_U_3 = U\n",
    "\n",
    "x_U = [x_U_1, x_U_2, x_U_3]\n",
    "\n",
    "display(x_U)"
   ]
  },
  {
   "cell_type": "code",
   "execution_count": 8,
   "metadata": {},
   "outputs": [
    {
     "data": {
      "text/plain": [
       "array([[0.1, 0.3, 0.5, 0.8, 0.9, 1. , 0.1, 0.3, 0.5, 0.8, 0.9, 1. ],\n",
       "       [0.5, 0.7, 0.4, 0.3, 0.2, 0.5, 0.5, 0.7, 0.4, 0.3, 0.2, 0.5]])"
      ]
     },
     "execution_count": 8,
     "metadata": {},
     "output_type": "execute_result"
    }
   ],
   "source": [
    "x_U_tmp = np.hstack([x_U[:2][1], x_U[1:][0]])\n",
    "x_U_tmp"
   ]
  },
  {
   "cell_type": "code",
   "execution_count": 9,
   "metadata": {},
   "outputs": [
    {
     "data": {
      "text/plain": [
       "[array([[0.1, 0.3, 0.5, 0.8, 0.9, 1. , 0.1, 0.4, 0.3, 0.9],\n",
       "        [0.5, 0.7, 0.4, 0.3, 0.2, 0.5, 0.5, 0.4, 0.8, 0.7]]),\n",
       " array([[0.1, 0.3, 0.5, 0.8, 0.9, 1. , 0.1, 0.6, 0.2, 0.7],\n",
       "        [0.5, 0.7, 0.4, 0.3, 0.2, 0.5, 0.3, 0.4, 0.8, 0.6]]),\n",
       " array([[0.1, 0.3, 0.5, 0.8, 0.9, 1. , 0.4, 0.9, 0.2, 0.5],\n",
       "        [0.5, 0.7, 0.4, 0.3, 0.2, 0.5, 0.2, 0.3, 0.6, 0.7]])]"
      ]
     },
     "execution_count": 9,
     "metadata": {},
     "output_type": "execute_result"
    }
   ],
   "source": [
    "x_S_1 = np.hstack([x_U_1, x_L_1])\n",
    "x_S_2 = np.hstack([x_U_2, x_L_2])\n",
    "x_S_3 = np.hstack([x_U_3, x_L_3])\n",
    "\n",
    "x_S = [x_S_1, x_S_2, x_S_3]\n",
    "\n",
    "x_S"
   ]
  },
  {
   "cell_type": "code",
   "execution_count": null,
   "metadata": {},
   "outputs": [],
   "source": []
  },
  {
   "cell_type": "code",
   "execution_count": 10,
   "metadata": {},
   "outputs": [
    {
     "name": "stdout",
     "output_type": "stream",
     "text": [
      "[array([[-1,  0,  0,  0,  0,  0,  1,  0,  0,  0,  0,  0],\n",
      "       [ 0, -1,  0,  0,  0,  0,  0,  1,  0,  0,  0,  0],\n",
      "       [ 0,  0, -1,  0,  0,  0,  0,  0,  1,  0,  0,  0],\n",
      "       [ 0,  0,  0, -1,  0,  0,  0,  0,  0,  1,  0,  0],\n",
      "       [ 0,  0,  0,  0, -1,  0,  0,  0,  0,  0,  1,  0],\n",
      "       [ 0,  0,  0,  0,  0, -1,  0,  0,  0,  0,  0,  1]]), array([[-1,  0,  0,  0,  0,  0,  1,  0,  0,  0,  0,  0],\n",
      "       [ 0, -1,  0,  0,  0,  0,  0,  1,  0,  0,  0,  0],\n",
      "       [ 0,  0, -1,  0,  0,  0,  0,  0,  1,  0,  0,  0],\n",
      "       [ 0,  0,  0, -1,  0,  0,  0,  0,  0,  1,  0,  0],\n",
      "       [ 0,  0,  0,  0, -1,  0,  0,  0,  0,  0,  1,  0],\n",
      "       [ 0,  0,  0,  0,  0, -1,  0,  0,  0,  0,  0,  1]])]\n"
     ]
    }
   ],
   "source": [
    "# 6 x 12 の行列\n",
    "M_1 = np.array([[-1, 0, 0, 0, 0, 0, 1, 0, 0, 0, 0, 0],\n",
    "                [0, -1, 0, 0, 0, 0, 0, 1, 0, 0, 0, 0],\n",
    "                [0, 0, -1, 0, 0, 0, 0, 0, 1, 0, 0, 0],\n",
    "                [0, 0, 0, -1, 0, 0, 0, 0, 0, 1, 0, 0],\n",
    "                [0, 0, 0, 0, -1, 0, 0, 0, 0, 0, 1, 0],\n",
    "                [0, 0, 0, 0, 0, -1, 0, 0, 0, 0, 0, 1]])\n",
    "\n",
    "M_2 = np.array([[-1, 0, 0, 0, 0, 0, 1, 0, 0, 0, 0, 0],\n",
    "                [0, -1, 0, 0, 0, 0, 0, 1, 0, 0, 0, 0],\n",
    "                [0, 0, -1, 0, 0, 0, 0, 0, 1, 0, 0, 0],\n",
    "                [0, 0, 0, -1, 0, 0, 0, 0, 0, 1, 0, 0],\n",
    "                [0, 0, 0, 0, -1, 0, 0, 0, 0, 0, 1, 0],\n",
    "                [0, 0, 0, 0, 0, -1, 0, 0, 0, 0, 0, 1]])\n",
    "\n",
    "M = [M_1, M_2]\n",
    "print(M)"
   ]
  },
  {
   "cell_type": "code",
   "execution_count": 11,
   "metadata": {},
   "outputs": [
    {
     "name": "stdout",
     "output_type": "stream",
     "text": [
      "[array([[1],\n",
      "       [1],\n",
      "       [1],\n",
      "       [1],\n",
      "       [1],\n",
      "       [1]]), array([[1],\n",
      "       [1],\n",
      "       [1],\n",
      "       [1],\n",
      "       [1],\n",
      "       [1]])]\n"
     ]
    }
   ],
   "source": [
    "# 6 x 1 の行列（列ベクトル）\n",
    "q_1 = np.array([[1, 1, 1, 1, 1, 1]]).T\n",
    "q_2 = np.array([[1, 1, 1, 1, 1, 1]]).T\n",
    "\n",
    "q = [q_1, q_2]\n",
    "print(q)"
   ]
  },
  {
   "cell_type": "code",
   "execution_count": null,
   "metadata": {},
   "outputs": [],
   "source": []
  },
  {
   "cell_type": "code",
   "execution_count": null,
   "metadata": {},
   "outputs": [],
   "source": []
  },
  {
   "cell_type": "markdown",
   "metadata": {},
   "source": [
    "## 1.2 目的関数の実装\n",
    "\n",
    "メモ\n",
    "\n",
    "* cp.quad_form で計算できるように，シグマ記号を二次形式で書き換える"
   ]
  },
  {
   "cell_type": "code",
   "execution_count": 14,
   "metadata": {},
   "outputs": [
    {
     "data": {
      "text/plain": [
       "(Variable((3, 4), nonneg=True),\n",
       " Variable((2, 6), nonneg=True),\n",
       " Variable((3, 10), nonneg=True),\n",
       " Variable((3, 10), nonneg=True))"
      ]
     },
     "execution_count": 14,
     "metadata": {},
     "output_type": "execute_result"
    }
   ],
   "source": [
    "# 通常の内積\n",
    "\n",
    "def kernel_function(x1, x2):\n",
    "    return x1.T @ x2\n",
    "\n",
    "k = kernel_function\n",
    "\n",
    "\n",
    "# 変数 \n",
    "lambda_j_l = cp.Variable(shape=(3, 4), nonneg=True) # j \\in {1, 2, 3}, l \\in {1, 2, 3, 4}\n",
    "lambda_h_i = cp.Variable(shape=(2, 6), nonneg=True) # h \\in {1, 2}, i \\in {1, 2, 3, 4, 5, 6}\n",
    "eta_j_s = cp.Variable(shape=(3, 10), nonneg=True) # j \\in {1, 2, 3}, s \\in {1, 2, 3, 4, 5, 6, 7, 8, 9, 10}\n",
    "eta_hat_j_s = cp.Variable(shape=(3, 10), nonneg=True) # j \\in {1, 2, 3}, s \\in {1, 2, 3, 4, 5, 6, 7, 8, 9, 10}\n",
    "\n",
    "lambda_j_l, lambda_h_i, eta_j_s, eta_hat_j_s"
   ]
  },
  {
   "cell_type": "code",
   "execution_count": 15,
   "metadata": {},
   "outputs": [
    {
     "data": {
      "text/plain": [
       "array([[0.1, 0.3, 0.5, 0.8, 0.9, 1. , 0.1, 0.3, 0.5, 0.8, 0.9, 1. ],\n",
       "       [0.5, 0.7, 0.4, 0.3, 0.2, 0.5, 0.5, 0.7, 0.4, 0.3, 0.2, 0.5]])"
      ]
     },
     "execution_count": 15,
     "metadata": {},
     "output_type": "execute_result"
    }
   ],
   "source": [
    "len_j = 3\n",
    "len_l = 4 \n",
    "\n",
    "len_h = 2\n",
    "len_I_h = 6\n",
    "\n",
    "len_u = 12\n",
    "\n",
    "len_s = 10\n",
    "\n",
    "# とりあえずこれで\n",
    "x_U_tmp = np.hstack([x_U[:2][1], x_U[1:][0]])\n",
    "x_U_tmp"
   ]
  },
  {
   "cell_type": "markdown",
   "metadata": {},
   "source": [
    "### 1.2.1 目的関数"
   ]
  },
  {
   "cell_type": "code",
   "execution_count": 86,
   "metadata": {},
   "outputs": [
    {
     "data": {
      "text/plain": [
       "Expression(CONCAVE, UNKNOWN, (1, 1))"
      ]
     },
     "metadata": {},
     "output_type": "display_data"
    }
   ],
   "source": [
    "obj_func = 0\n",
    "\n",
    "\n",
    "for j in range(len_j):\n",
    "    A = np.zeros((len_l, len_l))\n",
    "    for l in range(len_l):\n",
    "        for l_prime in range(len_l):\n",
    "            A[l, l_prime] = y_L[j][0, l] * y_L[j][0, l_prime] * k(x_L[j][:, l], x_L[j][:, l_prime])\n",
    "    # print(f'A \\n{A}\\n')\n",
    "\n",
    "    obj_func += 4 * cp.quad_form(lambda_j_l[0, :], A)\n",
    "\n",
    "\n",
    "    # tmp_obj = 0\n",
    "    # for h in range(len_h):\n",
    "    #     for h_prime in range(len_h):\n",
    "    #         # 各 h について，I_h （h が取る要素の数）がそれぞれ違えば，ここは変更しないといけない\n",
    "    #         B = np.zeros((len_I_h, len_I_h))\n",
    "    #         for i in range(len_I_h):\n",
    "    #             for i_prime in range(len_I_h):\n",
    "    #                 for u in range(len_u):\n",
    "    #                     for u_prime in range(len_u):\n",
    "    #                         B[i, i_prime] = M[h][i, u] * M[h_prime][i_prime, u_prime] * k(x_U_tmp[:, u], x_U_tmp[:, u_prime])\n",
    "    #         tmp1 = np.hstack([np.zeros((len_I_h, len_I_h)), B])\n",
    "    #         tmp2 = np.hstack([B.T, np.zeros((len_I_h, len_I_h))])\n",
    "    #         B = np.vstack([tmp1, tmp2])\n",
    "    #         tmp_vars = cp.hstack([lambda_h_i[h], lambda_h_i[h_prime]])\n",
    "    #         cp.quad_form(tmp_vars, B)\n",
    "    #         # tmp_obj += cp.quad_form(tmp_vars, B)\n",
    "    #         tmp_obj += cp.quad_form(tmp_vars, B, assume_PSD=True)\n",
    "    \n",
    "    # obj_func += tmp_obj\n",
    "\n",
    "\n",
    "    D = np.zeros((len_s, len_s))\n",
    "    for s in range(len_s):\n",
    "        for s_prime in range(len_s):\n",
    "            D[s, s_prime] = k(x_S[j][:, s], x_S[j][:, s_prime])\n",
    "    # print(f'D \\n{D}\\n')\n",
    "    \n",
    "    obj_func += cp.quad_form(eta_j_s[j, :] - eta_hat_j_s[j, :], D)\n",
    "\n",
    "\n",
    "    tmp_obj = 0\n",
    "    for h in range(len_h):\n",
    "        E = np.zeros((len_l, len_I_h))\n",
    "        for l in range(len_l):\n",
    "            for i in range(len_I_h):\n",
    "                tmp = 0\n",
    "                for u in range(len_u):\n",
    "                    tmp += y_L[j][0, l] * M[h][i, u] * k(x_L[j][:, l], x_U_tmp[:, u])\n",
    "                E[l, i] = tmp\n",
    "        tmp1 = np.hstack([np.zeros((len_l, len_l)), E])\n",
    "        tmp2 = np.hstack([E.T, np.zeros((len_I_h, len_I_h))])\n",
    "        E = np.vstack([tmp1, tmp2])\n",
    "        tmp_vars = cp.hstack([lambda_j_l[j], lambda_h_i[h]])\n",
    "        # cp.quad_form(tmp_vars, E)\n",
    "        tmp_obj += cp.quad_form(tmp_vars, E, assume_PSD=True)\n",
    "    \n",
    "    # ここで -4 でかけると 全体で concavity がなくなる\n",
    "    # obj_func += (-4) * tmp_obj\n",
    "    obj_func += 4 * tmp_obj\n",
    "\n",
    "\n",
    "    F = np.zeros((len_l, len_s))\n",
    "    for l in range(len_l):\n",
    "        for s in range(len_s):\n",
    "            F[l, s] = y_L[j][0, l] * k(x_L[j][:, l], x_S[j][:, s])\n",
    "    tmp1 = np.hstack([np.zeros((len_l, len_l)), F])\n",
    "    tmp2 = np.hstack([F.T, np.zeros((len_s, len_s))])\n",
    "    F = np.vstack([tmp1, tmp2])\n",
    "    tmp_vars = cp.hstack([lambda_j_l[j], eta_j_s[j] - eta_hat_j_s[j]])\n",
    "\n",
    "    # obj_func += 4 * cp.quad_form(tmp_vars, F)\n",
    "    obj_func += 4 * cp.quad_form(tmp_vars, F, assume_PSD=True)\n",
    "    \n",
    "\n",
    "    tmp_obj = 0\n",
    "    for h in range(len_h):\n",
    "        G = np.zeros((len_I_h, len_s))\n",
    "        for i in range(len_I_h):\n",
    "            for s in range(len_s):\n",
    "                tmp = 0\n",
    "                for u in range(len_u):\n",
    "                    tmp += M[h][i, u] * k(x_U_tmp[:, u], x_S[j][:, s])\n",
    "                G[i, s] = tmp\n",
    "        tmp1 = np.hstack([np.zeros((len_I_h, len_I_h)), G])\n",
    "        tmp2 = np.hstack([G.T, np.zeros((len_s, len_s))])\n",
    "        G = np.vstack([tmp1, tmp2])\n",
    "        tmp_vars = cp.hstack([lambda_h_i[h], eta_j_s[j] - eta_hat_j_s[j]])\n",
    "        # cp.quad_form(tmp_vars, G)\n",
    "        tmp_obj += cp.quad_form(tmp_vars, G, assume_PSD=True)\n",
    "\n",
    "    # ここで，-2 でかけると，全体で concavity がなくなる\n",
    "    # obj_func += (-2) * tmp_obj\n",
    "    obj_func += 2 * tmp_obj\n",
    "\n",
    "\n",
    "for j in range(len_j):\n",
    "    for l in range(len_l):\n",
    "        obj_func += lambda_j_l[j, l]\n",
    "\n",
    "for h in range(len_h):\n",
    "    for i in range(len_I_h):\n",
    "        tmp = 0\n",
    "        for u in range(len_u):\n",
    "            tmp += M[h][i, u]\n",
    "        \n",
    "        obj_func += lambda_h_i[h, i] * (1/2 * tmp + q[h][i,0])\n",
    "\n",
    "tmp = 0\n",
    "for j in range(len_j):\n",
    "    for s in range(len_s):\n",
    "        tmp += eta_j_s[j, s] + eta_hat_j_s[j, s]\n",
    "obj_func += -1/2 * tmp\n",
    "\n",
    "\n",
    "obj_func = (-1/2) * obj_func\n",
    "\n",
    "display(obj_func)"
   ]
  },
  {
   "cell_type": "code",
   "execution_count": 87,
   "metadata": {},
   "outputs": [
    {
     "name": "stdout",
     "output_type": "stream",
     "text": [
      "-0.5 @ (4.0 @ QuadForm(var1[0, 0:4], [[ 0.26  0.24 -0.43 -0.44]\n",
      " [ 0.24  0.32 -0.44 -0.64]\n",
      " [-0.43 -0.44  0.73  0.83]\n",
      " [-0.44 -0.64  0.83  1.3 ]]) + QuadForm(var3[0, 0:10] + -var4[0, 0:10], [[0.26 0.38 0.25 0.23 0.19 0.35 0.26 0.24 0.43 0.44]\n",
      " [0.38 0.58 0.43 0.45 0.41 0.65 0.38 0.4  0.65 0.76]\n",
      " [0.25 0.43 0.41 0.52 0.53 0.7  0.25 0.36 0.47 0.73]\n",
      " [0.23 0.45 0.52 0.73 0.78 0.95 0.23 0.44 0.48 0.93]\n",
      " [0.19 0.41 0.53 0.78 0.85 1.   0.19 0.44 0.43 0.95]\n",
      " [0.35 0.65 0.7  0.95 1.   1.25 0.35 0.6  0.7  1.25]\n",
      " [0.26 0.38 0.25 0.23 0.19 0.35 0.26 0.24 0.43 0.44]\n",
      " [0.24 0.4  0.36 0.44 0.44 0.6  0.24 0.32 0.44 0.64]\n",
      " [0.43 0.65 0.47 0.48 0.43 0.7  0.43 0.44 0.73 0.83]\n",
      " [0.44 0.76 0.73 0.93 0.95 1.25 0.44 0.64 0.83 1.3 ]]) + 4.0 @ (QuadForm(Hstack(var1[0, 0:4], var2[0, 0:6]), psd_wrap([[0. 0. 0. 0. 0. 0. 0. 0. 0. 0.]\n",
      " [0. 0. 0. 0. 0. 0. 0. 0. 0. 0.]\n",
      " [0. 0. 0. 0. 0. 0. 0. 0. 0. 0.]\n",
      " [0. 0. 0. 0. 0. 0. 0. 0. 0. 0.]\n",
      " [0. 0. 0. 0. 0. 0. 0. 0. 0. 0.]\n",
      " [0. 0. 0. 0. 0. 0. 0. 0. 0. 0.]\n",
      " [0. 0. 0. 0. 0. 0. 0. 0. 0. 0.]\n",
      " [0. 0. 0. 0. 0. 0. 0. 0. 0. 0.]\n",
      " [0. 0. 0. 0. 0. 0. 0. 0. 0. 0.]\n",
      " [0. 0. 0. 0. 0. 0. 0. 0. 0. 0.]])) + QuadForm(Hstack(var1[0, 0:4], var2[1, 0:6]), psd_wrap([[0. 0. 0. 0. 0. 0. 0. 0. 0. 0.]\n",
      " [0. 0. 0. 0. 0. 0. 0. 0. 0. 0.]\n",
      " [0. 0. 0. 0. 0. 0. 0. 0. 0. 0.]\n",
      " [0. 0. 0. 0. 0. 0. 0. 0. 0. 0.]\n",
      " [0. 0. 0. 0. 0. 0. 0. 0. 0. 0.]\n",
      " [0. 0. 0. 0. 0. 0. 0. 0. 0. 0.]\n",
      " [0. 0. 0. 0. 0. 0. 0. 0. 0. 0.]\n",
      " [0. 0. 0. 0. 0. 0. 0. 0. 0. 0.]\n",
      " [0. 0. 0. 0. 0. 0. 0. 0. 0. 0.]\n",
      " [0. 0. 0. 0. 0. 0. 0. 0. 0. 0.]]))) + 4.0 @ QuadForm(Hstack(var1[0, 0:4], var3[0, 0:10] + -var4[0, 0:10]), psd_wrap([[ 0.    0.    0.    0.   -0.26 -0.38 -0.25 -0.23 -0.19 -0.35 -0.26 -0.24\n",
      "  -0.43 -0.44]\n",
      " [ 0.    0.    0.    0.   -0.24 -0.4  -0.36 -0.44 -0.44 -0.6  -0.24 -0.32\n",
      "  -0.44 -0.64]\n",
      " [ 0.    0.    0.    0.    0.43  0.65  0.47  0.48  0.43  0.7   0.43  0.44\n",
      "   0.73  0.83]\n",
      " [ 0.    0.    0.    0.    0.44  0.76  0.73  0.93  0.95  1.25  0.44  0.64\n",
      "   0.83  1.3 ]\n",
      " [-0.26 -0.24  0.43  0.44  0.    0.    0.    0.    0.    0.    0.    0.\n",
      "   0.    0.  ]\n",
      " [-0.38 -0.4   0.65  0.76  0.    0.    0.    0.    0.    0.    0.    0.\n",
      "   0.    0.  ]\n",
      " [-0.25 -0.36  0.47  0.73  0.    0.    0.    0.    0.    0.    0.    0.\n",
      "   0.    0.  ]\n",
      " [-0.23 -0.44  0.48  0.93  0.    0.    0.    0.    0.    0.    0.    0.\n",
      "   0.    0.  ]\n",
      " [-0.19 -0.44  0.43  0.95  0.    0.    0.    0.    0.    0.    0.    0.\n",
      "   0.    0.  ]\n",
      " [-0.35 -0.6   0.7   1.25  0.    0.    0.    0.    0.    0.    0.    0.\n",
      "   0.    0.  ]\n",
      " [-0.26 -0.24  0.43  0.44  0.    0.    0.    0.    0.    0.    0.    0.\n",
      "   0.    0.  ]\n",
      " [-0.24 -0.32  0.44  0.64  0.    0.    0.    0.    0.    0.    0.    0.\n",
      "   0.    0.  ]\n",
      " [-0.43 -0.44  0.73  0.83  0.    0.    0.    0.    0.    0.    0.    0.\n",
      "   0.    0.  ]\n",
      " [-0.44 -0.64  0.83  1.3   0.    0.    0.    0.    0.    0.    0.    0.\n",
      "   0.    0.  ]])) + 2.0 @ (QuadForm(Hstack(var2[0, 0:6], var3[0, 0:10] + -var4[0, 0:10]), psd_wrap([[0. 0. 0. 0. 0. 0. 0. 0. 0. 0. 0. 0. 0. 0. 0. 0.]\n",
      " [0. 0. 0. 0. 0. 0. 0. 0. 0. 0. 0. 0. 0. 0. 0. 0.]\n",
      " [0. 0. 0. 0. 0. 0. 0. 0. 0. 0. 0. 0. 0. 0. 0. 0.]\n",
      " [0. 0. 0. 0. 0. 0. 0. 0. 0. 0. 0. 0. 0. 0. 0. 0.]\n",
      " [0. 0. 0. 0. 0. 0. 0. 0. 0. 0. 0. 0. 0. 0. 0. 0.]\n",
      " [0. 0. 0. 0. 0. 0. 0. 0. 0. 0. 0. 0. 0. 0. 0. 0.]\n",
      " [0. 0. 0. 0. 0. 0. 0. 0. 0. 0. 0. 0. 0. 0. 0. 0.]\n",
      " [0. 0. 0. 0. 0. 0. 0. 0. 0. 0. 0. 0. 0. 0. 0. 0.]\n",
      " [0. 0. 0. 0. 0. 0. 0. 0. 0. 0. 0. 0. 0. 0. 0. 0.]\n",
      " [0. 0. 0. 0. 0. 0. 0. 0. 0. 0. 0. 0. 0. 0. 0. 0.]\n",
      " [0. 0. 0. 0. 0. 0. 0. 0. 0. 0. 0. 0. 0. 0. 0. 0.]\n",
      " [0. 0. 0. 0. 0. 0. 0. 0. 0. 0. 0. 0. 0. 0. 0. 0.]\n",
      " [0. 0. 0. 0. 0. 0. 0. 0. 0. 0. 0. 0. 0. 0. 0. 0.]\n",
      " [0. 0. 0. 0. 0. 0. 0. 0. 0. 0. 0. 0. 0. 0. 0. 0.]\n",
      " [0. 0. 0. 0. 0. 0. 0. 0. 0. 0. 0. 0. 0. 0. 0. 0.]\n",
      " [0. 0. 0. 0. 0. 0. 0. 0. 0. 0. 0. 0. 0. 0. 0. 0.]])) + QuadForm(Hstack(var2[1, 0:6], var3[0, 0:10] + -var4[0, 0:10]), psd_wrap([[0. 0. 0. 0. 0. 0. 0. 0. 0. 0. 0. 0. 0. 0. 0. 0.]\n",
      " [0. 0. 0. 0. 0. 0. 0. 0. 0. 0. 0. 0. 0. 0. 0. 0.]\n",
      " [0. 0. 0. 0. 0. 0. 0. 0. 0. 0. 0. 0. 0. 0. 0. 0.]\n",
      " [0. 0. 0. 0. 0. 0. 0. 0. 0. 0. 0. 0. 0. 0. 0. 0.]\n",
      " [0. 0. 0. 0. 0. 0. 0. 0. 0. 0. 0. 0. 0. 0. 0. 0.]\n",
      " [0. 0. 0. 0. 0. 0. 0. 0. 0. 0. 0. 0. 0. 0. 0. 0.]\n",
      " [0. 0. 0. 0. 0. 0. 0. 0. 0. 0. 0. 0. 0. 0. 0. 0.]\n",
      " [0. 0. 0. 0. 0. 0. 0. 0. 0. 0. 0. 0. 0. 0. 0. 0.]\n",
      " [0. 0. 0. 0. 0. 0. 0. 0. 0. 0. 0. 0. 0. 0. 0. 0.]\n",
      " [0. 0. 0. 0. 0. 0. 0. 0. 0. 0. 0. 0. 0. 0. 0. 0.]\n",
      " [0. 0. 0. 0. 0. 0. 0. 0. 0. 0. 0. 0. 0. 0. 0. 0.]\n",
      " [0. 0. 0. 0. 0. 0. 0. 0. 0. 0. 0. 0. 0. 0. 0. 0.]\n",
      " [0. 0. 0. 0. 0. 0. 0. 0. 0. 0. 0. 0. 0. 0. 0. 0.]\n",
      " [0. 0. 0. 0. 0. 0. 0. 0. 0. 0. 0. 0. 0. 0. 0. 0.]\n",
      " [0. 0. 0. 0. 0. 0. 0. 0. 0. 0. 0. 0. 0. 0. 0. 0.]\n",
      " [0. 0. 0. 0. 0. 0. 0. 0. 0. 0. 0. 0. 0. 0. 0. 0.]]))) + 4.0 @ QuadForm(var1[0, 0:4], [[ 0.1   0.18 -0.26 -0.25]\n",
      " [ 0.18  0.52 -0.44 -0.66]\n",
      " [-0.26 -0.44  0.68  0.62]\n",
      " [-0.25 -0.66  0.62  0.85]]) + QuadForm(var3[1, 0:10] + -var4[1, 0:10], [[0.26 0.38 0.25 0.23 0.19 0.35 0.16 0.26 0.42 0.37]\n",
      " [0.38 0.58 0.43 0.45 0.41 0.65 0.24 0.46 0.62 0.63]\n",
      " [0.25 0.43 0.41 0.52 0.53 0.7  0.17 0.46 0.42 0.59]\n",
      " [0.23 0.45 0.52 0.73 0.78 0.95 0.17 0.6  0.4  0.74]\n",
      " [0.19 0.41 0.53 0.78 0.85 1.   0.15 0.62 0.34 0.75]\n",
      " [0.35 0.65 0.7  0.95 1.   1.25 0.25 0.8  0.6  1.  ]\n",
      " [0.16 0.24 0.17 0.17 0.15 0.25 0.1  0.18 0.26 0.25]\n",
      " [0.26 0.46 0.46 0.6  0.62 0.8  0.18 0.52 0.44 0.66]\n",
      " [0.42 0.62 0.42 0.4  0.34 0.6  0.26 0.44 0.68 0.62]\n",
      " [0.37 0.63 0.59 0.74 0.75 1.   0.25 0.66 0.62 0.85]]) + 4.0 @ (QuadForm(Hstack(var1[1, 0:4], var2[0, 0:6]), psd_wrap([[0. 0. 0. 0. 0. 0. 0. 0. 0. 0.]\n",
      " [0. 0. 0. 0. 0. 0. 0. 0. 0. 0.]\n",
      " [0. 0. 0. 0. 0. 0. 0. 0. 0. 0.]\n",
      " [0. 0. 0. 0. 0. 0. 0. 0. 0. 0.]\n",
      " [0. 0. 0. 0. 0. 0. 0. 0. 0. 0.]\n",
      " [0. 0. 0. 0. 0. 0. 0. 0. 0. 0.]\n",
      " [0. 0. 0. 0. 0. 0. 0. 0. 0. 0.]\n",
      " [0. 0. 0. 0. 0. 0. 0. 0. 0. 0.]\n",
      " [0. 0. 0. 0. 0. 0. 0. 0. 0. 0.]\n",
      " [0. 0. 0. 0. 0. 0. 0. 0. 0. 0.]])) + QuadForm(Hstack(var1[1, 0:4], var2[1, 0:6]), psd_wrap([[0. 0. 0. 0. 0. 0. 0. 0. 0. 0.]\n",
      " [0. 0. 0. 0. 0. 0. 0. 0. 0. 0.]\n",
      " [0. 0. 0. 0. 0. 0. 0. 0. 0. 0.]\n",
      " [0. 0. 0. 0. 0. 0. 0. 0. 0. 0.]\n",
      " [0. 0. 0. 0. 0. 0. 0. 0. 0. 0.]\n",
      " [0. 0. 0. 0. 0. 0. 0. 0. 0. 0.]\n",
      " [0. 0. 0. 0. 0. 0. 0. 0. 0. 0.]\n",
      " [0. 0. 0. 0. 0. 0. 0. 0. 0. 0.]\n",
      " [0. 0. 0. 0. 0. 0. 0. 0. 0. 0.]\n",
      " [0. 0. 0. 0. 0. 0. 0. 0. 0. 0.]]))) + 4.0 @ QuadForm(Hstack(var1[1, 0:4], var3[1, 0:10] + -var4[1, 0:10]), psd_wrap([[ 0.    0.    0.    0.   -0.16 -0.24 -0.17 -0.17 -0.15 -0.25 -0.1  -0.18\n",
      "  -0.26 -0.25]\n",
      " [ 0.    0.    0.    0.   -0.26 -0.46 -0.46 -0.6  -0.62 -0.8  -0.18 -0.52\n",
      "  -0.44 -0.66]\n",
      " [ 0.    0.    0.    0.    0.42  0.62  0.42  0.4   0.34  0.6   0.26  0.44\n",
      "   0.68  0.62]\n",
      " [ 0.    0.    0.    0.    0.37  0.63  0.59  0.74  0.75  1.    0.25  0.66\n",
      "   0.62  0.85]\n",
      " [-0.16 -0.26  0.42  0.37  0.    0.    0.    0.    0.    0.    0.    0.\n",
      "   0.    0.  ]\n",
      " [-0.24 -0.46  0.62  0.63  0.    0.    0.    0.    0.    0.    0.    0.\n",
      "   0.    0.  ]\n",
      " [-0.17 -0.46  0.42  0.59  0.    0.    0.    0.    0.    0.    0.    0.\n",
      "   0.    0.  ]\n",
      " [-0.17 -0.6   0.4   0.74  0.    0.    0.    0.    0.    0.    0.    0.\n",
      "   0.    0.  ]\n",
      " [-0.15 -0.62  0.34  0.75  0.    0.    0.    0.    0.    0.    0.    0.\n",
      "   0.    0.  ]\n",
      " [-0.25 -0.8   0.6   1.    0.    0.    0.    0.    0.    0.    0.    0.\n",
      "   0.    0.  ]\n",
      " [-0.1  -0.18  0.26  0.25  0.    0.    0.    0.    0.    0.    0.    0.\n",
      "   0.    0.  ]\n",
      " [-0.18 -0.52  0.44  0.66  0.    0.    0.    0.    0.    0.    0.    0.\n",
      "   0.    0.  ]\n",
      " [-0.26 -0.44  0.68  0.62  0.    0.    0.    0.    0.    0.    0.    0.\n",
      "   0.    0.  ]\n",
      " [-0.25 -0.66  0.62  0.85  0.    0.    0.    0.    0.    0.    0.    0.\n",
      "   0.    0.  ]])) + 2.0 @ (QuadForm(Hstack(var2[0, 0:6], var3[1, 0:10] + -var4[1, 0:10]), psd_wrap([[0. 0. 0. 0. 0. 0. 0. 0. 0. 0. 0. 0. 0. 0. 0. 0.]\n",
      " [0. 0. 0. 0. 0. 0. 0. 0. 0. 0. 0. 0. 0. 0. 0. 0.]\n",
      " [0. 0. 0. 0. 0. 0. 0. 0. 0. 0. 0. 0. 0. 0. 0. 0.]\n",
      " [0. 0. 0. 0. 0. 0. 0. 0. 0. 0. 0. 0. 0. 0. 0. 0.]\n",
      " [0. 0. 0. 0. 0. 0. 0. 0. 0. 0. 0. 0. 0. 0. 0. 0.]\n",
      " [0. 0. 0. 0. 0. 0. 0. 0. 0. 0. 0. 0. 0. 0. 0. 0.]\n",
      " [0. 0. 0. 0. 0. 0. 0. 0. 0. 0. 0. 0. 0. 0. 0. 0.]\n",
      " [0. 0. 0. 0. 0. 0. 0. 0. 0. 0. 0. 0. 0. 0. 0. 0.]\n",
      " [0. 0. 0. 0. 0. 0. 0. 0. 0. 0. 0. 0. 0. 0. 0. 0.]\n",
      " [0. 0. 0. 0. 0. 0. 0. 0. 0. 0. 0. 0. 0. 0. 0. 0.]\n",
      " [0. 0. 0. 0. 0. 0. 0. 0. 0. 0. 0. 0. 0. 0. 0. 0.]\n",
      " [0. 0. 0. 0. 0. 0. 0. 0. 0. 0. 0. 0. 0. 0. 0. 0.]\n",
      " [0. 0. 0. 0. 0. 0. 0. 0. 0. 0. 0. 0. 0. 0. 0. 0.]\n",
      " [0. 0. 0. 0. 0. 0. 0. 0. 0. 0. 0. 0. 0. 0. 0. 0.]\n",
      " [0. 0. 0. 0. 0. 0. 0. 0. 0. 0. 0. 0. 0. 0. 0. 0.]\n",
      " [0. 0. 0. 0. 0. 0. 0. 0. 0. 0. 0. 0. 0. 0. 0. 0.]])) + QuadForm(Hstack(var2[1, 0:6], var3[1, 0:10] + -var4[1, 0:10]), psd_wrap([[0. 0. 0. 0. 0. 0. 0. 0. 0. 0. 0. 0. 0. 0. 0. 0.]\n",
      " [0. 0. 0. 0. 0. 0. 0. 0. 0. 0. 0. 0. 0. 0. 0. 0.]\n",
      " [0. 0. 0. 0. 0. 0. 0. 0. 0. 0. 0. 0. 0. 0. 0. 0.]\n",
      " [0. 0. 0. 0. 0. 0. 0. 0. 0. 0. 0. 0. 0. 0. 0. 0.]\n",
      " [0. 0. 0. 0. 0. 0. 0. 0. 0. 0. 0. 0. 0. 0. 0. 0.]\n",
      " [0. 0. 0. 0. 0. 0. 0. 0. 0. 0. 0. 0. 0. 0. 0. 0.]\n",
      " [0. 0. 0. 0. 0. 0. 0. 0. 0. 0. 0. 0. 0. 0. 0. 0.]\n",
      " [0. 0. 0. 0. 0. 0. 0. 0. 0. 0. 0. 0. 0. 0. 0. 0.]\n",
      " [0. 0. 0. 0. 0. 0. 0. 0. 0. 0. 0. 0. 0. 0. 0. 0.]\n",
      " [0. 0. 0. 0. 0. 0. 0. 0. 0. 0. 0. 0. 0. 0. 0. 0.]\n",
      " [0. 0. 0. 0. 0. 0. 0. 0. 0. 0. 0. 0. 0. 0. 0. 0.]\n",
      " [0. 0. 0. 0. 0. 0. 0. 0. 0. 0. 0. 0. 0. 0. 0. 0.]\n",
      " [0. 0. 0. 0. 0. 0. 0. 0. 0. 0. 0. 0. 0. 0. 0. 0.]\n",
      " [0. 0. 0. 0. 0. 0. 0. 0. 0. 0. 0. 0. 0. 0. 0. 0.]\n",
      " [0. 0. 0. 0. 0. 0. 0. 0. 0. 0. 0. 0. 0. 0. 0. 0.]\n",
      " [0. 0. 0. 0. 0. 0. 0. 0. 0. 0. 0. 0. 0. 0. 0. 0.]]))) + 4.0 @ QuadForm(var1[0, 0:4], [[ 0.2   0.42 -0.2  -0.34]\n",
      " [ 0.42  0.9  -0.36 -0.66]\n",
      " [-0.2  -0.36  0.4   0.52]\n",
      " [-0.34 -0.66  0.52  0.74]]) + QuadForm(var3[2, 0:10] + -var4[2, 0:10], [[0.26 0.38 0.25 0.23 0.19 0.35 0.14 0.24 0.32 0.4 ]\n",
      " [0.38 0.58 0.43 0.45 0.41 0.65 0.26 0.48 0.48 0.64]\n",
      " [0.25 0.43 0.41 0.52 0.53 0.7  0.28 0.57 0.34 0.53]\n",
      " [0.23 0.45 0.52 0.73 0.78 0.95 0.38 0.81 0.34 0.61]\n",
      " [0.19 0.41 0.53 0.78 0.85 1.   0.4  0.87 0.3  0.59]\n",
      " [0.35 0.65 0.7  0.95 1.   1.25 0.5  1.05 0.5  0.85]\n",
      " [0.14 0.26 0.28 0.38 0.4  0.5  0.2  0.42 0.2  0.34]\n",
      " [0.24 0.48 0.57 0.81 0.87 1.05 0.42 0.9  0.36 0.66]\n",
      " [0.32 0.48 0.34 0.34 0.3  0.5  0.2  0.36 0.4  0.52]\n",
      " [0.4  0.64 0.53 0.61 0.59 0.85 0.34 0.66 0.52 0.74]]) + 4.0 @ (QuadForm(Hstack(var1[2, 0:4], var2[0, 0:6]), psd_wrap([[0. 0. 0. 0. 0. 0. 0. 0. 0. 0.]\n",
      " [0. 0. 0. 0. 0. 0. 0. 0. 0. 0.]\n",
      " [0. 0. 0. 0. 0. 0. 0. 0. 0. 0.]\n",
      " [0. 0. 0. 0. 0. 0. 0. 0. 0. 0.]\n",
      " [0. 0. 0. 0. 0. 0. 0. 0. 0. 0.]\n",
      " [0. 0. 0. 0. 0. 0. 0. 0. 0. 0.]\n",
      " [0. 0. 0. 0. 0. 0. 0. 0. 0. 0.]\n",
      " [0. 0. 0. 0. 0. 0. 0. 0. 0. 0.]\n",
      " [0. 0. 0. 0. 0. 0. 0. 0. 0. 0.]\n",
      " [0. 0. 0. 0. 0. 0. 0. 0. 0. 0.]])) + QuadForm(Hstack(var1[2, 0:4], var2[1, 0:6]), psd_wrap([[0. 0. 0. 0. 0. 0. 0. 0. 0. 0.]\n",
      " [0. 0. 0. 0. 0. 0. 0. 0. 0. 0.]\n",
      " [0. 0. 0. 0. 0. 0. 0. 0. 0. 0.]\n",
      " [0. 0. 0. 0. 0. 0. 0. 0. 0. 0.]\n",
      " [0. 0. 0. 0. 0. 0. 0. 0. 0. 0.]\n",
      " [0. 0. 0. 0. 0. 0. 0. 0. 0. 0.]\n",
      " [0. 0. 0. 0. 0. 0. 0. 0. 0. 0.]\n",
      " [0. 0. 0. 0. 0. 0. 0. 0. 0. 0.]\n",
      " [0. 0. 0. 0. 0. 0. 0. 0. 0. 0.]\n",
      " [0. 0. 0. 0. 0. 0. 0. 0. 0. 0.]]))) + 4.0 @ QuadForm(Hstack(var1[2, 0:4], var3[2, 0:10] + -var4[2, 0:10]), psd_wrap([[ 0.    0.    0.    0.   -0.14 -0.26 -0.28 -0.38 -0.4  -0.5  -0.2  -0.42\n",
      "  -0.2  -0.34]\n",
      " [ 0.    0.    0.    0.   -0.24 -0.48 -0.57 -0.81 -0.87 -1.05 -0.42 -0.9\n",
      "  -0.36 -0.66]\n",
      " [ 0.    0.    0.    0.    0.32  0.48  0.34  0.34  0.3   0.5   0.2   0.36\n",
      "   0.4   0.52]\n",
      " [ 0.    0.    0.    0.    0.4   0.64  0.53  0.61  0.59  0.85  0.34  0.66\n",
      "   0.52  0.74]\n",
      " [-0.14 -0.24  0.32  0.4   0.    0.    0.    0.    0.    0.    0.    0.\n",
      "   0.    0.  ]\n",
      " [-0.26 -0.48  0.48  0.64  0.    0.    0.    0.    0.    0.    0.    0.\n",
      "   0.    0.  ]\n",
      " [-0.28 -0.57  0.34  0.53  0.    0.    0.    0.    0.    0.    0.    0.\n",
      "   0.    0.  ]\n",
      " [-0.38 -0.81  0.34  0.61  0.    0.    0.    0.    0.    0.    0.    0.\n",
      "   0.    0.  ]\n",
      " [-0.4  -0.87  0.3   0.59  0.    0.    0.    0.    0.    0.    0.    0.\n",
      "   0.    0.  ]\n",
      " [-0.5  -1.05  0.5   0.85  0.    0.    0.    0.    0.    0.    0.    0.\n",
      "   0.    0.  ]\n",
      " [-0.2  -0.42  0.2   0.34  0.    0.    0.    0.    0.    0.    0.    0.\n",
      "   0.    0.  ]\n",
      " [-0.42 -0.9   0.36  0.66  0.    0.    0.    0.    0.    0.    0.    0.\n",
      "   0.    0.  ]\n",
      " [-0.2  -0.36  0.4   0.52  0.    0.    0.    0.    0.    0.    0.    0.\n",
      "   0.    0.  ]\n",
      " [-0.34 -0.66  0.52  0.74  0.    0.    0.    0.    0.    0.    0.    0.\n",
      "   0.    0.  ]])) + 2.0 @ (QuadForm(Hstack(var2[0, 0:6], var3[2, 0:10] + -var4[2, 0:10]), psd_wrap([[0. 0. 0. 0. 0. 0. 0. 0. 0. 0. 0. 0. 0. 0. 0. 0.]\n",
      " [0. 0. 0. 0. 0. 0. 0. 0. 0. 0. 0. 0. 0. 0. 0. 0.]\n",
      " [0. 0. 0. 0. 0. 0. 0. 0. 0. 0. 0. 0. 0. 0. 0. 0.]\n",
      " [0. 0. 0. 0. 0. 0. 0. 0. 0. 0. 0. 0. 0. 0. 0. 0.]\n",
      " [0. 0. 0. 0. 0. 0. 0. 0. 0. 0. 0. 0. 0. 0. 0. 0.]\n",
      " [0. 0. 0. 0. 0. 0. 0. 0. 0. 0. 0. 0. 0. 0. 0. 0.]\n",
      " [0. 0. 0. 0. 0. 0. 0. 0. 0. 0. 0. 0. 0. 0. 0. 0.]\n",
      " [0. 0. 0. 0. 0. 0. 0. 0. 0. 0. 0. 0. 0. 0. 0. 0.]\n",
      " [0. 0. 0. 0. 0. 0. 0. 0. 0. 0. 0. 0. 0. 0. 0. 0.]\n",
      " [0. 0. 0. 0. 0. 0. 0. 0. 0. 0. 0. 0. 0. 0. 0. 0.]\n",
      " [0. 0. 0. 0. 0. 0. 0. 0. 0. 0. 0. 0. 0. 0. 0. 0.]\n",
      " [0. 0. 0. 0. 0. 0. 0. 0. 0. 0. 0. 0. 0. 0. 0. 0.]\n",
      " [0. 0. 0. 0. 0. 0. 0. 0. 0. 0. 0. 0. 0. 0. 0. 0.]\n",
      " [0. 0. 0. 0. 0. 0. 0. 0. 0. 0. 0. 0. 0. 0. 0. 0.]\n",
      " [0. 0. 0. 0. 0. 0. 0. 0. 0. 0. 0. 0. 0. 0. 0. 0.]\n",
      " [0. 0. 0. 0. 0. 0. 0. 0. 0. 0. 0. 0. 0. 0. 0. 0.]])) + QuadForm(Hstack(var2[1, 0:6], var3[2, 0:10] + -var4[2, 0:10]), psd_wrap([[0. 0. 0. 0. 0. 0. 0. 0. 0. 0. 0. 0. 0. 0. 0. 0.]\n",
      " [0. 0. 0. 0. 0. 0. 0. 0. 0. 0. 0. 0. 0. 0. 0. 0.]\n",
      " [0. 0. 0. 0. 0. 0. 0. 0. 0. 0. 0. 0. 0. 0. 0. 0.]\n",
      " [0. 0. 0. 0. 0. 0. 0. 0. 0. 0. 0. 0. 0. 0. 0. 0.]\n",
      " [0. 0. 0. 0. 0. 0. 0. 0. 0. 0. 0. 0. 0. 0. 0. 0.]\n",
      " [0. 0. 0. 0. 0. 0. 0. 0. 0. 0. 0. 0. 0. 0. 0. 0.]\n",
      " [0. 0. 0. 0. 0. 0. 0. 0. 0. 0. 0. 0. 0. 0. 0. 0.]\n",
      " [0. 0. 0. 0. 0. 0. 0. 0. 0. 0. 0. 0. 0. 0. 0. 0.]\n",
      " [0. 0. 0. 0. 0. 0. 0. 0. 0. 0. 0. 0. 0. 0. 0. 0.]\n",
      " [0. 0. 0. 0. 0. 0. 0. 0. 0. 0. 0. 0. 0. 0. 0. 0.]\n",
      " [0. 0. 0. 0. 0. 0. 0. 0. 0. 0. 0. 0. 0. 0. 0. 0.]\n",
      " [0. 0. 0. 0. 0. 0. 0. 0. 0. 0. 0. 0. 0. 0. 0. 0.]\n",
      " [0. 0. 0. 0. 0. 0. 0. 0. 0. 0. 0. 0. 0. 0. 0. 0.]\n",
      " [0. 0. 0. 0. 0. 0. 0. 0. 0. 0. 0. 0. 0. 0. 0. 0.]\n",
      " [0. 0. 0. 0. 0. 0. 0. 0. 0. 0. 0. 0. 0. 0. 0. 0.]\n",
      " [0. 0. 0. 0. 0. 0. 0. 0. 0. 0. 0. 0. 0. 0. 0. 0.]]))) + var1[0, 0] + var1[0, 1] + var1[0, 2] + var1[0, 3] + var1[1, 0] + var1[1, 1] + var1[1, 2] + var1[1, 3] + var1[2, 0] + var1[2, 1] + var1[2, 2] + var1[2, 3] + var2[0, 0] @ 1.0 + var2[0, 1] @ 1.0 + var2[0, 2] @ 1.0 + var2[0, 3] @ 1.0 + var2[0, 4] @ 1.0 + var2[0, 5] @ 1.0 + var2[1, 0] @ 1.0 + var2[1, 1] @ 1.0 + var2[1, 2] @ 1.0 + var2[1, 3] @ 1.0 + var2[1, 4] @ 1.0 + var2[1, 5] @ 1.0 + -0.5 @ (var3[0, 0] + var4[0, 0] + var3[0, 1] + var4[0, 1] + var3[0, 2] + var4[0, 2] + var3[0, 3] + var4[0, 3] + var3[0, 4] + var4[0, 4] + var3[0, 5] + var4[0, 5] + var3[0, 6] + var4[0, 6] + var3[0, 7] + var4[0, 7] + var3[0, 8] + var4[0, 8] + var3[0, 9] + var4[0, 9] + var3[1, 0] + var4[1, 0] + var3[1, 1] + var4[1, 1] + var3[1, 2] + var4[1, 2] + var3[1, 3] + var4[1, 3] + var3[1, 4] + var4[1, 4] + var3[1, 5] + var4[1, 5] + var3[1, 6] + var4[1, 6] + var3[1, 7] + var4[1, 7] + var3[1, 8] + var4[1, 8] + var3[1, 9] + var4[1, 9] + var3[2, 0] + var4[2, 0] + var3[2, 1] + var4[2, 1] + var3[2, 2] + var4[2, 2] + var3[2, 3] + var4[2, 3] + var3[2, 4] + var4[2, 4] + var3[2, 5] + var4[2, 5] + var3[2, 6] + var4[2, 6] + var3[2, 7] + var4[2, 7] + var3[2, 8] + var4[2, 8] + var3[2, 9] + var4[2, 9]))\n"
     ]
    }
   ],
   "source": [
    "print(obj_func)"
   ]
  },
  {
   "cell_type": "code",
   "execution_count": 88,
   "metadata": {},
   "outputs": [
    {
     "name": "stdout",
     "output_type": "stream",
     "text": [
      "ERROR in LDL_factor: Error in KKT matrix LDL factorization when computing the nonzero elements. The problem seems to be non-convex\n",
      "ERROR in osqp_setup: KKT matrix factorization.\n",
      "The problem seems to be non-convex.\n"
     ]
    },
    {
     "ename": "SolverError",
     "evalue": "Workspace allocation error!",
     "output_type": "error",
     "traceback": [
      "\u001b[0;31m---------------------------------------------------------------------------\u001b[0m",
      "\u001b[0;31mValueError\u001b[0m                                Traceback (most recent call last)",
      "File \u001b[0;32m~/ws/lukasiewicz/myenv/lib/python3.10/site-packages/cvxpy/reductions/solvers/qp_solvers/osqp_qpif.py:102\u001b[0m, in \u001b[0;36mOSQP.solve_via_data\u001b[0;34m(self, data, warm_start, verbose, solver_opts, solver_cache)\u001b[0m\n\u001b[1;32m    101\u001b[0m \u001b[39mtry\u001b[39;00m:\n\u001b[0;32m--> 102\u001b[0m     solver\u001b[39m.\u001b[39;49msetup(P, q, A, lA, uA, verbose\u001b[39m=\u001b[39;49mverbose, \u001b[39m*\u001b[39;49m\u001b[39m*\u001b[39;49msolver_opts)\n\u001b[1;32m    103\u001b[0m \u001b[39mexcept\u001b[39;00m \u001b[39mValueError\u001b[39;00m \u001b[39mas\u001b[39;00m e:\n",
      "File \u001b[0;32m~/ws/lukasiewicz/myenv/lib/python3.10/site-packages/osqp/interface.py:37\u001b[0m, in \u001b[0;36mOSQP.setup\u001b[0;34m(self, P, q, A, l, u, **settings)\u001b[0m\n\u001b[1;32m     36\u001b[0m unpacked_data, settings \u001b[39m=\u001b[39m utils\u001b[39m.\u001b[39mprepare_data(P, q, A, l, u, \u001b[39m*\u001b[39m\u001b[39m*\u001b[39msettings)\n\u001b[0;32m---> 37\u001b[0m \u001b[39mself\u001b[39;49m\u001b[39m.\u001b[39;49m_model\u001b[39m.\u001b[39;49msetup(\u001b[39m*\u001b[39;49munpacked_data, \u001b[39m*\u001b[39;49m\u001b[39m*\u001b[39;49msettings)\n",
      "\u001b[0;31mValueError\u001b[0m: Workspace allocation error!",
      "\nDuring handling of the above exception, another exception occurred:\n",
      "\u001b[0;31mSolverError\u001b[0m                               Traceback (most recent call last)",
      "\u001b[1;32m/home/onoue/ws/lukasiewicz/expts copy.ipynb セル 24\u001b[0m line \u001b[0;36m3\n\u001b[1;32m     <a href='vscode-notebook-cell:/home/onoue/ws/lukasiewicz/expts%20copy.ipynb#Y106sZmlsZQ%3D%3D?line=21'>22</a>\u001b[0m constraints \u001b[39m=\u001b[39m [\n\u001b[1;32m     <a href='vscode-notebook-cell:/home/onoue/ws/lukasiewicz/expts%20copy.ipynb#Y106sZmlsZQ%3D%3D?line=22'>23</a>\u001b[0m     constraint_1 \u001b[39m==\u001b[39m \u001b[39m0\u001b[39m,\n\u001b[1;32m     <a href='vscode-notebook-cell:/home/onoue/ws/lukasiewicz/expts%20copy.ipynb#Y106sZmlsZQ%3D%3D?line=23'>24</a>\u001b[0m     lambda_j_l \u001b[39m>\u001b[39m\u001b[39m=\u001b[39m\u001b[39m0\u001b[39m,\n\u001b[0;32m   (...)\u001b[0m\n\u001b[1;32m     <a href='vscode-notebook-cell:/home/onoue/ws/lukasiewicz/expts%20copy.ipynb#Y106sZmlsZQ%3D%3D?line=28'>29</a>\u001b[0m     eta_hat_j_s \u001b[39m>\u001b[39m\u001b[39m=\u001b[39m \u001b[39m0\u001b[39m\n\u001b[1;32m     <a href='vscode-notebook-cell:/home/onoue/ws/lukasiewicz/expts%20copy.ipynb#Y106sZmlsZQ%3D%3D?line=29'>30</a>\u001b[0m ]\n\u001b[1;32m     <a href='vscode-notebook-cell:/home/onoue/ws/lukasiewicz/expts%20copy.ipynb#Y106sZmlsZQ%3D%3D?line=32'>33</a>\u001b[0m problem \u001b[39m=\u001b[39m cp\u001b[39m.\u001b[39mProblem(objective, constraints)\n\u001b[0;32m---> <a href='vscode-notebook-cell:/home/onoue/ws/lukasiewicz/expts%20copy.ipynb#Y106sZmlsZQ%3D%3D?line=33'>34</a>\u001b[0m result \u001b[39m=\u001b[39m problem\u001b[39m.\u001b[39;49msolve()\n\u001b[1;32m     <a href='vscode-notebook-cell:/home/onoue/ws/lukasiewicz/expts%20copy.ipynb#Y106sZmlsZQ%3D%3D?line=34'>35</a>\u001b[0m \u001b[39mprint\u001b[39m(result)\n",
      "File \u001b[0;32m~/ws/lukasiewicz/myenv/lib/python3.10/site-packages/cvxpy/problems/problem.py:495\u001b[0m, in \u001b[0;36mProblem.solve\u001b[0;34m(self, *args, **kwargs)\u001b[0m\n\u001b[1;32m    493\u001b[0m \u001b[39melse\u001b[39;00m:\n\u001b[1;32m    494\u001b[0m     solve_func \u001b[39m=\u001b[39m Problem\u001b[39m.\u001b[39m_solve\n\u001b[0;32m--> 495\u001b[0m \u001b[39mreturn\u001b[39;00m solve_func(\u001b[39mself\u001b[39;49m, \u001b[39m*\u001b[39;49margs, \u001b[39m*\u001b[39;49m\u001b[39m*\u001b[39;49mkwargs)\n",
      "File \u001b[0;32m~/ws/lukasiewicz/myenv/lib/python3.10/site-packages/cvxpy/problems/problem.py:1066\u001b[0m, in \u001b[0;36mProblem._solve\u001b[0;34m(self, solver, warm_start, verbose, gp, qcp, requires_grad, enforce_dpp, ignore_dpp, canon_backend, **kwargs)\u001b[0m\n\u001b[1;32m   1062\u001b[0m     s\u001b[39m.\u001b[39mLOGGER\u001b[39m.\u001b[39minfo(\n\u001b[1;32m   1063\u001b[0m             \u001b[39m'\u001b[39m\u001b[39mInvoking solver \u001b[39m\u001b[39m%s\u001b[39;00m\u001b[39m  to obtain a solution.\u001b[39m\u001b[39m'\u001b[39m,\n\u001b[1;32m   1064\u001b[0m             solving_chain\u001b[39m.\u001b[39mreductions[\u001b[39m-\u001b[39m\u001b[39m1\u001b[39m]\u001b[39m.\u001b[39mname())\n\u001b[1;32m   1065\u001b[0m start \u001b[39m=\u001b[39m time\u001b[39m.\u001b[39mtime()\n\u001b[0;32m-> 1066\u001b[0m solution \u001b[39m=\u001b[39m solving_chain\u001b[39m.\u001b[39;49msolve_via_data(\n\u001b[1;32m   1067\u001b[0m     \u001b[39mself\u001b[39;49m, data, warm_start, verbose, kwargs)\n\u001b[1;32m   1068\u001b[0m end \u001b[39m=\u001b[39m time\u001b[39m.\u001b[39mtime()\n\u001b[1;32m   1069\u001b[0m \u001b[39mself\u001b[39m\u001b[39m.\u001b[39m_solve_time \u001b[39m=\u001b[39m end \u001b[39m-\u001b[39m start\n",
      "File \u001b[0;32m~/ws/lukasiewicz/myenv/lib/python3.10/site-packages/cvxpy/reductions/solvers/solving_chain.py:423\u001b[0m, in \u001b[0;36mSolvingChain.solve_via_data\u001b[0;34m(self, problem, data, warm_start, verbose, solver_opts)\u001b[0m\n\u001b[1;32m    387\u001b[0m \u001b[39mdef\u001b[39;00m \u001b[39msolve_via_data\u001b[39m(\u001b[39mself\u001b[39m, problem, data, warm_start: \u001b[39mbool\u001b[39m \u001b[39m=\u001b[39m \u001b[39mFalse\u001b[39;00m, verbose: \u001b[39mbool\u001b[39m \u001b[39m=\u001b[39m \u001b[39mFalse\u001b[39;00m,\n\u001b[1;32m    388\u001b[0m                    solver_opts\u001b[39m=\u001b[39m{}):\n\u001b[1;32m    389\u001b[0m \u001b[39m    \u001b[39m\u001b[39m\"\"\"Solves the problem using the data output by the an apply invocation.\u001b[39;00m\n\u001b[1;32m    390\u001b[0m \n\u001b[1;32m    391\u001b[0m \u001b[39m    The semantics are:\u001b[39;00m\n\u001b[0;32m   (...)\u001b[0m\n\u001b[1;32m    421\u001b[0m \u001b[39m        a Solution object.\u001b[39;00m\n\u001b[1;32m    422\u001b[0m \u001b[39m    \"\"\"\u001b[39;00m\n\u001b[0;32m--> 423\u001b[0m     \u001b[39mreturn\u001b[39;00m \u001b[39mself\u001b[39;49m\u001b[39m.\u001b[39;49msolver\u001b[39m.\u001b[39;49msolve_via_data(data, warm_start, verbose,\n\u001b[1;32m    424\u001b[0m                                       solver_opts, problem\u001b[39m.\u001b[39;49m_solver_cache)\n",
      "File \u001b[0;32m~/ws/lukasiewicz/myenv/lib/python3.10/site-packages/cvxpy/reductions/solvers/qp_solvers/osqp_qpif.py:104\u001b[0m, in \u001b[0;36mOSQP.solve_via_data\u001b[0;34m(self, data, warm_start, verbose, solver_opts, solver_cache)\u001b[0m\n\u001b[1;32m    102\u001b[0m         solver\u001b[39m.\u001b[39msetup(P, q, A, lA, uA, verbose\u001b[39m=\u001b[39mverbose, \u001b[39m*\u001b[39m\u001b[39m*\u001b[39msolver_opts)\n\u001b[1;32m    103\u001b[0m     \u001b[39mexcept\u001b[39;00m \u001b[39mValueError\u001b[39;00m \u001b[39mas\u001b[39;00m e:\n\u001b[0;32m--> 104\u001b[0m         \u001b[39mraise\u001b[39;00m SolverError(e)\n\u001b[1;32m    106\u001b[0m results \u001b[39m=\u001b[39m solver\u001b[39m.\u001b[39msolve()\n\u001b[1;32m    108\u001b[0m \u001b[39mif\u001b[39;00m solver_cache \u001b[39mis\u001b[39;00m \u001b[39mnot\u001b[39;00m \u001b[39mNone\u001b[39;00m:\n",
      "\u001b[0;31mSolverError\u001b[0m: Workspace allocation error!"
     ]
    }
   ],
   "source": [
    "constraint_1 = 0\n",
    "\n",
    "for j in range(len_j):\n",
    "    for h in range(len_h):\n",
    "        for i in range(len_I_h):\n",
    "            for u in range(len_u):\n",
    "                constraint_1 += lambda_h_i[h, i] * M[h][i, u]\n",
    "\n",
    "    for l in range(len_l):\n",
    "        constraint_1 += (-2) * lambda_j_l[j, l] * y_L[j][0, l]\n",
    "\n",
    "    for s in range(len_s):\n",
    "        constraint_1 += eta_j_s[j, s] - eta_hat_j_s[j, s]\n",
    "\n",
    "# display(constraint_1)\n",
    "\n",
    "\n",
    "C_1, C_2 = 2.5, 2.5\n",
    "\n",
    "objective = cp.Maximize(obj_func)\n",
    "\n",
    "constraints = [\n",
    "    constraint_1 == 0,\n",
    "    lambda_j_l >=0,\n",
    "    lambda_j_l <= C_1,\n",
    "    lambda_h_i >= 0,\n",
    "    lambda_h_i <= C_2,\n",
    "    eta_j_s >=0,\n",
    "    eta_hat_j_s >= 0\n",
    "]\n",
    "\n",
    "\n",
    "problem = cp.Problem(objective, constraints)\n",
    "result = problem.solve()\n",
    "print(result)"
   ]
  },
  {
   "cell_type": "code",
   "execution_count": 81,
   "metadata": {},
   "outputs": [
    {
     "data": {
      "text/plain": [
       "(None, None, None, None)"
      ]
     },
     "execution_count": 81,
     "metadata": {},
     "output_type": "execute_result"
    }
   ],
   "source": [
    "lambda_h_i.value, lambda_j_l.value, eta_hat_j_s.value, eta_j_s.value"
   ]
  },
  {
   "cell_type": "code",
   "execution_count": null,
   "metadata": {},
   "outputs": [],
   "source": []
  },
  {
   "cell_type": "code",
   "execution_count": 50,
   "metadata": {},
   "outputs": [
    {
     "data": {
      "text/plain": [
       "['CLARABEL',\n",
       " 'ECOS',\n",
       " 'CVXOPT',\n",
       " 'GLOP',\n",
       " 'GLPK',\n",
       " 'GLPK_MI',\n",
       " 'SCS',\n",
       " 'SDPA',\n",
       " 'GUROBI',\n",
       " 'OSQP',\n",
       " 'CPLEX',\n",
       " 'MOSEK',\n",
       " 'CBC',\n",
       " 'COPT',\n",
       " 'XPRESS',\n",
       " 'PROXQP',\n",
       " 'NAG',\n",
       " 'PDLP',\n",
       " 'SCIP',\n",
       " 'SCIPY']"
      ]
     },
     "execution_count": 50,
     "metadata": {},
     "output_type": "execute_result"
    }
   ],
   "source": [
    "cp.settings.SOLVERS"
   ]
  },
  {
   "cell_type": "code",
   "execution_count": null,
   "metadata": {},
   "outputs": [],
   "source": []
  },
  {
   "cell_type": "code",
   "execution_count": null,
   "metadata": {},
   "outputs": [],
   "source": []
  },
  {
   "cell_type": "code",
   "execution_count": 93,
   "metadata": {},
   "outputs": [
    {
     "ename": "ValueError",
     "evalue": "could not broadcast input array from shape (3,4) into shape (2,4)",
     "output_type": "error",
     "traceback": [
      "\u001b[0;31m---------------------------------------------------------------------------\u001b[0m",
      "\u001b[0;31mValueError\u001b[0m                                Traceback (most recent call last)",
      "\u001b[1;32m/home/onoue/ws/lukasiewicz/expts copy.ipynb セル 30\u001b[0m line \u001b[0;36m1\n\u001b[1;32m     <a href='vscode-notebook-cell:/home/onoue/ws/lukasiewicz/expts%20copy.ipynb#Y205sZmlsZQ%3D%3D?line=13'>14</a>\u001b[0m S \u001b[39m=\u001b[39m np\u001b[39m.\u001b[39mzeros((\u001b[39m2\u001b[39m, \u001b[39mlen\u001b[39m(L1) \u001b[39m+\u001b[39m \u001b[39mlen\u001b[39m(U), t))\n\u001b[1;32m     <a href='vscode-notebook-cell:/home/onoue/ws/lukasiewicz/expts%20copy.ipynb#Y205sZmlsZQ%3D%3D?line=15'>16</a>\u001b[0m \u001b[39mfor\u001b[39;00m i, L_i \u001b[39min\u001b[39;00m \u001b[39menumerate\u001b[39m([L1, L2, L3]):\n\u001b[0;32m---> <a href='vscode-notebook-cell:/home/onoue/ws/lukasiewicz/expts%20copy.ipynb#Y205sZmlsZQ%3D%3D?line=16'>17</a>\u001b[0m     L[:, :, i] \u001b[39m=\u001b[39m np\u001b[39m.\u001b[39marray(L_i)\u001b[39m.\u001b[39mT\n\u001b[1;32m     <a href='vscode-notebook-cell:/home/onoue/ws/lukasiewicz/expts%20copy.ipynb#Y205sZmlsZQ%3D%3D?line=17'>18</a>\u001b[0m     \u001b[39m# if v != 0:\u001b[39;00m\n\u001b[1;32m     <a href='vscode-notebook-cell:/home/onoue/ws/lukasiewicz/expts%20copy.ipynb#Y205sZmlsZQ%3D%3D?line=18'>19</a>\u001b[0m     \u001b[39m#     S[:, :, i] = np.hstack((L[:, :, i], np.array(U).T))\u001b[39;00m\n\u001b[1;32m     <a href='vscode-notebook-cell:/home/onoue/ws/lukasiewicz/expts%20copy.ipynb#Y205sZmlsZQ%3D%3D?line=19'>20</a>\u001b[0m     \u001b[39m# else:\u001b[39;00m\n\u001b[1;32m     <a href='vscode-notebook-cell:/home/onoue/ws/lukasiewicz/expts%20copy.ipynb#Y205sZmlsZQ%3D%3D?line=20'>21</a>\u001b[0m     \u001b[39m#     S[:, :, i] = L[:, :, i]\u001b[39;00m\n",
      "\u001b[0;31mValueError\u001b[0m: could not broadcast input array from shape (3,4) into shape (2,4)"
     ]
    }
   ],
   "source": [
    "# Define the data\n",
    "t = 3  # number of tasks\n",
    "v = 2  # number of logical constraints considered\n",
    "ns = 0  # number of pointwise constraints\n",
    "\n",
    "# Define L1, L2, L3, and U as lists of tuples\n",
    "L1 = [(0.1, 0.5, -1), (0.4, 0.4, -1), (0.3, 0.8, 1), (0.9, 0.7, 1)]\n",
    "L2 = [(0.1, 0.3, -1), (0.6, 0.4, -1), (0.2, 0.8, 1), (0.7, 0.6, 1)]\n",
    "L3 = [(0.4, 0.2, -1), (0.9, 0.3, -1), (0.2, 0.6, 1), (0.5, 0.7, 1)]\n",
    "U = [(0.1, 0.5), (0.3, 0.7), (0.5, 0.4), (0.8, 0.3), (0.9, 0.2), (1, 0.5)]\n",
    "\n",
    "# Create numpy arrays for L and S\n",
    "L = np.zeros((2, len(L1), t))\n",
    "S = np.zeros((2, len(L1) + len(U), t))\n",
    "\n",
    "for i, L_i in enumerate([L1, L2, L3]):\n",
    "    L[:, :, i] = np.array(L_i).T\n",
    "    # if v != 0:\n",
    "    #     S[:, :, i] = np.hstack((L[:, :, i], np.array(U).T))\n",
    "    # else:\n",
    "    #     S[:, :, i] = L[:, :, i]"
   ]
  },
  {
   "cell_type": "code",
   "execution_count": 89,
   "metadata": {},
   "outputs": [
    {
     "ename": "ValueError",
     "evalue": "could not broadcast input array from shape (3,4) into shape (2,4)",
     "output_type": "error",
     "traceback": [
      "\u001b[0;31m---------------------------------------------------------------------------\u001b[0m",
      "\u001b[0;31mValueError\u001b[0m                                Traceback (most recent call last)",
      "\u001b[1;32m/home/onoue/ws/lukasiewicz/expts copy.ipynb セル 31\u001b[0m line \u001b[0;36m2\n\u001b[1;32m     <a href='vscode-notebook-cell:/home/onoue/ws/lukasiewicz/expts%20copy.ipynb#Y206sZmlsZQ%3D%3D?line=18'>19</a>\u001b[0m S \u001b[39m=\u001b[39m np\u001b[39m.\u001b[39mzeros((\u001b[39m2\u001b[39m, \u001b[39mlen\u001b[39m(L1) \u001b[39m+\u001b[39m \u001b[39mlen\u001b[39m(U), t))\n\u001b[1;32m     <a href='vscode-notebook-cell:/home/onoue/ws/lukasiewicz/expts%20copy.ipynb#Y206sZmlsZQ%3D%3D?line=20'>21</a>\u001b[0m \u001b[39mfor\u001b[39;00m i, L_i \u001b[39min\u001b[39;00m \u001b[39menumerate\u001b[39m([L1, L2, L3]):\n\u001b[0;32m---> <a href='vscode-notebook-cell:/home/onoue/ws/lukasiewicz/expts%20copy.ipynb#Y206sZmlsZQ%3D%3D?line=21'>22</a>\u001b[0m     L[:, :, i] \u001b[39m=\u001b[39m np\u001b[39m.\u001b[39marray(L_i)\u001b[39m.\u001b[39mT\n\u001b[1;32m     <a href='vscode-notebook-cell:/home/onoue/ws/lukasiewicz/expts%20copy.ipynb#Y206sZmlsZQ%3D%3D?line=22'>23</a>\u001b[0m     \u001b[39mif\u001b[39;00m v \u001b[39m!=\u001b[39m \u001b[39m0\u001b[39m:\n\u001b[1;32m     <a href='vscode-notebook-cell:/home/onoue/ws/lukasiewicz/expts%20copy.ipynb#Y206sZmlsZQ%3D%3D?line=23'>24</a>\u001b[0m         S[:, :, i] \u001b[39m=\u001b[39m np\u001b[39m.\u001b[39mhstack((L[:, :, i], np\u001b[39m.\u001b[39marray(U)\u001b[39m.\u001b[39mT))\n",
      "\u001b[0;31mValueError\u001b[0m: could not broadcast input array from shape (3,4) into shape (2,4)"
     ]
    }
   ],
   "source": [
    "\n",
    "l = np.zeros(t)\n",
    "ns = 0\n",
    "s = np.zeros(t)\n",
    "\n",
    "for i in range(t):\n",
    "    if v != 0:\n",
    "        u = len(U)\n",
    "    else:\n",
    "        u = 0\n",
    "    l[i] = L.shape[1]\n",
    "    ns += l[i]\n",
    "    s[i] = S.shape[1]\n",
    "\n",
    "c1 = 2.5  # degree of satisfaction for pointwise slacks\n",
    "c2 = 2.5  # degree of satisfaction for logical slacks\n",
    "\n",
    "lb = np.zeros(3 * t + ns + v)\n",
    "ub = np.zeros(3 * t + ns + v)\n",
    "\n",
    "for i in range(3 * t):\n",
    "    lb[i] = -100000\n",
    "    ub[i] = 100000\n",
    "\n",
    "for i in range(3 * t, 3 * t + ns + v):\n",
    "    lb[i] = 0\n",
    "    ub[i] = 100000\n",
    "\n",
    "H = np.zeros((3 * t + ns + v, 3 * t + ns + v))\n",
    "\n",
    "for i in range(3 * t):\n",
    "    if i % 3 != 0:\n",
    "        H[i, i] = 1\n",
    "\n",
    "f = np.zeros(3 * t + ns + v)\n",
    "\n",
    "for i in range(3 * t, 3 * t + ns):\n",
    "    f[i] = c1\n",
    "\n",
    "for i in range(3 * t + ns, 3 * t + ns + v):\n",
    "    f[i] = c2\n",
    "\n",
    "A = np.zeros((0, 3 * t + ns + v))\n",
    "b = np.zeros(0)\n",
    "count = 0\n",
    "\n",
    "# POINTWISE CONSTRAINTS\n",
    "\n",
    "for i in range(t):\n",
    "    k = 3 * i\n",
    "    for j in range(int(l[i])):\n",
    "        A_j = np.zeros(3 * t + ns + v)\n",
    "        A_j[k] = -2 * L[0, j, i] * L[2, j, i]\n",
    "        A_j[k + 1] = -2 * L[1, j, i] * L[2, j, i]\n",
    "        A_j[k + 2] = -2 * L[2, j, i]\n",
    "        A_j[count + j + 3 * t] = -2\n",
    "        b = np.append(b, -1 - L[2, j, i])\n",
    "        A = np.vstack((A, A_j))\n",
    "    count += int(l[i])\n",
    "\n",
    "# CONCISTENCY CONSTRAINTS\n",
    "\n",
    "if v > 0:\n",
    "    for i in range(t):\n",
    "        k = 3 * i\n",
    "        for j in range(int(s[i])):\n",
    "            A_j = np.zeros(3 * t + ns + v)\n",
    "            A_j[k] = S[0, j, i]\n",
    "            A_j[k + 1] = S[1, j, i]\n",
    "            A_j[k + 2] = 1\n",
    "            b = np.append(b, 1)\n",
    "            A_j_s = np.zeros(3 * t + ns + v)\n",
    "            A_j_s[k] = -S[0, j, i]\n",
    "            A_j_s[k + 1] = -S[1, j, i]\n",
    "            A_j_s[k + 2] = -1\n",
    "            b = np.append(b, 0)\n",
    "            A = np.vstack((A, A_j, A_j_s))\n",
    "        count += 2 * int(s[i])\n",
    "\n",
    "# LOGICAL CONSTRAINTS\n",
    "\n",
    "if v > 0:\n",
    "    for i in range(2):\n",
    "        k = 3 * i\n",
    "        for j in range(u):\n",
    "            A_j = np.zeros(3 * t + ns + v)\n",
    "            A_j[k] = U[j][0]\n",
    "            A_j[k + 1] = U[j][1]\n",
    "            A_j[k + 2] = 1\n",
    "            A_j[k + 3] = -U[j][0]\n",
    "            A_j[k + 4] = -U[j][1]\n",
    "            A_j[k + 5] = -1\n",
    "            A_j[3 * t + ns + i] = -1\n",
    "            b = np.append(b, 0)\n",
    "            A = np.vstack((A, A_j))\n",
    "\n",
    "# OPTIMAL SOLUTION\n",
    "x = cp.Variable(3 * t + ns + v)\n",
    "objective = cp.Minimize(0.5 * cp.quad_form(x, H) + f @ x)\n",
    "constraints = [A @ x <= b]\n",
    "problem = cp.Problem(objective, constraints)\n",
    "problem.solve()\n",
    "\n",
    "print(\"Optimal solution:\")\n",
    "print(x.value)\n"
   ]
  },
  {
   "cell_type": "code",
   "execution_count": null,
   "metadata": {},
   "outputs": [],
   "source": []
  },
  {
   "cell_type": "code",
   "execution_count": null,
   "metadata": {},
   "outputs": [],
   "source": []
  }
 ],
 "metadata": {
  "kernelspec": {
   "display_name": "myenv",
   "language": "python",
   "name": "python3"
  },
  "language_info": {
   "codemirror_mode": {
    "name": "ipython",
    "version": 3
   },
   "file_extension": ".py",
   "mimetype": "text/x-python",
   "name": "python",
   "nbconvert_exporter": "python",
   "pygments_lexer": "ipython3",
   "version": "3.10.12"
  },
  "orig_nbformat": 4
 },
 "nbformat": 4,
 "nbformat_minor": 2
}
